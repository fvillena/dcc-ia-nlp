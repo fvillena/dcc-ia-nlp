{
  "nbformat": 4,
  "nbformat_minor": 0,
  "metadata": {
    "colab": {
      "name": "Copia de 1-introduction.ipynb",
      "provenance": [],
      "toc_visible": true,
      "authorship_tag": "ABX9TyOnXyOi4pOIYrhR1hnNupBG",
      "include_colab_link": true
    },
    "kernelspec": {
      "name": "python3",
      "display_name": "Python 3"
    }
  },
  "cells": [
    {
      "cell_type": "markdown",
      "metadata": {
        "id": "view-in-github",
        "colab_type": "text"
      },
      "source": [
        "<a href=\"https://colab.research.google.com/github/fvillena/dcc-ia-nlp/blob/master/1-introduction-sol.ipynb\" target=\"_parent\"><img src=\"https://colab.research.google.com/assets/colab-badge.svg\" alt=\"Open In Colab\"/></a>"
      ]
    },
    {
      "cell_type": "markdown",
      "metadata": {
        "id": "BQqLxqHQq-GN"
      },
      "source": [
        "# Introducción"
      ]
    },
    {
      "cell_type": "markdown",
      "metadata": {
        "id": "Lexwob8PrGvc"
      },
      "source": [
        "Descargamos los datos necesarios para las actividades"
      ]
    },
    {
      "cell_type": "code",
      "metadata": {
        "id": "hF7EbQTkqeBU",
        "outputId": "bdd9a6dc-3cb2-4c66-e2fc-d7f2182247d1",
        "colab": {
          "base_uri": "https://localhost:8080/"
        }
      },
      "source": [
        "!wget https://raw.githubusercontent.com/fvillena/dcc-ia-nlp/master/data/rae.txt\n",
        "!wget https://raw.githubusercontent.com/fvillena/dcc-ia-nlp/master/data/pacientesA.txt\n",
        "!wget https://raw.githubusercontent.com/fvillena/dcc-ia-nlp/master/data/pacientesB.txt\n",
        "!wget https://raw.githubusercontent.com/fvillena/dcc-ia-nlp/master/data/proveedoresA.txt\n",
        "!wget https://raw.githubusercontent.com/fvillena/dcc-ia-nlp/master/data/access.log"
      ],
      "execution_count": 1,
      "outputs": [
        {
          "output_type": "stream",
          "text": [
            "--2020-11-03 02:26:01--  https://raw.githubusercontent.com/fvillena/dcc-ia-nlp/master/data/rae.txt\n",
            "Resolving raw.githubusercontent.com (raw.githubusercontent.com)... 151.101.0.133, 151.101.64.133, 151.101.128.133, ...\n",
            "Connecting to raw.githubusercontent.com (raw.githubusercontent.com)|151.101.0.133|:443... connected.\n",
            "HTTP request sent, awaiting response... 200 OK\n",
            "Length: 145 [text/plain]\n",
            "Saving to: ‘rae.txt’\n",
            "\n",
            "\rrae.txt               0%[                    ]       0  --.-KB/s               \rrae.txt             100%[===================>]     145  --.-KB/s    in 0s      \n",
            "\n",
            "2020-11-03 02:26:02 (6.76 MB/s) - ‘rae.txt’ saved [145/145]\n",
            "\n",
            "--2020-11-03 02:26:02--  https://raw.githubusercontent.com/fvillena/dcc-ia-nlp/master/data/pacientesA.txt\n",
            "Resolving raw.githubusercontent.com (raw.githubusercontent.com)... 151.101.0.133, 151.101.64.133, 151.101.128.133, ...\n",
            "Connecting to raw.githubusercontent.com (raw.githubusercontent.com)|151.101.0.133|:443... connected.\n",
            "HTTP request sent, awaiting response... 200 OK\n",
            "Length: 33 [text/plain]\n",
            "Saving to: ‘pacientesA.txt’\n",
            "\n",
            "pacientesA.txt      100%[===================>]      33  --.-KB/s    in 0s      \n",
            "\n",
            "2020-11-03 02:26:02 (1.81 MB/s) - ‘pacientesA.txt’ saved [33/33]\n",
            "\n",
            "--2020-11-03 02:26:02--  https://raw.githubusercontent.com/fvillena/dcc-ia-nlp/master/data/pacientesB.txt\n",
            "Resolving raw.githubusercontent.com (raw.githubusercontent.com)... 151.101.0.133, 151.101.64.133, 151.101.128.133, ...\n",
            "Connecting to raw.githubusercontent.com (raw.githubusercontent.com)|151.101.0.133|:443... connected.\n",
            "HTTP request sent, awaiting response... 200 OK\n",
            "Length: 47 [text/plain]\n",
            "Saving to: ‘pacientesB.txt’\n",
            "\n",
            "pacientesB.txt      100%[===================>]      47  --.-KB/s    in 0s      \n",
            "\n",
            "2020-11-03 02:26:02 (2.74 MB/s) - ‘pacientesB.txt’ saved [47/47]\n",
            "\n",
            "--2020-11-03 02:26:02--  https://raw.githubusercontent.com/fvillena/dcc-ia-nlp/master/data/proveedoresA.txt\n",
            "Resolving raw.githubusercontent.com (raw.githubusercontent.com)... 151.101.0.133, 151.101.64.133, 151.101.128.133, ...\n",
            "Connecting to raw.githubusercontent.com (raw.githubusercontent.com)|151.101.0.133|:443... connected.\n",
            "HTTP request sent, awaiting response... 200 OK\n",
            "Length: 118 [text/plain]\n",
            "Saving to: ‘proveedoresA.txt’\n",
            "\n",
            "proveedoresA.txt    100%[===================>]     118  --.-KB/s    in 0s      \n",
            "\n",
            "2020-11-03 02:26:02 (7.12 MB/s) - ‘proveedoresA.txt’ saved [118/118]\n",
            "\n",
            "--2020-11-03 02:26:02--  https://raw.githubusercontent.com/fvillena/dcc-ia-nlp/master/data/access.log\n",
            "Resolving raw.githubusercontent.com (raw.githubusercontent.com)... 151.101.0.133, 151.101.64.133, 151.101.128.133, ...\n",
            "Connecting to raw.githubusercontent.com (raw.githubusercontent.com)|151.101.0.133|:443... connected.\n",
            "HTTP request sent, awaiting response... 200 OK\n",
            "Length: 6032 (5.9K) [text/plain]\n",
            "Saving to: ‘access.log’\n",
            "\n",
            "access.log          100%[===================>]   5.89K  --.-KB/s    in 0s      \n",
            "\n",
            "2020-11-03 02:26:02 (73.2 MB/s) - ‘access.log’ saved [6032/6032]\n",
            "\n"
          ],
          "name": "stdout"
        }
      ]
    },
    {
      "cell_type": "markdown",
      "metadata": {
        "id": "EDDUUTUtrN3E"
      },
      "source": [
        "## Actividad 1: RAE\n",
        "\n",
        "Desde el archivo rae.txt almacene la palabra y sus significados en una lista y en un diccionario. Implemente una función que dada una palabra retorne los significados. Compare los tiempos de respuesta al realizar la búsqueda sobre la lista y el diccionario."
      ]
    },
    {
      "cell_type": "code",
      "metadata": {
        "id": "YHVlNzZUsJZH"
      },
      "source": [
        "# Así leemos archivos de texto\n",
        "rae_list = []\n",
        "rae_dict = {}\n",
        "with open(\"rae.txt\", \"r\") as f:\n",
        "  for raw_line in f:\n",
        "    line = raw_line.rstrip() # el método String.rstrip() elimina caracteres innecesarios al final del string.\n",
        "    entry = line.split(\"\\t\")\n",
        "    rae_list.append(entry)\n",
        "    rae_dict[entry[0]] = entry[1:]"
      ],
      "execution_count": 2,
      "outputs": []
    },
    {
      "cell_type": "code",
      "metadata": {
        "id": "y7t3o2k6siKG"
      },
      "source": [
        "# Prográmame\n",
        "def definitions_from_rae_list(word):\n",
        "  for entry in rae_list:\n",
        "    if entry[0] == word:\n",
        "      return entry[1:]\n",
        "      break\n",
        "  raise Exception(\"word not found\")\n",
        "def definitions_from_rae_dict(word):\n",
        "  try:\n",
        "    return rae_dict[word]\n",
        "  except KeyError:\n",
        "    raise Exception(\"word not found\")"
      ],
      "execution_count": 3,
      "outputs": []
    },
    {
      "cell_type": "code",
      "metadata": {
        "id": "zOSqmazJtILk",
        "outputId": "a20f2f93-bdd3-4bd7-db3c-7e74d3810f5a",
        "colab": {
          "base_uri": "https://localhost:8080/"
        }
      },
      "source": [
        "print(definitions_from_rae_list(\"lapiz\"))\n",
        "print(definitions_from_rae_dict(\"sacapunta\"))"
      ],
      "execution_count": 4,
      "outputs": [
        {
          "output_type": "stream",
          "text": [
            "['elemento para escribir', 'elemento para dibujar']\n",
            "['elemento para sacarpunta', 'arma de ataque']\n"
          ],
          "name": "stdout"
        }
      ]
    },
    {
      "cell_type": "markdown",
      "metadata": {
        "id": "lGrcItr8tfEn"
      },
      "source": [
        "Programe una función que dado un archivo de texto, una palabra y un par de definiciones, el archivo de texto sea actualizado agregando la palabra y definiciones nuevas."
      ]
    },
    {
      "cell_type": "code",
      "metadata": {
        "id": "GRtZOGygtsW7"
      },
      "source": [
        "# Prográmame\n",
        "def update_rae(rae_file,word,definitions):\n",
        "  entry = [word] + definitions\n",
        "  line = \"\\t\".join(entry)\n",
        "  with open(rae_file, \"a\") as f:\n",
        "    f.write(line)"
      ],
      "execution_count": 5,
      "outputs": []
    },
    {
      "cell_type": "code",
      "metadata": {
        "id": "Pe3kST4_t4Av"
      },
      "source": [
        "update_rae(\"rae.txt\",\"estuche\",[\"envoltura para guardar ordenadamente un objeto o varios\",\"envoltura que reviste y protege algo\"])"
      ],
      "execution_count": 6,
      "outputs": []
    },
    {
      "cell_type": "markdown",
      "metadata": {
        "id": "fxCGm0kNuUJk"
      },
      "source": [
        "## Actividad 2: Combinar archivos\n",
        "\n",
        "Suponga que se tienen dos lista de pacientesA.txt y pacientesB.txt en un formato csv (nombre,rut).\n",
        "Implemente un programa que cree un archivos con todos los pacientes, imprima el total de pacientes en A, B y la suma total."
      ]
    },
    {
      "cell_type": "code",
      "metadata": {
        "id": "EmBfTgzFuPWA"
      },
      "source": [
        "# Prográmame\n",
        "def combine_patient_lists(patient_lists,combined_list):\n",
        "  data = {}\n",
        "  for patient_list_file in patient_lists:\n",
        "    patient_list = []\n",
        "    with open(patient_list_file) as f:\n",
        "      for line in f:\n",
        "        patient = line.rstrip().split(\",\")\n",
        "        patient_list.append(patient)\n",
        "    data[patient_list_file] = patient_list\n",
        "  patients_total = 0\n",
        "  with open(combined_list,\"w\") as f:\n",
        "    for file_name,patients in data.items():\n",
        "      print(f\"Pacientes en {file_name}: {str(len(patients))}\")\n",
        "      for patient in patients:\n",
        "        f.write(\",\".join(patient) + \"\\n\")\n",
        "        patients_total += 1\n",
        "  print(f\"Total de pacientes: {patients_total}\")"
      ],
      "execution_count": 7,
      "outputs": []
    },
    {
      "cell_type": "code",
      "metadata": {
        "id": "Ne-mY0bdu6jD",
        "outputId": "4ba89c1b-bfe2-40f3-9e0b-fca2c701cfd0",
        "colab": {
          "base_uri": "https://localhost:8080/"
        }
      },
      "source": [
        "combine_patient_lists([\"pacientesA.txt\",\"pacientesB.txt\"],\"pacientesAB.txt\")"
      ],
      "execution_count": 8,
      "outputs": [
        {
          "output_type": "stream",
          "text": [
            "Pacientes en pacientesA.txt: 3\n",
            "Pacientes en pacientesB.txt: 4\n",
            "Total de pacientes: 7\n"
          ],
          "name": "stdout"
        }
      ]
    },
    {
      "cell_type": "markdown",
      "metadata": {
        "id": "i_uq-g5pvt2M"
      },
      "source": [
        "## Actividad 3: Fármacos\n",
        "\n",
        "Desde el archivo proveedoresA.txt cree una función que lea cada linea y extraiga la información contenida en 5 grupos.\n",
        "\n",
        "El formato de cada linea es el siguiente:\n",
        "\n",
        "`PFZ-000000000001-001,Aspirinas 50 mg en paquetes de 25,800`"
      ]
    },
    {
      "cell_type": "code",
      "metadata": {
        "id": "Y8CKZfJBwRjJ"
      },
      "source": [
        "# Prográmame\n",
        "import re\n",
        "def parse_medication_list(medication_list):\n",
        "  pattern = r\"([A-Z]{3})-(\\d{12})-(\\d{3}),(.*),(\\d+)\"\n",
        "  with open(medication_list) as f:\n",
        "    for line in f:\n",
        "      line = line.rstrip()\n",
        "      match = re.search(pattern, line)\n",
        "      medication = [group for group in match.groups()]\n",
        "      print(medication)"
      ],
      "execution_count": 15,
      "outputs": []
    },
    {
      "cell_type": "code",
      "metadata": {
        "id": "3zY9x2KUwgM_",
        "outputId": "6f21a3b9-a1c1-4fc5-86e2-847c7028d8c9",
        "colab": {
          "base_uri": "https://localhost:8080/"
        }
      },
      "source": [
        "parse_medication_list(\"proveedoresA.txt\")"
      ],
      "execution_count": 16,
      "outputs": [
        {
          "output_type": "stream",
          "text": [
            "['PFZ', '000000000001', '001', 'Aspirinas 50 mg en paquetes de 25', '800']\n",
            "['PFZ', '000000000001', '001', 'Aspirinas 50 mg en paquetes de 25', '2000']\n"
          ],
          "name": "stdout"
        }
      ]
    },
    {
      "cell_type": "markdown",
      "metadata": {
        "id": "bYSNEdRrcwdm"
      },
      "source": [
        "## Actividad 4: Registro de acceso\n",
        "\n",
        "Para el archivo adjunto access.log extraiga los IP desde donde se generan las visitas usando expresiones regulares en python. Con estas IP genere un archivo .txt, donde cada IP esta en una linea aparte. \n",
        "Con la lista de IP generada visualice en un mapa desde donde vienes las peticiones usando el sitio web https://www.showmyip.com/bulk-ip-lookup/, ¿cuántas visitas se originan desde rusia/ucrania/china/brasil?\n",
        "\n",
        "HINT: Para diseñar su expresión regular puede utilizar https://regexr.com/ (u otro sitio de su preferencia)."
      ]
    },
    {
      "cell_type": "code",
      "metadata": {
        "id": "Pyzv6ExRwkNi"
      },
      "source": [
        "# Prográmame\n",
        "def ip_addresses_from_access_log(access_log,ip_addresses_file):\n",
        "  with open(access_log) as f:\n",
        "    pattern = r\".* (\\d+\\.\\d+\\.\\d+\\.\\d+).*\"\n",
        "    with open(ip_addresses_file,\"w\") as g:\n",
        "      for line in f:\n",
        "        line = line.rstrip()\n",
        "        match = re.search(pattern, line)\n",
        "        ip = match.group(1)\n",
        "        g.write(f\"{ip}\\n\")"
      ],
      "execution_count": 23,
      "outputs": []
    },
    {
      "cell_type": "code",
      "metadata": {
        "id": "uS65nC8jdgOM"
      },
      "source": [
        "ip_addresses_from_access_log(\"access.log\",\"ip_addresses.txt\")"
      ],
      "execution_count": 24,
      "outputs": []
    },
    {
      "cell_type": "code",
      "metadata": {
        "id": "txkHP1ardjqX"
      },
      "source": [
        ""
      ],
      "execution_count": null,
      "outputs": []
    }
  ]
}