{
  "nbformat": 4,
  "nbformat_minor": 0,
  "metadata": {
    "colab": {
      "name": "1-introduction.ipynb",
      "provenance": [],
      "authorship_tag": "ABX9TyNiFE6+NqU8KuWwIutaej6s",
      "include_colab_link": true
    },
    "kernelspec": {
      "name": "python3",
      "display_name": "Python 3"
    }
  },
  "cells": [
    {
      "cell_type": "markdown",
      "metadata": {
        "id": "view-in-github",
        "colab_type": "text"
      },
      "source": [
        "<a href=\"https://colab.research.google.com/github/fvillena/dcc-ia-nlp/blob/master/1-introduction.sol.ipynb\" target=\"_parent\"><img src=\"https://colab.research.google.com/assets/colab-badge.svg\" alt=\"Open In Colab\"/></a>"
      ]
    },
    {
      "cell_type": "markdown",
      "metadata": {
        "id": "BQqLxqHQq-GN"
      },
      "source": [
        "# Introducción"
      ]
    },
    {
      "cell_type": "markdown",
      "metadata": {
        "id": "H83KqYty7Isi"
      },
      "source": [
        "Estas son las bibliotecas y módulos necesarios."
      ]
    },
    {
      "cell_type": "code",
      "metadata": {
        "id": "21BbHj_N7G0D"
      },
      "source": [
        "import pandas as pd\n",
        "import re"
      ],
      "execution_count": 1,
      "outputs": []
    },
    {
      "cell_type": "markdown",
      "metadata": {
        "id": "Lexwob8PrGvc"
      },
      "source": [
        "Descargamos los datos necesarios para las actividades"
      ]
    },
    {
      "cell_type": "code",
      "metadata": {
        "id": "hF7EbQTkqeBU",
        "colab": {
          "base_uri": "https://localhost:8080/"
        },
        "outputId": "3593e2d7-92c0-4f9d-ce07-fd07c1febb2b"
      },
      "source": [
        "!wget https://raw.githubusercontent.com/fvillena/dcc-ia-nlp/master/data/aysen_corto.csv\n",
        "!wget https://raw.githubusercontent.com/fvillena/dcc-ia-nlp/master/data/proveedoresA.txt\n",
        "!wget https://raw.githubusercontent.com/fvillena/dcc-ia-nlp/master/data/other_vhosts_access.log"
      ],
      "execution_count": 2,
      "outputs": [
        {
          "output_type": "stream",
          "name": "stdout",
          "text": [
            "--2021-11-16 00:11:30--  https://raw.githubusercontent.com/fvillena/dcc-ia-nlp/master/data/aysen_corto.csv\n",
            "Resolving raw.githubusercontent.com (raw.githubusercontent.com)... 185.199.108.133, 185.199.109.133, 185.199.110.133, ...\n",
            "Connecting to raw.githubusercontent.com (raw.githubusercontent.com)|185.199.108.133|:443... connected.\n",
            "HTTP request sent, awaiting response... 200 OK\n",
            "Length: 4501 (4.4K) [text/plain]\n",
            "Saving to: ‘aysen_corto.csv.1’\n",
            "\n",
            "\raysen_corto.csv.1     0%[                    ]       0  --.-KB/s               \raysen_corto.csv.1   100%[===================>]   4.40K  --.-KB/s    in 0s      \n",
            "\n",
            "2021-11-16 00:11:30 (34.7 MB/s) - ‘aysen_corto.csv.1’ saved [4501/4501]\n",
            "\n",
            "--2021-11-16 00:11:30--  https://raw.githubusercontent.com/fvillena/dcc-ia-nlp/master/data/proveedoresA.txt\n",
            "Resolving raw.githubusercontent.com (raw.githubusercontent.com)... 185.199.108.133, 185.199.109.133, 185.199.110.133, ...\n",
            "Connecting to raw.githubusercontent.com (raw.githubusercontent.com)|185.199.108.133|:443... connected.\n",
            "HTTP request sent, awaiting response... 200 OK\n",
            "Length: 5946 (5.8K) [text/plain]\n",
            "Saving to: ‘proveedoresA.txt.1’\n",
            "\n",
            "proveedoresA.txt.1  100%[===================>]   5.81K  --.-KB/s    in 0s      \n",
            "\n",
            "2021-11-16 00:11:30 (30.3 MB/s) - ‘proveedoresA.txt.1’ saved [5946/5946]\n",
            "\n",
            "--2021-11-16 00:11:30--  https://raw.githubusercontent.com/fvillena/dcc-ia-nlp/master/data/other_vhosts_access.log\n",
            "Resolving raw.githubusercontent.com (raw.githubusercontent.com)... 185.199.108.133, 185.199.109.133, 185.199.110.133, ...\n",
            "Connecting to raw.githubusercontent.com (raw.githubusercontent.com)|185.199.108.133|:443... connected.\n",
            "HTTP request sent, awaiting response... 200 OK\n",
            "Length: 6032 (5.9K) [text/plain]\n",
            "Saving to: ‘other_vhosts_access.log.1’\n",
            "\n",
            "other_vhosts_access 100%[===================>]   5.89K  --.-KB/s    in 0s      \n",
            "\n",
            "2021-11-16 00:11:30 (49.9 MB/s) - ‘other_vhosts_access.log.1’ saved [6032/6032]\n",
            "\n"
          ]
        }
      ]
    },
    {
      "cell_type": "markdown",
      "metadata": {
        "id": "EDDUUTUtrN3E"
      },
      "source": [
        "## Actividad 1: Lectura y parsing\n",
        "\n",
        "1.   Utilizando la biblioteca Pandas, cargue el archivo `aysen_corto.csv` como un dataframe (revise los tipos de datos, cabecera y separador)\n",
        "2.   Mantenga solo las columnas `sexo`, `comuna`, y `prestación`.\n",
        "3.   Realice un conteo de los valores en de las columnas `sexo` y `comuna` y preséntelos en un gráfico.\n",
        "\n"
      ]
    },
    {
      "cell_type": "code",
      "metadata": {
        "id": "YHVlNzZUsJZH"
      },
      "source": [
        "# HINTS:\n",
        "# https://pandas.pydata.org/docs/reference/api/pandas.read_csv.html\n",
        "# https://pandas.pydata.org/docs/reference/api/pandas.DataFrame.plot.html\n",
        "\n",
        "# Prográmame"
      ],
      "execution_count": 3,
      "outputs": []
    },
    {
      "cell_type": "code",
      "metadata": {
        "id": "5lyv2yDdu-GX"
      },
      "source": [
        "aysen_corto = pd.read_csv(\"aysen_corto.csv\", sep=\";\", na_values=[\"Otro\",\"\"])"
      ],
      "execution_count": 4,
      "outputs": []
    },
    {
      "cell_type": "code",
      "metadata": {
        "id": "E-dECYuavHu1",
        "outputId": "0a707100-ad0a-43e0-8af5-e74d2149b230",
        "colab": {
          "base_uri": "https://localhost:8080/",
          "height": 428
        }
      },
      "source": [
        "aysen_corto.head()"
      ],
      "execution_count": 5,
      "outputs": [
        {
          "output_type": "execute_result",
          "data": {
            "text/html": [
              "<div>\n",
              "<style scoped>\n",
              "    .dataframe tbody tr th:only-of-type {\n",
              "        vertical-align: middle;\n",
              "    }\n",
              "\n",
              "    .dataframe tbody tr th {\n",
              "        vertical-align: top;\n",
              "    }\n",
              "\n",
              "    .dataframe thead th {\n",
              "        text-align: right;\n",
              "    }\n",
              "</style>\n",
              "<table border=\"1\" class=\"dataframe\">\n",
              "  <thead>\n",
              "    <tr style=\"text-align: right;\">\n",
              "      <th></th>\n",
              "      <th>FECHA_NAC</th>\n",
              "      <th>SEXO</th>\n",
              "      <th>PRESTA_MIN</th>\n",
              "      <th>PLANO</th>\n",
              "      <th>EXTREMIDAD</th>\n",
              "      <th>PRESTA_EST</th>\n",
              "      <th>F_ENTRADA</th>\n",
              "      <th>ESTAB_ORIG</th>\n",
              "      <th>ESTAB_DEST</th>\n",
              "      <th>F_SALIDA</th>\n",
              "      <th>C_SALIDA</th>\n",
              "      <th>E_OTOR_AT</th>\n",
              "      <th>PRESTA_MIN_SALIDA</th>\n",
              "      <th>REGION</th>\n",
              "      <th>COMUNA</th>\n",
              "      <th>SOSPECHA_DIAG</th>\n",
              "    </tr>\n",
              "  </thead>\n",
              "  <tbody>\n",
              "    <tr>\n",
              "      <th>0</th>\n",
              "      <td>1985</td>\n",
              "      <td>2.0</td>\n",
              "      <td>09-001-0</td>\n",
              "      <td>NaN</td>\n",
              "      <td>NaN</td>\n",
              "      <td>ENDODONCIA</td>\n",
              "      <td>31-12-17</td>\n",
              "      <td>25-301</td>\n",
              "      <td>25-100</td>\n",
              "      <td>NaN</td>\n",
              "      <td>NaN</td>\n",
              "      <td>NaN</td>\n",
              "      <td>NaN</td>\n",
              "      <td>11.0</td>\n",
              "      <td>NaN</td>\n",
              "      <td>Celulitis y absceso de boca</td>\n",
              "    </tr>\n",
              "    <tr>\n",
              "      <th>1</th>\n",
              "      <td>1946</td>\n",
              "      <td>NaN</td>\n",
              "      <td>09-004-0</td>\n",
              "      <td>NaN</td>\n",
              "      <td>NaN</td>\n",
              "      <td>PERIODONCIA</td>\n",
              "      <td>31-12-17</td>\n",
              "      <td>25-301</td>\n",
              "      <td>25-100</td>\n",
              "      <td>NaN</td>\n",
              "      <td>NaN</td>\n",
              "      <td>NaN</td>\n",
              "      <td>NaN</td>\n",
              "      <td>NaN</td>\n",
              "      <td>11101.0</td>\n",
              "      <td>Periodontitis cronica</td>\n",
              "    </tr>\n",
              "    <tr>\n",
              "      <th>2</th>\n",
              "      <td>1937</td>\n",
              "      <td>2.0</td>\n",
              "      <td>09-006-0</td>\n",
              "      <td>NaN</td>\n",
              "      <td>NaN</td>\n",
              "      <td>REHABILITACION: PROTESIS REMOVIBLE</td>\n",
              "      <td>31-12-17</td>\n",
              "      <td>25-301</td>\n",
              "      <td>25-100</td>\n",
              "      <td>2018-01-03 00:00:00</td>\n",
              "      <td>1.0</td>\n",
              "      <td>25-100</td>\n",
              "      <td>09-006-0</td>\n",
              "      <td>11.0</td>\n",
              "      <td>11101.0</td>\n",
              "      <td>Otras afecciones especificadas de los dientes ...</td>\n",
              "    </tr>\n",
              "    <tr>\n",
              "      <th>3</th>\n",
              "      <td>1955</td>\n",
              "      <td>2.0</td>\n",
              "      <td>07-208-0</td>\n",
              "      <td>NaN</td>\n",
              "      <td>NaN</td>\n",
              "      <td>NEUROCIRUGIA</td>\n",
              "      <td>30-12-17</td>\n",
              "      <td>25-300</td>\n",
              "      <td>25-100</td>\n",
              "      <td>NaN</td>\n",
              "      <td>NaN</td>\n",
              "      <td>NaN</td>\n",
              "      <td>NaN</td>\n",
              "      <td>11.0</td>\n",
              "      <td>11101.0</td>\n",
              "      <td>Trastornos de disco lumbar y otros, con radicu...</td>\n",
              "    </tr>\n",
              "    <tr>\n",
              "      <th>4</th>\n",
              "      <td>1997</td>\n",
              "      <td>2.0</td>\n",
              "      <td>09-001-0</td>\n",
              "      <td>NaN</td>\n",
              "      <td>NaN</td>\n",
              "      <td>ENDODONCIA</td>\n",
              "      <td>30-12-17</td>\n",
              "      <td>25-301</td>\n",
              "      <td>25-100</td>\n",
              "      <td>NaN</td>\n",
              "      <td>NaN</td>\n",
              "      <td>NaN</td>\n",
              "      <td>NaN</td>\n",
              "      <td>11.0</td>\n",
              "      <td>11101.0</td>\n",
              "      <td>Celulitis y absceso de boca</td>\n",
              "    </tr>\n",
              "  </tbody>\n",
              "</table>\n",
              "</div>"
            ],
            "text/plain": [
              "   FECHA_NAC  SEXO  ...   COMUNA                                      SOSPECHA_DIAG\n",
              "0       1985   2.0  ...      NaN                        Celulitis y absceso de boca\n",
              "1       1946   NaN  ...  11101.0                              Periodontitis cronica\n",
              "2       1937   2.0  ...  11101.0  Otras afecciones especificadas de los dientes ...\n",
              "3       1955   2.0  ...  11101.0  Trastornos de disco lumbar y otros, con radicu...\n",
              "4       1997   2.0  ...  11101.0                        Celulitis y absceso de boca\n",
              "\n",
              "[5 rows x 16 columns]"
            ]
          },
          "metadata": {},
          "execution_count": 5
        }
      ]
    },
    {
      "cell_type": "code",
      "metadata": {
        "id": "F2VcHGbyvOFK"
      },
      "source": [
        "aysen_corto_subset = aysen_corto[[\"SEXO\",\"COMUNA\",\"PRESTA_MIN\"]]"
      ],
      "execution_count": 6,
      "outputs": []
    },
    {
      "cell_type": "code",
      "metadata": {
        "id": "szU2UnG5vbjG",
        "outputId": "b3b7a54f-6aa6-40ad-880f-9e18e8ee24bd",
        "colab": {
          "base_uri": "https://localhost:8080/",
          "height": 204
        }
      },
      "source": [
        "aysen_corto_subset.head()"
      ],
      "execution_count": 7,
      "outputs": [
        {
          "output_type": "execute_result",
          "data": {
            "text/html": [
              "<div>\n",
              "<style scoped>\n",
              "    .dataframe tbody tr th:only-of-type {\n",
              "        vertical-align: middle;\n",
              "    }\n",
              "\n",
              "    .dataframe tbody tr th {\n",
              "        vertical-align: top;\n",
              "    }\n",
              "\n",
              "    .dataframe thead th {\n",
              "        text-align: right;\n",
              "    }\n",
              "</style>\n",
              "<table border=\"1\" class=\"dataframe\">\n",
              "  <thead>\n",
              "    <tr style=\"text-align: right;\">\n",
              "      <th></th>\n",
              "      <th>SEXO</th>\n",
              "      <th>COMUNA</th>\n",
              "      <th>PRESTA_MIN</th>\n",
              "    </tr>\n",
              "  </thead>\n",
              "  <tbody>\n",
              "    <tr>\n",
              "      <th>0</th>\n",
              "      <td>2.0</td>\n",
              "      <td>NaN</td>\n",
              "      <td>09-001-0</td>\n",
              "    </tr>\n",
              "    <tr>\n",
              "      <th>1</th>\n",
              "      <td>NaN</td>\n",
              "      <td>11101.0</td>\n",
              "      <td>09-004-0</td>\n",
              "    </tr>\n",
              "    <tr>\n",
              "      <th>2</th>\n",
              "      <td>2.0</td>\n",
              "      <td>11101.0</td>\n",
              "      <td>09-006-0</td>\n",
              "    </tr>\n",
              "    <tr>\n",
              "      <th>3</th>\n",
              "      <td>2.0</td>\n",
              "      <td>11101.0</td>\n",
              "      <td>07-208-0</td>\n",
              "    </tr>\n",
              "    <tr>\n",
              "      <th>4</th>\n",
              "      <td>2.0</td>\n",
              "      <td>11101.0</td>\n",
              "      <td>09-001-0</td>\n",
              "    </tr>\n",
              "  </tbody>\n",
              "</table>\n",
              "</div>"
            ],
            "text/plain": [
              "   SEXO   COMUNA PRESTA_MIN\n",
              "0   2.0      NaN   09-001-0\n",
              "1   NaN  11101.0   09-004-0\n",
              "2   2.0  11101.0   09-006-0\n",
              "3   2.0  11101.0   07-208-0\n",
              "4   2.0  11101.0   09-001-0"
            ]
          },
          "metadata": {},
          "execution_count": 7
        }
      ]
    },
    {
      "cell_type": "code",
      "metadata": {
        "id": "Og2fC1XgveSF",
        "outputId": "079d872d-6452-4ad4-cdde-532583cc395b",
        "colab": {
          "base_uri": "https://localhost:8080/",
          "height": 265
        }
      },
      "source": [
        "aysen_corto_subset.SEXO.value_counts(dropna=False).plot.pie()"
      ],
      "execution_count": 8,
      "outputs": [
        {
          "output_type": "execute_result",
          "data": {
            "text/plain": [
              "<matplotlib.axes._subplots.AxesSubplot at 0x7fa5d6b626d0>"
            ]
          },
          "metadata": {},
          "execution_count": 8
        },
        {
          "output_type": "display_data",
          "data": {
            "image/png": "[encoded data removed]",
            "text/plain": [
              "<Figure size 432x288 with 1 Axes>"
            ]
          },
          "metadata": {}
        }
      ]
    },
    {
      "cell_type": "code",
      "metadata": {
        "id": "sZib6IcKwO7k",
        "outputId": "4cca4ccf-657d-4e2c-c2ae-8d8749811a62",
        "colab": {
          "base_uri": "https://localhost:8080/",
          "height": 265
        }
      },
      "source": [
        "aysen_corto_subset.COMUNA.value_counts(dropna=False).plot.pie()"
      ],
      "execution_count": 9,
      "outputs": [
        {
          "output_type": "execute_result",
          "data": {
            "text/plain": [
              "<matplotlib.axes._subplots.AxesSubplot at 0x7fa5cfe87f50>"
            ]
          },
          "metadata": {},
          "execution_count": 9
        },
        {
          "output_type": "display_data",
          "data": {
            "image/png": "[encoded data removed]",
            "text/plain": [
              "<Figure size 432x288 with 1 Axes>"
            ]
          },
          "metadata": {}
        }
      ]
    },
    {
      "cell_type": "code",
      "metadata": {
        "id": "5kb5TfWhwRnx",
        "outputId": "b8296297-8fa3-4aa9-c079-b47e174be095",
        "colab": {
          "base_uri": "https://localhost:8080/",
          "height": 265
        }
      },
      "source": [
        "aysen_corto_subset.PRESTA_MIN.value_counts(dropna=False).plot.pie()"
      ],
      "execution_count": 10,
      "outputs": [
        {
          "output_type": "execute_result",
          "data": {
            "text/plain": [
              "<matplotlib.axes._subplots.AxesSubplot at 0x7fa5d6bcfc10>"
            ]
          },
          "metadata": {},
          "execution_count": 10
        },
        {
          "output_type": "display_data",
          "data": {
            "image/png": "[encoded data removed]",
            "text/plain": [
              "<Figure size 432x288 with 1 Axes>"
            ]
          },
          "metadata": {}
        }
      ]
    },
    {
      "cell_type": "markdown",
      "metadata": {
        "id": "fxCGm0kNuUJk"
      },
      "source": [
        "## Actividad 2: Expresiones regulares y Dataframes\n",
        "\n",
        "El archivo `proveedoresA.txt` tiene lineas que presentan la siguiente estructura:\n",
        "\n",
        "`PFZ-000000000001-001,Aspirinas 50 [mg] en paquetes de 25,200`\n",
        "\n",
        "Cargue los datos en un dataframe e itere sobre el dataframe y para la primera columna utilice una expresión regular para separar los códigos e imprima sus partes, por ejemplo:\n",
        "\n",
        "  `Parte 1: PFZ`\n",
        "\n",
        "  `Parte 2: 000000000001`\n",
        "\n",
        "  `Parte 3: 001`\n",
        "\n",
        "El sitio web https://regexr.com/ es una buena interfaz para desarrollar expresiones regulares."
      ]
    },
    {
      "cell_type": "code",
      "metadata": {
        "id": "EmBfTgzFuPWA"
      },
      "source": [
        "# HINT: df['X'].str.split(r'regex!', expand=True)\n",
        "\n",
        "# Prográmame"
      ],
      "execution_count": 11,
      "outputs": []
    },
    {
      "cell_type": "code",
      "metadata": {
        "id": "ZYBdF_WEw40S"
      },
      "source": [
        "proveedoresA = pd.read_csv(\"proveedoresA.txt\",header=None)"
      ],
      "execution_count": 12,
      "outputs": []
    },
    {
      "cell_type": "code",
      "metadata": {
        "id": "IkcYA3dqxA65",
        "outputId": "ad3b8f8a-93bb-45a8-d9b2-d84f7e3524fe",
        "colab": {
          "base_uri": "https://localhost:8080/",
          "height": 204
        }
      },
      "source": [
        "proveedoresA.head()"
      ],
      "execution_count": 13,
      "outputs": [
        {
          "output_type": "execute_result",
          "data": {
            "text/html": [
              "<div>\n",
              "<style scoped>\n",
              "    .dataframe tbody tr th:only-of-type {\n",
              "        vertical-align: middle;\n",
              "    }\n",
              "\n",
              "    .dataframe tbody tr th {\n",
              "        vertical-align: top;\n",
              "    }\n",
              "\n",
              "    .dataframe thead th {\n",
              "        text-align: right;\n",
              "    }\n",
              "</style>\n",
              "<table border=\"1\" class=\"dataframe\">\n",
              "  <thead>\n",
              "    <tr style=\"text-align: right;\">\n",
              "      <th></th>\n",
              "      <th>0</th>\n",
              "      <th>1</th>\n",
              "      <th>2</th>\n",
              "    </tr>\n",
              "  </thead>\n",
              "  <tbody>\n",
              "    <tr>\n",
              "      <th>0</th>\n",
              "      <td>PFZ-000000000000-054</td>\n",
              "      <td>Ketoprofeno 500 mg en paquetes de 10</td>\n",
              "      <td>800</td>\n",
              "    </tr>\n",
              "    <tr>\n",
              "      <th>1</th>\n",
              "      <td>BAY-000000000001-056</td>\n",
              "      <td>Ketoprofeno 1000 mg en tiras de 10</td>\n",
              "      <td>800</td>\n",
              "    </tr>\n",
              "    <tr>\n",
              "      <th>2</th>\n",
              "      <td>PFZ-000000000002-026</td>\n",
              "      <td>Ibuprofeno 500 mg en tiras de 100</td>\n",
              "      <td>100</td>\n",
              "    </tr>\n",
              "    <tr>\n",
              "      <th>3</th>\n",
              "      <td>CHI-000000000003-078</td>\n",
              "      <td>Paracetamol 1000 mg en tiras de 50</td>\n",
              "      <td>800</td>\n",
              "    </tr>\n",
              "    <tr>\n",
              "      <th>4</th>\n",
              "      <td>RCH-000000000004-094</td>\n",
              "      <td>Ibuprofeno 50 mg en cajas de 25</td>\n",
              "      <td>10000</td>\n",
              "    </tr>\n",
              "  </tbody>\n",
              "</table>\n",
              "</div>"
            ],
            "text/plain": [
              "                      0                                     1      2\n",
              "0  PFZ-000000000000-054  Ketoprofeno 500 mg en paquetes de 10    800\n",
              "1  BAY-000000000001-056    Ketoprofeno 1000 mg en tiras de 10    800\n",
              "2  PFZ-000000000002-026     Ibuprofeno 500 mg en tiras de 100    100\n",
              "3  CHI-000000000003-078    Paracetamol 1000 mg en tiras de 50    800\n",
              "4  RCH-000000000004-094       Ibuprofeno 50 mg en cajas de 25  10000"
            ]
          },
          "metadata": {},
          "execution_count": 13
        }
      ]
    },
    {
      "cell_type": "code",
      "metadata": {
        "id": "_cn88ZNixY4-",
        "outputId": "dfae963c-936a-49fa-bfec-2ebdea8c8f8c",
        "colab": {
          "base_uri": "https://localhost:8080/",
          "height": 419
        }
      },
      "source": [
        "proveedoresA[0].str.split(r\"(\\w{3})-(\\d{12})-(\\d{3})\", expand=True)"
      ],
      "execution_count": 14,
      "outputs": [
        {
          "output_type": "execute_result",
          "data": {
            "text/html": [
              "<div>\n",
              "<style scoped>\n",
              "    .dataframe tbody tr th:only-of-type {\n",
              "        vertical-align: middle;\n",
              "    }\n",
              "\n",
              "    .dataframe tbody tr th {\n",
              "        vertical-align: top;\n",
              "    }\n",
              "\n",
              "    .dataframe thead th {\n",
              "        text-align: right;\n",
              "    }\n",
              "</style>\n",
              "<table border=\"1\" class=\"dataframe\">\n",
              "  <thead>\n",
              "    <tr style=\"text-align: right;\">\n",
              "      <th></th>\n",
              "      <th>0</th>\n",
              "      <th>1</th>\n",
              "      <th>2</th>\n",
              "      <th>3</th>\n",
              "      <th>4</th>\n",
              "    </tr>\n",
              "  </thead>\n",
              "  <tbody>\n",
              "    <tr>\n",
              "      <th>0</th>\n",
              "      <td></td>\n",
              "      <td>PFZ</td>\n",
              "      <td>000000000000</td>\n",
              "      <td>054</td>\n",
              "      <td></td>\n",
              "    </tr>\n",
              "    <tr>\n",
              "      <th>1</th>\n",
              "      <td></td>\n",
              "      <td>BAY</td>\n",
              "      <td>000000000001</td>\n",
              "      <td>056</td>\n",
              "      <td></td>\n",
              "    </tr>\n",
              "    <tr>\n",
              "      <th>2</th>\n",
              "      <td></td>\n",
              "      <td>PFZ</td>\n",
              "      <td>000000000002</td>\n",
              "      <td>026</td>\n",
              "      <td></td>\n",
              "    </tr>\n",
              "    <tr>\n",
              "      <th>3</th>\n",
              "      <td></td>\n",
              "      <td>CHI</td>\n",
              "      <td>000000000003</td>\n",
              "      <td>078</td>\n",
              "      <td></td>\n",
              "    </tr>\n",
              "    <tr>\n",
              "      <th>4</th>\n",
              "      <td></td>\n",
              "      <td>RCH</td>\n",
              "      <td>000000000004</td>\n",
              "      <td>094</td>\n",
              "      <td></td>\n",
              "    </tr>\n",
              "    <tr>\n",
              "      <th>...</th>\n",
              "      <td>...</td>\n",
              "      <td>...</td>\n",
              "      <td>...</td>\n",
              "      <td>...</td>\n",
              "      <td>...</td>\n",
              "    </tr>\n",
              "    <tr>\n",
              "      <th>95</th>\n",
              "      <td></td>\n",
              "      <td>RCH</td>\n",
              "      <td>000000000095</td>\n",
              "      <td>001</td>\n",
              "      <td></td>\n",
              "    </tr>\n",
              "    <tr>\n",
              "      <th>96</th>\n",
              "      <td></td>\n",
              "      <td>BAY</td>\n",
              "      <td>000000000096</td>\n",
              "      <td>030</td>\n",
              "      <td></td>\n",
              "    </tr>\n",
              "    <tr>\n",
              "      <th>97</th>\n",
              "      <td></td>\n",
              "      <td>BAY</td>\n",
              "      <td>000000000097</td>\n",
              "      <td>089</td>\n",
              "      <td></td>\n",
              "    </tr>\n",
              "    <tr>\n",
              "      <th>98</th>\n",
              "      <td></td>\n",
              "      <td>CHI</td>\n",
              "      <td>000000000098</td>\n",
              "      <td>083</td>\n",
              "      <td></td>\n",
              "    </tr>\n",
              "    <tr>\n",
              "      <th>99</th>\n",
              "      <td></td>\n",
              "      <td>CHI</td>\n",
              "      <td>000000000099</td>\n",
              "      <td>073</td>\n",
              "      <td></td>\n",
              "    </tr>\n",
              "  </tbody>\n",
              "</table>\n",
              "<p>100 rows × 5 columns</p>\n",
              "</div>"
            ],
            "text/plain": [
              "   0     1             2    3 4 \n",
              "0      PFZ  000000000000  054   \n",
              "1      BAY  000000000001  056   \n",
              "2      PFZ  000000000002  026   \n",
              "3      CHI  000000000003  078   \n",
              "4      RCH  000000000004  094   \n",
              ".. ..  ...           ...  ... ..\n",
              "95     RCH  000000000095  001   \n",
              "96     BAY  000000000096  030   \n",
              "97     BAY  000000000097  089   \n",
              "98     CHI  000000000098  083   \n",
              "99     CHI  000000000099  073   \n",
              "\n",
              "[100 rows x 5 columns]"
            ]
          },
          "metadata": {},
          "execution_count": 14
        }
      ]
    },
    {
      "cell_type": "code",
      "metadata": {
        "id": "2xI1r3y2xIkq",
        "outputId": "92e3f2bf-2b78-4801-9a78-76b25d134a1c",
        "colab": {
          "base_uri": "https://localhost:8080/"
        }
      },
      "source": [
        "for i,row in proveedoresA[0].str.split(r\"(\\w{3})-(\\d{12})-(\\d{3})\", expand=True).iterrows():\n",
        "  print(f\"--- Columna {i}\")\n",
        "  print(f\"Parte 1: {row[1]}\")\n",
        "  print(f\"Parte 2: {row[2]}\")\n",
        "  print(f\"Parte 3: {row[3]}\")"
      ],
      "execution_count": 15,
      "outputs": [
        {
          "output_type": "stream",
          "name": "stdout",
          "text": [
            "--- Columna 0\n",
            "Parte 1: PFZ\n",
            "Parte 2: 000000000000\n",
            "Parte 3: 054\n",
            "--- Columna 1\n",
            "Parte 1: BAY\n",
            "Parte 2: 000000000001\n",
            "Parte 3: 056\n",
            "--- Columna 2\n",
            "Parte 1: PFZ\n",
            "Parte 2: 000000000002\n",
            "Parte 3: 026\n",
            "--- Columna 3\n",
            "Parte 1: CHI\n",
            "Parte 2: 000000000003\n",
            "Parte 3: 078\n",
            "--- Columna 4\n",
            "Parte 1: RCH\n",
            "Parte 2: 000000000004\n",
            "Parte 3: 094\n",
            "--- Columna 5\n",
            "Parte 1: PFZ\n",
            "Parte 2: 000000000005\n",
            "Parte 3: 053\n",
            "--- Columna 6\n",
            "Parte 1: PFZ\n",
            "Parte 2: 000000000006\n",
            "Parte 3: 082\n",
            "--- Columna 7\n",
            "Parte 1: GSK\n",
            "Parte 2: 000000000007\n",
            "Parte 3: 031\n",
            "--- Columna 8\n",
            "Parte 1: RCH\n",
            "Parte 2: 000000000008\n",
            "Parte 3: 098\n",
            "--- Columna 9\n",
            "Parte 1: PFZ\n",
            "Parte 2: 000000000009\n",
            "Parte 3: 086\n",
            "--- Columna 10\n",
            "Parte 1: CHI\n",
            "Parte 2: 000000000010\n",
            "Parte 3: 042\n",
            "--- Columna 11\n",
            "Parte 1: CHI\n",
            "Parte 2: 000000000011\n",
            "Parte 3: 023\n",
            "--- Columna 12\n",
            "Parte 1: PFZ\n",
            "Parte 2: 000000000012\n",
            "Parte 3: 023\n",
            "--- Columna 13\n",
            "Parte 1: RCH\n",
            "Parte 2: 000000000013\n",
            "Parte 3: 030\n",
            "--- Columna 14\n",
            "Parte 1: BAY\n",
            "Parte 2: 000000000014\n",
            "Parte 3: 096\n",
            "--- Columna 15\n",
            "Parte 1: CHI\n",
            "Parte 2: 000000000015\n",
            "Parte 3: 058\n",
            "--- Columna 16\n",
            "Parte 1: CHI\n",
            "Parte 2: 000000000016\n",
            "Parte 3: 061\n",
            "--- Columna 17\n",
            "Parte 1: GSK\n",
            "Parte 2: 000000000017\n",
            "Parte 3: 045\n",
            "--- Columna 18\n",
            "Parte 1: GSK\n",
            "Parte 2: 000000000018\n",
            "Parte 3: 020\n",
            "--- Columna 19\n",
            "Parte 1: CHI\n",
            "Parte 2: 000000000019\n",
            "Parte 3: 011\n",
            "--- Columna 20\n",
            "Parte 1: PFZ\n",
            "Parte 2: 000000000020\n",
            "Parte 3: 054\n",
            "--- Columna 21\n",
            "Parte 1: RCH\n",
            "Parte 2: 000000000021\n",
            "Parte 3: 029\n",
            "--- Columna 22\n",
            "Parte 1: PFZ\n",
            "Parte 2: 000000000022\n",
            "Parte 3: 010\n",
            "--- Columna 23\n",
            "Parte 1: RCH\n",
            "Parte 2: 000000000023\n",
            "Parte 3: 033\n",
            "--- Columna 24\n",
            "Parte 1: RCH\n",
            "Parte 2: 000000000024\n",
            "Parte 3: 018\n",
            "--- Columna 25\n",
            "Parte 1: PFZ\n",
            "Parte 2: 000000000025\n",
            "Parte 3: 054\n",
            "--- Columna 26\n",
            "Parte 1: GSK\n",
            "Parte 2: 000000000026\n",
            "Parte 3: 074\n",
            "--- Columna 27\n",
            "Parte 1: RCH\n",
            "Parte 2: 000000000027\n",
            "Parte 3: 099\n",
            "--- Columna 28\n",
            "Parte 1: RCH\n",
            "Parte 2: 000000000028\n",
            "Parte 3: 034\n",
            "--- Columna 29\n",
            "Parte 1: GSK\n",
            "Parte 2: 000000000029\n",
            "Parte 3: 049\n",
            "--- Columna 30\n",
            "Parte 1: PFZ\n",
            "Parte 2: 000000000030\n",
            "Parte 3: 012\n",
            "--- Columna 31\n",
            "Parte 1: PFZ\n",
            "Parte 2: 000000000031\n",
            "Parte 3: 052\n",
            "--- Columna 32\n",
            "Parte 1: CHI\n",
            "Parte 2: 000000000032\n",
            "Parte 3: 094\n",
            "--- Columna 33\n",
            "Parte 1: BAY\n",
            "Parte 2: 000000000033\n",
            "Parte 3: 013\n",
            "--- Columna 34\n",
            "Parte 1: BAY\n",
            "Parte 2: 000000000034\n",
            "Parte 3: 096\n",
            "--- Columna 35\n",
            "Parte 1: BAY\n",
            "Parte 2: 000000000035\n",
            "Parte 3: 044\n",
            "--- Columna 36\n",
            "Parte 1: GSK\n",
            "Parte 2: 000000000036\n",
            "Parte 3: 027\n",
            "--- Columna 37\n",
            "Parte 1: RCH\n",
            "Parte 2: 000000000037\n",
            "Parte 3: 079\n",
            "--- Columna 38\n",
            "Parte 1: GSK\n",
            "Parte 2: 000000000038\n",
            "Parte 3: 088\n",
            "--- Columna 39\n",
            "Parte 1: BAY\n",
            "Parte 2: 000000000039\n",
            "Parte 3: 010\n",
            "--- Columna 40\n",
            "Parte 1: RCH\n",
            "Parte 2: 000000000040\n",
            "Parte 3: 071\n",
            "--- Columna 41\n",
            "Parte 1: BAY\n",
            "Parte 2: 000000000041\n",
            "Parte 3: 097\n",
            "--- Columna 42\n",
            "Parte 1: CHI\n",
            "Parte 2: 000000000042\n",
            "Parte 3: 065\n",
            "--- Columna 43\n",
            "Parte 1: GSK\n",
            "Parte 2: 000000000043\n",
            "Parte 3: 067\n",
            "--- Columna 44\n",
            "Parte 1: PFZ\n",
            "Parte 2: 000000000044\n",
            "Parte 3: 011\n",
            "--- Columna 45\n",
            "Parte 1: RCH\n",
            "Parte 2: 000000000045\n",
            "Parte 3: 056\n",
            "--- Columna 46\n",
            "Parte 1: PFZ\n",
            "Parte 2: 000000000046\n",
            "Parte 3: 009\n",
            "--- Columna 47\n",
            "Parte 1: BAY\n",
            "Parte 2: 000000000047\n",
            "Parte 3: 022\n",
            "--- Columna 48\n",
            "Parte 1: PFZ\n",
            "Parte 2: 000000000048\n",
            "Parte 3: 010\n",
            "--- Columna 49\n",
            "Parte 1: PFZ\n",
            "Parte 2: 000000000049\n",
            "Parte 3: 069\n",
            "--- Columna 50\n",
            "Parte 1: RCH\n",
            "Parte 2: 000000000050\n",
            "Parte 3: 045\n",
            "--- Columna 51\n",
            "Parte 1: RCH\n",
            "Parte 2: 000000000051\n",
            "Parte 3: 063\n",
            "--- Columna 52\n",
            "Parte 1: GSK\n",
            "Parte 2: 000000000052\n",
            "Parte 3: 067\n",
            "--- Columna 53\n",
            "Parte 1: PFZ\n",
            "Parte 2: 000000000053\n",
            "Parte 3: 094\n",
            "--- Columna 54\n",
            "Parte 1: GSK\n",
            "Parte 2: 000000000054\n",
            "Parte 3: 083\n",
            "--- Columna 55\n",
            "Parte 1: PFZ\n",
            "Parte 2: 000000000055\n",
            "Parte 3: 089\n",
            "--- Columna 56\n",
            "Parte 1: PFZ\n",
            "Parte 2: 000000000056\n",
            "Parte 3: 066\n",
            "--- Columna 57\n",
            "Parte 1: BAY\n",
            "Parte 2: 000000000057\n",
            "Parte 3: 038\n",
            "--- Columna 58\n",
            "Parte 1: CHI\n",
            "Parte 2: 000000000058\n",
            "Parte 3: 015\n",
            "--- Columna 59\n",
            "Parte 1: CHI\n",
            "Parte 2: 000000000059\n",
            "Parte 3: 004\n",
            "--- Columna 60\n",
            "Parte 1: PFZ\n",
            "Parte 2: 000000000060\n",
            "Parte 3: 041\n",
            "--- Columna 61\n",
            "Parte 1: PFZ\n",
            "Parte 2: 000000000061\n",
            "Parte 3: 031\n",
            "--- Columna 62\n",
            "Parte 1: BAY\n",
            "Parte 2: 000000000062\n",
            "Parte 3: 019\n",
            "--- Columna 63\n",
            "Parte 1: BAY\n",
            "Parte 2: 000000000063\n",
            "Parte 3: 038\n",
            "--- Columna 64\n",
            "Parte 1: GSK\n",
            "Parte 2: 000000000064\n",
            "Parte 3: 098\n",
            "--- Columna 65\n",
            "Parte 1: PFZ\n",
            "Parte 2: 000000000065\n",
            "Parte 3: 011\n",
            "--- Columna 66\n",
            "Parte 1: GSK\n",
            "Parte 2: 000000000066\n",
            "Parte 3: 041\n",
            "--- Columna 67\n",
            "Parte 1: CHI\n",
            "Parte 2: 000000000067\n",
            "Parte 3: 095\n",
            "--- Columna 68\n",
            "Parte 1: GSK\n",
            "Parte 2: 000000000068\n",
            "Parte 3: 016\n",
            "--- Columna 69\n",
            "Parte 1: GSK\n",
            "Parte 2: 000000000069\n",
            "Parte 3: 036\n",
            "--- Columna 70\n",
            "Parte 1: RCH\n",
            "Parte 2: 000000000070\n",
            "Parte 3: 053\n",
            "--- Columna 71\n",
            "Parte 1: PFZ\n",
            "Parte 2: 000000000071\n",
            "Parte 3: 090\n",
            "--- Columna 72\n",
            "Parte 1: PFZ\n",
            "Parte 2: 000000000072\n",
            "Parte 3: 059\n",
            "--- Columna 73\n",
            "Parte 1: RCH\n",
            "Parte 2: 000000000073\n",
            "Parte 3: 063\n",
            "--- Columna 74\n",
            "Parte 1: PFZ\n",
            "Parte 2: 000000000074\n",
            "Parte 3: 039\n",
            "--- Columna 75\n",
            "Parte 1: GSK\n",
            "Parte 2: 000000000075\n",
            "Parte 3: 007\n",
            "--- Columna 76\n",
            "Parte 1: RCH\n",
            "Parte 2: 000000000076\n",
            "Parte 3: 033\n",
            "--- Columna 77\n",
            "Parte 1: GSK\n",
            "Parte 2: 000000000077\n",
            "Parte 3: 029\n",
            "--- Columna 78\n",
            "Parte 1: CHI\n",
            "Parte 2: 000000000078\n",
            "Parte 3: 095\n",
            "--- Columna 79\n",
            "Parte 1: CHI\n",
            "Parte 2: 000000000079\n",
            "Parte 3: 099\n",
            "--- Columna 80\n",
            "Parte 1: CHI\n",
            "Parte 2: 000000000080\n",
            "Parte 3: 033\n",
            "--- Columna 81\n",
            "Parte 1: BAY\n",
            "Parte 2: 000000000081\n",
            "Parte 3: 020\n",
            "--- Columna 82\n",
            "Parte 1: CHI\n",
            "Parte 2: 000000000082\n",
            "Parte 3: 082\n",
            "--- Columna 83\n",
            "Parte 1: CHI\n",
            "Parte 2: 000000000083\n",
            "Parte 3: 076\n",
            "--- Columna 84\n",
            "Parte 1: PFZ\n",
            "Parte 2: 000000000084\n",
            "Parte 3: 074\n",
            "--- Columna 85\n",
            "Parte 1: CHI\n",
            "Parte 2: 000000000085\n",
            "Parte 3: 051\n",
            "--- Columna 86\n",
            "Parte 1: GSK\n",
            "Parte 2: 000000000086\n",
            "Parte 3: 092\n",
            "--- Columna 87\n",
            "Parte 1: BAY\n",
            "Parte 2: 000000000087\n",
            "Parte 3: 067\n",
            "--- Columna 88\n",
            "Parte 1: CHI\n",
            "Parte 2: 000000000088\n",
            "Parte 3: 095\n",
            "--- Columna 89\n",
            "Parte 1: GSK\n",
            "Parte 2: 000000000089\n",
            "Parte 3: 080\n",
            "--- Columna 90\n",
            "Parte 1: RCH\n",
            "Parte 2: 000000000090\n",
            "Parte 3: 046\n",
            "--- Columna 91\n",
            "Parte 1: BAY\n",
            "Parte 2: 000000000091\n",
            "Parte 3: 031\n",
            "--- Columna 92\n",
            "Parte 1: RCH\n",
            "Parte 2: 000000000092\n",
            "Parte 3: 028\n",
            "--- Columna 93\n",
            "Parte 1: PFZ\n",
            "Parte 2: 000000000093\n",
            "Parte 3: 085\n",
            "--- Columna 94\n",
            "Parte 1: GSK\n",
            "Parte 2: 000000000094\n",
            "Parte 3: 055\n",
            "--- Columna 95\n",
            "Parte 1: RCH\n",
            "Parte 2: 000000000095\n",
            "Parte 3: 001\n",
            "--- Columna 96\n",
            "Parte 1: BAY\n",
            "Parte 2: 000000000096\n",
            "Parte 3: 030\n",
            "--- Columna 97\n",
            "Parte 1: BAY\n",
            "Parte 2: 000000000097\n",
            "Parte 3: 089\n",
            "--- Columna 98\n",
            "Parte 1: CHI\n",
            "Parte 2: 000000000098\n",
            "Parte 3: 083\n",
            "--- Columna 99\n",
            "Parte 1: CHI\n",
            "Parte 2: 000000000099\n",
            "Parte 3: 073\n"
          ]
        }
      ]
    },
    {
      "cell_type": "markdown",
      "metadata": {
        "id": "i_uq-g5pvt2M"
      },
      "source": [
        "## Actividad 3: Estudio de un log de acceso\n",
        "\n",
        "El archivo `other_vhosts_access.log` contiene los registros de acceso a un servidor web, extraiga los IP desde donde se generan las visitas usando expresiones regulares en python. Con estas IP genere un archivo `.txt`, donde cada IP esta en una linea aparte. \n",
        "Con la lista de IP generada visualice en un mapa desde donde vienes las peticiones usando el sitio web https://www.showmyip.com/bulk-ip-lookup/, ¿cuántas visitas se originan desde rusia/ucrania/china/brasil?"
      ]
    },
    {
      "cell_type": "code",
      "metadata": {
        "id": "p_1NByBiEuNu"
      },
      "source": [
        "# Prográmame"
      ],
      "execution_count": 16,
      "outputs": []
    },
    {
      "cell_type": "code",
      "metadata": {
        "id": "nAljsIG9DgzP"
      },
      "source": [
        "log = []\n",
        "with open(\"other_vhosts_access.log\", \"r\") as f:\n",
        "  for line in f:\n",
        "    log.append(line.strip())"
      ],
      "execution_count": 17,
      "outputs": []
    },
    {
      "cell_type": "code",
      "metadata": {
        "id": "VHNq4te6D3G3",
        "outputId": "d66f3cf8-0dfc-44a4-e8d5-c0c425be7172",
        "colab": {
          "base_uri": "https://localhost:8080/"
        }
      },
      "source": [
        "with open(\"ips.txt\", \"w\") as f:\n",
        "  for entry in log:\n",
        "    ip = re.search(\".* (\\d{1,3}\\.\\d{1,3}\\.\\d{1,3}\\.\\d{1,3}).*\",entry).group(1)\n",
        "    print(ip)\n",
        "    f.write(f\"{ip}\\n\")"
      ],
      "execution_count": 19,
      "outputs": [
        {
          "output_type": "stream",
          "name": "stdout",
          "text": [
            "173.215.49.220\n",
            "45.83.64.61\n",
            "181.48.147.133\n",
            "41.38.141.6\n",
            "62.4.48.234\n",
            "195.54.160.123\n",
            "156.231.45.78\n",
            "195.54.160.123\n",
            "195.54.160.123\n",
            "80.82.78.104\n",
            "195.54.160.123\n",
            "123.130.28.182\n",
            "42.236.10.125\n",
            "42.236.10.117\n",
            "42.236.10.117\n",
            "42.236.10.125\n",
            "216.15.112.251\n",
            "66.249.70.29\n",
            "3.121.160.238\n",
            "54.207.33.42\n",
            "195.54.160.123\n",
            "101.4.110.154\n",
            "91.150.34.46\n",
            "81.162.72.37\n",
            "191.125.10.6\n",
            "191.125.10.6\n"
          ]
        }
      ]
    },
    {
      "cell_type": "code",
      "metadata": {
        "id": "-Qr37I5-EqNj"
      },
      "source": [
        ""
      ],
      "execution_count": 18,
      "outputs": []
    }
  ]
}