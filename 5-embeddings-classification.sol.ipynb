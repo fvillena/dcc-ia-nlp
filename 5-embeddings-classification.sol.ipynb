{
  "nbformat": 4,
  "nbformat_minor": 0,
  "metadata": {
    "colab": {
      "name": "5-embeddings-classification.sol.ipynb",
      "provenance": [],
      "authorship_tag": "ABX9TyPQjUT0yojWr1KoOiSNuwg/",
      "include_colab_link": true
    },
    "kernelspec": {
      "name": "python3",
      "display_name": "Python 3"
    }
  },
  "cells": [
    {
      "cell_type": "markdown",
      "metadata": {
        "id": "view-in-github",
        "colab_type": "text"
      },
      "source": [
        "<a href=\"https://colab.research.google.com/github/fvillena/dcc-ia-nlp/blob/master/5-embeddings-classification.sol.ipynb\" target=\"_parent\"><img src=\"https://colab.research.google.com/assets/colab-badge.svg\" alt=\"Open In Colab\"/></a>"
      ]
    },
    {
      "cell_type": "markdown",
      "metadata": {
        "id": "pXbTvZny7WAp"
      },
      "source": [
        "# Embeddings y clasificación"
      ]
    },
    {
      "cell_type": "code",
      "metadata": {
        "id": "ES50nm3X1GCP",
        "colab": {
          "base_uri": "https://localhost:8080/"
        },
        "outputId": "ab7e3458-6199-45f9-cb89-22b5d42b5308"
      },
      "source": [
        "!wget https://raw.githubusercontent.com/fvillena/workshopEmbeddingsAndClassifiers/master/corpus.txt\n",
        "!wget https://raw.githubusercontent.com/fvillena/workshopEmbeddingsAndClassifiers/master/data.csv"
      ],
      "execution_count": 1,
      "outputs": [
        {
          "output_type": "stream",
          "name": "stdout",
          "text": [
            "--2021-11-25 14:32:56--  https://raw.githubusercontent.com/fvillena/workshopEmbeddingsAndClassifiers/master/corpus.txt\n",
            "Resolving raw.githubusercontent.com (raw.githubusercontent.com)... 185.199.108.133, 185.199.109.133, 185.199.110.133, ...\n",
            "Connecting to raw.githubusercontent.com (raw.githubusercontent.com)|185.199.108.133|:443... connected.\n",
            "HTTP request sent, awaiting response... 200 OK\n",
            "Length: 7394290 (7.1M) [text/plain]\n",
            "Saving to: ‘corpus.txt’\n",
            "\n",
            "\rcorpus.txt            0%[                    ]       0  --.-KB/s               \rcorpus.txt          100%[===================>]   7.05M  --.-KB/s    in 0.04s   \n",
            "\n",
            "2021-11-25 14:32:56 (160 MB/s) - ‘corpus.txt’ saved [7394290/7394290]\n",
            "\n",
            "--2021-11-25 14:32:56--  https://raw.githubusercontent.com/fvillena/workshopEmbeddingsAndClassifiers/master/data.csv\n",
            "Resolving raw.githubusercontent.com (raw.githubusercontent.com)... 185.199.108.133, 185.199.109.133, 185.199.110.133, ...\n",
            "Connecting to raw.githubusercontent.com (raw.githubusercontent.com)|185.199.108.133|:443... connected.\n",
            "HTTP request sent, awaiting response... 200 OK\n",
            "Length: 2125438 (2.0M) [text/plain]\n",
            "Saving to: ‘data.csv’\n",
            "\n",
            "data.csv            100%[===================>]   2.03M  --.-KB/s    in 0.01s   \n",
            "\n",
            "2021-11-25 14:32:56 (175 MB/s) - ‘data.csv’ saved [2125438/2125438]\n",
            "\n"
          ]
        }
      ]
    },
    {
      "cell_type": "code",
      "metadata": {
        "id": "UDNmGakfLD-p",
        "colab": {
          "base_uri": "https://localhost:8080/"
        },
        "outputId": "9c1189db-b402-4a9c-b96a-e3091badbce6"
      },
      "source": [
        "!pip uninstall overrides -y\n",
        "!pip install overrides==3.1.0"
      ],
      "execution_count": 2,
      "outputs": [
        {
          "output_type": "stream",
          "name": "stdout",
          "text": [
            "\u001b[33mWARNING: Skipping overrides as it is not installed.\u001b[0m\n",
            "Collecting overrides==3.1.0\n",
            "  Downloading overrides-3.1.0.tar.gz (11 kB)\n",
            "Building wheels for collected packages: overrides\n",
            "  Building wheel for overrides (setup.py) ... \u001b[?25l\u001b[?25hdone\n",
            "  Created wheel for overrides: filename=overrides-3.1.0-py3-none-any.whl size=10186 sha256=b1d09e5dd7e7d7b8f460e46e3f5e73a38bf589b8c794c44204d9c4e1d0cc45d9\n",
            "  Stored in directory: /root/.cache/pip/wheels/3a/0d/38/01a9bc6e20dcfaf0a6a7b552d03137558ba1c38aea47644682\n",
            "Successfully built overrides\n",
            "Installing collected packages: overrides\n",
            "Successfully installed overrides-3.1.0\n"
          ]
        }
      ]
    },
    {
      "cell_type": "code",
      "metadata": {
        "id": "YbAl0fBixMWP"
      },
      "source": [
        "import nltk\n",
        "import gensim\n",
        "import re\n",
        "import pandas as pd\n",
        "import sklearn\n",
        "import numpy as np"
      ],
      "execution_count": 3,
      "outputs": []
    },
    {
      "cell_type": "markdown",
      "metadata": {
        "id": "lmsItPYb7cD3"
      },
      "source": [
        "Cargamos nuestro corpus que contiene muchos diagnósticos en texto libre"
      ]
    },
    {
      "cell_type": "code",
      "metadata": {
        "id": "nWbPyqTW1DoZ"
      },
      "source": [
        "corpus = []\n",
        "with open(\"corpus.txt\", encoding=\"utf-8\") as f:\n",
        "  for line in f:\n",
        "    corpus.append(line.rstrip())"
      ],
      "execution_count": 4,
      "outputs": []
    },
    {
      "cell_type": "markdown",
      "metadata": {
        "id": "Qd7WWcql7iCa"
      },
      "source": [
        "Cargamos nuestro conjunto de datos que contiene diagnósticos, junto a las especialidades a los que fueron referidos."
      ]
    },
    {
      "cell_type": "code",
      "metadata": {
        "id": "e26UiOrb2VwN"
      },
      "source": [
        "data = pd.read_csv(\"data.csv\")\n",
        "data = data.sample(len(data),random_state=11)"
      ],
      "execution_count": 5,
      "outputs": []
    },
    {
      "cell_type": "code",
      "metadata": {
        "id": "Lp-NxJIn60Mf",
        "colab": {
          "base_uri": "https://localhost:8080/",
          "height": 423
        },
        "outputId": "c670df91-466c-4e43-9203-1ca63b1f2935"
      },
      "source": [
        "data"
      ],
      "execution_count": 6,
      "outputs": [
        {
          "output_type": "execute_result",
          "data": {
            "text/html": [
              "<div>\n",
              "<style scoped>\n",
              "    .dataframe tbody tr th:only-of-type {\n",
              "        vertical-align: middle;\n",
              "    }\n",
              "\n",
              "    .dataframe tbody tr th {\n",
              "        vertical-align: top;\n",
              "    }\n",
              "\n",
              "    .dataframe thead th {\n",
              "        text-align: right;\n",
              "    }\n",
              "</style>\n",
              "<table border=\"1\" class=\"dataframe\">\n",
              "  <thead>\n",
              "    <tr style=\"text-align: right;\">\n",
              "      <th></th>\n",
              "      <th>diagnostic</th>\n",
              "      <th>specialty</th>\n",
              "    </tr>\n",
              "  </thead>\n",
              "  <tbody>\n",
              "    <tr>\n",
              "      <th>13599</th>\n",
              "      <td>Consulta, no especificada</td>\n",
              "      <td>TRAUMATOLOGIA</td>\n",
              "    </tr>\n",
              "    <tr>\n",
              "      <th>14183</th>\n",
              "      <td>Coxartrosis (artrosis de la cadera) , (artrosis)</td>\n",
              "      <td>TRAUMATOLOGIA</td>\n",
              "    </tr>\n",
              "    <tr>\n",
              "      <th>6169</th>\n",
              "      <td>Consulta no Especificada</td>\n",
              "      <td>TRAUMATOLOGIA</td>\n",
              "    </tr>\n",
              "    <tr>\n",
              "      <th>40788</th>\n",
              "      <td>Retinopatia de la prematuridad</td>\n",
              "      <td>OFTALMOLOGIA</td>\n",
              "    </tr>\n",
              "    <tr>\n",
              "      <th>18139</th>\n",
              "      <td>Consulta no Especificada</td>\n",
              "      <td>TRAUMATOLOGIA</td>\n",
              "    </tr>\n",
              "    <tr>\n",
              "      <th>...</th>\n",
              "      <td>...</td>\n",
              "      <td>...</td>\n",
              "    </tr>\n",
              "    <tr>\n",
              "      <th>32081</th>\n",
              "      <td>Gingivoestomatitis y faringoamigdalitis herpética</td>\n",
              "      <td>OFTALMOLOGIA</td>\n",
              "    </tr>\n",
              "    <tr>\n",
              "      <th>7259</th>\n",
              "      <td>Luxacion de la rodilla</td>\n",
              "      <td>TRAUMATOLOGIA</td>\n",
              "    </tr>\n",
              "    <tr>\n",
              "      <th>21584</th>\n",
              "      <td>Catarata senil, no especificada</td>\n",
              "      <td>OFTALMOLOGIA</td>\n",
              "    </tr>\n",
              "    <tr>\n",
              "      <th>36543</th>\n",
              "      <td>Diabetes mellitus, no especificada</td>\n",
              "      <td>OFTALMOLOGIA</td>\n",
              "    </tr>\n",
              "    <tr>\n",
              "      <th>10137</th>\n",
              "      <td>Trastorno de los discos intervertebrales, no e...</td>\n",
              "      <td>TRAUMATOLOGIA</td>\n",
              "    </tr>\n",
              "  </tbody>\n",
              "</table>\n",
              "<p>42964 rows × 2 columns</p>\n",
              "</div>"
            ],
            "text/plain": [
              "                                              diagnostic      specialty\n",
              "13599                          Consulta, no especificada  TRAUMATOLOGIA\n",
              "14183   Coxartrosis (artrosis de la cadera) , (artrosis)  TRAUMATOLOGIA\n",
              "6169                            Consulta no Especificada  TRAUMATOLOGIA\n",
              "40788                     Retinopatia de la prematuridad   OFTALMOLOGIA\n",
              "18139                           Consulta no Especificada  TRAUMATOLOGIA\n",
              "...                                                  ...            ...\n",
              "32081  Gingivoestomatitis y faringoamigdalitis herpética   OFTALMOLOGIA\n",
              "7259                              Luxacion de la rodilla  TRAUMATOLOGIA\n",
              "21584                    Catarata senil, no especificada   OFTALMOLOGIA\n",
              "36543                 Diabetes mellitus, no especificada   OFTALMOLOGIA\n",
              "10137  Trastorno de los discos intervertebrales, no e...  TRAUMATOLOGIA\n",
              "\n",
              "[42964 rows x 2 columns]"
            ]
          },
          "metadata": {},
          "execution_count": 6
        }
      ]
    },
    {
      "cell_type": "code",
      "metadata": {
        "id": "9d6rAQn11e1n"
      },
      "source": [
        "def normalizer(text): #normalizes a given string to lowercase and changes all vowels to their base form\n",
        "    text = text.lower() #string lowering\n",
        "    text = re.sub(r'[^A-Za-zñáéíóú]', ' ', text) #replaces every punctuation with a space\n",
        "    text = re.sub('á', 'a', text) #replaces special vowels to their base forms\n",
        "    text = re.sub('é', 'e', text)\n",
        "    text = re.sub('í', 'i', text)\n",
        "    text = re.sub('ó', 'o', text)\n",
        "    text = re.sub('ú', 'u', text)\n",
        "    return text"
      ],
      "execution_count": 7,
      "outputs": []
    },
    {
      "cell_type": "code",
      "metadata": {
        "id": "FQ-iCU451mwB"
      },
      "source": [
        "def preprocessor(text):\n",
        "  text = normalizer(text)\n",
        "  tokens = nltk.tokenize.casual_tokenize(text)\n",
        "  return tokens"
      ],
      "execution_count": 8,
      "outputs": []
    },
    {
      "cell_type": "code",
      "metadata": {
        "id": "K-7oBaZt76Zc"
      },
      "source": [
        "def vectorizer(text, model): #returns a vector representation from a list of words and a given model\n",
        "    vectors = []\n",
        "    for i in text:\n",
        "        try:\n",
        "            vectors.append(model.wv[i])\n",
        "        except:\n",
        "            pass\n",
        "    return(np.nan_to_num(np.mean(vectors,axis=0)))"
      ],
      "execution_count": 9,
      "outputs": []
    },
    {
      "cell_type": "markdown",
      "metadata": {
        "id": "UlehFoo_5Rt9"
      },
      "source": [
        "## Actividad 1: Cálculo de los embeddings\n",
        "\n",
        "Calcule un word embedding utilizando word2vec sobre `corpus`. Recuerde que debe preprocesar el texto antes de calcular los embeddings."
      ]
    },
    {
      "cell_type": "code",
      "metadata": {
        "id": "o4HneQ8m65lB"
      },
      "source": [
        "corpus_preprocessed = list(map(preprocessor,corpus))\n",
        "\n",
        "model = gensim.models.word2vec.Word2Vec(sentences = corpus_preprocessed)"
      ],
      "execution_count": 29,
      "outputs": []
    },
    {
      "cell_type": "markdown",
      "metadata": {
        "id": "DBzLdp8w5wlF"
      },
      "source": [
        "## Actividad 2: Clasificación\n",
        "\n",
        "Construya para cada documento almacenado en `data.diagnostic` un vector de características utilizando los embeddings calculados anteriormente. Debe decidir cómo va a combinar los embeddings de cada una de las palabras del documento en un sólo vector que defina cada documento.\n",
        "\n",
        "Cuando ya tenga calculada su matriz de características entrene un modelo que predica la especialidad almacenada en `data.specialty` dutilizando algún algoritmo conocido por usted y calcule la exactitud del modelo."
      ]
    },
    {
      "cell_type": "code",
      "metadata": {
        "id": "5Du684Pc69H_",
        "colab": {
          "base_uri": "https://localhost:8080/"
        },
        "outputId": "8fd1ba2e-e598-4822-e2eb-b464b9d8d15b"
      },
      "source": [
        "features = np.zeros(shape=(len(data),model.wv.vectors.shape[1]))\n",
        "for i,diagnostic in enumerate(data.diagnostic):\n",
        "  features[i,:] = vectorizer(preprocessor(diagnostic),model)\n",
        "  \n",
        "import sklearn.linear_model\n",
        "import sklearn.model_selection\n",
        "\n",
        "cv_results = sklearn.model_selection.cross_validate(sklearn.linear_model.LogisticRegression(max_iter=10000),features[:10000],data.specialty[:10000])\n",
        "cv_results[\"test_score\"].mean()"
      ],
      "execution_count": 24,
      "outputs": [
        {
          "output_type": "stream",
          "name": "stderr",
          "text": [
            "/usr/local/lib/python3.7/dist-packages/numpy/core/fromnumeric.py:3373: RuntimeWarning: Mean of empty slice.\n",
            "  out=out, **kwargs)\n",
            "/usr/local/lib/python3.7/dist-packages/numpy/core/_methods.py:170: RuntimeWarning: invalid value encountered in double_scalars\n",
            "  ret = ret.dtype.type(ret / rcount)\n"
          ]
        },
        {
          "output_type": "execute_result",
          "data": {
            "text/plain": [
              "0.8349"
            ]
          },
          "metadata": {},
          "execution_count": 24
        }
      ]
    },
    {
      "cell_type": "code",
      "metadata": {
        "colab": {
          "base_uri": "https://localhost:8080/"
        },
        "id": "c2eVNuoKqXlZ",
        "outputId": "13b8c09d-51a7-4623-ca98-f832723ce80f"
      },
      "source": [
        "clf = sklearn.linear_model.LogisticRegression(max_iter=10000)\n",
        "clf.fit(features[:10000],data.specialty[:10000])"
      ],
      "execution_count": 25,
      "outputs": [
        {
          "output_type": "execute_result",
          "data": {
            "text/plain": [
              "LogisticRegression(max_iter=10000)"
            ]
          },
          "metadata": {},
          "execution_count": 25
        }
      ]
    },
    {
      "cell_type": "markdown",
      "metadata": {
        "id": "eXO0XShV6Tt6"
      },
      "source": [
        "## Actividad 3: Predictor de especialidad\n",
        "\n",
        "Construya una función que dado un diagnóstico, retorne la especialidad más adecuada para referir utilizando su modelo entrenado anteriormente."
      ]
    },
    {
      "cell_type": "code",
      "metadata": {
        "id": "tz-R3Smm7C6O"
      },
      "source": [
        "def predict_specialty(diagnostic):\n",
        "  tokens = preprocessor(diagnostic)\n",
        "  vector = vectorizer(tokens,model).reshape(1, -1)\n",
        "  return clf.predict(vector)"
      ],
      "execution_count": 26,
      "outputs": []
    },
    {
      "cell_type": "code",
      "metadata": {
        "id": "ZA_d9p825uyw",
        "colab": {
          "base_uri": "https://localhost:8080/"
        },
        "outputId": "0def49ce-dc9f-4dcd-b480-b72eb7ec8205"
      },
      "source": [
        "predict_specialty(\"fractura de cadera\")"
      ],
      "execution_count": 27,
      "outputs": [
        {
          "output_type": "execute_result",
          "data": {
            "text/plain": [
              "array(['TRAUMATOLOGIA'], dtype=object)"
            ]
          },
          "metadata": {},
          "execution_count": 27
        }
      ]
    },
    {
      "cell_type": "markdown",
      "metadata": {
        "id": "-JFbMOr4JbYw"
      },
      "source": [
        "## Actividad 4: fastText\n",
        "\n",
        "Calcule un word embedding utilizando fastText sobre corpus. Recuerde que debe preprocesar el texto antes de calcular los embeddings."
      ]
    },
    {
      "cell_type": "code",
      "metadata": {
        "id": "YgR7YgP3J5Fz"
      },
      "source": [
        "model_fasttext = gensim.models.fasttext.FastText(sentences = corpus_preprocessed)"
      ],
      "execution_count": 30,
      "outputs": []
    },
    {
      "cell_type": "markdown",
      "metadata": {
        "id": "_5IHGPXFDABI"
      },
      "source": [
        "## Actividad 5: ELMo embeddings\n",
        "\n",
        "En las siguientes líneas, descargamos un modelo de ELMo entrenado en español y transformamos nuestros documentos a embeddings utilizando el modelo anteriormente cargado.\n",
        "\n",
        "\n",
        "\n",
        "1.   ¿Cuántas dimensiones tiene el embedding de cada palabra?\n",
        "2.   Busque 2 diagnósticos distintos que tengan una palabra en común, ¿el vector asociado a la palabra en común, es el mismo en cada diagnóstico?\n",
        "\n",
        "\n"
      ]
    },
    {
      "cell_type": "code",
      "metadata": {
        "id": "vtdJkC2r94HZ",
        "colab": {
          "base_uri": "https://localhost:8080/"
        },
        "outputId": "3a90c33a-11ca-44fc-be9c-d39e86a57be5"
      },
      "source": [
        "!pip install elmoformanylangs"
      ],
      "execution_count": 15,
      "outputs": [
        {
          "output_type": "stream",
          "name": "stdout",
          "text": [
            "Collecting elmoformanylangs\n",
            "  Downloading elmoformanylangs-0.0.4.post2-py3-none-any.whl (42 kB)\n",
            "\u001b[?25l\r\u001b[K     |███████▋                        | 10 kB 22.0 MB/s eta 0:00:01\r\u001b[K     |███████████████▎                | 20 kB 27.7 MB/s eta 0:00:01\r\u001b[K     |███████████████████████         | 30 kB 33.1 MB/s eta 0:00:01\r\u001b[K     |██████████████████████████████▋ | 40 kB 35.9 MB/s eta 0:00:01\r\u001b[K     |████████████████████████████████| 42 kB 1.4 MB/s \n",
            "\u001b[?25hRequirement already satisfied: torch in /usr/local/lib/python3.7/dist-packages (from elmoformanylangs) (1.10.0+cu111)\n",
            "Requirement already satisfied: h5py in /usr/local/lib/python3.7/dist-packages (from elmoformanylangs) (3.1.0)\n",
            "Requirement already satisfied: overrides in /usr/local/lib/python3.7/dist-packages (from elmoformanylangs) (3.1.0)\n",
            "Requirement already satisfied: numpy in /usr/local/lib/python3.7/dist-packages (from elmoformanylangs) (1.19.5)\n",
            "Requirement already satisfied: cached-property in /usr/local/lib/python3.7/dist-packages (from h5py->elmoformanylangs) (1.5.2)\n",
            "Requirement already satisfied: typing-extensions in /usr/local/lib/python3.7/dist-packages (from torch->elmoformanylangs) (3.10.0.2)\n",
            "Installing collected packages: elmoformanylangs\n",
            "Successfully installed elmoformanylangs-0.0.4.post2\n"
          ]
        }
      ]
    },
    {
      "cell_type": "code",
      "metadata": {
        "id": "MFdd1_wv9UAO",
        "colab": {
          "base_uri": "https://localhost:8080/"
        },
        "outputId": "560d7b23-1961-4faf-b1de-ab7a3d9f056b"
      },
      "source": [
        "!wget http://vectors.nlpl.eu/repository/11/145.zip\n",
        "!unzip 145.zip"
      ],
      "execution_count": 16,
      "outputs": [
        {
          "output_type": "stream",
          "name": "stdout",
          "text": [
            "--2021-11-25 14:33:07--  http://vectors.nlpl.eu/repository/11/145.zip\n",
            "Resolving vectors.nlpl.eu (vectors.nlpl.eu)... 129.240.189.181\n",
            "Connecting to vectors.nlpl.eu (vectors.nlpl.eu)|129.240.189.181|:80... connected.\n",
            "HTTP request sent, awaiting response... 200 OK\n",
            "Length: 419687058 (400M) [application/zip]\n",
            "Saving to: ‘145.zip’\n",
            "\n",
            "145.zip             100%[===================>] 400.24M  25.9MB/s    in 16s     \n",
            "\n",
            "2021-11-25 14:33:24 (24.5 MB/s) - ‘145.zip’ saved [419687058/419687058]\n",
            "\n",
            "Archive:  145.zip\n",
            "  inflating: char.dic                \n",
            "  inflating: config.json             \n",
            "  inflating: encoder.pkl             \n",
            "  inflating: meta.json               \n",
            "  inflating: README                  \n",
            "  inflating: token_embedder.pkl      \n",
            "  inflating: word.dic                \n"
          ]
        }
      ]
    },
    {
      "cell_type": "code",
      "metadata": {
        "id": "EB-DTQw07p45"
      },
      "source": [
        "import elmoformanylangs"
      ],
      "execution_count": 17,
      "outputs": []
    },
    {
      "cell_type": "code",
      "metadata": {
        "id": "GjtBwQR0-XDs",
        "colab": {
          "base_uri": "https://localhost:8080/"
        },
        "outputId": "9c6defcd-229e-41d8-bc79-778aaf149746"
      },
      "source": [
        "e = elmoformanylangs.Embedder('')"
      ],
      "execution_count": 18,
      "outputs": [
        {
          "output_type": "stream",
          "name": "stderr",
          "text": [
            "2021-11-25 14:33:35,772 WARNING: Could not find config.  Trying cnn_50_100_512_4096_sample.json\n",
            "2021-11-25 14:33:35,778 WARNING: Could not find config.  Trying /usr/local/lib/python3.7/dist-packages/elmoformanylangs/configs/cnn_50_100_512_4096_sample.json\n",
            "2021-11-25 14:33:35,883 INFO: char embedding size: 2637\n",
            "2021-11-25 14:33:36,909 INFO: word embedding size: 185214\n",
            "2021-11-25 14:33:43,364 INFO: Model(\n",
            "  (token_embedder): ConvTokenEmbedder(\n",
            "    (word_emb_layer): EmbeddingLayer(\n",
            "      (embedding): Embedding(185214, 100, padding_idx=3)\n",
            "    )\n",
            "    (char_emb_layer): EmbeddingLayer(\n",
            "      (embedding): Embedding(2637, 50, padding_idx=2634)\n",
            "    )\n",
            "    (convolutions): ModuleList(\n",
            "      (0): Conv1d(50, 32, kernel_size=(1,), stride=(1,))\n",
            "      (1): Conv1d(50, 32, kernel_size=(2,), stride=(1,))\n",
            "      (2): Conv1d(50, 64, kernel_size=(3,), stride=(1,))\n",
            "      (3): Conv1d(50, 128, kernel_size=(4,), stride=(1,))\n",
            "      (4): Conv1d(50, 256, kernel_size=(5,), stride=(1,))\n",
            "      (5): Conv1d(50, 512, kernel_size=(6,), stride=(1,))\n",
            "      (6): Conv1d(50, 1024, kernel_size=(7,), stride=(1,))\n",
            "    )\n",
            "    (highways): Highway(\n",
            "      (_layers): ModuleList(\n",
            "        (0): Linear(in_features=2048, out_features=4096, bias=True)\n",
            "        (1): Linear(in_features=2048, out_features=4096, bias=True)\n",
            "      )\n",
            "    )\n",
            "    (projection): Linear(in_features=2148, out_features=512, bias=True)\n",
            "  )\n",
            "  (encoder): ElmobiLm(\n",
            "    (forward_layer_0): LstmCellWithProjection(\n",
            "      (input_linearity): Linear(in_features=512, out_features=16384, bias=False)\n",
            "      (state_linearity): Linear(in_features=512, out_features=16384, bias=True)\n",
            "      (state_projection): Linear(in_features=4096, out_features=512, bias=False)\n",
            "    )\n",
            "    (backward_layer_0): LstmCellWithProjection(\n",
            "      (input_linearity): Linear(in_features=512, out_features=16384, bias=False)\n",
            "      (state_linearity): Linear(in_features=512, out_features=16384, bias=True)\n",
            "      (state_projection): Linear(in_features=4096, out_features=512, bias=False)\n",
            "    )\n",
            "    (forward_layer_1): LstmCellWithProjection(\n",
            "      (input_linearity): Linear(in_features=512, out_features=16384, bias=False)\n",
            "      (state_linearity): Linear(in_features=512, out_features=16384, bias=True)\n",
            "      (state_projection): Linear(in_features=4096, out_features=512, bias=False)\n",
            "    )\n",
            "    (backward_layer_1): LstmCellWithProjection(\n",
            "      (input_linearity): Linear(in_features=512, out_features=16384, bias=False)\n",
            "      (state_linearity): Linear(in_features=512, out_features=16384, bias=True)\n",
            "      (state_projection): Linear(in_features=4096, out_features=512, bias=False)\n",
            "    )\n",
            "  )\n",
            ")\n"
          ]
        }
      ]
    },
    {
      "cell_type": "code",
      "metadata": {
        "id": "KvZeBbvT-dJ3"
      },
      "source": [
        "sentences = list(map(preprocessor,data.diagnostic))"
      ],
      "execution_count": 19,
      "outputs": []
    },
    {
      "cell_type": "code",
      "metadata": {
        "id": "VO01udeX_EQF",
        "colab": {
          "base_uri": "https://localhost:8080/"
        },
        "outputId": "81fbdf3f-4721-45f8-8314-affc4e1c9e4a"
      },
      "source": [
        "features_raw = e.sents2elmo(sentences[:1000])"
      ],
      "execution_count": 20,
      "outputs": [
        {
          "output_type": "stream",
          "name": "stderr",
          "text": [
            "2021-11-25 14:33:45,332 INFO: 16 batches, avg len: 6.8\n",
            "2021-11-25 14:34:49,176 INFO: Finished 1000 sentences.\n"
          ]
        }
      ]
    },
    {
      "cell_type": "code",
      "metadata": {
        "id": "FqaHkkokAfTJ",
        "colab": {
          "base_uri": "https://localhost:8080/"
        },
        "outputId": "7df49662-09ea-44b4-e0cc-8264cef5d0f6"
      },
      "source": [
        "sentences[7]"
      ],
      "execution_count": 31,
      "outputs": [
        {
          "output_type": "execute_result",
          "data": {
            "text/plain": [
              "['trastornos', 'de', 'disco', 'lumbar', 'y', 'otros', 'con', 'radiculopatia']"
            ]
          },
          "metadata": {},
          "execution_count": 31
        }
      ]
    },
    {
      "cell_type": "code",
      "metadata": {
        "colab": {
          "base_uri": "https://localhost:8080/"
        },
        "id": "41NuoKfLq7Io",
        "outputId": "d4103b6b-14b9-41c6-abb5-eedae7d12d25"
      },
      "source": [
        "sentences[13]"
      ],
      "execution_count": 32,
      "outputs": [
        {
          "output_type": "execute_result",
          "data": {
            "text/plain": [
              "['otros', 'trastornos', 'de', 'los', 'meniscos']"
            ]
          },
          "metadata": {},
          "execution_count": 32
        }
      ]
    },
    {
      "cell_type": "code",
      "metadata": {
        "colab": {
          "base_uri": "https://localhost:8080/"
        },
        "id": "EAyFGV10q7Cd",
        "outputId": "fbece042-3b84-47d5-bed1-4dab41ad42e3"
      },
      "source": [
        "features_raw[7][0]"
      ],
      "execution_count": 33,
      "outputs": [
        {
          "output_type": "execute_result",
          "data": {
            "text/plain": [
              "array([ 0.6314876 , -2.6302946 , -1.4984566 , ..., -1.6663014 ,\n",
              "       -0.40358368, -1.0974369 ], dtype=float32)"
            ]
          },
          "metadata": {},
          "execution_count": 33
        }
      ]
    },
    {
      "cell_type": "code",
      "metadata": {
        "colab": {
          "base_uri": "https://localhost:8080/"
        },
        "id": "uMdg2vXjq643",
        "outputId": "9a8a5914-89be-4d72-901b-f32537219a0e"
      },
      "source": [
        "features_raw[13][1]"
      ],
      "execution_count": 34,
      "outputs": [
        {
          "output_type": "execute_result",
          "data": {
            "text/plain": [
              "array([ 0.9374135, -2.4243765, -1.0968893, ..., -1.8768088, -0.4661292,\n",
              "       -1.4983397], dtype=float32)"
            ]
          },
          "metadata": {},
          "execution_count": 34
        }
      ]
    },
    {
      "cell_type": "markdown",
      "metadata": {
        "id": "q4-POTWOJ-lE"
      },
      "source": [
        "## Actividad 6: Comparación\n",
        "\n",
        "1. Calcule un vector único asociado a cada diagnóstico utilizando word2vec, fastText y ELMO.\n",
        "2. Entrene un modelo de clasificación utilizando cada representación que resuelva la misma tarea de predicción de especialidades y compare los resultados de cada representación."
      ]
    },
    {
      "cell_type": "code",
      "metadata": {
        "id": "pNsItyqcsEMW"
      },
      "source": [
        "features_w2v = features"
      ],
      "execution_count": 36,
      "outputs": []
    },
    {
      "cell_type": "code",
      "metadata": {
        "id": "hiOnNyp5sNFM"
      },
      "source": [
        "features_ft = np.zeros(shape=(len(data),model_fasttext.wv.vectors.shape[1]))\n",
        "for i,diagnostic in enumerate(data.diagnostic):\n",
        "  features[i,:] = vectorizer(preprocessor(diagnostic),model_fasttext)"
      ],
      "execution_count": 37,
      "outputs": []
    },
    {
      "cell_type": "code",
      "metadata": {
        "id": "s-HV4VZKr8Rd"
      },
      "source": [
        "features_elmo = []\n",
        "for doc in features_raw:\n",
        "  features_elmo.append(doc.mean(0))\n",
        "features_elmo = np.vstack(features_elmo)"
      ],
      "execution_count": 35,
      "outputs": []
    },
    {
      "cell_type": "code",
      "metadata": {
        "colab": {
          "base_uri": "https://localhost:8080/"
        },
        "id": "CXO4BV_PsZ__",
        "outputId": "77505690-598a-4a82-92ec-2e3dc3e905a5"
      },
      "source": [
        "# Word2vec\n",
        "cv_results = sklearn.model_selection.cross_validate(sklearn.linear_model.LogisticRegression(max_iter=10000),features_w2v[:10000],data.specialty[:10000])\n",
        "cv_results[\"test_score\"].mean()"
      ],
      "execution_count": 39,
      "outputs": [
        {
          "output_type": "execute_result",
          "data": {
            "text/plain": [
              "0.8391"
            ]
          },
          "metadata": {},
          "execution_count": 39
        }
      ]
    },
    {
      "cell_type": "code",
      "metadata": {
        "colab": {
          "base_uri": "https://localhost:8080/"
        },
        "id": "DRSKs9W3shgG",
        "outputId": "eb9c38fc-8c1e-4844-b8ab-e18567dac469"
      },
      "source": [
        "# fastText\n",
        "cv_results = sklearn.model_selection.cross_validate(sklearn.linear_model.LogisticRegression(max_iter=10000),features_ft[:10000],data.specialty[:10000])\n",
        "cv_results[\"test_score\"].mean()"
      ],
      "execution_count": 43,
      "outputs": [
        {
          "output_type": "execute_result",
          "data": {
            "text/plain": [
              "0.5079"
            ]
          },
          "metadata": {},
          "execution_count": 43
        }
      ]
    },
    {
      "cell_type": "code",
      "metadata": {
        "colab": {
          "base_uri": "https://localhost:8080/"
        },
        "id": "4yjIF4POsqu5",
        "outputId": "fa746da0-7798-44df-da99-e64b385d71f9"
      },
      "source": [
        "# ELMO\n",
        "cv_results = sklearn.model_selection.cross_validate(sklearn.linear_model.LogisticRegression(max_iter=1000),features_elmo[:1000],data.specialty[:1000])\n",
        "cv_results[\"test_score\"].mean()"
      ],
      "execution_count": 42,
      "outputs": [
        {
          "output_type": "execute_result",
          "data": {
            "text/plain": [
              "0.858"
            ]
          },
          "metadata": {},
          "execution_count": 42
        }
      ]
    }
  ]
}