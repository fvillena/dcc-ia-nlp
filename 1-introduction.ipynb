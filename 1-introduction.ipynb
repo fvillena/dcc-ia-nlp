{
  "nbformat": 4,
  "nbformat_minor": 0,
  "metadata": {
    "colab": {
      "name": "1-introduction.ipynb",
      "provenance": [],
      "authorship_tag": "ABX9TyM8wHQNYH72LWbWE2sMctCv",
      "include_colab_link": true
    },
    "kernelspec": {
      "name": "python3",
      "display_name": "Python 3"
    }
  },
  "cells": [
    {
      "cell_type": "markdown",
      "metadata": {
        "id": "view-in-github",
        "colab_type": "text"
      },
      "source": [
        "<a href=\"https://colab.research.google.com/github/fvillena/dcc-ia-nlp/blob/master/1-introduction.ipynb\" target=\"_parent\"><img src=\"https://colab.research.google.com/assets/colab-badge.svg\" alt=\"Open In Colab\"/></a>"
      ]
    },
    {
      "cell_type": "markdown",
      "metadata": {
        "id": "BQqLxqHQq-GN"
      },
      "source": [
        "# Introducción"
      ]
    },
    {
      "cell_type": "markdown",
      "metadata": {
        "id": "Lexwob8PrGvc"
      },
      "source": [
        "Descargamos los datos necesarios para las actividades"
      ]
    },
    {
      "cell_type": "code",
      "metadata": {
        "id": "hF7EbQTkqeBU",
        "outputId": "3ff1a127-75ea-4233-bbb7-7cc301ac4a2e",
        "colab": {
          "base_uri": "https://localhost:8080/"
        }
      },
      "source": [
        "!wget https://raw.githubusercontent.com/fvillena/dcc-ia-nlp/master/data/rae.txt\n",
        "!wget https://raw.githubusercontent.com/fvillena/dcc-ia-nlp/master/data/pacientesA.txt\n",
        "!wget https://raw.githubusercontent.com/fvillena/dcc-ia-nlp/master/data/pacientesB.txt\n",
        "!wget https://raw.githubusercontent.com/fvillena/dcc-ia-nlp/master/data/proveedoresA.txt"
      ],
      "execution_count": 15,
      "outputs": [
        {
          "output_type": "stream",
          "text": [
            "--2020-10-30 18:22:00--  https://raw.githubusercontent.com/fvillena/dcc-ia-nlp/master/data/rae.txt\n",
            "Resolving raw.githubusercontent.com (raw.githubusercontent.com)... 151.101.0.133, 151.101.64.133, 151.101.128.133, ...\n",
            "Connecting to raw.githubusercontent.com (raw.githubusercontent.com)|151.101.0.133|:443... connected.\n",
            "HTTP request sent, awaiting response... 200 OK\n",
            "Length: 145 [text/plain]\n",
            "Saving to: ‘rae.txt.3’\n",
            "\n",
            "\rrae.txt.3             0%[                    ]       0  --.-KB/s               \rrae.txt.3           100%[===================>]     145  --.-KB/s    in 0s      \n",
            "\n",
            "2020-10-30 18:22:00 (6.42 MB/s) - ‘rae.txt.3’ saved [145/145]\n",
            "\n",
            "--2020-10-30 18:22:00--  https://raw.githubusercontent.com/fvillena/dcc-ia-nlp/master/data/pacientesA.txt\n",
            "Resolving raw.githubusercontent.com (raw.githubusercontent.com)... 151.101.0.133, 151.101.64.133, 151.101.128.133, ...\n",
            "Connecting to raw.githubusercontent.com (raw.githubusercontent.com)|151.101.0.133|:443... connected.\n",
            "HTTP request sent, awaiting response... 200 OK\n",
            "Length: 33 [text/plain]\n",
            "Saving to: ‘pacientesA.txt.2’\n",
            "\n",
            "pacientesA.txt.2    100%[===================>]      33  --.-KB/s    in 0s      \n",
            "\n",
            "2020-10-30 18:22:00 (301 KB/s) - ‘pacientesA.txt.2’ saved [33/33]\n",
            "\n",
            "--2020-10-30 18:22:00--  https://raw.githubusercontent.com/fvillena/dcc-ia-nlp/master/data/pacientesB.txt\n",
            "Resolving raw.githubusercontent.com (raw.githubusercontent.com)... 151.101.0.133, 151.101.64.133, 151.101.128.133, ...\n",
            "Connecting to raw.githubusercontent.com (raw.githubusercontent.com)|151.101.0.133|:443... connected.\n",
            "HTTP request sent, awaiting response... 200 OK\n",
            "Length: 47 [text/plain]\n",
            "Saving to: ‘pacientesB.txt.2’\n",
            "\n",
            "pacientesB.txt.2    100%[===================>]      47  --.-KB/s    in 0s      \n",
            "\n",
            "2020-10-30 18:22:00 (2.20 MB/s) - ‘pacientesB.txt.2’ saved [47/47]\n",
            "\n",
            "--2020-10-30 18:22:00--  https://raw.githubusercontent.com/fvillena/dcc-ia-nlp/master/data/proveedoresA.txt\n",
            "Resolving raw.githubusercontent.com (raw.githubusercontent.com)... 151.101.0.133, 151.101.64.133, 151.101.128.133, ...\n",
            "Connecting to raw.githubusercontent.com (raw.githubusercontent.com)|151.101.0.133|:443... connected.\n",
            "HTTP request sent, awaiting response... 200 OK\n",
            "Length: 118 [text/plain]\n",
            "Saving to: ‘proveedoresA.txt.1’\n",
            "\n",
            "proveedoresA.txt.1  100%[===================>]     118  --.-KB/s    in 0s      \n",
            "\n",
            "2020-10-30 18:22:00 (5.14 MB/s) - ‘proveedoresA.txt.1’ saved [118/118]\n",
            "\n"
          ],
          "name": "stdout"
        }
      ]
    },
    {
      "cell_type": "markdown",
      "metadata": {
        "id": "EDDUUTUtrN3E"
      },
      "source": [
        "## Actividad 1: RAE\n",
        "\n",
        "Desde el archivo rae.txt almacene la palabra y sus significados en una lista y en un diccionario. Implemente una función que dada una palabra retorne los significados. Compare los tiempos de respuesta al realizar la búsqueda sobre la lista y el diccionario."
      ]
    },
    {
      "cell_type": "code",
      "metadata": {
        "id": "YHVlNzZUsJZH",
        "outputId": "8d21ad7d-92df-431d-e238-7849e737deee",
        "colab": {
          "base_uri": "https://localhost:8080/"
        }
      },
      "source": [
        "# Así leemos archivos de texto\n",
        "with open(\"rae.txt\", \"r\") as f:\n",
        "  for raw_line in f:\n",
        "    line = raw_line.rstrip() # el método String.rstrip() elimina caracteres innecesarios al final del string.\n",
        "    print(line)"
      ],
      "execution_count": 7,
      "outputs": [
        {
          "output_type": "stream",
          "text": [
            "lapiz\telemento para escribir\telemento para dibujar\n",
            "sacapunta\telemento para sacarpunta\tarma de ataque\n",
            "goma\telemento para borrar\tpersonal de apoyo\n"
          ],
          "name": "stdout"
        }
      ]
    },
    {
      "cell_type": "code",
      "metadata": {
        "id": "y7t3o2k6siKG"
      },
      "source": [
        "# Prográmame\n",
        "def definitions_from_rae_list(word):\n",
        "  pass\n",
        "def definitions_from_rae_dict(word):\n",
        "  pass"
      ],
      "execution_count": 8,
      "outputs": []
    },
    {
      "cell_type": "code",
      "metadata": {
        "id": "zOSqmazJtILk"
      },
      "source": [
        "definitions_from_rae_list(\"lapiz\")\n",
        "definitions_from_rae_dict(\"sacapunta\")"
      ],
      "execution_count": 9,
      "outputs": []
    },
    {
      "cell_type": "markdown",
      "metadata": {
        "id": "lGrcItr8tfEn"
      },
      "source": [
        "Programe una función que dado un archivo de texto, una palabra y un par de definiciones, el archivo de texto sea actualizado agregando la palabra y definiciones nuevas."
      ]
    },
    {
      "cell_type": "code",
      "metadata": {
        "id": "GRtZOGygtsW7"
      },
      "source": [
        "# Prográmame\n",
        "def update_rae(rae_file,word,definitions):\n",
        "  pass"
      ],
      "execution_count": 10,
      "outputs": []
    },
    {
      "cell_type": "code",
      "metadata": {
        "id": "Pe3kST4_t4Av"
      },
      "source": [
        "update_rae(\"rae.txt\",\"estuche\",[\"envoltura para guardar ordenadamente un objeto o varios\",\"envoltura que reviste y protege algo\"])"
      ],
      "execution_count": 11,
      "outputs": []
    },
    {
      "cell_type": "markdown",
      "metadata": {
        "id": "fxCGm0kNuUJk"
      },
      "source": [
        "## Actividad 2: Combinar archivos\n",
        "\n",
        "Suponga que se tienen dos lista de pacientesA.txt y pacientesB.txt en un formato csv (nombre,rut).\n",
        "Implemente un programa que cree un archivos con todos los pacientes, imprima el total de pacientes en A, B y la suma total."
      ]
    },
    {
      "cell_type": "code",
      "metadata": {
        "id": "EmBfTgzFuPWA"
      },
      "source": [
        "# Prográmame\n",
        "def combine_patient_lists(patient_lists):\n",
        "  pass"
      ],
      "execution_count": 12,
      "outputs": []
    },
    {
      "cell_type": "code",
      "metadata": {
        "id": "Ne-mY0bdu6jD"
      },
      "source": [
        "combine_patient_lists([\"pacientesA.txt\",\"pacientesB.txt\"])"
      ],
      "execution_count": 13,
      "outputs": []
    },
    {
      "cell_type": "markdown",
      "metadata": {
        "id": "i_uq-g5pvt2M"
      },
      "source": [
        "## Actividad 3: Fármacos\n",
        "\n",
        "Desde el archivo proveedoresA.txt cree una función que lea cada linea y extraiga la información contenida en 5 grupos.\n",
        "\n",
        "El formato de cada linea es el siguiente:\n",
        "\n",
        "`PFZ-000000000001-001,Aspirinas 50 mg en paquetes de 25,800`"
      ]
    },
    {
      "cell_type": "code",
      "metadata": {
        "id": "Y8CKZfJBwRjJ"
      },
      "source": [
        "# Prográmame\n",
        "def parse_medication_list(medication_list):\n",
        "  pass"
      ],
      "execution_count": 16,
      "outputs": []
    },
    {
      "cell_type": "code",
      "metadata": {
        "id": "3zY9x2KUwgM_"
      },
      "source": [
        "parse_medication_list(\"proveedoresA.txt\")"
      ],
      "execution_count": 17,
      "outputs": []
    },
    {
      "cell_type": "code",
      "metadata": {
        "id": "Pyzv6ExRwkNi"
      },
      "source": [
        ""
      ],
      "execution_count": null,
      "outputs": []
    }
  ]
}