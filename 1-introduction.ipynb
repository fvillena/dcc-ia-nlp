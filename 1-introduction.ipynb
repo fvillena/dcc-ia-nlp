{
  "cells": [
    {
      "cell_type": "markdown",
      "metadata": {
        "colab_type": "text",
        "id": "view-in-github"
      },
      "source": [
        "<a href=\"https://colab.research.google.com/github/fvillena/dcc-ia-nlp/blob/master/1-introduction.ipynb\" target=\"_parent\"><img src=\"https://colab.research.google.com/assets/colab-badge.svg\" alt=\"Open In Colab\"/></a>"
      ]
    },
    {
      "cell_type": "markdown",
      "metadata": {
        "id": "BQqLxqHQq-GN"
      },
      "source": [
        "# Introducción"
      ]
    },
    {
      "cell_type": "markdown",
      "metadata": {},
      "source": [
        "sasa"
      ]
    },
    {
      "cell_type": "markdown",
      "metadata": {
        "id": "H83KqYty7Isi"
      },
      "source": [
        "Estas son las bibliotecas y módulos necesarios."
      ]
    },
    {
      "cell_type": "code",
      "execution_count": null,
      "metadata": {
        "id": "21BbHj_N7G0D"
      },
      "outputs": [],
      "source": [
        "import pandas as pd"
      ]
    },
    {
      "cell_type": "markdown",
      "metadata": {
        "id": "Lexwob8PrGvc"
      },
      "source": [
        "Descargamos los datos necesarios para las actividades"
      ]
    },
    {
      "cell_type": "code",
      "execution_count": null,
      "metadata": {
        "colab": {
          "base_uri": "https://localhost:8080/"
        },
        "id": "hF7EbQTkqeBU",
        "outputId": "7fa45c04-9a87-46ee-c59b-9977d181033c"
      },
      "outputs": [
        {
          "name": "stdout",
          "output_type": "stream",
          "text": [
            "--2021-11-15 14:50:00--  https://raw.githubusercontent.com/fvillena/dcc-ia-nlp/master/data/aysen_corto.csv\n",
            "Resolving raw.githubusercontent.com (raw.githubusercontent.com)... 185.199.108.133, 185.199.109.133, 185.199.110.133, ...\n",
            "Connecting to raw.githubusercontent.com (raw.githubusercontent.com)|185.199.108.133|:443... connected.\n",
            "HTTP request sent, awaiting response... 200 OK\n",
            "Length: 4665 (4.6K) [text/plain]\n",
            "Saving to: ‘aysen_corto.csv.2’\n",
            "\n",
            "\raysen_corto.csv.2     0%[                    ]       0  --.-KB/s               \raysen_corto.csv.2   100%[===================>]   4.56K  --.-KB/s    in 0s      \n",
            "\n",
            "2021-11-15 14:50:00 (65.4 MB/s) - ‘aysen_corto.csv.2’ saved [4665/4665]\n",
            "\n",
            "--2021-11-15 14:50:00--  https://raw.githubusercontent.com/fvillena/dcc-ia-nlp/master/data/proveedoresA.txt\n",
            "Resolving raw.githubusercontent.com (raw.githubusercontent.com)... 185.199.111.133, 185.199.109.133, 185.199.110.133, ...\n",
            "Connecting to raw.githubusercontent.com (raw.githubusercontent.com)|185.199.111.133|:443... connected.\n",
            "HTTP request sent, awaiting response... 200 OK\n",
            "Length: 118 [text/plain]\n",
            "Saving to: ‘proveedoresA.txt.2’\n",
            "\n",
            "proveedoresA.txt.2  100%[===================>]     118  --.-KB/s    in 0s      \n",
            "\n",
            "2021-11-15 14:50:00 (8.20 MB/s) - ‘proveedoresA.txt.2’ saved [118/118]\n",
            "\n",
            "--2021-11-15 14:50:01--  https://raw.githubusercontent.com/fvillena/dcc-ia-nlp/master/data/other_vhosts_access.log\n",
            "Resolving raw.githubusercontent.com (raw.githubusercontent.com)... 185.199.108.133, 185.199.109.133, 185.199.110.133, ...\n",
            "Connecting to raw.githubusercontent.com (raw.githubusercontent.com)|185.199.108.133|:443... connected.\n",
            "HTTP request sent, awaiting response... 200 OK\n",
            "Length: 6032 (5.9K) [text/plain]\n",
            "Saving to: ‘other_vhosts_access.log’\n",
            "\n",
            "other_vhosts_access 100%[===================>]   5.89K  --.-KB/s    in 0s      \n",
            "\n",
            "2021-11-15 14:50:01 (56.1 MB/s) - ‘other_vhosts_access.log’ saved [6032/6032]\n",
            "\n"
          ]
        }
      ],
      "source": [
        "!wget https://raw.githubusercontent.com/fvillena/dcc-ia-nlp/master/data/aysen_corto.csv\n",
        "!wget https://raw.githubusercontent.com/fvillena/dcc-ia-nlp/master/data/proveedoresA.txt\n",
        "!wget https://raw.githubusercontent.com/fvillena/dcc-ia-nlp/master/data/other_vhosts_access.log"
      ]
    },
    {
      "cell_type": "markdown",
      "metadata": {
        "id": "EDDUUTUtrN3E"
      },
      "source": [
        "## Actividad 1: Lectura y parsing\n",
        "\n",
        "1.   Utilizando la biblioteca Pandas, cargue el archivo `aysen_corto.csv` como un dataframe (revise los tipos de datos, cabecera y separador)\n",
        "2.   Mantenga solo las columnas `sexo`, `comuna`, y `prestación`.\n",
        "3.   Realice un conteo de los valores en de las columnas `sexo` y `comuna` y preséntelos en un gráfico.\n",
        "\n"
      ]
    },
    {
      "cell_type": "code",
      "execution_count": null,
      "metadata": {
        "id": "YHVlNzZUsJZH"
      },
      "outputs": [],
      "source": [
        "# HINTS:\n",
        "# https://pandas.pydata.org/docs/reference/api/pandas.read_csv.html\n",
        "# https://pandas.pydata.org/docs/reference/api/pandas.DataFrame.plot.html\n",
        "\n",
        "# Prográmame"
      ]
    },
    {
      "cell_type": "markdown",
      "metadata": {
        "id": "fxCGm0kNuUJk"
      },
      "source": [
        "## Actividad 2: Expresiones regulares y Dataframes\n",
        "\n",
        "El archivo `proveedoresA.txt` tiene lineas que presentan la siguiente estructura:\n",
        "\n",
        "`PFZ-000000000001-001,Aspirinas 50 [mg] en paquetes de 25,200`\n",
        "\n",
        "Cargue los datos en un dataframe e itere sobre el dataframe y para la primera columna utilice una expresión regular para separar los códigos e imprima sus partes, por ejemplo:\n",
        "\n",
        "  `Parte 1: PFZ`\n",
        "\n",
        "  `Parte 2: 000000000001`\n",
        "\n",
        "  `Parte 3: 001`\n",
        "\n",
        "El sitio web https://regexr.com/ es una buena interfaz para desarrollar expresiones regulares."
      ]
    },
    {
      "cell_type": "code",
      "execution_count": null,
      "metadata": {
        "id": "EmBfTgzFuPWA"
      },
      "outputs": [],
      "source": [
        "# HINT: df['X'].str.extract(r'regex!')\n",
        "\n",
        "# Prográmame"
      ]
    },
    {
      "cell_type": "markdown",
      "metadata": {
        "id": "i_uq-g5pvt2M"
      },
      "source": [
        "## Actividad 3: Estudio de un log de acceso\n",
        "\n",
        "El archivo `other_vhosts_access.log` contiene los registros de acceso a un servidor web, extraiga los IP desde donde se generan las visitas usando expresiones regulares en python. Con estas IP genere un archivo `.txt`, donde cada IP esta en una linea aparte. \n",
        "Con la lista de IP generada visualice en un mapa desde donde vienes las peticiones usando el sitio web https://www.showmyip.com/bulk-ip-lookup/, ¿cuántas visitas se originan desde rusia/ucrania/china/brasil?"
      ]
    },
    {
      "cell_type": "code",
      "execution_count": null,
      "metadata": {
        "id": "p_1NByBiEuNu"
      },
      "outputs": [],
      "source": [
        "# Prográmame"
      ]
    }
  ],
  "metadata": {
    "colab": {
      "include_colab_link": true,
      "name": "1-introduction.ipynb",
      "provenance": []
    },
    "kernelspec": {
      "display_name": "Python 3",
      "name": "python3"
    }
  },
  "nbformat": 4,
  "nbformat_minor": 0
}
