{
  "nbformat": 4,
  "nbformat_minor": 0,
  "metadata": {
    "colab": {
      "name": "6-embeddings-classification.ipynb",
      "provenance": [],
      "authorship_tag": "ABX9TyOJtJlQKD4Jipg8Xdt8jePl",
      "include_colab_link": true
    },
    "kernelspec": {
      "name": "python3",
      "display_name": "Python 3"
    }
  },
  "cells": [
    {
      "cell_type": "markdown",
      "metadata": {
        "id": "view-in-github",
        "colab_type": "text"
      },
      "source": [
        "<a href=\"https://colab.research.google.com/github/fvillena/dcc-ia-nlp/blob/master/6-embeddings-classification.ipynb\" target=\"_parent\"><img src=\"https://colab.research.google.com/assets/colab-badge.svg\" alt=\"Open In Colab\"/></a>"
      ]
    },
    {
      "cell_type": "markdown",
      "metadata": {
        "id": "pXbTvZny7WAp"
      },
      "source": [
        "# Embeddings y clasificación"
      ]
    },
    {
      "cell_type": "code",
      "metadata": {
        "id": "ES50nm3X1GCP",
        "outputId": "4d7ab18f-adee-4b5f-ed00-7353a2ce8996",
        "colab": {
          "base_uri": "https://localhost:8080/"
        }
      },
      "source": [
        "!wget https://raw.githubusercontent.com/fvillena/workshopEmbeddingsAndClassifiers/master/corpus.txt\n",
        "!wget https://raw.githubusercontent.com/fvillena/workshopEmbeddingsAndClassifiers/master/data.csv"
      ],
      "execution_count": 1,
      "outputs": [
        {
          "output_type": "stream",
          "text": [
            "--2020-11-07 04:40:57--  https://raw.githubusercontent.com/fvillena/workshopEmbeddingsAndClassifiers/master/corpus.txt\n",
            "Resolving raw.githubusercontent.com (raw.githubusercontent.com)... 151.101.0.133, 151.101.64.133, 151.101.128.133, ...\n",
            "Connecting to raw.githubusercontent.com (raw.githubusercontent.com)|151.101.0.133|:443... connected.\n",
            "HTTP request sent, awaiting response... 200 OK\n",
            "Length: 7394290 (7.1M) [text/plain]\n",
            "Saving to: ‘corpus.txt.2’\n",
            "\n",
            "corpus.txt.2        100%[===================>]   7.05M  21.7MB/s    in 0.3s    \n",
            "\n",
            "2020-11-07 04:40:58 (21.7 MB/s) - ‘corpus.txt.2’ saved [7394290/7394290]\n",
            "\n",
            "--2020-11-07 04:40:58--  https://raw.githubusercontent.com/fvillena/workshopEmbeddingsAndClassifiers/master/data.csv\n",
            "Resolving raw.githubusercontent.com (raw.githubusercontent.com)... 151.101.0.133, 151.101.64.133, 151.101.128.133, ...\n",
            "Connecting to raw.githubusercontent.com (raw.githubusercontent.com)|151.101.0.133|:443... connected.\n",
            "HTTP request sent, awaiting response... 200 OK\n",
            "Length: 2125438 (2.0M) [text/plain]\n",
            "Saving to: ‘data.csv.2’\n",
            "\n",
            "data.csv.2          100%[===================>]   2.03M  12.6MB/s    in 0.2s    \n",
            "\n",
            "2020-11-07 04:40:59 (12.6 MB/s) - ‘data.csv.2’ saved [2125438/2125438]\n",
            "\n"
          ],
          "name": "stdout"
        }
      ]
    },
    {
      "cell_type": "code",
      "metadata": {
        "id": "YbAl0fBixMWP"
      },
      "source": [
        "import nltk\n",
        "import gensim\n",
        "import re\n",
        "import pandas as pd\n",
        "import sklearn\n",
        "import numpy as np"
      ],
      "execution_count": 2,
      "outputs": []
    },
    {
      "cell_type": "markdown",
      "metadata": {
        "id": "lmsItPYb7cD3"
      },
      "source": [
        "Cargamos nuestro corpus que contiene muchos diagnósticos en texto libre"
      ]
    },
    {
      "cell_type": "code",
      "metadata": {
        "id": "nWbPyqTW1DoZ"
      },
      "source": [
        "corpus = []\n",
        "with open(\"corpus.txt\", encoding=\"utf-8\") as f:\n",
        "  for line in f:\n",
        "    corpus.append(line.rstrip())"
      ],
      "execution_count": 3,
      "outputs": []
    },
    {
      "cell_type": "markdown",
      "metadata": {
        "id": "Qd7WWcql7iCa"
      },
      "source": [
        "Cargamos nuestro conjunto de datos que contiene diagnósticos, junto a las especialidades a los que fueron referidos."
      ]
    },
    {
      "cell_type": "code",
      "metadata": {
        "id": "e26UiOrb2VwN"
      },
      "source": [
        "data = pd.read_csv(\"data.csv\")"
      ],
      "execution_count": 4,
      "outputs": []
    },
    {
      "cell_type": "code",
      "metadata": {
        "id": "Lp-NxJIn60Mf",
        "outputId": "d5f8ceda-889b-4f75-f138-0a4563a260bc",
        "colab": {
          "base_uri": "https://localhost:8080/",
          "height": 419
        }
      },
      "source": [
        "data"
      ],
      "execution_count": 5,
      "outputs": [
        {
          "output_type": "execute_result",
          "data": {
            "text/html": [
              "<div>\n",
              "<style scoped>\n",
              "    .dataframe tbody tr th:only-of-type {\n",
              "        vertical-align: middle;\n",
              "    }\n",
              "\n",
              "    .dataframe tbody tr th {\n",
              "        vertical-align: top;\n",
              "    }\n",
              "\n",
              "    .dataframe thead th {\n",
              "        text-align: right;\n",
              "    }\n",
              "</style>\n",
              "<table border=\"1\" class=\"dataframe\">\n",
              "  <thead>\n",
              "    <tr style=\"text-align: right;\">\n",
              "      <th></th>\n",
              "      <th>diagnostic</th>\n",
              "      <th>specialty</th>\n",
              "    </tr>\n",
              "  </thead>\n",
              "  <tbody>\n",
              "    <tr>\n",
              "      <th>0</th>\n",
              "      <td>Esguinces y torceduras de dedo(s) de la mano</td>\n",
              "      <td>TRAUMATOLOGIA</td>\n",
              "    </tr>\n",
              "    <tr>\n",
              "      <th>1</th>\n",
              "      <td>Epicondilitis media</td>\n",
              "      <td>TRAUMATOLOGIA</td>\n",
              "    </tr>\n",
              "    <tr>\n",
              "      <th>2</th>\n",
              "      <td>Coxartrosis primaria, bilateral</td>\n",
              "      <td>TRAUMATOLOGIA</td>\n",
              "    </tr>\n",
              "    <tr>\n",
              "      <th>3</th>\n",
              "      <td>DISCOPATIA</td>\n",
              "      <td>TRAUMATOLOGIA</td>\n",
              "    </tr>\n",
              "    <tr>\n",
              "      <th>4</th>\n",
              "      <td>Consulta no Especificada</td>\n",
              "      <td>TRAUMATOLOGIA</td>\n",
              "    </tr>\n",
              "    <tr>\n",
              "      <th>...</th>\n",
              "      <td>...</td>\n",
              "      <td>...</td>\n",
              "    </tr>\n",
              "    <tr>\n",
              "      <th>42959</th>\n",
              "      <td>ATENCION MEDICA, NO ESPECIFICADA</td>\n",
              "      <td>OFTALMOLOGIA</td>\n",
              "    </tr>\n",
              "    <tr>\n",
              "      <th>42960</th>\n",
              "      <td>Consulta no Especificada</td>\n",
              "      <td>OFTALMOLOGIA</td>\n",
              "    </tr>\n",
              "    <tr>\n",
              "      <th>42961</th>\n",
              "      <td>Consulta no Especificada</td>\n",
              "      <td>OFTALMOLOGIA</td>\n",
              "    </tr>\n",
              "    <tr>\n",
              "      <th>42962</th>\n",
              "      <td>ATENCION MEDICA, NO ESPECIFICADA</td>\n",
              "      <td>OFTALMOLOGIA</td>\n",
              "    </tr>\n",
              "    <tr>\n",
              "      <th>42963</th>\n",
              "      <td>Consulta no Especificada</td>\n",
              "      <td>OFTALMOLOGIA</td>\n",
              "    </tr>\n",
              "  </tbody>\n",
              "</table>\n",
              "<p>42964 rows × 2 columns</p>\n",
              "</div>"
            ],
            "text/plain": [
              "                                         diagnostic      specialty\n",
              "0      Esguinces y torceduras de dedo(s) de la mano  TRAUMATOLOGIA\n",
              "1                               Epicondilitis media  TRAUMATOLOGIA\n",
              "2                   Coxartrosis primaria, bilateral  TRAUMATOLOGIA\n",
              "3                                        DISCOPATIA  TRAUMATOLOGIA\n",
              "4                          Consulta no Especificada  TRAUMATOLOGIA\n",
              "...                                             ...            ...\n",
              "42959              ATENCION MEDICA, NO ESPECIFICADA   OFTALMOLOGIA\n",
              "42960                      Consulta no Especificada   OFTALMOLOGIA\n",
              "42961                      Consulta no Especificada   OFTALMOLOGIA\n",
              "42962              ATENCION MEDICA, NO ESPECIFICADA   OFTALMOLOGIA\n",
              "42963                      Consulta no Especificada   OFTALMOLOGIA\n",
              "\n",
              "[42964 rows x 2 columns]"
            ]
          },
          "metadata": {
            "tags": []
          },
          "execution_count": 5
        }
      ]
    },
    {
      "cell_type": "code",
      "metadata": {
        "id": "9d6rAQn11e1n"
      },
      "source": [
        "def normalizer(text): #normalizes a given string to lowercase and changes all vowels to their base form\n",
        "    text = text.lower() #string lowering\n",
        "    text = re.sub(r'[^A-Za-zñáéíóú]', ' ', text) #replaces every punctuation with a space\n",
        "    text = re.sub('á', 'a', text) #replaces special vowels to their base forms\n",
        "    text = re.sub('é', 'e', text)\n",
        "    text = re.sub('í', 'i', text)\n",
        "    text = re.sub('ó', 'o', text)\n",
        "    text = re.sub('ú', 'u', text)\n",
        "    return text"
      ],
      "execution_count": 6,
      "outputs": []
    },
    {
      "cell_type": "code",
      "metadata": {
        "id": "FQ-iCU451mwB"
      },
      "source": [
        "def preprocessor(text):\n",
        "  text = normalizer(text)\n",
        "  tokens = nltk.tokenize.casual_tokenize(text)\n",
        "  return tokens"
      ],
      "execution_count": 7,
      "outputs": []
    },
    {
      "cell_type": "code",
      "metadata": {
        "id": "K-7oBaZt76Zc"
      },
      "source": [
        "def vectorizer(text, model): #returns a vector representation from a list of words and a given model\n",
        "    vectors = []\n",
        "    for i in text:\n",
        "        try:\n",
        "            vectors.append(model.wv[i])\n",
        "        except:\n",
        "            pass\n",
        "    return(np.nan_to_num(np.mean(vectors,axis=0)))"
      ],
      "execution_count": 8,
      "outputs": []
    },
    {
      "cell_type": "markdown",
      "metadata": {
        "id": "UlehFoo_5Rt9"
      },
      "source": [
        "## Actividad 1: Cálculo de los embeddings\n",
        "\n",
        "Calcule un word embedding utilizando word2vec sobre `corpus`. Recuerde que debe preprocesar el texto antes de calcular los embeddings."
      ]
    },
    {
      "cell_type": "code",
      "metadata": {
        "id": "o4HneQ8m65lB"
      },
      "source": [
        "# prográmame\n",
        "#\n",
        "#\n",
        "#"
      ],
      "execution_count": 9,
      "outputs": []
    },
    {
      "cell_type": "markdown",
      "metadata": {
        "id": "DBzLdp8w5wlF"
      },
      "source": [
        "## Actividad 2: Clasificación\n",
        "\n",
        "Construya para cada documento almacenado en `data.diagnostic` un vector de características utilizando los embeddings calculados anteriormente. Debe decidir cómo va a combinar los embeddings de cada una de las palabras del documento en un sólo vector que defina cada documento.\n",
        "\n",
        "Cuando ya tenga calculada su matriz de características entrene un modelo que predica la especialidad almacenada en `data.specialty` dutilizando algún algoritmo conocido por usted y calcule la exactitud del modelo."
      ]
    },
    {
      "cell_type": "code",
      "metadata": {
        "id": "5Du684Pc69H_"
      },
      "source": [
        "# prográmame\n",
        "#\n",
        "#\n",
        "#"
      ],
      "execution_count": 10,
      "outputs": []
    },
    {
      "cell_type": "markdown",
      "metadata": {
        "id": "eXO0XShV6Tt6"
      },
      "source": [
        "## Actividad 3: Predictor de especialidad\n",
        "\n",
        "Construya una función que dado un diagnóstico, retorne la especialidad más adecuada para referir utilizando su modelo entrenado anteriormente."
      ]
    },
    {
      "cell_type": "code",
      "metadata": {
        "id": "tz-R3Smm7C6O"
      },
      "source": [
        "def predict_specialty(diagnostic):\n",
        "  # prográmame\n",
        "  #\n",
        "  #\n",
        "  #\n",
        "  pass"
      ],
      "execution_count": 11,
      "outputs": []
    },
    {
      "cell_type": "code",
      "metadata": {
        "id": "ZA_d9p825uyw"
      },
      "source": [
        "predict_specialty(\"fractura de cadera\")"
      ],
      "execution_count": 12,
      "outputs": []
    }
  ]
}