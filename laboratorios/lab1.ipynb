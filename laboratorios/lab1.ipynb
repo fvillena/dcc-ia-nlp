{
 "cells": [
  {
   "cell_type": "markdown",
   "metadata": {},
   "source": [
    "# Laboratorio 1: Archivos y expresiones regulares.\n",
    "\n",
    "##### <strong>Manejo archivos y Pandas </strong>\n",
    "\n",
    "### Cuerpo Docente\n",
    "\n",
    "- Profesores: [Andrés Abeliuk](https://aabeliuk.github.io/), [Felipe Villena](https://fabianvillena.cl/).\n",
    "- Profesor Auxiliar: [Gabriel Iturra](https://giturra.cl/)"
   ]
  },
  {
   "cell_type": "markdown",
   "metadata": {},
   "source": [
    "## Actividades"
   ]
  },
  {
   "cell_type": "markdown",
   "metadata": {},
   "source": [
    "En muchas ocasiones, las bibliotecas necesitan inventariar la información de todos los libros disponibles en su stock. Dado que la información puede estar sin procesar o contener errores, se te solicita, en tu calidad de estudiante del módulo de Procesamiento del Lenguaje Natural (NLP), que revises la información contenida en el archivo libros.txt."
   ]
  },
  {
   "cell_type": "markdown",
   "metadata": {},
   "source": [
    "### Pregunta 1\n",
    "\n",
    "Para revisar la información debe realiar los siguientes pasos usando sólo funciones nativas de Python:\n",
    "\n",
    "- Leer el Archivo: Abrir el archivo libros.txt y leer su contenido.\n",
    "- Transformación de Strings: Convertir los títulos de los libros y los nombres de los autores a mayúsculas.\n",
    "- Búsqueda de Strings: Encontrar y mostrar todos los libros que contienen la palabra 'la' en el título.\n",
    "- Split de Strings: Para cada autor, extraer y mostrar solo su primer nombre.\n",
    "- Reemplazo de Strings: Reemplazar cualquier instancia de 'y' por '&' en los títulos de los libros y mostrar los títulos modificados.\n",
    "- Longitud de Strings: Calcular y mostrar la cantidad de palabras en el título de cada libro."
   ]
  },
  {
   "cell_type": "code",
   "execution_count": 2,
   "metadata": {},
   "outputs": [],
   "source": [
    "# codigo "
   ]
  },
  {
   "cell_type": "markdown",
   "metadata": {},
   "source": [
    "### Pregunta 2\n",
    "\n",
    "Para pregunta 2, deberas realizar los mismos pasos anteriores usando ```pandas``` y sus funciones de trabajo de strings. "
   ]
  },
  {
   "cell_type": "code",
   "execution_count": 3,
   "metadata": {},
   "outputs": [],
   "source": [
    "# codigo aqui\n",
    "\n",
    "()"
   ]
  },
  {
   "cell_type": "markdown",
   "metadata": {},
   "source": [
    "## Pregunta 3\n",
    "\n",
    "Desarrolle lo siguientes ejercicios en de expresiones regular:\n",
    "\n",
    "1. Escribe un programa en Python para verificar que una cadena de texto contenga solo un cierto conjunto de caracteres (en este caso a-z, A-Z y 0-9)."
   ]
  },
  {
   "cell_type": "code",
   "execution_count": null,
   "metadata": {},
   "outputs": [],
   "source": []
  },
  {
   "cell_type": "markdown",
   "metadata": {},
   "source": [
    "2. Escribe un programa en Python que encuentre coincidencias en una cadena que tenga una 'a' seguida de cero o más 'b's.\n"
   ]
  },
  {
   "cell_type": "code",
   "execution_count": 1,
   "metadata": {},
   "outputs": [
    {
     "name": "stdout",
     "output_type": "stream",
     "text": [
      "None\n",
      "None\n",
      "None\n"
     ]
    }
   ],
   "source": [
    "def text_match_b(string):\n",
    "    ...\n",
    "\n",
    "print(text_match_b(\"ac\"))\n",
    "print(text_match_b(\"abc\"))\n",
    "print(text_match_b(\"abbc\"))"
   ]
  },
  {
   "cell_type": "markdown",
   "metadata": {},
   "source": [
    "3. Escribe un programa en Python para encontrar secuencias de letras minúsculas unidas con un guion bajo."
   ]
  },
  {
   "cell_type": "code",
   "execution_count": 4,
   "metadata": {},
   "outputs": [
    {
     "name": "stdout",
     "output_type": "stream",
     "text": [
      "None\n",
      "None\n",
      "None\n"
     ]
    }
   ],
   "source": [
    "def text_match_c(text):\n",
    "    ...\n",
    "\n",
    "print(text_match_c(\"aab_cbbbc\"))\n",
    "print(text_match_c(\"aab_Abbbc\"))\n",
    "print(text_match_c(\"Aaab_abbbc\"))"
   ]
  },
  {
   "cell_type": "markdown",
   "metadata": {},
   "source": [
    "4. Escribe un programa en Python que encuentre una palabra al principio de una cadena de texto."
   ]
  },
  {
   "cell_type": "code",
   "execution_count": 5,
   "metadata": {},
   "outputs": [
    {
     "name": "stdout",
     "output_type": "stream",
     "text": [
      "None\n",
      "None\n"
     ]
    }
   ],
   "source": [
    "def text_match_d(text):\n",
    "    ...\n",
    "    \n",
    "print(text_match_d(\"The quick brown fox jumps over the lazy dog.\"))\n",
    "print(text_match_d(\" The quick brown fox jumps over the lazy dog.\"))"
   ]
  },
  {
   "cell_type": "markdown",
   "metadata": {},
   "source": [
    "5. Escribe un programa en Python que coincida con una cadena que contenga solo letras mayúsculas y minúsculas, números y guiones bajos"
   ]
  },
  {
   "cell_type": "code",
   "execution_count": 6,
   "metadata": {},
   "outputs": [
    {
     "name": "stdout",
     "output_type": "stream",
     "text": [
      "None\n",
      "None\n"
     ]
    }
   ],
   "source": [
    "def text_match_e(text):\n",
    "    ...\n",
    "\n",
    "print(text_match_e(\"The quick brown fox jumps over the lazy dog.\"))\n",
    "print(text_match_e(\"Python_Exercises_1\"))"
   ]
  },
  {
   "cell_type": "markdown",
   "metadata": {},
   "source": [
    "6. Escribe un programa en Python para verificar si hay un número al final de una cadena."
   ]
  },
  {
   "cell_type": "code",
   "execution_count": 7,
   "metadata": {},
   "outputs": [
    {
     "name": "stdout",
     "output_type": "stream",
     "text": [
      "None\n",
      "None\n"
     ]
    }
   ],
   "source": [
    "def end_num(string):\n",
    "    ...\n",
    "\n",
    "print(end_num('abcdef'))\n",
    "print(end_num('abcdef6'))"
   ]
  },
  {
   "cell_type": "markdown",
   "metadata": {},
   "source": [
    "7. Escribe un programa en Python para buscar los números (0-9) de longitud entre 1 y 3 en una cadena dada."
   ]
  },
  {
   "cell_type": "code",
   "execution_count": 8,
   "metadata": {},
   "outputs": [],
   "source": [
    "\n",
    "\n",
    "text = \"Exercises number 1, 12, 13, and 345 are important\""
   ]
  },
  {
   "cell_type": "markdown",
   "metadata": {},
   "source": [
    "8. Escribe un programa en Python para encontrar las subcadenas dentro de una cadena de texto.\n",
    "\n",
    "Texto de ejemplo:\n",
    "\n",
    "'Ejercicios de Python, ejercicios de PHP, ejercicios de C#'\n",
    "\n",
    "Patrón:\n",
    "\n",
    "'ejercicios'\n",
    "\n",
    "Nota: Hay dos instancias de ejercicios en la cadena de entrada."
   ]
  },
  {
   "cell_type": "code",
   "execution_count": null,
   "metadata": {},
   "outputs": [],
   "source": []
  },
  {
   "cell_type": "markdown",
   "metadata": {},
   "source": [
    "9. Escriba un programa en Python que extraiga el año, mes y fecha de una url."
   ]
  },
  {
   "cell_type": "code",
   "execution_count": 9,
   "metadata": {},
   "outputs": [],
   "source": [
    "url1= \"https://www.washingtonpost.com/news/football-insider/wp/2016/09/02/odell-beckhams-fame-rests-on-one-stupid-little-ball-josh-norman-tells-author/\""
   ]
  },
  {
   "cell_type": "markdown",
   "metadata": {},
   "source": [
    "\n",
    "\n",
    "10. Escriba un programa en Python que encuentre todas las palabras que empiece con una 'a' o 'e' en una cadena de texto."
   ]
  },
  {
   "cell_type": "code",
   "execution_count": 10,
   "metadata": {},
   "outputs": [],
   "source": [
    "text = \"The following example creates an ArrayList with a capacity of 50 elements. Four elements are then added to the ArrayList and the ArrayList is trimmed accordingly.\""
   ]
  }
 ],
 "metadata": {
  "kernelspec": {
   "display_name": "base",
   "language": "python",
   "name": "python3"
  },
  "language_info": {
   "codemirror_mode": {
    "name": "ipython",
    "version": 3
   },
   "file_extension": ".py",
   "mimetype": "text/x-python",
   "name": "python",
   "nbconvert_exporter": "python",
   "pygments_lexer": "ipython3",
   "version": "3.11.4"
  }
 },
 "nbformat": 4,
 "nbformat_minor": 2
}
