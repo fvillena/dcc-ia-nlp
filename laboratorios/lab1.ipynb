{
 "cells": [
  {
   "cell_type": "markdown",
   "metadata": {},
   "source": [
    "# Laboratorio 1: Archivos y expresiones regulares.\n",
    "\n",
    "##### <strong>Manejo archivos y Pandas </strong>\n",
    "\n",
    "### Cuerpo Docente\n",
    "\n",
    "- Profesores: [Andrés Abeliuk](https://aabeliuk.github.io/), [Felipe Villena](https://fabianvillena.cl/).\n",
    "- Profesor Auxiliar: [Gabriel Iturra](https://giturra.cl/)"
   ]
  },
  {
   "cell_type": "markdown",
   "metadata": {},
   "source": [
    "## Actividades"
   ]
  },
  {
   "cell_type": "markdown",
   "metadata": {},
   "source": [
    "En muchas ocasiones, las bibliotecas necesitan inventariar la información de todos los libros disponibles en su stock. Dado que la información puede estar sin procesar o contener errores, se te solicita, en tu calidad de estudiante del módulo de Procesamiento del Lenguaje Natural (NLP), que revises la información contenida en el archivo libros.txt."
   ]
  },
  {
   "cell_type": "markdown",
   "metadata": {},
   "source": [
    "### Pregunta 1\n",
    "\n",
    "Para revisar la información debe realiar los siguientes pasos usando sólo funciones nativas de Python:\n",
    "\n",
    "- Leer el Archivo: Abrir el archivo libros.txt y leer su contenido.\n",
    "- Transformación de Strings: Convertir los títulos de los libros y los nombres de los autores a mayúsculas.\n",
    "- Búsqueda de Strings: Encontrar y mostrar todos los libros que contienen la palabra 'la' en el título.\n",
    "- Split de Strings: Para cada autor, extraer y mostrar solo su primer nombre.\n",
    "- Reemplazo de Strings: Reemplazar cualquier instancia de 'y' por '&' en los títulos de los libros y mostrar los títulos modificados.\n",
    "- Longitud de Strings: Calcular y mostrar la cantidad de palabras en el título de cada libro."
   ]
  },
  {
   "cell_type": "code",
   "execution_count": 2,
   "metadata": {},
   "outputs": [],
   "source": [
    "# codigo "
   ]
  },
  {
   "cell_type": "markdown",
   "metadata": {},
   "source": [
    "### Pregunta 2\n",
    "\n",
    "Para pregunta 2, deberas realizar los mismos pasos anteriores usando ```pandas``` y sus funciones de trabajo de strings. "
   ]
  },
  {
   "cell_type": "code",
   "execution_count": 3,
   "metadata": {},
   "outputs": [],
   "source": [
    "# codigo aqui"
   ]
  }
 ],
 "metadata": {
  "kernelspec": {
   "display_name": "base",
   "language": "python",
   "name": "python3"
  },
  "language_info": {
   "codemirror_mode": {
    "name": "ipython",
    "version": 3
   },
   "file_extension": ".py",
   "mimetype": "text/x-python",
   "name": "python",
   "nbconvert_exporter": "python",
   "pygments_lexer": "ipython3",
   "version": "3.11.4"
  }
 },
 "nbformat": 4,
 "nbformat_minor": 2
}
