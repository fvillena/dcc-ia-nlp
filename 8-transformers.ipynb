{
  "nbformat": 4,
  "nbformat_minor": 0,
  "metadata": {
    "colab": {
      "name": "actividad_clase_Transformers.ipynb",
      "provenance": [],
      "include_colab_link": true
    },
    "kernelspec": {
      "name": "python3",
      "display_name": "Python 3"
    },
    "language_info": {
      "name": "python"
    }
  },
  "cells": [
    {
      "cell_type": "markdown",
      "metadata": {
        "id": "view-in-github",
        "colab_type": "text"
      },
      "source": [
        "<a href=\"https://colab.research.google.com/github/fvillena/dcc-ia-nlp/blob/master/8-transformers.ipynb\" target=\"_parent\"><img src=\"https://colab.research.google.com/assets/colab-badge.svg\" alt=\"Open In Colab\"/></a>"
      ]
    },
    {
      "cell_type": "markdown",
      "metadata": {
        "id": "1sKNJhGWRkZX"
      },
      "source": [
        "# Actividad utilizando Transformers"
      ]
    },
    {
      "cell_type": "markdown",
      "metadata": {
        "id": "INLMxwnZLG8F"
      },
      "source": [
        "### Librerías necesarias\n"
      ]
    },
    {
      "cell_type": "code",
      "metadata": {
        "id": "O9k9LTbrLTu0"
      },
      "source": [
        "!pip install transformers"
      ],
      "execution_count": null,
      "outputs": []
    },
    {
      "cell_type": "code",
      "metadata": {
        "id": "N7_du7l5LApt"
      },
      "source": [
        "from transformers import pipeline, AutoTokenizer\n",
        "import pandas as pd"
      ],
      "execution_count": null,
      "outputs": []
    },
    {
      "cell_type": "markdown",
      "metadata": {
        "id": "qNy4wUhKRqMa"
      },
      "source": [
        "# Pipelines"
      ]
    },
    {
      "cell_type": "markdown",
      "metadata": {
        "id": "f8MkA37fLjtn"
      },
      "source": [
        "En esta actividad vamos a utilizar Transformers para extraer información del texto. En particular vamos a utilizar los pipelines de:\n",
        "\n",
        "\n",
        "*   Named Entity Recognition\n",
        "*   Question Answering\n",
        "\n"
      ]
    },
    {
      "cell_type": "markdown",
      "metadata": {
        "id": "IpRHKgYULR-V"
      },
      "source": [
        "Cargamos los modelos pre-entrenados disponibles en HuggingFace"
      ]
    },
    {
      "cell_type": "code",
      "metadata": {
        "id": "1RWljB_uMDrD"
      },
      "source": [
        "# Transformer NER\n",
        "nlp_ner = pipeline(\"ner\", model=\"mrm8488/bert-spanish-cased-finetuned-ner\",\n",
        "    tokenizer=('mrm8488/bert-spanish-cased-finetuned-ner', {\"use_fast\": False})\n",
        "    )\n",
        "# Transformer QA\n",
        "nlp_qa = pipeline('question-answering', \n",
        "        model='mrm8488/distill-bert-base-spanish-wwm-cased-finetuned-spa-squad2-es',\n",
        "        tokenizer=('mrm8488/distill-bert-base-spanish-wwm-cased-finetuned-spa-squad2-es', {\"use_fast\": False})\n",
        "    )\n",
        "# Lo necesitamos para sacar el texto asociado a cada token. La predicción de ner viene con [UNK] cuando no reconoce el\n",
        "# como un token\n",
        "tok = AutoTokenizer.from_pretrained('mrm8488/bert-spanish-cased-finetuned-ner')"
      ],
      "execution_count": null,
      "outputs": []
    },
    {
      "cell_type": "markdown",
      "metadata": {
        "id": "iQ1Dl7DMNk9D"
      },
      "source": [
        "# Named Entity Recognition\n",
        "El pipeline NER detecta diferentes entidades en el texto analizado. Ejemplo:"
      ]
    },
    {
      "cell_type": "code",
      "metadata": {
        "colab": {
          "base_uri": "https://localhost:8080/"
        },
        "id": "Ko6NhiKLNzvU",
        "outputId": "c65c1f54-304d-48f9-911a-fee421855545"
      },
      "source": [
        "texto = 'Carlos es estudiante de medicina, vive en Santiago hace 3 años'\n",
        "df_result = pd.DataFrame(nlp_ner(texto))\n",
        "print(df_result)"
      ],
      "execution_count": null,
      "outputs": [
        {
          "output_type": "stream",
          "name": "stdout",
          "text": [
            "  entity     score  index      word start   end\n",
            "0  B-PER  0.998058      1    Carlos  None  None\n",
            "1  B-LOC  0.999609      9  Santiago  None  None\n"
          ]
        }
      ]
    },
    {
      "cell_type": "markdown",
      "metadata": {
        "id": "yy425CacOU6e"
      },
      "source": [
        "Vemos que el pipeline detecta:\n",
        "*   Una entidad de persona en el token índice 1\n",
        "*   Una entidad de localidad en el token índice 9\n",
        "\n",
        "Como se puede observar en el resultado anterior, el pipeline también devuelve la palabra asociada al token (columna *word*)\n",
        "\n",
        "Puede suceder que entidad detectada corresponda a la concatenación de 2 o más tokens. Ejemplo:"
      ]
    },
    {
      "cell_type": "code",
      "metadata": {
        "colab": {
          "base_uri": "https://localhost:8080/"
        },
        "id": "7lgo7baZP90L",
        "outputId": "a483b63b-6018-459f-92f9-fab79ef45edf"
      },
      "source": [
        "texto = 'Carlitos es estudiante de medicina, vive en Santiago hace 3 años'\n",
        "df_result = pd.DataFrame(nlp_ner(texto))\n",
        "print(df_result)"
      ],
      "execution_count": null,
      "outputs": [
        {
          "output_type": "stream",
          "name": "stdout",
          "text": [
            "  entity     score  index      word start   end\n",
            "0  B-PER  0.999317      1      Carl  None  None\n",
            "1  I-PER  0.709062      2    ##itos  None  None\n",
            "2  B-LOC  0.999640     10  Santiago  None  None\n"
          ]
        }
      ]
    },
    {
      "cell_type": "markdown",
      "metadata": {
        "id": "OgcY5lfGQCcm"
      },
      "source": [
        "En este caso, la persona *Carlitos* está compuestas por 2 tokens (*Carl* y *##itos*)\n",
        "\n",
        "También puede suceder que el string asociado a la persona, no se corresponda con ningún token del tokenizador, pero de todas formas el pipeline detecta la entidad asociada. Ejemplo:"
      ]
    },
    {
      "cell_type": "code",
      "metadata": {
        "colab": {
          "base_uri": "https://localhost:8080/"
        },
        "id": "6NuPzWEbQcY7",
        "outputId": "d4b65a1a-2e7d-4d9b-854a-fdd73741cac4"
      },
      "source": [
        "texto = 'Juan es estudiante de medicina, vive en Santiago hace 3 años'\n",
        "df_result = pd.DataFrame(nlp_ner(texto))\n",
        "print(df_result)"
      ],
      "execution_count": null,
      "outputs": [
        {
          "output_type": "stream",
          "name": "stdout",
          "text": [
            "  entity     score  index      word start   end\n",
            "0  B-PER  0.998483      1     [UNK]  None  None\n",
            "1  B-LOC  0.999622      9  Santiago  None  None\n"
          ]
        }
      ]
    },
    {
      "cell_type": "markdown",
      "metadata": {
        "id": "hSPldhcWQkfi"
      },
      "source": [
        "Para poder obtener el texto asociado a esa entidad debemos utilizar el mapeo realizado por el tokenizador de la siguiente manera."
      ]
    },
    {
      "cell_type": "code",
      "metadata": {
        "colab": {
          "base_uri": "https://localhost:8080/"
        },
        "id": "hqMdYecVQub9",
        "outputId": "b3777836-f256-48cd-a2a7-7d0695a25154"
      },
      "source": [
        "# Mapping tiene una lista con índices (start, end) correspondiente al texto de cada token, en el mismo orden\n",
        "mapping = tok(texto, return_offsets_mapping=True)['offset_mapping']\n",
        "# Llenamos las columnas start, end y text con el texto correspondiente a cada token\n",
        "for i, row in df_result.iterrows():\n",
        "    df_result.loc[i, 'text'] = texto[mapping[row['index']][0]:mapping[row['index']][1]]\n",
        "    df_result.loc[i, 'start'] = mapping[row['index']][0]\n",
        "    df_result.loc[i, 'end'] = mapping[row['index']][1]\n",
        "print(df_result)"
      ],
      "execution_count": null,
      "outputs": [
        {
          "output_type": "stream",
          "name": "stdout",
          "text": [
            "  entity     score  index      word start end      text\n",
            "0  B-PER  0.998483      1     [UNK]     0   4      Juan\n",
            "1  B-LOC  0.999622      9  Santiago    40  48  Santiago\n"
          ]
        }
      ]
    },
    {
      "cell_type": "markdown",
      "metadata": {
        "id": "7hmE_sCPR-Z8"
      },
      "source": [
        "De esta manera, podemos obtener el comienzo y fin de cada string que fué detectado como una entidad."
      ]
    },
    {
      "cell_type": "markdown",
      "metadata": {
        "id": "IBLkW-w-SKoK"
      },
      "source": [
        "# Question Answering\n",
        "El pipeline QA permite realizar preguntas en un determinado context (texto). en los siguientes ejemplos se muestra modo utlizarlo."
      ]
    },
    {
      "cell_type": "code",
      "metadata": {
        "colab": {
          "base_uri": "https://localhost:8080/"
        },
        "id": "foIu3wm4SbO9",
        "outputId": "a57818ce-7343-48b1-b38d-9f0f4d8ada18"
      },
      "source": [
        "texto = 'Carlos es estudiante de medicina, vive en Santiago hace 3 años'\n",
        "\n",
        "question = '¿Quién Carlos?'\n",
        "respuesta = nlp_qa({'question': question, 'context': texto})\n",
        "print(respuesta)"
      ],
      "execution_count": null,
      "outputs": [
        {
          "output_type": "stream",
          "name": "stdout",
          "text": [
            "{'score': 0.9089308977127075, 'start': 10, 'end': 33, 'answer': 'estudiante de medicina,'}\n"
          ]
        }
      ]
    },
    {
      "cell_type": "code",
      "metadata": {
        "colab": {
          "base_uri": "https://localhost:8080/"
        },
        "id": "EYKSw01gS0U-",
        "outputId": "68f9cd60-6a19-4a1c-d719-4fab4aea81ab"
      },
      "source": [
        "question = '¿Dónde vive Carlos?'\n",
        "respuesta = nlp_qa({'question': question, 'context': texto})\n",
        "print(respuesta)"
      ],
      "execution_count": null,
      "outputs": [
        {
          "output_type": "stream",
          "name": "stdout",
          "text": [
            "{'score': 0.9807462692260742, 'start': 42, 'end': 50, 'answer': 'Santiago'}\n"
          ]
        }
      ]
    },
    {
      "cell_type": "code",
      "metadata": {
        "colab": {
          "base_uri": "https://localhost:8080/"
        },
        "id": "ZrFNoOTtS4tJ",
        "outputId": "af4e9f9e-f74f-4144-8a38-e1688c25a207"
      },
      "source": [
        "question = '¿De que color es el gato de Carlos?'\n",
        "respuesta = nlp_qa({'question': question, 'context': texto})\n",
        "print(respuesta)"
      ],
      "execution_count": null,
      "outputs": [
        {
          "output_type": "stream",
          "name": "stdout",
          "text": [
            "{'score': 1.5464765965589322e-06, 'start': 58, 'end': 61, 'answer': 'años'}\n"
          ]
        }
      ]
    },
    {
      "cell_type": "markdown",
      "metadata": {
        "id": "l0-jNhpATKsl"
      },
      "source": [
        "Hay que tener en cuenta que el pipeline **siempre** devuelve una respuesta. Utilizar su score asociado puede resultar últil para determinar qué tan buena es la misma."
      ]
    },
    {
      "cell_type": "markdown",
      "metadata": {
        "id": "j4mYHbfRT7PL"
      },
      "source": [
        "# Actividad\n",
        "Se tiene un conjunto de documentos correspondientes a contratos de locación de una inmobiliaria. Para cada contrato, se pretende extraer de manera automática:\n",
        "* Las personas que intervienen en el contrato\n",
        "* Determinar quién es el locador y el locatario\n",
        "* Determinar la dirección del inmueble alquilado"
      ]
    }
  ]
}