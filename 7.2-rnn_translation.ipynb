{
  "nbformat": 4,
  "nbformat_minor": 0,
  "metadata": {
    "colab": {
      "name": "7.2-rnn_translation",
      "provenance": [],
      "authorship_tag": "ABX9TyMyIOILxT3i80G6TcJs/2Ut",
      "include_colab_link": true
    },
    "kernelspec": {
      "name": "python3",
      "display_name": "Python 3"
    },
    "language_info": {
      "name": "python"
    },
    "accelerator": "GPU"
  },
  "cells": [
    {
      "cell_type": "markdown",
      "metadata": {
        "id": "view-in-github",
        "colab_type": "text"
      },
      "source": [
        "<a href=\"https://colab.research.google.com/github/fvillena/dcc-ia-nlp/blob/master/7.2-rnn_translation.ipynb\" target=\"_parent\"><img src=\"https://colab.research.google.com/assets/colab-badge.svg\" alt=\"Open In Colab\"/></a>"
      ]
    },
    {
      "cell_type": "markdown",
      "metadata": {
        "id": "NVhCxk020Kjw"
      },
      "source": [
        "# Redes recurrentes: Traducción Automática\n",
        "\n"
      ]
    },
    {
      "cell_type": "code",
      "metadata": {
        "id": "RKQIl_-7f3Sz"
      },
      "source": [
        "import numpy as np\n",
        "import tensorflow as tf\n",
        "from tensorflow import keras"
      ],
      "execution_count": 4,
      "outputs": []
    },
    {
      "cell_type": "code",
      "metadata": {
        "colab": {
          "base_uri": "https://localhost:8080/"
        },
        "id": "AHc9q1iKf_vP",
        "outputId": "63dbb17a-9d86-4a9f-e96a-bf160f1a6f35"
      },
      "source": [
        "!curl -O http://www.manythings.org/anki/spa-eng.zip\n",
        "!unzip spa-eng.zip"
      ],
      "execution_count": 1,
      "outputs": [
        {
          "output_type": "stream",
          "name": "stdout",
          "text": [
            "  % Total    % Received % Xferd  Average Speed   Time    Time     Time  Current\n",
            "                                 Dload  Upload   Total   Spent    Left  Speed\n",
            "100 5071k  100 5071k    0     0  10.6M      0 --:--:-- --:--:-- --:--:-- 10.6M\n",
            "Archive:  spa-eng.zip\n",
            "  inflating: _about.txt              \n",
            "  inflating: spa.txt                 \n"
          ]
        }
      ]
    },
    {
      "cell_type": "code",
      "metadata": {
        "id": "_mXnRZAuhO8m"
      },
      "source": [
        "batch_size = 64  # Batch size for training.\n",
        "epochs = 100  # Number of epochs to train for.\n",
        "latent_dim = 256  # Latent dimensionality of the encoding space.\n",
        "num_samples = 10000  # Number of samples to train on.\n",
        "# Path to the data txt file on disk.\n",
        "data_path = \"spa.txt\""
      ],
      "execution_count": 2,
      "outputs": []
    },
    {
      "cell_type": "markdown",
      "metadata": {
        "id": "Oizx_wyF0ahQ"
      },
      "source": [
        "## Preparación de los datos"
      ]
    },
    {
      "cell_type": "code",
      "metadata": {
        "colab": {
          "base_uri": "https://localhost:8080/"
        },
        "id": "DEAE30TUhR6a",
        "outputId": "3ea27807-5eac-4c90-f052-9bfe3d3aa4b5"
      },
      "source": [
        "# Vectorize the data.\n",
        "input_texts = []\n",
        "target_texts = []\n",
        "input_characters = set()\n",
        "target_characters = set()\n",
        "with open(data_path, \"r\", encoding=\"utf-8\") as f:\n",
        "    lines = f.read().split(\"\\n\")\n",
        "for line in lines[: min(num_samples, len(lines) - 1)]:\n",
        "    input_text, target_text, _ = line.split(\"\\t\")\n",
        "    # We use \"tab\" as the \"start sequence\" character\n",
        "    # for the targets, and \"\\n\" as \"end sequence\" character.\n",
        "    target_text = \"\\t\" + target_text + \"\\n\"\n",
        "    input_texts.append(input_text)\n",
        "    target_texts.append(target_text)\n",
        "    for char in input_text:\n",
        "        if char not in input_characters:\n",
        "            input_characters.add(char)\n",
        "    for char in target_text:\n",
        "        if char not in target_characters:\n",
        "            target_characters.add(char)\n",
        "\n",
        "input_characters = sorted(list(input_characters))\n",
        "target_characters = sorted(list(target_characters))\n",
        "num_encoder_tokens = len(input_characters)\n",
        "num_decoder_tokens = len(target_characters)\n",
        "max_encoder_seq_length = max([len(txt) for txt in input_texts])\n",
        "max_decoder_seq_length = max([len(txt) for txt in target_texts])\n",
        "\n",
        "print(\"Number of samples:\", len(input_texts))\n",
        "print(\"Number of unique input tokens:\", num_encoder_tokens)\n",
        "print(\"Number of unique output tokens:\", num_decoder_tokens)\n",
        "print(\"Max sequence length for inputs:\", max_encoder_seq_length)\n",
        "print(\"Max sequence length for outputs:\", max_decoder_seq_length)\n",
        "\n",
        "input_token_index = dict([(char, i) for i, char in enumerate(input_characters)])\n",
        "target_token_index = dict([(char, i) for i, char in enumerate(target_characters)])\n",
        "\n",
        "encoder_input_data = np.zeros(\n",
        "    (len(input_texts), max_encoder_seq_length, num_encoder_tokens), dtype=\"float32\"\n",
        ")\n",
        "decoder_input_data = np.zeros(\n",
        "    (len(input_texts), max_decoder_seq_length, num_decoder_tokens), dtype=\"float32\"\n",
        ")\n",
        "decoder_target_data = np.zeros(\n",
        "    (len(input_texts), max_decoder_seq_length, num_decoder_tokens), dtype=\"float32\"\n",
        ")\n",
        "\n",
        "for i, (input_text, target_text) in enumerate(zip(input_texts, target_texts)):\n",
        "    for t, char in enumerate(input_text):\n",
        "        encoder_input_data[i, t, input_token_index[char]] = 1.0\n",
        "    encoder_input_data[i, t + 1 :, input_token_index[\" \"]] = 1.0\n",
        "    for t, char in enumerate(target_text):\n",
        "        # decoder_target_data is ahead of decoder_input_data by one timestep\n",
        "        decoder_input_data[i, t, target_token_index[char]] = 1.0\n",
        "        if t > 0:\n",
        "            # decoder_target_data will be ahead by one timestep\n",
        "            # and will not include the start character.\n",
        "            decoder_target_data[i, t - 1, target_token_index[char]] = 1.0\n",
        "    decoder_input_data[i, t + 1 :, target_token_index[\" \"]] = 1.0\n",
        "    decoder_target_data[i, t:, target_token_index[\" \"]] = 1.0"
      ],
      "execution_count": 5,
      "outputs": [
        {
          "output_type": "stream",
          "name": "stdout",
          "text": [
            "Number of samples: 10000\n",
            "Number of unique input tokens: 70\n",
            "Number of unique output tokens: 86\n",
            "Max sequence length for inputs: 16\n",
            "Max sequence length for outputs: 78\n"
          ]
        }
      ]
    },
    {
      "cell_type": "markdown",
      "metadata": {
        "id": "i9DhXzh70fv1"
      },
      "source": [
        "## Construcción del modelo"
      ]
    },
    {
      "cell_type": "code",
      "metadata": {
        "id": "hk8f9BqHhWEL"
      },
      "source": [
        "# Define an input sequence and process it.\n",
        "encoder_inputs = keras.Input(shape=(None, num_encoder_tokens))\n",
        "encoder = keras.layers.LSTM(latent_dim, return_state=True)\n",
        "encoder_outputs, state_h, state_c = encoder(encoder_inputs)\n",
        "\n",
        "# We discard `encoder_outputs` and only keep the states.\n",
        "encoder_states = [state_h, state_c]\n",
        "\n",
        "# Set up the decoder, using `encoder_states` as initial state.\n",
        "decoder_inputs = keras.Input(shape=(None, num_decoder_tokens))\n",
        "\n",
        "# We set up our decoder to return full output sequences,\n",
        "# and to return internal states as well. We don't use the\n",
        "# return states in the training model, but we will use them in inference.\n",
        "decoder_lstm = keras.layers.LSTM(latent_dim, return_sequences=True, return_state=True)\n",
        "decoder_outputs, _, _ = decoder_lstm(decoder_inputs, initial_state=encoder_states)\n",
        "decoder_dense = keras.layers.Dense(num_decoder_tokens, activation=\"softmax\")\n",
        "decoder_outputs = decoder_dense(decoder_outputs)\n",
        "\n",
        "# Define the model that will turn\n",
        "# `encoder_input_data` & `decoder_input_data` into `decoder_target_data`\n",
        "model = keras.Model([encoder_inputs, decoder_inputs], decoder_outputs)"
      ],
      "execution_count": 6,
      "outputs": []
    },
    {
      "cell_type": "markdown",
      "metadata": {
        "id": "wlk2tNQO0nR8"
      },
      "source": [
        "## Entrenamiento del modelo"
      ]
    },
    {
      "cell_type": "code",
      "metadata": {
        "colab": {
          "base_uri": "https://localhost:8080/"
        },
        "id": "snB5XAx3hc4p",
        "outputId": "1bda1287-d996-4ab2-e641-bb4d4457e0ba"
      },
      "source": [
        "model.compile(\n",
        "    optimizer=\"rmsprop\", loss=\"categorical_crossentropy\", metrics=[\"accuracy\"]\n",
        ")\n",
        "model.fit(\n",
        "    [encoder_input_data, decoder_input_data],\n",
        "    decoder_target_data,\n",
        "    batch_size=batch_size,\n",
        "    epochs=epochs,\n",
        "    validation_split=0.2,\n",
        ")\n",
        "# Save model\n",
        "model.save(\"s2s\")"
      ],
      "execution_count": 7,
      "outputs": [
        {
          "output_type": "stream",
          "name": "stdout",
          "text": [
            "Epoch 1/100\n",
            "125/125 [==============================] - 13s 51ms/step - loss: 0.7986 - accuracy: 0.8145 - val_loss: 0.7708 - val_accuracy: 0.7977\n",
            "Epoch 2/100\n",
            "125/125 [==============================] - 5s 41ms/step - loss: 0.5719 - accuracy: 0.8452 - val_loss: 0.5860 - val_accuracy: 0.8326\n",
            "Epoch 3/100\n",
            "125/125 [==============================] - 5s 41ms/step - loss: 0.4806 - accuracy: 0.8631 - val_loss: 0.5187 - val_accuracy: 0.8471\n",
            "Epoch 4/100\n",
            "125/125 [==============================] - 5s 41ms/step - loss: 0.4302 - accuracy: 0.8729 - val_loss: 0.4715 - val_accuracy: 0.8587\n",
            "Epoch 5/100\n",
            "125/125 [==============================] - 5s 41ms/step - loss: 0.3956 - accuracy: 0.8811 - val_loss: 0.4446 - val_accuracy: 0.8659\n",
            "Epoch 6/100\n",
            "125/125 [==============================] - 5s 41ms/step - loss: 0.3693 - accuracy: 0.8887 - val_loss: 0.4241 - val_accuracy: 0.8733\n",
            "Epoch 7/100\n",
            "125/125 [==============================] - 5s 41ms/step - loss: 0.3481 - accuracy: 0.8951 - val_loss: 0.4066 - val_accuracy: 0.8777\n",
            "Epoch 8/100\n",
            "125/125 [==============================] - 5s 42ms/step - loss: 0.3296 - accuracy: 0.9005 - val_loss: 0.3895 - val_accuracy: 0.8833\n",
            "Epoch 9/100\n",
            "125/125 [==============================] - 5s 42ms/step - loss: 0.3136 - accuracy: 0.9052 - val_loss: 0.3770 - val_accuracy: 0.8875\n",
            "Epoch 10/100\n",
            "125/125 [==============================] - 5s 42ms/step - loss: 0.2989 - accuracy: 0.9099 - val_loss: 0.3661 - val_accuracy: 0.8901\n",
            "Epoch 11/100\n",
            "125/125 [==============================] - 5s 42ms/step - loss: 0.2862 - accuracy: 0.9137 - val_loss: 0.3578 - val_accuracy: 0.8928\n",
            "Epoch 12/100\n",
            "125/125 [==============================] - 5s 41ms/step - loss: 0.2744 - accuracy: 0.9172 - val_loss: 0.3537 - val_accuracy: 0.8946\n",
            "Epoch 13/100\n",
            "125/125 [==============================] - 5s 41ms/step - loss: 0.2639 - accuracy: 0.9204 - val_loss: 0.3468 - val_accuracy: 0.8958\n",
            "Epoch 14/100\n",
            "125/125 [==============================] - 5s 42ms/step - loss: 0.2543 - accuracy: 0.9233 - val_loss: 0.3415 - val_accuracy: 0.8985\n",
            "Epoch 15/100\n",
            "125/125 [==============================] - 5s 42ms/step - loss: 0.2449 - accuracy: 0.9262 - val_loss: 0.3400 - val_accuracy: 0.8989\n",
            "Epoch 16/100\n",
            "125/125 [==============================] - 5s 41ms/step - loss: 0.2361 - accuracy: 0.9289 - val_loss: 0.3345 - val_accuracy: 0.9009\n",
            "Epoch 17/100\n",
            "125/125 [==============================] - 5s 42ms/step - loss: 0.2278 - accuracy: 0.9313 - val_loss: 0.3339 - val_accuracy: 0.9011\n",
            "Epoch 18/100\n",
            "125/125 [==============================] - 5s 41ms/step - loss: 0.2196 - accuracy: 0.9337 - val_loss: 0.3332 - val_accuracy: 0.9023\n",
            "Epoch 19/100\n",
            "125/125 [==============================] - 5s 41ms/step - loss: 0.2123 - accuracy: 0.9360 - val_loss: 0.3328 - val_accuracy: 0.9022\n",
            "Epoch 20/100\n",
            "125/125 [==============================] - 5s 42ms/step - loss: 0.2049 - accuracy: 0.9380 - val_loss: 0.3316 - val_accuracy: 0.9033\n",
            "Epoch 21/100\n",
            "125/125 [==============================] - 5s 41ms/step - loss: 0.1979 - accuracy: 0.9403 - val_loss: 0.3308 - val_accuracy: 0.9040\n",
            "Epoch 22/100\n",
            "125/125 [==============================] - 5s 41ms/step - loss: 0.1911 - accuracy: 0.9423 - val_loss: 0.3362 - val_accuracy: 0.9034\n",
            "Epoch 23/100\n",
            "125/125 [==============================] - 5s 42ms/step - loss: 0.1847 - accuracy: 0.9443 - val_loss: 0.3340 - val_accuracy: 0.9041\n",
            "Epoch 24/100\n",
            "125/125 [==============================] - 5s 42ms/step - loss: 0.1784 - accuracy: 0.9461 - val_loss: 0.3338 - val_accuracy: 0.9051\n",
            "Epoch 25/100\n",
            "125/125 [==============================] - 5s 41ms/step - loss: 0.1720 - accuracy: 0.9482 - val_loss: 0.3338 - val_accuracy: 0.9049\n",
            "Epoch 26/100\n",
            "125/125 [==============================] - 5s 41ms/step - loss: 0.1665 - accuracy: 0.9498 - val_loss: 0.3382 - val_accuracy: 0.9045\n",
            "Epoch 27/100\n",
            "125/125 [==============================] - 5s 42ms/step - loss: 0.1605 - accuracy: 0.9518 - val_loss: 0.3403 - val_accuracy: 0.9048\n",
            "Epoch 28/100\n",
            "125/125 [==============================] - 5s 42ms/step - loss: 0.1550 - accuracy: 0.9533 - val_loss: 0.3444 - val_accuracy: 0.9044\n",
            "Epoch 29/100\n",
            "125/125 [==============================] - 5s 41ms/step - loss: 0.1499 - accuracy: 0.9548 - val_loss: 0.3462 - val_accuracy: 0.9040\n",
            "Epoch 30/100\n",
            "125/125 [==============================] - 5s 41ms/step - loss: 0.1448 - accuracy: 0.9566 - val_loss: 0.3499 - val_accuracy: 0.9042\n",
            "Epoch 31/100\n",
            "125/125 [==============================] - 5s 42ms/step - loss: 0.1396 - accuracy: 0.9579 - val_loss: 0.3530 - val_accuracy: 0.9041\n",
            "Epoch 32/100\n",
            "125/125 [==============================] - 5s 41ms/step - loss: 0.1351 - accuracy: 0.9592 - val_loss: 0.3528 - val_accuracy: 0.9050\n",
            "Epoch 33/100\n",
            "125/125 [==============================] - 5s 42ms/step - loss: 0.1303 - accuracy: 0.9608 - val_loss: 0.3584 - val_accuracy: 0.9046\n",
            "Epoch 34/100\n",
            "125/125 [==============================] - 5s 42ms/step - loss: 0.1259 - accuracy: 0.9621 - val_loss: 0.3624 - val_accuracy: 0.9047\n",
            "Epoch 35/100\n",
            "125/125 [==============================] - 5s 41ms/step - loss: 0.1214 - accuracy: 0.9634 - val_loss: 0.3680 - val_accuracy: 0.9042\n",
            "Epoch 36/100\n",
            "125/125 [==============================] - 5s 42ms/step - loss: 0.1173 - accuracy: 0.9647 - val_loss: 0.3687 - val_accuracy: 0.9040\n",
            "Epoch 37/100\n",
            "125/125 [==============================] - 5s 41ms/step - loss: 0.1129 - accuracy: 0.9660 - val_loss: 0.3759 - val_accuracy: 0.9037\n",
            "Epoch 38/100\n",
            "125/125 [==============================] - 5s 42ms/step - loss: 0.1094 - accuracy: 0.9670 - val_loss: 0.3780 - val_accuracy: 0.9044\n",
            "Epoch 39/100\n",
            "125/125 [==============================] - 5s 42ms/step - loss: 0.1057 - accuracy: 0.9681 - val_loss: 0.3827 - val_accuracy: 0.9046\n",
            "Epoch 40/100\n",
            "125/125 [==============================] - 5s 42ms/step - loss: 0.1018 - accuracy: 0.9696 - val_loss: 0.3885 - val_accuracy: 0.9038\n",
            "Epoch 41/100\n",
            "125/125 [==============================] - 5s 41ms/step - loss: 0.0985 - accuracy: 0.9705 - val_loss: 0.3914 - val_accuracy: 0.9035\n",
            "Epoch 42/100\n",
            "125/125 [==============================] - 5s 42ms/step - loss: 0.0951 - accuracy: 0.9716 - val_loss: 0.4002 - val_accuracy: 0.9034\n",
            "Epoch 43/100\n",
            "125/125 [==============================] - 5s 41ms/step - loss: 0.0921 - accuracy: 0.9724 - val_loss: 0.4013 - val_accuracy: 0.9029\n",
            "Epoch 44/100\n",
            "125/125 [==============================] - 5s 41ms/step - loss: 0.0889 - accuracy: 0.9731 - val_loss: 0.4081 - val_accuracy: 0.9036\n",
            "Epoch 45/100\n",
            "125/125 [==============================] - 5s 42ms/step - loss: 0.0859 - accuracy: 0.9742 - val_loss: 0.4117 - val_accuracy: 0.9031\n",
            "Epoch 46/100\n",
            "125/125 [==============================] - 5s 41ms/step - loss: 0.0833 - accuracy: 0.9749 - val_loss: 0.4169 - val_accuracy: 0.9029\n",
            "Epoch 47/100\n",
            "125/125 [==============================] - 5s 41ms/step - loss: 0.0805 - accuracy: 0.9757 - val_loss: 0.4260 - val_accuracy: 0.9025\n",
            "Epoch 48/100\n",
            "125/125 [==============================] - 5s 41ms/step - loss: 0.0780 - accuracy: 0.9765 - val_loss: 0.4288 - val_accuracy: 0.9028\n",
            "Epoch 49/100\n",
            "125/125 [==============================] - 5s 42ms/step - loss: 0.0756 - accuracy: 0.9774 - val_loss: 0.4317 - val_accuracy: 0.9018\n",
            "Epoch 50/100\n",
            "125/125 [==============================] - 5s 41ms/step - loss: 0.0731 - accuracy: 0.9781 - val_loss: 0.4369 - val_accuracy: 0.9024\n",
            "Epoch 51/100\n",
            "125/125 [==============================] - 5s 42ms/step - loss: 0.0708 - accuracy: 0.9789 - val_loss: 0.4423 - val_accuracy: 0.9008\n",
            "Epoch 52/100\n",
            "125/125 [==============================] - 5s 42ms/step - loss: 0.0685 - accuracy: 0.9794 - val_loss: 0.4475 - val_accuracy: 0.9019\n",
            "Epoch 53/100\n",
            "125/125 [==============================] - 5s 42ms/step - loss: 0.0665 - accuracy: 0.9800 - val_loss: 0.4536 - val_accuracy: 0.9018\n",
            "Epoch 54/100\n",
            "125/125 [==============================] - 5s 42ms/step - loss: 0.0646 - accuracy: 0.9807 - val_loss: 0.4574 - val_accuracy: 0.9010\n",
            "Epoch 55/100\n",
            "125/125 [==============================] - 5s 42ms/step - loss: 0.0625 - accuracy: 0.9814 - val_loss: 0.4602 - val_accuracy: 0.9018\n",
            "Epoch 56/100\n",
            "125/125 [==============================] - 5s 42ms/step - loss: 0.0609 - accuracy: 0.9815 - val_loss: 0.4653 - val_accuracy: 0.9018\n",
            "Epoch 57/100\n",
            "125/125 [==============================] - 5s 42ms/step - loss: 0.0588 - accuracy: 0.9823 - val_loss: 0.4711 - val_accuracy: 0.9020\n",
            "Epoch 58/100\n",
            "125/125 [==============================] - 5s 41ms/step - loss: 0.0575 - accuracy: 0.9826 - val_loss: 0.4781 - val_accuracy: 0.9019\n",
            "Epoch 59/100\n",
            "125/125 [==============================] - 5s 42ms/step - loss: 0.0558 - accuracy: 0.9832 - val_loss: 0.4827 - val_accuracy: 0.9009\n",
            "Epoch 60/100\n",
            "125/125 [==============================] - 5s 42ms/step - loss: 0.0545 - accuracy: 0.9835 - val_loss: 0.4827 - val_accuracy: 0.9008\n",
            "Epoch 61/100\n",
            "125/125 [==============================] - 5s 41ms/step - loss: 0.0530 - accuracy: 0.9839 - val_loss: 0.4858 - val_accuracy: 0.9007\n",
            "Epoch 62/100\n",
            "125/125 [==============================] - 5s 42ms/step - loss: 0.0517 - accuracy: 0.9844 - val_loss: 0.4922 - val_accuracy: 0.9014\n",
            "Epoch 63/100\n",
            "125/125 [==============================] - 5s 42ms/step - loss: 0.0503 - accuracy: 0.9848 - val_loss: 0.4975 - val_accuracy: 0.9009\n",
            "Epoch 64/100\n",
            "125/125 [==============================] - 5s 41ms/step - loss: 0.0487 - accuracy: 0.9853 - val_loss: 0.5021 - val_accuracy: 0.9010\n",
            "Epoch 65/100\n",
            "125/125 [==============================] - 5s 41ms/step - loss: 0.0475 - accuracy: 0.9857 - val_loss: 0.5043 - val_accuracy: 0.9007\n",
            "Epoch 66/100\n",
            "125/125 [==============================] - 5s 42ms/step - loss: 0.0462 - accuracy: 0.9861 - val_loss: 0.5109 - val_accuracy: 0.9007\n",
            "Epoch 67/100\n",
            "125/125 [==============================] - 5s 42ms/step - loss: 0.0451 - accuracy: 0.9863 - val_loss: 0.5136 - val_accuracy: 0.9009\n",
            "Epoch 68/100\n",
            "125/125 [==============================] - 5s 42ms/step - loss: 0.0441 - accuracy: 0.9868 - val_loss: 0.5223 - val_accuracy: 0.9003\n",
            "Epoch 69/100\n",
            "125/125 [==============================] - 5s 42ms/step - loss: 0.0433 - accuracy: 0.9869 - val_loss: 0.5249 - val_accuracy: 0.9005\n",
            "Epoch 70/100\n",
            "125/125 [==============================] - 5s 42ms/step - loss: 0.0421 - accuracy: 0.9872 - val_loss: 0.5283 - val_accuracy: 0.9010\n",
            "Epoch 71/100\n",
            "125/125 [==============================] - 5s 42ms/step - loss: 0.0413 - accuracy: 0.9874 - val_loss: 0.5304 - val_accuracy: 0.9002\n",
            "Epoch 72/100\n",
            "125/125 [==============================] - 5s 41ms/step - loss: 0.0403 - accuracy: 0.9877 - val_loss: 0.5351 - val_accuracy: 0.9007\n",
            "Epoch 73/100\n",
            "125/125 [==============================] - 5s 42ms/step - loss: 0.0393 - accuracy: 0.9879 - val_loss: 0.5398 - val_accuracy: 0.9000\n",
            "Epoch 74/100\n",
            "125/125 [==============================] - 5s 42ms/step - loss: 0.0387 - accuracy: 0.9882 - val_loss: 0.5464 - val_accuracy: 0.8995\n",
            "Epoch 75/100\n",
            "125/125 [==============================] - 5s 41ms/step - loss: 0.0377 - accuracy: 0.9884 - val_loss: 0.5516 - val_accuracy: 0.8996\n",
            "Epoch 76/100\n",
            "125/125 [==============================] - 5s 42ms/step - loss: 0.0370 - accuracy: 0.9887 - val_loss: 0.5507 - val_accuracy: 0.9001\n",
            "Epoch 77/100\n",
            "125/125 [==============================] - 5s 42ms/step - loss: 0.0361 - accuracy: 0.9888 - val_loss: 0.5593 - val_accuracy: 0.8991\n",
            "Epoch 78/100\n",
            "125/125 [==============================] - 5s 41ms/step - loss: 0.0356 - accuracy: 0.9890 - val_loss: 0.5611 - val_accuracy: 0.9001\n",
            "Epoch 79/100\n",
            "125/125 [==============================] - 5s 41ms/step - loss: 0.0350 - accuracy: 0.9893 - val_loss: 0.5600 - val_accuracy: 0.9003\n",
            "Epoch 80/100\n",
            "125/125 [==============================] - 5s 42ms/step - loss: 0.0340 - accuracy: 0.9895 - val_loss: 0.5616 - val_accuracy: 0.9002\n",
            "Epoch 81/100\n",
            "125/125 [==============================] - 5s 42ms/step - loss: 0.0337 - accuracy: 0.9897 - val_loss: 0.5701 - val_accuracy: 0.8995\n",
            "Epoch 82/100\n",
            "125/125 [==============================] - 5s 41ms/step - loss: 0.0332 - accuracy: 0.9897 - val_loss: 0.5696 - val_accuracy: 0.8999\n",
            "Epoch 83/100\n",
            "125/125 [==============================] - 5s 42ms/step - loss: 0.0323 - accuracy: 0.9900 - val_loss: 0.5721 - val_accuracy: 0.8997\n",
            "Epoch 84/100\n",
            "125/125 [==============================] - 5s 41ms/step - loss: 0.0317 - accuracy: 0.9901 - val_loss: 0.5828 - val_accuracy: 0.8995\n",
            "Epoch 85/100\n",
            "125/125 [==============================] - 5s 42ms/step - loss: 0.0316 - accuracy: 0.9902 - val_loss: 0.5803 - val_accuracy: 0.8995\n",
            "Epoch 86/100\n",
            "125/125 [==============================] - 5s 42ms/step - loss: 0.0307 - accuracy: 0.9904 - val_loss: 0.5852 - val_accuracy: 0.8998\n",
            "Epoch 87/100\n",
            "125/125 [==============================] - 5s 42ms/step - loss: 0.0302 - accuracy: 0.9905 - val_loss: 0.5868 - val_accuracy: 0.8997\n",
            "Epoch 88/100\n",
            "125/125 [==============================] - 5s 42ms/step - loss: 0.0300 - accuracy: 0.9906 - val_loss: 0.5899 - val_accuracy: 0.8995\n",
            "Epoch 89/100\n",
            "125/125 [==============================] - 5s 42ms/step - loss: 0.0295 - accuracy: 0.9907 - val_loss: 0.5960 - val_accuracy: 0.8992\n",
            "Epoch 90/100\n",
            "125/125 [==============================] - 5s 42ms/step - loss: 0.0290 - accuracy: 0.9910 - val_loss: 0.5949 - val_accuracy: 0.8992\n",
            "Epoch 91/100\n",
            "125/125 [==============================] - 5s 42ms/step - loss: 0.0286 - accuracy: 0.9910 - val_loss: 0.5991 - val_accuracy: 0.8995\n",
            "Epoch 92/100\n",
            "125/125 [==============================] - 5s 41ms/step - loss: 0.0283 - accuracy: 0.9912 - val_loss: 0.5997 - val_accuracy: 0.8988\n",
            "Epoch 93/100\n",
            "125/125 [==============================] - 5s 41ms/step - loss: 0.0277 - accuracy: 0.9912 - val_loss: 0.6024 - val_accuracy: 0.8996\n",
            "Epoch 94/100\n",
            "125/125 [==============================] - 5s 42ms/step - loss: 0.0273 - accuracy: 0.9914 - val_loss: 0.6060 - val_accuracy: 0.8985\n",
            "Epoch 95/100\n",
            "125/125 [==============================] - 5s 42ms/step - loss: 0.0272 - accuracy: 0.9914 - val_loss: 0.6067 - val_accuracy: 0.8986\n",
            "Epoch 96/100\n",
            "125/125 [==============================] - 5s 42ms/step - loss: 0.0265 - accuracy: 0.9916 - val_loss: 0.6133 - val_accuracy: 0.8986\n",
            "Epoch 97/100\n",
            "125/125 [==============================] - 5s 42ms/step - loss: 0.0264 - accuracy: 0.9916 - val_loss: 0.6127 - val_accuracy: 0.8990\n",
            "Epoch 98/100\n",
            "125/125 [==============================] - 5s 42ms/step - loss: 0.0261 - accuracy: 0.9918 - val_loss: 0.6206 - val_accuracy: 0.8991\n",
            "Epoch 99/100\n",
            "125/125 [==============================] - 5s 44ms/step - loss: 0.0259 - accuracy: 0.9917 - val_loss: 0.6110 - val_accuracy: 0.8996\n",
            "Epoch 100/100\n",
            "125/125 [==============================] - 5s 42ms/step - loss: 0.0253 - accuracy: 0.9918 - val_loss: 0.6212 - val_accuracy: 0.8995\n"
          ]
        },
        {
          "output_type": "stream",
          "name": "stderr",
          "text": [
            "WARNING:absl:Found untraced functions such as lstm_cell_layer_call_fn, lstm_cell_layer_call_and_return_conditional_losses, lstm_cell_1_layer_call_fn, lstm_cell_1_layer_call_and_return_conditional_losses, lstm_cell_layer_call_fn while saving (showing 5 of 10). These functions will not be directly callable after loading.\n"
          ]
        },
        {
          "output_type": "stream",
          "name": "stdout",
          "text": [
            "INFO:tensorflow:Assets written to: s2s/assets\n"
          ]
        },
        {
          "output_type": "stream",
          "name": "stderr",
          "text": [
            "INFO:tensorflow:Assets written to: s2s/assets\n",
            "WARNING:absl:<keras.layers.recurrent.LSTMCell object at 0x7f25d3e19210> has the same name 'LSTMCell' as a built-in Keras object. Consider renaming <class 'keras.layers.recurrent.LSTMCell'> to avoid naming conflicts when loading with `tf.keras.models.load_model`. If renaming is not possible, pass the object in the `custom_objects` parameter of the load function.\n",
            "WARNING:absl:<keras.layers.recurrent.LSTMCell object at 0x7f2646ab0650> has the same name 'LSTMCell' as a built-in Keras object. Consider renaming <class 'keras.layers.recurrent.LSTMCell'> to avoid naming conflicts when loading with `tf.keras.models.load_model`. If renaming is not possible, pass the object in the `custom_objects` parameter of the load function.\n"
          ]
        }
      ]
    },
    {
      "cell_type": "markdown",
      "metadata": {
        "id": "z1-uR-JV0xYE"
      },
      "source": [
        "## Predicción\n",
        "\n",
        "\n",
        "\n",
        "1.   Codificar la entrada y extrar el estado inicial del decoder\n",
        "2.   Ejecutar un paso del decoder con este estado inicial y un \"inicio de secuencia\" como objetivo. La salida será el siguiente token objetivo.\n",
        "3.   Repetir con el token actual y el estado actual"
      ]
    },
    {
      "cell_type": "code",
      "metadata": {
        "id": "RDAOMoXRhfEn"
      },
      "source": [
        "# Define sampling models\n",
        "# Restore the model and construct the encoder and decoder.\n",
        "model = keras.models.load_model(\"s2s\")\n",
        "\n",
        "encoder_inputs = model.input[0]  # input_1\n",
        "encoder_outputs, state_h_enc, state_c_enc = model.layers[2].output  # lstm_1\n",
        "encoder_states = [state_h_enc, state_c_enc]\n",
        "encoder_model = keras.Model(encoder_inputs, encoder_states)\n",
        "\n",
        "decoder_inputs = model.input[1]  # input_2\n",
        "decoder_state_input_h = keras.Input(shape=(latent_dim,))\n",
        "decoder_state_input_c = keras.Input(shape=(latent_dim,))\n",
        "decoder_states_inputs = [decoder_state_input_h, decoder_state_input_c]\n",
        "decoder_lstm = model.layers[3]\n",
        "decoder_outputs, state_h_dec, state_c_dec = decoder_lstm(\n",
        "    decoder_inputs, initial_state=decoder_states_inputs\n",
        ")\n",
        "decoder_states = [state_h_dec, state_c_dec]\n",
        "decoder_dense = model.layers[4]\n",
        "decoder_outputs = decoder_dense(decoder_outputs)\n",
        "decoder_model = keras.Model(\n",
        "    [decoder_inputs] + decoder_states_inputs, [decoder_outputs] + decoder_states\n",
        ")\n",
        "\n",
        "# Reverse-lookup token index to decode sequences back to\n",
        "# something readable.\n",
        "reverse_input_char_index = dict((i, char) for char, i in input_token_index.items())\n",
        "reverse_target_char_index = dict((i, char) for char, i in target_token_index.items())\n",
        "\n",
        "\n",
        "def decode_sequence(input_seq):\n",
        "    # Encode the input as state vectors.\n",
        "    states_value = encoder_model.predict(input_seq)\n",
        "\n",
        "    # Generate empty target sequence of length 1.\n",
        "    target_seq = np.zeros((1, 1, num_decoder_tokens))\n",
        "    # Populate the first character of target sequence with the start character.\n",
        "    target_seq[0, 0, target_token_index[\"\\t\"]] = 1.0\n",
        "\n",
        "    # Sampling loop for a batch of sequences\n",
        "    # (to simplify, here we assume a batch of size 1).\n",
        "    stop_condition = False\n",
        "    decoded_sentence = \"\"\n",
        "    while not stop_condition:\n",
        "        output_tokens, h, c = decoder_model.predict([target_seq] + states_value)\n",
        "\n",
        "        # Sample a token\n",
        "        sampled_token_index = np.argmax(output_tokens[0, -1, :])\n",
        "        sampled_char = reverse_target_char_index[sampled_token_index]\n",
        "        decoded_sentence += sampled_char\n",
        "\n",
        "        # Exit condition: either hit max length\n",
        "        # or find stop character.\n",
        "        if sampled_char == \"\\n\" or len(decoded_sentence) > max_decoder_seq_length:\n",
        "            stop_condition = True\n",
        "\n",
        "        # Update the target sequence (of length 1).\n",
        "        target_seq = np.zeros((1, 1, num_decoder_tokens))\n",
        "        target_seq[0, 0, sampled_token_index] = 1.0\n",
        "\n",
        "        # Update states\n",
        "        states_value = [h, c]\n",
        "    return decoded_sentence"
      ],
      "execution_count": 8,
      "outputs": []
    },
    {
      "cell_type": "markdown",
      "metadata": {
        "id": "-u0-tHdg1jNg"
      },
      "source": [
        "Podemos decodificar oraciones"
      ]
    },
    {
      "cell_type": "code",
      "metadata": {
        "colab": {
          "base_uri": "https://localhost:8080/"
        },
        "id": "mjf7akZ4hj16",
        "outputId": "c11b1d56-59a6-4422-b147-c105fe76fcda"
      },
      "source": [
        "for seq_index in range(20):\n",
        "    # Take one sequence (part of the training set)\n",
        "    # for trying out decoding.\n",
        "    input_seq = encoder_input_data[seq_index : seq_index + 1]\n",
        "    decoded_sentence = decode_sequence(input_seq)\n",
        "    print(\"-\")\n",
        "    print(\"Input sentence:\", input_texts[seq_index])\n",
        "    print(\"Decoded sentence:\", decoded_sentence)"
      ],
      "execution_count": 9,
      "outputs": [
        {
          "output_type": "stream",
          "name": "stdout",
          "text": [
            "-\n",
            "Input sentence: Go.\n",
            "Decoded sentence: Vete.\n",
            "\n",
            "-\n",
            "Input sentence: Go.\n",
            "Decoded sentence: Vete.\n",
            "\n",
            "-\n",
            "Input sentence: Go.\n",
            "Decoded sentence: Vete.\n",
            "\n",
            "-\n",
            "Input sentence: Go.\n",
            "Decoded sentence: Vete.\n",
            "\n",
            "-\n",
            "Input sentence: Hi.\n",
            "Decoded sentence: Hola.\n",
            "\n",
            "-\n",
            "Input sentence: Run!\n",
            "Decoded sentence: ¡Corran!\n",
            "\n",
            "-\n",
            "Input sentence: Run!\n",
            "Decoded sentence: ¡Corran!\n",
            "\n",
            "-\n",
            "Input sentence: Run!\n",
            "Decoded sentence: ¡Corran!\n",
            "\n",
            "-\n",
            "Input sentence: Run!\n",
            "Decoded sentence: ¡Corran!\n",
            "\n",
            "-\n",
            "Input sentence: Run.\n",
            "Decoded sentence: Corred.\n",
            "\n",
            "-\n",
            "Input sentence: Who?\n",
            "Decoded sentence: ¿Quién?\n",
            "\n",
            "-\n",
            "Input sentence: Wow!\n",
            "Decoded sentence: ¡Órale!\n",
            "\n",
            "-\n",
            "Input sentence: Duck!\n",
            "Decoded sentence: ¡Inclínate!\n",
            "\n",
            "-\n",
            "Input sentence: Fire!\n",
            "Decoded sentence: ¡Fuego!\n",
            "\n",
            "-\n",
            "Input sentence: Fire!\n",
            "Decoded sentence: ¡Fuego!\n",
            "\n",
            "-\n",
            "Input sentence: Fire!\n",
            "Decoded sentence: ¡Fuego!\n",
            "\n",
            "-\n",
            "Input sentence: Help!\n",
            "Decoded sentence: ¡Ayuda!\n",
            "\n",
            "-\n",
            "Input sentence: Help!\n",
            "Decoded sentence: ¡Ayuda!\n",
            "\n",
            "-\n",
            "Input sentence: Help!\n",
            "Decoded sentence: ¡Ayuda!\n",
            "\n",
            "-\n",
            "Input sentence: Jump!\n",
            "Decoded sentence: ¡Salta!\n",
            "\n"
          ]
        }
      ]
    },
    {
      "cell_type": "code",
      "metadata": {
        "id": "CLRHnEiWhmfn"
      },
      "source": [
        ""
      ],
      "execution_count": null,
      "outputs": []
    }
  ]
}