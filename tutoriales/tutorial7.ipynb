{
 "cells": [
  {
   "cell_type": "markdown",
   "metadata": {},
   "source": [
    "# Tutorial 6: Large Language Models\n",
    "\n",
    "### Cuerpo Docente\n",
    "\n",
    "- Profesores: [Andrés Abeliuk](https://aabeliuk.github.io/), [Felipe Villena](https://fabianvillena.cl/).\n",
    "- Profesor Auxiliar: [Gabriel Iturra](https://giturra.cl/)\n",
    "\n",
    "\n",
    "### Objetivos del Tutorial\n",
    "\n",
    "- Que es Google Colab.\n",
    "- Que es Python y como descargarlo.\n",
    "- Entender como trabajar con archivos en Python, tanto de su versión nativa como con ```Pandas```.\n",
    "- Entender como trabajar texto desde ```Pandas```.\n",
    "- Entender como utilizar expresiones regulares."
   ]
  }
 ],
 "metadata": {
  "language_info": {
   "name": "python"
  }
 },
 "nbformat": 4,
 "nbformat_minor": 2
}
