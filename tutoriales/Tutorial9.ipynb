{
  "nbformat": 4,
  "nbformat_minor": 0,
  "metadata": {
    "colab": {
      "provenance": []
    },
    "kernelspec": {
      "name": "python3",
      "display_name": "Python 3"
    },
    "language_info": {
      "name": "python"
    },
    "widgets": {
      "application/vnd.jupyter.widget-state+json": {
        "049843a4ab6a4caeb27bd99e383d2bda": {
          "model_module": "@jupyter-widgets/controls",
          "model_name": "HBoxModel",
          "model_module_version": "1.5.0",
          "state": {
            "_dom_classes": [],
            "_model_module": "@jupyter-widgets/controls",
            "_model_module_version": "1.5.0",
            "_model_name": "HBoxModel",
            "_view_count": null,
            "_view_module": "@jupyter-widgets/controls",
            "_view_module_version": "1.5.0",
            "_view_name": "HBoxView",
            "box_style": "",
            "children": [
              "IPY_MODEL_a9ff0e8a23b44d67a04f5a0091e116c2",
              "IPY_MODEL_9cf5b677c3474fee8565f94977e1c8c8",
              "IPY_MODEL_70896b539bca40b7a800caa291b03706"
            ],
            "layout": "IPY_MODEL_94d75911b54d407d9a6b8fd8bf6e9b86"
          }
        },
        "a9ff0e8a23b44d67a04f5a0091e116c2": {
          "model_module": "@jupyter-widgets/controls",
          "model_name": "HTMLModel",
          "model_module_version": "1.5.0",
          "state": {
            "_dom_classes": [],
            "_model_module": "@jupyter-widgets/controls",
            "_model_module_version": "1.5.0",
            "_model_name": "HTMLModel",
            "_view_count": null,
            "_view_module": "@jupyter-widgets/controls",
            "_view_module_version": "1.5.0",
            "_view_name": "HTMLView",
            "description": "",
            "description_tooltip": null,
            "layout": "IPY_MODEL_b527c79ff0f14becbbee07b01ba4f7fd",
            "placeholder": "​",
            "style": "IPY_MODEL_0c13bd08abcf451a80bf4e54a18c34f4",
            "value": "modules.json: 100%"
          }
        },
        "9cf5b677c3474fee8565f94977e1c8c8": {
          "model_module": "@jupyter-widgets/controls",
          "model_name": "FloatProgressModel",
          "model_module_version": "1.5.0",
          "state": {
            "_dom_classes": [],
            "_model_module": "@jupyter-widgets/controls",
            "_model_module_version": "1.5.0",
            "_model_name": "FloatProgressModel",
            "_view_count": null,
            "_view_module": "@jupyter-widgets/controls",
            "_view_module_version": "1.5.0",
            "_view_name": "ProgressView",
            "bar_style": "success",
            "description": "",
            "description_tooltip": null,
            "layout": "IPY_MODEL_25331b79bca542ea9aeff69fef8d4baa",
            "max": 349,
            "min": 0,
            "orientation": "horizontal",
            "style": "IPY_MODEL_0290779034f446c7b63845a00972021a",
            "value": 349
          }
        },
        "70896b539bca40b7a800caa291b03706": {
          "model_module": "@jupyter-widgets/controls",
          "model_name": "HTMLModel",
          "model_module_version": "1.5.0",
          "state": {
            "_dom_classes": [],
            "_model_module": "@jupyter-widgets/controls",
            "_model_module_version": "1.5.0",
            "_model_name": "HTMLModel",
            "_view_count": null,
            "_view_module": "@jupyter-widgets/controls",
            "_view_module_version": "1.5.0",
            "_view_name": "HTMLView",
            "description": "",
            "description_tooltip": null,
            "layout": "IPY_MODEL_fd0ca16a898e4cc2822d28e18cae6a55",
            "placeholder": "​",
            "style": "IPY_MODEL_8b57761de04e4478adfbd267465e6427",
            "value": " 349/349 [00:00&lt;00:00, 18.3kB/s]"
          }
        },
        "94d75911b54d407d9a6b8fd8bf6e9b86": {
          "model_module": "@jupyter-widgets/base",
          "model_name": "LayoutModel",
          "model_module_version": "1.2.0",
          "state": {
            "_model_module": "@jupyter-widgets/base",
            "_model_module_version": "1.2.0",
            "_model_name": "LayoutModel",
            "_view_count": null,
            "_view_module": "@jupyter-widgets/base",
            "_view_module_version": "1.2.0",
            "_view_name": "LayoutView",
            "align_content": null,
            "align_items": null,
            "align_self": null,
            "border": null,
            "bottom": null,
            "display": null,
            "flex": null,
            "flex_flow": null,
            "grid_area": null,
            "grid_auto_columns": null,
            "grid_auto_flow": null,
            "grid_auto_rows": null,
            "grid_column": null,
            "grid_gap": null,
            "grid_row": null,
            "grid_template_areas": null,
            "grid_template_columns": null,
            "grid_template_rows": null,
            "height": null,
            "justify_content": null,
            "justify_items": null,
            "left": null,
            "margin": null,
            "max_height": null,
            "max_width": null,
            "min_height": null,
            "min_width": null,
            "object_fit": null,
            "object_position": null,
            "order": null,
            "overflow": null,
            "overflow_x": null,
            "overflow_y": null,
            "padding": null,
            "right": null,
            "top": null,
            "visibility": null,
            "width": null
          }
        },
        "b527c79ff0f14becbbee07b01ba4f7fd": {
          "model_module": "@jupyter-widgets/base",
          "model_name": "LayoutModel",
          "model_module_version": "1.2.0",
          "state": {
            "_model_module": "@jupyter-widgets/base",
            "_model_module_version": "1.2.0",
            "_model_name": "LayoutModel",
            "_view_count": null,
            "_view_module": "@jupyter-widgets/base",
            "_view_module_version": "1.2.0",
            "_view_name": "LayoutView",
            "align_content": null,
            "align_items": null,
            "align_self": null,
            "border": null,
            "bottom": null,
            "display": null,
            "flex": null,
            "flex_flow": null,
            "grid_area": null,
            "grid_auto_columns": null,
            "grid_auto_flow": null,
            "grid_auto_rows": null,
            "grid_column": null,
            "grid_gap": null,
            "grid_row": null,
            "grid_template_areas": null,
            "grid_template_columns": null,
            "grid_template_rows": null,
            "height": null,
            "justify_content": null,
            "justify_items": null,
            "left": null,
            "margin": null,
            "max_height": null,
            "max_width": null,
            "min_height": null,
            "min_width": null,
            "object_fit": null,
            "object_position": null,
            "order": null,
            "overflow": null,
            "overflow_x": null,
            "overflow_y": null,
            "padding": null,
            "right": null,
            "top": null,
            "visibility": null,
            "width": null
          }
        },
        "0c13bd08abcf451a80bf4e54a18c34f4": {
          "model_module": "@jupyter-widgets/controls",
          "model_name": "DescriptionStyleModel",
          "model_module_version": "1.5.0",
          "state": {
            "_model_module": "@jupyter-widgets/controls",
            "_model_module_version": "1.5.0",
            "_model_name": "DescriptionStyleModel",
            "_view_count": null,
            "_view_module": "@jupyter-widgets/base",
            "_view_module_version": "1.2.0",
            "_view_name": "StyleView",
            "description_width": ""
          }
        },
        "25331b79bca542ea9aeff69fef8d4baa": {
          "model_module": "@jupyter-widgets/base",
          "model_name": "LayoutModel",
          "model_module_version": "1.2.0",
          "state": {
            "_model_module": "@jupyter-widgets/base",
            "_model_module_version": "1.2.0",
            "_model_name": "LayoutModel",
            "_view_count": null,
            "_view_module": "@jupyter-widgets/base",
            "_view_module_version": "1.2.0",
            "_view_name": "LayoutView",
            "align_content": null,
            "align_items": null,
            "align_self": null,
            "border": null,
            "bottom": null,
            "display": null,
            "flex": null,
            "flex_flow": null,
            "grid_area": null,
            "grid_auto_columns": null,
            "grid_auto_flow": null,
            "grid_auto_rows": null,
            "grid_column": null,
            "grid_gap": null,
            "grid_row": null,
            "grid_template_areas": null,
            "grid_template_columns": null,
            "grid_template_rows": null,
            "height": null,
            "justify_content": null,
            "justify_items": null,
            "left": null,
            "margin": null,
            "max_height": null,
            "max_width": null,
            "min_height": null,
            "min_width": null,
            "object_fit": null,
            "object_position": null,
            "order": null,
            "overflow": null,
            "overflow_x": null,
            "overflow_y": null,
            "padding": null,
            "right": null,
            "top": null,
            "visibility": null,
            "width": null
          }
        },
        "0290779034f446c7b63845a00972021a": {
          "model_module": "@jupyter-widgets/controls",
          "model_name": "ProgressStyleModel",
          "model_module_version": "1.5.0",
          "state": {
            "_model_module": "@jupyter-widgets/controls",
            "_model_module_version": "1.5.0",
            "_model_name": "ProgressStyleModel",
            "_view_count": null,
            "_view_module": "@jupyter-widgets/base",
            "_view_module_version": "1.2.0",
            "_view_name": "StyleView",
            "bar_color": null,
            "description_width": ""
          }
        },
        "fd0ca16a898e4cc2822d28e18cae6a55": {
          "model_module": "@jupyter-widgets/base",
          "model_name": "LayoutModel",
          "model_module_version": "1.2.0",
          "state": {
            "_model_module": "@jupyter-widgets/base",
            "_model_module_version": "1.2.0",
            "_model_name": "LayoutModel",
            "_view_count": null,
            "_view_module": "@jupyter-widgets/base",
            "_view_module_version": "1.2.0",
            "_view_name": "LayoutView",
            "align_content": null,
            "align_items": null,
            "align_self": null,
            "border": null,
            "bottom": null,
            "display": null,
            "flex": null,
            "flex_flow": null,
            "grid_area": null,
            "grid_auto_columns": null,
            "grid_auto_flow": null,
            "grid_auto_rows": null,
            "grid_column": null,
            "grid_gap": null,
            "grid_row": null,
            "grid_template_areas": null,
            "grid_template_columns": null,
            "grid_template_rows": null,
            "height": null,
            "justify_content": null,
            "justify_items": null,
            "left": null,
            "margin": null,
            "max_height": null,
            "max_width": null,
            "min_height": null,
            "min_width": null,
            "object_fit": null,
            "object_position": null,
            "order": null,
            "overflow": null,
            "overflow_x": null,
            "overflow_y": null,
            "padding": null,
            "right": null,
            "top": null,
            "visibility": null,
            "width": null
          }
        },
        "8b57761de04e4478adfbd267465e6427": {
          "model_module": "@jupyter-widgets/controls",
          "model_name": "DescriptionStyleModel",
          "model_module_version": "1.5.0",
          "state": {
            "_model_module": "@jupyter-widgets/controls",
            "_model_module_version": "1.5.0",
            "_model_name": "DescriptionStyleModel",
            "_view_count": null,
            "_view_module": "@jupyter-widgets/base",
            "_view_module_version": "1.2.0",
            "_view_name": "StyleView",
            "description_width": ""
          }
        },
        "1baa5ee0b56f43928d7919d050fffa8b": {
          "model_module": "@jupyter-widgets/controls",
          "model_name": "HBoxModel",
          "model_module_version": "1.5.0",
          "state": {
            "_dom_classes": [],
            "_model_module": "@jupyter-widgets/controls",
            "_model_module_version": "1.5.0",
            "_model_name": "HBoxModel",
            "_view_count": null,
            "_view_module": "@jupyter-widgets/controls",
            "_view_module_version": "1.5.0",
            "_view_name": "HBoxView",
            "box_style": "",
            "children": [
              "IPY_MODEL_eb007b885242485f9c76d6977ecaf98d",
              "IPY_MODEL_ea0506b8ace949c7ba1b7a226af95a09",
              "IPY_MODEL_8a77c0335fe041a183649a0a59b25779"
            ],
            "layout": "IPY_MODEL_fcdb11579d0c4b238f243e8056670b1a"
          }
        },
        "eb007b885242485f9c76d6977ecaf98d": {
          "model_module": "@jupyter-widgets/controls",
          "model_name": "HTMLModel",
          "model_module_version": "1.5.0",
          "state": {
            "_dom_classes": [],
            "_model_module": "@jupyter-widgets/controls",
            "_model_module_version": "1.5.0",
            "_model_name": "HTMLModel",
            "_view_count": null,
            "_view_module": "@jupyter-widgets/controls",
            "_view_module_version": "1.5.0",
            "_view_name": "HTMLView",
            "description": "",
            "description_tooltip": null,
            "layout": "IPY_MODEL_edb98ca0c5a74c8d89292a1cb32ee585",
            "placeholder": "​",
            "style": "IPY_MODEL_76f0139c19c248888196efa238e2c7d7",
            "value": "config_sentence_transformers.json: 100%"
          }
        },
        "ea0506b8ace949c7ba1b7a226af95a09": {
          "model_module": "@jupyter-widgets/controls",
          "model_name": "FloatProgressModel",
          "model_module_version": "1.5.0",
          "state": {
            "_dom_classes": [],
            "_model_module": "@jupyter-widgets/controls",
            "_model_module_version": "1.5.0",
            "_model_name": "FloatProgressModel",
            "_view_count": null,
            "_view_module": "@jupyter-widgets/controls",
            "_view_module_version": "1.5.0",
            "_view_name": "ProgressView",
            "bar_style": "success",
            "description": "",
            "description_tooltip": null,
            "layout": "IPY_MODEL_c32b3d8af2d94aeb801bb4d4c83e1382",
            "max": 116,
            "min": 0,
            "orientation": "horizontal",
            "style": "IPY_MODEL_3767f3f55c5b4c72be934e902ce10040",
            "value": 116
          }
        },
        "8a77c0335fe041a183649a0a59b25779": {
          "model_module": "@jupyter-widgets/controls",
          "model_name": "HTMLModel",
          "model_module_version": "1.5.0",
          "state": {
            "_dom_classes": [],
            "_model_module": "@jupyter-widgets/controls",
            "_model_module_version": "1.5.0",
            "_model_name": "HTMLModel",
            "_view_count": null,
            "_view_module": "@jupyter-widgets/controls",
            "_view_module_version": "1.5.0",
            "_view_name": "HTMLView",
            "description": "",
            "description_tooltip": null,
            "layout": "IPY_MODEL_0b9ac309c1e74c4a82c089fabdc1b7b5",
            "placeholder": "​",
            "style": "IPY_MODEL_81fec98e9440482cbbc30dc9ee4cdcac",
            "value": " 116/116 [00:00&lt;00:00, 7.86kB/s]"
          }
        },
        "fcdb11579d0c4b238f243e8056670b1a": {
          "model_module": "@jupyter-widgets/base",
          "model_name": "LayoutModel",
          "model_module_version": "1.2.0",
          "state": {
            "_model_module": "@jupyter-widgets/base",
            "_model_module_version": "1.2.0",
            "_model_name": "LayoutModel",
            "_view_count": null,
            "_view_module": "@jupyter-widgets/base",
            "_view_module_version": "1.2.0",
            "_view_name": "LayoutView",
            "align_content": null,
            "align_items": null,
            "align_self": null,
            "border": null,
            "bottom": null,
            "display": null,
            "flex": null,
            "flex_flow": null,
            "grid_area": null,
            "grid_auto_columns": null,
            "grid_auto_flow": null,
            "grid_auto_rows": null,
            "grid_column": null,
            "grid_gap": null,
            "grid_row": null,
            "grid_template_areas": null,
            "grid_template_columns": null,
            "grid_template_rows": null,
            "height": null,
            "justify_content": null,
            "justify_items": null,
            "left": null,
            "margin": null,
            "max_height": null,
            "max_width": null,
            "min_height": null,
            "min_width": null,
            "object_fit": null,
            "object_position": null,
            "order": null,
            "overflow": null,
            "overflow_x": null,
            "overflow_y": null,
            "padding": null,
            "right": null,
            "top": null,
            "visibility": null,
            "width": null
          }
        },
        "edb98ca0c5a74c8d89292a1cb32ee585": {
          "model_module": "@jupyter-widgets/base",
          "model_name": "LayoutModel",
          "model_module_version": "1.2.0",
          "state": {
            "_model_module": "@jupyter-widgets/base",
            "_model_module_version": "1.2.0",
            "_model_name": "LayoutModel",
            "_view_count": null,
            "_view_module": "@jupyter-widgets/base",
            "_view_module_version": "1.2.0",
            "_view_name": "LayoutView",
            "align_content": null,
            "align_items": null,
            "align_self": null,
            "border": null,
            "bottom": null,
            "display": null,
            "flex": null,
            "flex_flow": null,
            "grid_area": null,
            "grid_auto_columns": null,
            "grid_auto_flow": null,
            "grid_auto_rows": null,
            "grid_column": null,
            "grid_gap": null,
            "grid_row": null,
            "grid_template_areas": null,
            "grid_template_columns": null,
            "grid_template_rows": null,
            "height": null,
            "justify_content": null,
            "justify_items": null,
            "left": null,
            "margin": null,
            "max_height": null,
            "max_width": null,
            "min_height": null,
            "min_width": null,
            "object_fit": null,
            "object_position": null,
            "order": null,
            "overflow": null,
            "overflow_x": null,
            "overflow_y": null,
            "padding": null,
            "right": null,
            "top": null,
            "visibility": null,
            "width": null
          }
        },
        "76f0139c19c248888196efa238e2c7d7": {
          "model_module": "@jupyter-widgets/controls",
          "model_name": "DescriptionStyleModel",
          "model_module_version": "1.5.0",
          "state": {
            "_model_module": "@jupyter-widgets/controls",
            "_model_module_version": "1.5.0",
            "_model_name": "DescriptionStyleModel",
            "_view_count": null,
            "_view_module": "@jupyter-widgets/base",
            "_view_module_version": "1.2.0",
            "_view_name": "StyleView",
            "description_width": ""
          }
        },
        "c32b3d8af2d94aeb801bb4d4c83e1382": {
          "model_module": "@jupyter-widgets/base",
          "model_name": "LayoutModel",
          "model_module_version": "1.2.0",
          "state": {
            "_model_module": "@jupyter-widgets/base",
            "_model_module_version": "1.2.0",
            "_model_name": "LayoutModel",
            "_view_count": null,
            "_view_module": "@jupyter-widgets/base",
            "_view_module_version": "1.2.0",
            "_view_name": "LayoutView",
            "align_content": null,
            "align_items": null,
            "align_self": null,
            "border": null,
            "bottom": null,
            "display": null,
            "flex": null,
            "flex_flow": null,
            "grid_area": null,
            "grid_auto_columns": null,
            "grid_auto_flow": null,
            "grid_auto_rows": null,
            "grid_column": null,
            "grid_gap": null,
            "grid_row": null,
            "grid_template_areas": null,
            "grid_template_columns": null,
            "grid_template_rows": null,
            "height": null,
            "justify_content": null,
            "justify_items": null,
            "left": null,
            "margin": null,
            "max_height": null,
            "max_width": null,
            "min_height": null,
            "min_width": null,
            "object_fit": null,
            "object_position": null,
            "order": null,
            "overflow": null,
            "overflow_x": null,
            "overflow_y": null,
            "padding": null,
            "right": null,
            "top": null,
            "visibility": null,
            "width": null
          }
        },
        "3767f3f55c5b4c72be934e902ce10040": {
          "model_module": "@jupyter-widgets/controls",
          "model_name": "ProgressStyleModel",
          "model_module_version": "1.5.0",
          "state": {
            "_model_module": "@jupyter-widgets/controls",
            "_model_module_version": "1.5.0",
            "_model_name": "ProgressStyleModel",
            "_view_count": null,
            "_view_module": "@jupyter-widgets/base",
            "_view_module_version": "1.2.0",
            "_view_name": "StyleView",
            "bar_color": null,
            "description_width": ""
          }
        },
        "0b9ac309c1e74c4a82c089fabdc1b7b5": {
          "model_module": "@jupyter-widgets/base",
          "model_name": "LayoutModel",
          "model_module_version": "1.2.0",
          "state": {
            "_model_module": "@jupyter-widgets/base",
            "_model_module_version": "1.2.0",
            "_model_name": "LayoutModel",
            "_view_count": null,
            "_view_module": "@jupyter-widgets/base",
            "_view_module_version": "1.2.0",
            "_view_name": "LayoutView",
            "align_content": null,
            "align_items": null,
            "align_self": null,
            "border": null,
            "bottom": null,
            "display": null,
            "flex": null,
            "flex_flow": null,
            "grid_area": null,
            "grid_auto_columns": null,
            "grid_auto_flow": null,
            "grid_auto_rows": null,
            "grid_column": null,
            "grid_gap": null,
            "grid_row": null,
            "grid_template_areas": null,
            "grid_template_columns": null,
            "grid_template_rows": null,
            "height": null,
            "justify_content": null,
            "justify_items": null,
            "left": null,
            "margin": null,
            "max_height": null,
            "max_width": null,
            "min_height": null,
            "min_width": null,
            "object_fit": null,
            "object_position": null,
            "order": null,
            "overflow": null,
            "overflow_x": null,
            "overflow_y": null,
            "padding": null,
            "right": null,
            "top": null,
            "visibility": null,
            "width": null
          }
        },
        "81fec98e9440482cbbc30dc9ee4cdcac": {
          "model_module": "@jupyter-widgets/controls",
          "model_name": "DescriptionStyleModel",
          "model_module_version": "1.5.0",
          "state": {
            "_model_module": "@jupyter-widgets/controls",
            "_model_module_version": "1.5.0",
            "_model_name": "DescriptionStyleModel",
            "_view_count": null,
            "_view_module": "@jupyter-widgets/base",
            "_view_module_version": "1.2.0",
            "_view_name": "StyleView",
            "description_width": ""
          }
        },
        "f7455d5eabc54df398cef60f3ad238c5": {
          "model_module": "@jupyter-widgets/controls",
          "model_name": "HBoxModel",
          "model_module_version": "1.5.0",
          "state": {
            "_dom_classes": [],
            "_model_module": "@jupyter-widgets/controls",
            "_model_module_version": "1.5.0",
            "_model_name": "HBoxModel",
            "_view_count": null,
            "_view_module": "@jupyter-widgets/controls",
            "_view_module_version": "1.5.0",
            "_view_name": "HBoxView",
            "box_style": "",
            "children": [
              "IPY_MODEL_c17911359f6b4a1bbe23313cd10ff247",
              "IPY_MODEL_cd77ff70c58d4ffea9057750f9adff8c",
              "IPY_MODEL_b9eb19cea3e64e2592fa89587d6b8f92"
            ],
            "layout": "IPY_MODEL_65db1fd3af7e457297c491156599b3ce"
          }
        },
        "c17911359f6b4a1bbe23313cd10ff247": {
          "model_module": "@jupyter-widgets/controls",
          "model_name": "HTMLModel",
          "model_module_version": "1.5.0",
          "state": {
            "_dom_classes": [],
            "_model_module": "@jupyter-widgets/controls",
            "_model_module_version": "1.5.0",
            "_model_name": "HTMLModel",
            "_view_count": null,
            "_view_module": "@jupyter-widgets/controls",
            "_view_module_version": "1.5.0",
            "_view_name": "HTMLView",
            "description": "",
            "description_tooltip": null,
            "layout": "IPY_MODEL_4cc13bdcf2e74327a5d0fbffcad397f2",
            "placeholder": "​",
            "style": "IPY_MODEL_75ba5cdfaffa49619757ab5e645544c7",
            "value": "README.md: 100%"
          }
        },
        "cd77ff70c58d4ffea9057750f9adff8c": {
          "model_module": "@jupyter-widgets/controls",
          "model_name": "FloatProgressModel",
          "model_module_version": "1.5.0",
          "state": {
            "_dom_classes": [],
            "_model_module": "@jupyter-widgets/controls",
            "_model_module_version": "1.5.0",
            "_model_name": "FloatProgressModel",
            "_view_count": null,
            "_view_module": "@jupyter-widgets/controls",
            "_view_module_version": "1.5.0",
            "_view_name": "ProgressView",
            "bar_style": "success",
            "description": "",
            "description_tooltip": null,
            "layout": "IPY_MODEL_771ff339bbd744469397e968e9b8a6d0",
            "max": 10621,
            "min": 0,
            "orientation": "horizontal",
            "style": "IPY_MODEL_b5b1ff0c854d4dc1832e365799483749",
            "value": 10621
          }
        },
        "b9eb19cea3e64e2592fa89587d6b8f92": {
          "model_module": "@jupyter-widgets/controls",
          "model_name": "HTMLModel",
          "model_module_version": "1.5.0",
          "state": {
            "_dom_classes": [],
            "_model_module": "@jupyter-widgets/controls",
            "_model_module_version": "1.5.0",
            "_model_name": "HTMLModel",
            "_view_count": null,
            "_view_module": "@jupyter-widgets/controls",
            "_view_module_version": "1.5.0",
            "_view_name": "HTMLView",
            "description": "",
            "description_tooltip": null,
            "layout": "IPY_MODEL_71592da1356d4728b3dcf964f4dbc5f1",
            "placeholder": "​",
            "style": "IPY_MODEL_eccb1a424a2947e28c13fdb23d051fab",
            "value": " 10.6k/10.6k [00:00&lt;00:00, 691kB/s]"
          }
        },
        "65db1fd3af7e457297c491156599b3ce": {
          "model_module": "@jupyter-widgets/base",
          "model_name": "LayoutModel",
          "model_module_version": "1.2.0",
          "state": {
            "_model_module": "@jupyter-widgets/base",
            "_model_module_version": "1.2.0",
            "_model_name": "LayoutModel",
            "_view_count": null,
            "_view_module": "@jupyter-widgets/base",
            "_view_module_version": "1.2.0",
            "_view_name": "LayoutView",
            "align_content": null,
            "align_items": null,
            "align_self": null,
            "border": null,
            "bottom": null,
            "display": null,
            "flex": null,
            "flex_flow": null,
            "grid_area": null,
            "grid_auto_columns": null,
            "grid_auto_flow": null,
            "grid_auto_rows": null,
            "grid_column": null,
            "grid_gap": null,
            "grid_row": null,
            "grid_template_areas": null,
            "grid_template_columns": null,
            "grid_template_rows": null,
            "height": null,
            "justify_content": null,
            "justify_items": null,
            "left": null,
            "margin": null,
            "max_height": null,
            "max_width": null,
            "min_height": null,
            "min_width": null,
            "object_fit": null,
            "object_position": null,
            "order": null,
            "overflow": null,
            "overflow_x": null,
            "overflow_y": null,
            "padding": null,
            "right": null,
            "top": null,
            "visibility": null,
            "width": null
          }
        },
        "4cc13bdcf2e74327a5d0fbffcad397f2": {
          "model_module": "@jupyter-widgets/base",
          "model_name": "LayoutModel",
          "model_module_version": "1.2.0",
          "state": {
            "_model_module": "@jupyter-widgets/base",
            "_model_module_version": "1.2.0",
            "_model_name": "LayoutModel",
            "_view_count": null,
            "_view_module": "@jupyter-widgets/base",
            "_view_module_version": "1.2.0",
            "_view_name": "LayoutView",
            "align_content": null,
            "align_items": null,
            "align_self": null,
            "border": null,
            "bottom": null,
            "display": null,
            "flex": null,
            "flex_flow": null,
            "grid_area": null,
            "grid_auto_columns": null,
            "grid_auto_flow": null,
            "grid_auto_rows": null,
            "grid_column": null,
            "grid_gap": null,
            "grid_row": null,
            "grid_template_areas": null,
            "grid_template_columns": null,
            "grid_template_rows": null,
            "height": null,
            "justify_content": null,
            "justify_items": null,
            "left": null,
            "margin": null,
            "max_height": null,
            "max_width": null,
            "min_height": null,
            "min_width": null,
            "object_fit": null,
            "object_position": null,
            "order": null,
            "overflow": null,
            "overflow_x": null,
            "overflow_y": null,
            "padding": null,
            "right": null,
            "top": null,
            "visibility": null,
            "width": null
          }
        },
        "75ba5cdfaffa49619757ab5e645544c7": {
          "model_module": "@jupyter-widgets/controls",
          "model_name": "DescriptionStyleModel",
          "model_module_version": "1.5.0",
          "state": {
            "_model_module": "@jupyter-widgets/controls",
            "_model_module_version": "1.5.0",
            "_model_name": "DescriptionStyleModel",
            "_view_count": null,
            "_view_module": "@jupyter-widgets/base",
            "_view_module_version": "1.2.0",
            "_view_name": "StyleView",
            "description_width": ""
          }
        },
        "771ff339bbd744469397e968e9b8a6d0": {
          "model_module": "@jupyter-widgets/base",
          "model_name": "LayoutModel",
          "model_module_version": "1.2.0",
          "state": {
            "_model_module": "@jupyter-widgets/base",
            "_model_module_version": "1.2.0",
            "_model_name": "LayoutModel",
            "_view_count": null,
            "_view_module": "@jupyter-widgets/base",
            "_view_module_version": "1.2.0",
            "_view_name": "LayoutView",
            "align_content": null,
            "align_items": null,
            "align_self": null,
            "border": null,
            "bottom": null,
            "display": null,
            "flex": null,
            "flex_flow": null,
            "grid_area": null,
            "grid_auto_columns": null,
            "grid_auto_flow": null,
            "grid_auto_rows": null,
            "grid_column": null,
            "grid_gap": null,
            "grid_row": null,
            "grid_template_areas": null,
            "grid_template_columns": null,
            "grid_template_rows": null,
            "height": null,
            "justify_content": null,
            "justify_items": null,
            "left": null,
            "margin": null,
            "max_height": null,
            "max_width": null,
            "min_height": null,
            "min_width": null,
            "object_fit": null,
            "object_position": null,
            "order": null,
            "overflow": null,
            "overflow_x": null,
            "overflow_y": null,
            "padding": null,
            "right": null,
            "top": null,
            "visibility": null,
            "width": null
          }
        },
        "b5b1ff0c854d4dc1832e365799483749": {
          "model_module": "@jupyter-widgets/controls",
          "model_name": "ProgressStyleModel",
          "model_module_version": "1.5.0",
          "state": {
            "_model_module": "@jupyter-widgets/controls",
            "_model_module_version": "1.5.0",
            "_model_name": "ProgressStyleModel",
            "_view_count": null,
            "_view_module": "@jupyter-widgets/base",
            "_view_module_version": "1.2.0",
            "_view_name": "StyleView",
            "bar_color": null,
            "description_width": ""
          }
        },
        "71592da1356d4728b3dcf964f4dbc5f1": {
          "model_module": "@jupyter-widgets/base",
          "model_name": "LayoutModel",
          "model_module_version": "1.2.0",
          "state": {
            "_model_module": "@jupyter-widgets/base",
            "_model_module_version": "1.2.0",
            "_model_name": "LayoutModel",
            "_view_count": null,
            "_view_module": "@jupyter-widgets/base",
            "_view_module_version": "1.2.0",
            "_view_name": "LayoutView",
            "align_content": null,
            "align_items": null,
            "align_self": null,
            "border": null,
            "bottom": null,
            "display": null,
            "flex": null,
            "flex_flow": null,
            "grid_area": null,
            "grid_auto_columns": null,
            "grid_auto_flow": null,
            "grid_auto_rows": null,
            "grid_column": null,
            "grid_gap": null,
            "grid_row": null,
            "grid_template_areas": null,
            "grid_template_columns": null,
            "grid_template_rows": null,
            "height": null,
            "justify_content": null,
            "justify_items": null,
            "left": null,
            "margin": null,
            "max_height": null,
            "max_width": null,
            "min_height": null,
            "min_width": null,
            "object_fit": null,
            "object_position": null,
            "order": null,
            "overflow": null,
            "overflow_x": null,
            "overflow_y": null,
            "padding": null,
            "right": null,
            "top": null,
            "visibility": null,
            "width": null
          }
        },
        "eccb1a424a2947e28c13fdb23d051fab": {
          "model_module": "@jupyter-widgets/controls",
          "model_name": "DescriptionStyleModel",
          "model_module_version": "1.5.0",
          "state": {
            "_model_module": "@jupyter-widgets/controls",
            "_model_module_version": "1.5.0",
            "_model_name": "DescriptionStyleModel",
            "_view_count": null,
            "_view_module": "@jupyter-widgets/base",
            "_view_module_version": "1.2.0",
            "_view_name": "StyleView",
            "description_width": ""
          }
        },
        "6f1dac9974d7448eb9a7172a04790f73": {
          "model_module": "@jupyter-widgets/controls",
          "model_name": "HBoxModel",
          "model_module_version": "1.5.0",
          "state": {
            "_dom_classes": [],
            "_model_module": "@jupyter-widgets/controls",
            "_model_module_version": "1.5.0",
            "_model_name": "HBoxModel",
            "_view_count": null,
            "_view_module": "@jupyter-widgets/controls",
            "_view_module_version": "1.5.0",
            "_view_name": "HBoxView",
            "box_style": "",
            "children": [
              "IPY_MODEL_b1b987af05d14b2895ee4a6a5db418bd",
              "IPY_MODEL_d0b8789bd78546599ae668df34d0dfa0",
              "IPY_MODEL_7791498a20b544038b2f643562579141"
            ],
            "layout": "IPY_MODEL_b955bf31bfbe4242b0a25aa1ae68da28"
          }
        },
        "b1b987af05d14b2895ee4a6a5db418bd": {
          "model_module": "@jupyter-widgets/controls",
          "model_name": "HTMLModel",
          "model_module_version": "1.5.0",
          "state": {
            "_dom_classes": [],
            "_model_module": "@jupyter-widgets/controls",
            "_model_module_version": "1.5.0",
            "_model_name": "HTMLModel",
            "_view_count": null,
            "_view_module": "@jupyter-widgets/controls",
            "_view_module_version": "1.5.0",
            "_view_name": "HTMLView",
            "description": "",
            "description_tooltip": null,
            "layout": "IPY_MODEL_478c3e6705d8432d80a7cd44c44729c9",
            "placeholder": "​",
            "style": "IPY_MODEL_9ed4b23aadaa439c89642353883a2a02",
            "value": "sentence_bert_config.json: 100%"
          }
        },
        "d0b8789bd78546599ae668df34d0dfa0": {
          "model_module": "@jupyter-widgets/controls",
          "model_name": "FloatProgressModel",
          "model_module_version": "1.5.0",
          "state": {
            "_dom_classes": [],
            "_model_module": "@jupyter-widgets/controls",
            "_model_module_version": "1.5.0",
            "_model_name": "FloatProgressModel",
            "_view_count": null,
            "_view_module": "@jupyter-widgets/controls",
            "_view_module_version": "1.5.0",
            "_view_name": "ProgressView",
            "bar_style": "success",
            "description": "",
            "description_tooltip": null,
            "layout": "IPY_MODEL_f89b299e9dbb435abb2fb72e14ccb519",
            "max": 53,
            "min": 0,
            "orientation": "horizontal",
            "style": "IPY_MODEL_2c135beee9764869abe8a3ce35e81539",
            "value": 53
          }
        },
        "7791498a20b544038b2f643562579141": {
          "model_module": "@jupyter-widgets/controls",
          "model_name": "HTMLModel",
          "model_module_version": "1.5.0",
          "state": {
            "_dom_classes": [],
            "_model_module": "@jupyter-widgets/controls",
            "_model_module_version": "1.5.0",
            "_model_name": "HTMLModel",
            "_view_count": null,
            "_view_module": "@jupyter-widgets/controls",
            "_view_module_version": "1.5.0",
            "_view_name": "HTMLView",
            "description": "",
            "description_tooltip": null,
            "layout": "IPY_MODEL_bcb10993161745158e121159dcb58737",
            "placeholder": "​",
            "style": "IPY_MODEL_5e36ae5936ac44ddb359883b9ce5b66a",
            "value": " 53.0/53.0 [00:00&lt;00:00, 2.51kB/s]"
          }
        },
        "b955bf31bfbe4242b0a25aa1ae68da28": {
          "model_module": "@jupyter-widgets/base",
          "model_name": "LayoutModel",
          "model_module_version": "1.2.0",
          "state": {
            "_model_module": "@jupyter-widgets/base",
            "_model_module_version": "1.2.0",
            "_model_name": "LayoutModel",
            "_view_count": null,
            "_view_module": "@jupyter-widgets/base",
            "_view_module_version": "1.2.0",
            "_view_name": "LayoutView",
            "align_content": null,
            "align_items": null,
            "align_self": null,
            "border": null,
            "bottom": null,
            "display": null,
            "flex": null,
            "flex_flow": null,
            "grid_area": null,
            "grid_auto_columns": null,
            "grid_auto_flow": null,
            "grid_auto_rows": null,
            "grid_column": null,
            "grid_gap": null,
            "grid_row": null,
            "grid_template_areas": null,
            "grid_template_columns": null,
            "grid_template_rows": null,
            "height": null,
            "justify_content": null,
            "justify_items": null,
            "left": null,
            "margin": null,
            "max_height": null,
            "max_width": null,
            "min_height": null,
            "min_width": null,
            "object_fit": null,
            "object_position": null,
            "order": null,
            "overflow": null,
            "overflow_x": null,
            "overflow_y": null,
            "padding": null,
            "right": null,
            "top": null,
            "visibility": null,
            "width": null
          }
        },
        "478c3e6705d8432d80a7cd44c44729c9": {
          "model_module": "@jupyter-widgets/base",
          "model_name": "LayoutModel",
          "model_module_version": "1.2.0",
          "state": {
            "_model_module": "@jupyter-widgets/base",
            "_model_module_version": "1.2.0",
            "_model_name": "LayoutModel",
            "_view_count": null,
            "_view_module": "@jupyter-widgets/base",
            "_view_module_version": "1.2.0",
            "_view_name": "LayoutView",
            "align_content": null,
            "align_items": null,
            "align_self": null,
            "border": null,
            "bottom": null,
            "display": null,
            "flex": null,
            "flex_flow": null,
            "grid_area": null,
            "grid_auto_columns": null,
            "grid_auto_flow": null,
            "grid_auto_rows": null,
            "grid_column": null,
            "grid_gap": null,
            "grid_row": null,
            "grid_template_areas": null,
            "grid_template_columns": null,
            "grid_template_rows": null,
            "height": null,
            "justify_content": null,
            "justify_items": null,
            "left": null,
            "margin": null,
            "max_height": null,
            "max_width": null,
            "min_height": null,
            "min_width": null,
            "object_fit": null,
            "object_position": null,
            "order": null,
            "overflow": null,
            "overflow_x": null,
            "overflow_y": null,
            "padding": null,
            "right": null,
            "top": null,
            "visibility": null,
            "width": null
          }
        },
        "9ed4b23aadaa439c89642353883a2a02": {
          "model_module": "@jupyter-widgets/controls",
          "model_name": "DescriptionStyleModel",
          "model_module_version": "1.5.0",
          "state": {
            "_model_module": "@jupyter-widgets/controls",
            "_model_module_version": "1.5.0",
            "_model_name": "DescriptionStyleModel",
            "_view_count": null,
            "_view_module": "@jupyter-widgets/base",
            "_view_module_version": "1.2.0",
            "_view_name": "StyleView",
            "description_width": ""
          }
        },
        "f89b299e9dbb435abb2fb72e14ccb519": {
          "model_module": "@jupyter-widgets/base",
          "model_name": "LayoutModel",
          "model_module_version": "1.2.0",
          "state": {
            "_model_module": "@jupyter-widgets/base",
            "_model_module_version": "1.2.0",
            "_model_name": "LayoutModel",
            "_view_count": null,
            "_view_module": "@jupyter-widgets/base",
            "_view_module_version": "1.2.0",
            "_view_name": "LayoutView",
            "align_content": null,
            "align_items": null,
            "align_self": null,
            "border": null,
            "bottom": null,
            "display": null,
            "flex": null,
            "flex_flow": null,
            "grid_area": null,
            "grid_auto_columns": null,
            "grid_auto_flow": null,
            "grid_auto_rows": null,
            "grid_column": null,
            "grid_gap": null,
            "grid_row": null,
            "grid_template_areas": null,
            "grid_template_columns": null,
            "grid_template_rows": null,
            "height": null,
            "justify_content": null,
            "justify_items": null,
            "left": null,
            "margin": null,
            "max_height": null,
            "max_width": null,
            "min_height": null,
            "min_width": null,
            "object_fit": null,
            "object_position": null,
            "order": null,
            "overflow": null,
            "overflow_x": null,
            "overflow_y": null,
            "padding": null,
            "right": null,
            "top": null,
            "visibility": null,
            "width": null
          }
        },
        "2c135beee9764869abe8a3ce35e81539": {
          "model_module": "@jupyter-widgets/controls",
          "model_name": "ProgressStyleModel",
          "model_module_version": "1.5.0",
          "state": {
            "_model_module": "@jupyter-widgets/controls",
            "_model_module_version": "1.5.0",
            "_model_name": "ProgressStyleModel",
            "_view_count": null,
            "_view_module": "@jupyter-widgets/base",
            "_view_module_version": "1.2.0",
            "_view_name": "StyleView",
            "bar_color": null,
            "description_width": ""
          }
        },
        "bcb10993161745158e121159dcb58737": {
          "model_module": "@jupyter-widgets/base",
          "model_name": "LayoutModel",
          "model_module_version": "1.2.0",
          "state": {
            "_model_module": "@jupyter-widgets/base",
            "_model_module_version": "1.2.0",
            "_model_name": "LayoutModel",
            "_view_count": null,
            "_view_module": "@jupyter-widgets/base",
            "_view_module_version": "1.2.0",
            "_view_name": "LayoutView",
            "align_content": null,
            "align_items": null,
            "align_self": null,
            "border": null,
            "bottom": null,
            "display": null,
            "flex": null,
            "flex_flow": null,
            "grid_area": null,
            "grid_auto_columns": null,
            "grid_auto_flow": null,
            "grid_auto_rows": null,
            "grid_column": null,
            "grid_gap": null,
            "grid_row": null,
            "grid_template_areas": null,
            "grid_template_columns": null,
            "grid_template_rows": null,
            "height": null,
            "justify_content": null,
            "justify_items": null,
            "left": null,
            "margin": null,
            "max_height": null,
            "max_width": null,
            "min_height": null,
            "min_width": null,
            "object_fit": null,
            "object_position": null,
            "order": null,
            "overflow": null,
            "overflow_x": null,
            "overflow_y": null,
            "padding": null,
            "right": null,
            "top": null,
            "visibility": null,
            "width": null
          }
        },
        "5e36ae5936ac44ddb359883b9ce5b66a": {
          "model_module": "@jupyter-widgets/controls",
          "model_name": "DescriptionStyleModel",
          "model_module_version": "1.5.0",
          "state": {
            "_model_module": "@jupyter-widgets/controls",
            "_model_module_version": "1.5.0",
            "_model_name": "DescriptionStyleModel",
            "_view_count": null,
            "_view_module": "@jupyter-widgets/base",
            "_view_module_version": "1.2.0",
            "_view_name": "StyleView",
            "description_width": ""
          }
        },
        "fd467952794f4228a099b0515f33b0c5": {
          "model_module": "@jupyter-widgets/controls",
          "model_name": "HBoxModel",
          "model_module_version": "1.5.0",
          "state": {
            "_dom_classes": [],
            "_model_module": "@jupyter-widgets/controls",
            "_model_module_version": "1.5.0",
            "_model_name": "HBoxModel",
            "_view_count": null,
            "_view_module": "@jupyter-widgets/controls",
            "_view_module_version": "1.5.0",
            "_view_name": "HBoxView",
            "box_style": "",
            "children": [
              "IPY_MODEL_8b7d6ceffda34e2d9fc8a3815fef9917",
              "IPY_MODEL_39082a52744942739978f827394073a6",
              "IPY_MODEL_5efeda93569e411987103e3082d21f04"
            ],
            "layout": "IPY_MODEL_7c8fb7ed65c44969a11c462878c5105b"
          }
        },
        "8b7d6ceffda34e2d9fc8a3815fef9917": {
          "model_module": "@jupyter-widgets/controls",
          "model_name": "HTMLModel",
          "model_module_version": "1.5.0",
          "state": {
            "_dom_classes": [],
            "_model_module": "@jupyter-widgets/controls",
            "_model_module_version": "1.5.0",
            "_model_name": "HTMLModel",
            "_view_count": null,
            "_view_module": "@jupyter-widgets/controls",
            "_view_module_version": "1.5.0",
            "_view_name": "HTMLView",
            "description": "",
            "description_tooltip": null,
            "layout": "IPY_MODEL_43b0c796998649698bd52133bc271f16",
            "placeholder": "​",
            "style": "IPY_MODEL_1969026d48384dc59835f416abad0084",
            "value": "config.json: 100%"
          }
        },
        "39082a52744942739978f827394073a6": {
          "model_module": "@jupyter-widgets/controls",
          "model_name": "FloatProgressModel",
          "model_module_version": "1.5.0",
          "state": {
            "_dom_classes": [],
            "_model_module": "@jupyter-widgets/controls",
            "_model_module_version": "1.5.0",
            "_model_name": "FloatProgressModel",
            "_view_count": null,
            "_view_module": "@jupyter-widgets/controls",
            "_view_module_version": "1.5.0",
            "_view_name": "ProgressView",
            "bar_style": "success",
            "description": "",
            "description_tooltip": null,
            "layout": "IPY_MODEL_90b7eee75d1b4daf87f5706fd6de880f",
            "max": 571,
            "min": 0,
            "orientation": "horizontal",
            "style": "IPY_MODEL_76e3cbd02d5a487d8c06369062cc3a97",
            "value": 571
          }
        },
        "5efeda93569e411987103e3082d21f04": {
          "model_module": "@jupyter-widgets/controls",
          "model_name": "HTMLModel",
          "model_module_version": "1.5.0",
          "state": {
            "_dom_classes": [],
            "_model_module": "@jupyter-widgets/controls",
            "_model_module_version": "1.5.0",
            "_model_name": "HTMLModel",
            "_view_count": null,
            "_view_module": "@jupyter-widgets/controls",
            "_view_module_version": "1.5.0",
            "_view_name": "HTMLView",
            "description": "",
            "description_tooltip": null,
            "layout": "IPY_MODEL_2e1b4f98fcc440f9b079a33a61575a82",
            "placeholder": "​",
            "style": "IPY_MODEL_a888705f231948d58a568b7faf19a153",
            "value": " 571/571 [00:00&lt;00:00, 24.9kB/s]"
          }
        },
        "7c8fb7ed65c44969a11c462878c5105b": {
          "model_module": "@jupyter-widgets/base",
          "model_name": "LayoutModel",
          "model_module_version": "1.2.0",
          "state": {
            "_model_module": "@jupyter-widgets/base",
            "_model_module_version": "1.2.0",
            "_model_name": "LayoutModel",
            "_view_count": null,
            "_view_module": "@jupyter-widgets/base",
            "_view_module_version": "1.2.0",
            "_view_name": "LayoutView",
            "align_content": null,
            "align_items": null,
            "align_self": null,
            "border": null,
            "bottom": null,
            "display": null,
            "flex": null,
            "flex_flow": null,
            "grid_area": null,
            "grid_auto_columns": null,
            "grid_auto_flow": null,
            "grid_auto_rows": null,
            "grid_column": null,
            "grid_gap": null,
            "grid_row": null,
            "grid_template_areas": null,
            "grid_template_columns": null,
            "grid_template_rows": null,
            "height": null,
            "justify_content": null,
            "justify_items": null,
            "left": null,
            "margin": null,
            "max_height": null,
            "max_width": null,
            "min_height": null,
            "min_width": null,
            "object_fit": null,
            "object_position": null,
            "order": null,
            "overflow": null,
            "overflow_x": null,
            "overflow_y": null,
            "padding": null,
            "right": null,
            "top": null,
            "visibility": null,
            "width": null
          }
        },
        "43b0c796998649698bd52133bc271f16": {
          "model_module": "@jupyter-widgets/base",
          "model_name": "LayoutModel",
          "model_module_version": "1.2.0",
          "state": {
            "_model_module": "@jupyter-widgets/base",
            "_model_module_version": "1.2.0",
            "_model_name": "LayoutModel",
            "_view_count": null,
            "_view_module": "@jupyter-widgets/base",
            "_view_module_version": "1.2.0",
            "_view_name": "LayoutView",
            "align_content": null,
            "align_items": null,
            "align_self": null,
            "border": null,
            "bottom": null,
            "display": null,
            "flex": null,
            "flex_flow": null,
            "grid_area": null,
            "grid_auto_columns": null,
            "grid_auto_flow": null,
            "grid_auto_rows": null,
            "grid_column": null,
            "grid_gap": null,
            "grid_row": null,
            "grid_template_areas": null,
            "grid_template_columns": null,
            "grid_template_rows": null,
            "height": null,
            "justify_content": null,
            "justify_items": null,
            "left": null,
            "margin": null,
            "max_height": null,
            "max_width": null,
            "min_height": null,
            "min_width": null,
            "object_fit": null,
            "object_position": null,
            "order": null,
            "overflow": null,
            "overflow_x": null,
            "overflow_y": null,
            "padding": null,
            "right": null,
            "top": null,
            "visibility": null,
            "width": null
          }
        },
        "1969026d48384dc59835f416abad0084": {
          "model_module": "@jupyter-widgets/controls",
          "model_name": "DescriptionStyleModel",
          "model_module_version": "1.5.0",
          "state": {
            "_model_module": "@jupyter-widgets/controls",
            "_model_module_version": "1.5.0",
            "_model_name": "DescriptionStyleModel",
            "_view_count": null,
            "_view_module": "@jupyter-widgets/base",
            "_view_module_version": "1.2.0",
            "_view_name": "StyleView",
            "description_width": ""
          }
        },
        "90b7eee75d1b4daf87f5706fd6de880f": {
          "model_module": "@jupyter-widgets/base",
          "model_name": "LayoutModel",
          "model_module_version": "1.2.0",
          "state": {
            "_model_module": "@jupyter-widgets/base",
            "_model_module_version": "1.2.0",
            "_model_name": "LayoutModel",
            "_view_count": null,
            "_view_module": "@jupyter-widgets/base",
            "_view_module_version": "1.2.0",
            "_view_name": "LayoutView",
            "align_content": null,
            "align_items": null,
            "align_self": null,
            "border": null,
            "bottom": null,
            "display": null,
            "flex": null,
            "flex_flow": null,
            "grid_area": null,
            "grid_auto_columns": null,
            "grid_auto_flow": null,
            "grid_auto_rows": null,
            "grid_column": null,
            "grid_gap": null,
            "grid_row": null,
            "grid_template_areas": null,
            "grid_template_columns": null,
            "grid_template_rows": null,
            "height": null,
            "justify_content": null,
            "justify_items": null,
            "left": null,
            "margin": null,
            "max_height": null,
            "max_width": null,
            "min_height": null,
            "min_width": null,
            "object_fit": null,
            "object_position": null,
            "order": null,
            "overflow": null,
            "overflow_x": null,
            "overflow_y": null,
            "padding": null,
            "right": null,
            "top": null,
            "visibility": null,
            "width": null
          }
        },
        "76e3cbd02d5a487d8c06369062cc3a97": {
          "model_module": "@jupyter-widgets/controls",
          "model_name": "ProgressStyleModel",
          "model_module_version": "1.5.0",
          "state": {
            "_model_module": "@jupyter-widgets/controls",
            "_model_module_version": "1.5.0",
            "_model_name": "ProgressStyleModel",
            "_view_count": null,
            "_view_module": "@jupyter-widgets/base",
            "_view_module_version": "1.2.0",
            "_view_name": "StyleView",
            "bar_color": null,
            "description_width": ""
          }
        },
        "2e1b4f98fcc440f9b079a33a61575a82": {
          "model_module": "@jupyter-widgets/base",
          "model_name": "LayoutModel",
          "model_module_version": "1.2.0",
          "state": {
            "_model_module": "@jupyter-widgets/base",
            "_model_module_version": "1.2.0",
            "_model_name": "LayoutModel",
            "_view_count": null,
            "_view_module": "@jupyter-widgets/base",
            "_view_module_version": "1.2.0",
            "_view_name": "LayoutView",
            "align_content": null,
            "align_items": null,
            "align_self": null,
            "border": null,
            "bottom": null,
            "display": null,
            "flex": null,
            "flex_flow": null,
            "grid_area": null,
            "grid_auto_columns": null,
            "grid_auto_flow": null,
            "grid_auto_rows": null,
            "grid_column": null,
            "grid_gap": null,
            "grid_row": null,
            "grid_template_areas": null,
            "grid_template_columns": null,
            "grid_template_rows": null,
            "height": null,
            "justify_content": null,
            "justify_items": null,
            "left": null,
            "margin": null,
            "max_height": null,
            "max_width": null,
            "min_height": null,
            "min_width": null,
            "object_fit": null,
            "object_position": null,
            "order": null,
            "overflow": null,
            "overflow_x": null,
            "overflow_y": null,
            "padding": null,
            "right": null,
            "top": null,
            "visibility": null,
            "width": null
          }
        },
        "a888705f231948d58a568b7faf19a153": {
          "model_module": "@jupyter-widgets/controls",
          "model_name": "DescriptionStyleModel",
          "model_module_version": "1.5.0",
          "state": {
            "_model_module": "@jupyter-widgets/controls",
            "_model_module_version": "1.5.0",
            "_model_name": "DescriptionStyleModel",
            "_view_count": null,
            "_view_module": "@jupyter-widgets/base",
            "_view_module_version": "1.2.0",
            "_view_name": "StyleView",
            "description_width": ""
          }
        },
        "4e64d00b0a3e4a81aa51b801b18d8048": {
          "model_module": "@jupyter-widgets/controls",
          "model_name": "HBoxModel",
          "model_module_version": "1.5.0",
          "state": {
            "_dom_classes": [],
            "_model_module": "@jupyter-widgets/controls",
            "_model_module_version": "1.5.0",
            "_model_name": "HBoxModel",
            "_view_count": null,
            "_view_module": "@jupyter-widgets/controls",
            "_view_module_version": "1.5.0",
            "_view_name": "HBoxView",
            "box_style": "",
            "children": [
              "IPY_MODEL_7a845ad0ecf7442da40ccf9b047f5fec",
              "IPY_MODEL_c850a5fb06c0483f86a6b797638a6c39",
              "IPY_MODEL_e53fa6a46be146b2ab667e032b2586c5"
            ],
            "layout": "IPY_MODEL_6bde0f5334944299a958c986950a6d5b"
          }
        },
        "7a845ad0ecf7442da40ccf9b047f5fec": {
          "model_module": "@jupyter-widgets/controls",
          "model_name": "HTMLModel",
          "model_module_version": "1.5.0",
          "state": {
            "_dom_classes": [],
            "_model_module": "@jupyter-widgets/controls",
            "_model_module_version": "1.5.0",
            "_model_name": "HTMLModel",
            "_view_count": null,
            "_view_module": "@jupyter-widgets/controls",
            "_view_module_version": "1.5.0",
            "_view_name": "HTMLView",
            "description": "",
            "description_tooltip": null,
            "layout": "IPY_MODEL_83fb06aa8aee4cfbb964a750ce59dbb6",
            "placeholder": "​",
            "style": "IPY_MODEL_eb4c7358f9654f1491135d37a34e3c1b",
            "value": "model.safetensors: 100%"
          }
        },
        "c850a5fb06c0483f86a6b797638a6c39": {
          "model_module": "@jupyter-widgets/controls",
          "model_name": "FloatProgressModel",
          "model_module_version": "1.5.0",
          "state": {
            "_dom_classes": [],
            "_model_module": "@jupyter-widgets/controls",
            "_model_module_version": "1.5.0",
            "_model_name": "FloatProgressModel",
            "_view_count": null,
            "_view_module": "@jupyter-widgets/controls",
            "_view_module_version": "1.5.0",
            "_view_name": "ProgressView",
            "bar_style": "success",
            "description": "",
            "description_tooltip": null,
            "layout": "IPY_MODEL_0472fd8bb99b40b79802562d18cf1f86",
            "max": 437971872,
            "min": 0,
            "orientation": "horizontal",
            "style": "IPY_MODEL_d3c8c77b7ed24d07b4bb9a4c31546fbd",
            "value": 437971872
          }
        },
        "e53fa6a46be146b2ab667e032b2586c5": {
          "model_module": "@jupyter-widgets/controls",
          "model_name": "HTMLModel",
          "model_module_version": "1.5.0",
          "state": {
            "_dom_classes": [],
            "_model_module": "@jupyter-widgets/controls",
            "_model_module_version": "1.5.0",
            "_model_name": "HTMLModel",
            "_view_count": null,
            "_view_module": "@jupyter-widgets/controls",
            "_view_module_version": "1.5.0",
            "_view_name": "HTMLView",
            "description": "",
            "description_tooltip": null,
            "layout": "IPY_MODEL_7df5f1f0f27e4faf8ad49b6afa0da5ae",
            "placeholder": "​",
            "style": "IPY_MODEL_eda3b834ae2945e395c45577ddb82278",
            "value": " 438M/438M [00:02&lt;00:00, 242MB/s]"
          }
        },
        "6bde0f5334944299a958c986950a6d5b": {
          "model_module": "@jupyter-widgets/base",
          "model_name": "LayoutModel",
          "model_module_version": "1.2.0",
          "state": {
            "_model_module": "@jupyter-widgets/base",
            "_model_module_version": "1.2.0",
            "_model_name": "LayoutModel",
            "_view_count": null,
            "_view_module": "@jupyter-widgets/base",
            "_view_module_version": "1.2.0",
            "_view_name": "LayoutView",
            "align_content": null,
            "align_items": null,
            "align_self": null,
            "border": null,
            "bottom": null,
            "display": null,
            "flex": null,
            "flex_flow": null,
            "grid_area": null,
            "grid_auto_columns": null,
            "grid_auto_flow": null,
            "grid_auto_rows": null,
            "grid_column": null,
            "grid_gap": null,
            "grid_row": null,
            "grid_template_areas": null,
            "grid_template_columns": null,
            "grid_template_rows": null,
            "height": null,
            "justify_content": null,
            "justify_items": null,
            "left": null,
            "margin": null,
            "max_height": null,
            "max_width": null,
            "min_height": null,
            "min_width": null,
            "object_fit": null,
            "object_position": null,
            "order": null,
            "overflow": null,
            "overflow_x": null,
            "overflow_y": null,
            "padding": null,
            "right": null,
            "top": null,
            "visibility": null,
            "width": null
          }
        },
        "83fb06aa8aee4cfbb964a750ce59dbb6": {
          "model_module": "@jupyter-widgets/base",
          "model_name": "LayoutModel",
          "model_module_version": "1.2.0",
          "state": {
            "_model_module": "@jupyter-widgets/base",
            "_model_module_version": "1.2.0",
            "_model_name": "LayoutModel",
            "_view_count": null,
            "_view_module": "@jupyter-widgets/base",
            "_view_module_version": "1.2.0",
            "_view_name": "LayoutView",
            "align_content": null,
            "align_items": null,
            "align_self": null,
            "border": null,
            "bottom": null,
            "display": null,
            "flex": null,
            "flex_flow": null,
            "grid_area": null,
            "grid_auto_columns": null,
            "grid_auto_flow": null,
            "grid_auto_rows": null,
            "grid_column": null,
            "grid_gap": null,
            "grid_row": null,
            "grid_template_areas": null,
            "grid_template_columns": null,
            "grid_template_rows": null,
            "height": null,
            "justify_content": null,
            "justify_items": null,
            "left": null,
            "margin": null,
            "max_height": null,
            "max_width": null,
            "min_height": null,
            "min_width": null,
            "object_fit": null,
            "object_position": null,
            "order": null,
            "overflow": null,
            "overflow_x": null,
            "overflow_y": null,
            "padding": null,
            "right": null,
            "top": null,
            "visibility": null,
            "width": null
          }
        },
        "eb4c7358f9654f1491135d37a34e3c1b": {
          "model_module": "@jupyter-widgets/controls",
          "model_name": "DescriptionStyleModel",
          "model_module_version": "1.5.0",
          "state": {
            "_model_module": "@jupyter-widgets/controls",
            "_model_module_version": "1.5.0",
            "_model_name": "DescriptionStyleModel",
            "_view_count": null,
            "_view_module": "@jupyter-widgets/base",
            "_view_module_version": "1.2.0",
            "_view_name": "StyleView",
            "description_width": ""
          }
        },
        "0472fd8bb99b40b79802562d18cf1f86": {
          "model_module": "@jupyter-widgets/base",
          "model_name": "LayoutModel",
          "model_module_version": "1.2.0",
          "state": {
            "_model_module": "@jupyter-widgets/base",
            "_model_module_version": "1.2.0",
            "_model_name": "LayoutModel",
            "_view_count": null,
            "_view_module": "@jupyter-widgets/base",
            "_view_module_version": "1.2.0",
            "_view_name": "LayoutView",
            "align_content": null,
            "align_items": null,
            "align_self": null,
            "border": null,
            "bottom": null,
            "display": null,
            "flex": null,
            "flex_flow": null,
            "grid_area": null,
            "grid_auto_columns": null,
            "grid_auto_flow": null,
            "grid_auto_rows": null,
            "grid_column": null,
            "grid_gap": null,
            "grid_row": null,
            "grid_template_areas": null,
            "grid_template_columns": null,
            "grid_template_rows": null,
            "height": null,
            "justify_content": null,
            "justify_items": null,
            "left": null,
            "margin": null,
            "max_height": null,
            "max_width": null,
            "min_height": null,
            "min_width": null,
            "object_fit": null,
            "object_position": null,
            "order": null,
            "overflow": null,
            "overflow_x": null,
            "overflow_y": null,
            "padding": null,
            "right": null,
            "top": null,
            "visibility": null,
            "width": null
          }
        },
        "d3c8c77b7ed24d07b4bb9a4c31546fbd": {
          "model_module": "@jupyter-widgets/controls",
          "model_name": "ProgressStyleModel",
          "model_module_version": "1.5.0",
          "state": {
            "_model_module": "@jupyter-widgets/controls",
            "_model_module_version": "1.5.0",
            "_model_name": "ProgressStyleModel",
            "_view_count": null,
            "_view_module": "@jupyter-widgets/base",
            "_view_module_version": "1.2.0",
            "_view_name": "StyleView",
            "bar_color": null,
            "description_width": ""
          }
        },
        "7df5f1f0f27e4faf8ad49b6afa0da5ae": {
          "model_module": "@jupyter-widgets/base",
          "model_name": "LayoutModel",
          "model_module_version": "1.2.0",
          "state": {
            "_model_module": "@jupyter-widgets/base",
            "_model_module_version": "1.2.0",
            "_model_name": "LayoutModel",
            "_view_count": null,
            "_view_module": "@jupyter-widgets/base",
            "_view_module_version": "1.2.0",
            "_view_name": "LayoutView",
            "align_content": null,
            "align_items": null,
            "align_self": null,
            "border": null,
            "bottom": null,
            "display": null,
            "flex": null,
            "flex_flow": null,
            "grid_area": null,
            "grid_auto_columns": null,
            "grid_auto_flow": null,
            "grid_auto_rows": null,
            "grid_column": null,
            "grid_gap": null,
            "grid_row": null,
            "grid_template_areas": null,
            "grid_template_columns": null,
            "grid_template_rows": null,
            "height": null,
            "justify_content": null,
            "justify_items": null,
            "left": null,
            "margin": null,
            "max_height": null,
            "max_width": null,
            "min_height": null,
            "min_width": null,
            "object_fit": null,
            "object_position": null,
            "order": null,
            "overflow": null,
            "overflow_x": null,
            "overflow_y": null,
            "padding": null,
            "right": null,
            "top": null,
            "visibility": null,
            "width": null
          }
        },
        "eda3b834ae2945e395c45577ddb82278": {
          "model_module": "@jupyter-widgets/controls",
          "model_name": "DescriptionStyleModel",
          "model_module_version": "1.5.0",
          "state": {
            "_model_module": "@jupyter-widgets/controls",
            "_model_module_version": "1.5.0",
            "_model_name": "DescriptionStyleModel",
            "_view_count": null,
            "_view_module": "@jupyter-widgets/base",
            "_view_module_version": "1.2.0",
            "_view_name": "StyleView",
            "description_width": ""
          }
        },
        "ea36295c6e224b859e24898ea9179fd8": {
          "model_module": "@jupyter-widgets/controls",
          "model_name": "HBoxModel",
          "model_module_version": "1.5.0",
          "state": {
            "_dom_classes": [],
            "_model_module": "@jupyter-widgets/controls",
            "_model_module_version": "1.5.0",
            "_model_name": "HBoxModel",
            "_view_count": null,
            "_view_module": "@jupyter-widgets/controls",
            "_view_module_version": "1.5.0",
            "_view_name": "HBoxView",
            "box_style": "",
            "children": [
              "IPY_MODEL_da53f27dfd1047f9a36117001bb3fe18",
              "IPY_MODEL_c0b3f18666ff44ed87c1101578f315b1",
              "IPY_MODEL_ce2217957bd54bd2babc543215f867ad"
            ],
            "layout": "IPY_MODEL_0ff05eb5a161447c9cef9a9b810e4a46"
          }
        },
        "da53f27dfd1047f9a36117001bb3fe18": {
          "model_module": "@jupyter-widgets/controls",
          "model_name": "HTMLModel",
          "model_module_version": "1.5.0",
          "state": {
            "_dom_classes": [],
            "_model_module": "@jupyter-widgets/controls",
            "_model_module_version": "1.5.0",
            "_model_name": "HTMLModel",
            "_view_count": null,
            "_view_module": "@jupyter-widgets/controls",
            "_view_module_version": "1.5.0",
            "_view_name": "HTMLView",
            "description": "",
            "description_tooltip": null,
            "layout": "IPY_MODEL_ab5bc0bde73348e8b15206cff283414e",
            "placeholder": "​",
            "style": "IPY_MODEL_0d0ff1793011491ca856d3e16131e7af",
            "value": "tokenizer_config.json: 100%"
          }
        },
        "c0b3f18666ff44ed87c1101578f315b1": {
          "model_module": "@jupyter-widgets/controls",
          "model_name": "FloatProgressModel",
          "model_module_version": "1.5.0",
          "state": {
            "_dom_classes": [],
            "_model_module": "@jupyter-widgets/controls",
            "_model_module_version": "1.5.0",
            "_model_name": "FloatProgressModel",
            "_view_count": null,
            "_view_module": "@jupyter-widgets/controls",
            "_view_module_version": "1.5.0",
            "_view_name": "ProgressView",
            "bar_style": "success",
            "description": "",
            "description_tooltip": null,
            "layout": "IPY_MODEL_1b8a966f6f24498180ddd2875d81ac29",
            "max": 363,
            "min": 0,
            "orientation": "horizontal",
            "style": "IPY_MODEL_1a81fdb246894430b05706f32a6c08eb",
            "value": 363
          }
        },
        "ce2217957bd54bd2babc543215f867ad": {
          "model_module": "@jupyter-widgets/controls",
          "model_name": "HTMLModel",
          "model_module_version": "1.5.0",
          "state": {
            "_dom_classes": [],
            "_model_module": "@jupyter-widgets/controls",
            "_model_module_version": "1.5.0",
            "_model_name": "HTMLModel",
            "_view_count": null,
            "_view_module": "@jupyter-widgets/controls",
            "_view_module_version": "1.5.0",
            "_view_name": "HTMLView",
            "description": "",
            "description_tooltip": null,
            "layout": "IPY_MODEL_3b96ddac4ea2494091f5949819b85160",
            "placeholder": "​",
            "style": "IPY_MODEL_a9aef339b68f403ebd396f53a4f8ac96",
            "value": " 363/363 [00:00&lt;00:00, 14.4kB/s]"
          }
        },
        "0ff05eb5a161447c9cef9a9b810e4a46": {
          "model_module": "@jupyter-widgets/base",
          "model_name": "LayoutModel",
          "model_module_version": "1.2.0",
          "state": {
            "_model_module": "@jupyter-widgets/base",
            "_model_module_version": "1.2.0",
            "_model_name": "LayoutModel",
            "_view_count": null,
            "_view_module": "@jupyter-widgets/base",
            "_view_module_version": "1.2.0",
            "_view_name": "LayoutView",
            "align_content": null,
            "align_items": null,
            "align_self": null,
            "border": null,
            "bottom": null,
            "display": null,
            "flex": null,
            "flex_flow": null,
            "grid_area": null,
            "grid_auto_columns": null,
            "grid_auto_flow": null,
            "grid_auto_rows": null,
            "grid_column": null,
            "grid_gap": null,
            "grid_row": null,
            "grid_template_areas": null,
            "grid_template_columns": null,
            "grid_template_rows": null,
            "height": null,
            "justify_content": null,
            "justify_items": null,
            "left": null,
            "margin": null,
            "max_height": null,
            "max_width": null,
            "min_height": null,
            "min_width": null,
            "object_fit": null,
            "object_position": null,
            "order": null,
            "overflow": null,
            "overflow_x": null,
            "overflow_y": null,
            "padding": null,
            "right": null,
            "top": null,
            "visibility": null,
            "width": null
          }
        },
        "ab5bc0bde73348e8b15206cff283414e": {
          "model_module": "@jupyter-widgets/base",
          "model_name": "LayoutModel",
          "model_module_version": "1.2.0",
          "state": {
            "_model_module": "@jupyter-widgets/base",
            "_model_module_version": "1.2.0",
            "_model_name": "LayoutModel",
            "_view_count": null,
            "_view_module": "@jupyter-widgets/base",
            "_view_module_version": "1.2.0",
            "_view_name": "LayoutView",
            "align_content": null,
            "align_items": null,
            "align_self": null,
            "border": null,
            "bottom": null,
            "display": null,
            "flex": null,
            "flex_flow": null,
            "grid_area": null,
            "grid_auto_columns": null,
            "grid_auto_flow": null,
            "grid_auto_rows": null,
            "grid_column": null,
            "grid_gap": null,
            "grid_row": null,
            "grid_template_areas": null,
            "grid_template_columns": null,
            "grid_template_rows": null,
            "height": null,
            "justify_content": null,
            "justify_items": null,
            "left": null,
            "margin": null,
            "max_height": null,
            "max_width": null,
            "min_height": null,
            "min_width": null,
            "object_fit": null,
            "object_position": null,
            "order": null,
            "overflow": null,
            "overflow_x": null,
            "overflow_y": null,
            "padding": null,
            "right": null,
            "top": null,
            "visibility": null,
            "width": null
          }
        },
        "0d0ff1793011491ca856d3e16131e7af": {
          "model_module": "@jupyter-widgets/controls",
          "model_name": "DescriptionStyleModel",
          "model_module_version": "1.5.0",
          "state": {
            "_model_module": "@jupyter-widgets/controls",
            "_model_module_version": "1.5.0",
            "_model_name": "DescriptionStyleModel",
            "_view_count": null,
            "_view_module": "@jupyter-widgets/base",
            "_view_module_version": "1.2.0",
            "_view_name": "StyleView",
            "description_width": ""
          }
        },
        "1b8a966f6f24498180ddd2875d81ac29": {
          "model_module": "@jupyter-widgets/base",
          "model_name": "LayoutModel",
          "model_module_version": "1.2.0",
          "state": {
            "_model_module": "@jupyter-widgets/base",
            "_model_module_version": "1.2.0",
            "_model_name": "LayoutModel",
            "_view_count": null,
            "_view_module": "@jupyter-widgets/base",
            "_view_module_version": "1.2.0",
            "_view_name": "LayoutView",
            "align_content": null,
            "align_items": null,
            "align_self": null,
            "border": null,
            "bottom": null,
            "display": null,
            "flex": null,
            "flex_flow": null,
            "grid_area": null,
            "grid_auto_columns": null,
            "grid_auto_flow": null,
            "grid_auto_rows": null,
            "grid_column": null,
            "grid_gap": null,
            "grid_row": null,
            "grid_template_areas": null,
            "grid_template_columns": null,
            "grid_template_rows": null,
            "height": null,
            "justify_content": null,
            "justify_items": null,
            "left": null,
            "margin": null,
            "max_height": null,
            "max_width": null,
            "min_height": null,
            "min_width": null,
            "object_fit": null,
            "object_position": null,
            "order": null,
            "overflow": null,
            "overflow_x": null,
            "overflow_y": null,
            "padding": null,
            "right": null,
            "top": null,
            "visibility": null,
            "width": null
          }
        },
        "1a81fdb246894430b05706f32a6c08eb": {
          "model_module": "@jupyter-widgets/controls",
          "model_name": "ProgressStyleModel",
          "model_module_version": "1.5.0",
          "state": {
            "_model_module": "@jupyter-widgets/controls",
            "_model_module_version": "1.5.0",
            "_model_name": "ProgressStyleModel",
            "_view_count": null,
            "_view_module": "@jupyter-widgets/base",
            "_view_module_version": "1.2.0",
            "_view_name": "StyleView",
            "bar_color": null,
            "description_width": ""
          }
        },
        "3b96ddac4ea2494091f5949819b85160": {
          "model_module": "@jupyter-widgets/base",
          "model_name": "LayoutModel",
          "model_module_version": "1.2.0",
          "state": {
            "_model_module": "@jupyter-widgets/base",
            "_model_module_version": "1.2.0",
            "_model_name": "LayoutModel",
            "_view_count": null,
            "_view_module": "@jupyter-widgets/base",
            "_view_module_version": "1.2.0",
            "_view_name": "LayoutView",
            "align_content": null,
            "align_items": null,
            "align_self": null,
            "border": null,
            "bottom": null,
            "display": null,
            "flex": null,
            "flex_flow": null,
            "grid_area": null,
            "grid_auto_columns": null,
            "grid_auto_flow": null,
            "grid_auto_rows": null,
            "grid_column": null,
            "grid_gap": null,
            "grid_row": null,
            "grid_template_areas": null,
            "grid_template_columns": null,
            "grid_template_rows": null,
            "height": null,
            "justify_content": null,
            "justify_items": null,
            "left": null,
            "margin": null,
            "max_height": null,
            "max_width": null,
            "min_height": null,
            "min_width": null,
            "object_fit": null,
            "object_position": null,
            "order": null,
            "overflow": null,
            "overflow_x": null,
            "overflow_y": null,
            "padding": null,
            "right": null,
            "top": null,
            "visibility": null,
            "width": null
          }
        },
        "a9aef339b68f403ebd396f53a4f8ac96": {
          "model_module": "@jupyter-widgets/controls",
          "model_name": "DescriptionStyleModel",
          "model_module_version": "1.5.0",
          "state": {
            "_model_module": "@jupyter-widgets/controls",
            "_model_module_version": "1.5.0",
            "_model_name": "DescriptionStyleModel",
            "_view_count": null,
            "_view_module": "@jupyter-widgets/base",
            "_view_module_version": "1.2.0",
            "_view_name": "StyleView",
            "description_width": ""
          }
        },
        "96444ffc136143aea5e434da3f2ad8f1": {
          "model_module": "@jupyter-widgets/controls",
          "model_name": "HBoxModel",
          "model_module_version": "1.5.0",
          "state": {
            "_dom_classes": [],
            "_model_module": "@jupyter-widgets/controls",
            "_model_module_version": "1.5.0",
            "_model_name": "HBoxModel",
            "_view_count": null,
            "_view_module": "@jupyter-widgets/controls",
            "_view_module_version": "1.5.0",
            "_view_name": "HBoxView",
            "box_style": "",
            "children": [
              "IPY_MODEL_e07bdaf469c14f489a1e57bfca993e49",
              "IPY_MODEL_313ec6e570474134879d110456a99eca",
              "IPY_MODEL_39b4c0be5e484110a8696888e01f6399"
            ],
            "layout": "IPY_MODEL_c3bcb931c7f945fab1ea5679badc688d"
          }
        },
        "e07bdaf469c14f489a1e57bfca993e49": {
          "model_module": "@jupyter-widgets/controls",
          "model_name": "HTMLModel",
          "model_module_version": "1.5.0",
          "state": {
            "_dom_classes": [],
            "_model_module": "@jupyter-widgets/controls",
            "_model_module_version": "1.5.0",
            "_model_name": "HTMLModel",
            "_view_count": null,
            "_view_module": "@jupyter-widgets/controls",
            "_view_module_version": "1.5.0",
            "_view_name": "HTMLView",
            "description": "",
            "description_tooltip": null,
            "layout": "IPY_MODEL_129c4384906048d994e258010ce213b1",
            "placeholder": "​",
            "style": "IPY_MODEL_280e13771050467888ad097f48690bad",
            "value": "vocab.txt: 100%"
          }
        },
        "313ec6e570474134879d110456a99eca": {
          "model_module": "@jupyter-widgets/controls",
          "model_name": "FloatProgressModel",
          "model_module_version": "1.5.0",
          "state": {
            "_dom_classes": [],
            "_model_module": "@jupyter-widgets/controls",
            "_model_module_version": "1.5.0",
            "_model_name": "FloatProgressModel",
            "_view_count": null,
            "_view_module": "@jupyter-widgets/controls",
            "_view_module_version": "1.5.0",
            "_view_name": "ProgressView",
            "bar_style": "success",
            "description": "",
            "description_tooltip": null,
            "layout": "IPY_MODEL_af8fd5a78950430c8292e76374d555c5",
            "max": 231536,
            "min": 0,
            "orientation": "horizontal",
            "style": "IPY_MODEL_6e2226a2d7b648c9bb00e82ea3ff50c0",
            "value": 231536
          }
        },
        "39b4c0be5e484110a8696888e01f6399": {
          "model_module": "@jupyter-widgets/controls",
          "model_name": "HTMLModel",
          "model_module_version": "1.5.0",
          "state": {
            "_dom_classes": [],
            "_model_module": "@jupyter-widgets/controls",
            "_model_module_version": "1.5.0",
            "_model_name": "HTMLModel",
            "_view_count": null,
            "_view_module": "@jupyter-widgets/controls",
            "_view_module_version": "1.5.0",
            "_view_name": "HTMLView",
            "description": "",
            "description_tooltip": null,
            "layout": "IPY_MODEL_3b6876051ce54dcf8ed84e8a64c485a0",
            "placeholder": "​",
            "style": "IPY_MODEL_d73bb678f083482c9c310e33ce8a4a72",
            "value": " 232k/232k [00:00&lt;00:00, 2.69MB/s]"
          }
        },
        "c3bcb931c7f945fab1ea5679badc688d": {
          "model_module": "@jupyter-widgets/base",
          "model_name": "LayoutModel",
          "model_module_version": "1.2.0",
          "state": {
            "_model_module": "@jupyter-widgets/base",
            "_model_module_version": "1.2.0",
            "_model_name": "LayoutModel",
            "_view_count": null,
            "_view_module": "@jupyter-widgets/base",
            "_view_module_version": "1.2.0",
            "_view_name": "LayoutView",
            "align_content": null,
            "align_items": null,
            "align_self": null,
            "border": null,
            "bottom": null,
            "display": null,
            "flex": null,
            "flex_flow": null,
            "grid_area": null,
            "grid_auto_columns": null,
            "grid_auto_flow": null,
            "grid_auto_rows": null,
            "grid_column": null,
            "grid_gap": null,
            "grid_row": null,
            "grid_template_areas": null,
            "grid_template_columns": null,
            "grid_template_rows": null,
            "height": null,
            "justify_content": null,
            "justify_items": null,
            "left": null,
            "margin": null,
            "max_height": null,
            "max_width": null,
            "min_height": null,
            "min_width": null,
            "object_fit": null,
            "object_position": null,
            "order": null,
            "overflow": null,
            "overflow_x": null,
            "overflow_y": null,
            "padding": null,
            "right": null,
            "top": null,
            "visibility": null,
            "width": null
          }
        },
        "129c4384906048d994e258010ce213b1": {
          "model_module": "@jupyter-widgets/base",
          "model_name": "LayoutModel",
          "model_module_version": "1.2.0",
          "state": {
            "_model_module": "@jupyter-widgets/base",
            "_model_module_version": "1.2.0",
            "_model_name": "LayoutModel",
            "_view_count": null,
            "_view_module": "@jupyter-widgets/base",
            "_view_module_version": "1.2.0",
            "_view_name": "LayoutView",
            "align_content": null,
            "align_items": null,
            "align_self": null,
            "border": null,
            "bottom": null,
            "display": null,
            "flex": null,
            "flex_flow": null,
            "grid_area": null,
            "grid_auto_columns": null,
            "grid_auto_flow": null,
            "grid_auto_rows": null,
            "grid_column": null,
            "grid_gap": null,
            "grid_row": null,
            "grid_template_areas": null,
            "grid_template_columns": null,
            "grid_template_rows": null,
            "height": null,
            "justify_content": null,
            "justify_items": null,
            "left": null,
            "margin": null,
            "max_height": null,
            "max_width": null,
            "min_height": null,
            "min_width": null,
            "object_fit": null,
            "object_position": null,
            "order": null,
            "overflow": null,
            "overflow_x": null,
            "overflow_y": null,
            "padding": null,
            "right": null,
            "top": null,
            "visibility": null,
            "width": null
          }
        },
        "280e13771050467888ad097f48690bad": {
          "model_module": "@jupyter-widgets/controls",
          "model_name": "DescriptionStyleModel",
          "model_module_version": "1.5.0",
          "state": {
            "_model_module": "@jupyter-widgets/controls",
            "_model_module_version": "1.5.0",
            "_model_name": "DescriptionStyleModel",
            "_view_count": null,
            "_view_module": "@jupyter-widgets/base",
            "_view_module_version": "1.2.0",
            "_view_name": "StyleView",
            "description_width": ""
          }
        },
        "af8fd5a78950430c8292e76374d555c5": {
          "model_module": "@jupyter-widgets/base",
          "model_name": "LayoutModel",
          "model_module_version": "1.2.0",
          "state": {
            "_model_module": "@jupyter-widgets/base",
            "_model_module_version": "1.2.0",
            "_model_name": "LayoutModel",
            "_view_count": null,
            "_view_module": "@jupyter-widgets/base",
            "_view_module_version": "1.2.0",
            "_view_name": "LayoutView",
            "align_content": null,
            "align_items": null,
            "align_self": null,
            "border": null,
            "bottom": null,
            "display": null,
            "flex": null,
            "flex_flow": null,
            "grid_area": null,
            "grid_auto_columns": null,
            "grid_auto_flow": null,
            "grid_auto_rows": null,
            "grid_column": null,
            "grid_gap": null,
            "grid_row": null,
            "grid_template_areas": null,
            "grid_template_columns": null,
            "grid_template_rows": null,
            "height": null,
            "justify_content": null,
            "justify_items": null,
            "left": null,
            "margin": null,
            "max_height": null,
            "max_width": null,
            "min_height": null,
            "min_width": null,
            "object_fit": null,
            "object_position": null,
            "order": null,
            "overflow": null,
            "overflow_x": null,
            "overflow_y": null,
            "padding": null,
            "right": null,
            "top": null,
            "visibility": null,
            "width": null
          }
        },
        "6e2226a2d7b648c9bb00e82ea3ff50c0": {
          "model_module": "@jupyter-widgets/controls",
          "model_name": "ProgressStyleModel",
          "model_module_version": "1.5.0",
          "state": {
            "_model_module": "@jupyter-widgets/controls",
            "_model_module_version": "1.5.0",
            "_model_name": "ProgressStyleModel",
            "_view_count": null,
            "_view_module": "@jupyter-widgets/base",
            "_view_module_version": "1.2.0",
            "_view_name": "StyleView",
            "bar_color": null,
            "description_width": ""
          }
        },
        "3b6876051ce54dcf8ed84e8a64c485a0": {
          "model_module": "@jupyter-widgets/base",
          "model_name": "LayoutModel",
          "model_module_version": "1.2.0",
          "state": {
            "_model_module": "@jupyter-widgets/base",
            "_model_module_version": "1.2.0",
            "_model_name": "LayoutModel",
            "_view_count": null,
            "_view_module": "@jupyter-widgets/base",
            "_view_module_version": "1.2.0",
            "_view_name": "LayoutView",
            "align_content": null,
            "align_items": null,
            "align_self": null,
            "border": null,
            "bottom": null,
            "display": null,
            "flex": null,
            "flex_flow": null,
            "grid_area": null,
            "grid_auto_columns": null,
            "grid_auto_flow": null,
            "grid_auto_rows": null,
            "grid_column": null,
            "grid_gap": null,
            "grid_row": null,
            "grid_template_areas": null,
            "grid_template_columns": null,
            "grid_template_rows": null,
            "height": null,
            "justify_content": null,
            "justify_items": null,
            "left": null,
            "margin": null,
            "max_height": null,
            "max_width": null,
            "min_height": null,
            "min_width": null,
            "object_fit": null,
            "object_position": null,
            "order": null,
            "overflow": null,
            "overflow_x": null,
            "overflow_y": null,
            "padding": null,
            "right": null,
            "top": null,
            "visibility": null,
            "width": null
          }
        },
        "d73bb678f083482c9c310e33ce8a4a72": {
          "model_module": "@jupyter-widgets/controls",
          "model_name": "DescriptionStyleModel",
          "model_module_version": "1.5.0",
          "state": {
            "_model_module": "@jupyter-widgets/controls",
            "_model_module_version": "1.5.0",
            "_model_name": "DescriptionStyleModel",
            "_view_count": null,
            "_view_module": "@jupyter-widgets/base",
            "_view_module_version": "1.2.0",
            "_view_name": "StyleView",
            "description_width": ""
          }
        },
        "63794dd6a0b14b0798cffc74f0fb7f6f": {
          "model_module": "@jupyter-widgets/controls",
          "model_name": "HBoxModel",
          "model_module_version": "1.5.0",
          "state": {
            "_dom_classes": [],
            "_model_module": "@jupyter-widgets/controls",
            "_model_module_version": "1.5.0",
            "_model_name": "HBoxModel",
            "_view_count": null,
            "_view_module": "@jupyter-widgets/controls",
            "_view_module_version": "1.5.0",
            "_view_name": "HBoxView",
            "box_style": "",
            "children": [
              "IPY_MODEL_50048bad060e49f9a35ec3a966c7d29b",
              "IPY_MODEL_23d59511c08349a581162572151f8df9",
              "IPY_MODEL_e2b3b41fd0fa455790234aeb955dbe45"
            ],
            "layout": "IPY_MODEL_6c242438c992473d9acb4a64ef55d60b"
          }
        },
        "50048bad060e49f9a35ec3a966c7d29b": {
          "model_module": "@jupyter-widgets/controls",
          "model_name": "HTMLModel",
          "model_module_version": "1.5.0",
          "state": {
            "_dom_classes": [],
            "_model_module": "@jupyter-widgets/controls",
            "_model_module_version": "1.5.0",
            "_model_name": "HTMLModel",
            "_view_count": null,
            "_view_module": "@jupyter-widgets/controls",
            "_view_module_version": "1.5.0",
            "_view_name": "HTMLView",
            "description": "",
            "description_tooltip": null,
            "layout": "IPY_MODEL_2fcb3c59a804406396ae8bc3e7c32d2d",
            "placeholder": "​",
            "style": "IPY_MODEL_ec3c3e07d59b4400b6d6f3ab699f8b80",
            "value": "tokenizer.json: 100%"
          }
        },
        "23d59511c08349a581162572151f8df9": {
          "model_module": "@jupyter-widgets/controls",
          "model_name": "FloatProgressModel",
          "model_module_version": "1.5.0",
          "state": {
            "_dom_classes": [],
            "_model_module": "@jupyter-widgets/controls",
            "_model_module_version": "1.5.0",
            "_model_name": "FloatProgressModel",
            "_view_count": null,
            "_view_module": "@jupyter-widgets/controls",
            "_view_module_version": "1.5.0",
            "_view_name": "ProgressView",
            "bar_style": "success",
            "description": "",
            "description_tooltip": null,
            "layout": "IPY_MODEL_47c89c31bdeb43d9aa7e9f15f7ead383",
            "max": 466021,
            "min": 0,
            "orientation": "horizontal",
            "style": "IPY_MODEL_cf327066ca394c928625375257498680",
            "value": 466021
          }
        },
        "e2b3b41fd0fa455790234aeb955dbe45": {
          "model_module": "@jupyter-widgets/controls",
          "model_name": "HTMLModel",
          "model_module_version": "1.5.0",
          "state": {
            "_dom_classes": [],
            "_model_module": "@jupyter-widgets/controls",
            "_model_module_version": "1.5.0",
            "_model_name": "HTMLModel",
            "_view_count": null,
            "_view_module": "@jupyter-widgets/controls",
            "_view_module_version": "1.5.0",
            "_view_name": "HTMLView",
            "description": "",
            "description_tooltip": null,
            "layout": "IPY_MODEL_e5b833a9ed4344aa8f39e3fa59292e00",
            "placeholder": "​",
            "style": "IPY_MODEL_ca731e6961f24da3866d8e79dcd85ed7",
            "value": " 466k/466k [00:00&lt;00:00, 5.56MB/s]"
          }
        },
        "6c242438c992473d9acb4a64ef55d60b": {
          "model_module": "@jupyter-widgets/base",
          "model_name": "LayoutModel",
          "model_module_version": "1.2.0",
          "state": {
            "_model_module": "@jupyter-widgets/base",
            "_model_module_version": "1.2.0",
            "_model_name": "LayoutModel",
            "_view_count": null,
            "_view_module": "@jupyter-widgets/base",
            "_view_module_version": "1.2.0",
            "_view_name": "LayoutView",
            "align_content": null,
            "align_items": null,
            "align_self": null,
            "border": null,
            "bottom": null,
            "display": null,
            "flex": null,
            "flex_flow": null,
            "grid_area": null,
            "grid_auto_columns": null,
            "grid_auto_flow": null,
            "grid_auto_rows": null,
            "grid_column": null,
            "grid_gap": null,
            "grid_row": null,
            "grid_template_areas": null,
            "grid_template_columns": null,
            "grid_template_rows": null,
            "height": null,
            "justify_content": null,
            "justify_items": null,
            "left": null,
            "margin": null,
            "max_height": null,
            "max_width": null,
            "min_height": null,
            "min_width": null,
            "object_fit": null,
            "object_position": null,
            "order": null,
            "overflow": null,
            "overflow_x": null,
            "overflow_y": null,
            "padding": null,
            "right": null,
            "top": null,
            "visibility": null,
            "width": null
          }
        },
        "2fcb3c59a804406396ae8bc3e7c32d2d": {
          "model_module": "@jupyter-widgets/base",
          "model_name": "LayoutModel",
          "model_module_version": "1.2.0",
          "state": {
            "_model_module": "@jupyter-widgets/base",
            "_model_module_version": "1.2.0",
            "_model_name": "LayoutModel",
            "_view_count": null,
            "_view_module": "@jupyter-widgets/base",
            "_view_module_version": "1.2.0",
            "_view_name": "LayoutView",
            "align_content": null,
            "align_items": null,
            "align_self": null,
            "border": null,
            "bottom": null,
            "display": null,
            "flex": null,
            "flex_flow": null,
            "grid_area": null,
            "grid_auto_columns": null,
            "grid_auto_flow": null,
            "grid_auto_rows": null,
            "grid_column": null,
            "grid_gap": null,
            "grid_row": null,
            "grid_template_areas": null,
            "grid_template_columns": null,
            "grid_template_rows": null,
            "height": null,
            "justify_content": null,
            "justify_items": null,
            "left": null,
            "margin": null,
            "max_height": null,
            "max_width": null,
            "min_height": null,
            "min_width": null,
            "object_fit": null,
            "object_position": null,
            "order": null,
            "overflow": null,
            "overflow_x": null,
            "overflow_y": null,
            "padding": null,
            "right": null,
            "top": null,
            "visibility": null,
            "width": null
          }
        },
        "ec3c3e07d59b4400b6d6f3ab699f8b80": {
          "model_module": "@jupyter-widgets/controls",
          "model_name": "DescriptionStyleModel",
          "model_module_version": "1.5.0",
          "state": {
            "_model_module": "@jupyter-widgets/controls",
            "_model_module_version": "1.5.0",
            "_model_name": "DescriptionStyleModel",
            "_view_count": null,
            "_view_module": "@jupyter-widgets/base",
            "_view_module_version": "1.2.0",
            "_view_name": "StyleView",
            "description_width": ""
          }
        },
        "47c89c31bdeb43d9aa7e9f15f7ead383": {
          "model_module": "@jupyter-widgets/base",
          "model_name": "LayoutModel",
          "model_module_version": "1.2.0",
          "state": {
            "_model_module": "@jupyter-widgets/base",
            "_model_module_version": "1.2.0",
            "_model_name": "LayoutModel",
            "_view_count": null,
            "_view_module": "@jupyter-widgets/base",
            "_view_module_version": "1.2.0",
            "_view_name": "LayoutView",
            "align_content": null,
            "align_items": null,
            "align_self": null,
            "border": null,
            "bottom": null,
            "display": null,
            "flex": null,
            "flex_flow": null,
            "grid_area": null,
            "grid_auto_columns": null,
            "grid_auto_flow": null,
            "grid_auto_rows": null,
            "grid_column": null,
            "grid_gap": null,
            "grid_row": null,
            "grid_template_areas": null,
            "grid_template_columns": null,
            "grid_template_rows": null,
            "height": null,
            "justify_content": null,
            "justify_items": null,
            "left": null,
            "margin": null,
            "max_height": null,
            "max_width": null,
            "min_height": null,
            "min_width": null,
            "object_fit": null,
            "object_position": null,
            "order": null,
            "overflow": null,
            "overflow_x": null,
            "overflow_y": null,
            "padding": null,
            "right": null,
            "top": null,
            "visibility": null,
            "width": null
          }
        },
        "cf327066ca394c928625375257498680": {
          "model_module": "@jupyter-widgets/controls",
          "model_name": "ProgressStyleModel",
          "model_module_version": "1.5.0",
          "state": {
            "_model_module": "@jupyter-widgets/controls",
            "_model_module_version": "1.5.0",
            "_model_name": "ProgressStyleModel",
            "_view_count": null,
            "_view_module": "@jupyter-widgets/base",
            "_view_module_version": "1.2.0",
            "_view_name": "StyleView",
            "bar_color": null,
            "description_width": ""
          }
        },
        "e5b833a9ed4344aa8f39e3fa59292e00": {
          "model_module": "@jupyter-widgets/base",
          "model_name": "LayoutModel",
          "model_module_version": "1.2.0",
          "state": {
            "_model_module": "@jupyter-widgets/base",
            "_model_module_version": "1.2.0",
            "_model_name": "LayoutModel",
            "_view_count": null,
            "_view_module": "@jupyter-widgets/base",
            "_view_module_version": "1.2.0",
            "_view_name": "LayoutView",
            "align_content": null,
            "align_items": null,
            "align_self": null,
            "border": null,
            "bottom": null,
            "display": null,
            "flex": null,
            "flex_flow": null,
            "grid_area": null,
            "grid_auto_columns": null,
            "grid_auto_flow": null,
            "grid_auto_rows": null,
            "grid_column": null,
            "grid_gap": null,
            "grid_row": null,
            "grid_template_areas": null,
            "grid_template_columns": null,
            "grid_template_rows": null,
            "height": null,
            "justify_content": null,
            "justify_items": null,
            "left": null,
            "margin": null,
            "max_height": null,
            "max_width": null,
            "min_height": null,
            "min_width": null,
            "object_fit": null,
            "object_position": null,
            "order": null,
            "overflow": null,
            "overflow_x": null,
            "overflow_y": null,
            "padding": null,
            "right": null,
            "top": null,
            "visibility": null,
            "width": null
          }
        },
        "ca731e6961f24da3866d8e79dcd85ed7": {
          "model_module": "@jupyter-widgets/controls",
          "model_name": "DescriptionStyleModel",
          "model_module_version": "1.5.0",
          "state": {
            "_model_module": "@jupyter-widgets/controls",
            "_model_module_version": "1.5.0",
            "_model_name": "DescriptionStyleModel",
            "_view_count": null,
            "_view_module": "@jupyter-widgets/base",
            "_view_module_version": "1.2.0",
            "_view_name": "StyleView",
            "description_width": ""
          }
        },
        "4a9c66e08bc0491086513668cb0a3f4b": {
          "model_module": "@jupyter-widgets/controls",
          "model_name": "HBoxModel",
          "model_module_version": "1.5.0",
          "state": {
            "_dom_classes": [],
            "_model_module": "@jupyter-widgets/controls",
            "_model_module_version": "1.5.0",
            "_model_name": "HBoxModel",
            "_view_count": null,
            "_view_module": "@jupyter-widgets/controls",
            "_view_module_version": "1.5.0",
            "_view_name": "HBoxView",
            "box_style": "",
            "children": [
              "IPY_MODEL_9487966016ee401db3bbf3f7ba9cd9a3",
              "IPY_MODEL_250e0deb77b74a22b36fa972de68b7df",
              "IPY_MODEL_f93e6048c7c049098c95897041d1dfdb"
            ],
            "layout": "IPY_MODEL_ec702b5c394144728fe2951af42378a4"
          }
        },
        "9487966016ee401db3bbf3f7ba9cd9a3": {
          "model_module": "@jupyter-widgets/controls",
          "model_name": "HTMLModel",
          "model_module_version": "1.5.0",
          "state": {
            "_dom_classes": [],
            "_model_module": "@jupyter-widgets/controls",
            "_model_module_version": "1.5.0",
            "_model_name": "HTMLModel",
            "_view_count": null,
            "_view_module": "@jupyter-widgets/controls",
            "_view_module_version": "1.5.0",
            "_view_name": "HTMLView",
            "description": "",
            "description_tooltip": null,
            "layout": "IPY_MODEL_a3f97e2471784549aaecbafe32fc4aef",
            "placeholder": "​",
            "style": "IPY_MODEL_12481916d3ef413ebb720c4bbe5a1446",
            "value": "special_tokens_map.json: 100%"
          }
        },
        "250e0deb77b74a22b36fa972de68b7df": {
          "model_module": "@jupyter-widgets/controls",
          "model_name": "FloatProgressModel",
          "model_module_version": "1.5.0",
          "state": {
            "_dom_classes": [],
            "_model_module": "@jupyter-widgets/controls",
            "_model_module_version": "1.5.0",
            "_model_name": "FloatProgressModel",
            "_view_count": null,
            "_view_module": "@jupyter-widgets/controls",
            "_view_module_version": "1.5.0",
            "_view_name": "ProgressView",
            "bar_style": "success",
            "description": "",
            "description_tooltip": null,
            "layout": "IPY_MODEL_62625bf985bd4b05812b9e17a1e9b38c",
            "max": 239,
            "min": 0,
            "orientation": "horizontal",
            "style": "IPY_MODEL_65cdb479ec5a4a0098c97452b63b309b",
            "value": 239
          }
        },
        "f93e6048c7c049098c95897041d1dfdb": {
          "model_module": "@jupyter-widgets/controls",
          "model_name": "HTMLModel",
          "model_module_version": "1.5.0",
          "state": {
            "_dom_classes": [],
            "_model_module": "@jupyter-widgets/controls",
            "_model_module_version": "1.5.0",
            "_model_name": "HTMLModel",
            "_view_count": null,
            "_view_module": "@jupyter-widgets/controls",
            "_view_module_version": "1.5.0",
            "_view_name": "HTMLView",
            "description": "",
            "description_tooltip": null,
            "layout": "IPY_MODEL_c466a9eeb8ec4b068526caf8e2d2d0c3",
            "placeholder": "​",
            "style": "IPY_MODEL_bfc966ac27344858a2925979a396747a",
            "value": " 239/239 [00:00&lt;00:00, 13.7kB/s]"
          }
        },
        "ec702b5c394144728fe2951af42378a4": {
          "model_module": "@jupyter-widgets/base",
          "model_name": "LayoutModel",
          "model_module_version": "1.2.0",
          "state": {
            "_model_module": "@jupyter-widgets/base",
            "_model_module_version": "1.2.0",
            "_model_name": "LayoutModel",
            "_view_count": null,
            "_view_module": "@jupyter-widgets/base",
            "_view_module_version": "1.2.0",
            "_view_name": "LayoutView",
            "align_content": null,
            "align_items": null,
            "align_self": null,
            "border": null,
            "bottom": null,
            "display": null,
            "flex": null,
            "flex_flow": null,
            "grid_area": null,
            "grid_auto_columns": null,
            "grid_auto_flow": null,
            "grid_auto_rows": null,
            "grid_column": null,
            "grid_gap": null,
            "grid_row": null,
            "grid_template_areas": null,
            "grid_template_columns": null,
            "grid_template_rows": null,
            "height": null,
            "justify_content": null,
            "justify_items": null,
            "left": null,
            "margin": null,
            "max_height": null,
            "max_width": null,
            "min_height": null,
            "min_width": null,
            "object_fit": null,
            "object_position": null,
            "order": null,
            "overflow": null,
            "overflow_x": null,
            "overflow_y": null,
            "padding": null,
            "right": null,
            "top": null,
            "visibility": null,
            "width": null
          }
        },
        "a3f97e2471784549aaecbafe32fc4aef": {
          "model_module": "@jupyter-widgets/base",
          "model_name": "LayoutModel",
          "model_module_version": "1.2.0",
          "state": {
            "_model_module": "@jupyter-widgets/base",
            "_model_module_version": "1.2.0",
            "_model_name": "LayoutModel",
            "_view_count": null,
            "_view_module": "@jupyter-widgets/base",
            "_view_module_version": "1.2.0",
            "_view_name": "LayoutView",
            "align_content": null,
            "align_items": null,
            "align_self": null,
            "border": null,
            "bottom": null,
            "display": null,
            "flex": null,
            "flex_flow": null,
            "grid_area": null,
            "grid_auto_columns": null,
            "grid_auto_flow": null,
            "grid_auto_rows": null,
            "grid_column": null,
            "grid_gap": null,
            "grid_row": null,
            "grid_template_areas": null,
            "grid_template_columns": null,
            "grid_template_rows": null,
            "height": null,
            "justify_content": null,
            "justify_items": null,
            "left": null,
            "margin": null,
            "max_height": null,
            "max_width": null,
            "min_height": null,
            "min_width": null,
            "object_fit": null,
            "object_position": null,
            "order": null,
            "overflow": null,
            "overflow_x": null,
            "overflow_y": null,
            "padding": null,
            "right": null,
            "top": null,
            "visibility": null,
            "width": null
          }
        },
        "12481916d3ef413ebb720c4bbe5a1446": {
          "model_module": "@jupyter-widgets/controls",
          "model_name": "DescriptionStyleModel",
          "model_module_version": "1.5.0",
          "state": {
            "_model_module": "@jupyter-widgets/controls",
            "_model_module_version": "1.5.0",
            "_model_name": "DescriptionStyleModel",
            "_view_count": null,
            "_view_module": "@jupyter-widgets/base",
            "_view_module_version": "1.2.0",
            "_view_name": "StyleView",
            "description_width": ""
          }
        },
        "62625bf985bd4b05812b9e17a1e9b38c": {
          "model_module": "@jupyter-widgets/base",
          "model_name": "LayoutModel",
          "model_module_version": "1.2.0",
          "state": {
            "_model_module": "@jupyter-widgets/base",
            "_model_module_version": "1.2.0",
            "_model_name": "LayoutModel",
            "_view_count": null,
            "_view_module": "@jupyter-widgets/base",
            "_view_module_version": "1.2.0",
            "_view_name": "LayoutView",
            "align_content": null,
            "align_items": null,
            "align_self": null,
            "border": null,
            "bottom": null,
            "display": null,
            "flex": null,
            "flex_flow": null,
            "grid_area": null,
            "grid_auto_columns": null,
            "grid_auto_flow": null,
            "grid_auto_rows": null,
            "grid_column": null,
            "grid_gap": null,
            "grid_row": null,
            "grid_template_areas": null,
            "grid_template_columns": null,
            "grid_template_rows": null,
            "height": null,
            "justify_content": null,
            "justify_items": null,
            "left": null,
            "margin": null,
            "max_height": null,
            "max_width": null,
            "min_height": null,
            "min_width": null,
            "object_fit": null,
            "object_position": null,
            "order": null,
            "overflow": null,
            "overflow_x": null,
            "overflow_y": null,
            "padding": null,
            "right": null,
            "top": null,
            "visibility": null,
            "width": null
          }
        },
        "65cdb479ec5a4a0098c97452b63b309b": {
          "model_module": "@jupyter-widgets/controls",
          "model_name": "ProgressStyleModel",
          "model_module_version": "1.5.0",
          "state": {
            "_model_module": "@jupyter-widgets/controls",
            "_model_module_version": "1.5.0",
            "_model_name": "ProgressStyleModel",
            "_view_count": null,
            "_view_module": "@jupyter-widgets/base",
            "_view_module_version": "1.2.0",
            "_view_name": "StyleView",
            "bar_color": null,
            "description_width": ""
          }
        },
        "c466a9eeb8ec4b068526caf8e2d2d0c3": {
          "model_module": "@jupyter-widgets/base",
          "model_name": "LayoutModel",
          "model_module_version": "1.2.0",
          "state": {
            "_model_module": "@jupyter-widgets/base",
            "_model_module_version": "1.2.0",
            "_model_name": "LayoutModel",
            "_view_count": null,
            "_view_module": "@jupyter-widgets/base",
            "_view_module_version": "1.2.0",
            "_view_name": "LayoutView",
            "align_content": null,
            "align_items": null,
            "align_self": null,
            "border": null,
            "bottom": null,
            "display": null,
            "flex": null,
            "flex_flow": null,
            "grid_area": null,
            "grid_auto_columns": null,
            "grid_auto_flow": null,
            "grid_auto_rows": null,
            "grid_column": null,
            "grid_gap": null,
            "grid_row": null,
            "grid_template_areas": null,
            "grid_template_columns": null,
            "grid_template_rows": null,
            "height": null,
            "justify_content": null,
            "justify_items": null,
            "left": null,
            "margin": null,
            "max_height": null,
            "max_width": null,
            "min_height": null,
            "min_width": null,
            "object_fit": null,
            "object_position": null,
            "order": null,
            "overflow": null,
            "overflow_x": null,
            "overflow_y": null,
            "padding": null,
            "right": null,
            "top": null,
            "visibility": null,
            "width": null
          }
        },
        "bfc966ac27344858a2925979a396747a": {
          "model_module": "@jupyter-widgets/controls",
          "model_name": "DescriptionStyleModel",
          "model_module_version": "1.5.0",
          "state": {
            "_model_module": "@jupyter-widgets/controls",
            "_model_module_version": "1.5.0",
            "_model_name": "DescriptionStyleModel",
            "_view_count": null,
            "_view_module": "@jupyter-widgets/base",
            "_view_module_version": "1.2.0",
            "_view_name": "StyleView",
            "description_width": ""
          }
        },
        "a79e79e27f8c4f6a9b4f23cccbb5f2ea": {
          "model_module": "@jupyter-widgets/controls",
          "model_name": "HBoxModel",
          "model_module_version": "1.5.0",
          "state": {
            "_dom_classes": [],
            "_model_module": "@jupyter-widgets/controls",
            "_model_module_version": "1.5.0",
            "_model_name": "HBoxModel",
            "_view_count": null,
            "_view_module": "@jupyter-widgets/controls",
            "_view_module_version": "1.5.0",
            "_view_name": "HBoxView",
            "box_style": "",
            "children": [
              "IPY_MODEL_1419aec23cd64efeb56f1af7ab353360",
              "IPY_MODEL_164858359eb54dcc85bd592dd21418a7",
              "IPY_MODEL_1df86edf789d4857ae34958f9eac514b"
            ],
            "layout": "IPY_MODEL_b9f00d5c4c0b4cd196cbabaf00d2b57d"
          }
        },
        "1419aec23cd64efeb56f1af7ab353360": {
          "model_module": "@jupyter-widgets/controls",
          "model_name": "HTMLModel",
          "model_module_version": "1.5.0",
          "state": {
            "_dom_classes": [],
            "_model_module": "@jupyter-widgets/controls",
            "_model_module_version": "1.5.0",
            "_model_name": "HTMLModel",
            "_view_count": null,
            "_view_module": "@jupyter-widgets/controls",
            "_view_module_version": "1.5.0",
            "_view_name": "HTMLView",
            "description": "",
            "description_tooltip": null,
            "layout": "IPY_MODEL_5955d5aee7aa4c7580962fc6b692c9b0",
            "placeholder": "​",
            "style": "IPY_MODEL_bbd3a0e266e14ce9bc8c280f4603b9f5",
            "value": "1_Pooling/config.json: 100%"
          }
        },
        "164858359eb54dcc85bd592dd21418a7": {
          "model_module": "@jupyter-widgets/controls",
          "model_name": "FloatProgressModel",
          "model_module_version": "1.5.0",
          "state": {
            "_dom_classes": [],
            "_model_module": "@jupyter-widgets/controls",
            "_model_module_version": "1.5.0",
            "_model_name": "FloatProgressModel",
            "_view_count": null,
            "_view_module": "@jupyter-widgets/controls",
            "_view_module_version": "1.5.0",
            "_view_name": "ProgressView",
            "bar_style": "success",
            "description": "",
            "description_tooltip": null,
            "layout": "IPY_MODEL_de06cba2599d473c846b6314ab849b5a",
            "max": 190,
            "min": 0,
            "orientation": "horizontal",
            "style": "IPY_MODEL_1e8a05cfaaa648e99b8c3e7655b2e1a5",
            "value": 190
          }
        },
        "1df86edf789d4857ae34958f9eac514b": {
          "model_module": "@jupyter-widgets/controls",
          "model_name": "HTMLModel",
          "model_module_version": "1.5.0",
          "state": {
            "_dom_classes": [],
            "_model_module": "@jupyter-widgets/controls",
            "_model_module_version": "1.5.0",
            "_model_name": "HTMLModel",
            "_view_count": null,
            "_view_module": "@jupyter-widgets/controls",
            "_view_module_version": "1.5.0",
            "_view_name": "HTMLView",
            "description": "",
            "description_tooltip": null,
            "layout": "IPY_MODEL_5fe862528a9145898bd88db78a6bf06b",
            "placeholder": "​",
            "style": "IPY_MODEL_4c20943490ea4e709137d7b40527d656",
            "value": " 190/190 [00:00&lt;00:00, 5.61kB/s]"
          }
        },
        "b9f00d5c4c0b4cd196cbabaf00d2b57d": {
          "model_module": "@jupyter-widgets/base",
          "model_name": "LayoutModel",
          "model_module_version": "1.2.0",
          "state": {
            "_model_module": "@jupyter-widgets/base",
            "_model_module_version": "1.2.0",
            "_model_name": "LayoutModel",
            "_view_count": null,
            "_view_module": "@jupyter-widgets/base",
            "_view_module_version": "1.2.0",
            "_view_name": "LayoutView",
            "align_content": null,
            "align_items": null,
            "align_self": null,
            "border": null,
            "bottom": null,
            "display": null,
            "flex": null,
            "flex_flow": null,
            "grid_area": null,
            "grid_auto_columns": null,
            "grid_auto_flow": null,
            "grid_auto_rows": null,
            "grid_column": null,
            "grid_gap": null,
            "grid_row": null,
            "grid_template_areas": null,
            "grid_template_columns": null,
            "grid_template_rows": null,
            "height": null,
            "justify_content": null,
            "justify_items": null,
            "left": null,
            "margin": null,
            "max_height": null,
            "max_width": null,
            "min_height": null,
            "min_width": null,
            "object_fit": null,
            "object_position": null,
            "order": null,
            "overflow": null,
            "overflow_x": null,
            "overflow_y": null,
            "padding": null,
            "right": null,
            "top": null,
            "visibility": null,
            "width": null
          }
        },
        "5955d5aee7aa4c7580962fc6b692c9b0": {
          "model_module": "@jupyter-widgets/base",
          "model_name": "LayoutModel",
          "model_module_version": "1.2.0",
          "state": {
            "_model_module": "@jupyter-widgets/base",
            "_model_module_version": "1.2.0",
            "_model_name": "LayoutModel",
            "_view_count": null,
            "_view_module": "@jupyter-widgets/base",
            "_view_module_version": "1.2.0",
            "_view_name": "LayoutView",
            "align_content": null,
            "align_items": null,
            "align_self": null,
            "border": null,
            "bottom": null,
            "display": null,
            "flex": null,
            "flex_flow": null,
            "grid_area": null,
            "grid_auto_columns": null,
            "grid_auto_flow": null,
            "grid_auto_rows": null,
            "grid_column": null,
            "grid_gap": null,
            "grid_row": null,
            "grid_template_areas": null,
            "grid_template_columns": null,
            "grid_template_rows": null,
            "height": null,
            "justify_content": null,
            "justify_items": null,
            "left": null,
            "margin": null,
            "max_height": null,
            "max_width": null,
            "min_height": null,
            "min_width": null,
            "object_fit": null,
            "object_position": null,
            "order": null,
            "overflow": null,
            "overflow_x": null,
            "overflow_y": null,
            "padding": null,
            "right": null,
            "top": null,
            "visibility": null,
            "width": null
          }
        },
        "bbd3a0e266e14ce9bc8c280f4603b9f5": {
          "model_module": "@jupyter-widgets/controls",
          "model_name": "DescriptionStyleModel",
          "model_module_version": "1.5.0",
          "state": {
            "_model_module": "@jupyter-widgets/controls",
            "_model_module_version": "1.5.0",
            "_model_name": "DescriptionStyleModel",
            "_view_count": null,
            "_view_module": "@jupyter-widgets/base",
            "_view_module_version": "1.2.0",
            "_view_name": "StyleView",
            "description_width": ""
          }
        },
        "de06cba2599d473c846b6314ab849b5a": {
          "model_module": "@jupyter-widgets/base",
          "model_name": "LayoutModel",
          "model_module_version": "1.2.0",
          "state": {
            "_model_module": "@jupyter-widgets/base",
            "_model_module_version": "1.2.0",
            "_model_name": "LayoutModel",
            "_view_count": null,
            "_view_module": "@jupyter-widgets/base",
            "_view_module_version": "1.2.0",
            "_view_name": "LayoutView",
            "align_content": null,
            "align_items": null,
            "align_self": null,
            "border": null,
            "bottom": null,
            "display": null,
            "flex": null,
            "flex_flow": null,
            "grid_area": null,
            "grid_auto_columns": null,
            "grid_auto_flow": null,
            "grid_auto_rows": null,
            "grid_column": null,
            "grid_gap": null,
            "grid_row": null,
            "grid_template_areas": null,
            "grid_template_columns": null,
            "grid_template_rows": null,
            "height": null,
            "justify_content": null,
            "justify_items": null,
            "left": null,
            "margin": null,
            "max_height": null,
            "max_width": null,
            "min_height": null,
            "min_width": null,
            "object_fit": null,
            "object_position": null,
            "order": null,
            "overflow": null,
            "overflow_x": null,
            "overflow_y": null,
            "padding": null,
            "right": null,
            "top": null,
            "visibility": null,
            "width": null
          }
        },
        "1e8a05cfaaa648e99b8c3e7655b2e1a5": {
          "model_module": "@jupyter-widgets/controls",
          "model_name": "ProgressStyleModel",
          "model_module_version": "1.5.0",
          "state": {
            "_model_module": "@jupyter-widgets/controls",
            "_model_module_version": "1.5.0",
            "_model_name": "ProgressStyleModel",
            "_view_count": null,
            "_view_module": "@jupyter-widgets/base",
            "_view_module_version": "1.2.0",
            "_view_name": "StyleView",
            "bar_color": null,
            "description_width": ""
          }
        },
        "5fe862528a9145898bd88db78a6bf06b": {
          "model_module": "@jupyter-widgets/base",
          "model_name": "LayoutModel",
          "model_module_version": "1.2.0",
          "state": {
            "_model_module": "@jupyter-widgets/base",
            "_model_module_version": "1.2.0",
            "_model_name": "LayoutModel",
            "_view_count": null,
            "_view_module": "@jupyter-widgets/base",
            "_view_module_version": "1.2.0",
            "_view_name": "LayoutView",
            "align_content": null,
            "align_items": null,
            "align_self": null,
            "border": null,
            "bottom": null,
            "display": null,
            "flex": null,
            "flex_flow": null,
            "grid_area": null,
            "grid_auto_columns": null,
            "grid_auto_flow": null,
            "grid_auto_rows": null,
            "grid_column": null,
            "grid_gap": null,
            "grid_row": null,
            "grid_template_areas": null,
            "grid_template_columns": null,
            "grid_template_rows": null,
            "height": null,
            "justify_content": null,
            "justify_items": null,
            "left": null,
            "margin": null,
            "max_height": null,
            "max_width": null,
            "min_height": null,
            "min_width": null,
            "object_fit": null,
            "object_position": null,
            "order": null,
            "overflow": null,
            "overflow_x": null,
            "overflow_y": null,
            "padding": null,
            "right": null,
            "top": null,
            "visibility": null,
            "width": null
          }
        },
        "4c20943490ea4e709137d7b40527d656": {
          "model_module": "@jupyter-widgets/controls",
          "model_name": "DescriptionStyleModel",
          "model_module_version": "1.5.0",
          "state": {
            "_model_module": "@jupyter-widgets/controls",
            "_model_module_version": "1.5.0",
            "_model_name": "DescriptionStyleModel",
            "_view_count": null,
            "_view_module": "@jupyter-widgets/base",
            "_view_module_version": "1.2.0",
            "_view_name": "StyleView",
            "description_width": ""
          }
        }
      }
    }
  },
  "cells": [
    {
      "cell_type": "markdown",
      "source": [
        "# Tutorial 9: Retrieval-augmented generation (RAG) y Agentes.\n",
        "\n",
        "### Cuerpo Docente\n",
        "\n",
        "- Profesores: [Andrés Abeliuk](https://aabeliuk.github.io/), [Felipe Villena](https://fabianvillena.cl/).\n",
        "- Profesor Auxiliar: María José Zambrano\n",
        "\n",
        "\n",
        "### Objetivos del Tutorial\n",
        "- Introducir Langchain\n",
        "- Qué es RAG y como utilizarlo\n",
        "- Comprender los que son los agentes y como utilizarlos\n",
        "\n",
        "Tutorial basado en clase del curso [Laboratorio de Programación Científica para Ciencia de Datos.](https://github.com/MDS7202/MDS7202/tree/main)"
      ],
      "metadata": {
        "id": "WhcfLnmcP4qb"
      }
    },
    {
      "cell_type": "markdown",
      "source": [
        "### **Google AI Studio**\n",
        "\n",
        "Usaremos `Google AI Studio` para habilitar el uso de LLMs y Embeddings de Google. Simplemente deben registrarse con su cuenta google y obtener su API KEY desde el siguiente enlace: [Google AI Studio](https://aistudio.google.com/app/u/1/apikey).\n",
        "\n",
        "### **Tavily**\n",
        "\n",
        "En paralelo, utilizaremos `Tavily` como motor de búsqueda para potenciar las respuestas de nuestros agentes. Tal como en el paso anterior, solo deben registrarse y obtener su API KEY desde el siguiente enlace: [Tavily](https://tavily.com/).\n",
        "\n",
        "### **Configurar credenciales en ambiente**\n",
        "\n",
        "Una vez se tienen todas las credenciales, pasamos a activarlas en nuestro ambiente local por medio del siguiente código:"
      ],
      "metadata": {
        "id": "Xj7kBKuloQ0h"
      }
    },
    {
      "cell_type": "markdown",
      "source": [
        "### **Configurar credenciales en ambiente**\n",
        "\n",
        "Una vez se tienen todas las credenciales, pasamos a activarlas en nuestro ambiente local por medio del siguiente código:"
      ],
      "metadata": {
        "id": "aY5G89eKoUxO"
      }
    },
    {
      "cell_type": "code",
      "execution_count": 1,
      "metadata": {
        "colab": {
          "base_uri": "https://localhost:8080/"
        },
        "id": "sIngeWRHOQxF",
        "outputId": "4bfe53f5-d25d-4f17-bcbe-863c4427b97e"
      },
      "outputs": [
        {
          "name": "stdout",
          "output_type": "stream",
          "text": [
            "Enter your Google AI API key: ··········\n",
            "Enter your Tavily API key: ··········\n"
          ]
        }
      ],
      "source": [
        "import getpass\n",
        "import os\n",
        "\n",
        "if \"GOOGLE_API_KEY\" not in os.environ:\n",
        "    os.environ[\"GOOGLE_API_KEY\"] = getpass.getpass(\"Enter your Google AI API key: \")\n",
        "\n",
        "if \"TAVILY_API_KEY\" not in os.environ:\n",
        "    os.environ[\"TAVILY_API_KEY\"] = getpass.getpass(\"Enter your Tavily API key: \")"
      ]
    },
    {
      "cell_type": "code",
      "source": [
        "%pip install --upgrade --quiet  langchain-google-genai\n",
        "%pip install --quiet --upgrade langchain-text-splitters langchain-community\n",
        "!pip install -qU langchain-openai"
      ],
      "metadata": {
        "colab": {
          "base_uri": "https://localhost:8080/"
        },
        "id": "ogF_Z3iZRf0S",
        "outputId": "d10e7298-ee04-46d7-9143-de02a71c6f91"
      },
      "execution_count": 2,
      "outputs": [
        {
          "output_type": "stream",
          "name": "stdout",
          "text": [
            "\u001b[2K   \u001b[90m━━━━━━━━━━━━━━━━━━━━━━━━━━━━━━━━━━━━━━━━\u001b[0m \u001b[32m41.3/41.3 kB\u001b[0m \u001b[31m2.8 MB/s\u001b[0m eta \u001b[36m0:00:00\u001b[0m\n",
            "\u001b[2K   \u001b[90m━━━━━━━━━━━━━━━━━━━━━━━━━━━━━━━━━━━━━━━━\u001b[0m \u001b[32m2.5/2.5 MB\u001b[0m \u001b[31m51.5 MB/s\u001b[0m eta \u001b[36m0:00:00\u001b[0m\n",
            "\u001b[2K   \u001b[90m━━━━━━━━━━━━━━━━━━━━━━━━━━━━━━━━━━━━━━━━\u001b[0m \u001b[32m1.0/1.0 MB\u001b[0m \u001b[31m46.7 MB/s\u001b[0m eta \u001b[36m0:00:00\u001b[0m\n",
            "\u001b[2K   \u001b[90m━━━━━━━━━━━━━━━━━━━━━━━━━━━━━━━━━━━━━━━━\u001b[0m \u001b[32m411.2/411.2 kB\u001b[0m \u001b[31m25.4 MB/s\u001b[0m eta \u001b[36m0:00:00\u001b[0m\n",
            "\u001b[2K   \u001b[90m━━━━━━━━━━━━━━━━━━━━━━━━━━━━━━━━━━━━━━━━\u001b[0m \u001b[32m49.5/49.5 kB\u001b[0m \u001b[31m3.5 MB/s\u001b[0m eta \u001b[36m0:00:00\u001b[0m\n",
            "\u001b[2K   \u001b[90m━━━━━━━━━━━━━━━━━━━━━━━━━━━━━━━━━━━━━━━━\u001b[0m \u001b[32m50.7/50.7 kB\u001b[0m \u001b[31m3.0 MB/s\u001b[0m eta \u001b[36m0:00:00\u001b[0m\n",
            "\u001b[2K   \u001b[90m━━━━━━━━━━━━━━━━━━━━━━━━━━━━━━━━━━━━━━━━\u001b[0m \u001b[32m390.3/390.3 kB\u001b[0m \u001b[31m20.9 MB/s\u001b[0m eta \u001b[36m0:00:00\u001b[0m\n",
            "\u001b[2K   \u001b[90m━━━━━━━━━━━━━━━━━━━━━━━━━━━━━━━━━━━━━━━━\u001b[0m \u001b[32m1.2/1.2 MB\u001b[0m \u001b[31m49.8 MB/s\u001b[0m eta \u001b[36m0:00:00\u001b[0m\n",
            "\u001b[?25h"
          ]
        }
      ]
    },
    {
      "cell_type": "markdown",
      "source": [
        "## **LangChain 🦜**\n",
        "\n",
        "`LangChain` es un framework de código abierto diseñado para desarrollar aplicaciones basadas en LLM. Basa su funcionamiento en los siguientes componentes:\n",
        "\n",
        "<center>\n",
        "<img src='https://raw.githubusercontent.com/MDS7202/MDS7202/main/recursos/2024-01//LLM/langchain.png' width=450  />\n",
        "</center>\n",
        "\n",
        "**1. Prompts y Plantillas de Prompts**: Los prompts son consultas que enviamos a los LLMs, y su calidad impacta las respuestas. LangChain facilita la creación y gestión de prompts mediante plantillas que combinan instrucciones, contenido y consultas.\n",
        "\n",
        "```python\n",
        "template = \"\"\"\n",
        "You are required to answer the following question in form of bullet points based on the provided context.\n",
        "The answer should be answer as a doctor and your language is spanish.:\n",
        "{context}\n",
        "Now based on above context answer the following question:\n",
        "{question}\n",
        "\n",
        "Answer:\n",
        "\"\"\"\n",
        "```\n",
        "\n",
        "**2. Modelos**: LangChain no incluye LLMs, pero permite integrar fácilmente varios modelos de lenguaje (como GPT-3, BLOOM), de chat (como GPT-3.5-turbo) y de embedding de texto (de CohereAI, HuggingFace y OpenAI) mediante un simple framework donde solo necesitas la API Key o cargar el modelo en memoria.\n",
        "\n",
        "```python\n",
        "from langchain.llms import OpenAI\n",
        "\n",
        "openai = OpenAI(\n",
        "   openai_api_key=”YOUR OPEN AI API KEY”,\n",
        "   model_name=\"gpt-3.5-turbo-16k\",\n",
        ")\n",
        "```\n",
        "\n",
        "**3. Chains**: LangChain permite crear flujos de trabajo, o \"chains,\" que son secuencias de llamadas a modelos de lenguaje o a herramientas externas. Estos flujos pueden incluir varias etapas de procesamiento, donde la salida de una etapa se convierte en la entrada de la siguiente. son el simil de pipelines de `scikit-learn`.\n",
        "\n",
        "```python\n",
        "chain = prompt | llm | StrOutputParser()\n",
        "```\n",
        "\n",
        "**4. Memoria**: Por defecto, las cadenas en LangChain son sin estado, es decir, no guarda un registro de las interacciones anteriores hechas con el modelo. Para superar esto, LangChain nos asiste con *buffers* para almacenar de forma iterativa las interacciones realizadas.\n",
        "\n",
        "<center>\n",
        "<img src='https://raw.githubusercontent.com/MDS7202/MDS7202/main/recursos/2024-01//LLM/memory.png' width=600 />\n",
        "</center>\n",
        "\n",
        "**5. Agentes**: Los agentes en LangChain toman decisiones sobre acciones según la entrada o el estado del flujo, como buscar información o llamar a una API, lo que permite crear aplicaciones interactivas y adaptables.\n",
        "\n",
        "<center>\n",
        "<img src='https://raw.githubusercontent.com/MDS7202/MDS7202/main/recursos/2024-01//LLM/agents.png' width=450  />\n",
        "</center>"
      ],
      "metadata": {
        "id": "wEnNosWuoimL"
      }
    },
    {
      "cell_type": "code",
      "source": [
        "from langchain_google_genai import ChatGoogleGenerativeAI\n",
        "\n",
        "llm = ChatGoogleGenerativeAI(\n",
        "    model=\"gemini-1.5-flash\", # modelo de lenguaje\n",
        "    temperature=0, # probabilidad de \"respuestas creativas\"\n",
        "    max_tokens=None, # sin tope de tokens\n",
        "    timeout=None, # sin timeout\n",
        "    max_retries=2, # número máximo de intentos\n",
        ")\n",
        "\n",
        "llm"
      ],
      "metadata": {
        "colab": {
          "base_uri": "https://localhost:8080/"
        },
        "id": "wO94DSV_eAkD",
        "outputId": "753e282d-cebd-4b62-cfe5-106ab908a86f"
      },
      "execution_count": 3,
      "outputs": [
        {
          "output_type": "execute_result",
          "data": {
            "text/plain": [
              "ChatGoogleGenerativeAI(model='models/gemini-1.5-flash', google_api_key=SecretStr('**********'), temperature=0.0, max_retries=2, client=<google.ai.generativelanguage_v1beta.services.generative_service.client.GenerativeServiceClient object at 0x7f02710aab00>, default_metadata=())"
            ]
          },
          "metadata": {},
          "execution_count": 3
        }
      ]
    },
    {
      "cell_type": "code",
      "source": [
        "print('hola mundo')"
      ],
      "metadata": {
        "colab": {
          "base_uri": "https://localhost:8080/"
        },
        "id": "xV7G6jxpkxXY",
        "outputId": "53335bd6-dcfc-47eb-87d2-fc588c2d0417"
      },
      "execution_count": 39,
      "outputs": [
        {
          "output_type": "stream",
          "name": "stdout",
          "text": [
            "hola mundo\n"
          ]
        }
      ]
    },
    {
      "cell_type": "code",
      "source": [
        "question = \"hola!\"\n",
        "response = llm.invoke(question) # invoke para interactuar con el modelo\n",
        "response.content"
      ],
      "metadata": {
        "colab": {
          "base_uri": "https://localhost:8080/",
          "height": 35
        },
        "id": "q1K9kWUUUaZm",
        "outputId": "af700c2d-3c1b-4bbe-c86d-7fd30cd93b43"
      },
      "execution_count": 4,
      "outputs": [
        {
          "output_type": "execute_result",
          "data": {
            "text/plain": [
              "'Hola! ¿Cómo estás?\\n'"
            ],
            "application/vnd.google.colaboratory.intrinsic+json": {
              "type": "string"
            }
          },
          "metadata": {},
          "execution_count": 4
        }
      ]
    },
    {
      "cell_type": "code",
      "source": [
        "from langchain_core.prompts import PromptTemplate\n",
        "\n",
        "# template: noten como la variable {question} va a ser completada con la pregunta del usuario.\n",
        "template = '''\n",
        "Eres un profesional experto en halterofilia\n",
        "Tu único rol es responder de la forma más completa posible la pregunta del usuario.\n",
        "\n",
        "Pregunta: {question}\n",
        "Respuesta útil:\n",
        "'''\n",
        "\n",
        "prompt = PromptTemplate.from_template(template)\n",
        "prompt"
      ],
      "metadata": {
        "colab": {
          "base_uri": "https://localhost:8080/"
        },
        "id": "Y8-YJhj0Zyw9",
        "outputId": "9930a98c-a50a-48ca-a66e-49aa140ed572"
      },
      "execution_count": 5,
      "outputs": [
        {
          "output_type": "execute_result",
          "data": {
            "text/plain": [
              "PromptTemplate(input_variables=['question'], input_types={}, partial_variables={}, template='\\nEres un profesional experto en halterofilia\\nTu único rol es responder de la forma más completa posible la pregunta del usuario.\\n\\nPregunta: {question}\\nRespuesta útil:\\n')"
            ]
          },
          "metadata": {},
          "execution_count": 5
        }
      ]
    },
    {
      "cell_type": "code",
      "source": [
        "chain = prompt | llm # definimos la cadena\n",
        "response = chain.invoke(\"hola!\") # interactuamos con ella a través de invoke\n",
        "response"
      ],
      "metadata": {
        "colab": {
          "base_uri": "https://localhost:8080/"
        },
        "id": "4a4E3aEQZ7m0",
        "outputId": "8a620a7c-bd32-42fc-b489-b0bc974bf2be"
      },
      "execution_count": 6,
      "outputs": [
        {
          "output_type": "execute_result",
          "data": {
            "text/plain": [
              "AIMessage(content='Hola!  Como profesional experto en halterofilia, puedo ayudarte con una amplia gama de temas relacionados con este deporte. Para darte la respuesta más completa posible, necesito saber qué te interesa específicamente.  \\n\\nPor ejemplo, ¿te gustaría saber sobre:\\n\\n* **Técnicas de levantamiento:**  Como el arranque, el envión, o aspectos específicos de cada uno como la primera tracción, el tirón, el agarre, la recepción, etc.  Puedo explicarte la biomecánica, los puntos clave de cada fase, y cómo corregir errores comunes.\\n\\n* **Programación de entrenamiento:**  Diseño de programas para principiantes, intermedios o avanzados, incluyendo periodización, volumen, intensidad, frecuencia,  descanso y recuperación.  Puedo ayudarte a crear un plan personalizado basado en tus objetivos y nivel de experiencia.\\n\\n* **Nutrición para halterofilia:**  Dieta óptima para ganar masa muscular, fuerza y potencia, incluyendo macronutrientes, micronutrientes, hidratación y suplementación.\\n\\n* **Equipamiento:**  Tipos de zapatillas, cinturones, muñequeras, etc., y cómo elegir el adecuado para tu nivel y necesidades.\\n\\n* **Fisioterapia y prevención de lesiones:**  Ejercicios de movilidad, flexibilidad y fortalecimiento para prevenir lesiones comunes en halterofilia, así como estrategias de recuperación.\\n\\n* **Reglamento de competición:**  Normas y reglas de las competiciones de halterofilia, incluyendo las categorías de peso, los intentos permitidos y los criterios de puntuación.\\n\\n* **Historia de la halterofilia:**  Aspectos históricos relevantes del deporte, atletas destacados y evolución de las técnicas.\\n\\n* **Análisis de rendimiento:**  Cómo analizar tu propio rendimiento, identificar áreas de mejora y establecer metas realistas.\\n\\n* **Recursos adicionales:**  Libros, artículos científicos, páginas web y aplicaciones útiles para mejorar en halterofilia.\\n\\n\\nPor favor, especifica tu pregunta para que pueda ofrecerte la información más precisa y útil.  Cuanto más detallada sea tu pregunta, mejor podré ayudarte.\\n', additional_kwargs={}, response_metadata={'prompt_feedback': {'block_reason': 0, 'safety_ratings': []}, 'finish_reason': 'STOP', 'safety_ratings': []}, id='run-ad44bd5b-3841-41df-9680-58477a26386a-0', usage_metadata={'input_tokens': 37, 'output_tokens': 419, 'total_tokens': 456, 'input_token_details': {'cache_read': 0}})"
            ]
          },
          "metadata": {},
          "execution_count": 6
        }
      ]
    },
    {
      "cell_type": "code",
      "source": [
        "response = chain.invoke(\"Cuales son la categorías?\") # interactuamos con ella a través de invoke\n",
        "response"
      ],
      "metadata": {
        "colab": {
          "base_uri": "https://localhost:8080/"
        },
        "id": "BzBHVrd5aRTw",
        "outputId": "3f8e481f-c2fd-4c45-f56a-77983771e36f"
      },
      "execution_count": 7,
      "outputs": [
        {
          "output_type": "execute_result",
          "data": {
            "text/plain": [
              "AIMessage(content='Las categorías de halterofilia se definen por el peso corporal del atleta y varían ligeramente según la federación (principalmente la IWF - International Weightlifting Federation - y las federaciones nacionales).  No existe una única lista universal, ya que las categorías pueden ser ajustadas periódicamente por la IWF.  Sin embargo, puedo proporcionarte una descripción general de las categorías actuales (a fecha de respuesta, octubre de 2023) y cómo funcionan,  teniendo en cuenta que estas pueden sufrir modificaciones en el futuro.\\n\\n**Categorías Masculinas (IWF):**\\n\\nLa IWF actualmente utiliza las siguientes categorías de peso para hombres:\\n\\n* **55 kg:**  Hasta 55 kilogramos\\n* **61 kg:**  Hasta 61 kilogramos\\n* **67 kg:**  Hasta 67 kilogramos\\n* **73 kg:**  Hasta 73 kilogramos\\n* **81 kg:**  Hasta 81 kilogramos\\n* **89 kg:**  Hasta 89 kilogramos\\n* **96 kg:**  Hasta 96 kilogramos\\n* **102 kg:** Hasta 102 kilogramos\\n* **109 kg:** Hasta 109 kilogramos\\n* **+109 kg:**  Más de 109 kilogramos\\n\\n\\n**Categorías Femeninas (IWF):**\\n\\nLas categorías de peso para mujeres son:\\n\\n* **45 kg:** Hasta 45 kilogramos\\n* **49 kg:** Hasta 49 kilogramos\\n* **55 kg:** Hasta 55 kilogramos\\n* **59 kg:** Hasta 59 kilogramos\\n* **64 kg:** Hasta 64 kilogramos\\n* **71 kg:** Hasta 71 kilogramos\\n* **76 kg:** Hasta 76 kilogramos\\n* **81 kg:** Hasta 81 kilogramos\\n* **87 kg:** Hasta 87 kilogramos\\n* **+87 kg:** Más de 87 kilogramos\\n\\n\\n**Aspectos importantes a considerar:**\\n\\n* **Pesaje:** El pesaje se realiza antes de la competición para determinar la categoría de peso del atleta.  Un atleta que no cumpla con el límite de peso de su categoría será descalificado.\\n* **Variaciones:**  Las federaciones nacionales pueden tener ligeras variaciones en sus categorías, especialmente a nivel juvenil o máster.  Siempre es crucial consultar las reglas específicas de la competición en la que se participará.\\n* **Cambios en las categorías:** La IWF revisa y ajusta periódicamente las categorías de peso para mantener la equidad y el equilibrio competitivo.  Es fundamental mantenerse actualizado con las últimas regulaciones de la IWF.\\n* **Categorías de edad:** Además de las categorías de peso, existen categorías de edad (junior, senior, máster) que se utilizan en muchas competiciones.\\n\\n\\nEn resumen, las categorías de halterofilia se basan en el peso corporal y están diseñadas para crear una competencia justa entre atletas de diferentes tamaños y fortalezas.  Es fundamental consultar las reglas oficiales de la IWF o la federación correspondiente para obtener la información más precisa y actualizada sobre las categorías de peso para una competición específica.\\n', additional_kwargs={}, response_metadata={'prompt_feedback': {'block_reason': 0, 'safety_ratings': []}, 'finish_reason': 'STOP', 'safety_ratings': []}, id='run-9a8029b7-3770-4b3b-846d-329f45abb8e4-0', usage_metadata={'input_tokens': 41, 'output_tokens': 681, 'total_tokens': 722, 'input_token_details': {'cache_read': 0}})"
            ]
          },
          "metadata": {},
          "execution_count": 7
        }
      ]
    },
    {
      "cell_type": "markdown",
      "source": [
        "**¿Qué pasa si le preguntamos al llm sobre eventos que pasaron hace algunos años?**"
      ],
      "metadata": {
        "id": "mBh0dRfJtLXV"
      }
    },
    {
      "cell_type": "code",
      "source": [
        "response = llm.invoke(\"qué sabes del plebiscito constitucional del 2020 en Chile?\")\n",
        "print(response.content)"
      ],
      "metadata": {
        "colab": {
          "base_uri": "https://localhost:8080/"
        },
        "id": "_4LUA0C3tINa",
        "outputId": "3d00cfd5-3b61-4ef8-ba0f-2625c4ac7b10"
      },
      "execution_count": 8,
      "outputs": [
        {
          "output_type": "stream",
          "name": "stdout",
          "text": [
            "El plebiscito nacional de Chile de 2020, realizado el 25 de octubre, fue una consulta ciudadana para decidir si se debía o no redactar una nueva Constitución para reemplazar la Constitución de 1980, heredada de la dictadura de Augusto Pinochet.  La pregunta en la papeleta era: \"¿Aprueba usted una nueva Constitución?\".\n",
            "\n",
            "Los resultados fueron un rotundo **Sí** a la redacción de una nueva Constitución.  Si bien la participación fue alta (50,9%),  el apoyo a la opción \"Aprueba usted una nueva Constitución?\" fue abrumador, con un **78,28% de votos a favor** y un 21,72% en contra.  Este resultado marcó un hito histórico, demostrando un amplio rechazo a la Constitución vigente y un deseo de cambio profundo en el sistema político chileno.\n",
            "\n",
            "Sin embargo, el plebiscito de 2020 solo respondió a la primera pregunta sobre si se debía o no redactar una nueva Constitución.  Una segunda pregunta, sobre el mecanismo para redactar la nueva Constitución (Convención Constitucional o Asamblea Mixta Constitucional), también fue incluida en la papeleta.  En este punto, la opción de una **Convención Constitucional** (compuesta íntegramente por miembros electos) ganó con un 79% de los votos, superando a la opción de una Asamblea Mixta (con miembros del Congreso y electos).\n",
            "\n",
            "En resumen, el plebiscito de 2020 fue un evento crucial que abrió el camino para un proceso constituyente en Chile, marcando un cambio significativo en la historia política del país.  Sin embargo, es importante recordar que este plebiscito solo decidió el *inicio* del proceso, no el contenido de la nueva Constitución, que se definiría posteriormente en un proceso complejo y con resultados que finalmente fueron rechazados en un segundo plebiscito en 2022.\n",
            "\n"
          ]
        }
      ]
    },
    {
      "cell_type": "markdown",
      "source": [
        "**Qué pasaría si le pregunto al LLM algúna pregunta de actualidad?** Por ejemplo:"
      ],
      "metadata": {
        "id": "reME1e0AfHYT"
      }
    },
    {
      "cell_type": "code",
      "source": [
        "response = llm.invoke(\"qué sabes sobre las elecciones municipales 2024 de Chile?\")\n",
        "print(response.content)"
      ],
      "metadata": {
        "colab": {
          "base_uri": "https://localhost:8080/"
        },
        "id": "zW8SyTIxUU6s",
        "outputId": "fac3d0dc-c354-40ab-ee97-d4c3ca184ebf"
      },
      "execution_count": 9,
      "outputs": [
        {
          "output_type": "stream",
          "name": "stdout",
          "text": [
            "Las elecciones municipales de Chile en 2024 aún están bastante lejos, por lo que la información concreta es limitada.  No hay candidatos oficiales, ni campañas en marcha a gran escala.  Sin embargo, podemos hablar de lo que se sabe y se espera:\n",
            "\n",
            "* **Fecha:**  Las elecciones municipales en Chile se realizan cada cuatro años.  La próxima elección se llevará a cabo en **octubre de 2024**, aunque la fecha exacta aún no se ha definido oficialmente por el Servel (Servicio Electoral).\n",
            "\n",
            "* **Cargos a elegir:** Se elegirán alcaldes y concejales para cada comuna del país.\n",
            "\n",
            "* **Contexto político:** Las elecciones se desarrollarán en un contexto político que probablemente estará marcado por:\n",
            "\n",
            "    * **El gobierno en turno:** El resultado de las elecciones influirá en la gobernabilidad del gobierno de turno para el periodo 2022-2026.  La oposición buscará obtener mayorías en las comunas para contrarrestar el poder del gobierno.\n",
            "    * **El nuevo proceso constituyente:** El resultado del nuevo proceso constituyente, si es que se ha completado para entonces, tendrá un impacto en el discurso político y las prioridades de los candidatos.  Las propuestas en materia de descentralización y autonomía municipal serán claves.\n",
            "    * **La situación económica:** El estado de la economía chilena, incluyendo la inflación y el crecimiento, influirá en las preocupaciones de los votantes y en las propuestas de los candidatos.\n",
            "    * **La polarización política:**  Chile sigue experimentando una alta polarización política, lo que probablemente se reflejará en las campañas electorales y en la competencia entre los candidatos.\n",
            "\n",
            "* **Expectativas:** Se espera una alta participación ciudadana, aunque esto dependerá de diversos factores, incluyendo el interés generado por las campañas y la percepción de la importancia de las elecciones municipales.\n",
            "\n",
            "En resumen, mientras que la información específica sobre candidatos y plataformas políticas aún no está disponible, las elecciones municipales de 2024 en Chile serán cruciales para la configuración política del país a nivel local y tendrán implicaciones para el gobierno central.  Para obtener información actualizada, se recomienda seguir de cerca las noticias políticas chilenas y las publicaciones del Servel a medida que se acerque la fecha de las elecciones.\n",
            "\n"
          ]
        }
      ]
    },
    {
      "cell_type": "markdown",
      "source": [
        "## **Retrieval Augmented Generation (RAG) 🔎📖**\n",
        "\n",
        "**Retrieval Augmented Generation (RAG)** es una técnica para **ampliar el conocimiento** de los modelos de lenguaje grandes (LLMs) con **datos adicionales**, usualmente provenientes de **fuentes externas**. Si bien podemos hacer RAG con cualquier tipo de información externa, para esta sección nos concentraremos en hacer RAG sobre **documentos PDF**. En otras palabras, estaremos **nutriendo a nuestro LLM** con la información contenida en uno o más **documentos con extensión .pdf**.\n",
        "\n",
        "<center>\n",
        "<img src='https://raw.githubusercontent.com/MDS7202/MDS7202/main/recursos/2024-01//LLM/rag-framework.webp' width=450/>\n",
        "</center>\n",
        "\n",
        "### **¿Cómo funciona?**\n",
        "\n",
        "La idea principal de esta solución es **responder la pregunta del usuario usando sólo los fragmentos de texto relevantes** para la pregunta en cuestión.\n",
        "\n",
        "Con esto en consideración, para implementar una solución RAG sobre documentos PDF debemos pasar por 2 grandes etapas:\n",
        "\n",
        "**1. Indexing**: Es el proceso por el cual **transformamos nuestros documentos** (.pdf) a **representaciones vectoriales**. Este es un paso que **se realiza sólo una vez**, pero fudamental para recuperar los fragmentos de texto relevantes.\n",
        "\n",
        " A su vez, para indexar un documento es necesario pasar por los siguientes pasos:\n",
        " - **Load**: **Ingesta del documento** al ambiente de trabajo (e.g: lectura y almacenamiento en strings).\n",
        " - **Split**: **Separación del documento en chunks de texto**. Chunks muy grandes pueden diluir la información necesaria para responder, chunks muy chicos pueden inducir a que se pierda el contexto.\n",
        " - **Embed**: Cada uno de los **chunks generados se transforman en representaciones vectoriales**, los cuales tienen la capacidad de almacenar la semántica, sintaxis y el contexto del chunk. Para esto, se utilizan modelos de lenguaje especializados en este tipo de transformaciones.\n",
        " - **Store**: Con los documentos vectorizados, **se almacenan estas representaciones** en una *vector store*.\n",
        "\n",
        "<center>\n",
        "<img src='https://python.langchain.com/assets/images/rag_indexing-8160f90a90a33253d0154659cf7d453f.png' width=700/>\n",
        "</center>\n",
        "\n",
        "**2. Retrieval and Generation**: Es el proceso en la que proporcionamos información al LLM para que responda de manera acorde. Consta de las siguientes etapas:\n",
        "- **Retrieve**: Proceso por el cual **se buscan los *top k* chunks más relevantes a la pregunta**. Para lograr esto, se utilizan técnicas de recuperación de información.\n",
        "- **Generate**: **Se entregan los *top k*** chunks al LLM y **se responde la pregunta** del usuario.\n",
        "\n",
        "<center>\n",
        "<img src='https://python.langchain.com/assets/images/rag_retrieval_generation-1046a4668d6bb08786ef73c56d4f228a.png' width=700/>\n",
        "</center>\n",
        "\n",
        "Ya que conocemos el funcionamiento básico de una solución RAG, pasemos a ilustrar esto con un ejemplo. Para esto, construiremos un RAG a partir del  [Informe de las Elecciones Municipales 2024](https://www.decidechile.cl/informes/informe-municipales-2024/) realizado por [Decide Chile](https://www.decidechile.cl/).\n",
        "\n",
        "Primero instalamos las librerias necesarias:"
      ],
      "metadata": {
        "id": "xqKB-WtMfQsx"
      }
    },
    {
      "cell_type": "code",
      "source": [
        "%pip install --upgrade --quiet faiss-cpu langchain_community pypdf"
      ],
      "metadata": {
        "id": "1nzNs8xCfRuD",
        "colab": {
          "base_uri": "https://localhost:8080/"
        },
        "outputId": "eda2aaec-f94f-4e7e-8dcc-16a4c14223eb"
      },
      "execution_count": 10,
      "outputs": [
        {
          "output_type": "stream",
          "name": "stdout",
          "text": [
            "\u001b[2K   \u001b[90m━━━━━━━━━━━━━━━━━━━━━━━━━━━━━━━━━━━━━━━━\u001b[0m \u001b[32m27.5/27.5 MB\u001b[0m \u001b[31m58.5 MB/s\u001b[0m eta \u001b[36m0:00:00\u001b[0m\n",
            "\u001b[2K   \u001b[90m━━━━━━━━━━━━━━━━━━━━━━━━━━━━━━━━━━━━━━━━\u001b[0m \u001b[32m298.0/298.0 kB\u001b[0m \u001b[31m18.9 MB/s\u001b[0m eta \u001b[36m0:00:00\u001b[0m\n",
            "\u001b[?25h"
          ]
        }
      ]
    },
    {
      "cell_type": "markdown",
      "metadata": {
        "id": "b0VF5pRghDSr"
      },
      "source": [
        "### **Indexing**\n",
        "\n",
        "Recordando los pasos descritos al principio de esta sección, la primera tarea para implementar una solución RAG es **indexar los documentos**.  "
      ]
    },
    {
      "cell_type": "markdown",
      "metadata": {
        "id": "qnzUiZDqggNg"
      },
      "source": [
        "#### **Load**"
      ]
    },
    {
      "cell_type": "markdown",
      "metadata": {
        "id": "eBHdPSAThBB0"
      },
      "source": [
        "Ya que nuestro documento es de extensión .pdf, comenzaremos **ingestando el documento** usando `PyPDFLoader` (pueden consultar más loaders disponibles en la siguiente [página](https://python.langchain.com/docs/integrations/document_loaders/)):"
      ]
    },
    {
      "cell_type": "code",
      "execution_count": 11,
      "metadata": {
        "colab": {
          "base_uri": "https://localhost:8080/"
        },
        "id": "vUvL_5GflzJz",
        "outputId": "2af63856-4b0c-4ac9-f189-e283850e67a6"
      },
      "outputs": [
        {
          "output_type": "execute_result",
          "data": {
            "text/plain": [
              "[Document(metadata={'source': 'https://gitlab.com/sebatinoco/datos/-/raw/main/Informe-DecideChile-Municipales-2024.pdf?inline=false', 'page': 0}, page_content='Elecciones Municipales 2024\\nwww.decidechile.cl\\nAnálisis de los resultados de los comicios del \\n26 y 27 de octubre 2024 en Chile.\\nOCTUBRE, 2024'),\n",
              " Document(metadata={'source': 'https://gitlab.com/sebatinoco/datos/-/raw/main/Informe-DecideChile-Municipales-2024.pdf?inline=false', 'page': 1}, page_content='#MUNICIPALES2024\\nINFORME IV -MUNICIPALES 2024\\n•Alcaldes-Resultados-Los más y los menos votados-Financiamiento-Análisis:-Género y rango etario-Población gobernada-Comunas gobernadas-Transición de votos-General\\n2INTRODUCCIÓN> GOBERNADORES > ALCALDES > CNCEJALES > CONSEJEROS > EL DÍA DESPUÉS\\nContenido•Introducción-Participación-Análisis-Oficialismo-Oposición-Candidatos•Gobernadores-Resultados-Los más y los menos votados-Financiamiento-Análisis:-Género y rango etario-General\\n•Concejales-Resultados-Los más y los menos votados -Análisis\\n•Consejeros regionales-Resultados-Los más y los menos votados -Análisis'),\n",
              " Document(metadata={'source': 'https://gitlab.com/sebatinoco/datos/-/raw/main/Informe-DecideChile-Municipales-2024.pdf?inline=false', 'page': 2}, page_content='INFORME IV -MUNICIPALES 2024\\nIntroducciónMUNICIPALES 2024\\n-Elecciones Municipales 2024-Participación-Análisis-Oficialismo-Oposición-Candidatos'),\n",
              " Document(metadata={'source': 'https://gitlab.com/sebatinoco/datos/-/raw/main/Informe-DecideChile-Municipales-2024.pdf?inline=false', 'page': 3}, page_content='#MUNICIPALES2024\\nINFORME IV -MUNICIPALES 2024 4\\nElecciones Municipales 202426 y 27 de octubre\\nGobernadores Regionales•16 electos, 1 por región.•101 candidatos.•Es electo el candidato a gobernador regional que logra un 40% de los votos válidamente emitidos.•Si ningún candidato logra el 40%, hay una segunda vuelta entre los dos más votados.•La segunda vuelta será el domingo 24 de noviembre de 2024.\\nAlcaldes•345 electos*, 1 por comuna, no hay segunda vuelta.•1.573 candidatos.\\nConcejales•2.256 electos entre los 345 municipios.•13.847 candidatos.•N.º de concejales electos varía entre 6, 8 y 10, según el número de habitantes de la comuna.\\nConsejeros Regionales•302 electos en 16 regiones.•2.515 candidatos.•N.º de consejeros regionales electos varía entre 2 y 11, según el número de habitantes de la circunscripción provincial.\\n*La comuna de La Antártica es representada por el municipio de Cabo de Hornos. \\nINTRODUCCIÓN> GOBERNADORES > ALCALDES > CONCEJALES > CONSEJEROS'),\n",
              " Document(metadata={'source': 'https://gitlab.com/sebatinoco/datos/-/raw/main/Informe-DecideChile-Municipales-2024.pdf?inline=false', 'page': 4}, page_content='#MUNICIPALES2024\\nINFORME IV -MUNICIPALES 2024 5\\n•La participación en las elecciones municipales de 2024 llegó a un notable 84,9%, convirtiéndose en una de las más altas desde 1989. No se veía un nivel de participación tan elevado en comicios municipales desde 1992.•Este aumento considerable es atribuible principalmente al voto obligatorio y la inscripción automática, que, aunque implementados previamente, exhibieron su impacto notoriamente también en esta elección. •Esta cifra muestra una alta participación en comparación con elecciones anteriores bajo el sistema de voto voluntario y es levemente superior incluso a eventos recientes con voto obligatorio, consolidando la efectividad de estas medidas en aumentar la participación electoral.\\nEvolución de la ParticipaciónElecciones 1989 –2024\\nINTRODUCCIÓN> GOBERNADORES > ALCALDES > CONCEJALES > CONSEJEROS\\nFuente: Este gráfico se ha elaborado con datos proporcionados por el Servel.\\n@DecideChile'),\n",
              " Document(metadata={'source': 'https://gitlab.com/sebatinoco/datos/-/raw/main/Informe-DecideChile-Municipales-2024.pdf?inline=false', 'page': 5}, page_content='#MUNICIPALES2024\\nINFORME IV -MUNICIPALES 2024 6\\n•De manera general, la distribución de la participación fue prácticamente idéntica a la observada en el último Plebiscito de Salida de 2023.•En 15 de las 16 regiones, la variación en la participación fue menor a un punto porcentual, con la única excepción de Aysén, donde se registró un aumento de 1,23 puntos porcentuales.•La Región Metropolitana registró una participación del 83,9%, mostrando una ligera disminución de solo 0,4 puntos porcentuales. Junto con Maule fueron las únicas regiones que bajaron su participación, aunque de forma casi despreciable.\\nParticipación por RegiónComparación 2023–2024\\nINTRODUCCIÓN> GOBERNADORES > ALCALDES > CONCEJALES > CONSEJEROS\\nFuente: Este gráfico se ha elaborado con datos proporcionados por el Servel.\\n@DecideChile'),\n",
              " Document(metadata={'source': 'https://gitlab.com/sebatinoco/datos/-/raw/main/Informe-DecideChile-Municipales-2024.pdf?inline=false', 'page': 6}, page_content='#MUNICIPALES2024\\nINFORME IV -MUNICIPALES 2024 7\\n•Entre 2016 y 2024, se observa un incremento continuo en la cantidad de votantes. En 2016, votaron aproximadamente 4,9 millones de personas, mientras que en 2021, esta cifra aumentó a 6,5 millones. En 2024, se observa un salto significativo, con más de 13,1 millones de votantes.•La elección de 2024 destaca por un aumento drástico en la participación. Este aumento coincide con la implementación de la inscripción automática y voto obligatorio, evidenciando el impacto directo de esta medida en la movilización de los votantes. \\nNúmero de votantes en las elecciones municipalesElecciones 2016, 2021 y 2024\\nINTRODUCCIÓN> GOBERNADORES > ALCALDES > CONCEJALES > CONSEJEROS\\nFuente: Este gráfico se ha elaborado con datos proporcionados por el Servel.\\n@DecideChile'),\n",
              " Document(metadata={'source': 'https://gitlab.com/sebatinoco/datos/-/raw/main/Informe-DecideChile-Municipales-2024.pdf?inline=false', 'page': 7}, page_content='#MUNICIPALES2024\\nINFORME IV -MUNICIPALES 2024 8\\n•En la elección de Consejeros Regionales una de cada cuatro papeletas escrutadas no marcaba una preferencia clara. Casi el doble que en la elección de 2021.•Uno de cada cinco votos en las urnas de Concejales fueron nulos o blancos. En 2021 tan solo habían sido un 5,74%. •Los votos nulos y blancos en la elección de Gobernador pueden ser un factor importante en la segunda vuelta.•En la elección de Alcaldes es donde más subieron proporcionalmente los votos nulos y blancos (460%).\\nNulos y BlancosComparación 2021–2024\\nINTRODUCCIÓN> GOBERNADORES > ALCALDES > CONCEJALES > CONSEJEROS\\nFuente: Este gráfico se ha elaborado con datos proporcionados por el Servel.\\n@DecideChile'),\n",
              " Document(metadata={'source': 'https://gitlab.com/sebatinoco/datos/-/raw/main/Informe-DecideChile-Municipales-2024.pdf?inline=false', 'page': 8}, page_content='#MUNICIPALES2024\\nINFORME IV -MUNICIPALES 2024 9\\n•La participación de las mujeres en los tres grupos etarios en la elección municipal del 2024 fue muy similar a la del plebiscito de salida 2023.•En los hombres en cambio hubo pequeñas diferencias. Mientras el 94% de los menores de 35 años votaron el 2023, esta vez fue solo el 90,1%. En los mayores de 54 años, la participación cayo de 77% a 73,7%. \\nTasa de participaciónModelo por género y edad\\nINTRODUCCIÓN> GOBERNADORES > ALCALDES > CONCEJALES > CONSEJEROS\\nFuente: Este gráfico se ha elaborado usando datos del Servel. El análisis sigue los métodos descritos en el libro “Los Dos Chiles”, de los fundadores de DecideChile.\\n@DecideChile'),\n",
              " Document(metadata={'source': 'https://gitlab.com/sebatinoco/datos/-/raw/main/Informe-DecideChile-Municipales-2024.pdf?inline=false', 'page': 9}, page_content='#MUNICIPALES2024\\nINFORME IV -MUNICIPALES 2024 10\\nAnálisis: OficialismoElecciones Municipales 2024\\nGobernadores•El oficialismo ganó 4 gobernadores regionales en primera vuelta: -Tarapacá-Ñuble-Los Ríos-Magallanes•Delas 11 regiones donde habrá segunda vuelta, una será seguro del oficialismo (Antofagasta), pues van dos candidatos de centro izquierda.•El oficialismo, con una muy alta probabilidad, perderá Arica, Coquimbo, Maule, Biobío. En todas ellas los votos que obtuvieron los candidatos de derecha en la primera vuelta son mayores que los de la centro izquierda.•El oficialismo enfrenta una gran competencia en la segunda vuelta de Valparaíso y Metropolitana. La probabilidad de ganar es levemente mayor en Valparaíso.\\nAlcaldes•El oficialismo obtuvo 111 alcaldes, una notoria caída respecto a los 150 que obtuvieron en la elección municipal del 2021.•Resultado mixto: pierde algunas comunas emblemáticas como Santiago y Ñuñoa, pero retiene otras como Maipú y Viña del Mar.•Pierde 28 alcaldías en comunas con menos de 50 mil inscritos y 11 en las comunas con más de 50 mil inscritos. Estas últimas, un total de 82, tienen el 72% de los inscritos.•El despliegue de los alcaldes electos será clave para la segunda vuelta de gobernadores.\\nConcejales•El pacto más votado fue15,1% con los partidos del PS, PPD y la DC, mientras que el pacto del FA y PC sacó el 14%.•Juntos, ambos bloques son el 29,1% de los votos, 3,1 puntos más de lo que obtuvo el presidente Gabriel Boricen primera vuelta (25,8%) del 2021, y 4,7 puntos menos que ambos pactos en la elección de diputados del 2021. Cabe considerar que las elecciones del 2021 fueron con voto voluntario.•El partido más votado del oficialismo ampliado fue el Frente Amplio con el 7,2%, seguido por el PC con 6,2% y después el PS con el 6,1%. \\nINTRODUCCIÓN> GOBERNADORES > ALCALDES > CONCEJALES > CONSEJEROS'),\n",
              " Document(metadata={'source': 'https://gitlab.com/sebatinoco/datos/-/raw/main/Informe-DecideChile-Municipales-2024.pdf?inline=false', 'page': 10}, page_content='#MUNICIPALES2024\\nINFORME IV -MUNICIPALES 2024 11\\nAnálisis: OposiciónElecciones Municipales 2024\\nGobernadores•La oposición eligió en primera vuelta a 1 gobernador regional: Marcelo Santana (UDI) en Aysén. El 2021 solo eligió 1 gobernador,  en segunda vuelta en la Araucanía.•En las 11 regiones donde habrá segunda vuelta, la derecha tiene alta probabilidad de triunfo en 4: Arica, Coquimbo, Maule y Biobío, donde sus votos en la primera vuelta superaron a los de la centroizquierda. Además, en Los Lagos compiten dos candidatos de derecha, asegurando que esta región quede en manos de la oposición.•Tiene la posibilidad de ganar en Valparaíso y la Metropolitana, pero dependerá de la campaña y la estrategia de acercarse al centro. Eso será más fácil para Francisco Orrego en la Metropolitana que para María José Hoffman en Valparaíso. \\nAlcaldes•La oposición aumentó su cantidad de alcaldes de 87 a 122, obteniendo un crecimiento de un 40%.•Este aumento es mayor en las comunas con menos de 50 mil inscritos, pasando de 72 a 94. •La población gobernada aumenta de 4,2 millones a 6,9 millones de personas.•Republicanos (REP) ganó 8 alcaldías, y solo una fue en una comuna con más de 50 mil habitantes. •El Partido Social Cristiano (PSC) consiguió un alcalde en Concepción. \\nConcejales•El partido más votado en los concejales es Renovación Nacional (RN), con un 15,5%, seguido por Republicanos con el 13,8% y el subpactode la Unión Demócrata Independiente (UDI) junto a Evópoli(EVO) con 12,6%. Si sumamos los votos de estos partidos en concejales, dan el 41,9%.•Incluyendo otras fuerzas políticas de centroderecha como el PSC y Partido de la Gente (PDG), la oposición totaliza el 48,5% de los votos en concejales. •Este es un gran triunfo de la derecha comparado con el 2021 , donde obtuvo el 33,1% de los concejales.\\nINTRODUCCIÓN> GOBERNADORES > ALCALDES > CONCEJALES > CONSEJEROS'),\n",
              " Document(metadata={'source': 'https://gitlab.com/sebatinoco/datos/-/raw/main/Informe-DecideChile-Municipales-2024.pdf?inline=false', 'page': 11}, page_content='#MUNICIPALES2024\\nINFORME IV -MUNICIPALES 2024 12\\nAnálisis: CandidatosGanadores y Perdedores\\nOficialismo•Tomás Vodanovic: Obtuvo la mayor cantidad de votos a nivel nacional con 227.693 votos, convirtiéndose en la figura municipal más votada de la historia (voto obligatorio). Fue reelecto con un contundente 70% de los votos.•Macarena Ripamonti: Consiguió su reelección con un sólido 51,6% de los votos, a pesar de enfrentar el apoyo unificado de la oposición hacia su contrincante, Iván Poduje.•Camila Nieto: Emergió como candidata del oficialismo al ganar con un 27,8% de los votos, destacándose en una contienda competitiva.•Fares Jadue: Siguiendo los pasos de Daniel Jadue, logró una victoria con el 35,8% de los votos, consolidando su posición en el panorama político local.\\nOposición•Mario Desbordes: Marcó su regreso al ruedo político al vencer a la actual alcaldesa comunista con un 51,1% de los votos, demostrando una notable resurrección de su carrera política.•Sebastián Sichel: Ganó la alcaldía de Ñuñoa al desplazar al Frente Amplio con el 46,7% de los votos, mostrando un cambio de preferencias en esta comuna clave.•Jaime Bellolio: Logró un triunfo contundente con el 59,4% de los votos, superando incluso el porcentaje obtenido por la alcaldesa anterior de su sector, Evelyn Matthei.•Agustín Iglesias: Se alzó con la victoria en Independencia con un impresionante 45,1% de los votos, arrebatando la comuna al partido oficialista.•Daniel Reyes: El delfín de Rodolfo Carter, obtuvo una victoria decisiva con el 52,6% de los votos.\\nIndependientes•Catalina San Martín: La candidata independiente superó significativamente a Marcela Cubillos, cuya candidatura se vio perjudicada por recientes controversias relacionadas con su remuneración en la Universidad San Sebastián. San Martín capitalizó efectivamente el descontento de los votantes para asegurar su victoria.•Matías Toledo: Obtuvo un impresionante 51,53% de los votos, derrotando contundentemente a Karla Rubilar, de Chile Vamos, en Puente Alto. Este triunfo es particularmente notable, ya que representa un cambio político significativo después de 24 años de dominio de Renovación Nacional en la comuna.\\nINTRODUCCIÓN> GOBERNADORES > ALCALDES > CONCEJALES > CONSEJEROS\\n'),\n",
              " Document(metadata={'source': 'https://gitlab.com/sebatinoco/datos/-/raw/main/Informe-DecideChile-Municipales-2024.pdf?inline=false', 'page': 12}, page_content='INFORME IV -MUNICIPALES 2024\\n-Simbología-Resultados:-1ª vuelta-2ª vuelta-Los más y menos votados-Financiamiento-Análisis: -Votación por género y rango etario-General\\nGobernadoresMUNICIPALES 2024'),\n",
              " Document(metadata={'source': 'https://gitlab.com/sebatinoco/datos/-/raw/main/Informe-DecideChile-Municipales-2024.pdf?inline=false', 'page': 13}, page_content='#MUNICIPALES2024\\nINFORME IV -MUNICIPALES 2024 14\\nSimbología ElectoralElecciones Municipales 2024PACTOS\\nPARTIDOS\\nTu Región RadicalTRR\\nDemócratasDEM\\nPartido de la GentePDG\\nPor Chile y sus RegionesPCR AmarillosAPC\\nPor Un Chile MejorPCM\\nChile VamosCHV\\nRepublicanosREP\\nPartido Social CristianoPSC\\nC. IndependienteIND\\nOtrosO\\nPDG\\nCHV\\nREP\\nPSC\\nIND\\nO\\n-Partido Socialista (PS)-Partido por la Democracia (PPD)-Frente Amplio (FA)-Partido Comunista (PC)-Acción Humanista (AH)-Independiente (IND)\\n-Democracia Cristiana (DC)-Independiente (IND)\\n-Amarillos por Chile (APC)\\n-Partido Radical (PR)-Independiente (IND)\\n-Demócratas (DEM)-Independiente (IND)\\n-Partido de la Gente (PDG)-Independiente (IND)\\n-Evópoli(EVO)-Renovación Nacional (RN)-Unión Demócrata Independiente (UDI)-Independiente (IND)\\n-Partido Republicano (REP)-Independiente (IND)\\n-Partido Social Cristiano (PSC)-Independiente (IND)\\n-Regiones Verdes Liberales-Izquierda Ecologista Popular-Ecologistas, Animalistas e Independientes\\n-Independiente (IND)\\n-Federación Regionalista Verde Social (FRVS)-Partido Liberal (PL)-Partido Igualdad (PI)-Partido Popular (PP)-Partido Humanista (PH)-Alianza Verde Popular (AVP)-Independiente (IND)\\nDEM\\nAPCPCR\\nPCM\\nTRR\\nINTRODUCCIÓN > GOBERNADORES> ALCALDES > CONCEJALES > CONSEJEROS'),\n",
              " Document(metadata={'source': 'https://gitlab.com/sebatinoco/datos/-/raw/main/Informe-DecideChile-Municipales-2024.pdf?inline=false', 'page': 14}, page_content='#MUNICIPALES2024\\nINFORME IV -MUNICIPALES 2024 15\\nResultado General: Gobernadores RegionalesElectos por Pacto\\nINTRODUCCIÓN > GOBERNADORES> ALCALDES > CONCEJALES > CONSEJEROS\\n'),\n",
              " Document(metadata={'source': 'https://gitlab.com/sebatinoco/datos/-/raw/main/Informe-DecideChile-Municipales-2024.pdf?inline=false', 'page': 15}, page_content='#MUNICIPALES2024\\nINFORME IV -MUNICIPALES 2024 16\\n•En la primera vuelta electoral, el oficialismo logró un significativo éxito asegurando cuatro gobernaciones regionales: tres de ellas fueron ganadas por candidatos del pacto \"Por Chile y Sus Regiones\" y una por un representante de \"Tu Región Radical\".•Por su parte, Chile Vamos destacó al asegurar una gobernación con un impresionante 54.4% de los votos, en la región de Aysén. El porcentaje más alto registrado en esta elección para un gobernador regional.\\nElectos en 1ª vueltaGobernadores Regionales\\nINTRODUCCIÓN > GOBERNADORES> ALCALDES > CONCEJALES > CONSEJEROS\\n@DecideChile'),\n",
              " Document(metadata={'source': 'https://gitlab.com/sebatinoco/datos/-/raw/main/Informe-DecideChile-Municipales-2024.pdf?inline=false', 'page': 16}, page_content='#MUNICIPALES2024\\nINFORME IV -MUNICIPALES 2024\\nPasan a 2ª VueltaGobernadores Regionales\\nINTRODUCCIÓN > GOBERNADORES> ALCALDES > CONCEJALES > CONSEJEROS\\n@DecideChile\\n17'),\n",
              " Document(metadata={'source': 'https://gitlab.com/sebatinoco/datos/-/raw/main/Informe-DecideChile-Municipales-2024.pdf?inline=false', 'page': 17}, page_content='#MUNICIPALES2024\\nINFORME IV -MUNICIPALES 2024\\nCandidatos con mayor porcentaje de votosGobernadores Regionales\\nINTRODUCCIÓN > GOBERNADORES> ALCALDES > CONCEJALES > CONSEJEROS\\n18'),\n",
              " Document(metadata={'source': 'https://gitlab.com/sebatinoco/datos/-/raw/main/Informe-DecideChile-Municipales-2024.pdf?inline=false', 'page': 18}, page_content='#MUNICIPALES2024\\nINFORME IV -MUNICIPALES 2024\\nCandidatos con menor porcentaje de votosGobernadores Regionales\\nINTRODUCCIÓN > GOBERNADORES> ALCALDES > CONCEJALES > CONSEJEROS19'),\n",
              " Document(metadata={'source': 'https://gitlab.com/sebatinoco/datos/-/raw/main/Informe-DecideChile-Municipales-2024.pdf?inline=false', 'page': 19}, page_content='#MUNICIPALES2024\\nINFORME IV -MUNICIPALES 2024 20\\n•Los tres candidatos a Gobernador de la Región Metropolitana que recibieron el mayor financiamiento también fueron los más votados en su territorio. De hecho, Claudio Orrego (IND) y Francisco Orrego (CHV), los dos primeros de la lista, avanzaron a segunda vuelta.•El top 6 se completa con otros tres candidatos de una misma región: Valparaíso. Pero en este caso, el orden de financiamiento no coincide con el de los votos. Hoffmann, que quedó segunda en la votación, es la que más aportes recibió.•Chile Vamos es el pacto que más candidaturas presenta en este top 10, con 5. Se suman dos candidatos de Republicanos, dos del pacto Por Chile y sus Regiones y un independiente que es Claudio Orrego, apoyado por la centroizquierda.\\nCandidatos con más aportes de campañaFinanciamiento del fisco, partidos y personas\\nINTRODUCCIÓN > GOBERNADORES> ALCALDES > CONCEJALES > CONSEJEROS\\n@DecideChile\\nFuente: Este gráfico se ha elaborado con datos proporcionados por el Servel.\\n'),\n",
              " Document(metadata={'source': 'https://gitlab.com/sebatinoco/datos/-/raw/main/Informe-DecideChile-Municipales-2024.pdf?inline=false', 'page': 20}, page_content='#MUNICIPALES2024\\nINFORME IV -MUNICIPALES 2024 21\\n•Los candidatos a gobernadores de la derecha obtuvieron el 30,8% de los votos de mujeres entre 35 y 54 años, mientras que la centro derecha obtuvo el 23,2% de esos votantes.•En cambio, en los hombres jóvenes (18-34 años) la centro derecha obtuvo el 33,5% de sus votos y 32% de los hombres 35 a 54 años. •A la centro derecha le fue mejor entre los hombres que entre las mujeres, mientras que a la derecha le fue mejor en los mayores de 34 que en los menores de 35.•Los independientes y el oficialismo contaron con más apoyo de las mujeres que de los hombres. En ambos casos las votaciones fueron muy similares entre grupos etarios.\\nVotación por pactoGénero y rango etario\\nINTRODUCCIÓN > GOBERNADORES> ALCALDES > CONCEJALES > CONSEJEROS\\nDerecha: Republicanos –Partido de la Gente –Partido Social Cristiano / Centro derecha: Chile Vamos –Amarillos -Demócratas / Oficialismo: Chile y sus Regiones -Por un Chile Mejor –Tu Región Radical / Izquierda: Regiones Verdes y Liberales -Izquierda Ecologista -Ecologista y Animalista.\\n@DecideChile\\nFuente: Este gráfico se ha elaborado con datos proporcionados por el Servel.\\n'),\n",
              " Document(metadata={'source': 'https://gitlab.com/sebatinoco/datos/-/raw/main/Informe-DecideChile-Municipales-2024.pdf?inline=false', 'page': 21}, page_content='#MUNICIPALES2024\\nINFORME IV -MUNICIPALES 2024 22\\n•Los nulos y blancos fueron un17,1% en los hombres y un13,3% en las mujeres. Esto representa una caída respecto a los observado en la elección de mayo del 2023.•En ambos grupos los nulos y blancos fueron mayores en los jóvenes, un 17% de las mujeres de ese grupo votó nulo o blanco y un 19% de los hombres 18 a 34 años. •En las mujeres de más de 34 años, entre un 11 y 12% no marcaron una preferencia clara en la papeleta, mientras que en los hombres entre un 16 y 18% votó nulo o blanco. En ambos géneros, fueron cifras más bajas que las de los jóvenes.\\nNulos y BlancosGénero y rango etario\\nINTRODUCCIÓN > GOBERNADORES> ALCALDES > CONCEJALES > CONSEJEROS\\n@DecideChile\\nFuente: Este gráfico se ha elaborado usando datos del Servel. El análisis sigue los métodos descritos en el libro “Los Dos Chiles”, de los fundadores de DecideChile.\\n'),\n",
              " Document(metadata={'source': 'https://gitlab.com/sebatinoco/datos/-/raw/main/Informe-DecideChile-Municipales-2024.pdf?inline=false', 'page': 22}, page_content=\"#MUNICIPALES2024\\nINFORME IV -MUNICIPALES 2024 23\\n•Sumando todos los votos de derecha y centro derecha, esta tiene más del 50% en las regiones de Arica, Biobío, O'Higgins, Coquimbo y Maule. En todas ellas, es favorita para ganar en segunda vuelta.•En las regiones de Araucanía y Atacama tiene 45% y menos, por lo tanto, la izquierda tiene la mayor probabilidad de ganar. Esto, considerando que en el caso de la Araucanía el candidato si bien es independiente, es ex DC.•En Valparaíso y la Metropolitana vemos que la elección será más estrecha y cualquiera de los candidatos puede ganar. •En la región de Los Lagos compiten 2 candidatos de derecha y en el caso de Antofagasta, dos oficialistas.\\nSuma de los votos de derecha en 1ª vueltaAnálisis regional de preferencias políticas\\nRegiónDerecha (% Primera Vuelta)FavoritoArica 62,0% DerechaAtacama43,4% IzquierdaCoquimbo61,9% DerechaValparaíso48,8% ReñidoMetropolitana48,6% ReñidoO'Higgins53,1% DerechaMaule 52,4% DerechaBiobío 71,5% DerechaLa Araucanía45,0% Independiente\\nINTRODUCCIÓN > GOBERNADORES> ALCALDES > CONCEJALES > CONSEJEROS\\nConsideraciones:Se considera el porcentaje de votos que se obtuvo sumando los pactos de derecha y centro derecha: PDG –PSC –REP –CHV –APC -DEM\\nFuente: Este gráfico se ha elaborado con datos proporcionados por el Servel.\\n\"),\n",
              " Document(metadata={'source': 'https://gitlab.com/sebatinoco/datos/-/raw/main/Informe-DecideChile-Municipales-2024.pdf?inline=false', 'page': 23}, page_content='#MUNICIPALES2024\\nINFORME IV -MUNICIPALES 2024\\n 24\\n•Una buena parte de los votos A Favor del plebiscito 2023 se fueron a votos de derecha: 35,2% a la derecha y 31,5% a centro derecha.•Esa consistencia no se observa en el En Contra, donde los votos se distribuyeron entre todas las alternativas políticas de la elección de gobernador. La mayor proporción fue a Independientes: 21,4%. •Es interesante que un 28,9% de los votos del En Contra del Plebiscito de Salida fueron a nulos, blancos o no votaron en octubre del 2024.•En conclusión, mirando el plebiscito 2023 y la elección de gobernador 2024, el votante del En Contra es mucho más heterogéneo que el votante A Favor. \\nPlebiscito 2023 y Gobernadores 2024¿Adónde se fueron los votos de cada bloque?\\nINTRODUCCIÓN > GOBERNADORES> ALCALDES > CONCEJALES > CONSEJEROS\\nDerecha: Republicanos –Partido de la Gente –Partido Social Cristiano / Centro derecha: Chile Vamos –Amarillos -Demócratas / Oficialismo: Chile y sus Regiones -Por un Chile Mejor –Tu Región Radical / Izquierda: Regiones Verdes y Liberales -Izquierda Ecologista -Ecologista y Animalista.\\nFuente: Este gráfico se ha elaborado usando datos del Servel. El análisis sigue los métodos descritos en el libro “Los Dos Chiles”, de los fundadores de DecideChile.\\n@DecideChile'),\n",
              " Document(metadata={'source': 'https://gitlab.com/sebatinoco/datos/-/raw/main/Informe-DecideChile-Municipales-2024.pdf?inline=false', 'page': 24}, page_content='#MUNICIPALES2024\\nINFORME IV -MUNICIPALES 2024 25\\nAnálisisElección de Gobernadores Regionales\\nOficialismo•El oficialismo podría alcanzar hasta 14 gobernaciones si gana todas las segundas vueltas; sin embargo, proyectamos que, además de los 4 electos en primera vuelta, solo sumaría 2 más, lo que representa una disminución significativa respecto a 2021.•Claudio Orrego no logró ganar en la primera vuelta, un resultado que podría complicar futuras aspiraciones presidenciales del candidato.•El oficialismo enfrenta un desafío significativo en la segunda vuelta en 10 de las 11 regiones, al competir contra candidatos de derecha en una elección que se perfila como un eventual plebiscito al desempeño del Gobierno.•Es muy probable que pierda al menos en 4 regiones, sin embargo, una derrota en Biobío o en la Metropolitana tendrían un impacto político mayor.\\nOposición•La oposición podría ganar hasta 11 gobernaciones si triunfa en todas las segundas vueltas; sin embargo, proyectamos que, además del gobernador electo en Aysén en primera vuelta, lograrían al menos 6 gobernaciones adicionales.•Para la UDI la elección de Valparaíso es sin duda la más importante, dado que una ex secretaria general del partido va a la segunda vuelta. •Para RN ganar la gobernación de la Metropolitana sería un broche de oro al buen desempeño general que tuvieron en la elección del 26 y 27 de octubre.\\nSegunda Vuelta•Las señales de José Antonio Kast y Evelyn Mattheide apoyar de forma conjunta a los candidatos de derecha en esta segunda vuelta jugará un factor en el resultado final.•Un buen desempeño en la segunda vuelta representaría una victoria para la derecha, ya que aseguraría la elección de varios gobernadores, aumentando su influencia política, especialmente considerando que actualmente solo cuentan con un Gobernador Regional.\\nINTRODUCCIÓN > GOBERNADORES> ALCALDES > CONCEJALES > CONSEJEROS\\n'),\n",
              " Document(metadata={'source': 'https://gitlab.com/sebatinoco/datos/-/raw/main/Informe-DecideChile-Municipales-2024.pdf?inline=false', 'page': 25}, page_content='INFORME IV -MUNICIPALES 2024\\n-Simbología-Resultados:-Generales-Comparación 2021 -2024-Los más y menos votados-Financiamiento-Análisis: -Votación por género y rango etario-Población gobernada por pacto-Comunas gobernadas por sector-Transición de votos-General\\nAlcaldesMUNICIPALES 2024'),\n",
              " Document(metadata={'source': 'https://gitlab.com/sebatinoco/datos/-/raw/main/Informe-DecideChile-Municipales-2024.pdf?inline=false', 'page': 26}, page_content='#MUNICIPALES2024\\nINFORME IV -MUNICIPALES 2024 27\\nSimbología ElectoralElecciones Municipales 2024PACTOS\\nPARTIDOS\\nCentro DemocráticoCDE\\nContigo Chile MejorCCM Partido Social CristianoPSC\\nPartido de la GentePDG\\nChile VamosCHV\\nRepublicanosREP\\nC. IndependienteIND\\nOtrosO\\nTTC\\nCDE\\nCCM PSC\\nPDG\\nCHV\\nREP\\nIND\\nO\\n-Federación Regionalista Verde Social-Frente Amplio-Acción Humanista-Partido Comunista-Democracia Cristiana-Partido Liberal-Partido por la Democracia-Partido Radical-Partido Socialista-Independiente-Partido Socialista-Partido de la Gente-Independiente\\n-Partido Social Cristiano-Independiente\\n-Demócratas-Amarillos por Chile-Independientes\\n-Evópoli-Renovación Nacional-UDI-Independiente-Partido Republicanos-Independiente\\n-Izquierda de Trabajadores e Independientes-Izquierda Ecologista Popular-Ecologistas, Animalistas e Independientes\\n-Independiente\\n-Trabajadores Revolucionarios-Partido Liberal-Partido Igualdad-Partido Popular-Partido Humanista-Alianza Verde Popular-Independiente\\nINTRODUCCIÓN > GOBERNADORES > ALCALDES> CONCEJALES > CONSEJEROS'),\n",
              " Document(metadata={'source': 'https://gitlab.com/sebatinoco/datos/-/raw/main/Informe-DecideChile-Municipales-2024.pdf?inline=false', 'page': 27}, page_content='#MUNICIPALES2024\\nINFORME IV -MUNICIPALES 2024\\nResultado General: AlcaldesElectos por Pacto\\nINTRODUCCIÓN > GOBERNADORES > ALCALDES> CONCEJALES > CONSEJEROS\\n28'),\n",
              " Document(metadata={'source': 'https://gitlab.com/sebatinoco/datos/-/raw/main/Informe-DecideChile-Municipales-2024.pdf?inline=false', 'page': 28}, page_content='#MUNICIPALES2024\\nINFORME IV -MUNICIPALES 2024 29\\n•Contigo Chile Mejor sufrió una fuerte derrota al perder 39 alcaldías.•Centro Democrático y el Partido de la Gente no lograron obtener ninguna alcaldía.•Chile Vamos obtuvo una victoria al aumentar sus alcaldías de 87 a 122.•El Partido Social Cristiano consiguió su primera alcaldía en su debut en elecciones municipales.•Republicanos logró 8 alcaldías por primera vez.•La cantidad de alcaldes independientes electos es similar a la de 2021, con 103, frente a los 105 de la elección anterior.\\nAlcaldesComparación pactos: 2021 -2024\\nINTRODUCCIÓN > GOBERNADORES > ALCALDES> CONCEJALES > CONSEJEROS\\nHomologación de Pactos:Pactos 2021 = Pactos 2024Unidad por el Apruebo= Contigo Chile Mejor / Chile Digno, Verde y Soberano = Contigo Chile Mejor / Frente Amplio = Contigo Chile Mejor / Unidos por la Dignidad = Contigo Chile Mejor*El resto de los pactos con candidatos electos en 2021 mantuvieron su nombre y formación en 2024'),\n",
              " Document(metadata={'source': 'https://gitlab.com/sebatinoco/datos/-/raw/main/Informe-DecideChile-Municipales-2024.pdf?inline=false', 'page': 29}, page_content='#MUNICIPALES2024\\nINFORME IV -MUNICIPALES 2024\\nCandidatos con mayor porcentaje de votosAlcaldes\\nINTRODUCCIÓN > GOBERNADORES > ALCALDES> CONCEJALES > CONSEJEROS30'),\n",
              " Document(metadata={'source': 'https://gitlab.com/sebatinoco/datos/-/raw/main/Informe-DecideChile-Municipales-2024.pdf?inline=false', 'page': 30}, page_content='#MUNICIPALES2024\\nINFORME IV -MUNICIPALES 2024\\nCandidatos con menor porcentaje de votosAlcaldes\\nINTRODUCCIÓN > GOBERNADORES > ALCALDES> CONCEJALES > CONSEJEROS\\n31'),\n",
              " Document(metadata={'source': 'https://gitlab.com/sebatinoco/datos/-/raw/main/Informe-DecideChile-Municipales-2024.pdf?inline=false', 'page': 31}, page_content='#MUNICIPALES2024\\nINFORME IV -MUNICIPALES 2024 32\\n•La comuna de Santiago fue un importante foco de financiamiento en estas elecciones. Mario Desbordes, candidato de la derecha (Chile Vamos), lideró ampliamente en recursos recibidos para su campaña, superando en más de 50 millones a su principal contrincante en la comuna, IracíHassler(Contigo Chile Mejor), quien buscaba la reelección.•Entre los 10 candidatos con más financiamiento, cuatro pertenecen al pacto Contigo Chile Mejor y cuatro a Chile Vamos. La lista se completa con la candidata independiente Marcela Cubillos Sigally el candidato Republicano Rafael Camus.\\nCandidatos con más aportes de campañaFinanciamiento del fisco, partidos y personas.\\nINTRODUCCIÓN > GOBERNADORES > ALCALDES> CONCEJALES > CONSEJEROS\\n@DecideChile\\nFuente: Este gráfico se ha elaborado con datos proporcionados por el Servel.\\n'),\n",
              " Document(metadata={'source': 'https://gitlab.com/sebatinoco/datos/-/raw/main/Informe-DecideChile-Municipales-2024.pdf?inline=false', 'page': 32}, page_content='#MUNICIPALES2024\\nINFORME IV -MUNICIPALES 2024 33\\n•Al oficialismo le va mejor en mujeres que en hombres. En las mujeres menores de 35 años, el 33,3% de ellas votó por el oficialismo, comparado con el 29,9% de los hombres. En los mayores de 54 años se observa una diferencia aún mayor, 33,8% versus 27,9%, respectivamente.•Enla votación de los independientes no se percibe diferencia entre género, los grupos etarios que más votaron por estos candidatos son los jóvenes y los mayores de 54 años. •La centro derecha obtiene su mejor votación en el grupo 35 -54 años, con 34,5% en las mujeres y 33,5% en los hombres. Su grupo más débil es el de los jóvenes, con 20,7% en las mujeres y 22,9% en los hombres. \\nVotación por pactoGénero y rango etario\\nINTRODUCCIÓN > GOBERNADORES > ALCALDES> CONCEJALES > CONSEJEROS\\nDerecha: Republicanos –Partido de la Gente –Partido Social Cristiano / Centro derecha: Chile Vamos –Centro Democrático / Oficialismo: Contigo Chile Mejor / Izquierda: Izquierda de Trabajadores -Izquierda Ecologista Popular –Ecologistas y Animalistas\\n@DecideChile\\nFuente: Este gráfico se ha elaborado usando datos del Servel. El análisis sigue los métodos descritos en el libro “Los Dos Chiles”, de los fundadores de DecideChile.\\n'),\n",
              " Document(metadata={'source': 'https://gitlab.com/sebatinoco/datos/-/raw/main/Informe-DecideChile-Municipales-2024.pdf?inline=false', 'page': 33}, page_content='#MUNICIPALES2024\\nINFORME IV -MUNICIPALES 2024 34\\n•Los hombres fueron los que más votos en blanco o nulos emitieron en la elección de alcalde, independiente del rango etario. Uno de cada 10 hombres menores de 35 años y mayores de 54, votó blanco o nulo.•Aunque el grupo con mayor porcentaje es el de hombres mayores de 54 años, si se consideran ambos géneros, son los jóvenes quienes más optaron por el voto nulo o blanco.•Las mujeres entre 35 y 54 años fueron las que menos votaron en blanco o nulo.\\nNulos y BlancosGénero y rango etario\\nINTRODUCCIÓN > GOBERNADORES > ALCALDES> CONCEJALES > CONSEJEROS\\n@DecideChile\\nFuente: Este gráfico se ha elaborado usando datos del Servel. El análisis sigue los métodos descritos en el libro “Los Dos Chiles”, de los fundadores de DecideChile.\\n'),\n",
              " Document(metadata={'source': 'https://gitlab.com/sebatinoco/datos/-/raw/main/Informe-DecideChile-Municipales-2024.pdf?inline=false', 'page': 34}, page_content='#MUNICIPALES2024\\nINFORME IV -MUNICIPALES 2024 35\\n•En términos de población gobernada, el oficialismo (Contigo Chile Mejor) disminuye de 10,2 millones a 7,7 millones, sufriendo una caída de un 24,6%. •La oposición (Chile Vamos) crece de 4,2 millones a 6,9 millones, obteniendo un considerable aumento de 64,2%. •La población gobernada de los independientes se mantiene en 4,8 millones. \\nPoblación gobernada por cada pacto2021 -2024\\nINTRODUCCIÓN > GOBERNADORES > ALCALDES> CONCEJALES > CONSEJEROS\\nHomologación de Pactos: Pactos 2021 = Pactos 2024Unidad por el Apruebo = Contigo Chile Mejor /Chile Digno, Verde y Soberano = Contigo Chile Mejor /Frente Amplio = Contigo Chile Mejor *El resto de los pactos con candidatos electos en 2021 mantuvieron su nombre y formación en 2024.\\n@DecideChile\\nFuente: Este gráfico se ha elaborado con datos proporcionados por el Servel.\\n'),\n",
              " Document(metadata={'source': 'https://gitlab.com/sebatinoco/datos/-/raw/main/Informe-DecideChile-Municipales-2024.pdf?inline=false', 'page': 35}, page_content='#MUNICIPALES2024\\nINFORME IV -MUNICIPALES 2024 36\\n•La centro derecha aumentó en 35 comunas los alcaldes en 2024, comparado con 2021. De ese aumento, 22 fueron en comunas con menos de 50 inscritos y 13 en comunas con más de 50 mil inscritos. Estuvo cerca de duplicar su administración en comunas grandes.•En cambio, los independientes subieron en un alcalde en las comunas más pequeñas (menos de 50 mil) y perdieron 3 de las grandes comunas (más de 50 mil inscritos).•El oficialismo, por su parte, perdió 28 comunas pequeñas y un cuarto de sus comunas grandes (11). \\nComunas gobernadas por sectorSegún número de electores: 2021 -2024\\nINTRODUCCIÓN > GOBERNADORES > ALCALDES> CONCEJALES > CONSEJEROS\\nDerecha: Republicanos –Partido de la Gente –Partido Social Cristiano / Centro derecha: Chile Vamos –Centro Democrático / Oficialismo: Contigo Chile Mejor / Izquierda: Izquierda de Trabajadores -Izquierda Ecologista Popular –Ecologistas y Animalistas\\n@DecideChile\\nFuente: Este gráfico se ha elaborado con datos proporcionados por el Servel.\\n'),\n",
              " Document(metadata={'source': 'https://gitlab.com/sebatinoco/datos/-/raw/main/Informe-DecideChile-Municipales-2024.pdf?inline=false', 'page': 36}, page_content='#MUNICIPALES2024\\nINFORME IV -MUNICIPALES 2024 37\\n•Los votos del oficialismo en alcaldes vinieron en una proporción parecida tanto de votantes de derecha, como de izquierda, como de los blancos, nulos y quienes no votaron de la elección de Constituyentes 2023: 25,5%, 20% y 21,4% respectivamente.•Los votantes de derecha de mayo de 2023 se fueron en mayor proporción a la derecha e independientes que al oficialismo.•Se observa una menor consistencia ideológica en los votantes de alcaldes que los de gobernadores. Los votantes de derecha están más dispersos en esta elección. Interpretamos eso como el “efecto del candidato”, que se vota por quién es la persona más que por un sector determinado.\\nConstituyentes 2023 y Alcaldes 2024¿Adónde se fueron los votos de cada bloque?\\nINTRODUCCIÓN > GOBERNADORES > ALCALDES> CONCEJALES > CONSEJEROS\\n2023: Derecha: Chile Seguro -Republicanos –Partido de la Gente / Izquierda: Independiente -Todo por Chile -Unidos para Chile2024: Derecha: Republicanos –Partido de la Gente –Partido Social Cristiano / Centro derecha: Chile Vamos –Centro Democrático / Oficialismo: Contigo Chile Mejor / Izquierda: Izquierda de Trabajadores -Izquierda Ecologista Popular –Ecologistas y Animalistas\\nFuente: Este gráfico se ha elaborado usando datos del Servel. El análisis sigue los métodos descritos en el libro “Los Dos Chiles”, de los fundadores de DecideChile.\\n@DecideChile'),\n",
              " Document(metadata={'source': 'https://gitlab.com/sebatinoco/datos/-/raw/main/Informe-DecideChile-Municipales-2024.pdf?inline=false', 'page': 37}, page_content='#MUNICIPALES2024\\nINFORME IV -MUNICIPALES 2024 38\\n•De los votantes A Favor en diciembre de 2023 un 21,2% se fue a la centro derecha, al oficialismo un 29,8% y a independientes un 28%. •Con los votantes del En Contra sucedió algo similar: 29,4% fueron a la centro derecha, 21,3% al oficialismo y 26,2% a independientes.•Es interesante que los votos nulos, blancos y quienes no votaron de alcaldes 2024 vienen casi todos del mismo grupo del plebiscito 2023, un 81,3%. Pero un 14,6% viene de los que votaron En Contra y un 6,2% de los que votaron A Favor. •Una lectura es que el votante de En Contra tuvo una mayor proporción de voto castigo en esta elección que el votante A Favor.\\nPlebiscito 2023 y Alcaldes 2024¿Adónde se fueron los votos de cada bloque?\\nINTRODUCCIÓN > GOBERNADORES > ALCALDES> CONCEJALES > CONSEJEROS\\nDerecha: Republicanos –Partido de la Gente –Partido Social Cristiano / Centro derecha: Chile Vamos –Centro Democrático / Oficialismo: Contigo Chile Mejor / Izquierda: Izquierda de Trabajadores -Izquierda Ecologista Popular –Ecologistas y Animalistas\\nFuente: Este gráfico se ha elaborado usando datos del Servel. El análisis sigue los métodos descritos en el libro “Los Dos Chiles”, de los fundadores de DecideChile.\\n@DecideChile'),\n",
              " Document(metadata={'source': 'https://gitlab.com/sebatinoco/datos/-/raw/main/Informe-DecideChile-Municipales-2024.pdf?inline=false', 'page': 38}, page_content='#MUNICIPALES2024\\nINFORME IV -MUNICIPALES 2024 39\\nAnálisisAlcaldes\\nOficialismo•Sufrió una caída importante en los alcaldes, bajando de 150 a 111.•La población gobernada cayó en un 25%, una disminución de casi 3 millones de personas.•Perdió comunas emblemáticas como Santiago y Ñuñoa. Ganó otras como Puente Alto, que aunque el alcalde electo es Independiente, es cercano al sector.•El votante del oficialismo proviene tanto de quienes votaron \"A Favor\" como \"En Contra\" en el plebiscito de 2023, con proporciones bastante similares: 24% y 29,8%, respectivamente.\\nOposición•Fue la gran ganadora en esta elección: subió de 87 a 122 alcaldes, ganando comunas emblemáticas como Santiago, Ñuñoa y Concepción. •Los votantes de derecha y centro derecha muestran perfiles distintos al observar la transición de votos del Plebiscito de Salida de 2023. La centro derecha presenta proporciones similares de votantes de ambas opciones, mientras que la derecha se compone mayormente de quienes votaron \"A Favor\" en ese plebiscito.\\nIndependientes•Los independientes disminuyeron en alcaldías de 105 a 103.•La población gobernada bajo este tipo de alcalde se mantiene en 4,8 millones.•Sus votantes, respecto del Plebiscito de Salida, vienen de los votantes A Favor y En Contra en proporciones muy similares de ambos grupos. •Esto refleja que estos alcaldes tienen votantes heterogéneos.\\nConclusiones•Los independientes, que no van en un pacto político, se consolidaron en las elecciones de alcaldes, gobernando casi el 25% de la población chilena. •La derecha se destacó como la gran ganadora en la elección de alcaldes. Su papel en la segunda vuelta de gobernadores podría ser decisivo en los resultados finales.\\nINTRODUCCIÓN > GOBERNADORES > ALCALDES> CONCEJALES > CONSEJEROS\\n'),\n",
              " Document(metadata={'source': 'https://gitlab.com/sebatinoco/datos/-/raw/main/Informe-DecideChile-Municipales-2024.pdf?inline=false', 'page': 39}, page_content='INFORME IV -MUNICIPALES 2024\\n-Simbología-Resultados:-Generales-Comparación 2021 -2024-Los más y menos votados-Análisis\\nConcejalesMUNICIPALES 2024'),\n",
              " Document(metadata={'source': 'https://gitlab.com/sebatinoco/datos/-/raw/main/Informe-DecideChile-Municipales-2024.pdf?inline=false', 'page': 40}, page_content='#MUNICIPALES2024\\nINFORME IV -MUNICIPALES 2024\\nPSC-Partido Social Cristiano-Independiente\\nPartido Social CristianoPSCPartido de la GentePDG\\nTu Comuna RadicalTCR\\n41\\nSimbología ElectoralElecciones Municipales 2024\\nPACTOS\\nPARTIDOS\\nCentro DemocráticoCDE\\nChile Mucho MejorCMM Por Chile SeguimosPCS Chile Vamos UDI -EvópoliCVUE\\nChile Vamos –Renovación Nacional CVR\\nRepublicanosREP\\nC. IndependienteIND\\nOtrosO\\nTTC\\nPDG\\nCDE\\nCMM PCS\\nTCR\\nCVUE\\nCVR\\nREP\\nIND\\nO\\n-Democracia Cristiana-Partido por la Democracia-Partido Socialista-Independiente\\n-Partido Radical-Independiente\\n-Frente Amplio-Acción Humanista-Partido Comunista-Independiente\\n-Partido de la Gente-Independiente\\n-Demócratas-Amarillos por Chile-Independientes\\n-Evópoli-UDI-Independiente-Renovación Nacional-Independiente\\n-Partido Republicano-Independiente\\n-Verdes Liberales por una Comuna Segura-Izquierda de Trabajadores e Independientes-Izquierda Ecologista Popular-Ecologistas, Animalistas e Independientes\\n-Independiente\\n-Federación RegionalistaVerde Social-Partido Liberal-Partido Igualdad-Partido Popular-Partido Humanista-Alianza Verde Popular-Trabajadores Revolucionarios-Independiente\\nINTRODUCCIÓN> GOBERNADORES > ALCALDES > CONCEJALES> CONSEJEROS'),\n",
              " Document(metadata={'source': 'https://gitlab.com/sebatinoco/datos/-/raw/main/Informe-DecideChile-Municipales-2024.pdf?inline=false', 'page': 41}, page_content='#MUNICIPALES2024\\nINFORME IV -MUNICIPALES 2024\\nResultado General: ConcejalesElectos por pacto\\nINTRODUCCIÓN> GOBERNADORES > ALCALDES > CONCEJALES> CONSEJEROS42'),\n",
              " Document(metadata={'source': 'https://gitlab.com/sebatinoco/datos/-/raw/main/Informe-DecideChile-Municipales-2024.pdf?inline=false', 'page': 42}, page_content='#MUNICIPALES2024\\nINFORME IV -MUNICIPALES 2024 43\\n•Todos los pactos oficialistas perdieron representación en los concejos municipales. Entre ellos, Chile Mucho Mejor sufrió la caída más importante, perdiendo 300 concejales. Aun así, mantiene más concejales que cualquier otra lista.•Renovación Nacional es el partido de la oposición que más concejales sumó este año, creciendo de 376 a 444.•Republicanos es uno de los grandes ganadores, pues pasa de tener 12 concejales a 233. \\nConcejalesComparación pactos: 2021 -2024\\nINTRODUCCIÓN> GOBERNADORES > ALCALDES > CONCEJALES> CONSEJEROS\\nHomologación de Pactos:Pactos 2021 = Pactos 2024Chile Digno, Verde y Soberano = Por Chile, Seguimos / Frente Amplio = Por Chile, Seguimos / Unidad por el Apruebo PS PPD = Chile Mucho Mejor / Unidos por la Dignidad = Chile Mucho Mejor / Radicales = Tu Comuna Radical / Chile Vamos –PRI = Otros*El resto de los pactos con candidatos electos en 2021 mantuvieron su nombre y formación en 2024\\n'),\n",
              " Document(metadata={'source': 'https://gitlab.com/sebatinoco/datos/-/raw/main/Informe-DecideChile-Municipales-2024.pdf?inline=false', 'page': 43}, page_content='#MUNICIPALES2024\\nINFORME IV -MUNICIPALES 2024 44\\nCandidatos con mayor porcentaje de votosConcejales\\nINTRODUCCIÓN> GOBERNADORES > ALCALDES > CONCEJALES> CONSEJEROS'),\n",
              " Document(metadata={'source': 'https://gitlab.com/sebatinoco/datos/-/raw/main/Informe-DecideChile-Municipales-2024.pdf?inline=false', 'page': 44}, page_content='#MUNICIPALES2024\\nINFORME IV -MUNICIPALES 2024\\nCandidatos con menor porcentaje de votosConcejales\\nINTRODUCCIÓN> GOBERNADORES > ALCALDES > CONCEJALES> CONSEJEROS45'),\n",
              " Document(metadata={'source': 'https://gitlab.com/sebatinoco/datos/-/raw/main/Informe-DecideChile-Municipales-2024.pdf?inline=false', 'page': 45}, page_content='#MUNICIPALES2024\\nINFORME IV -MUNICIPALES 2024 46\\nAnálisisConcejales\\nOficialismo•El oficialismo eligió 940 concejales, donde el pacto Chile Mucho Mejor consiguió 536 y el pacto Por Chile Seguimos sumó 249.•Por Chile Seguimos obtuvo el 10,7% de los votos y el pacto Chile Mucho Mejor el 11,7%.•Comparado con el 2021, el oficialismo perdió409 concejales.•El Socialismo ampliado es el doble en concejales comparado con el Frente Amplio y el Partido Comunista. \\nOposición•La derecha, desde Demócratas hasta Republicanos, eligió 1.185 concejales: el 52,5% del total.•El partido que eligió más concejales fue Renovación Nacional, con 444, seguido por el pacto UDI-Evópolicon 391.•Republicanos, siendo el partido que tiene más votos en la derecha en esta elección, eligió 233 concejales. Esto, debido a que llevaron un número de candidatos mucho menor que los otros pactos.\\nConclusiones•La derecha ganó la elección de concejales, donde el partido más grande es RN.•Estos votos van a jugar un rol importante en la elección de gobernadores, pues ambas elecciones son más políticas que la de alcalde. •Al oficialismo le fue mal en concejales, y muchos de sus alcaldes tendrán un concejo con mayoría opositora, como será el caso en Viña del Mar.\\nINTRODUCCIÓN> GOBERNADORES > ALCALDES > CONCEJALES> CONSEJEROS\\n'),\n",
              " Document(metadata={'source': 'https://gitlab.com/sebatinoco/datos/-/raw/main/Informe-DecideChile-Municipales-2024.pdf?inline=false', 'page': 46}, page_content='INFORME IV -MUNICIPALES 2024\\n-Simbología-Resultados:-Generales-Comparación 2021 -2024-Los más y los menos votados\\nConsejeros RegionalesMUNICIPALES 2024'),\n",
              " Document(metadata={'source': 'https://gitlab.com/sebatinoco/datos/-/raw/main/Informe-DecideChile-Municipales-2024.pdf?inline=false', 'page': 47}, page_content='#MUNICIPALES2024\\nINFORME IV -MUNICIPALES 2024 48\\nSimbología ElectoralElecciones Municipales 2024\\nPACTOS\\nPARTIDOS\\nPor Un Chile MejorPCM\\nCentro DemocráticoCDE\\nPartido de la GentePDG\\nTodas y Todos por ChileTTC Frente AmplioFAM\\nLo Mejor para ChileLMC\\nChile Vamos -EvópoliCVE\\nChile Vamos UDICVU\\nPartido Social CristianoPSCTu Región RadicalTRR\\nChile Vamos –Renovación Nacional CVR\\nRepublicanosREP\\nC. IndependienteIND\\nOtrosO\\nTTC\\nPCM\\nCDE\\nPDG\\nTTC FAM\\nLMC\\nCVE\\nCVU\\nPSCTRR\\nCVR\\nREP\\nIND\\nO\\n-Partido Comunista-Acción Humanista-Independiente\\n-Partido Socialista-Partido por la Democracia-Independiente\\n-Frente Amplio-Independiente\\n-Democracia Cristiana-Independiente\\n-Partido Radical-Independiente\\n-Demócratas-Amarillos por Chile-Independiente\\n-Partido de la Gente-Independiente\\n-Partido Social Cristiano-Independiente\\n-Evópoli-Independiente\\n-UDI-Independiente\\n-Renovación Nacional-Independiente\\n-Partido Republicano-Independiente\\n-Regiones Verdes Liberales-Izquierda Ecologista Popular-Ecologistas, Animalistas e Independientes\\n-Independiente\\n-Federación Regionalista Verde Social-Partido Liberal-Partido Igualdad-Partido Popular-Partido Humanista-Alianza Verde Popular-Independiente\\nINTRODUCCIÓN > GOBERNADORES > ALCALDES > CONCEJALES > CONSEJEROS'),\n",
              " Document(metadata={'source': 'https://gitlab.com/sebatinoco/datos/-/raw/main/Informe-DecideChile-Municipales-2024.pdf?inline=false', 'page': 48}, page_content='#MUNICIPALES2024\\nINFORME IV -MUNICIPALES 2024\\nResultado General: Consejeros RegionalesElectos por Pacto\\nINTRODUCCIÓN > GOBERNADORES > ALCALDES > CONCEJALES > CONSEJEROS\\n49'),\n",
              " Document(metadata={'source': 'https://gitlab.com/sebatinoco/datos/-/raw/main/Informe-DecideChile-Municipales-2024.pdf?inline=false', 'page': 49}, page_content='#MUNICIPALES2024\\nINFORME IV -MUNICIPALES 2024 50\\n•Comparando los consejeros regionales electos en 2021 y 2024, se observa que el partido que más aumenta es Republicanos: sube de 15 a 60.•El Partido Social Cristiano no tenía consejeros el 2021 y eligió 6 el 2024. Es la misma situación del pacto Centro Democrático.•Renovación Nacional aumenta levemente, de 53 a 55, y la Unión Demócrata Independiente cae de 43 a 37.•En el oficialismo todos los partidos disminuyen su número de consejeros regionales, con la excepción del pacto Lo Mejor para Chile, que sube de 42 a 48.•Tanto el Frente Amplio como Todos por Chile (Partido Comunista y Acción Humanista) disminuyen. Interpretamos que parte de esos votantes votaron nulo, blanco o no votaron como signo de protesta.\\nConsejeros RegionalesComparación pactos: 2021 -2024\\nINTRODUCCIÓN > GOBERNADORES > ALCALDES > CONCEJALES > CONSEJEROS\\nHomologación de Pactos:Pactos 2021 = Pactos 2024Democracia Ciudadana = Por un Chile Mejor / Unidad Constituyente = Lo Mejor para Chile / Por un Chile Digno = Todas y Todos por Chile / Cambio Radical Progresista = Tu Región Radical*El resto de los pactos con candidatos electos en 2021 mantuvieron su nombre y formación en 2024'),\n",
              " Document(metadata={'source': 'https://gitlab.com/sebatinoco/datos/-/raw/main/Informe-DecideChile-Municipales-2024.pdf?inline=false', 'page': 50}, page_content='#MUNICIPALES2024\\nINFORME IV -MUNICIPALES 2024\\nCandidatos con mayor porcentaje de votosConsejeros Regionales\\nINTRODUCCIÓN > GOBERNADORES > ALCALDES > CONCEJALES > CONSEJEROS\\n51'),\n",
              " Document(metadata={'source': 'https://gitlab.com/sebatinoco/datos/-/raw/main/Informe-DecideChile-Municipales-2024.pdf?inline=false', 'page': 51}, page_content='#MUNICIPALES2024\\nINFORME IV -MUNICIPALES 2024\\nCandidatos con menor porcentaje de votosConsejeros Regionales\\nINTRODUCCIÓN > GOBERNADORES > ALCALDES > CONCEJALES > CONSEJEROS\\n52'),\n",
              " Document(metadata={'source': 'https://gitlab.com/sebatinoco/datos/-/raw/main/Informe-DecideChile-Municipales-2024.pdf?inline=false', 'page': 52}, page_content='#MUNICIPALES2024\\nINFORME IV -MUNICIPALES 2024 53\\nAnálisisConsejeros Regionales\\nOficialismo•Todos los pactos del oficialismo perdieron consejeros regionales con la excepción de Lo Mejor para Chile, que subió de 42 a 48.•El pacto del Frente Amplio y Todo por Chile disminuyeron ambos sus consejeros regionales, al igual que Tu Región Radical y Por un Chile Mejor.•En total el oficialismo bajó de 139 a 121 consejeros regionales entre 2021 y 2024.•Esta caída está relacionada con el mejor resultado de la oposición en gobernadores, comparado con 2021.•Al igual que en concejales, parte de los votos de izquierda en esta elección se fueron a nulos/blancos.\\nOposición•El gran ganador en CORE dentro de la derecha fue Republicanos, que pasó de 15 a 60 consejeros, consolidándose como el partido más grande de su sector en esta elección. •Este resultado le otorga a REP una posición sólida tanto para fiscalizar a los gobernadores como para construir nuevos liderazgos en futuras elecciones y expandir su base de apoyo.•RN incrementó su número de consejeros, mientras que el gran perdedor en la derecha fue el Partido de la Gente, que disminuyó de 22 a 3 CORE, seguido por Evópoli, que pasó de 11 a 3. En el caso del PDG, esta caída es coherente con la desintegración del partido en la Cámara de Diputados.•Los resultados en CORE evidencian un importante desafío electoral para Evópolia futuro, situación que no se reflejó en concejales debido a su alianza con la UDI.\\nConclusiones•De las 10 primeras mayorías de CORE, 6 son de la derecha, liderado por AlvaroBellolio(UDI), un independiente y 3 de la centro izquierda. Esto muestra•Es muy probable que los CORE de derecha tengan un rol más fiscalizador con los gobernadores, tanto propios como del oficialismo, a raizde todo lo sucedido con al e caso de Fundaciones. •El nuevo mapa de CORE, junto con el de Concejales, muestra que la derecha está mejor preparada a nivel más local, para apoyarlas segundas vueltas de gobernadores, pero también para apoyar a los futuros candidatos en las elecciones de diputados y senadores del 2025.\\nINTRODUCCIÓN> GOBERNADORES > ALCALDES > CONCEJALES> CONSEJEROS\\n'),\n",
              " Document(metadata={'source': 'https://gitlab.com/sebatinoco/datos/-/raw/main/Informe-DecideChile-Municipales-2024.pdf?inline=false', 'page': 53}, page_content='Empresa tecnológica que entrega soluciones creativas combinando desarrollo de software, inteligencia artificial, análisis de datos y diseño para optimizar procesos que agreguen valor a organizaciones, comunidades y personas. \\nUna plataforma de UnholsterDecideChile\\nSuscríbete Aquí\\nPARA RECIBIR NUESTROS INFORMES, ANÁLISIS Y NEWSLETTERS:'),\n",
              " Document(metadata={'source': 'https://gitlab.com/sebatinoco/datos/-/raw/main/Informe-DecideChile-Municipales-2024.pdf?inline=false', 'page': 54}, page_content='Transformamos información en desarrolloUNHOLSTER.COM\\nMONSEÑOR EYZAGUIRRE 620ÑUÑOA, SANTIAGO DE CHILEINFO@UNHOLSTER.COM\\n')]"
            ]
          },
          "metadata": {},
          "execution_count": 11
        }
      ],
      "source": [
        "from langchain_community.document_loaders import PyPDFLoader\n",
        "\n",
        "file_path = \"https://gitlab.com/sebatinoco/datos/-/raw/main/Informe-DecideChile-Municipales-2024.pdf?inline=false\" # path al documento\n",
        "loader = PyPDFLoader(file_path) # inicializar loader de PDF\n",
        "\n",
        "docs = loader.load() # cargar documento\n",
        "docs"
      ]
    },
    {
      "cell_type": "code",
      "execution_count": 12,
      "metadata": {
        "colab": {
          "base_uri": "https://localhost:8080/"
        },
        "id": "KBjYuHGPjLrV",
        "outputId": "0b7fa4c9-cba3-43d1-a4d1-800a430ffc79"
      },
      "outputs": [
        {
          "output_type": "execute_result",
          "data": {
            "text/plain": [
              "55"
            ]
          },
          "metadata": {},
          "execution_count": 12
        }
      ],
      "source": [
        "len(docs) # noten como se genera una lista de 55 elementos, en este caso cada elemento es una página"
      ]
    },
    {
      "cell_type": "code",
      "execution_count": 13,
      "metadata": {
        "colab": {
          "base_uri": "https://localhost:8080/"
        },
        "id": "xXF7VUEhjD0h",
        "outputId": "e511189f-a516-4a94-bc73-b248f30c71f8"
      },
      "outputs": [
        {
          "output_type": "execute_result",
          "data": {
            "text/plain": [
              "Document(metadata={'source': 'https://gitlab.com/sebatinoco/datos/-/raw/main/Informe-DecideChile-Municipales-2024.pdf?inline=false', 'page': 0}, page_content='Elecciones Municipales 2024\\nwww.decidechile.cl\\nAnálisis de los resultados de los comicios del \\n26 y 27 de octubre 2024 en Chile.\\nOCTUBRE, 2024')"
            ]
          },
          "metadata": {},
          "execution_count": 13
        }
      ],
      "source": [
        "docs[0] # cada elemento es del tipo Document, el cual posee el contenido de cada página"
      ]
    },
    {
      "cell_type": "markdown",
      "metadata": {
        "id": "-j8Jo0tsgjZo"
      },
      "source": [
        "#### **Split**"
      ]
    },
    {
      "cell_type": "markdown",
      "metadata": {
        "id": "ujHLedrNjaJK"
      },
      "source": [
        "Después de haber ingestado el documento, el siguiente paso es dividir cada documento en chunks de texto más pequeños. Para eso usaremos `RecursiveCharacterTextSplitter` (nuevamente, pueden consultar otros tipos de splitters en el siguiente [link](https://python.langchain.com/v0.1/docs/modules/data_connection/document_transformers/)):"
      ]
    },
    {
      "cell_type": "code",
      "execution_count": 14,
      "metadata": {
        "colab": {
          "base_uri": "https://localhost:8080/"
        },
        "id": "_xc6aXk5AdEp",
        "outputId": "cdc3d00b-7f07-4cb8-ff96-a6c444c22f79"
      },
      "outputs": [
        {
          "output_type": "execute_result",
          "data": {
            "text/plain": [
              "[Document(metadata={'source': 'https://gitlab.com/sebatinoco/datos/-/raw/main/Informe-DecideChile-Municipales-2024.pdf?inline=false', 'page': 0}, page_content='Elecciones Municipales 2024\\nwww.decidechile.cl\\nAnálisis de los resultados de los comicios del \\n26 y 27 de octubre 2024 en Chile.\\nOCTUBRE, 2024'),\n",
              " Document(metadata={'source': 'https://gitlab.com/sebatinoco/datos/-/raw/main/Informe-DecideChile-Municipales-2024.pdf?inline=false', 'page': 1}, page_content='#MUNICIPALES2024\\nINFORME IV -MUNICIPALES 2024\\n•Alcaldes-Resultados-Los más y los menos votados-Financiamiento-Análisis:-Género y rango etario-Población gobernada-Comunas gobernadas-Transición de votos-General\\n2INTRODUCCIÓN> GOBERNADORES > ALCALDES > CNCEJALES > CONSEJEROS > EL DÍA DESPUÉS\\nContenido•Introducción-Participación-Análisis-Oficialismo-Oposición-Candidatos•Gobernadores-Resultados-Los más y los menos votados-Financiamiento-Análisis:-Género y rango etario-General'),\n",
              " Document(metadata={'source': 'https://gitlab.com/sebatinoco/datos/-/raw/main/Informe-DecideChile-Municipales-2024.pdf?inline=false', 'page': 1}, page_content='•Concejales-Resultados-Los más y los menos votados -Análisis\\n•Consejeros regionales-Resultados-Los más y los menos votados -Análisis'),\n",
              " Document(metadata={'source': 'https://gitlab.com/sebatinoco/datos/-/raw/main/Informe-DecideChile-Municipales-2024.pdf?inline=false', 'page': 2}, page_content='INFORME IV -MUNICIPALES 2024\\nIntroducciónMUNICIPALES 2024\\n-Elecciones Municipales 2024-Participación-Análisis-Oficialismo-Oposición-Candidatos'),\n",
              " Document(metadata={'source': 'https://gitlab.com/sebatinoco/datos/-/raw/main/Informe-DecideChile-Municipales-2024.pdf?inline=false', 'page': 3}, page_content='#MUNICIPALES2024\\nINFORME IV -MUNICIPALES 2024 4\\nElecciones Municipales 202426 y 27 de octubre\\nGobernadores Regionales•16 electos, 1 por región.•101 candidatos.•Es electo el candidato a gobernador regional que logra un 40% de los votos válidamente emitidos.•Si ningún candidato logra el 40%, hay una segunda vuelta entre los dos más votados.•La segunda vuelta será el domingo 24 de noviembre de 2024.\\nAlcaldes•345 electos*, 1 por comuna, no hay segunda vuelta.•1.573 candidatos.')]"
            ]
          },
          "metadata": {},
          "execution_count": 14
        }
      ],
      "source": [
        "from langchain_text_splitters import RecursiveCharacterTextSplitter\n",
        "\n",
        "text_splitter = RecursiveCharacterTextSplitter(chunk_size=500, chunk_overlap=50) # inicializamos splitter\n",
        "splits = text_splitter.split_documents(docs) # dividir documentos en chunks\n",
        "splits[:5]"
      ]
    },
    {
      "cell_type": "code",
      "execution_count": 15,
      "metadata": {
        "colab": {
          "base_uri": "https://localhost:8080/"
        },
        "id": "WHVhSmEekQ9J",
        "outputId": "6c8ee2fc-19cb-4e18-86dc-464682b5acbe"
      },
      "outputs": [
        {
          "output_type": "execute_result",
          "data": {
            "text/plain": [
              "Document(metadata={'source': 'https://gitlab.com/sebatinoco/datos/-/raw/main/Informe-DecideChile-Municipales-2024.pdf?inline=false', 'page': 0}, page_content='Elecciones Municipales 2024\\nwww.decidechile.cl\\nAnálisis de los resultados de los comicios del \\n26 y 27 de octubre 2024 en Chile.\\nOCTUBRE, 2024')"
            ]
          },
          "metadata": {},
          "execution_count": 15
        }
      ],
      "source": [
        "splits[0] # cada elemento es un Document, esta vez con menos contenido que en el paso anterior"
      ]
    },
    {
      "cell_type": "code",
      "execution_count": 16,
      "metadata": {
        "colab": {
          "base_uri": "https://localhost:8080/"
        },
        "id": "xTbzpn5NgWnj",
        "outputId": "d61bb7ee-8735-4129-dac1-2df44a599e34"
      },
      "outputs": [
        {
          "output_type": "execute_result",
          "data": {
            "text/plain": [
              "162"
            ]
          },
          "metadata": {},
          "execution_count": 16
        }
      ],
      "source": [
        "len(splits) # noten como ahora contamos con 162 chunks (pues 1 página contiene más de 1 chunk)"
      ]
    },
    {
      "cell_type": "markdown",
      "metadata": {
        "id": "KCQA5oEag1KC"
      },
      "source": [
        "#### **Embed & Store**"
      ]
    },
    {
      "cell_type": "markdown",
      "metadata": {
        "id": "cFGNEXTWno6q"
      },
      "source": [
        "Con los documentos separados en chunks, pasamos ahora a transformarlos a *embeddings*. Para esto simplemente ocupamos embeddings sentence-transformers/all-mpnet-base-v2 través de `HuggingFace` (de nuevo, pueden revisar más opciones de embeddings en la siguiente [página](https://python.langchain.com/v0.1/docs/integrations/text_embedding/)).\n",
        "\n",
        "Por el lado del vector store, usaremos `FAISS` (nuevamente, pueden revisar más opciones en este [link](https://python.langchain.com/v0.1/docs/modules/data_connection/vectorstores/))."
      ]
    },
    {
      "cell_type": "code",
      "source": [
        "from langchain.text_splitter import CharacterTextSplitter\n",
        "from langchain.embeddings import HuggingFaceEmbeddings\n",
        "from langchain.vectorstores import FAISS\n",
        "\n",
        "model_name = \"sentence-transformers/all-mpnet-base-v2\"\n",
        "embeddings = HuggingFaceEmbeddings(model_name=model_name)\n",
        "\n",
        "vectorstore = FAISS.from_documents(splits, embeddings)\n",
        "vectorstore"
      ],
      "metadata": {
        "id": "KIXqO6uMi_0i",
        "colab": {
          "base_uri": "https://localhost:8080/",
          "height": 545,
          "referenced_widgets": [
            "049843a4ab6a4caeb27bd99e383d2bda",
            "a9ff0e8a23b44d67a04f5a0091e116c2",
            "9cf5b677c3474fee8565f94977e1c8c8",
            "70896b539bca40b7a800caa291b03706",
            "94d75911b54d407d9a6b8fd8bf6e9b86",
            "b527c79ff0f14becbbee07b01ba4f7fd",
            "0c13bd08abcf451a80bf4e54a18c34f4",
            "25331b79bca542ea9aeff69fef8d4baa",
            "0290779034f446c7b63845a00972021a",
            "fd0ca16a898e4cc2822d28e18cae6a55",
            "8b57761de04e4478adfbd267465e6427",
            "1baa5ee0b56f43928d7919d050fffa8b",
            "eb007b885242485f9c76d6977ecaf98d",
            "ea0506b8ace949c7ba1b7a226af95a09",
            "8a77c0335fe041a183649a0a59b25779",
            "fcdb11579d0c4b238f243e8056670b1a",
            "edb98ca0c5a74c8d89292a1cb32ee585",
            "76f0139c19c248888196efa238e2c7d7",
            "c32b3d8af2d94aeb801bb4d4c83e1382",
            "3767f3f55c5b4c72be934e902ce10040",
            "0b9ac309c1e74c4a82c089fabdc1b7b5",
            "81fec98e9440482cbbc30dc9ee4cdcac",
            "f7455d5eabc54df398cef60f3ad238c5",
            "c17911359f6b4a1bbe23313cd10ff247",
            "cd77ff70c58d4ffea9057750f9adff8c",
            "b9eb19cea3e64e2592fa89587d6b8f92",
            "65db1fd3af7e457297c491156599b3ce",
            "4cc13bdcf2e74327a5d0fbffcad397f2",
            "75ba5cdfaffa49619757ab5e645544c7",
            "771ff339bbd744469397e968e9b8a6d0",
            "b5b1ff0c854d4dc1832e365799483749",
            "71592da1356d4728b3dcf964f4dbc5f1",
            "eccb1a424a2947e28c13fdb23d051fab",
            "6f1dac9974d7448eb9a7172a04790f73",
            "b1b987af05d14b2895ee4a6a5db418bd",
            "d0b8789bd78546599ae668df34d0dfa0",
            "7791498a20b544038b2f643562579141",
            "b955bf31bfbe4242b0a25aa1ae68da28",
            "478c3e6705d8432d80a7cd44c44729c9",
            "9ed4b23aadaa439c89642353883a2a02",
            "f89b299e9dbb435abb2fb72e14ccb519",
            "2c135beee9764869abe8a3ce35e81539",
            "bcb10993161745158e121159dcb58737",
            "5e36ae5936ac44ddb359883b9ce5b66a",
            "fd467952794f4228a099b0515f33b0c5",
            "8b7d6ceffda34e2d9fc8a3815fef9917",
            "39082a52744942739978f827394073a6",
            "5efeda93569e411987103e3082d21f04",
            "7c8fb7ed65c44969a11c462878c5105b",
            "43b0c796998649698bd52133bc271f16",
            "1969026d48384dc59835f416abad0084",
            "90b7eee75d1b4daf87f5706fd6de880f",
            "76e3cbd02d5a487d8c06369062cc3a97",
            "2e1b4f98fcc440f9b079a33a61575a82",
            "a888705f231948d58a568b7faf19a153",
            "4e64d00b0a3e4a81aa51b801b18d8048",
            "7a845ad0ecf7442da40ccf9b047f5fec",
            "c850a5fb06c0483f86a6b797638a6c39",
            "e53fa6a46be146b2ab667e032b2586c5",
            "6bde0f5334944299a958c986950a6d5b",
            "83fb06aa8aee4cfbb964a750ce59dbb6",
            "eb4c7358f9654f1491135d37a34e3c1b",
            "0472fd8bb99b40b79802562d18cf1f86",
            "d3c8c77b7ed24d07b4bb9a4c31546fbd",
            "7df5f1f0f27e4faf8ad49b6afa0da5ae",
            "eda3b834ae2945e395c45577ddb82278",
            "ea36295c6e224b859e24898ea9179fd8",
            "da53f27dfd1047f9a36117001bb3fe18",
            "c0b3f18666ff44ed87c1101578f315b1",
            "ce2217957bd54bd2babc543215f867ad",
            "0ff05eb5a161447c9cef9a9b810e4a46",
            "ab5bc0bde73348e8b15206cff283414e",
            "0d0ff1793011491ca856d3e16131e7af",
            "1b8a966f6f24498180ddd2875d81ac29",
            "1a81fdb246894430b05706f32a6c08eb",
            "3b96ddac4ea2494091f5949819b85160",
            "a9aef339b68f403ebd396f53a4f8ac96",
            "96444ffc136143aea5e434da3f2ad8f1",
            "e07bdaf469c14f489a1e57bfca993e49",
            "313ec6e570474134879d110456a99eca",
            "39b4c0be5e484110a8696888e01f6399",
            "c3bcb931c7f945fab1ea5679badc688d",
            "129c4384906048d994e258010ce213b1",
            "280e13771050467888ad097f48690bad",
            "af8fd5a78950430c8292e76374d555c5",
            "6e2226a2d7b648c9bb00e82ea3ff50c0",
            "3b6876051ce54dcf8ed84e8a64c485a0",
            "d73bb678f083482c9c310e33ce8a4a72",
            "63794dd6a0b14b0798cffc74f0fb7f6f",
            "50048bad060e49f9a35ec3a966c7d29b",
            "23d59511c08349a581162572151f8df9",
            "e2b3b41fd0fa455790234aeb955dbe45",
            "6c242438c992473d9acb4a64ef55d60b",
            "2fcb3c59a804406396ae8bc3e7c32d2d",
            "ec3c3e07d59b4400b6d6f3ab699f8b80",
            "47c89c31bdeb43d9aa7e9f15f7ead383",
            "cf327066ca394c928625375257498680",
            "e5b833a9ed4344aa8f39e3fa59292e00",
            "ca731e6961f24da3866d8e79dcd85ed7",
            "4a9c66e08bc0491086513668cb0a3f4b",
            "9487966016ee401db3bbf3f7ba9cd9a3",
            "250e0deb77b74a22b36fa972de68b7df",
            "f93e6048c7c049098c95897041d1dfdb",
            "ec702b5c394144728fe2951af42378a4",
            "a3f97e2471784549aaecbafe32fc4aef",
            "12481916d3ef413ebb720c4bbe5a1446",
            "62625bf985bd4b05812b9e17a1e9b38c",
            "65cdb479ec5a4a0098c97452b63b309b",
            "c466a9eeb8ec4b068526caf8e2d2d0c3",
            "bfc966ac27344858a2925979a396747a",
            "a79e79e27f8c4f6a9b4f23cccbb5f2ea",
            "1419aec23cd64efeb56f1af7ab353360",
            "164858359eb54dcc85bd592dd21418a7",
            "1df86edf789d4857ae34958f9eac514b",
            "b9f00d5c4c0b4cd196cbabaf00d2b57d",
            "5955d5aee7aa4c7580962fc6b692c9b0",
            "bbd3a0e266e14ce9bc8c280f4603b9f5",
            "de06cba2599d473c846b6314ab849b5a",
            "1e8a05cfaaa648e99b8c3e7655b2e1a5",
            "5fe862528a9145898bd88db78a6bf06b",
            "4c20943490ea4e709137d7b40527d656"
          ]
        },
        "outputId": "32c5ab03-d7b5-40f2-e719-5d0cb6d0992a"
      },
      "execution_count": 17,
      "outputs": [
        {
          "output_type": "stream",
          "name": "stderr",
          "text": [
            "<ipython-input-17-64c2525233a8>:6: LangChainDeprecationWarning: The class `HuggingFaceEmbeddings` was deprecated in LangChain 0.2.2 and will be removed in 1.0. An updated version of the class exists in the :class:`~langchain-huggingface package and should be used instead. To use it run `pip install -U :class:`~langchain-huggingface` and import as `from :class:`~langchain_huggingface import HuggingFaceEmbeddings``.\n",
            "  embeddings = HuggingFaceEmbeddings(model_name=model_name)\n",
            "/usr/local/lib/python3.10/dist-packages/huggingface_hub/utils/_auth.py:94: UserWarning: \n",
            "The secret `HF_TOKEN` does not exist in your Colab secrets.\n",
            "To authenticate with the Hugging Face Hub, create a token in your settings tab (https://huggingface.co/settings/tokens), set it as secret in your Google Colab and restart your session.\n",
            "You will be able to reuse this secret in all of your notebooks.\n",
            "Please note that authentication is recommended but still optional to access public models or datasets.\n",
            "  warnings.warn(\n"
          ]
        },
        {
          "output_type": "display_data",
          "data": {
            "text/plain": [
              "modules.json:   0%|          | 0.00/349 [00:00<?, ?B/s]"
            ],
            "application/vnd.jupyter.widget-view+json": {
              "version_major": 2,
              "version_minor": 0,
              "model_id": "049843a4ab6a4caeb27bd99e383d2bda"
            }
          },
          "metadata": {}
        },
        {
          "output_type": "display_data",
          "data": {
            "text/plain": [
              "config_sentence_transformers.json:   0%|          | 0.00/116 [00:00<?, ?B/s]"
            ],
            "application/vnd.jupyter.widget-view+json": {
              "version_major": 2,
              "version_minor": 0,
              "model_id": "1baa5ee0b56f43928d7919d050fffa8b"
            }
          },
          "metadata": {}
        },
        {
          "output_type": "display_data",
          "data": {
            "text/plain": [
              "README.md:   0%|          | 0.00/10.6k [00:00<?, ?B/s]"
            ],
            "application/vnd.jupyter.widget-view+json": {
              "version_major": 2,
              "version_minor": 0,
              "model_id": "f7455d5eabc54df398cef60f3ad238c5"
            }
          },
          "metadata": {}
        },
        {
          "output_type": "display_data",
          "data": {
            "text/plain": [
              "sentence_bert_config.json:   0%|          | 0.00/53.0 [00:00<?, ?B/s]"
            ],
            "application/vnd.jupyter.widget-view+json": {
              "version_major": 2,
              "version_minor": 0,
              "model_id": "6f1dac9974d7448eb9a7172a04790f73"
            }
          },
          "metadata": {}
        },
        {
          "output_type": "display_data",
          "data": {
            "text/plain": [
              "config.json:   0%|          | 0.00/571 [00:00<?, ?B/s]"
            ],
            "application/vnd.jupyter.widget-view+json": {
              "version_major": 2,
              "version_minor": 0,
              "model_id": "fd467952794f4228a099b0515f33b0c5"
            }
          },
          "metadata": {}
        },
        {
          "output_type": "display_data",
          "data": {
            "text/plain": [
              "model.safetensors:   0%|          | 0.00/438M [00:00<?, ?B/s]"
            ],
            "application/vnd.jupyter.widget-view+json": {
              "version_major": 2,
              "version_minor": 0,
              "model_id": "4e64d00b0a3e4a81aa51b801b18d8048"
            }
          },
          "metadata": {}
        },
        {
          "output_type": "display_data",
          "data": {
            "text/plain": [
              "tokenizer_config.json:   0%|          | 0.00/363 [00:00<?, ?B/s]"
            ],
            "application/vnd.jupyter.widget-view+json": {
              "version_major": 2,
              "version_minor": 0,
              "model_id": "ea36295c6e224b859e24898ea9179fd8"
            }
          },
          "metadata": {}
        },
        {
          "output_type": "display_data",
          "data": {
            "text/plain": [
              "vocab.txt:   0%|          | 0.00/232k [00:00<?, ?B/s]"
            ],
            "application/vnd.jupyter.widget-view+json": {
              "version_major": 2,
              "version_minor": 0,
              "model_id": "96444ffc136143aea5e434da3f2ad8f1"
            }
          },
          "metadata": {}
        },
        {
          "output_type": "display_data",
          "data": {
            "text/plain": [
              "tokenizer.json:   0%|          | 0.00/466k [00:00<?, ?B/s]"
            ],
            "application/vnd.jupyter.widget-view+json": {
              "version_major": 2,
              "version_minor": 0,
              "model_id": "63794dd6a0b14b0798cffc74f0fb7f6f"
            }
          },
          "metadata": {}
        },
        {
          "output_type": "display_data",
          "data": {
            "text/plain": [
              "special_tokens_map.json:   0%|          | 0.00/239 [00:00<?, ?B/s]"
            ],
            "application/vnd.jupyter.widget-view+json": {
              "version_major": 2,
              "version_minor": 0,
              "model_id": "4a9c66e08bc0491086513668cb0a3f4b"
            }
          },
          "metadata": {}
        },
        {
          "output_type": "display_data",
          "data": {
            "text/plain": [
              "1_Pooling/config.json:   0%|          | 0.00/190 [00:00<?, ?B/s]"
            ],
            "application/vnd.jupyter.widget-view+json": {
              "version_major": 2,
              "version_minor": 0,
              "model_id": "a79e79e27f8c4f6a9b4f23cccbb5f2ea"
            }
          },
          "metadata": {}
        },
        {
          "output_type": "execute_result",
          "data": {
            "text/plain": [
              "<langchain_community.vectorstores.faiss.FAISS at 0x7f01666e3f10>"
            ]
          },
          "metadata": {},
          "execution_count": 17
        }
      ]
    },
    {
      "cell_type": "code",
      "source": [
        "vectorstore"
      ],
      "metadata": {
        "colab": {
          "base_uri": "https://localhost:8080/"
        },
        "id": "w362_nRakrgQ",
        "outputId": "ef3d2d3f-120d-4a80-d101-402d3bcd584a"
      },
      "execution_count": 18,
      "outputs": [
        {
          "output_type": "execute_result",
          "data": {
            "text/plain": [
              "<langchain_community.vectorstores.faiss.FAISS at 0x7f01666e3f10>"
            ]
          },
          "metadata": {},
          "execution_count": 18
        }
      ]
    },
    {
      "cell_type": "markdown",
      "metadata": {
        "id": "kWzzbr-ChMu2"
      },
      "source": [
        "### **Retrieval and Generation**\n",
        "\n",
        "Con los documentos indexados, el siguiente paso es **habilitar que nuestro LLM pueda conseguir la información de los documentos** para responder preguntas."
      ]
    },
    {
      "cell_type": "markdown",
      "metadata": {
        "id": "VED9GgAXhZMF"
      },
      "source": [
        "#### **Retrieve**"
      ]
    },
    {
      "cell_type": "markdown",
      "metadata": {
        "id": "rCqxMPaisbWK"
      },
      "source": [
        "Para esto, el primer paso es habilitar nuestro *vector store* para buscar los documentos más relevantes. Para esto, simplemente usamos el método `.as_retriever`:"
      ]
    },
    {
      "cell_type": "code",
      "execution_count": 19,
      "metadata": {
        "colab": {
          "base_uri": "https://localhost:8080/"
        },
        "id": "g3vvxfXgAwHc",
        "outputId": "edb44a7d-2376-4293-dccb-3a62b2754830"
      },
      "outputs": [
        {
          "output_type": "execute_result",
          "data": {
            "text/plain": [
              "VectorStoreRetriever(tags=['FAISS', 'HuggingFaceEmbeddings'], vectorstore=<langchain_community.vectorstores.faiss.FAISS object at 0x7f01666e3f10>, search_kwargs={'k': 3})"
            ]
          },
          "metadata": {},
          "execution_count": 19
        }
      ],
      "source": [
        "retriever = vectorstore.as_retriever(search_type=\"similarity\", # método de búsqueda\n",
        "                                     search_kwargs={\"k\": 3}, # n° documentos a recuperar\n",
        "                                     )\n",
        "retriever"
      ]
    },
    {
      "cell_type": "markdown",
      "metadata": {
        "id": "Kh4G9LyWs5XU"
      },
      "source": [
        "Con esto, podemos probar nuestro retriever:"
      ]
    },
    {
      "cell_type": "code",
      "execution_count": 20,
      "metadata": {
        "colab": {
          "base_uri": "https://localhost:8080/"
        },
        "id": "P1I1hiGk-APC",
        "outputId": "3711dd66-e960-4fd6-dd04-414680c66f4d"
      },
      "outputs": [
        {
          "output_type": "execute_result",
          "data": {
            "text/plain": [
              "[Document(metadata={'source': 'https://gitlab.com/sebatinoco/datos/-/raw/main/Informe-DecideChile-Municipales-2024.pdf?inline=false', 'page': 4}, page_content='alta participación en comparación con elecciones anteriores bajo el sistema de voto voluntario y es levemente superior incluso a eventos recientes con voto obligatorio, consolidando la efectividad de estas medidas en aumentar la participación electoral.'),\n",
              " Document(metadata={'source': 'https://gitlab.com/sebatinoco/datos/-/raw/main/Informe-DecideChile-Municipales-2024.pdf?inline=false', 'page': 4}, page_content='Evolución de la ParticipaciónElecciones 1989 –2024\\nINTRODUCCIÓN> GOBERNADORES > ALCALDES > CONCEJALES > CONSEJEROS\\nFuente: Este gráfico se ha elaborado con datos proporcionados por el Servel.\\n@DecideChile'),\n",
              " Document(metadata={'source': 'https://gitlab.com/sebatinoco/datos/-/raw/main/Informe-DecideChile-Municipales-2024.pdf?inline=false', 'page': 4}, page_content='•La participación en las elecciones municipales de 2024 llegó a un notable 84,9%, convirtiéndose en una de las más altas desde 1989. No se veía un nivel de participación tan elevado en comicios municipales desde 1992.•Este aumento considerable es atribuible principalmente al voto obligatorio y la inscripción automática, que, aunque implementados previamente, exhibieron su impacto notoriamente también en esta elección. •Esta cifra muestra una alta participación en comparación con elecciones')]"
            ]
          },
          "metadata": {},
          "execution_count": 20
        }
      ],
      "source": [
        "question = \"como fue la participacion en las elecciones?\" # pregunta\n",
        "relevant_documents = retriever.invoke(question) # top k documentos relevantes a la pregunta\n",
        "relevant_documents"
      ]
    },
    {
      "cell_type": "markdown",
      "metadata": {
        "id": "g9zmZxyTtUOl"
      },
      "source": [
        "Noten como la información relevante está almaenada en el atributo **page_content**:"
      ]
    },
    {
      "cell_type": "code",
      "execution_count": 21,
      "metadata": {
        "colab": {
          "base_uri": "https://localhost:8080/",
          "height": 53
        },
        "id": "J2gmKpyIBwBu",
        "outputId": "7c5ccae2-82f8-4766-82c1-d1f7564f7241"
      },
      "outputs": [
        {
          "output_type": "execute_result",
          "data": {
            "text/plain": [
              "'alta participación en comparación con elecciones anteriores bajo el sistema de voto voluntario y es levemente superior incluso a eventos recientes con voto obligatorio, consolidando la efectividad de estas medidas en aumentar la participación electoral.'"
            ],
            "application/vnd.google.colaboratory.intrinsic+json": {
              "type": "string"
            }
          },
          "metadata": {},
          "execution_count": 21
        }
      ],
      "source": [
        "relevant_documents[0].page_content"
      ]
    },
    {
      "cell_type": "markdown",
      "metadata": {
        "id": "aMHHJ08puIAk"
      },
      "source": [
        "Como solo nos interesa ese atributo, podemos definir la función `format_docs` para procesar los chunks:"
      ]
    },
    {
      "cell_type": "code",
      "execution_count": 22,
      "metadata": {
        "colab": {
          "base_uri": "https://localhost:8080/"
        },
        "id": "755y45N2uqjO",
        "outputId": "eed1b4a4-852d-4a50-962f-355766a682f3"
      },
      "outputs": [
        {
          "output_type": "stream",
          "name": "stdout",
          "text": [
            "alta participación en comparación con elecciones anteriores bajo el sistema de voto voluntario y es levemente superior incluso a eventos recientes con voto obligatorio, consolidando la efectividad de estas medidas en aumentar la participación electoral.\n",
            "\n",
            "Evolución de la ParticipaciónElecciones 1989 –2024\n",
            "INTRODUCCIÓN> GOBERNADORES > ALCALDES > CONCEJALES > CONSEJEROS\n",
            "Fuente: Este gráfico se ha elaborado con datos proporcionados por el Servel.\n",
            "@DecideChile\n",
            "\n",
            "•La participación en las elecciones municipales de 2024 llegó a un notable 84,9%, convirtiéndose en una de las más altas desde 1989. No se veía un nivel de participación tan elevado en comicios municipales desde 1992.•Este aumento considerable es atribuible principalmente al voto obligatorio y la inscripción automática, que, aunque implementados previamente, exhibieron su impacto notoriamente también en esta elección. •Esta cifra muestra una alta participación en comparación con elecciones\n"
          ]
        }
      ],
      "source": [
        "def format_docs(docs):\n",
        "    return \"\\n\\n\".join(doc.page_content for doc in docs)\n",
        "\n",
        "print(format_docs(relevant_documents))"
      ]
    },
    {
      "cell_type": "markdown",
      "metadata": {
        "id": "ogUMJd4tu4rL"
      },
      "source": [
        "Finalmente, `LangChain` nos permite unir todos estos pasos en una **chain**:"
      ]
    },
    {
      "cell_type": "code",
      "execution_count": 23,
      "metadata": {
        "colab": {
          "base_uri": "https://localhost:8080/"
        },
        "id": "U17IJPu7FIOW",
        "outputId": "28306de1-0cba-448e-cc2c-0fcd0fe3a68b"
      },
      "outputs": [
        {
          "output_type": "stream",
          "name": "stdout",
          "text": [
            "alta participación en comparación con elecciones anteriores bajo el sistema de voto voluntario y es levemente superior incluso a eventos recientes con voto obligatorio, consolidando la efectividad de estas medidas en aumentar la participación electoral.\n",
            "\n",
            "Evolución de la ParticipaciónElecciones 1989 –2024\n",
            "INTRODUCCIÓN> GOBERNADORES > ALCALDES > CONCEJALES > CONSEJEROS\n",
            "Fuente: Este gráfico se ha elaborado con datos proporcionados por el Servel.\n",
            "@DecideChile\n",
            "\n",
            "•La participación en las elecciones municipales de 2024 llegó a un notable 84,9%, convirtiéndose en una de las más altas desde 1989. No se veía un nivel de participación tan elevado en comicios municipales desde 1992.•Este aumento considerable es atribuible principalmente al voto obligatorio y la inscripción automática, que, aunque implementados previamente, exhibieron su impacto notoriamente también en esta elección. •Esta cifra muestra una alta participación en comparación con elecciones\n"
          ]
        }
      ],
      "source": [
        "retriever_chain = retriever | format_docs # chain\n",
        "print(retriever_chain.invoke(\"como fue la participacion en las elecciones?\"))"
      ]
    },
    {
      "cell_type": "markdown",
      "metadata": {
        "id": "AV95K3OKhdiR"
      },
      "source": [
        "#### **Generation**"
      ]
    },
    {
      "cell_type": "markdown",
      "metadata": {
        "id": "TP99sehr1LeA"
      },
      "source": [
        "Con el retriever ya listo, la única pieza faltante es **entregar los documentos relevantes al LLM** para que pueda responder de mejor manera.\n",
        "\n",
        "Para esto, primero definiremos un **template** para con las instrucciones a seguir:"
      ]
    },
    {
      "cell_type": "code",
      "execution_count": 24,
      "metadata": {
        "id": "eW0vqLe_DRAM"
      },
      "outputs": [],
      "source": [
        "from langchain_core.prompts import PromptTemplate\n",
        "\n",
        "# noten como ahora existe el parámetro de context!\n",
        "rag_template = '''\n",
        "Eres un asistente experto en la interpretación de resultados electorales de la política chilena.\n",
        "Tu único rol es contestar preguntas del usuario a partir de información relevante que te sea proporcionada.\n",
        "Responde siempre de la forma más completa posible y usando toda la información entregada.\n",
        "Responde sólo lo que te pregunten a partir de la información relevante, NUNCA inventes una respuesta.\n",
        "\n",
        "Información relevante: {context}\n",
        "Pregunta: {question}\n",
        "Respuesta útil:\n",
        "'''\n",
        "\n",
        "rag_prompt = PromptTemplate.from_template(rag_template)"
      ]
    },
    {
      "cell_type": "markdown",
      "metadata": {
        "id": "OBEjVf8t2l3k"
      },
      "source": [
        "Finalmente, condensamos todo en una chain para recuperar información relevante y responder al mismo tiempo:"
      ]
    },
    {
      "cell_type": "code",
      "execution_count": 25,
      "metadata": {
        "colab": {
          "base_uri": "https://localhost:8080/"
        },
        "id": "vaFffmmoC8FH",
        "outputId": "ef141ac5-8fcb-4d4d-b9e2-88d800352a31"
      },
      "outputs": [
        {
          "output_type": "stream",
          "name": "stdout",
          "text": [
            "La información disponible indica que entre un 16% y un 18% del total de votos fueron nulos o blancos.  Este porcentaje es mayor en jóvenes que en otros grupos etarios.\n",
            "\n",
            "Específicamente:\n",
            "\n",
            "* **Por género:**  En hombres, el porcentaje de votos nulos o blancos fue de 17,1%, mientras que en mujeres fue de 13,3%.  En ambos casos, esto representa una disminución respecto a la elección de mayo de 2023.\n",
            "\n",
            "* **Por grupo etario:**  En el grupo de 18 a 34 años, el porcentaje de votos nulos o blancos fue de 19% en hombres y 17% en mujeres.  En mujeres mayores de 34 años, este porcentaje estuvo entre 11% y 12%, mientras que en hombres mayores de 34 años, entre 16% y 18%.\n",
            "\n",
            "* **Por elección:** En la elección de Consejeros Regionales, una de cada cuatro papeletas (25%) no marcó una preferencia clara.  En la elección de Concejales, uno de cada cinco votos (20%) fueron nulos o blancos, un aumento significativo respecto al 5,74% de 2021.  En la elección de Alcaldes, hubo un aumento proporcional del 460% en votos nulos o blancos.  Los votos nulos y blancos en la elección de Gobernador podrían ser un factor importante en la segunda vuelta.\n",
            "\n"
          ]
        }
      ],
      "source": [
        "from langchain_core.runnables import RunnablePassthrough\n",
        "from langchain_core.output_parsers import StrOutputParser\n",
        "\n",
        "rag_chain = (\n",
        "    {\n",
        "        \"context\": retriever_chain, # context lo obtendremos del retriever_chain\n",
        "        \"question\": RunnablePassthrough(), # question pasará directo hacia el prompt\n",
        "    }\n",
        "    | rag_prompt # prompt con las variables question y context\n",
        "    | llm # llm recibe el prompt y responde\n",
        "    | StrOutputParser() # recuperamos sólo la respuesta\n",
        ")\n",
        "\n",
        "question = \"que información tienes sobre nulos y blancos?\"\n",
        "response = rag_chain.invoke(question)\n",
        "print(response)"
      ]
    },
    {
      "cell_type": "markdown",
      "metadata": {
        "id": "A0CPJZL6u3cV"
      },
      "source": [
        "## **Agentes 🕵️‍♂️**\n",
        "\n",
        "Ahora que ya conocemos cómo implementar un RAG básico sobre documentos PDF, buscaremos hacer lo mismo (es decir, nutrir nuestro LLM de fuentes externas) pero con dos diferencias:\n",
        "\n",
        "- Alimentaremos nuestro agente de la información proporcionada por **motores de búsqueda** (e.g: Google).\n",
        "- Remplazaremos las chains por **Agentes**.\n",
        "\n",
        "Todo genial, pero..."
      ]
    },
    {
      "cell_type": "markdown",
      "source": [
        "### **¿Qué son los Agentes?**\n",
        "\n",
        "Un agente se define como un modelo que tiene la capacidad para ejecutar **acciones**. De esta manera, el objetivo del agente es **elegir una <u>secuencia</u> de acciones** a realizar para cumplir con un objetivo específico.\n",
        "\n",
        "Los **agentes** utilizan el **LLM como <u>motor de razonamiento</u>** para determinar **qué acciones tomar y en qué orden**.\n",
        "\n",
        "Ahora que ya conocemos qué es un Agente, conozcamos uno de los framework más famosos para implementar Agentes con LLM.\n",
        "\n",
        "<center>\n",
        "<img src='https://media4.giphy.com/media/dBZsIa2eWkVBaU6lWY/giphy.gif' width=450/>\n",
        "</center>"
      ],
      "metadata": {
        "id": "rRnRcus9todW"
      }
    },
    {
      "cell_type": "markdown",
      "source": [
        "### **ReAct**\n",
        "\n",
        "Introducido en el paper de [Yao et al. (2022)](https://arxiv.org/abs/2210.03629), **ReAct** se presenta como un framework para que agentes puedan **razonar sobre acciones** a partir de observaciones. En particular, para cumplir un objetivo un agente basado en ReAct debe seguir la siguiente secuencia:\n",
        "\n",
        "- El agente **razona** sobre qué acción tomar.\n",
        "- En base al razonamiento hecho, el **agente ejecuta la acción**.\n",
        "- A partir de la acción ejecutada, el **agente observa y evalúa el nuevo escenario** (feedback).\n",
        "\n",
        "\n",
        "\n",
        "<center>\n",
        "<img src='https://peterroelants.github.io/images/llm/ReAct_loop.png' width=400/>\n",
        "</center>\n",
        "\n",
        "Por último, es importante señalar que Los resultados muestran como los **agentes basados en ReAct** puede **superar múltiples benchmarks en tareas de lenguaje y toma de decisiones**, además de mejorar la interpretabiliad y confiabilidad en los LLM.\n",
        "\n",
        "Pongamos en práctica lo aprendido con un ejemplo!\n",
        "\n",
        "Comencemos primero cargando un prompt predefinido del **hub** de langchain para usar ReAct:"
      ],
      "metadata": {
        "id": "1pYPr5MgtqGp"
      }
    },
    {
      "cell_type": "code",
      "source": [
        "from langchain import hub\n",
        "\n",
        "react_prompt = hub.pull(\"hwchase17/react\") # template de ReAct\n",
        "print(react_prompt.template)"
      ],
      "metadata": {
        "colab": {
          "base_uri": "https://localhost:8080/"
        },
        "id": "ZWWgWVz8txj-",
        "outputId": "695745b0-3820-4ac7-a9e8-3bfbb09d945e"
      },
      "execution_count": 26,
      "outputs": [
        {
          "output_type": "stream",
          "name": "stderr",
          "text": [
            "/usr/local/lib/python3.10/dist-packages/langsmith/client.py:261: LangSmithMissingAPIKeyWarning: API key must be provided when using hosted LangSmith API\n",
            "  warnings.warn(\n"
          ]
        },
        {
          "output_type": "stream",
          "name": "stdout",
          "text": [
            "Answer the following questions as best you can. You have access to the following tools:\n",
            "\n",
            "{tools}\n",
            "\n",
            "Use the following format:\n",
            "\n",
            "Question: the input question you must answer\n",
            "Thought: you should always think about what to do\n",
            "Action: the action to take, should be one of [{tool_names}]\n",
            "Action Input: the input to the action\n",
            "Observation: the result of the action\n",
            "... (this Thought/Action/Action Input/Observation can repeat N times)\n",
            "Thought: I now know the final answer\n",
            "Final Answer: the final answer to the original input question\n",
            "\n",
            "Begin!\n",
            "\n",
            "Question: {input}\n",
            "Thought:{agent_scratchpad}\n"
          ]
        }
      ]
    },
    {
      "cell_type": "markdown",
      "metadata": {
        "id": "OIXUFXkvAEwm"
      },
      "source": [
        "> **Pregunta:** Tómense un momento para estudiar el prompt. ¿Qué variables recibe?\n",
        "\n",
        "Una de las ventajas de usar agentes es que tienen una fácil integración con **tools**, es decir, **herramientas que puede usar el agente para lograr un objetivo** en particular.\n",
        "\n",
        "Para este caso particular, usaremos la tool del motor de búsqueda `Tavily` para permitir que nuestro agente pueda recuperar **información de la web** (pueden consultar más tools en el siguiente [link](https://api.python.langchain.com/en/v0.1/community_api_reference.html#module-langchain_community.tools)):"
      ]
    },
    {
      "cell_type": "code",
      "execution_count": 27,
      "metadata": {
        "id": "RQdjpJY-vAIc"
      },
      "outputs": [],
      "source": [
        "from langchain_community.tools.tavily_search import TavilySearchResults\n",
        "\n",
        "search = TavilySearchResults(max_results = 1) # inicializamos tool\n",
        "tools = [search] # guardamos las tools en una lista"
      ]
    },
    {
      "cell_type": "markdown",
      "metadata": {
        "id": "5xIsr_QoEF9L"
      },
      "source": [
        "Con las tools definidas, podemos inicializar nuestro agente ReAct:"
      ]
    },
    {
      "cell_type": "code",
      "execution_count": 28,
      "metadata": {
        "colab": {
          "base_uri": "https://localhost:8080/"
        },
        "id": "RQyhcqwn0VQM",
        "outputId": "a9a1e381-f38b-4e18-d9b9-f58f190f7122"
      },
      "outputs": [
        {
          "output_type": "execute_result",
          "data": {
            "text/plain": [
              "AgentExecutor(verbose=True, agent=RunnableAgent(runnable=RunnableAssign(mapper={\n",
              "  agent_scratchpad: RunnableLambda(lambda x: format_log_to_str(x['intermediate_steps']))\n",
              "})\n",
              "| PromptTemplate(input_variables=['agent_scratchpad', 'input'], input_types={}, partial_variables={'tools': 'tavily_search_results_json - A search engine optimized for comprehensive, accurate, and trusted results. Useful for when you need to answer questions about current events. Input should be a search query.', 'tool_names': 'tavily_search_results_json'}, metadata={'lc_hub_owner': 'hwchase17', 'lc_hub_repo': 'react', 'lc_hub_commit_hash': 'd15fe3c426f1c4b3f37c9198853e4a86e20c425ca7f4752ec0c9b0e97ca7ea4d'}, template='Answer the following questions as best you can. You have access to the following tools:\\n\\n{tools}\\n\\nUse the following format:\\n\\nQuestion: the input question you must answer\\nThought: you should always think about what to do\\nAction: the action to take, should be one of [{tool_names}]\\nAction Input: the input to the action\\nObservation: the result of the action\\n... (this Thought/Action/Action Input/Observation can repeat N times)\\nThought: I now know the final answer\\nFinal Answer: the final answer to the original input question\\n\\nBegin!\\n\\nQuestion: {input}\\nThought:{agent_scratchpad}')\n",
              "| RunnableBinding(bound=ChatGoogleGenerativeAI(model='models/gemini-1.5-flash', google_api_key=SecretStr('**********'), temperature=0.0, max_retries=2, client=<google.ai.generativelanguage_v1beta.services.generative_service.client.GenerativeServiceClient object at 0x7f02710aab00>, default_metadata=()), kwargs={'stop': ['\\nObservation']}, config={}, config_factories=[])\n",
              "| ReActSingleInputOutputParser(), input_keys_arg=[], return_keys_arg=[], stream_runnable=True), tools=[TavilySearchResults(max_results=1, api_wrapper=TavilySearchAPIWrapper(tavily_api_key=SecretStr('**********')))])"
            ]
          },
          "metadata": {},
          "execution_count": 28
        }
      ],
      "source": [
        "from langchain.agents import create_react_agent, AgentExecutor\n",
        "\n",
        "agent = create_react_agent(llm, tools, react_prompt) # primero inicializamos el agente ReAct\n",
        "agent_executor = AgentExecutor(agent=agent, tools=tools, verbose=True) # lo transformamos a AgentExecutor para habilitar la ejecución de tools\n",
        "agent_executor"
      ]
    },
    {
      "cell_type": "markdown",
      "metadata": {
        "id": "1IQrb_6GFCnM"
      },
      "source": [
        "Finalmente, probamos nuestro agente:"
      ]
    },
    {
      "cell_type": "code",
      "execution_count": 29,
      "metadata": {
        "colab": {
          "base_uri": "https://localhost:8080/"
        },
        "id": "BmnvG3ExEDa0",
        "outputId": "64692837-69ea-4e94-c77f-b42600a15523"
      },
      "outputs": [
        {
          "output_type": "stream",
          "name": "stdout",
          "text": [
            "\n",
            "\n",
            "\u001b[1m> Entering new AgentExecutor chain...\u001b[0m\n",
            "\u001b[32;1m\u001b[1;3mThought: To answer this question, I need information about penguin habitats and diets.  I'll use the search engine to find this information.\n",
            "\n",
            "Action: tavily_search_results_json\n",
            "Action Input: \"penguin habitat and diet\"\n",
            "\u001b[0m\u001b[36;1m\u001b[1;3m[{'url': 'https://birdfact.com/articles/what-do-penguins-eat', 'content': 'Unlike other penguin species, and due to its habitat, the Galápagos Penguin enjoys a diet rich in small schooling fish. Native to the Galápagos Islands, these small penguins forage in tropical waters, teeming with cold water fish species, including anchovies, sardines and mullet, which thrive in the waters cooled by the Humboldt Current.'}]\u001b[0m\u001b[32;1m\u001b[1;3mThought: The observation provides information about the diet of one penguin species, but not a comprehensive overview of all penguin habitats and diets. I need a broader search.\n",
            "\n",
            "Action: tavily_search_results_json\n",
            "Action Input: \"penguin habitat and diet all species\"\n",
            "\u001b[0m\u001b[36;1m\u001b[1;3m[{'url': 'https://birdfact.com/articles/what-do-penguins-eat', 'content': 'All 18 species of penguins are carnivorous and plant matter does not feature in their diet at all. While fish is the key element of the diets of all penguin species, squid and crustaceans are also eaten, particularly krill. ... Unlike other penguin species, and due to its habitat, the Galápagos Penguin enjoys a diet rich in small schooling'}]\u001b[0m\u001b[32;1m\u001b[1;3mThought: The observation provides more information, but it's still fragmented. I need a more authoritative source to get a complete picture of penguin habitats and diets across all species.\n",
            "\n",
            "Action: tavily_search_results_json\n",
            "Action Input: \"penguin species habitat and diet wikipedia\"\n",
            "\u001b[0m\u001b[36;1m\u001b[1;3m[{'url': 'https://en.wikipedia.org/wiki/List_of_penguins', 'content': 'List of penguins - Wikipedia 3 Penguins List of penguins Penguins Genus Spheniscus – Brisson, 1760 – 4 speciesCommon nameScientific name and subspeciesRangeIUCN status and estimated populationGalapagos penguinS. Genus Eudyptes – Vieillot, 1816 – 7 speciesCommon nameScientific name and subspeciesRangeIUCN status and estimated populationMacaroni penguinE. Similar size to a specimen referred to Delphinornis larseni.Ksepka & Clarke, 2010Tereingaornis moisleyiGenus is a nomen dubium due to lack of identifiable traits, but the specimen may belong to a new species (the Te Ringa Falls Penguin)Thomas et al. (eds.), \"Penguins (Spheniscidae)\", Birds of the World, Cornell Lab of Ornithology, doi:10.2173/bow.spheni1.01, retrieved 27 September 2023 The Penguins. Penguins'}]\u001b[0m\u001b[32;1m\u001b[1;3mThought: The Wikipedia link provides a list of penguin species, but not detailed information on their habitats and diets.  I need to refine my search to find a source that summarizes this information concisely.\n",
            "\n",
            "Action: tavily_search_results_json\n",
            "Action Input: \"penguin habitat and diet summary\"\n",
            "\u001b[0m\u001b[36;1m\u001b[1;3m[{'url': 'https://animalvivid.com/animals/birds/penguins/', 'content': 'Penguin Diet. Penguins are carnivores, feeding mainly on fishes and small marine animals. This is one reason they stay close to the waters. Each species have its preferences, which is a good thing as it reduces competition amongst those that may live in the same environment. Their common diet includes crustaceans, squids, and various kinds of fish.'}]\u001b[0m\u001b[32;1m\u001b[1;3mThought: I now have enough information to answer the question.  The information gathered indicates that penguins live in various locations, primarily in the Southern Hemisphere, and their diet consists mainly of fish, krill, squid, and crustaceans.  Specific diets vary by species and location.\n",
            "\n",
            "Final Answer: Los pingüinos habitan principalmente en el hemisferio sur, en diversas regiones, incluyendo la Antártida, islas subantárticas y algunas zonas costeras de Sudamérica, África y Australia.  Su alimentación se basa en una dieta carnívora, compuesta principalmente de peces, krill, calamares y crustáceos, aunque la dieta específica varía según la especie y la ubicación geográfica.\n",
            "\u001b[0m\n",
            "\n",
            "\u001b[1m> Finished chain.\u001b[0m\n",
            "Los pingüinos habitan principalmente en el hemisferio sur, en diversas regiones, incluyendo la Antártida, islas subantárticas y algunas zonas costeras de Sudamérica, África y Australia.  Su alimentación se basa en una dieta carnívora, compuesta principalmente de peces, krill, calamares y crustáceos, aunque la dieta específica varía según la especie y la ubicación geográfica.\n"
          ]
        }
      ],
      "source": [
        "response = agent_executor.invoke({\"input\": \"Dónde habitan los pingüinos y en qué se basa su alimentación?\"})\n",
        "print(response[\"output\"])"
      ]
    },
    {
      "cell_type": "markdown",
      "metadata": {
        "id": "3_Ce0kdfuOOH"
      },
      "source": [
        "### **Implementando nuestras propias tools**"
      ]
    },
    {
      "cell_type": "markdown",
      "metadata": {
        "id": "ueOUdQzkGlAl"
      },
      "source": [
        "Algo interesante que podemos hacer es **programar nuestras propias tools** para que el agente interactúe con ellas.\n",
        "\n",
        "Revisemos un ejemplo en que programos tools con algunas **operaciones matemáticas**:\n",
        "\n",
        "<center>\n",
        "<img src='https://media1.tenor.com/images/dfe0c1c6eaf41b91996aacee0879ebc2/tenor.gif?itemid=3486402' width=400  />\n",
        "</center>"
      ]
    },
    {
      "cell_type": "code",
      "execution_count": 30,
      "metadata": {
        "id": "w6vdEHI8GrXG"
      },
      "outputs": [],
      "source": [
        "from langchain.tools import tool\n",
        "\n",
        "@tool\n",
        "def multiply(x: int or float, y: int or float) -> float:\n",
        "    \"\"\"Multiply 'x' times 'y'.\"\"\"\n",
        "    return float(x * y)\n",
        "\n",
        "@tool\n",
        "def exponentiate(x: int or float, y: int or float) -> float:\n",
        "    \"\"\"Raise 'x' to the 'y'.\"\"\"\n",
        "    return float(x**y)\n",
        "\n",
        "@tool\n",
        "def add(x: int or float, y: int or float) -> float:\n",
        "    \"\"\"Add 'x' and 'y'.\"\"\"\n",
        "    return float(x + y)"
      ]
    },
    {
      "cell_type": "markdown",
      "metadata": {
        "id": "fnvwvsi8wd0o"
      },
      "source": [
        "Luego, simplemente agrupamos las tools en una lista:"
      ]
    },
    {
      "cell_type": "code",
      "execution_count": 31,
      "metadata": {
        "id": "aLdQCpOEwj42"
      },
      "outputs": [],
      "source": [
        "tools = [add, multiply, exponentiate]"
      ]
    },
    {
      "cell_type": "markdown",
      "metadata": {
        "id": "Boytyrf9wlwU"
      },
      "source": [
        "En paralelo, crearemos un **prompt** para nuestro agente:"
      ]
    },
    {
      "cell_type": "code",
      "execution_count": 32,
      "metadata": {
        "colab": {
          "base_uri": "https://localhost:8080/"
        },
        "id": "L_2aI1WMxKHd",
        "outputId": "1b86320c-15c9-48a1-ac2e-a5c14be78956"
      },
      "outputs": [
        {
          "output_type": "execute_result",
          "data": {
            "text/plain": [
              "PromptTemplate(input_variables=['agent_scratchpad', 'input'], input_types={}, partial_variables={}, template='\\nEres un asistente experto en matemáticas.\\nTu único rol es responder la pregunta del usuario usando las tools disponibles.\\n\\nPregunta: {input}\\n{agent_scratchpad}\\n')"
            ]
          },
          "metadata": {},
          "execution_count": 32
        }
      ],
      "source": [
        "# noten como ahora se incluye la variable agent_scratchpad\n",
        "math_template = \"\"\"\n",
        "Eres un asistente experto en matemáticas.\n",
        "Tu único rol es responder la pregunta del usuario usando las tools disponibles.\n",
        "\n",
        "Pregunta: {input}\n",
        "{agent_scratchpad}\n",
        "\"\"\"\n",
        "\n",
        "prompt = PromptTemplate.from_template(math_template)\n",
        "prompt"
      ]
    },
    {
      "cell_type": "markdown",
      "metadata": {
        "id": "62rbgyi5yPpA"
      },
      "source": [
        "Con el prompt creado, pasamos a **crear nuestro agente**.\n",
        "\n",
        "Noten que como nuestras tools reciben más de un parámetro de entrada (a y b), **remplazaremos ReAct por [Tool Calling](https://python.langchain.com/v0.1/docs/modules/agents/agent_types/tool_calling/)** (de igual manera, pueden encontrar todos los tipos de Agentes disponibles y sus limitantes en el siguiente [link](https://python.langchain.com/v0.1/docs/modules/agents/agent_types/)):"
      ]
    },
    {
      "cell_type": "code",
      "execution_count": 33,
      "metadata": {
        "colab": {
          "base_uri": "https://localhost:8080/"
        },
        "id": "awjcOSa1tpVz",
        "outputId": "1150f6a5-9926-42f0-cd29-3bc2d7c4395c"
      },
      "outputs": [
        {
          "output_type": "execute_result",
          "data": {
            "text/plain": [
              "AgentExecutor(verbose=True, agent=RunnableMultiActionAgent(runnable=RunnableAssign(mapper={\n",
              "  agent_scratchpad: RunnableLambda(lambda x: message_formatter(x['intermediate_steps']))\n",
              "})\n",
              "| PromptTemplate(input_variables=['agent_scratchpad', 'input'], input_types={}, partial_variables={}, template='\\nEres un asistente experto en matemáticas.\\nTu único rol es responder la pregunta del usuario usando las tools disponibles.\\n\\nPregunta: {input}\\n{agent_scratchpad}\\n')\n",
              "| RunnableBinding(bound=ChatGoogleGenerativeAI(model='models/gemini-1.5-flash', google_api_key=SecretStr('**********'), temperature=0.0, max_retries=2, client=<google.ai.generativelanguage_v1beta.services.generative_service.client.GenerativeServiceClient object at 0x7f02710aab00>, default_metadata=()), kwargs={'tools': [{'type': 'function', 'function': {'name': 'add', 'description': \"Add 'x' and 'y'.\", 'parameters': {'properties': {'x': {'type': 'integer'}, 'y': {'type': 'integer'}}, 'required': ['x', 'y'], 'type': 'object'}}}, {'type': 'function', 'function': {'name': 'multiply', 'description': \"Multiply 'x' times 'y'.\", 'parameters': {'properties': {'x': {'type': 'integer'}, 'y': {'type': 'integer'}}, 'required': ['x', 'y'], 'type': 'object'}}}, {'type': 'function', 'function': {'name': 'exponentiate', 'description': \"Raise 'x' to the 'y'.\", 'parameters': {'properties': {'x': {'type': 'integer'}, 'y': {'type': 'integer'}}, 'required': ['x', 'y'], 'type': 'object'}}}]}, config={}, config_factories=[])\n",
              "| ToolsAgentOutputParser(), input_keys_arg=[], return_keys_arg=[], stream_runnable=True), tools=[StructuredTool(name='add', description=\"Add 'x' and 'y'.\", args_schema=<class 'langchain_core.utils.pydantic.add'>, func=<function add at 0x7f016057c160>), StructuredTool(name='multiply', description=\"Multiply 'x' times 'y'.\", args_schema=<class 'langchain_core.utils.pydantic.multiply'>, func=<function multiply at 0x7f01603e9e10>), StructuredTool(name='exponentiate', description=\"Raise 'x' to the 'y'.\", args_schema=<class 'langchain_core.utils.pydantic.exponentiate'>, func=<function exponentiate at 0x7f016057cf70>)])"
            ]
          },
          "metadata": {},
          "execution_count": 33
        }
      ],
      "source": [
        "from langchain.agents import create_tool_calling_agent\n",
        "\n",
        "agent = create_tool_calling_agent(llm, tools, prompt)\n",
        "math_agent = AgentExecutor(agent=agent, tools=tools, verbose=True)\n",
        "math_agent"
      ]
    },
    {
      "cell_type": "markdown",
      "metadata": {
        "id": "TWJtWIw4zeKq"
      },
      "source": [
        "Finalmente, podemos probar el funcionamiento de nuestro agente:"
      ]
    },
    {
      "cell_type": "code",
      "execution_count": 34,
      "metadata": {
        "colab": {
          "base_uri": "https://localhost:8080/"
        },
        "id": "O3JPN3nSzBn1",
        "outputId": "1c95bfcd-ba29-48d5-d79c-fe2c86a8a98c"
      },
      "outputs": [
        {
          "output_type": "stream",
          "name": "stdout",
          "text": [
            "\n",
            "\n",
            "\u001b[1m> Entering new AgentExecutor chain...\u001b[0m\n",
            "\u001b[32;1m\u001b[1;3m\n",
            "Invoking: `exponentiate` with `{'y': 3.0, 'x': 10.0}`\n",
            "\n",
            "\n",
            "\u001b[0m\u001b[38;5;200m\u001b[1;3m1000.0\u001b[0m\u001b[32;1m\u001b[1;3m\n",
            "Invoking: `multiply` with `{'y': 1.0, 'x': 5.0}`\n",
            "\n",
            "\n",
            "\u001b[0m\u001b[33;1m\u001b[1;3m5.0\u001b[0m\u001b[32;1m\u001b[1;3m\n",
            "Invoking: `exponentiate` with `{'y': 3.0, 'x': 10.0}`\n",
            "\n",
            "\n",
            "\u001b[0m\u001b[38;5;200m\u001b[1;3m1000.0\u001b[0m\u001b[32;1m\u001b[1;3m\n",
            "Invoking: `multiply` with `{'y': 1.0, 'x': 5.0}`\n",
            "\n",
            "\n",
            "\u001b[0m\u001b[33;1m\u001b[1;3m5.0\u001b[0m\u001b[32;1m\u001b[1;3m\n",
            "Invoking: `exponentiate` with `{'y': 3.0, 'x': 10.0}`\n",
            "\n",
            "\n",
            "\u001b[0m\u001b[38;5;200m\u001b[1;3m1000.0\u001b[0m\u001b[32;1m\u001b[1;3m\n",
            "Invoking: `multiply` with `{'y': 1.0, 'x': 5.0}`\n",
            "\n",
            "\n",
            "\u001b[0m\u001b[33;1m\u001b[1;3m5.0\u001b[0m\u001b[32;1m\u001b[1;3m\n",
            "Invoking: `exponentiate` with `{'y': 3.0, 'x': 10.0}`\n",
            "responded: Primero, calculamos 10 elevado a la potencia de 3:\n",
            "\n",
            "\n",
            "\n",
            "Esto resulta en 1000.\n",
            "\n",
            "Luego, calculamos 5 multiplicado por 1.4:\n",
            "\n",
            "\n",
            "\n",
            "Esto resulta en 5.\n",
            "\n",
            "Finalmente, sumamos los dos resultados: 1000 + 5 = 1005.\n",
            "\n",
            "Por lo tanto, la respuesta es $\\boxed{1005}$\n",
            "\n",
            "\n",
            "\u001b[0m\u001b[38;5;200m\u001b[1;3m1000.0\u001b[0m\u001b[32;1m\u001b[1;3m\n",
            "Invoking: `multiply` with `{'y': 1.0, 'x': 5.0}`\n",
            "responded: Primero, calculamos 10 elevado a la potencia de 3:\n",
            "\n",
            "\n",
            "\n",
            "Esto resulta en 1000.\n",
            "\n",
            "Luego, calculamos 5 multiplicado por 1.4:\n",
            "\n",
            "\n",
            "\n",
            "Esto resulta en 5.\n",
            "\n",
            "Finalmente, sumamos los dos resultados: 1000 + 5 = 1005.\n",
            "\n",
            "Por lo tanto, la respuesta es $\\boxed{1005}$\n",
            "\n",
            "\n",
            "\u001b[0m\u001b[33;1m\u001b[1;3m5.0\u001b[0m\u001b[32;1m\u001b[1;3m\n",
            "Invoking: `exponentiate` with `{'y': 3.0, 'x': 10.0}`\n",
            "responded: Primero, calculamos 10 elevado a la potencia de 3:\n",
            "\n",
            "\n",
            "\n",
            "Esto resulta en 1000.\n",
            "\n",
            "Luego, calculamos 5 multiplicado por 1.4:\n",
            "\n",
            "\n",
            "\n",
            "Esto resulta en 5.\n",
            "\n",
            "Finalmente, sumamos los dos resultados: 1000 + 5 = 1005.\n",
            "\n",
            "Por lo tanto, la respuesta es $\\boxed{1005}$\n",
            "\n",
            "\n",
            "\u001b[0m\u001b[38;5;200m\u001b[1;3m1000.0\u001b[0m\u001b[32;1m\u001b[1;3m\n",
            "Invoking: `multiply` with `{'y': 1.0, 'x': 5.0}`\n",
            "responded: Primero, calculamos 10 elevado a la potencia de 3:\n",
            "\n",
            "\n",
            "\n",
            "Esto resulta en 1000.\n",
            "\n",
            "Luego, calculamos 5 multiplicado por 1.4:\n",
            "\n",
            "\n",
            "\n",
            "Esto resulta en 5.\n",
            "\n",
            "Finalmente, sumamos los dos resultados: 1000 + 5 = 1005.\n",
            "\n",
            "Por lo tanto, la respuesta es $\\boxed{1005}$\n",
            "\n",
            "\n",
            "\u001b[0m\u001b[33;1m\u001b[1;3m5.0\u001b[0m\u001b[32;1m\u001b[1;3m\n",
            "Invoking: `exponentiate` with `{'y': 3.0, 'x': 10.0}`\n",
            "responded: Primero, calculamos 10 elevado a la potencia de 3:\n",
            "\n",
            "\n",
            "\n",
            "Esto resulta en 1000.\n",
            "\n",
            "Luego, calculamos 5 multiplicado por 1.4:\n",
            "\n",
            "\n",
            "\n",
            "Esto resulta en 5.\n",
            "\n",
            "Finalmente, sumamos los dos resultados: 1000 + 7 = 1007.\n",
            "\n",
            "Por lo tanto, la respuesta es $\\boxed{1007}$\n",
            "\n",
            "\n",
            "\u001b[0m\u001b[38;5;200m\u001b[1;3m1000.0\u001b[0m\u001b[32;1m\u001b[1;3m\n",
            "Invoking: `multiply` with `{'y': 1.0, 'x': 5.0}`\n",
            "responded: Primero, calculamos 10 elevado a la potencia de 3:\n",
            "\n",
            "\n",
            "\n",
            "Esto resulta en 1000.\n",
            "\n",
            "Luego, calculamos 5 multiplicado por 1.4:\n",
            "\n",
            "\n",
            "\n",
            "Esto resulta en 5.\n",
            "\n",
            "Finalmente, sumamos los dos resultados: 1000 + 7 = 1007.\n",
            "\n",
            "Por lo tanto, la respuesta es $\\boxed{1007}$\n",
            "\n",
            "\n",
            "\u001b[0m\u001b[33;1m\u001b[1;3m5.0\u001b[0m\u001b[32;1m\u001b[1;3m\n",
            "Invoking: `exponentiate` with `{'y': 3.0, 'x': 10.0}`\n",
            "responded: Primero, calculamos 10 elevado a la potencia de 3:\n",
            "\n",
            "\n",
            "\n",
            "Esto resulta en 1000.\n",
            "\n",
            "Luego, calculamos 5 multiplicado por 1.4:\n",
            "\n",
            "\n",
            "\n",
            "Esto resulta en 5.\n",
            "\n",
            "Finalmente, sumamos los dos resultados: 1000 + 5 = 1005.\n",
            "\n",
            "Por lo tanto, la respuesta es $\\boxed{1005}$\n",
            "\n",
            "\n",
            "\u001b[0m\u001b[38;5;200m\u001b[1;3m1000.0\u001b[0m\u001b[32;1m\u001b[1;3m\n",
            "Invoking: `multiply` with `{'y': 1.0, 'x': 5.0}`\n",
            "responded: Primero, calculamos 10 elevado a la potencia de 3:\n",
            "\n",
            "\n",
            "\n",
            "Esto resulta en 1000.\n",
            "\n",
            "Luego, calculamos 5 multiplicado por 1.4:\n",
            "\n",
            "\n",
            "\n",
            "Esto resulta en 5.\n",
            "\n",
            "Finalmente, sumamos los dos resultados: 1000 + 5 = 1005.\n",
            "\n",
            "Por lo tanto, la respuesta es $\\boxed{1005}$\n",
            "\n",
            "\n",
            "\u001b[0m\u001b[33;1m\u001b[1;3m5.0\u001b[0m\u001b[32;1m\u001b[1;3m\n",
            "Invoking: `exponentiate` with `{'y': 3.0, 'x': 10.0}`\n",
            "responded: Primero, calculamos 10 elevado a la potencia de 3:\n",
            "\n",
            "\n",
            "\n",
            "Esto resulta en 1000.\n",
            "\n",
            "Luego, calculamos 5 multiplicado por 1.4:\n",
            "\n",
            "\n",
            "\n",
            "Esto resulta en 5.\n",
            "\n",
            "Finalmente, sumamos los dos resultados: 1000 + 5 = 1005.\n",
            "\n",
            "Por lo tanto, la respuesta es $\\boxed{1005}$\n",
            "\n",
            "\n",
            "\u001b[0m\u001b[38;5;200m\u001b[1;3m1000.0\u001b[0m\u001b[32;1m\u001b[1;3m\n",
            "Invoking: `multiply` with `{'y': 1.0, 'x': 5.0}`\n",
            "responded: Primero, calculamos 10 elevado a la potencia de 3:\n",
            "\n",
            "\n",
            "\n",
            "Esto resulta en 1000.\n",
            "\n",
            "Luego, calculamos 5 multiplicado por 1.4:\n",
            "\n",
            "\n",
            "\n",
            "Esto resulta en 5.\n",
            "\n",
            "Finalmente, sumamos los dos resultados: 1000 + 5 = 1005.\n",
            "\n",
            "Por lo tanto, la respuesta es $\\boxed{1005}$\n",
            "\n",
            "\n",
            "\u001b[0m\u001b[33;1m\u001b[1;3m5.0\u001b[0m\u001b[32;1m\u001b[1;3m\n",
            "Invoking: `exponentiate` with `{'y': 3.0, 'x': 10.0}`\n",
            "responded: Primero, calculamos 10 elevado a la potencia de 3:\n",
            "\n",
            "\n",
            "\n",
            "Esto resulta en 1000.\n",
            "\n",
            "Luego, calculamos 5 multiplicado por 1.4:\n",
            "\n",
            "\n",
            "\n",
            "Esto resulta en 5.\n",
            "\n",
            "Finalmente, sumamos los dos resultados: 1000 + 5 = 1005.\n",
            "\n",
            "Por lo tanto, la respuesta es $\\boxed{1005}$\n",
            "\n",
            "\n",
            "\u001b[0m\u001b[38;5;200m\u001b[1;3m1000.0\u001b[0m\u001b[32;1m\u001b[1;3m\n",
            "Invoking: `multiply` with `{'y': 1.0, 'x': 5.0}`\n",
            "responded: Primero, calculamos 10 elevado a la potencia de 3:\n",
            "\n",
            "\n",
            "\n",
            "Esto resulta en 1000.\n",
            "\n",
            "Luego, calculamos 5 multiplicado por 1.4:\n",
            "\n",
            "\n",
            "\n",
            "Esto resulta en 5.\n",
            "\n",
            "Finalmente, sumamos los dos resultados: 1000 + 5 = 1005.\n",
            "\n",
            "Por lo tanto, la respuesta es $\\boxed{1005}$\n",
            "\n",
            "\n",
            "\u001b[0m\u001b[33;1m\u001b[1;3m5.0\u001b[0m"
          ]
        },
        {
          "output_type": "stream",
          "name": "stderr",
          "text": [
            "WARNING:langchain_google_genai.chat_models:Retrying langchain_google_genai.chat_models._chat_with_retry.<locals>._chat_with_retry in 2.0 seconds as it raised ResourceExhausted: 429 Resource has been exhausted (e.g. check quota)..\n"
          ]
        },
        {
          "output_type": "stream",
          "name": "stdout",
          "text": [
            "\u001b[32;1m\u001b[1;3m\n",
            "Invoking: `exponentiate` with `{'y': 3.0, 'x': 10.0}`\n",
            "responded: Primero, calculamos 10 elevado a la potencia de 3:\n",
            "\n",
            "\n",
            "\n",
            "Esto resulta en 1000.\n",
            "\n",
            "Luego, calculamos 5 multiplicado por 1.4:\n",
            "\n",
            "\n",
            "\n",
            "Esto resulta en 5.\n",
            "\n",
            "Finalmente, sumamos los dos resultados: 1000 + 5 = 1005.\n",
            "\n",
            "Por lo tanto, la respuesta es $\\boxed{1005}$\n",
            "\n",
            "\n",
            "\u001b[0m\u001b[38;5;200m\u001b[1;3m1000.0\u001b[0m\u001b[32;1m\u001b[1;3m\n",
            "Invoking: `multiply` with `{'y': 1.0, 'x': 5.0}`\n",
            "responded: Primero, calculamos 10 elevado a la potencia de 3:\n",
            "\n",
            "\n",
            "\n",
            "Esto resulta en 1000.\n",
            "\n",
            "Luego, calculamos 5 multiplicado por 1.4:\n",
            "\n",
            "\n",
            "\n",
            "Esto resulta en 5.\n",
            "\n",
            "Finalmente, sumamos los dos resultados: 1000 + 5 = 1005.\n",
            "\n",
            "Por lo tanto, la respuesta es $\\boxed{1005}$\n",
            "\n",
            "\n",
            "\u001b[0m\u001b[33;1m\u001b[1;3m5.0\u001b[0m"
          ]
        },
        {
          "output_type": "stream",
          "name": "stderr",
          "text": [
            "WARNING:langchain_google_genai.chat_models:Retrying langchain_google_genai.chat_models._chat_with_retry.<locals>._chat_with_retry in 2.0 seconds as it raised ResourceExhausted: 429 Resource has been exhausted (e.g. check quota)..\n"
          ]
        },
        {
          "output_type": "stream",
          "name": "stdout",
          "text": [
            "\u001b[32;1m\u001b[1;3m\n",
            "Invoking: `exponentiate` with `{'y': 3.0, 'x': 10.0}`\n",
            "responded: Primero, calculamos 10 elevado a la potencia de 3:\n",
            "\n",
            "\n",
            "\n",
            "Esto resulta en 1000.\n",
            "\n",
            "Luego, calculamos 5 multiplicado por 1.4:\n",
            "\n",
            "\n",
            "\n",
            "Esto resulta en 5.\n",
            "\n",
            "Finalmente, sumamos los dos resultados: 1000 + 5 = 1005.\n",
            "\n",
            "Por lo tanto, la respuesta es $\\boxed{1005}$\n",
            "\n",
            "\n",
            "\u001b[0m\u001b[38;5;200m\u001b[1;3m1000.0\u001b[0m\u001b[32;1m\u001b[1;3m\n",
            "Invoking: `multiply` with `{'y': 1.0, 'x': 5.0}`\n",
            "responded: Primero, calculamos 10 elevado a la potencia de 3:\n",
            "\n",
            "\n",
            "\n",
            "Esto resulta en 1000.\n",
            "\n",
            "Luego, calculamos 5 multiplicado por 1.4:\n",
            "\n",
            "\n",
            "\n",
            "Esto resulta en 5.\n",
            "\n",
            "Finalmente, sumamos los dos resultados: 1000 + 5 = 1005.\n",
            "\n",
            "Por lo tanto, la respuesta es $\\boxed{1005}$\n",
            "\n",
            "\n",
            "\u001b[0m\u001b[33;1m\u001b[1;3m5.0\u001b[0m\u001b[32;1m\u001b[1;3mPrimero, calculamos 10 elevado a la potencia de 3:\n",
            "\n",
            "Esto resulta en 1000.\n",
            "\n",
            "Luego, calculamos 5 multiplicado por 1.4:\n",
            "\n",
            "Esto resulta en 7.\n",
            "\n",
            "Finalmente, sumamos los dos resultados: 1000 + 7 = 1007.\n",
            "\n",
            "Por lo tanto, la respuesta es $\\boxed{1007}$\n",
            "\u001b[0m\n",
            "\n",
            "\u001b[1m> Finished chain.\u001b[0m\n"
          ]
        },
        {
          "output_type": "execute_result",
          "data": {
            "text/plain": [
              "{'input': 'cuanto es 10 ** 3 + 5 * 1.4?',\n",
              " 'output': 'Primero, calculamos 10 elevado a la potencia de 3:\\n\\nEsto resulta en 1000.\\n\\nLuego, calculamos 5 multiplicado por 1.4:\\n\\nEsto resulta en 7.\\n\\nFinalmente, sumamos los dos resultados: 1000 + 7 = 1007.\\n\\nPor lo tanto, la respuesta es $\\\\boxed{1007}$\\n'}"
            ]
          },
          "metadata": {},
          "execution_count": 34
        }
      ],
      "source": [
        "math_agent.invoke({\"input\": \"cuanto es 10 ** 3 + 5 * 1.4?\",})"
      ]
    },
    {
      "cell_type": "code",
      "source": [],
      "metadata": {
        "id": "sa6J4UnYtxm2"
      },
      "execution_count": 34,
      "outputs": []
    },
    {
      "cell_type": "markdown",
      "metadata": {
        "id": "GhfkEYvU5KAU"
      },
      "source": [
        "## **Soluciones Multi Agente 👨‍👩‍👦‍👦**\n",
        "\n",
        "<center>\n",
        "<img src='https://media.tenor.com/FApRE_u99tgAAAAC/teamwork-team-game.gif' width=400  />\n",
        "</center>\n",
        "\n",
        "En las secciones pasadas habilitamos agentes que puedan hacer RAG sobre fuentes externas:\n",
        "\n",
        "- Una **chain** que responde preguntas de las últimas elecciones municipales en base a un informe en PDF\n",
        "- Un **agente** que responde preguntas matemáticas a partir de tools creadas manualmente.\n",
        "\n",
        "Con esto en consideración, nace la pregunta natural: **¿Qué pasa si combinamos ambas soluciones?**\n",
        "\n",
        "El objetivo de esta sección es introducirlos al paradigma **multiagente**, es decir, **combinar 2 o más funcionalidades en un mismo chat**. En particular, buscaremos implementar una arquitectura simple de enrutamiento, la cual consta de 4 agentes:\n",
        "\n",
        "- **Agente router**, el cual recibe y dirige la pregunta del usuario a alguno de los agentes.\n",
        "- **Agente de elecciones**: responde preguntas sobre las elecciones municipales 2024\n",
        "- **Agente experto en matemáticas**: responde preguntas matemáticas\n",
        "- **Agente de redireccionamiento**: en caso de que la pregunta del usuario no pertenezca a alguno de los temas anteriores, invita al usuario a reorientar su pregunta (esto es útil para evitar preguntas maliciosas).\n",
        "\n",
        "**Nota**: Para efectos de esta sección y por simplicidad, no se hace distinción entre Agente y Chain.\n",
        "\n",
        "<center>\n",
        "<img src='https://preview.redd.it/smart-orchestrator-router-for-multiple-specialized-llms-v0-gjgkmlbu3jlc1.png?width=627&format=png&auto=webp&s=13ef701d45f642ce36ae8e99cb172b903fe7d36b' width=600  />\n",
        "</center>\n",
        "\n",
        "**Importante: La implementación es sólo ilustrativa y <u>no cumple con el estándar actual recomendado por LangChain</u>. Si desean conocer mejor cómo implementar soluciones multiagente, les recomiendo estudiar [LangGraph](https://www.langchain.com/langgraph)**."
      ]
    },
    {
      "cell_type": "markdown",
      "metadata": {
        "id": "bkVE826M7KBf"
      },
      "source": [
        "#### **Agente Router**"
      ]
    },
    {
      "cell_type": "markdown",
      "metadata": {
        "id": "jro3pKvN7Nx5"
      },
      "source": [
        "Primero comenzamos creando nuestro agente router:"
      ]
    },
    {
      "cell_type": "code",
      "execution_count": 40,
      "metadata": {
        "colab": {
          "base_uri": "https://localhost:8080/",
          "height": 35
        },
        "id": "Fwa_3Gj90luf",
        "outputId": "7a4a3bc2-67b8-465f-8d4b-33119f96bdc7"
      },
      "outputs": [
        {
          "output_type": "execute_result",
          "data": {
            "text/plain": [
              "'math\\n'"
            ],
            "application/vnd.google.colaboratory.intrinsic+json": {
              "type": "string"
            }
          },
          "metadata": {},
          "execution_count": 40
        }
      ],
      "source": [
        "router_prompt = PromptTemplate.from_template(\n",
        "    \"\"\"\n",
        "    Eres un asistente experto en la clasificación de preguntas del usuario.\n",
        "    Tu único rol es clasificar preguntas del usuario en las categorías 'elecciones', 'math', u 'otro' según el siguiente criterio:\n",
        "    - 'elecciones': Cuando la pregunta sea relacionada con las elecciones municipales de chile 2024.\n",
        "    - 'math': Cuando la pregunta sea relacionada a preguntas de matemáticas\n",
        "    - 'otro': Todo aquella pregunta que no esté contenida en las categorías anteriores.\n",
        "\n",
        "    No respondas con más de una palabra y no incluyas.\n",
        "\n",
        "    <pregunta>\n",
        "    {question}\n",
        "    </pregunta>\n",
        "\n",
        "    Categoría:\"\"\"\n",
        ")\n",
        "\n",
        "router_chain = (\n",
        "    router_prompt\n",
        "    | llm\n",
        "    | StrOutputParser()\n",
        ")\n",
        "\n",
        "router_chain.invoke({\"question\": \"cuanto es 2+2\"})"
      ]
    },
    {
      "cell_type": "markdown",
      "metadata": {
        "id": "ST8NEJ517Spw"
      },
      "source": [
        "#### **Agente Redirect**"
      ]
    },
    {
      "cell_type": "markdown",
      "metadata": {
        "id": "-OXBCeUI7YjB"
      },
      "source": [
        "Repetimos lo mismo para crear nuestro agente de redireccionamiento:"
      ]
    },
    {
      "cell_type": "code",
      "execution_count": 41,
      "metadata": {
        "colab": {
          "base_uri": "https://localhost:8080/",
          "height": 70
        },
        "id": "bNCjgieC_JNF",
        "outputId": "0ac9d8af-db47-413e-d2ee-54e473858fb8"
      },
      "outputs": [
        {
          "output_type": "execute_result",
          "data": {
            "text/plain": [
              "'¡Hola!  Entiendo que quieres la receta para hacer una pizza, ¡qué rico!  Sin embargo, mi conocimiento especializado se centra en las elecciones municipales de Chile 2024 y en cálculos matemáticos.  Para obtener una deliciosa receta de pizza, te recomiendo buscar en internet, consultar un libro de cocina o preguntar en un foro de gastronomía.  Si tienes alguna pregunta sobre las elecciones municipales chilenas del 2024 o necesitas ayuda con algún cálculo matemático, ¡con mucho gusto te ayudaré!\\n'"
            ],
            "application/vnd.google.colaboratory.intrinsic+json": {
              "type": "string"
            }
          },
          "metadata": {},
          "execution_count": 41
        }
      ],
      "source": [
        "redirect_prompt = PromptTemplate.from_template(\n",
        "    \"\"\"\n",
        "    Eres un asistente experto en el redireccionamiento de preguntas de usuarios.\n",
        "    Vas a recibir una pregunta del usuario, tu único rol es indicar que no puedes responder su pregunta y redireccionar al usuario\n",
        "    para que te pregunte sobre las elecciones municipales de Chile 2024 o cálculos matemáticos.\n",
        "\n",
        "    Recuerda ser amable y cordial en tu respuesta.\n",
        "\n",
        "    Pregunta: {question}\n",
        "    Respuesta cordial:\"\"\"\n",
        ")\n",
        "\n",
        "redirect_chain = (\n",
        "    redirect_prompt\n",
        "    | llm\n",
        "    | StrOutputParser()\n",
        ")\n",
        "\n",
        "redirect_chain.invoke({\"question\": \"dame la receta para hacer una pizza\"})"
      ]
    },
    {
      "cell_type": "markdown",
      "metadata": {
        "id": "4TrJi-By9az-"
      },
      "source": [
        "#### **Juntando todo**"
      ]
    },
    {
      "cell_type": "markdown",
      "metadata": {
        "id": "Bu2WZ1vw9c_o"
      },
      "source": [
        "Finalmente, podemos juntar todo lo que hemos desarrollado en una sola función:"
      ]
    },
    {
      "cell_type": "code",
      "execution_count": 42,
      "metadata": {
        "id": "kMCkpmgn7BOU"
      },
      "outputs": [],
      "source": [
        "def route_question(question):\n",
        "  '''\n",
        "  Recibe una pregunta de usuario.\n",
        "  Rutea la pregunta al agente respectivo y responde de manera acorde.\n",
        "  '''\n",
        "\n",
        "  topic = router_chain.invoke({\"question\": question}) # enrutamiento\n",
        "\n",
        "  if \"elecciones\" in topic: # si la pregunta es sobre las elecciones, utilizar cadena\n",
        "      return rag_chain.invoke(question)\n",
        "  elif \"math\" in topic: # si la pregunta es de matemáticas, utilizar agente\n",
        "      return math_agent.invoke({\"input\": question})[\"output\"]\n",
        "  else: # de lo contrario, redireccionar pregunta\n",
        "      return redirect_chain.invoke({\"question\": question})"
      ]
    },
    {
      "cell_type": "markdown",
      "metadata": {
        "id": "kFGSYoq8AmPx"
      },
      "source": [
        "Para finalmente hacer pruebas de su funcionamiento:"
      ]
    },
    {
      "cell_type": "code",
      "execution_count": 43,
      "metadata": {
        "colab": {
          "base_uri": "https://localhost:8080/"
        },
        "id": "6PXyQed6MlHe",
        "outputId": "7b776738-0a6a-4044-a4e3-3f70ae751ed2"
      },
      "outputs": [
        {
          "output_type": "stream",
          "name": "stdout",
          "text": [
            "¡Hola!  Entiendo que quieres saber cómo hacerte millonario, ¡una meta admirable!  Sin embargo, esa es una pregunta bastante amplia que va más allá de mis capacidades como asistente.  No puedo ofrecerte consejos financieros específicos.\n",
            "\n",
            "Para poder ayudarte mejor, me gustaría enfocar nuestra conversación en temas donde sí puedo ser de utilidad.  ¿Te interesaría, por ejemplo, hablar sobre las elecciones municipales de Chile en 2024, o quizás prefieres que te ayude con algún cálculo matemático?  Dime qué te parece y con gusto te ayudaré en lo que pueda dentro de esos ámbitos.\n",
            "\n"
          ]
        }
      ],
      "source": [
        "print(route_question(\"cómo puedo hacerme millonario?\"))"
      ]
    },
    {
      "cell_type": "code",
      "execution_count": 44,
      "metadata": {
        "colab": {
          "base_uri": "https://localhost:8080/"
        },
        "id": "KnniS37e9SOI",
        "outputId": "8dd962c6-795b-4f5c-ab33-3cf64fd54cd4"
      },
      "outputs": [
        {
          "output_type": "stream",
          "name": "stdout",
          "text": [
            "La participación en las elecciones municipales de 2024 alcanzó un 84,9%, una de las más altas desde 1989 y superior incluso a elecciones recientes con voto obligatorio.  Este alto nivel de participación se atribuye al voto obligatorio y la inscripción automática, mostrando la efectividad de estas medidas para aumentar la participación electoral.  La participación fue considerablemente mayor que en elecciones anteriores bajo el sistema de voto voluntario.\n",
            "\n"
          ]
        }
      ],
      "source": [
        "print(route_question(\"como fue la participación de las elecciones?\"))"
      ]
    },
    {
      "cell_type": "code",
      "execution_count": 45,
      "metadata": {
        "colab": {
          "base_uri": "https://localhost:8080/"
        },
        "id": "951mqY0cL2nu",
        "outputId": "d7f4a2b0-cfaf-4e56-8369-45584e31a76d"
      },
      "outputs": [
        {
          "output_type": "stream",
          "name": "stdout",
          "text": [
            "\n",
            "\n",
            "\u001b[1m> Entering new AgentExecutor chain...\u001b[0m\n",
            "\u001b[32;1m\u001b[1;3m\n",
            "Invoking: `add` with `{'y': 3.0, 'x': 5.0}`\n",
            "\n",
            "\n",
            "\u001b[0m\u001b[36;1m\u001b[1;3m8.0\u001b[0m\u001b[32;1m\u001b[1;3m8.0\n",
            "\u001b[0m\n",
            "\n",
            "\u001b[1m> Finished chain.\u001b[0m\n",
            "8.0\n",
            "\n"
          ]
        }
      ],
      "source": [
        "print(route_question(\"cuanto es 5+3?\"))"
      ]
    },
    {
      "cell_type": "code",
      "source": [],
      "metadata": {
        "id": "c1Q7UoO2R0sZ"
      },
      "execution_count": 45,
      "outputs": []
    }
  ]
}