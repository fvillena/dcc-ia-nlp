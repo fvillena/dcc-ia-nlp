{
  "cells": [
    {
      "cell_type": "markdown",
      "metadata": {
        "id": "2osyT9oSa1Cx"
      },
      "source": [
        "# Tutorial 2: Tokenizadores, Stemming, Lemmatization y WordClouds.\n",
        "\n",
        "### Cuerpo Docente\n",
        "\n",
        "- Profesores: [Andrés Abeliuk](https://aabeliuk.github.io/), [Felipe Villena](https://fabianvillena.cl/).\n",
        "- Profesor Auxiliar: [Gabriel Iturra](https://giturra.cl/)\n",
        "\n"
      ]
    },
    {
      "cell_type": "markdown",
      "metadata": {
        "id": "G6alkun9Znva"
      },
      "source": [
        "## 1 Pre-procesamiento"
      ]
    },
    {
      "cell_type": "code",
      "execution_count": 1,
      "metadata": {
        "colab": {
          "base_uri": "https://localhost:8080/"
        },
        "id": "jCSRpNabbb7u",
        "outputId": "31db9fee-4e47-485c-e515-1c062993cf12"
      },
      "outputs": [
        {
          "name": "stdout",
          "output_type": "stream",
          "text": [
            "Collecting datasets\n",
            "  Using cached datasets-2.18.0-py3-none-any.whl.metadata (20 kB)\n",
            "Collecting filelock (from datasets)\n",
            "  Downloading filelock-3.13.3-py3-none-any.whl.metadata (2.8 kB)\n",
            "Collecting numpy>=1.17 (from datasets)\n",
            "  Using cached numpy-1.26.4-cp312-cp312-macosx_10_9_x86_64.whl.metadata (61 kB)\n",
            "Collecting pyarrow>=12.0.0 (from datasets)\n",
            "  Downloading pyarrow-15.0.2-cp312-cp312-macosx_10_15_x86_64.whl.metadata (3.0 kB)\n",
            "Collecting pyarrow-hotfix (from datasets)\n",
            "  Using cached pyarrow_hotfix-0.6-py3-none-any.whl.metadata (3.6 kB)\n",
            "Collecting dill<0.3.9,>=0.3.0 (from datasets)\n",
            "  Using cached dill-0.3.8-py3-none-any.whl.metadata (10 kB)\n",
            "Collecting pandas (from datasets)\n",
            "  Downloading pandas-2.2.1-cp312-cp312-macosx_10_9_x86_64.whl.metadata (19 kB)\n",
            "Collecting requests>=2.19.0 (from datasets)\n",
            "  Using cached requests-2.31.0-py3-none-any.whl.metadata (4.6 kB)\n",
            "Collecting tqdm>=4.62.1 (from datasets)\n",
            "  Downloading tqdm-4.66.2-py3-none-any.whl.metadata (57 kB)\n",
            "\u001b[2K     \u001b[90m━━━━━━━━━━━━━━━━━━━━━━━━━━━━━━━━━━━━━━━\u001b[0m \u001b[32m57.6/57.6 kB\u001b[0m \u001b[31m588.9 kB/s\u001b[0m eta \u001b[36m0:00:00\u001b[0ma \u001b[36m0:00:01\u001b[0m\n",
            "\u001b[?25hCollecting xxhash (from datasets)\n",
            "  Downloading xxhash-3.4.1-cp312-cp312-macosx_10_9_x86_64.whl.metadata (12 kB)\n",
            "Collecting multiprocess (from datasets)\n",
            "  Downloading multiprocess-0.70.16-py312-none-any.whl.metadata (7.2 kB)\n",
            "Collecting fsspec<=2024.2.0,>=2023.1.0 (from fsspec[http]<=2024.2.0,>=2023.1.0->datasets)\n",
            "  Using cached fsspec-2024.2.0-py3-none-any.whl.metadata (6.8 kB)\n",
            "Collecting aiohttp (from datasets)\n",
            "  Using cached aiohttp-3.9.3-cp312-cp312-macosx_10_9_x86_64.whl.metadata (7.4 kB)\n",
            "Collecting huggingface-hub>=0.19.4 (from datasets)\n",
            "  Downloading huggingface_hub-0.22.2-py3-none-any.whl.metadata (12 kB)\n",
            "Requirement already satisfied: packaging in /Users/giturra/anaconda3/envs/dip/lib/python3.12/site-packages (from datasets) (24.0)\n",
            "Collecting pyyaml>=5.1 (from datasets)\n",
            "  Using cached PyYAML-6.0.1-cp312-cp312-macosx_10_9_x86_64.whl.metadata (2.1 kB)\n",
            "Collecting aiosignal>=1.1.2 (from aiohttp->datasets)\n",
            "  Downloading aiosignal-1.3.1-py3-none-any.whl.metadata (4.0 kB)\n",
            "Collecting attrs>=17.3.0 (from aiohttp->datasets)\n",
            "  Using cached attrs-23.2.0-py3-none-any.whl.metadata (9.5 kB)\n",
            "Collecting frozenlist>=1.1.1 (from aiohttp->datasets)\n",
            "  Using cached frozenlist-1.4.1-cp312-cp312-macosx_10_9_x86_64.whl.metadata (12 kB)\n",
            "Collecting multidict<7.0,>=4.5 (from aiohttp->datasets)\n",
            "  Using cached multidict-6.0.5-cp312-cp312-macosx_10_9_x86_64.whl.metadata (4.2 kB)\n",
            "Collecting yarl<2.0,>=1.0 (from aiohttp->datasets)\n",
            "  Using cached yarl-1.9.4-cp312-cp312-macosx_10_9_x86_64.whl.metadata (31 kB)\n",
            "Requirement already satisfied: typing-extensions>=3.7.4.3 in /Users/giturra/anaconda3/envs/dip/lib/python3.12/site-packages (from huggingface-hub>=0.19.4->datasets) (4.10.0)\n",
            "Collecting charset-normalizer<4,>=2 (from requests>=2.19.0->datasets)\n",
            "  Using cached charset_normalizer-3.3.2-cp312-cp312-macosx_10_9_x86_64.whl.metadata (33 kB)\n",
            "Collecting idna<4,>=2.5 (from requests>=2.19.0->datasets)\n",
            "  Using cached idna-3.6-py3-none-any.whl.metadata (9.9 kB)\n",
            "Collecting urllib3<3,>=1.21.1 (from requests>=2.19.0->datasets)\n",
            "  Downloading urllib3-2.2.1-py3-none-any.whl.metadata (6.4 kB)\n",
            "Collecting certifi>=2017.4.17 (from requests>=2.19.0->datasets)\n",
            "  Using cached certifi-2024.2.2-py3-none-any.whl.metadata (2.2 kB)\n",
            "Requirement already satisfied: python-dateutil>=2.8.2 in /Users/giturra/anaconda3/envs/dip/lib/python3.12/site-packages (from pandas->datasets) (2.9.0)\n",
            "Collecting pytz>=2020.1 (from pandas->datasets)\n",
            "  Using cached pytz-2024.1-py2.py3-none-any.whl.metadata (22 kB)\n",
            "Collecting tzdata>=2022.7 (from pandas->datasets)\n",
            "  Using cached tzdata-2024.1-py2.py3-none-any.whl.metadata (1.4 kB)\n",
            "Requirement already satisfied: six>=1.5 in /Users/giturra/anaconda3/envs/dip/lib/python3.12/site-packages (from python-dateutil>=2.8.2->pandas->datasets) (1.16.0)\n",
            "Using cached datasets-2.18.0-py3-none-any.whl (510 kB)\n",
            "Using cached dill-0.3.8-py3-none-any.whl (116 kB)\n",
            "Using cached fsspec-2024.2.0-py3-none-any.whl (170 kB)\n",
            "Using cached aiohttp-3.9.3-cp312-cp312-macosx_10_9_x86_64.whl (393 kB)\n",
            "Downloading huggingface_hub-0.22.2-py3-none-any.whl (388 kB)\n",
            "\u001b[2K   \u001b[90m━━━━━━━━━━━━━━━━━━━━━━━━━━━━━━━━━━━━━━━━\u001b[0m \u001b[32m388.9/388.9 kB\u001b[0m \u001b[31m2.4 MB/s\u001b[0m eta \u001b[36m0:00:00\u001b[0ma \u001b[36m0:00:01\u001b[0m\n",
            "\u001b[?25hUsing cached numpy-1.26.4-cp312-cp312-macosx_10_9_x86_64.whl (20.3 MB)\n",
            "Downloading pyarrow-15.0.2-cp312-cp312-macosx_10_15_x86_64.whl (27.1 MB)\n",
            "\u001b[2K   \u001b[90m━━━━━━━━━━━━━━━━━━━━━━━━━━━━━━━━━━━━━━━━\u001b[0m \u001b[32m27.1/27.1 MB\u001b[0m \u001b[31m28.9 MB/s\u001b[0m eta \u001b[36m0:00:00\u001b[0m00:01\u001b[0m00:01\u001b[0m\n",
            "\u001b[?25hUsing cached PyYAML-6.0.1-cp312-cp312-macosx_10_9_x86_64.whl (178 kB)\n",
            "Using cached requests-2.31.0-py3-none-any.whl (62 kB)\n",
            "Downloading tqdm-4.66.2-py3-none-any.whl (78 kB)\n",
            "\u001b[2K   \u001b[90m━━━━━━━━━━━━━━━━━━━━━━━━━━━━━━━━━━━━━━━━\u001b[0m \u001b[32m78.3/78.3 kB\u001b[0m \u001b[31m2.7 MB/s\u001b[0m eta \u001b[36m0:00:00\u001b[0m\n",
            "\u001b[?25hDownloading filelock-3.13.3-py3-none-any.whl (11 kB)\n",
            "Downloading multiprocess-0.70.16-py312-none-any.whl (146 kB)\n",
            "\u001b[2K   \u001b[90m━━━━━━━━━━━━━━━━━━━━━━━━━━━━━━━━━━━━━━━━\u001b[0m \u001b[32m146.7/146.7 kB\u001b[0m \u001b[31m5.5 MB/s\u001b[0m eta \u001b[36m0:00:00\u001b[0m\n",
            "\u001b[?25hDownloading pandas-2.2.1-cp312-cp312-macosx_10_9_x86_64.whl (12.5 MB)\n",
            "\u001b[2K   \u001b[90m━━━━━━━━━━━━━━━━━━━━━━━━━━━━━━━━━━━━━━━━\u001b[0m \u001b[32m12.5/12.5 MB\u001b[0m \u001b[31m31.1 MB/s\u001b[0m eta \u001b[36m0:00:00\u001b[0m00:01\u001b[0m00:01\u001b[0m\n",
            "\u001b[?25hUsing cached pyarrow_hotfix-0.6-py3-none-any.whl (7.9 kB)\n",
            "Downloading xxhash-3.4.1-cp312-cp312-macosx_10_9_x86_64.whl (31 kB)\n",
            "Using cached aiosignal-1.3.1-py3-none-any.whl (7.6 kB)\n",
            "Using cached attrs-23.2.0-py3-none-any.whl (60 kB)\n",
            "Using cached certifi-2024.2.2-py3-none-any.whl (163 kB)\n",
            "Using cached charset_normalizer-3.3.2-cp312-cp312-macosx_10_9_x86_64.whl (122 kB)\n",
            "Using cached frozenlist-1.4.1-cp312-cp312-macosx_10_9_x86_64.whl (53 kB)\n",
            "Using cached idna-3.6-py3-none-any.whl (61 kB)\n",
            "Using cached multidict-6.0.5-cp312-cp312-macosx_10_9_x86_64.whl (29 kB)\n",
            "Using cached pytz-2024.1-py2.py3-none-any.whl (505 kB)\n",
            "Using cached tzdata-2024.1-py2.py3-none-any.whl (345 kB)\n",
            "Downloading urllib3-2.2.1-py3-none-any.whl (121 kB)\n",
            "\u001b[2K   \u001b[90m━━━━━━━━━━━━━━━━━━━━━━━━━━━━━━━━━━━━━━━━\u001b[0m \u001b[32m121.1/121.1 kB\u001b[0m \u001b[31m4.6 MB/s\u001b[0m eta \u001b[36m0:00:00\u001b[0m\n",
            "\u001b[?25hUsing cached yarl-1.9.4-cp312-cp312-macosx_10_9_x86_64.whl (81 kB)\n",
            "Installing collected packages: pytz, xxhash, urllib3, tzdata, tqdm, pyyaml, pyarrow-hotfix, numpy, multidict, idna, fsspec, frozenlist, filelock, dill, charset-normalizer, certifi, attrs, yarl, requests, pyarrow, pandas, multiprocess, aiosignal, huggingface-hub, aiohttp, datasets\n",
            "Successfully installed aiohttp-3.9.3 aiosignal-1.3.1 attrs-23.2.0 certifi-2024.2.2 charset-normalizer-3.3.2 datasets-2.18.0 dill-0.3.8 filelock-3.13.3 frozenlist-1.4.1 fsspec-2024.2.0 huggingface-hub-0.22.2 idna-3.6 multidict-6.0.5 multiprocess-0.70.16 numpy-1.26.4 pandas-2.2.1 pyarrow-15.0.2 pyarrow-hotfix-0.6 pytz-2024.1 pyyaml-6.0.1 requests-2.31.0 tqdm-4.66.2 tzdata-2024.1 urllib3-2.2.1 xxhash-3.4.1 yarl-1.9.4\n"
          ]
        }
      ],
      "source": [
        "!pip install datasets"
      ]
    },
    {
      "cell_type": "code",
      "execution_count": 2,
      "metadata": {
        "colab": {
          "base_uri": "https://localhost:8080/",
          "height": 984
        },
        "id": "mOr9_y_Wcudd",
        "outputId": "112aa5da-2875-47d9-fc0f-4145af9c26ed"
      },
      "outputs": [
        {
          "name": "stdout",
          "output_type": "stream",
          "text": [
            "Collecting es-core-news-sm==any\n",
            "  Downloading https://huggingface.co/spacy/es_core_news_sm/resolve/main/es_core_news_sm-any-py3-none-any.whl (12.9 MB)\n",
            "\u001b[2K     \u001b[90m━━━━━━━━━━━━━━━━━━━━━━━━━━━━━━━━━━━━━━━━\u001b[0m \u001b[32m12.9/12.9 MB\u001b[0m \u001b[31m24.2 MB/s\u001b[0m eta \u001b[36m0:00:00\u001b[0m00:01\u001b[0m00:01\u001b[0m\n",
            "\u001b[?25hCollecting spacy<3.8.0,>=3.7.0 (from es-core-news-sm==any)\n",
            "  Downloading spacy-3.7.4-cp312-cp312-macosx_10_9_x86_64.whl.metadata (27 kB)\n",
            "Collecting spacy-legacy<3.1.0,>=3.0.11 (from spacy<3.8.0,>=3.7.0->es-core-news-sm==any)\n",
            "  Downloading spacy_legacy-3.0.12-py2.py3-none-any.whl.metadata (2.8 kB)\n",
            "Collecting spacy-loggers<2.0.0,>=1.0.0 (from spacy<3.8.0,>=3.7.0->es-core-news-sm==any)\n",
            "  Using cached spacy_loggers-1.0.5-py3-none-any.whl.metadata (23 kB)\n",
            "Collecting murmurhash<1.1.0,>=0.28.0 (from spacy<3.8.0,>=3.7.0->es-core-news-sm==any)\n",
            "  Using cached murmurhash-1.0.10-cp312-cp312-macosx_10_9_x86_64.whl.metadata (2.0 kB)\n",
            "Collecting cymem<2.1.0,>=2.0.2 (from spacy<3.8.0,>=3.7.0->es-core-news-sm==any)\n",
            "  Using cached cymem-2.0.8-cp312-cp312-macosx_10_9_x86_64.whl.metadata (8.4 kB)\n",
            "Collecting preshed<3.1.0,>=3.0.2 (from spacy<3.8.0,>=3.7.0->es-core-news-sm==any)\n",
            "  Using cached preshed-3.0.9-cp312-cp312-macosx_10_9_x86_64.whl.metadata (2.2 kB)\n",
            "Collecting thinc<8.3.0,>=8.2.2 (from spacy<3.8.0,>=3.7.0->es-core-news-sm==any)\n",
            "  Downloading thinc-8.2.3-cp312-cp312-macosx_10_9_x86_64.whl.metadata (15 kB)\n",
            "Collecting wasabi<1.2.0,>=0.9.1 (from spacy<3.8.0,>=3.7.0->es-core-news-sm==any)\n",
            "  Using cached wasabi-1.1.2-py3-none-any.whl.metadata (28 kB)\n",
            "Collecting srsly<3.0.0,>=2.4.3 (from spacy<3.8.0,>=3.7.0->es-core-news-sm==any)\n",
            "  Using cached srsly-2.4.8-cp312-cp312-macosx_10_9_x86_64.whl.metadata (20 kB)\n",
            "Collecting catalogue<2.1.0,>=2.0.6 (from spacy<3.8.0,>=3.7.0->es-core-news-sm==any)\n",
            "  Using cached catalogue-2.0.10-py3-none-any.whl.metadata (14 kB)\n",
            "Collecting weasel<0.4.0,>=0.1.0 (from spacy<3.8.0,>=3.7.0->es-core-news-sm==any)\n",
            "  Using cached weasel-0.3.4-py3-none-any.whl.metadata (4.7 kB)\n",
            "Collecting typer<0.10.0,>=0.3.0 (from spacy<3.8.0,>=3.7.0->es-core-news-sm==any)\n",
            "  Downloading typer-0.9.4-py3-none-any.whl.metadata (14 kB)\n",
            "Collecting smart-open<7.0.0,>=5.2.1 (from spacy<3.8.0,>=3.7.0->es-core-news-sm==any)\n",
            "  Using cached smart_open-6.4.0-py3-none-any.whl.metadata (21 kB)\n",
            "Requirement already satisfied: tqdm<5.0.0,>=4.38.0 in /Users/giturra/anaconda3/envs/dip/lib/python3.12/site-packages (from spacy<3.8.0,>=3.7.0->es-core-news-sm==any) (4.66.2)\n",
            "Requirement already satisfied: requests<3.0.0,>=2.13.0 in /Users/giturra/anaconda3/envs/dip/lib/python3.12/site-packages (from spacy<3.8.0,>=3.7.0->es-core-news-sm==any) (2.31.0)\n",
            "Collecting pydantic!=1.8,!=1.8.1,<3.0.0,>=1.7.4 (from spacy<3.8.0,>=3.7.0->es-core-news-sm==any)\n",
            "  Downloading pydantic-2.6.4-py3-none-any.whl.metadata (85 kB)\n",
            "\u001b[2K     \u001b[90m━━━━━━━━━━━━━━━━━━━━━━━━━━━━━━━━━━━━━━━\u001b[0m \u001b[32m85.1/85.1 kB\u001b[0m \u001b[31m929.5 kB/s\u001b[0m eta \u001b[36m0:00:00\u001b[0m \u001b[36m0:00:01\u001b[0m\n",
            "\u001b[?25hCollecting jinja2 (from spacy<3.8.0,>=3.7.0->es-core-news-sm==any)\n",
            "  Using cached Jinja2-3.1.3-py3-none-any.whl.metadata (3.3 kB)\n",
            "Requirement already satisfied: setuptools in /Users/giturra/anaconda3/envs/dip/lib/python3.12/site-packages (from spacy<3.8.0,>=3.7.0->es-core-news-sm==any) (69.2.0)\n",
            "Requirement already satisfied: packaging>=20.0 in /Users/giturra/anaconda3/envs/dip/lib/python3.12/site-packages (from spacy<3.8.0,>=3.7.0->es-core-news-sm==any) (24.0)\n",
            "Collecting langcodes<4.0.0,>=3.2.0 (from spacy<3.8.0,>=3.7.0->es-core-news-sm==any)\n",
            "  Downloading langcodes-3.3.0-py3-none-any.whl.metadata (29 kB)\n",
            "Requirement already satisfied: numpy>=1.19.0 in /Users/giturra/anaconda3/envs/dip/lib/python3.12/site-packages (from spacy<3.8.0,>=3.7.0->es-core-news-sm==any) (1.26.4)\n",
            "Collecting annotated-types>=0.4.0 (from pydantic!=1.8,!=1.8.1,<3.0.0,>=1.7.4->spacy<3.8.0,>=3.7.0->es-core-news-sm==any)\n",
            "  Using cached annotated_types-0.6.0-py3-none-any.whl.metadata (12 kB)\n",
            "Collecting pydantic-core==2.16.3 (from pydantic!=1.8,!=1.8.1,<3.0.0,>=1.7.4->spacy<3.8.0,>=3.7.0->es-core-news-sm==any)\n",
            "  Downloading pydantic_core-2.16.3-cp312-cp312-macosx_10_12_x86_64.whl.metadata (6.5 kB)\n",
            "Requirement already satisfied: typing-extensions>=4.6.1 in /Users/giturra/anaconda3/envs/dip/lib/python3.12/site-packages (from pydantic!=1.8,!=1.8.1,<3.0.0,>=1.7.4->spacy<3.8.0,>=3.7.0->es-core-news-sm==any) (4.10.0)\n",
            "Requirement already satisfied: charset-normalizer<4,>=2 in /Users/giturra/anaconda3/envs/dip/lib/python3.12/site-packages (from requests<3.0.0,>=2.13.0->spacy<3.8.0,>=3.7.0->es-core-news-sm==any) (3.3.2)\n",
            "Requirement already satisfied: idna<4,>=2.5 in /Users/giturra/anaconda3/envs/dip/lib/python3.12/site-packages (from requests<3.0.0,>=2.13.0->spacy<3.8.0,>=3.7.0->es-core-news-sm==any) (3.6)\n",
            "Requirement already satisfied: urllib3<3,>=1.21.1 in /Users/giturra/anaconda3/envs/dip/lib/python3.12/site-packages (from requests<3.0.0,>=2.13.0->spacy<3.8.0,>=3.7.0->es-core-news-sm==any) (2.2.1)\n",
            "Requirement already satisfied: certifi>=2017.4.17 in /Users/giturra/anaconda3/envs/dip/lib/python3.12/site-packages (from requests<3.0.0,>=2.13.0->spacy<3.8.0,>=3.7.0->es-core-news-sm==any) (2024.2.2)\n",
            "Collecting blis<0.8.0,>=0.7.8 (from thinc<8.3.0,>=8.2.2->spacy<3.8.0,>=3.7.0->es-core-news-sm==any)\n",
            "  Using cached blis-0.7.11-cp312-cp312-macosx_10_9_x86_64.whl.metadata (7.4 kB)\n",
            "Collecting confection<1.0.0,>=0.0.1 (from thinc<8.3.0,>=8.2.2->spacy<3.8.0,>=3.7.0->es-core-news-sm==any)\n",
            "  Using cached confection-0.1.4-py3-none-any.whl.metadata (19 kB)\n",
            "Collecting click<9.0.0,>=7.1.1 (from typer<0.10.0,>=0.3.0->spacy<3.8.0,>=3.7.0->es-core-news-sm==any)\n",
            "  Using cached click-8.1.7-py3-none-any.whl.metadata (3.0 kB)\n",
            "Collecting cloudpathlib<0.17.0,>=0.7.0 (from weasel<0.4.0,>=0.1.0->spacy<3.8.0,>=3.7.0->es-core-news-sm==any)\n",
            "  Using cached cloudpathlib-0.16.0-py3-none-any.whl.metadata (14 kB)\n",
            "Collecting MarkupSafe>=2.0 (from jinja2->spacy<3.8.0,>=3.7.0->es-core-news-sm==any)\n",
            "  Using cached MarkupSafe-2.1.5-cp312-cp312-macosx_10_9_x86_64.whl.metadata (3.0 kB)\n",
            "Downloading spacy-3.7.4-cp312-cp312-macosx_10_9_x86_64.whl (6.3 MB)\n",
            "\u001b[2K   \u001b[90m━━━━━━━━━━━━━━━━━━━━━━━━━━━━━━━━━━━━━━━━\u001b[0m \u001b[32m6.3/6.3 MB\u001b[0m \u001b[31m11.4 MB/s\u001b[0m eta \u001b[36m0:00:00\u001b[0m00:01\u001b[0m00:01\u001b[0m\n",
            "\u001b[?25hUsing cached catalogue-2.0.10-py3-none-any.whl (17 kB)\n",
            "Using cached cymem-2.0.8-cp312-cp312-macosx_10_9_x86_64.whl (42 kB)\n",
            "Using cached langcodes-3.3.0-py3-none-any.whl (181 kB)\n",
            "Using cached murmurhash-1.0.10-cp312-cp312-macosx_10_9_x86_64.whl (26 kB)\n",
            "Using cached preshed-3.0.9-cp312-cp312-macosx_10_9_x86_64.whl (133 kB)\n",
            "Downloading pydantic-2.6.4-py3-none-any.whl (394 kB)\n",
            "\u001b[2K   \u001b[90m━━━━━━━━━━━━━━━━━━━━━━━━━━━━━━━━━━━━━━━━\u001b[0m \u001b[32m394.9/394.9 kB\u001b[0m \u001b[31m13.4 MB/s\u001b[0m eta \u001b[36m0:00:00\u001b[0m\n",
            "\u001b[?25hDownloading pydantic_core-2.16.3-cp312-cp312-macosx_10_12_x86_64.whl (1.9 MB)\n",
            "\u001b[2K   \u001b[90m━━━━━━━━━━━━━━━━━━━━━━━━━━━━━━━━━━━━━━━━\u001b[0m \u001b[32m1.9/1.9 MB\u001b[0m \u001b[31m33.4 MB/s\u001b[0m eta \u001b[36m0:00:00\u001b[0m00:01\u001b[0m\n",
            "\u001b[?25hUsing cached smart_open-6.4.0-py3-none-any.whl (57 kB)\n",
            "Using cached spacy_legacy-3.0.12-py2.py3-none-any.whl (29 kB)\n",
            "Using cached spacy_loggers-1.0.5-py3-none-any.whl (22 kB)\n",
            "Using cached srsly-2.4.8-cp312-cp312-macosx_10_9_x86_64.whl (488 kB)\n",
            "Downloading thinc-8.2.3-cp312-cp312-macosx_10_9_x86_64.whl (829 kB)\n",
            "\u001b[2K   \u001b[90m━━━━━━━━━━━━━━━━━━━━━━━━━━━━━━━━━━━━━━━━\u001b[0m \u001b[32m829.6/829.6 kB\u001b[0m \u001b[31m11.8 MB/s\u001b[0m eta \u001b[36m0:00:00\u001b[0m \u001b[36m0:00:01\u001b[0m\n",
            "\u001b[?25hDownloading typer-0.9.4-py3-none-any.whl (45 kB)\n",
            "\u001b[2K   \u001b[90m━━━━━━━━━━━━━━━━━━━━━━━━━━━━━━━━━━━━━━━━\u001b[0m \u001b[32m46.0/46.0 kB\u001b[0m \u001b[31m1.6 MB/s\u001b[0m eta \u001b[36m0:00:00\u001b[0m\n",
            "\u001b[?25hUsing cached wasabi-1.1.2-py3-none-any.whl (27 kB)\n",
            "Using cached weasel-0.3.4-py3-none-any.whl (50 kB)\n",
            "Using cached Jinja2-3.1.3-py3-none-any.whl (133 kB)\n",
            "Using cached annotated_types-0.6.0-py3-none-any.whl (12 kB)\n",
            "Using cached blis-0.7.11-cp312-cp312-macosx_10_9_x86_64.whl (6.1 MB)\n",
            "Using cached click-8.1.7-py3-none-any.whl (97 kB)\n",
            "Using cached cloudpathlib-0.16.0-py3-none-any.whl (45 kB)\n",
            "Using cached confection-0.1.4-py3-none-any.whl (35 kB)\n",
            "Using cached MarkupSafe-2.1.5-cp312-cp312-macosx_10_9_x86_64.whl (14 kB)\n",
            "Installing collected packages: cymem, wasabi, spacy-loggers, spacy-legacy, smart-open, pydantic-core, murmurhash, MarkupSafe, langcodes, cloudpathlib, click, catalogue, blis, annotated-types, typer, srsly, pydantic, preshed, jinja2, confection, weasel, thinc, spacy, es-core-news-sm\n",
            "Successfully installed MarkupSafe-2.1.5 annotated-types-0.6.0 blis-0.7.11 catalogue-2.0.10 click-8.1.7 cloudpathlib-0.16.0 confection-0.1.4 cymem-2.0.8 es-core-news-sm-3.7.0 jinja2-3.1.3 langcodes-3.3.0 murmurhash-1.0.10 preshed-3.0.9 pydantic-2.6.4 pydantic-core-2.16.3 smart-open-6.4.0 spacy-3.7.4 spacy-legacy-3.0.12 spacy-loggers-1.0.5 srsly-2.4.8 thinc-8.2.3 typer-0.9.4 wasabi-1.1.2 weasel-0.3.4\n"
          ]
        }
      ],
      "source": [
        "!pip install https://huggingface.co/spacy/es_core_news_sm/resolve/main/es_core_news_sm-any-py3-none-any.whl"
      ]
    },
    {
      "cell_type": "code",
      "execution_count": 3,
      "metadata": {
        "colab": {
          "base_uri": "https://localhost:8080/",
          "height": 542
        },
        "id": "YYAfoZ-zeXb8",
        "outputId": "cd13d781-8ee6-4125-eaa8-45fb268b5231"
      },
      "outputs": [
        {
          "name": "stdout",
          "output_type": "stream",
          "text": [
            "Collecting tokenizers\n",
            "  Downloading tokenizers-0.15.2-cp312-cp312-macosx_10_12_x86_64.whl.metadata (6.7 kB)\n",
            "Requirement already satisfied: huggingface_hub<1.0,>=0.16.4 in /Users/giturra/anaconda3/envs/dip/lib/python3.12/site-packages (from tokenizers) (0.22.2)\n",
            "Requirement already satisfied: filelock in /Users/giturra/anaconda3/envs/dip/lib/python3.12/site-packages (from huggingface_hub<1.0,>=0.16.4->tokenizers) (3.13.3)\n",
            "Requirement already satisfied: fsspec>=2023.5.0 in /Users/giturra/anaconda3/envs/dip/lib/python3.12/site-packages (from huggingface_hub<1.0,>=0.16.4->tokenizers) (2024.2.0)\n",
            "Requirement already satisfied: packaging>=20.9 in /Users/giturra/anaconda3/envs/dip/lib/python3.12/site-packages (from huggingface_hub<1.0,>=0.16.4->tokenizers) (24.0)\n",
            "Requirement already satisfied: pyyaml>=5.1 in /Users/giturra/anaconda3/envs/dip/lib/python3.12/site-packages (from huggingface_hub<1.0,>=0.16.4->tokenizers) (6.0.1)\n",
            "Requirement already satisfied: requests in /Users/giturra/anaconda3/envs/dip/lib/python3.12/site-packages (from huggingface_hub<1.0,>=0.16.4->tokenizers) (2.31.0)\n",
            "Requirement already satisfied: tqdm>=4.42.1 in /Users/giturra/anaconda3/envs/dip/lib/python3.12/site-packages (from huggingface_hub<1.0,>=0.16.4->tokenizers) (4.66.2)\n",
            "Requirement already satisfied: typing-extensions>=3.7.4.3 in /Users/giturra/anaconda3/envs/dip/lib/python3.12/site-packages (from huggingface_hub<1.0,>=0.16.4->tokenizers) (4.10.0)\n",
            "Requirement already satisfied: charset-normalizer<4,>=2 in /Users/giturra/anaconda3/envs/dip/lib/python3.12/site-packages (from requests->huggingface_hub<1.0,>=0.16.4->tokenizers) (3.3.2)\n",
            "Requirement already satisfied: idna<4,>=2.5 in /Users/giturra/anaconda3/envs/dip/lib/python3.12/site-packages (from requests->huggingface_hub<1.0,>=0.16.4->tokenizers) (3.6)\n",
            "Requirement already satisfied: urllib3<3,>=1.21.1 in /Users/giturra/anaconda3/envs/dip/lib/python3.12/site-packages (from requests->huggingface_hub<1.0,>=0.16.4->tokenizers) (2.2.1)\n",
            "Requirement already satisfied: certifi>=2017.4.17 in /Users/giturra/anaconda3/envs/dip/lib/python3.12/site-packages (from requests->huggingface_hub<1.0,>=0.16.4->tokenizers) (2024.2.2)\n",
            "Downloading tokenizers-0.15.2-cp312-cp312-macosx_10_12_x86_64.whl (2.6 MB)\n",
            "\u001b[2K   \u001b[90m━━━━━━━━━━━━━━━━━━━━━━━━━━━━━━━━━━━━━━━━\u001b[0m \u001b[32m2.6/2.6 MB\u001b[0m \u001b[31m7.4 MB/s\u001b[0m eta \u001b[36m0:00:00\u001b[0m00:01\u001b[0m00:01\u001b[0m0m\n",
            "\u001b[?25hInstalling collected packages: tokenizers\n",
            "Successfully installed tokenizers-0.15.2\n"
          ]
        }
      ],
      "source": [
        "!pip install tokenizers"
      ]
    },
    {
      "cell_type": "code",
      "execution_count": 6,
      "metadata": {},
      "outputs": [
        {
          "name": "stdout",
          "output_type": "stream",
          "text": [
            "Collecting nltk\n",
            "  Downloading nltk-3.8.1-py3-none-any.whl.metadata (2.8 kB)\n",
            "Requirement already satisfied: click in /Users/giturra/anaconda3/envs/dip/lib/python3.12/site-packages (from nltk) (8.1.7)\n",
            "Collecting joblib (from nltk)\n",
            "  Using cached joblib-1.3.2-py3-none-any.whl.metadata (5.4 kB)\n",
            "Collecting regex>=2021.8.3 (from nltk)\n",
            "  Using cached regex-2023.12.25-cp312-cp312-macosx_10_9_x86_64.whl.metadata (40 kB)\n",
            "Requirement already satisfied: tqdm in /Users/giturra/anaconda3/envs/dip/lib/python3.12/site-packages (from nltk) (4.66.2)\n",
            "Using cached nltk-3.8.1-py3-none-any.whl (1.5 MB)\n",
            "Using cached regex-2023.12.25-cp312-cp312-macosx_10_9_x86_64.whl (298 kB)\n",
            "Using cached joblib-1.3.2-py3-none-any.whl (302 kB)\n",
            "Installing collected packages: regex, joblib, nltk\n",
            "Successfully installed joblib-1.3.2 nltk-3.8.1 regex-2023.12.25\n"
          ]
        }
      ],
      "source": [
        "!pip install nltk"
      ]
    },
    {
      "cell_type": "code",
      "execution_count": 63,
      "metadata": {},
      "outputs": [
        {
          "name": "stderr",
          "output_type": "stream",
          "text": [
            "huggingface/tokenizers: The current process just got forked, after parallelism has already been used. Disabling parallelism to avoid deadlocks...\n",
            "To disable this warning, you can either:\n",
            "\t- Avoid using `tokenizers` before the fork if possible\n",
            "\t- Explicitly set the environment variable TOKENIZERS_PARALLELISM=(true | false)\n"
          ]
        },
        {
          "name": "stdout",
          "output_type": "stream",
          "text": [
            "Collecting matplotlib\n",
            "  Downloading matplotlib-3.8.4-cp312-cp312-macosx_10_12_x86_64.whl.metadata (5.8 kB)\n",
            "Collecting contourpy>=1.0.1 (from matplotlib)\n",
            "  Downloading contourpy-1.2.1-cp312-cp312-macosx_10_9_x86_64.whl.metadata (5.8 kB)\n",
            "Collecting cycler>=0.10 (from matplotlib)\n",
            "  Downloading cycler-0.12.1-py3-none-any.whl.metadata (3.8 kB)\n",
            "Collecting fonttools>=4.22.0 (from matplotlib)\n",
            "  Downloading fonttools-4.50.0-cp312-cp312-macosx_10_9_x86_64.whl.metadata (159 kB)\n",
            "\u001b[2K     \u001b[90m━━━━━━━━━━━━━━━━━━━━━━━━━━━━━━━━━━━━━━━\u001b[0m \u001b[32m159.4/159.4 kB\u001b[0m \u001b[31m1.1 MB/s\u001b[0m eta \u001b[36m0:00:00\u001b[0ma \u001b[36m0:00:01\u001b[0m\n",
            "\u001b[?25hCollecting kiwisolver>=1.3.1 (from matplotlib)\n",
            "  Downloading kiwisolver-1.4.5-cp312-cp312-macosx_10_9_x86_64.whl.metadata (6.4 kB)\n",
            "Requirement already satisfied: numpy>=1.21 in /Users/giturra/anaconda3/envs/dip/lib/python3.12/site-packages (from matplotlib) (1.26.4)\n",
            "Requirement already satisfied: packaging>=20.0 in /Users/giturra/anaconda3/envs/dip/lib/python3.12/site-packages (from matplotlib) (24.0)\n",
            "Collecting pillow>=8 (from matplotlib)\n",
            "  Downloading pillow-10.3.0-cp312-cp312-macosx_10_10_x86_64.whl.metadata (9.2 kB)\n",
            "Collecting pyparsing>=2.3.1 (from matplotlib)\n",
            "  Downloading pyparsing-3.1.2-py3-none-any.whl.metadata (5.1 kB)\n",
            "Requirement already satisfied: python-dateutil>=2.7 in /Users/giturra/anaconda3/envs/dip/lib/python3.12/site-packages (from matplotlib) (2.9.0)\n",
            "Requirement already satisfied: six>=1.5 in /Users/giturra/anaconda3/envs/dip/lib/python3.12/site-packages (from python-dateutil>=2.7->matplotlib) (1.16.0)\n",
            "Downloading matplotlib-3.8.4-cp312-cp312-macosx_10_12_x86_64.whl (7.6 MB)\n",
            "\u001b[2K   \u001b[90m━━━━━━━━━━━━━━━━━━━━━━━━━━━━━━━━━━━━━━━━\u001b[0m \u001b[32m7.6/7.6 MB\u001b[0m \u001b[31m2.9 MB/s\u001b[0m eta \u001b[36m0:00:00\u001b[0m00:01\u001b[0m00:01\u001b[0m\n",
            "\u001b[?25hDownloading contourpy-1.2.1-cp312-cp312-macosx_10_9_x86_64.whl (263 kB)\n",
            "\u001b[2K   \u001b[90m━━━━━━━━━━━━━━━━━━━━━━━━━━━━━━━━━━━━━━━━\u001b[0m \u001b[32m263.3/263.3 kB\u001b[0m \u001b[31m3.1 MB/s\u001b[0m eta \u001b[36m0:00:00\u001b[0ma \u001b[36m0:00:01\u001b[0m\n",
            "\u001b[?25hDownloading cycler-0.12.1-py3-none-any.whl (8.3 kB)\n",
            "Downloading fonttools-4.50.0-cp312-cp312-macosx_10_9_x86_64.whl (2.3 MB)\n",
            "\u001b[2K   \u001b[90m━━━━━━━━━━━━━━━━━━━━━━━━━━━━━━━━━━━━━━━━\u001b[0m \u001b[32m2.3/2.3 MB\u001b[0m \u001b[31m4.0 MB/s\u001b[0m eta \u001b[36m0:00:00\u001b[0m00:01\u001b[0m00:01\u001b[0m\n",
            "\u001b[?25hDownloading kiwisolver-1.4.5-cp312-cp312-macosx_10_9_x86_64.whl (67 kB)\n",
            "\u001b[2K   \u001b[90m━━━━━━━━━━━━━━━━━━━━━━━━━━━━━━━━━━━━━━━━\u001b[0m \u001b[32m67.3/67.3 kB\u001b[0m \u001b[31m1.9 MB/s\u001b[0m eta \u001b[36m0:00:00\u001b[0m\n",
            "\u001b[?25hDownloading pillow-10.3.0-cp312-cp312-macosx_10_10_x86_64.whl (3.5 MB)\n",
            "\u001b[2K   \u001b[90m━━━━━━━━━━━━━━━━━━━━━━━━━━━━━━━━━━━━━━━━\u001b[0m \u001b[32m3.5/3.5 MB\u001b[0m \u001b[31m4.3 MB/s\u001b[0m eta \u001b[36m0:00:00\u001b[0m00:01\u001b[0m00:01\u001b[0m\n",
            "\u001b[?25hDownloading pyparsing-3.1.2-py3-none-any.whl (103 kB)\n",
            "\u001b[2K   \u001b[90m━━━━━━━━━━━━━━━━━━━━━━━━━━━━━━━━━━━━━━━━\u001b[0m \u001b[32m103.2/103.2 kB\u001b[0m \u001b[31m2.4 MB/s\u001b[0m eta \u001b[36m0:00:00\u001b[0m00:01\u001b[0m\n",
            "\u001b[?25hInstalling collected packages: pyparsing, pillow, kiwisolver, fonttools, cycler, contourpy, matplotlib\n",
            "Successfully installed contourpy-1.2.1 cycler-0.12.1 fonttools-4.50.0 kiwisolver-1.4.5 matplotlib-3.8.4 pillow-10.3.0 pyparsing-3.1.2\n"
          ]
        }
      ],
      "source": [
        "!pip install matplotlib"
      ]
    },
    {
      "cell_type": "code",
      "execution_count": 7,
      "metadata": {
        "id": "dnWGxol-Znvc"
      },
      "outputs": [],
      "source": [
        "import datasets\n",
        "import pandas as pd\n",
        "import re\n",
        "import tokenizers\n",
        "import nltk\n",
        "\n"
      ]
    },
    {
      "cell_type": "markdown",
      "metadata": {
        "id": "-oipeOH3Znvi"
      },
      "source": [
        "## 🤗 Datasets\n",
        "\n",
        "🤗 (HuggingFace) Datasets es una biblioteca de manejo de conjuntos de datos para procesamiento de lenguaje natural que se destaca por la simplicidad de sus métodos y el gran repositorio 🤗 Hub que contiene muchos conjuntos de datos libres para descargar sólo con una linea de Python.\n",
        "\n",
        "En nuestro curso trabajaremos con `spanish_diagnostics`, un conjunto de datos de nuestro grupo investigación PLN@CMM que contiene textos de sospechas diagnósticas de la lista de espera chilena y está etiquetado con el destino de la interconsulta; este destino puede ser `dental` o `no_dental`."
      ]
    },
    {
      "cell_type": "code",
      "execution_count": 8,
      "metadata": {
        "id": "J2HZ85auZnvi"
      },
      "outputs": [
        {
          "name": "stderr",
          "output_type": "stream",
          "text": [
            "Downloading data: 100%|██████████| 3.27M/3.27M [00:01<00:00, 2.10MB/s]\n",
            "Downloading data: 100%|██████████| 1.37M/1.37M [00:00<00:00, 1.38MB/s]\n",
            "Generating train split: 100%|██████████| 70000/70000 [00:00<00:00, 1907926.57 examples/s]\n",
            "Generating test split: 100%|██████████| 30000/30000 [00:00<00:00, 1925553.12 examples/s]\n"
          ]
        }
      ],
      "source": [
        "spanish_diagnostics = datasets.load_dataset('fvillena/spanish_diagnostics') # Con esta linea descargamos el conjunto de datos completo"
      ]
    },
    {
      "cell_type": "code",
      "execution_count": 10,
      "metadata": {
        "id": "xdWARmJdZnvk"
      },
      "outputs": [],
      "source": [
        "def normalize(text, remove_tildes = True):\n",
        "    \"\"\"Normaliza una cadena de texto convirtiéndo todo a minúsculas, quitando los caracteres no alfabéticos y los tildes\"\"\"\n",
        "    text = text.lower() # Llevamos todo a minúscula\n",
        "    text = re.sub(r'[^A-Za-zñáéíóú]', ' ', text) # Reemplazamos los caracteres no alfabéticos por un espacio\n",
        "    if remove_tildes:\n",
        "        text = re.sub('á', 'a', text) # Reemplazamos los tildes\n",
        "        text = re.sub('é', 'e', text)\n",
        "        text = re.sub('í', 'i', text)\n",
        "        text = re.sub('ó', 'o', text)\n",
        "        text = re.sub('ú', 'u', text)\n",
        "    return text"
      ]
    },
    {
      "cell_type": "code",
      "execution_count": 12,
      "metadata": {
        "id": "PxHhfZPWZnvl"
      },
      "outputs": [
        {
          "name": "stderr",
          "output_type": "stream",
          "text": [
            "Map: 100%|██████████| 70000/70000 [00:03<00:00, 18280.49 examples/s]\n"
          ]
        }
      ],
      "source": [
        "spanish_diagnostics_normalized = spanish_diagnostics[\"train\"].map(\n",
        "    lambda x: { # Utilizamos una función anónima que devuelve un diccionario\n",
        "        \"normalized_text\" : normalize(x[\"text\"]) # Esta es una nueva característica que agregaremos a nuestro conjunto de datos.\n",
        "    })"
      ]
    },
    {
      "cell_type": "code",
      "execution_count": 13,
      "metadata": {
        "colab": {
          "base_uri": "https://localhost:8080/"
        },
        "id": "ZG7Ni2dXZnvo",
        "outputId": "5f45de66-c565-4590-faef-d4416f574601"
      },
      "outputs": [
        {
          "data": {
            "text/plain": [
              "Dataset({\n",
              "    features: ['text', 'label', 'normalized_text'],\n",
              "    num_rows: 70000\n",
              "})"
            ]
          },
          "execution_count": 13,
          "metadata": {},
          "output_type": "execute_result"
        }
      ],
      "source": [
        "spanish_diagnostics_normalized"
      ]
    },
    {
      "cell_type": "markdown",
      "metadata": {
        "id": "FOP0-qi2Znvr"
      },
      "source": [
        "Ahora nuestro conjunto de datos cuenta con una nueva característica `normalized_text`."
      ]
    },
    {
      "cell_type": "code",
      "execution_count": 78,
      "metadata": {
        "colab": {
          "base_uri": "https://localhost:8080/"
        },
        "id": "Vo7TJ4yCZnvr",
        "outputId": "763af413-4b34-4dda-e10d-bfa9a60dc54e"
      },
      "outputs": [
        {
          "data": {
            "text/plain": [
              "{'text': '- ANOMALÍAS DENTOFACIALES (INCLUSO LA MALOCLUSIÓN)\\n\\n\\n DISCREPANCIA DENTOMAXILAR',\n",
              " 'label': 1,\n",
              " 'normalized_text': '  anomalias dentofaciales  incluso la maloclusion     discrepancia dentomaxilar'}"
            ]
          },
          "execution_count": 78,
          "metadata": {},
          "output_type": "execute_result"
        }
      ],
      "source": [
        "spanish_diagnostics_normalized[0]"
      ]
    },
    {
      "cell_type": "markdown",
      "metadata": {
        "id": "rKdXZjJWZnvs"
      },
      "source": [
        "## Tokenización\n",
        "\n",
        "La tokenización es el proceso de demarcación de secciones de una cadena de caracteres. Estas secciones podrían ser oraciones, palabras o subpalabras.\n",
        "\n",
        "El método más simple para tokenizar una cadena de caracteres en nuestro lenguaje es la separación por espacios. Aplicamos una separación por espacios mediante el método `str.split()` sobre nuestro conjunto de datos normalizado."
      ]
    },
    {
      "cell_type": "code",
      "execution_count": 15,
      "metadata": {
        "colab": {
          "base_uri": "https://localhost:8080/",
          "height": 35
        },
        "id": "BT5A2jewZnvt",
        "outputId": "effb41b0-61fc-4d28-88d3-8a0282730e33"
      },
      "outputs": [
        {
          "data": {
            "text/plain": [
              "'  anomalias dentofaciales  incluso la maloclusion     discrepancia dentomaxilar'"
            ]
          },
          "execution_count": 15,
          "metadata": {},
          "output_type": "execute_result"
        }
      ],
      "source": [
        "spanish_diagnostics_normalized[0][\"normalized_text\"]"
      ]
    },
    {
      "cell_type": "code",
      "execution_count": 16,
      "metadata": {
        "colab": {
          "base_uri": "https://localhost:8080/"
        },
        "id": "fw7y8AkWZnvt",
        "outputId": "7ff39113-1d70-4825-af18-bc158eebfd27"
      },
      "outputs": [
        {
          "data": {
            "text/plain": [
              "['anomalias',\n",
              " 'dentofaciales',\n",
              " 'incluso',\n",
              " 'la',\n",
              " 'maloclusion',\n",
              " 'discrepancia',\n",
              " 'dentomaxilar']"
            ]
          },
          "execution_count": 16,
          "metadata": {},
          "output_type": "execute_result"
        }
      ],
      "source": [
        "spanish_diagnostics_normalized[0][\"normalized_text\"].split()"
      ]
    },
    {
      "cell_type": "markdown",
      "metadata": {
        "id": "gjg8jXqvZnvu"
      },
      "source": [
        "Si bien el método de separación por espacios funciona bien en nuestro conjunto de datos normalizado, también quisiéramos tokenizar nuestro texto sin normalizar."
      ]
    },
    {
      "cell_type": "code",
      "execution_count": 17,
      "metadata": {
        "colab": {
          "base_uri": "https://localhost:8080/",
          "height": 35
        },
        "id": "SvjGHhMfZnvu",
        "outputId": "2f0ff5ec-32d0-4482-bcda-d69b013f8830"
      },
      "outputs": [
        {
          "data": {
            "text/plain": [
              "'- ANOMALÍAS DENTOFACIALES (INCLUSO LA MALOCLUSIÓN)\\n\\n\\n DISCREPANCIA DENTOMAXILAR'"
            ]
          },
          "execution_count": 17,
          "metadata": {},
          "output_type": "execute_result"
        }
      ],
      "source": [
        "spanish_diagnostics_normalized[0][\"text\"]"
      ]
    },
    {
      "cell_type": "code",
      "execution_count": 18,
      "metadata": {
        "colab": {
          "base_uri": "https://localhost:8080/"
        },
        "id": "ncZ6f51PZnvu",
        "outputId": "3f585498-74de-47df-ba00-2f760e463d54"
      },
      "outputs": [
        {
          "data": {
            "text/plain": [
              "['-',\n",
              " 'ANOMALÍAS',\n",
              " 'DENTOFACIALES',\n",
              " '(INCLUSO',\n",
              " 'LA',\n",
              " 'MALOCLUSIÓN)',\n",
              " 'DISCREPANCIA',\n",
              " 'DENTOMAXILAR']"
            ]
          },
          "execution_count": 18,
          "metadata": {},
          "output_type": "execute_result"
        }
      ],
      "source": [
        "spanish_diagnostics_normalized[0][\"text\"].split()"
      ]
    },
    {
      "cell_type": "code",
      "execution_count": 79,
      "metadata": {
        "id": "RWsCxbawcUIl"
      },
      "outputs": [],
      "source": [
        "# Using spacy.load().\n",
        "import spacy\n",
        "nlp = spacy.load(\"es_core_news_sm\")"
      ]
    },
    {
      "cell_type": "markdown",
      "metadata": {
        "id": "mLuBI99hZnvv"
      },
      "source": [
        "Al aplicar el mismo métodos podemos observar que no funciona totalmente bien debido a la presencia de caracteres no alfabéticos. Para solucionar esto, existen métodos basados en una serie de reglas para solucionar estos problemas. Utilizaremos la implementación de un tokenizador basado en reglas de la biblioteca de procesamiento de lenguaje natural Spacy."
      ]
    },
    {
      "cell_type": "code",
      "execution_count": 80,
      "metadata": {
        "id": "LvQJqEOTZnvv"
      },
      "outputs": [],
      "source": [
        "spacy_tokenizer = nlp.tokenizer"
      ]
    },
    {
      "cell_type": "code",
      "execution_count": 81,
      "metadata": {
        "colab": {
          "base_uri": "https://localhost:8080/"
        },
        "id": "0f-ADcCMZnvv",
        "outputId": "a4cf997e-fa4c-4a12-89dd-ba06f93b995f"
      },
      "outputs": [
        {
          "data": {
            "text/plain": [
              "[-,\n",
              " ANOMALÍAS,\n",
              " DENTOFACIALES,\n",
              " (,\n",
              " INCLUSO,\n",
              " LA,\n",
              " MALOCLUSIÓN,\n",
              " ),\n",
              " \n",
              " \n",
              " \n",
              "  ,\n",
              " DISCREPANCIA,\n",
              " DENTOMAXILAR]"
            ]
          },
          "execution_count": 81,
          "metadata": {},
          "output_type": "execute_result"
        }
      ],
      "source": [
        "list(spacy_tokenizer(spanish_diagnostics_normalized[0][\"text\"]))"
      ]
    },
    {
      "cell_type": "markdown",
      "metadata": {
        "id": "A2MBQ5RPZnvw"
      },
      "source": [
        "Al utilizar el tokenizador basado en reglas, podemos tener resultados mucho mejores que los anteriores."
      ]
    },
    {
      "cell_type": "markdown",
      "metadata": {
        "id": "4fOnfH57Znvw"
      },
      "source": [
        "### Tokenizadores 👹"
      ]
    },
    {
      "cell_type": "markdown",
      "metadata": {
        "id": "rcExeyw4Znvw"
      },
      "source": [
        "🤗 también cuenta con una biblioteca llamada Tokenizers, con la cual podemos construir nuestro tokenizador basado en nuestro conjunto de datos."
      ]
    },
    {
      "cell_type": "markdown",
      "metadata": {
        "id": "j56hUtsAZnvw"
      },
      "source": [
        "Instanciamos el tokenizador con un modelo WordPiece, el cual parte construyendo un vocabulario que incluye todas los caracteres presentes en el conjunto de datos y posteriormente comienza a mezclar caracteres hasta encontrar conjuntos de caracteres que tienen más probabilidad de aparecer juntos que separados."
      ]
    },
    {
      "cell_type": "code",
      "execution_count": 22,
      "metadata": {
        "id": "xvntQ8VtZnvw"
      },
      "outputs": [],
      "source": [
        "tokenizer = tokenizers.Tokenizer(tokenizers.models.WordPiece())"
      ]
    },
    {
      "cell_type": "markdown",
      "metadata": {
        "id": "XrnOYor2Znvx"
      },
      "source": [
        "Esta biblioteca nos permite añadir pasos de normalización directamente. Replicamos lo mismo que hacemos con nuestra función `normalizer()`."
      ]
    },
    {
      "cell_type": "code",
      "execution_count": 23,
      "metadata": {
        "id": "JFs0aPlxZnvx"
      },
      "outputs": [],
      "source": [
        "normalizer = tokenizers.normalizers.Sequence([\n",
        "    tokenizers.normalizers.Lowercase(), # Llevamos todo a minúscula\n",
        "    tokenizers.normalizers.NFD(), # Separamos cada caracter según los elementos que lo componen: á -> (a, ´)\n",
        "    tokenizers.normalizers.StripAccents(), # Eliminamos todos los acentos\n",
        "    tokenizers.normalizers.Replace(tokenizers.Regex(r\"[^a-z ]\"), \" \") # Reemplazamos todos los caracteres no alfabéticos\n",
        "])"
      ]
    },
    {
      "cell_type": "code",
      "execution_count": 24,
      "metadata": {
        "colab": {
          "base_uri": "https://localhost:8080/",
          "height": 35
        },
        "id": "R_GZZSEUZnvy",
        "outputId": "f32cc3c8-e77d-49f6-d886-5e93fc50da87"
      },
      "outputs": [
        {
          "data": {
            "text/plain": [
              "'  anomalias dentofaciales  incluso la maloclusion     discrepancia dentomaxilar'"
            ]
          },
          "execution_count": 24,
          "metadata": {},
          "output_type": "execute_result"
        }
      ],
      "source": [
        "normalizer.normalize_str(spanish_diagnostics_normalized[0][\"text\"])"
      ]
    },
    {
      "cell_type": "markdown",
      "metadata": {
        "id": "0YJxAgWnZnvz"
      },
      "source": [
        "Añadimos el normalizador al tokenizador"
      ]
    },
    {
      "cell_type": "code",
      "execution_count": 25,
      "metadata": {
        "id": "_7Na65IcZnv1"
      },
      "outputs": [],
      "source": [
        "tokenizer.normalizer = normalizer"
      ]
    },
    {
      "cell_type": "markdown",
      "metadata": {
        "id": "GrwRyFmQZnv1"
      },
      "source": [
        "Pre tokenizamos nuestro conjunto de datos mediante espacio para delimitar el tamaño que puede tener cada token."
      ]
    },
    {
      "cell_type": "code",
      "execution_count": 26,
      "metadata": {
        "id": "ycgYHt4CZnv1"
      },
      "outputs": [],
      "source": [
        "tokenizer.pre_tokenizer = tokenizers.pre_tokenizers.Whitespace()"
      ]
    },
    {
      "cell_type": "markdown",
      "metadata": {
        "id": "ERfPKGJIZnv1"
      },
      "source": [
        "Instanciamos el entrenador que entrenará nuestro tokenizador."
      ]
    },
    {
      "cell_type": "code",
      "execution_count": 27,
      "metadata": {
        "id": "mlm_RDkNZnv1"
      },
      "outputs": [],
      "source": [
        "trainer = tokenizers.trainers.WordPieceTrainer()"
      ]
    },
    {
      "cell_type": "markdown",
      "metadata": {
        "id": "cksdbO_9Znv1"
      },
      "source": [
        "Entrenamos el tokenizador sobre nuestro conjunto de datos."
      ]
    },
    {
      "cell_type": "code",
      "execution_count": 28,
      "metadata": {
        "id": "g3j1all4Znv2"
      },
      "outputs": [
        {
          "name": "stdout",
          "output_type": "stream",
          "text": [
            "\n",
            "\n",
            "\n"
          ]
        }
      ],
      "source": [
        "tokenizer.train_from_iterator(spanish_diagnostics_normalized[\"text\"], trainer)"
      ]
    },
    {
      "cell_type": "markdown",
      "metadata": {
        "id": "SbKt9hNMZnv3"
      },
      "source": [
        "Mediante el método `Tokenizer.encode()` obtenemos la representación tokenizada de nuesto texto. Esta representación contiene varios atributos, donde los más interesantes son:\n",
        "\n",
        "- `ids`: Contiene nuestro texto representado a través de una lista que contiene los identificadores de cada token.\n",
        "- `tokens`: Contiene nuestro texto representado a través de una lista que contiene el texto de cada token."
      ]
    },
    {
      "cell_type": "code",
      "execution_count": 29,
      "metadata": {
        "colab": {
          "base_uri": "https://localhost:8080/",
          "height": 35
        },
        "id": "jdjnP_dxZnv3",
        "outputId": "c62622de-56cd-43bc-92c6-c6d2dd6bc60d"
      },
      "outputs": [
        {
          "data": {
            "text/plain": [
              "'- ANOMALÍAS DENTOFACIALES (INCLUSO LA MALOCLUSIÓN)\\n\\n\\n DISCREPANCIA DENTOMAXILAR'"
            ]
          },
          "execution_count": 29,
          "metadata": {},
          "output_type": "execute_result"
        }
      ],
      "source": [
        "spanish_diagnostics_normalized[0][\"text\"]"
      ]
    },
    {
      "cell_type": "code",
      "execution_count": 30,
      "metadata": {
        "id": "w_o_no0UZnv3"
      },
      "outputs": [],
      "source": [
        "tokenized_output = tokenizer.encode(spanish_diagnostics_normalized[0][\"text\"])"
      ]
    },
    {
      "cell_type": "code",
      "execution_count": 97,
      "metadata": {
        "id": "y33LWToaZnv3"
      },
      "outputs": [],
      "source": [
        "#para ver todo el vocabulario del tonekizador consultar la siguiente funcion\n",
        "#tokenizer.get_vocab()"
      ]
    },
    {
      "cell_type": "code",
      "execution_count": 31,
      "metadata": {
        "colab": {
          "base_uri": "https://localhost:8080/"
        },
        "id": "ui6yO5_pZnv4",
        "outputId": "0186996d-4567-4b4c-d0d2-1e2ea273f78f"
      },
      "outputs": [
        {
          "data": {
            "text/plain": [
              "[383, 618, 635, 119, 466, 1765, 970]"
            ]
          },
          "execution_count": 31,
          "metadata": {},
          "output_type": "execute_result"
        }
      ],
      "source": [
        "tokenized_output.ids"
      ]
    },
    {
      "cell_type": "code",
      "execution_count": 32,
      "metadata": {
        "colab": {
          "base_uri": "https://localhost:8080/"
        },
        "id": "k9Od_iYEZnv4",
        "outputId": "322f3573-0f44-4e73-ca62-98b4135957bc"
      },
      "outputs": [
        {
          "data": {
            "text/plain": [
              "['anomalias',\n",
              " 'dentofaciales',\n",
              " 'incluso',\n",
              " 'la',\n",
              " 'maloclusion',\n",
              " 'discrepancia',\n",
              " 'dentomaxilar']"
            ]
          },
          "execution_count": 32,
          "metadata": {},
          "output_type": "execute_result"
        }
      ],
      "source": [
        "tokenized_output.tokens"
      ]
    },
    {
      "cell_type": "markdown",
      "metadata": {
        "id": "yx4E21emZnv4"
      },
      "source": [
        "Tal como lo hicimos anteriormente podemos aplicar paralelamente nuestro tokenizador sobre el conjunto de datos mediante el método `Dataset.map()`"
      ]
    },
    {
      "cell_type": "code",
      "execution_count": 33,
      "metadata": {
        "colab": {
          "base_uri": "https://localhost:8080/",
          "height": 49,
          "referenced_widgets": [
            "7ab6ea6bd80f4dd989a8601002fd8f27",
            "19d0f55f469e410398c93728bc8b2590",
            "83e5b799511f48d9bb002e219788c6e9",
            "d627843f6a4c4f579b708abb1fe08094",
            "476af8635fb64fd39689a43e610b87dc",
            "a577602b1672462ab01e1a10750c8f31",
            "dc967d0df2004ef4b13a33bf8140debc",
            "b48e603ba68b4fb88743c3298a5a9e0a",
            "4df5e5ea19394c269eb509d4eddfadd3",
            "5ce0c9cf7abd42dd99d1cae90435db4a",
            "a18f2f7919b84910a42e7fb568bf3a06"
          ]
        },
        "id": "wLrI_G41Znv4",
        "outputId": "cb24f818-6fe5-4fb7-dcba-e0b07db88927"
      },
      "outputs": [
        {
          "name": "stderr",
          "output_type": "stream",
          "text": [
            "Map: 100%|██████████| 70000/70000 [00:07<00:00, 9118.62 examples/s] \n"
          ]
        }
      ],
      "source": [
        "spanish_diagnostics_normalized_tokenized = spanish_diagnostics_normalized.map(lambda x: {\"tokenized_text\":tokenizer.encode(x[\"text\"]).tokens})"
      ]
    },
    {
      "cell_type": "markdown",
      "metadata": {
        "id": "tAFsujpsZnv4"
      },
      "source": [
        "Nuestro conjunto de datos ahora contiene el texto tokenizado en la característica `tokenized_text`."
      ]
    },
    {
      "cell_type": "code",
      "execution_count": 34,
      "metadata": {
        "colab": {
          "base_uri": "https://localhost:8080/"
        },
        "id": "hF8e5TfoZnv4",
        "outputId": "7c2d2b3e-bc1a-4ab6-abc9-d9fc746d63a4"
      },
      "outputs": [
        {
          "data": {
            "text/plain": [
              "{'text': '- ANOMALÍAS DENTOFACIALES (INCLUSO LA MALOCLUSIÓN)\\n\\n\\n DISCREPANCIA DENTOMAXILAR',\n",
              " 'label': 1,\n",
              " 'normalized_text': '  anomalias dentofaciales  incluso la maloclusion     discrepancia dentomaxilar',\n",
              " 'tokenized_text': ['anomalias',\n",
              "  'dentofaciales',\n",
              "  'incluso',\n",
              "  'la',\n",
              "  'maloclusion',\n",
              "  'discrepancia',\n",
              "  'dentomaxilar']}"
            ]
          },
          "execution_count": 34,
          "metadata": {},
          "output_type": "execute_result"
        }
      ],
      "source": [
        "spanish_diagnostics_normalized_tokenized[0]"
      ]
    },
    {
      "cell_type": "markdown",
      "metadata": {
        "id": "322Zh5RsZnv5"
      },
      "source": [
        "## Stemming y Lematización"
      ]
    },
    {
      "cell_type": "markdown",
      "metadata": {
        "id": "ixYcdvH9Znv5"
      },
      "source": [
        "Con el fin de disminuir la cantidad de características de las representaciones de texto existen métodos que reducen el tamaño de vocabulario al eliminar inflexiones que puedan tener las palabras. Estos métodos son:\n",
        "\n",
        "- Lematización: Este método lleva una palabra en su forma flexionada a su forma base, por ejemplo *tratada* -> *tratar*\n",
        "- Stemming: Este método trunca las palabras de entrada mediante un algoritmo predefinido para encontrar la raíz de la misma, por ejemplo *tratada* -> *trat*\n",
        "\n",
        "El proceso de lematización lo haremos a través de la biblioteca Spacy y el proceso de stemming a través de la biblioteca NLTK utilizando el algoritmo Snowball."
      ]
    },
    {
      "cell_type": "markdown",
      "metadata": {
        "id": "m73XZOGOZnv5"
      },
      "source": [
        "Instanciamos el analizador de Spacy"
      ]
    },
    {
      "cell_type": "markdown",
      "metadata": {
        "id": "NwJzXDQsZnv6"
      },
      "source": [
        "Definimos como tokenizador el que entrenamos anteriormente."
      ]
    },
    {
      "cell_type": "code",
      "execution_count": 35,
      "metadata": {
        "id": "avntx6AQZnv6"
      },
      "outputs": [],
      "source": [
        "def custom_tokenizer(text):\n",
        "    tokens = tokenizer.encode(text).tokens\n",
        "    return spacy.tokens.Doc(nlp.vocab,tokens)"
      ]
    },
    {
      "cell_type": "code",
      "execution_count": 36,
      "metadata": {
        "id": "2MEb3KUtZnv7"
      },
      "outputs": [],
      "source": [
        "nlp.tokenizer = custom_tokenizer"
      ]
    },
    {
      "cell_type": "markdown",
      "metadata": {
        "id": "SJFwz13sZnv7"
      },
      "source": [
        "Instanciamos el Stemmer"
      ]
    },
    {
      "cell_type": "code",
      "execution_count": 37,
      "metadata": {
        "id": "WNpMSREHZnv8"
      },
      "outputs": [],
      "source": [
        "stemmer = nltk.stem.SnowballStemmer(\"spanish\")"
      ]
    },
    {
      "cell_type": "markdown",
      "metadata": {
        "id": "uK1Cw8NzZnv8"
      },
      "source": [
        "Podemos verificar cómo funcionan estos métodos sobre un texto de prueba de nuestro conjunto de datos."
      ]
    },
    {
      "cell_type": "code",
      "execution_count": 38,
      "metadata": {
        "colab": {
          "base_uri": "https://localhost:8080/",
          "height": 53
        },
        "id": "8HYpNqNDZnv9",
        "outputId": "3fd03a39-c0b5-42f0-bf41-68d1cb6d1e17"
      },
      "outputs": [
        {
          "data": {
            "text/plain": [
              "'pieza n 3.4 tratada endodonticamente, restaurada con ionomero y resina compuesta. Necesita protesis fija por gran pNrdida coronaria'"
            ]
          },
          "execution_count": 38,
          "metadata": {},
          "output_type": "execute_result"
        }
      ],
      "source": [
        "spanish_diagnostics_normalized_tokenized[5][\"text\"]"
      ]
    },
    {
      "cell_type": "code",
      "execution_count": 39,
      "metadata": {
        "colab": {
          "base_uri": "https://localhost:8080/"
        },
        "id": "WZhK3edIZnv-",
        "outputId": "04d3c773-c49d-4bc0-bbc7-44b91996d709"
      },
      "outputs": [
        {
          "name": "stdout",
          "output_type": "stream",
          "text": [
            "Token: pieza\n",
            "Lema: pieza\n",
            "Stem: piez\n",
            "---\n",
            "Token: n\n",
            "Lema: n\n",
            "Stem: n\n",
            "---\n",
            "Token: tratada\n",
            "Lema: tratado\n",
            "Stem: trat\n",
            "---\n",
            "Token: endodonticamente\n",
            "Lema: endodonticamente\n",
            "Stem: endodont\n",
            "---\n",
            "Token: restaurada\n",
            "Lema: restaurado\n",
            "Stem: restaur\n",
            "---\n",
            "Token: con\n",
            "Lema: con\n",
            "Stem: con\n",
            "---\n",
            "Token: ionomero\n",
            "Lema: ionomero\n",
            "Stem: ionomer\n",
            "---\n",
            "Token: y\n",
            "Lema: y\n",
            "Stem: y\n",
            "---\n",
            "Token: resina\n",
            "Lema: resina\n",
            "Stem: resin\n",
            "---\n",
            "Token: compuesta\n",
            "Lema: compuesto\n",
            "Stem: compuest\n",
            "---\n",
            "Token: necesita\n",
            "Lema: necesitar\n",
            "Stem: necesit\n",
            "---\n",
            "Token: protesis\n",
            "Lema: protesis\n",
            "Stem: protesis\n",
            "---\n",
            "Token: fija\n",
            "Lema: fijo\n",
            "Stem: fij\n",
            "---\n",
            "Token: por\n",
            "Lema: por\n",
            "Stem: por\n",
            "---\n",
            "Token: gran\n",
            "Lema: gran\n",
            "Stem: gran\n",
            "---\n",
            "Token: pnrdida\n",
            "Lema: pnrdida\n",
            "Stem: pnrdid\n",
            "---\n",
            "Token: coronaria\n",
            "Lema: coronario\n",
            "Stem: coronari\n",
            "---\n"
          ]
        }
      ],
      "source": [
        "for t in nlp(spanish_diagnostics_normalized_tokenized[5][\"text\"]):\n",
        "    print(f\"Token: {t.text}\\nLema: {t.lemma_}\\nStem: {stemmer.stem(t.text)}\\n---\")"
      ]
    },
    {
      "cell_type": "markdown",
      "metadata": {
        "id": "0lFso47Rvxhv"
      },
      "source": [
        "# Pre-procesamiento con NLTK"
      ]
    },
    {
      "cell_type": "markdown",
      "metadata": {
        "id": "LqPTd61xvxhx"
      },
      "source": [
        "En Python existe en \"Natural Language Toolkit\" que tiene un [libro asociado](http://www.nltk.org/book/). Ejemplos de tokenizadores mas comunes de la libreria (Natural Language Toolkit) :\n",
        "\n",
        "- Whitespace tokenization: Este enfoque simple divide una cadena de texto en tokens utilizando los espacios en blanco como delimitadores. Cada palabra o elemento separado por espacios en blanco se considera un token. Por ejemplo, la cadena \"Hola, ¿cómo estás?\" se dividiría en los tokens \"Hola,\", \"¿cómo\" y \"estás?\".\n",
        "\n",
        "- Punctuation-based tokenization: Este tokenizador se basa en los signos de puntuación para dividir una cadena de texto en tokens. Cada signo de puntuación se considera un token independiente. Por ejemplo, la cadena \"¡Hola! ¿Cómo estás?\" se dividiría en los tokens \"¡\", \"Hola\", \"!\", \"¿\", \"Cómo\" y \"estás\".\n",
        "\n",
        "- Default/TreebankWordTokenizer: Este tokenizador se basa en las convenciones utilizadas en el corpus de Treebank del Penn Treebank. Divide una cadena de texto en tokens siguiendo reglas específicas, como separar los signos de puntuación adyacentes de las palabras. Por ejemplo, la cadena \"I can't go\" se dividiría en los tokens \"I\", \"ca\", \"n't\" y \"go\".\n",
        "\n",
        "- TweetTokenizer: Este tokenizador está diseñado específicamente para manejar texto de redes sociales, como tweets. Tiene en cuenta las convenciones y peculiaridades del lenguaje utilizado en las redes sociales, como hashtags, menciones de usuarios, emoticones, etc. Por ejemplo, la cadena \"I love #NLTK!\" se dividiría en los tokens \"I\", \"love\", \"#NLTK\" y \"! \".\n",
        "\n",
        "- MWETokenizer: Este tokenizador se utiliza para identificar y tratar expresiones compuestas por múltiples palabras como un solo token. Por ejemplo, en lugar de dividir la expresión \"New York City\" en tres tokens separados, este tokenizador la mantendría intacta como un único token.\n",
        "\n",
        "[![medium](https://miro.medium.com/v2/resize:fit:1400/format:webp/1*5385R1NI5mNm2J4WSlXo6A.png)](https://towardsdatascience.com/top-5-word-tokenizers-that-every-nlp-data-scientist-should-know-45cc31f8e8b9)"
      ]
    },
    {
      "cell_type": "code",
      "execution_count": 40,
      "metadata": {
        "id": "vkDcpPPYvxhx"
      },
      "outputs": [],
      "source": [
        "import nltk"
      ]
    },
    {
      "cell_type": "code",
      "execution_count": 41,
      "metadata": {
        "colab": {
          "base_uri": "https://localhost:8080/"
        },
        "id": "v9IDTTd-ZnwC",
        "outputId": "5d406eca-1859-419e-b6b2-376028bd01c0"
      },
      "outputs": [
        {
          "name": "stderr",
          "output_type": "stream",
          "text": [
            "[nltk_data] Downloading package punkt to /Users/giturra/nltk_data...\n",
            "[nltk_data]   Unzipping tokenizers/punkt.zip.\n",
            "[nltk_data] Downloading package wordnet to /Users/giturra/nltk_data...\n",
            "[nltk_data]   Package wordnet is already up-to-date!\n",
            "[nltk_data] Downloading package gutenberg to\n",
            "[nltk_data]     /Users/giturra/nltk_data...\n",
            "[nltk_data]   Unzipping corpora/gutenberg.zip.\n",
            "[nltk_data] Downloading package webtext to /Users/giturra/nltk_data...\n",
            "[nltk_data]   Unzipping corpora/webtext.zip.\n",
            "[nltk_data] Downloading package stopwords to\n",
            "[nltk_data]     /Users/giturra/nltk_data...\n",
            "[nltk_data]   Package stopwords is already up-to-date!\n"
          ]
        },
        {
          "data": {
            "text/plain": [
              "True"
            ]
          },
          "execution_count": 41,
          "metadata": {},
          "output_type": "execute_result"
        }
      ],
      "source": [
        "nltk.download(['punkt','wordnet','gutenberg','webtext','stopwords'])"
      ]
    },
    {
      "cell_type": "markdown",
      "metadata": {
        "id": "n-hLe-oEvxhx"
      },
      "source": [
        "## Tokens"
      ]
    },
    {
      "cell_type": "code",
      "execution_count": 42,
      "metadata": {
        "id": "mMvfFn6mvxhy"
      },
      "outputs": [],
      "source": [
        "from nltk.tokenize import sent_tokenize, word_tokenize"
      ]
    },
    {
      "cell_type": "code",
      "execution_count": 43,
      "metadata": {
        "id": "3NyQsh2qvxhy"
      },
      "outputs": [],
      "source": [
        "example = \"Hola! Como están? Después de esta clase yo me voy a mi casa\""
      ]
    },
    {
      "cell_type": "code",
      "execution_count": 44,
      "metadata": {
        "colab": {
          "base_uri": "https://localhost:8080/"
        },
        "id": "imOVhmTbvxhy",
        "outputId": "b084d8dc-c2e6-4601-f650-913140794d37"
      },
      "outputs": [
        {
          "name": "stdout",
          "output_type": "stream",
          "text": [
            "['Hola!', 'Como están?', 'Después de esta clase yo me voy a mi casa']\n"
          ]
        }
      ],
      "source": [
        "print(sent_tokenize(example))"
      ]
    },
    {
      "cell_type": "code",
      "execution_count": 45,
      "metadata": {
        "colab": {
          "base_uri": "https://localhost:8080/"
        },
        "id": "ZqwpeCmIvxhz",
        "outputId": "0fea1820-0ed8-4ad6-8185-8b96639bab2b"
      },
      "outputs": [
        {
          "name": "stdout",
          "output_type": "stream",
          "text": [
            "['Hola', '!', 'Como', 'están', '?', 'Después', 'de', 'esta', 'clase', 'yo', 'me', 'voy', 'a', 'mi', 'casa']\n"
          ]
        }
      ],
      "source": [
        "print(word_tokenize(example))"
      ]
    },
    {
      "cell_type": "markdown",
      "metadata": {
        "id": "L3HCaR5Svxhz"
      },
      "source": [
        "## Stopwords"
      ]
    },
    {
      "cell_type": "code",
      "execution_count": 83,
      "metadata": {
        "id": "c204iOxIvxhz"
      },
      "outputs": [],
      "source": [
        "from nltk.corpus import stopwords"
      ]
    },
    {
      "cell_type": "code",
      "execution_count": 84,
      "metadata": {
        "id": "GBCm_3T2vxh0"
      },
      "outputs": [],
      "source": [
        "stop_words= set(stopwords.words('spanish'))"
      ]
    },
    {
      "cell_type": "code",
      "execution_count": 86,
      "metadata": {},
      "outputs": [
        {
          "data": {
            "text/plain": [
              "{'a',\n",
              " 'al',\n",
              " 'algo',\n",
              " 'algunas',\n",
              " 'algunos',\n",
              " 'ante',\n",
              " 'antes',\n",
              " 'como',\n",
              " 'con',\n",
              " 'contra',\n",
              " 'cual',\n",
              " 'cuando',\n",
              " 'de',\n",
              " 'del',\n",
              " 'desde',\n",
              " 'donde',\n",
              " 'durante',\n",
              " 'e',\n",
              " 'el',\n",
              " 'ella',\n",
              " 'ellas',\n",
              " 'ellos',\n",
              " 'en',\n",
              " 'entre',\n",
              " 'era',\n",
              " 'erais',\n",
              " 'eran',\n",
              " 'eras',\n",
              " 'eres',\n",
              " 'es',\n",
              " 'esa',\n",
              " 'esas',\n",
              " 'ese',\n",
              " 'eso',\n",
              " 'esos',\n",
              " 'esta',\n",
              " 'estaba',\n",
              " 'estabais',\n",
              " 'estaban',\n",
              " 'estabas',\n",
              " 'estad',\n",
              " 'estada',\n",
              " 'estadas',\n",
              " 'estado',\n",
              " 'estados',\n",
              " 'estamos',\n",
              " 'estando',\n",
              " 'estar',\n",
              " 'estaremos',\n",
              " 'estará',\n",
              " 'estarán',\n",
              " 'estarás',\n",
              " 'estaré',\n",
              " 'estaréis',\n",
              " 'estaría',\n",
              " 'estaríais',\n",
              " 'estaríamos',\n",
              " 'estarían',\n",
              " 'estarías',\n",
              " 'estas',\n",
              " 'este',\n",
              " 'estemos',\n",
              " 'esto',\n",
              " 'estos',\n",
              " 'estoy',\n",
              " 'estuve',\n",
              " 'estuviera',\n",
              " 'estuvierais',\n",
              " 'estuvieran',\n",
              " 'estuvieras',\n",
              " 'estuvieron',\n",
              " 'estuviese',\n",
              " 'estuvieseis',\n",
              " 'estuviesen',\n",
              " 'estuvieses',\n",
              " 'estuvimos',\n",
              " 'estuviste',\n",
              " 'estuvisteis',\n",
              " 'estuviéramos',\n",
              " 'estuviésemos',\n",
              " 'estuvo',\n",
              " 'está',\n",
              " 'estábamos',\n",
              " 'estáis',\n",
              " 'están',\n",
              " 'estás',\n",
              " 'esté',\n",
              " 'estéis',\n",
              " 'estén',\n",
              " 'estés',\n",
              " 'fue',\n",
              " 'fuera',\n",
              " 'fuerais',\n",
              " 'fueran',\n",
              " 'fueras',\n",
              " 'fueron',\n",
              " 'fuese',\n",
              " 'fueseis',\n",
              " 'fuesen',\n",
              " 'fueses',\n",
              " 'fui',\n",
              " 'fuimos',\n",
              " 'fuiste',\n",
              " 'fuisteis',\n",
              " 'fuéramos',\n",
              " 'fuésemos',\n",
              " 'ha',\n",
              " 'habida',\n",
              " 'habidas',\n",
              " 'habido',\n",
              " 'habidos',\n",
              " 'habiendo',\n",
              " 'habremos',\n",
              " 'habrá',\n",
              " 'habrán',\n",
              " 'habrás',\n",
              " 'habré',\n",
              " 'habréis',\n",
              " 'habría',\n",
              " 'habríais',\n",
              " 'habríamos',\n",
              " 'habrían',\n",
              " 'habrías',\n",
              " 'habéis',\n",
              " 'había',\n",
              " 'habíais',\n",
              " 'habíamos',\n",
              " 'habían',\n",
              " 'habías',\n",
              " 'han',\n",
              " 'has',\n",
              " 'hasta',\n",
              " 'hay',\n",
              " 'haya',\n",
              " 'hayamos',\n",
              " 'hayan',\n",
              " 'hayas',\n",
              " 'hayáis',\n",
              " 'he',\n",
              " 'hemos',\n",
              " 'hube',\n",
              " 'hubiera',\n",
              " 'hubierais',\n",
              " 'hubieran',\n",
              " 'hubieras',\n",
              " 'hubieron',\n",
              " 'hubiese',\n",
              " 'hubieseis',\n",
              " 'hubiesen',\n",
              " 'hubieses',\n",
              " 'hubimos',\n",
              " 'hubiste',\n",
              " 'hubisteis',\n",
              " 'hubiéramos',\n",
              " 'hubiésemos',\n",
              " 'hubo',\n",
              " 'la',\n",
              " 'las',\n",
              " 'le',\n",
              " 'les',\n",
              " 'lo',\n",
              " 'los',\n",
              " 'me',\n",
              " 'mi',\n",
              " 'mis',\n",
              " 'mucho',\n",
              " 'muchos',\n",
              " 'muy',\n",
              " 'más',\n",
              " 'mí',\n",
              " 'mía',\n",
              " 'mías',\n",
              " 'mío',\n",
              " 'míos',\n",
              " 'nada',\n",
              " 'ni',\n",
              " 'no',\n",
              " 'nos',\n",
              " 'nosotras',\n",
              " 'nosotros',\n",
              " 'nuestra',\n",
              " 'nuestras',\n",
              " 'nuestro',\n",
              " 'nuestros',\n",
              " 'o',\n",
              " 'os',\n",
              " 'otra',\n",
              " 'otras',\n",
              " 'otro',\n",
              " 'otros',\n",
              " 'para',\n",
              " 'pero',\n",
              " 'poco',\n",
              " 'por',\n",
              " 'porque',\n",
              " 'que',\n",
              " 'quien',\n",
              " 'quienes',\n",
              " 'qué',\n",
              " 'se',\n",
              " 'sea',\n",
              " 'seamos',\n",
              " 'sean',\n",
              " 'seas',\n",
              " 'sentid',\n",
              " 'sentida',\n",
              " 'sentidas',\n",
              " 'sentido',\n",
              " 'sentidos',\n",
              " 'seremos',\n",
              " 'será',\n",
              " 'serán',\n",
              " 'serás',\n",
              " 'seré',\n",
              " 'seréis',\n",
              " 'sería',\n",
              " 'seríais',\n",
              " 'seríamos',\n",
              " 'serían',\n",
              " 'serías',\n",
              " 'seáis',\n",
              " 'siente',\n",
              " 'sin',\n",
              " 'sintiendo',\n",
              " 'sobre',\n",
              " 'sois',\n",
              " 'somos',\n",
              " 'son',\n",
              " 'soy',\n",
              " 'su',\n",
              " 'sus',\n",
              " 'suya',\n",
              " 'suyas',\n",
              " 'suyo',\n",
              " 'suyos',\n",
              " 'sí',\n",
              " 'también',\n",
              " 'tanto',\n",
              " 'te',\n",
              " 'tendremos',\n",
              " 'tendrá',\n",
              " 'tendrán',\n",
              " 'tendrás',\n",
              " 'tendré',\n",
              " 'tendréis',\n",
              " 'tendría',\n",
              " 'tendríais',\n",
              " 'tendríamos',\n",
              " 'tendrían',\n",
              " 'tendrías',\n",
              " 'tened',\n",
              " 'tenemos',\n",
              " 'tenga',\n",
              " 'tengamos',\n",
              " 'tengan',\n",
              " 'tengas',\n",
              " 'tengo',\n",
              " 'tengáis',\n",
              " 'tenida',\n",
              " 'tenidas',\n",
              " 'tenido',\n",
              " 'tenidos',\n",
              " 'teniendo',\n",
              " 'tenéis',\n",
              " 'tenía',\n",
              " 'teníais',\n",
              " 'teníamos',\n",
              " 'tenían',\n",
              " 'tenías',\n",
              " 'ti',\n",
              " 'tiene',\n",
              " 'tienen',\n",
              " 'tienes',\n",
              " 'todo',\n",
              " 'todos',\n",
              " 'tu',\n",
              " 'tus',\n",
              " 'tuve',\n",
              " 'tuviera',\n",
              " 'tuvierais',\n",
              " 'tuvieran',\n",
              " 'tuvieras',\n",
              " 'tuvieron',\n",
              " 'tuviese',\n",
              " 'tuvieseis',\n",
              " 'tuviesen',\n",
              " 'tuvieses',\n",
              " 'tuvimos',\n",
              " 'tuviste',\n",
              " 'tuvisteis',\n",
              " 'tuviéramos',\n",
              " 'tuviésemos',\n",
              " 'tuvo',\n",
              " 'tuya',\n",
              " 'tuyas',\n",
              " 'tuyo',\n",
              " 'tuyos',\n",
              " 'tú',\n",
              " 'un',\n",
              " 'una',\n",
              " 'uno',\n",
              " 'unos',\n",
              " 'vosotras',\n",
              " 'vosotros',\n",
              " 'vuestra',\n",
              " 'vuestras',\n",
              " 'vuestro',\n",
              " 'vuestros',\n",
              " 'y',\n",
              " 'ya',\n",
              " 'yo',\n",
              " 'él',\n",
              " 'éramos'}"
            ]
          },
          "execution_count": 86,
          "metadata": {},
          "output_type": "execute_result"
        }
      ],
      "source": [
        "stop_words"
      ]
    },
    {
      "cell_type": "code",
      "execution_count": 85,
      "metadata": {
        "colab": {
          "base_uri": "https://localhost:8080/"
        },
        "id": "PA_uML3qvxh0",
        "outputId": "e505f1f6-b15c-46eb-d4b6-e4324ba535d4"
      },
      "outputs": [
        {
          "name": "stdout",
          "output_type": "stream",
          "text": [
            "['Hola', '!', 'Como', 'están', '?', 'Después', 'de', 'esta', 'clase', 'yo', 'me', 'voy', 'a', 'mi', 'casa']\n"
          ]
        }
      ],
      "source": [
        "wordTokens = word_tokenize(example)\n",
        "print(wordTokens)"
      ]
    },
    {
      "cell_type": "code",
      "execution_count": 116,
      "metadata": {
        "colab": {
          "base_uri": "https://localhost:8080/"
        },
        "id": "aXb5fuq1vxh0",
        "outputId": "54b324b3-f82f-4a4e-d5ad-68fcf04615e8"
      },
      "outputs": [
        {
          "name": "stdout",
          "output_type": "stream",
          "text": [
            "['Hola', '!', 'Como', '?', 'Después', 'clase', 'voy', 'casa']\n"
          ]
        }
      ],
      "source": [
        "filtered = [w for w in wordTokens if not w in stop_words]\n",
        "print(filtered)"
      ]
    },
    {
      "cell_type": "markdown",
      "metadata": {
        "id": "_QTRLNkwvxh0"
      },
      "source": [
        "## Stemming vs. lemmatization (English)"
      ]
    },
    {
      "cell_type": "code",
      "execution_count": 48,
      "metadata": {
        "id": "jAGkcu0Rvxh1"
      },
      "outputs": [],
      "source": [
        "from nltk.stem import PorterStemmer\n",
        "ps = PorterStemmer()"
      ]
    },
    {
      "cell_type": "code",
      "execution_count": 49,
      "metadata": {
        "id": "FnY9SAKYvxh1"
      },
      "outputs": [],
      "source": [
        "exampleWords = [\"love\", \"Loving\",\"loved\", \"lovelii\"]"
      ]
    },
    {
      "cell_type": "code",
      "execution_count": 50,
      "metadata": {
        "colab": {
          "base_uri": "https://localhost:8080/"
        },
        "id": "4yuU_YGpvxh1",
        "outputId": "d0cbb159-688a-49bb-f819-bc560868fd1b"
      },
      "outputs": [
        {
          "name": "stdout",
          "output_type": "stream",
          "text": [
            "love\n",
            "love\n",
            "love\n",
            "lovelii\n"
          ]
        }
      ],
      "source": [
        "for w in exampleWords:\n",
        "    print(ps.stem(w))"
      ]
    },
    {
      "cell_type": "markdown",
      "metadata": {
        "id": "8mK_MMejvxh1"
      },
      "source": [
        "Lemmatization"
      ]
    },
    {
      "cell_type": "code",
      "execution_count": 51,
      "metadata": {
        "id": "WspEWPWOvxh1"
      },
      "outputs": [],
      "source": [
        "from nltk.stem import WordNetLemmatizer\n",
        "lemmatizer = WordNetLemmatizer()"
      ]
    },
    {
      "cell_type": "code",
      "execution_count": 121,
      "metadata": {
        "colab": {
          "base_uri": "https://localhost:8080/"
        },
        "id": "Tus1Zqvdvxh2",
        "outputId": "33dd6d46-16f6-448c-ead9-f2ea955badc7"
      },
      "outputs": [
        {
          "name": "stdout",
          "output_type": "stream",
          "text": [
            "love\n",
            "Loving\n",
            "loved\n",
            "lovelii\n"
          ]
        }
      ],
      "source": [
        "for w in exampleWords:\n",
        "    print(lemmatizer.lemmatize(w))"
      ]
    },
    {
      "cell_type": "code",
      "execution_count": 47,
      "metadata": {
        "id": "SFNimXYivxh2"
      },
      "outputs": [],
      "source": [
        "# It seems it didn't work! It just copied the words!"
      ]
    },
    {
      "cell_type": "markdown",
      "metadata": {
        "id": "ynJXlhJXvxh2"
      },
      "source": [
        "## WordNet"
      ]
    },
    {
      "cell_type": "markdown",
      "metadata": {
        "id": "N2e43x2XZnwJ"
      },
      "source": [
        "WordNet es un diccionario léxico que organiza las palabras en grupos de sinónimos llamados \"synsets\" (conjuntos de sinónimos). Cada synset representa un concepto léxico y contiene una lista de palabras o frases que son intercambiables en ciertos contextos. Además de los sinónimos, WordNet también proporciona información semántica sobre las relaciones entre los synsets, como hiperónimos (conceptos más generales) e hipónimos (conceptos más específicos)."
      ]
    },
    {
      "cell_type": "code",
      "execution_count": 94,
      "metadata": {
        "id": "6e2nRvMcvxh2"
      },
      "outputs": [],
      "source": [
        "from nltk.corpus import wordnet as wn"
      ]
    },
    {
      "cell_type": "code",
      "execution_count": 95,
      "metadata": {},
      "outputs": [
        {
          "data": {
            "text/plain": [
              "['can', 'perro']"
            ]
          },
          "execution_count": 95,
          "metadata": {},
          "output_type": "execute_result"
        }
      ],
      "source": [
        "wn.synset('dog.n.01').lemma_names('spa')"
      ]
    },
    {
      "cell_type": "code",
      "execution_count": 88,
      "metadata": {
        "id": "UpXIH0z_vxh2"
      },
      "outputs": [],
      "source": [
        "syns = wordnet.synsets(\"program\")"
      ]
    },
    {
      "cell_type": "code",
      "execution_count": 89,
      "metadata": {
        "colab": {
          "base_uri": "https://localhost:8080/"
        },
        "id": "yMwNJbtcvxh3",
        "outputId": "681ca2ef-6334-4a0c-e8b5-f9d2c773a510"
      },
      "outputs": [
        {
          "name": "stdout",
          "output_type": "stream",
          "text": [
            "plan.n.01\n"
          ]
        }
      ],
      "source": [
        "print(syns[0].name())"
      ]
    },
    {
      "cell_type": "code",
      "execution_count": 91,
      "metadata": {},
      "outputs": [
        {
          "name": "stdout",
          "output_type": "stream",
          "text": [
            "broadcast.n.02\n"
          ]
        }
      ],
      "source": [
        "print(syns[2].name())"
      ]
    },
    {
      "cell_type": "code",
      "execution_count": 93,
      "metadata": {},
      "outputs": [
        {
          "data": {
            "text/plain": [
              "list"
            ]
          },
          "execution_count": 93,
          "metadata": {},
          "output_type": "execute_result"
        }
      ],
      "source": [
        "type(syns)"
      ]
    },
    {
      "cell_type": "code",
      "execution_count": 125,
      "metadata": {
        "colab": {
          "base_uri": "https://localhost:8080/"
        },
        "id": "cryEev42vxh3",
        "outputId": "edab3605-39fe-4b47-b1f8-c338c9715015"
      },
      "outputs": [
        {
          "name": "stdout",
          "output_type": "stream",
          "text": [
            "plan\n"
          ]
        }
      ],
      "source": [
        "print(syns[0].lemmas()[0].name())"
      ]
    },
    {
      "cell_type": "code",
      "execution_count": 126,
      "metadata": {
        "colab": {
          "base_uri": "https://localhost:8080/"
        },
        "id": "ULntibUEvxh3",
        "outputId": "76798033-2c24-46e3-a84e-2c3c20cbcf53"
      },
      "outputs": [
        {
          "name": "stdout",
          "output_type": "stream",
          "text": [
            "a series of steps to be carried out or goals to be accomplished\n"
          ]
        }
      ],
      "source": [
        "print(syns[0].definition())"
      ]
    },
    {
      "cell_type": "code",
      "execution_count": 127,
      "metadata": {
        "colab": {
          "base_uri": "https://localhost:8080/"
        },
        "id": "Vlf4vGihvxh3",
        "outputId": "6afaa555-a9c9-48fa-ae44-35d51db8fdeb"
      },
      "outputs": [
        {
          "name": "stdout",
          "output_type": "stream",
          "text": [
            "['they drew up a six-step plan', 'they discussed plans for a new bond issue']\n"
          ]
        }
      ],
      "source": [
        "print(syns[0].examples())"
      ]
    },
    {
      "cell_type": "code",
      "execution_count": 55,
      "metadata": {
        "colab": {
          "base_uri": "https://localhost:8080/"
        },
        "id": "_snx4K7lvxh3",
        "outputId": "1872f677-ff8c-4d0a-ce61-573d5e7b6417"
      },
      "outputs": [
        {
          "name": "stdout",
          "output_type": "stream",
          "text": [
            "{'unspoiled', 'dependable', 'good', 'thoroughly', 'secure', 'full', 'skilful', 'goodness', 'undecomposed', 'sound', 'proficient', 'upright', 'adept', 'effective', 'near', 'estimable', 'respectable', 'expert', 'salutary', 'right', 'serious', 'honorable', 'beneficial', 'safe', 'well', 'dear', 'trade_good', 'just', 'ripe', 'practiced', 'in_effect', 'commodity', 'unspoilt', 'honest', 'soundly', 'skillful', 'in_force'}\n"
          ]
        }
      ],
      "source": [
        "synonyms = []\n",
        "antonyms = []\n",
        "\n",
        "for syn in wordnet.synsets(\"good\"):\n",
        "    for l in syn.lemmas():\n",
        "        synonyms.append(l.name())\n",
        "        if l.antonyms():\n",
        "            antonyms.append(l.antonyms()[0].name())\n",
        "\n",
        "print(set(synonyms))"
      ]
    },
    {
      "cell_type": "code",
      "execution_count": 56,
      "metadata": {
        "colab": {
          "base_uri": "https://localhost:8080/"
        },
        "id": "M0_JbOecvxh4",
        "outputId": "c70ed8b4-176d-415f-f0ca-0178cee17191"
      },
      "outputs": [
        {
          "name": "stdout",
          "output_type": "stream",
          "text": [
            "{'evil', 'evilness', 'bad', 'ill', 'badness'}\n"
          ]
        }
      ],
      "source": [
        "print(set(antonyms))"
      ]
    },
    {
      "cell_type": "markdown",
      "metadata": {
        "collapsed": true,
        "id": "B7Bjbzj1vxh4"
      },
      "source": [
        "## Corpora"
      ]
    },
    {
      "cell_type": "markdown",
      "metadata": {
        "id": "6L_ZFBljvxh4"
      },
      "source": [
        "El proyecto Gutenberg tiene libros en español http://www.gutenberg.org/ebooks/search/?query=spanish\n",
        "Y pueden seguir estos pasos para bajar libros automáticamente: https://pypi.org/project/Gutenberg/"
      ]
    },
    {
      "cell_type": "markdown",
      "metadata": {
        "id": "98GWUXmtvxh4"
      },
      "source": [
        "Hay muchos tutoriales en internet para aprender a usar NLTK, por ejemplo este: https://vprusso.github.io/blog/2018/natural-language-processing-python-1/"
      ]
    },
    {
      "cell_type": "code",
      "execution_count": 96,
      "metadata": {
        "colab": {
          "base_uri": "https://localhost:8080/"
        },
        "id": "YHOqjYV7vxh4",
        "outputId": "f6a8caf2-39ac-4a4f-b9bb-a78ea3f06722"
      },
      "outputs": [
        {
          "name": "stdout",
          "output_type": "stream",
          "text": [
            "['austen-emma.txt', 'austen-persuasion.txt', 'austen-sense.txt', 'bible-kjv.txt', 'blake-poems.txt', 'bryant-stories.txt', 'burgess-busterbrown.txt', 'carroll-alice.txt', 'chesterton-ball.txt', 'chesterton-brown.txt', 'chesterton-thursday.txt', 'edgeworth-parents.txt', 'melville-moby_dick.txt', 'milton-paradise.txt', 'shakespeare-caesar.txt', 'shakespeare-hamlet.txt', 'shakespeare-macbeth.txt', 'whitman-leaves.txt']\n"
          ]
        }
      ],
      "source": [
        "print(nltk.corpus.gutenberg.fileids())\n"
      ]
    },
    {
      "cell_type": "code",
      "execution_count": 97,
      "metadata": {
        "id": "IUUupF8Ivxh5"
      },
      "outputs": [],
      "source": [
        "from nltk.text import Text\n",
        "macbeth = Text(nltk.corpus.gutenberg.words('shakespeare-macbeth.txt'))"
      ]
    },
    {
      "cell_type": "code",
      "execution_count": 98,
      "metadata": {
        "colab": {
          "base_uri": "https://localhost:8080/"
        },
        "id": "L2l0kxKnvxh5",
        "outputId": "639c379a-debc-4f00-fed8-495e296bab50"
      },
      "outputs": [
        {
          "name": "stdout",
          "output_type": "stream",
          "text": [
            "23140\n"
          ]
        }
      ],
      "source": [
        "#palabras\n",
        "print(len(macbeth))\n"
      ]
    },
    {
      "cell_type": "code",
      "execution_count": 102,
      "metadata": {},
      "outputs": [
        {
          "data": {
            "text/plain": [
              "['[',\n",
              " 'The',\n",
              " 'Tragedie',\n",
              " 'of',\n",
              " 'Macbeth',\n",
              " 'by',\n",
              " 'William',\n",
              " 'Shakespeare',\n",
              " '1603',\n",
              " ']',\n",
              " 'Actus',\n",
              " 'Primus',\n",
              " '.',\n",
              " 'Scoena',\n",
              " 'Prima',\n",
              " '.',\n",
              " 'Thunder',\n",
              " 'and',\n",
              " 'Lightning',\n",
              " '.',\n",
              " 'Enter',\n",
              " 'three',\n",
              " 'Witches',\n",
              " '.',\n",
              " '1',\n",
              " '.',\n",
              " 'When',\n",
              " 'shall',\n",
              " 'we',\n",
              " 'three',\n",
              " 'meet',\n",
              " 'againe',\n",
              " '?',\n",
              " 'In',\n",
              " 'Thunder',\n",
              " ',',\n",
              " 'Lightning',\n",
              " ',',\n",
              " 'or',\n",
              " 'in',\n",
              " 'Raine',\n",
              " '?',\n",
              " '2',\n",
              " '.',\n",
              " 'When',\n",
              " 'the',\n",
              " 'Hurley',\n",
              " '-',\n",
              " 'burley',\n",
              " \"'\",\n",
              " 's',\n",
              " 'done',\n",
              " ',',\n",
              " 'When',\n",
              " 'the',\n",
              " 'Battaile',\n",
              " \"'\",\n",
              " 's',\n",
              " 'lost',\n",
              " ',',\n",
              " 'and',\n",
              " 'wonne',\n",
              " '3',\n",
              " '.',\n",
              " 'That',\n",
              " 'will',\n",
              " 'be',\n",
              " 'ere',\n",
              " 'the',\n",
              " 'set',\n",
              " 'of',\n",
              " 'Sunne',\n",
              " '1',\n",
              " '.',\n",
              " 'Where',\n",
              " 'the',\n",
              " 'place',\n",
              " '?',\n",
              " '2',\n",
              " '.',\n",
              " 'Vpon',\n",
              " 'the',\n",
              " 'Heath',\n",
              " '3',\n",
              " '.',\n",
              " 'There',\n",
              " 'to',\n",
              " 'meet',\n",
              " 'with',\n",
              " 'Macbeth',\n",
              " '1',\n",
              " '.',\n",
              " 'I',\n",
              " 'come',\n",
              " ',',\n",
              " 'Gray',\n",
              " '-',\n",
              " 'Malkin',\n",
              " 'All',\n",
              " '.',\n",
              " 'Padock',\n",
              " 'calls',\n",
              " 'anon',\n",
              " ':',\n",
              " 'faire',\n",
              " 'is',\n",
              " 'foule',\n",
              " ',',\n",
              " 'and',\n",
              " 'foule',\n",
              " 'is',\n",
              " 'faire',\n",
              " ',',\n",
              " 'Houer',\n",
              " 'through',\n",
              " 'the',\n",
              " 'fogge',\n",
              " 'and',\n",
              " 'filthie',\n",
              " 'ayre',\n",
              " '.',\n",
              " 'Exeunt',\n",
              " '.',\n",
              " 'Scena',\n",
              " 'Secunda',\n",
              " '.',\n",
              " 'Alarum',\n",
              " 'within',\n",
              " '.',\n",
              " 'Enter',\n",
              " 'King',\n",
              " 'Malcome',\n",
              " ',',\n",
              " 'Donalbaine',\n",
              " ',',\n",
              " 'Lenox',\n",
              " ',',\n",
              " 'with',\n",
              " 'attendants',\n",
              " ',',\n",
              " 'meeting',\n",
              " 'a',\n",
              " 'bleeding',\n",
              " 'Captaine',\n",
              " '.',\n",
              " 'King',\n",
              " '.',\n",
              " 'What',\n",
              " 'bloody',\n",
              " 'man',\n",
              " 'is',\n",
              " 'that',\n",
              " '?',\n",
              " 'he',\n",
              " 'can',\n",
              " 'report',\n",
              " ',',\n",
              " 'As',\n",
              " 'seemeth',\n",
              " 'by',\n",
              " 'his',\n",
              " 'plight',\n",
              " ',',\n",
              " 'of',\n",
              " 'the',\n",
              " 'Reuolt',\n",
              " 'The',\n",
              " 'newest',\n",
              " 'state',\n",
              " 'Mal',\n",
              " '.',\n",
              " 'This',\n",
              " 'is',\n",
              " 'the',\n",
              " 'Serieant',\n",
              " ',',\n",
              " 'Who',\n",
              " 'like',\n",
              " 'a',\n",
              " 'good',\n",
              " 'and',\n",
              " 'hardie',\n",
              " 'Souldier',\n",
              " 'fought',\n",
              " \"'\",\n",
              " 'Gainst',\n",
              " 'my',\n",
              " 'Captiuitie',\n",
              " ':',\n",
              " 'Haile',\n",
              " 'braue',\n",
              " 'friend',\n",
              " ';',\n",
              " 'Say',\n",
              " 'to',\n",
              " 'the',\n",
              " 'King',\n",
              " ',',\n",
              " 'the',\n",
              " 'knowledge',\n",
              " 'of',\n",
              " 'the',\n",
              " 'Broyle',\n",
              " ',',\n",
              " 'As',\n",
              " 'thou',\n",
              " 'didst',\n",
              " 'leaue',\n",
              " 'it',\n",
              " 'Cap',\n",
              " '.',\n",
              " 'Doubtfull',\n",
              " 'it',\n",
              " 'stood',\n",
              " ',',\n",
              " 'As',\n",
              " 'two',\n",
              " 'spent',\n",
              " 'Swimmers',\n",
              " ',',\n",
              " 'that',\n",
              " 'doe',\n",
              " 'cling',\n",
              " 'together',\n",
              " ',',\n",
              " 'And',\n",
              " 'choake',\n",
              " 'their',\n",
              " 'Art',\n",
              " ':',\n",
              " 'The',\n",
              " 'mercilesse',\n",
              " 'Macdonwald',\n",
              " '(',\n",
              " 'Worthie',\n",
              " 'to',\n",
              " 'be',\n",
              " 'a',\n",
              " 'Rebell',\n",
              " ',',\n",
              " 'for',\n",
              " 'to',\n",
              " 'that',\n",
              " 'The',\n",
              " 'multiplying',\n",
              " 'Villanies',\n",
              " 'of',\n",
              " 'Nature',\n",
              " 'Doe',\n",
              " 'swarme',\n",
              " 'vpon',\n",
              " 'him',\n",
              " ')',\n",
              " 'from',\n",
              " 'the',\n",
              " 'Westerne',\n",
              " 'Isles',\n",
              " 'Of',\n",
              " 'Kernes',\n",
              " 'and',\n",
              " 'Gallowgrosses',\n",
              " 'is',\n",
              " 'supply',\n",
              " \"'\",\n",
              " 'd',\n",
              " ',',\n",
              " 'And',\n",
              " 'Fortune',\n",
              " 'on',\n",
              " 'his',\n",
              " 'damned',\n",
              " 'Quarry',\n",
              " 'smiling',\n",
              " ',',\n",
              " 'Shew',\n",
              " \"'\",\n",
              " 'd',\n",
              " 'like',\n",
              " 'a',\n",
              " 'Rebells',\n",
              " 'Whore',\n",
              " ':',\n",
              " 'but',\n",
              " 'all',\n",
              " \"'\",\n",
              " 's',\n",
              " 'too',\n",
              " 'weake',\n",
              " ':',\n",
              " 'For',\n",
              " 'braue',\n",
              " 'Macbeth',\n",
              " '(',\n",
              " 'well',\n",
              " 'hee',\n",
              " 'deserues',\n",
              " 'that',\n",
              " 'Name',\n",
              " ')',\n",
              " 'Disdayning',\n",
              " 'Fortune',\n",
              " ',',\n",
              " 'with',\n",
              " 'his',\n",
              " 'brandisht',\n",
              " 'Steele',\n",
              " ',',\n",
              " 'Which',\n",
              " 'smoak',\n",
              " \"'\",\n",
              " 'd',\n",
              " 'with',\n",
              " 'bloody',\n",
              " 'execution',\n",
              " '(',\n",
              " 'Like',\n",
              " 'Valours',\n",
              " 'Minion',\n",
              " ')',\n",
              " 'caru',\n",
              " \"'\",\n",
              " 'd',\n",
              " 'out',\n",
              " 'his',\n",
              " 'passage',\n",
              " ',',\n",
              " 'Till',\n",
              " 'hee',\n",
              " 'fac',\n",
              " \"'\",\n",
              " 'd',\n",
              " 'the',\n",
              " 'Slaue',\n",
              " ':',\n",
              " 'Which',\n",
              " 'neu',\n",
              " \"'\",\n",
              " 'r',\n",
              " 'shooke',\n",
              " 'hands',\n",
              " ',',\n",
              " 'nor',\n",
              " 'bad',\n",
              " 'farwell',\n",
              " 'to',\n",
              " 'him',\n",
              " ',',\n",
              " 'Till',\n",
              " 'he',\n",
              " 'vnseam',\n",
              " \"'\",\n",
              " 'd',\n",
              " 'him',\n",
              " 'from',\n",
              " 'the',\n",
              " 'Naue',\n",
              " 'toth',\n",
              " \"'\",\n",
              " 'Chops',\n",
              " ',',\n",
              " 'And',\n",
              " 'fix',\n",
              " \"'\",\n",
              " 'd',\n",
              " 'his',\n",
              " 'Head',\n",
              " 'vpon',\n",
              " 'our',\n",
              " 'Battlements',\n",
              " 'King',\n",
              " '.',\n",
              " 'O',\n",
              " 'valiant',\n",
              " 'Cousin',\n",
              " ',',\n",
              " 'worthy',\n",
              " 'Gentleman',\n",
              " 'Cap',\n",
              " '.',\n",
              " 'As',\n",
              " 'whence',\n",
              " 'the',\n",
              " 'Sunne',\n",
              " \"'\",\n",
              " 'gins',\n",
              " 'his',\n",
              " 'reflection',\n",
              " ',',\n",
              " 'Shipwracking',\n",
              " 'Stormes',\n",
              " ',',\n",
              " 'and',\n",
              " 'direfull',\n",
              " 'Thunders',\n",
              " ':',\n",
              " 'So',\n",
              " 'from',\n",
              " 'that',\n",
              " 'Spring',\n",
              " ',',\n",
              " 'whence',\n",
              " 'comfort',\n",
              " 'seem',\n",
              " \"'\",\n",
              " 'd',\n",
              " 'to',\n",
              " 'come',\n",
              " ',',\n",
              " 'Discomfort',\n",
              " 'swells',\n",
              " ':',\n",
              " 'Marke',\n",
              " 'King',\n",
              " 'of',\n",
              " 'Scotland',\n",
              " ',',\n",
              " 'marke',\n",
              " ',',\n",
              " 'No',\n",
              " 'sooner',\n",
              " 'Iustice',\n",
              " 'had',\n",
              " ',',\n",
              " 'with',\n",
              " 'Valour',\n",
              " 'arm',\n",
              " \"'\",\n",
              " 'd',\n",
              " ',',\n",
              " 'Compell',\n",
              " \"'\",\n",
              " 'd',\n",
              " 'these',\n",
              " 'skipping',\n",
              " 'Kernes',\n",
              " 'to',\n",
              " 'trust',\n",
              " 'their',\n",
              " 'heeles',\n",
              " ',',\n",
              " 'But',\n",
              " 'the',\n",
              " 'Norweyan',\n",
              " 'Lord',\n",
              " ',',\n",
              " 'surueying',\n",
              " 'vantage',\n",
              " ',',\n",
              " 'With',\n",
              " 'furbusht',\n",
              " 'Armes',\n",
              " ',',\n",
              " 'and',\n",
              " 'new',\n",
              " 'supplyes',\n",
              " 'of',\n",
              " 'men',\n",
              " ',',\n",
              " 'Began',\n",
              " 'a',\n",
              " 'fresh',\n",
              " 'assault',\n",
              " 'King',\n",
              " '.',\n",
              " 'Dismay',\n",
              " \"'\",\n",
              " 'd',\n",
              " 'not',\n",
              " 'this',\n",
              " 'our',\n",
              " 'Captaines',\n",
              " ',',\n",
              " 'Macbeth',\n",
              " 'and',\n",
              " 'Banquoh',\n",
              " '?',\n",
              " 'Cap',\n",
              " '.',\n",
              " 'Yes',\n",
              " ',',\n",
              " 'as',\n",
              " 'Sparrowes',\n",
              " ',',\n",
              " 'Eagles',\n",
              " ';',\n",
              " 'Or',\n",
              " 'the',\n",
              " 'Hare',\n",
              " ',',\n",
              " 'the',\n",
              " 'Lyon',\n",
              " ':',\n",
              " 'If',\n",
              " 'I',\n",
              " 'say',\n",
              " 'sooth',\n",
              " ',',\n",
              " 'I',\n",
              " 'must',\n",
              " 'report',\n",
              " 'they',\n",
              " 'were',\n",
              " 'As',\n",
              " 'Cannons',\n",
              " 'ouer',\n",
              " '-',\n",
              " 'charg',\n",
              " \"'\",\n",
              " 'd',\n",
              " 'with',\n",
              " 'double',\n",
              " 'Cracks',\n",
              " ',',\n",
              " 'So',\n",
              " 'they',\n",
              " 'doubly',\n",
              " 'redoubled',\n",
              " 'stroakes',\n",
              " 'vpon',\n",
              " 'the',\n",
              " 'Foe',\n",
              " ':',\n",
              " 'Except',\n",
              " 'they',\n",
              " 'meant',\n",
              " 'to',\n",
              " 'bathe',\n",
              " 'in',\n",
              " 'reeking',\n",
              " 'Wounds',\n",
              " ',',\n",
              " 'Or',\n",
              " 'memorize',\n",
              " 'another',\n",
              " 'Golgotha',\n",
              " ',',\n",
              " 'I',\n",
              " 'cannot',\n",
              " 'tell',\n",
              " ':',\n",
              " 'but',\n",
              " 'I',\n",
              " 'am',\n",
              " 'faint',\n",
              " ',',\n",
              " 'My',\n",
              " 'Gashes',\n",
              " 'cry',\n",
              " 'for',\n",
              " 'helpe',\n",
              " 'King',\n",
              " '.',\n",
              " 'So',\n",
              " 'well',\n",
              " 'thy',\n",
              " 'words',\n",
              " 'become',\n",
              " 'thee',\n",
              " ',',\n",
              " 'as',\n",
              " 'thy',\n",
              " 'wounds',\n",
              " ',',\n",
              " 'They',\n",
              " 'smack',\n",
              " 'of',\n",
              " 'Honor',\n",
              " 'both',\n",
              " ':',\n",
              " 'Goe',\n",
              " 'get',\n",
              " 'him',\n",
              " 'Surgeons',\n",
              " '.',\n",
              " 'Enter',\n",
              " 'Rosse',\n",
              " 'and',\n",
              " 'Angus',\n",
              " '.',\n",
              " 'Who',\n",
              " 'comes',\n",
              " 'here',\n",
              " '?',\n",
              " 'Mal',\n",
              " '.',\n",
              " 'The',\n",
              " 'worthy',\n",
              " 'Thane',\n",
              " 'of',\n",
              " 'Rosse',\n",
              " 'Lenox',\n",
              " '.',\n",
              " 'What',\n",
              " 'a',\n",
              " 'haste',\n",
              " 'lookes',\n",
              " 'through',\n",
              " 'his',\n",
              " 'eyes',\n",
              " '?',\n",
              " 'So',\n",
              " 'should',\n",
              " 'he',\n",
              " 'looke',\n",
              " ',',\n",
              " 'that',\n",
              " 'seemes',\n",
              " 'to',\n",
              " 'speake',\n",
              " 'things',\n",
              " 'strange',\n",
              " 'Rosse',\n",
              " '.',\n",
              " 'God',\n",
              " 'saue',\n",
              " 'the',\n",
              " 'King',\n",
              " 'King',\n",
              " '.',\n",
              " 'Whence',\n",
              " 'cam',\n",
              " \"'\",\n",
              " 'st',\n",
              " 'thou',\n",
              " ',',\n",
              " 'worthy',\n",
              " 'Thane',\n",
              " '?',\n",
              " 'Rosse',\n",
              " '.',\n",
              " 'From',\n",
              " 'Fiffe',\n",
              " ',',\n",
              " 'great',\n",
              " 'King',\n",
              " ',',\n",
              " 'Where',\n",
              " 'the',\n",
              " 'Norweyan',\n",
              " 'Banners',\n",
              " 'flowt',\n",
              " 'the',\n",
              " 'Skie',\n",
              " ',',\n",
              " 'And',\n",
              " 'fanne',\n",
              " 'our',\n",
              " 'people',\n",
              " 'cold',\n",
              " '.',\n",
              " 'Norway',\n",
              " 'himselfe',\n",
              " ',',\n",
              " 'with',\n",
              " 'terrible',\n",
              " 'numbers',\n",
              " ',',\n",
              " 'Assisted',\n",
              " 'by',\n",
              " 'that',\n",
              " 'most',\n",
              " 'disloyall',\n",
              " 'Traytor',\n",
              " ',',\n",
              " 'The',\n",
              " 'Thane',\n",
              " 'of',\n",
              " 'Cawdor',\n",
              " ',',\n",
              " 'began',\n",
              " 'a',\n",
              " 'dismall',\n",
              " 'Conflict',\n",
              " ',',\n",
              " 'Till',\n",
              " 'that',\n",
              " 'Bellona',\n",
              " \"'\",\n",
              " 's',\n",
              " 'Bridegroome',\n",
              " ',',\n",
              " 'lapt',\n",
              " 'in',\n",
              " 'proofe',\n",
              " ',',\n",
              " 'Confronted',\n",
              " 'him',\n",
              " 'with',\n",
              " 'selfe',\n",
              " '-',\n",
              " 'comparisons',\n",
              " ',',\n",
              " 'Point',\n",
              " 'against',\n",
              " 'Point',\n",
              " ',',\n",
              " 'rebellious',\n",
              " 'Arme',\n",
              " \"'\",\n",
              " 'gainst',\n",
              " 'Arme',\n",
              " ',',\n",
              " 'Curbing',\n",
              " 'his',\n",
              " 'lauish',\n",
              " 'spirit',\n",
              " ':',\n",
              " 'and',\n",
              " 'to',\n",
              " 'conclude',\n",
              " ',',\n",
              " 'The',\n",
              " 'Victorie',\n",
              " 'fell',\n",
              " 'on',\n",
              " 'vs',\n",
              " 'King',\n",
              " '.',\n",
              " 'Great',\n",
              " 'happinesse',\n",
              " 'Rosse',\n",
              " '.',\n",
              " 'That',\n",
              " 'now',\n",
              " 'Sweno',\n",
              " ',',\n",
              " 'the',\n",
              " 'Norwayes',\n",
              " 'King',\n",
              " ',',\n",
              " 'Craues',\n",
              " 'composition',\n",
              " ':',\n",
              " 'Nor',\n",
              " 'would',\n",
              " 'we',\n",
              " 'deigne',\n",
              " 'him',\n",
              " 'buriall',\n",
              " 'of',\n",
              " 'his',\n",
              " 'men',\n",
              " ',',\n",
              " 'Till',\n",
              " 'he',\n",
              " 'disbursed',\n",
              " ',',\n",
              " 'at',\n",
              " 'Saint',\n",
              " 'Colmes',\n",
              " 'ynch',\n",
              " ',',\n",
              " 'Ten',\n",
              " 'thousand',\n",
              " 'Dollars',\n",
              " ',',\n",
              " 'to',\n",
              " 'our',\n",
              " 'generall',\n",
              " 'vse',\n",
              " 'King',\n",
              " '.',\n",
              " 'No',\n",
              " 'more',\n",
              " 'that',\n",
              " 'Thane',\n",
              " 'of',\n",
              " 'Cawdor',\n",
              " 'shall',\n",
              " 'deceiue',\n",
              " 'Our',\n",
              " 'Bosome',\n",
              " 'interest',\n",
              " ':',\n",
              " 'Goe',\n",
              " 'pronounce',\n",
              " 'his',\n",
              " 'present',\n",
              " 'death',\n",
              " ',',\n",
              " 'And',\n",
              " 'with',\n",
              " 'his',\n",
              " 'former',\n",
              " 'Title',\n",
              " 'greet',\n",
              " 'Macbeth',\n",
              " 'Rosse',\n",
              " '.',\n",
              " 'Ile',\n",
              " 'see',\n",
              " 'it',\n",
              " 'done',\n",
              " 'King',\n",
              " '.',\n",
              " 'What',\n",
              " 'he',\n",
              " 'hath',\n",
              " 'lost',\n",
              " ',',\n",
              " 'Noble',\n",
              " 'Macbeth',\n",
              " 'hath',\n",
              " 'wonne',\n",
              " '.',\n",
              " 'Exeunt',\n",
              " '.',\n",
              " 'Scena',\n",
              " 'Tertia',\n",
              " '.',\n",
              " 'Thunder',\n",
              " '.',\n",
              " 'Enter',\n",
              " 'the',\n",
              " 'three',\n",
              " 'Witches',\n",
              " '.',\n",
              " '1',\n",
              " '.',\n",
              " 'Where',\n",
              " 'hast',\n",
              " 'thou',\n",
              " 'beene',\n",
              " ',',\n",
              " 'Sister',\n",
              " '?',\n",
              " '2',\n",
              " '.',\n",
              " 'Killing',\n",
              " 'Swine',\n",
              " '3',\n",
              " '.',\n",
              " 'Sister',\n",
              " ',',\n",
              " 'where',\n",
              " 'thou',\n",
              " '?',\n",
              " '1',\n",
              " '.',\n",
              " 'A',\n",
              " 'Saylors',\n",
              " 'Wife',\n",
              " 'had',\n",
              " 'Chestnuts',\n",
              " 'in',\n",
              " 'her',\n",
              " 'Lappe',\n",
              " ',',\n",
              " 'And',\n",
              " 'mouncht',\n",
              " ',',\n",
              " '&',\n",
              " 'mouncht',\n",
              " ',',\n",
              " 'and',\n",
              " 'mouncht',\n",
              " ':',\n",
              " 'Giue',\n",
              " 'me',\n",
              " ',',\n",
              " 'quoth',\n",
              " 'I',\n",
              " '.',\n",
              " 'Aroynt',\n",
              " 'thee',\n",
              " ',',\n",
              " 'Witch',\n",
              " ',',\n",
              " 'the',\n",
              " 'rumpe',\n",
              " '-',\n",
              " 'fed',\n",
              " 'Ronyon',\n",
              " 'cryes',\n",
              " '.',\n",
              " 'Her',\n",
              " 'Husband',\n",
              " \"'\",\n",
              " 's',\n",
              " 'to',\n",
              " 'Aleppo',\n",
              " 'gone',\n",
              " ',',\n",
              " 'Master',\n",
              " 'o',\n",
              " \"'\",\n",
              " 'th',\n",
              " \"'\",\n",
              " 'Tiger',\n",
              " ':',\n",
              " 'But',\n",
              " 'in',\n",
              " 'a',\n",
              " 'Syue',\n",
              " 'Ile',\n",
              " 'thither',\n",
              " 'sayle',\n",
              " ',',\n",
              " 'And',\n",
              " 'like',\n",
              " 'a',\n",
              " 'Rat',\n",
              " 'without',\n",
              " 'a',\n",
              " 'tayle',\n",
              " ',',\n",
              " 'Ile',\n",
              " 'doe',\n",
              " ',',\n",
              " 'Ile',\n",
              " 'doe',\n",
              " ',',\n",
              " 'and',\n",
              " 'Ile',\n",
              " 'doe',\n",
              " '2',\n",
              " '.',\n",
              " 'Ile',\n",
              " 'giue',\n",
              " 'thee',\n",
              " 'a',\n",
              " 'Winde',\n",
              " '1',\n",
              " '.',\n",
              " 'Th',\n",
              " \"'\",\n",
              " 'art',\n",
              " 'kinde',\n",
              " '3',\n",
              " '.',\n",
              " 'And',\n",
              " 'I',\n",
              " 'another',\n",
              " '1',\n",
              " '.',\n",
              " 'I',\n",
              " 'my',\n",
              " 'selfe',\n",
              " 'haue',\n",
              " 'all',\n",
              " 'the',\n",
              " 'other',\n",
              " ',',\n",
              " 'And',\n",
              " 'the',\n",
              " 'very',\n",
              " 'Ports',\n",
              " 'they',\n",
              " 'blow',\n",
              " ',',\n",
              " 'All',\n",
              " 'the',\n",
              " 'Quarters',\n",
              " 'that',\n",
              " 'they',\n",
              " 'know',\n",
              " ',',\n",
              " 'I',\n",
              " \"'\",\n",
              " 'th',\n",
              " \"'\",\n",
              " 'Ship',\n",
              " '-',\n",
              " 'mans',\n",
              " 'Card',\n",
              " '.',\n",
              " 'Ile',\n",
              " 'dreyne',\n",
              " 'him',\n",
              " 'drie',\n",
              " 'as',\n",
              " 'Hay',\n",
              " ':',\n",
              " 'Sleepe',\n",
              " 'shall',\n",
              " 'neyther',\n",
              " 'Night',\n",
              " 'nor',\n",
              " 'Day',\n",
              " 'Hang',\n",
              " 'vpon',\n",
              " 'his',\n",
              " 'Pent',\n",
              " '-',\n",
              " 'house',\n",
              " 'Lid',\n",
              " ':',\n",
              " 'He',\n",
              " 'shall',\n",
              " 'liue',\n",
              " 'a',\n",
              " 'man',\n",
              " 'forbid',\n",
              " ':',\n",
              " 'Wearie',\n",
              " 'Seu',\n",
              " \"'\",\n",
              " 'nights',\n",
              " ',',\n",
              " 'nine',\n",
              " ...]"
            ]
          },
          "execution_count": 102,
          "metadata": {},
          "output_type": "execute_result"
        }
      ],
      "source": [
        "macbeth.tokens"
      ]
    },
    {
      "cell_type": "code",
      "execution_count": 99,
      "metadata": {
        "colab": {
          "base_uri": "https://localhost:8080/"
        },
        "id": "0TSvbhL9vxh5",
        "outputId": "9b5dc209-f305-4561-f39d-fd7cec6f1453"
      },
      "outputs": [
        {
          "name": "stdout",
          "output_type": "stream",
          "text": [
            "4017\n"
          ]
        }
      ],
      "source": [
        "# palabras unicas\n",
        "print(len(set(macbeth)))"
      ]
    },
    {
      "cell_type": "code",
      "execution_count": 100,
      "metadata": {
        "colab": {
          "base_uri": "https://localhost:8080/"
        },
        "id": "tWYlCvtAvxh5",
        "outputId": "454c3af0-95f9-45b8-e6c9-4086cedb8251"
      },
      "outputs": [
        {
          "name": "stdout",
          "output_type": "stream",
          "text": [
            "Displaying 16 of 16 matches:\n",
            "isse ' em . Had he not resembled My Father as he slept , I had don ' t . My Hu\n",
            "e of it is stopt Macd . Your Royall Father ' s murther ' d Mal . Oh , by whom \n",
            "d former knowings Rosse . Ha , good Father , Thou seest the Heauens , as troub\n",
            "ier then our new Rosse . Farewell , Father Old M . Gods benyson go with you , \n",
            " my selfe should be the Roote , and Father Of many Kings . If there come truth\n",
            " Prophet - like , They hayl ' d him Father to a Line of Kings . Vpon my Head t\n",
            "or Donalbane To kill their gracious Father ? Damned Fact , How it did greeue M\n",
            "should finde What ' twere to kill a Father : So should Fleans . But peace ; fo\n",
            "y Cosine , Blessing vpon you Wife . Father ' d he is , And yet hee ' s Father \n",
            " Father ' d he is , And yet hee ' s Father - lesse Rosse . I am so much a Fool\n",
            "ore Birds they are not set for : My Father is not dead for all your saying Wif\n",
            "he is dead : How wilt thou do for a Father ? Son . Nay how will you do for a H\n",
            "th wit enough for thee Son . Was my Father a Traitor , Mother ? Wife . I , tha\n",
            "Monkie : But how wilt thou do for a Father ? Son . If he were dead , youl ' d \n",
            ", that I should quickely haue a new Father Wife . Poore pratler , how thou tal\n",
            " s blaspheme his breed ? Thy Royall Father Was a most Sainted - King : the Que\n"
          ]
        }
      ],
      "source": [
        "macbeth.concordance(\"father\")"
      ]
    },
    {
      "cell_type": "code",
      "execution_count": 64,
      "metadata": {
        "colab": {
          "base_uri": "https://localhost:8080/",
          "height": 472
        },
        "id": "7qnHB0NJvxh5",
        "outputId": "c87d46c4-681e-49a9-f5dc-088d8b6d955c"
      },
      "outputs": [
        {
          "name": "stderr",
          "output_type": "stream",
          "text": [
            "huggingface/tokenizers: The current process just got forked, after parallelism has already been used. Disabling parallelism to avoid deadlocks...\n",
            "To disable this warning, you can either:\n",
            "\t- Avoid using `tokenizers` before the fork if possible\n",
            "\t- Explicitly set the environment variable TOKENIZERS_PARALLELISM=(true | false)\n",
            "huggingface/tokenizers: The current process just got forked, after parallelism has already been used. Disabling parallelism to avoid deadlocks...\n",
            "To disable this warning, you can either:\n",
            "\t- Avoid using `tokenizers` before the fork if possible\n",
            "\t- Explicitly set the environment variable TOKENIZERS_PARALLELISM=(true | false)\n"
          ]
        },
        {
          "data": {
            "image/png": "[encoded data removed]",
            "text/plain": [
              "<Figure size 640x480 with 1 Axes>"
            ]
          },
          "metadata": {},
          "output_type": "display_data"
        }
      ],
      "source": [
        "macbeth.dispersion_plot([\"Macbeth\", \"King\", \"Lady\"])"
      ]
    },
    {
      "cell_type": "markdown",
      "metadata": {
        "id": "OWClKz_Jvxh6"
      },
      "source": [
        "## Contar palabras"
      ]
    },
    {
      "cell_type": "code",
      "execution_count": 103,
      "metadata": {
        "colab": {
          "base_uri": "https://localhost:8080/",
          "height": 482
        },
        "id": "6CHlktu-vxh6",
        "outputId": "3afcf731-41a0-430e-d502-3c8982c02b2e"
      },
      "outputs": [
        {
          "data": {
            "image/png": "[encoded data removed]",
            "text/plain": [
              "<Figure size 640x480 with 1 Axes>"
            ]
          },
          "metadata": {},
          "output_type": "display_data"
        },
        {
          "data": {
            "text/plain": [
              "<Axes: xlabel='Samples', ylabel='Counts'>"
            ]
          },
          "execution_count": 103,
          "metadata": {},
          "output_type": "execute_result"
        }
      ],
      "source": [
        "fdist = nltk.FreqDist(macbeth)\n",
        "fdist.plot(20, cumulative=False)"
      ]
    },
    {
      "cell_type": "markdown",
      "metadata": {
        "id": "1pC3AbY1vxh6"
      },
      "source": [
        "Eliminando caracteres no alfabéticos"
      ]
    },
    {
      "cell_type": "code",
      "execution_count": 104,
      "metadata": {
        "colab": {
          "base_uri": "https://localhost:8080/",
          "height": 513
        },
        "id": "wCmICNEjvxh7",
        "outputId": "dcfffa24-a371-404d-a31f-d8f7b72b7c0f"
      },
      "outputs": [
        {
          "data": {
            "image/png": "[encoded data removed]",
            "text/plain": [
              "<Figure size 640x480 with 1 Axes>"
            ]
          },
          "metadata": {},
          "output_type": "display_data"
        },
        {
          "data": {
            "text/plain": [
              "<Axes: title={'center': '20 most common tokens (no punctuation)'}, xlabel='Samples', ylabel='Counts'>"
            ]
          },
          "execution_count": 104,
          "metadata": {},
          "output_type": "execute_result"
        }
      ],
      "source": [
        "fdist_no_punc = nltk.FreqDist(dict((word, freq) for word, freq in fdist.items() if word.isalpha()))\n",
        "fdist_no_punc.plot(20, cumulative=False, title=\"20 most common tokens (no punctuation)\")"
      ]
    },
    {
      "cell_type": "markdown",
      "metadata": {
        "id": "lDPI9Ip1vxh8"
      },
      "source": [
        "Eliminando _stopwords_"
      ]
    },
    {
      "cell_type": "code",
      "execution_count": 105,
      "metadata": {
        "colab": {
          "base_uri": "https://localhost:8080/",
          "height": 553
        },
        "id": "P1WCtojOvxh8",
        "outputId": "564fade5-7f73-4e09-8609-cca930de35fb"
      },
      "outputs": [
        {
          "data": {
            "image/png": "[encoded data removed]",
            "text/plain": [
              "<Figure size 640x480 with 1 Axes>"
            ]
          },
          "metadata": {},
          "output_type": "display_data"
        },
        {
          "data": {
            "text/plain": [
              "<Axes: title={'center': '20 most common tokens (no stopwords or punctuation)'}, xlabel='Samples', ylabel='Counts'>"
            ]
          },
          "execution_count": 105,
          "metadata": {},
          "output_type": "execute_result"
        }
      ],
      "source": [
        "stopwords = nltk.corpus.stopwords.words('english')\n",
        "fdist_no_punc_no_stopwords = nltk.FreqDist(dict((word, freq) for word, freq in fdist.items() if word not in stopwords and word.isalpha()))\n",
        "fdist_no_punc_no_stopwords.plot(20, cumulative=False, title=\"20 most common tokens (no stopwords or punctuation)\")"
      ]
    },
    {
      "cell_type": "markdown",
      "metadata": {
        "id": "R3nhqKWdvxh8"
      },
      "source": [
        "## Nubes de palabras"
      ]
    },
    {
      "cell_type": "code",
      "execution_count": 69,
      "metadata": {},
      "outputs": [
        {
          "name": "stderr",
          "output_type": "stream",
          "text": [
            "huggingface/tokenizers: The current process just got forked, after parallelism has already been used. Disabling parallelism to avoid deadlocks...\n",
            "To disable this warning, you can either:\n",
            "\t- Avoid using `tokenizers` before the fork if possible\n",
            "\t- Explicitly set the environment variable TOKENIZERS_PARALLELISM=(true | false)\n"
          ]
        },
        {
          "name": "stdout",
          "output_type": "stream",
          "text": [
            "Collecting wordcloud\n",
            "  Downloading wordcloud-1.9.3-cp312-cp312-macosx_10_9_x86_64.whl.metadata (3.4 kB)\n",
            "Requirement already satisfied: numpy>=1.6.1 in /Users/giturra/anaconda3/envs/dip/lib/python3.12/site-packages (from wordcloud) (1.26.4)\n",
            "Requirement already satisfied: pillow in /Users/giturra/anaconda3/envs/dip/lib/python3.12/site-packages (from wordcloud) (10.3.0)\n",
            "Requirement already satisfied: matplotlib in /Users/giturra/anaconda3/envs/dip/lib/python3.12/site-packages (from wordcloud) (3.8.4)\n",
            "Requirement already satisfied: contourpy>=1.0.1 in /Users/giturra/anaconda3/envs/dip/lib/python3.12/site-packages (from matplotlib->wordcloud) (1.2.1)\n",
            "Requirement already satisfied: cycler>=0.10 in /Users/giturra/anaconda3/envs/dip/lib/python3.12/site-packages (from matplotlib->wordcloud) (0.12.1)\n",
            "Requirement already satisfied: fonttools>=4.22.0 in /Users/giturra/anaconda3/envs/dip/lib/python3.12/site-packages (from matplotlib->wordcloud) (4.50.0)\n",
            "Requirement already satisfied: kiwisolver>=1.3.1 in /Users/giturra/anaconda3/envs/dip/lib/python3.12/site-packages (from matplotlib->wordcloud) (1.4.5)\n",
            "Requirement already satisfied: packaging>=20.0 in /Users/giturra/anaconda3/envs/dip/lib/python3.12/site-packages (from matplotlib->wordcloud) (24.0)\n",
            "Requirement already satisfied: pyparsing>=2.3.1 in /Users/giturra/anaconda3/envs/dip/lib/python3.12/site-packages (from matplotlib->wordcloud) (3.1.2)\n",
            "Requirement already satisfied: python-dateutil>=2.7 in /Users/giturra/anaconda3/envs/dip/lib/python3.12/site-packages (from matplotlib->wordcloud) (2.9.0)\n",
            "Requirement already satisfied: six>=1.5 in /Users/giturra/anaconda3/envs/dip/lib/python3.12/site-packages (from python-dateutil>=2.7->matplotlib->wordcloud) (1.16.0)\n",
            "Downloading wordcloud-1.9.3-cp312-cp312-macosx_10_9_x86_64.whl (174 kB)\n",
            "\u001b[2K   \u001b[90m━━━━━━━━━━━━━━━━━━━━━━━━━━━━━━━━━━━━━━━━\u001b[0m \u001b[32m174.1/174.1 kB\u001b[0m \u001b[31m1.2 MB/s\u001b[0m eta \u001b[36m0:00:00\u001b[0ma \u001b[36m0:00:01\u001b[0mm\n",
            "\u001b[?25hInstalling collected packages: wordcloud\n",
            "Successfully installed wordcloud-1.9.3\n"
          ]
        }
      ],
      "source": [
        "!pip install wordcloud"
      ]
    },
    {
      "cell_type": "code",
      "execution_count": 106,
      "metadata": {
        "id": "zEHHceP5vxh9"
      },
      "outputs": [],
      "source": [
        "import matplotlib.pyplot as plt\n",
        "from wordcloud import WordCloud"
      ]
    },
    {
      "cell_type": "code",
      "execution_count": 107,
      "metadata": {
        "id": "yBRB7-QKvxh9"
      },
      "outputs": [],
      "source": [
        "text = \"El curso de estadistica y  probabilidades para el análsis de datos está super bueno!\""
      ]
    },
    {
      "cell_type": "code",
      "execution_count": 108,
      "metadata": {
        "colab": {
          "base_uri": "https://localhost:8080/",
          "height": 285
        },
        "id": "vWnmlElPvxh9",
        "outputId": "c87cc576-af3c-4c97-b306-ab14f56cdbf5"
      },
      "outputs": [
        {
          "data": {
            "image/png": "[encoded data removed]",
            "text/plain": [
              "<Figure size 640x480 with 1 Axes>"
            ]
          },
          "metadata": {},
          "output_type": "display_data"
        }
      ],
      "source": [
        "wordcloud = WordCloud().generate(text)\n",
        "plt.imshow(wordcloud)\n",
        "plt.axis(\"off\")\n",
        "plt.show()"
      ]
    },
    {
      "cell_type": "markdown",
      "metadata": {
        "id": "nUkf_b3-vxh9"
      },
      "source": [
        "Funcionó, pero igual es feo :P"
      ]
    },
    {
      "cell_type": "code",
      "execution_count": 73,
      "metadata": {
        "colab": {
          "base_uri": "https://localhost:8080/",
          "height": 285
        },
        "id": "JqeM_OYhvxh9",
        "outputId": "f55f7901-db3a-4569-859c-62120ff45b78"
      },
      "outputs": [
        {
          "data": {
            "image/png": "[encoded data removed]",
            "text/plain": [
              "<Figure size 640x480 with 1 Axes>"
            ]
          },
          "metadata": {},
          "output_type": "display_data"
        }
      ],
      "source": [
        "wordcloud = WordCloud(max_font_size=50, max_words=100, background_color=\"white\").generate(text)\n",
        "plt.figure()\n",
        "plt.imshow(wordcloud, interpolation=\"bilinear\")\n",
        "plt.axis(\"off\")\n",
        "plt.show()"
      ]
    },
    {
      "cell_type": "markdown",
      "metadata": {
        "id": "WHuDnU6ivxh-"
      },
      "source": [
        "Y se pueden hacer nubes con formas también: https://www.datacamp.com/community/tutorials/wordcloud-python.\n",
        "Estas nubes son más interesantes con textos más grandes."
      ]
    },
    {
      "cell_type": "code",
      "execution_count": 74,
      "metadata": {
        "colab": {
          "base_uri": "https://localhost:8080/"
        },
        "id": "0cWgeVCrvxh-",
        "outputId": "e97f8fea-8193-446b-d16a-58a53e111ee4"
      },
      "outputs": [
        {
          "data": {
            "text/plain": [
              "<Text: The Tragedie of Macbeth by William Shakespeare 1603>"
            ]
          },
          "execution_count": 74,
          "metadata": {},
          "output_type": "execute_result"
        }
      ],
      "source": [
        "macbeth"
      ]
    },
    {
      "cell_type": "code",
      "execution_count": 75,
      "metadata": {
        "colab": {
          "base_uri": "https://localhost:8080/",
          "height": 177
        },
        "id": "q6IiOzMovxh-",
        "outputId": "3022961b-75f2-49e2-a316-111ade22baa0"
      },
      "outputs": [
        {
          "data": {
            "text/plain": [
              "\"[The Tragedie of Macbeth by William Shakespeare 1603]\\n\\n\\nActus Primus. Scoena Prima.\\n\\nThunder and Lightning. Enter three Witches.\\n\\n  1. When shall we three meet againe?\\nIn Thunder, Lightning, or in Raine?\\n  2. When the Hurley-burley's done,\\nWhen the Battaile's lost, and wonne\\n\\n   3. That will be ere the set of Sunne\\n\\n   1. Where the place?\\n  2. Vpon the Heath\\n\\n   3. There to meet with Macbeth\\n\\n   1. I come, Gray-Malkin\\n\\n   All. Padock calls anon: faire is foule, and foule is faire,\\nHouer through the fogge and filthie ayre.\\n\\nExeunt.\\n\\n\\nScena Secunda.\\n\\nAlarum within. Enter King Malcome, Donalbaine, Lenox, with\\nattendants,\\nmeeting a bleeding Captaine.\\n\\n  King. What bloody man is that? he can report,\\nAs seemeth by his plight, of the Reuolt\\nThe newest state\\n\\n   Mal. This is the Serieant,\\nWho like a good and hardie Souldier fought\\n'Gainst my Captiuitie: Haile braue friend;\\nSay to the King, the knowledge of the Broyle,\\nAs thou didst leaue it\\n\\n   Cap. Doubtfull it stood,\\nAs two spent Swimmers, that doe cling together,\\nAnd choake their Art: The mercilesse Macdonwald\\n(Worthie to be a Rebell, for to that\\nThe multiplying Villanies of Nature\\nDoe swarme vpon him) from the Westerne Isles\\nOf Kernes and Gallowgrosses is supply'd,\\nAnd Fortune on his damned Quarry smiling,\\nShew'd like a Rebells Whore: but all's too weake:\\nFor braue Macbeth (well hee deserues that Name)\\nDisdayning Fortune, with his brandisht Steele,\\nWhich smoak'd with bloody execution\\n(Like Valours Minion) caru'd out his passage,\\nTill hee fac'd the Slaue:\\nWhich neu'r shooke hands, nor bad farwell to him,\\nTill he vnseam'd him from the Naue toth' Chops,\\nAnd fix'd his Head vpon our Battlements\\n\\n   King. O valiant Cousin, worthy Gentleman\\n\\n   Cap. As whence the Sunne 'gins his reflection,\\nShipwracking Stormes, and direfull Thunders:\\nSo from that Spring, whence comfort seem'd to come,\\nDiscomfort swells: Marke King of Scotland, marke,\\nNo sooner Iustice had, with Valour arm'd,\\nCompell'd these skipping Kernes to trust their heeles,\\nBut the Norweyan Lord, surueying vantage,\\nWith furbusht Armes, and new supplyes of men,\\nBegan a fresh assault\\n\\n   King. Dismay'd not this our Captaines, Macbeth and\\nBanquoh?\\n  Cap. Yes, as Sparrowes, Eagles;\\nOr the Hare, the Lyon:\\nIf I say sooth, I must report they were\\nAs Cannons ouer-charg'd with double Cracks,\\nSo they doubly redoubled stroakes vpon the Foe:\\nExcept they meant to bathe in reeking Wounds,\\nOr memorize another Golgotha,\\nI cannot tell: but I am faint,\\nMy Gashes cry for helpe\\n\\n   King. So well thy words become thee, as thy wounds,\\nThey smack of Honor both: Goe get him Surgeons.\\nEnter Rosse and Angus.\\n\\nWho comes here?\\n  Mal. The worthy Thane of Rosse\\n\\n   Lenox. What a haste lookes through his eyes?\\nSo should he looke, that seemes to speake things strange\\n\\n   Rosse. God saue the King\\n\\n   King. Whence cam'st thou, worthy Thane?\\n  Rosse. From Fiffe, great King,\\nWhere the Norweyan Banners flowt the Skie,\\nAnd fanne our people cold.\\nNorway himselfe, with terrible numbers,\\nAssisted by that most disloyall Traytor,\\nThe Thane of Cawdor, began a dismall Conflict,\\nTill that Bellona's Bridegroome, lapt in proofe,\\nConfronted him with selfe-comparisons,\\nPoint against Point, rebellious Arme 'gainst Arme,\\nCurbing his lauish spirit: and to conclude,\\nThe Victorie fell on vs\\n\\n   King. Great happinesse\\n\\n   Rosse. That now Sweno, the Norwayes King,\\nCraues composition:\\nNor would we deigne him buriall of his men,\\nTill he disbursed, at Saint Colmes ynch,\\nTen thousand Dollars, to our generall vse\\n\\n   King. No more that Thane of Cawdor shall deceiue\\nOur Bosome interest: Goe pronounce his present death,\\nAnd with his former Title greet Macbeth\\n\\n   Rosse. Ile see it done\\n\\n   King. What he hath lost, Noble Macbeth hath wonne.\\n\\nExeunt.\\n\\n\\nScena Tertia.\\n\\nThunder. Enter the three Witches.\\n\\n  1. Where hast thou beene, Sister?\\n  2. Killing Swine\\n\\n   3. Sister, where thou?\\n  1. A Saylors Wife had Chestnuts in her Lappe,\\nAnd mouncht, & mouncht, and mouncht:\\nGiue me, quoth I.\\nAroynt thee, Witch, the rumpe-fed Ronyon cryes.\\nHer Husband's to Aleppo gone, Master o'th' Tiger:\\nBut in a Syue Ile thither sayle,\\nAnd like a Rat without a tayle,\\nIle doe, Ile doe, and Ile doe\\n\\n   2. Ile giue thee a Winde\\n\\n   1. Th'art kinde\\n\\n   3. And I another\\n\\n   1. I my selfe haue all the other,\\nAnd the very Ports they blow,\\nAll the Quarters that they know,\\nI'th' Ship-mans Card.\\nIle dreyne him drie as Hay:\\nSleepe shall neyther Night nor Day\\nHang vpon his Pent-house Lid:\\nHe shall liue a man forbid:\\nWearie Seu'nights, nine times nine,\\nShall he dwindle, peake, and pine:\\nThough his Barke cannot be lost,\\nYet it shall be Tempest-tost.\\nLooke what I haue\\n\\n   2. Shew me, shew me\\n\\n   1. Here I haue a Pilots Thumbe,\\nWrackt, as homeward he did come.\\n\\nDrum within.\\n\\n  3. A Drumme, a Drumme:\\nMacbeth doth come\\n\\n   All. The weyward Sisters, hand in hand,\\nPosters of the Sea and Land,\\nThus doe goe, about, about,\\nThrice to thine, and thrice to mine,\\nAnd thrice againe, to make vp nine.\\nPeace, the Charme's wound vp.\\nEnter Macbeth and Banquo.\\n\\n  Macb. So foule and faire a day I haue not seene\\n\\n   Banquo. How farre is't call'd to Soris? What are these,\\nSo wither'd, and so wilde in their attyre,\\nThat looke not like th' Inhabitants o'th' Earth,\\nAnd yet are on't? Liue you, or are you aught\\nThat man may question? you seeme to vnderstand me,\\nBy each at once her choppie finger laying\\nVpon her skinnie Lips: you should be Women,\\nAnd yet your Beards forbid me to interprete\\nThat you are so\\n\\n   Mac. Speake if you can: what are you?\\n  1. All haile Macbeth, haile to thee Thane of Glamis\\n\\n   2. All haile Macbeth, haile to thee Thane of Cawdor\\n\\n   3. All haile Macbeth, that shalt be King hereafter\\n\\n   Banq. Good Sir, why doe you start, and seeme to feare\\nThings that doe sound so faire? i'th' name of truth\\nAre ye fantasticall, or that indeed\\nWhich outwardly ye shew? My Noble Partner\\nYou greet with present Grace, and great prediction\\nOf Noble hauing, and of Royall hope,\\nThat he seemes wrapt withall: to me you speake not.\\nIf you can looke into the Seedes of Time,\\nAnd say, which Graine will grow, and which will not,\\nSpeake then to me, who neyther begge, nor feare\\nYour fauors, nor your hate\\n\\n   1. Hayle\\n\\n   2. Hayle\\n\\n   3. Hayle\\n\\n   1. Lesser than Macbeth, and greater\\n\\n   2. Not so happy, yet much happyer\\n\\n   3. Thou shalt get Kings, though thou be none:\\nSo all haile Macbeth, and Banquo\\n\\n   1. Banquo, and Macbeth, all haile\\n\\n   Macb. Stay you imperfect Speakers, tell me more:\\nBy Sinells death, I know I am Thane of Glamis,\\nBut how, of Cawdor? the Thane of Cawdor liues\\nA prosperous Gentleman: And to be King,\\nStands not within the prospect of beleefe,\\nNo more then to be Cawdor. Say from whence\\nYou owe this strange Intelligence, or why\\nVpon this blasted Heath you stop our way\\nWith such Prophetique greeting?\\nSpeake, I charge you.\\n\\nWitches vanish.\\n\\n  Banq. The Earth hath bubbles, as the Water ha's,\\nAnd these are of them: whither are they vanish'd?\\n  Macb. Into the Ayre: and what seem'd corporall,\\nMelted, as breath into the Winde.\\nWould they had stay'd\\n\\n   Banq. Were such things here, as we doe speake about?\\nOr haue we eaten on the insane Root,\\nThat takes the Reason Prisoner?\\n  Macb. Your Children shall be Kings\\n\\n   Banq. You shall be King\\n\\n   Macb. And Thane of Cawdor too: went it not so?\\n  Banq. Toth' selfe-same tune and words: who's here?\\nEnter Rosse and Angus.\\n\\n  Rosse. The King hath happily receiu'd, Macbeth,\\nThe newes of thy successe: and when he reades\\nThy personall Venture in the Rebels sight,\\nHis Wonders and his Prayses doe contend,\\nWhich should be thine, or his: silenc'd with that,\\nIn viewing o're the rest o'th' selfe-same day,\\nHe findes thee in the stout Norweyan Rankes,\\nNothing afeard of what thy selfe didst make\\nStrange Images of death, as thick as Tale\\nCan post with post, and euery one did beare\\nThy prayses in his Kingdomes great defence,\\nAnd powr'd them downe before him\\n\\n   Ang. Wee are sent,\\nTo giue thee from our Royall Master thanks,\\nOnely to harrold thee into his sight,\\nNot pay thee\\n\\n   Rosse. And for an earnest of a greater Honor,\\nHe bad me, from him, call thee Thane of Cawdor:\\nIn which addition, haile most worthy Thane,\\nFor it is thine\\n\\n   Banq. What, can the Deuill speake true?\\n  Macb. The Thane of Cawdor liues:\\nWhy doe you dresse me in borrowed Robes?\\n  Ang. Who was the Thane, liues yet,\\nBut vnder heauie Iudgement beares that Life,\\nWhich he deserues to loose.\\nWhether he was combin'd with those of Norway,\\nOr did lyne the Rebell with hidden helpe,\\nAnd vantage; or that with both he labour'd\\nIn his Countreyes wracke, I know not:\\nBut Treasons Capitall, confess'd, and prou'd,\\nHaue ouerthrowne him\\n\\n   Macb. Glamys, and Thane of Cawdor:\\nThe greatest is behinde. Thankes for your paines.\\nDoe you not hope your Children shall be Kings,\\nWhen those that gaue the Thane of Cawdor to me,\\nPromis'd no lesse to them\\n\\n   Banq. That trusted home,\\nMight yet enkindle you vnto the Crowne,\\nBesides the Thane of Cawdor. But 'tis strange:\\nAnd oftentimes, to winne vs to our harme,\\nThe Instruments of Darknesse tell vs Truths,\\nWinne vs with honest Trifles, to betray's\\nIn deepest consequence.\\nCousins, a word, I pray you\\n\\n   Macb. Two Truths are told,\\nAs happy Prologues to the swelling Act\\nOf the Imperiall Theame. I thanke you Gentlemen:\\nThis supernaturall solliciting\\nCannot be ill; cannot be good.\\nIf ill? why hath it giuen me earnest of successe,\\nCommencing in a Truth? I am Thane of Cawdor.\\nIf good? why doe I yeeld to that suggestion,\\nWhose horrid Image doth vnfixe my Heire,\\nAnd make my seated Heart knock at my Ribbes,\\nAgainst the vse of Nature? Present Feares\\nAre lesse then horrible Imaginings:\\nMy Thought, whose Murther yet is but fantasticall,\\nShakes so my single state of Man,\\nThat Function is smother'd in surmise,\\nAnd nothing is, but what is not\\n\\n   Banq. Looke how our Partner's rapt\\n\\n   Macb. If Chance will haue me King,\\nWhy Chance may Crowne me,\\nWithout my stirre\\n\\n   Banq. New Honors come vpon him\\nLike our strange Garments, cleaue not to their mould,\\nBut with the aid of vse\\n\\n   Macb. Come what come may,\\nTime, and the Houre, runs through the roughest Day\\n\\n   Banq. Worthy Macbeth, wee stay vpon your leysure\\n\\n   Macb. Giue me your fauour:\\nMy dull Braine was wrought with things forgotten.\\nKinde Gentlemen, your paines are registred,\\nWhere euery day I turne the Leafe,\\nTo reade them.\\nLet vs toward the King: thinke vpon\\nWhat hath chanc'd: and at more time,\\nThe Interim hauing weigh'd it, let vs speake\\nOur free Hearts each to other\\n\\n   Banq. Very gladly\\n\\n   Macb. Till then enough:\\nCome friends.\\n\\nExeunt.\\n\\n\\nScena Quarta.\\n\\nFlourish. Enter King, Lenox, Malcolme, Donalbaine, and\\nAttendants.\\n\\n  King. Is execution done on Cawdor?\\nOr not those in Commission yet return'd?\\n  Mal. My Liege, they are not yet come back.\\nBut I haue spoke with one that saw him die:\\nWho did report, that very frankly hee\\nConfess'd his Treasons, implor'd your Highnesse Pardon,\\nAnd set forth a deepe Repentance:\\nNothing in his Life became him,\\nLike the leauing it. Hee dy'de,\\nAs one that had beene studied in his death,\\nTo throw away the dearest thing he ow'd,\\nAs 'twere a carelesse Trifle\\n\\n   King. There's no Art,\\nTo finde the Mindes construction in the Face.\\nHe was a Gentleman, on whom I built\\nAn absolute Trust.\\nEnter Macbeth, Banquo, Rosse, and Angus.\\n\\nO worthyest Cousin,\\nThe sinne of my Ingratitude euen now\\nWas heauie on me. Thou art so farre before,\\nThat swiftest Wing of Recompence is slow,\\nTo ouertake thee. Would thou hadst lesse deseru'd,\\nThat the proportion both of thanks, and payment,\\nMight haue beene mine: onely I haue left to say,\\nMore is thy due, then more then all can pay\\n\\n   Macb. The seruice, and the loyaltie I owe,\\nIn doing it, payes it selfe.\\nYour Highnesse part, is to receiue our Duties:\\nAnd our Duties are to your Throne, and State,\\nChildren, and Seruants; which doe but what they should,\\nBy doing euery thing safe toward your Loue\\nAnd Honor\\n\\n   King. Welcome hither:\\nI haue begun to plant thee, and will labour\\nTo make thee full of growing. Noble Banquo,\\nThat hast no lesse deseru'd, nor must be knowne\\nNo lesse to haue done so: Let me enfold thee,\\nAnd hold thee to my Heart\\n\\n   Banq. There if I grow,\\nThe Haruest is your owne\\n\\n   King. My plenteous Ioyes,\\nWanton in fulnesse, seeke to hide themselues\\nIn drops of sorrow. Sonnes, Kinsmen, Thanes,\\nAnd you whose places are the nearest, know,\\nWe will establish our Estate vpon\\nOur eldest, Malcolme, whom we name hereafter,\\nThe Prince of Cumberland: which Honor must\\nNot vnaccompanied, inuest him onely,\\nBut signes of Noblenesse, like Starres, shall shine\\nOn all deseruers. From hence to Envernes,\\nAnd binde vs further to you\\n\\n   Macb. The Rest is Labor, which is not vs'd for you:\\nIle be my selfe the Herbenger, and make ioyfull\\nThe hearing of my Wife, with your approach:\\nSo humbly take my leaue\\n\\n   King. My worthy Cawdor\\n\\n   Macb. The Prince of Cumberland: that is a step,\\nOn which I must fall downe, or else o're-leape,\\nFor in my way it lyes. Starres hide your fires,\\nLet not Light see my black and deepe desires:\\nThe Eye winke at the Hand: yet let that bee,\\nWhich the Eye feares, when it is done to see.\\nEnter.\\n\\n  King. True worthy Banquo: he is full so valiant,\\nAnd in his commendations, I am fed:\\nIt is a Banquet to me. Let's after him,\\nWhose care is gone before, to bid vs welcome:\\nIt is a peerelesse Kinsman.\\n\\nFlourish. Exeunt.\\n\\n\\nScena Quinta.\\n\\nEnter Macbeths Wife alone with a Letter.\\n\\n  Lady. They met me in the day of successe: and I haue\\nlearn'd by the perfect'st report, they haue more in them, then\\nmortall knowledge. When I burnt in desire to question them\\nfurther, they made themselues Ayre, into which they vanish'd.\\nWhiles I stood rapt in the wonder of it, came Missiues from\\nthe King, who all-hail'd me Thane of Cawdor, by which Title\\nbefore, these weyward Sisters saluted me, and referr'd me to\\nthe comming on of time, with haile King that shalt be. This\\nhaue I thought good to deliuer thee (my dearest Partner of\\nGreatnesse) that thou might'st not loose the dues of reioycing\\nby being ignorant of what Greatnesse is promis'd thee. Lay\\nit to thy heart and farewell.\\nGlamys thou art, and Cawdor, and shalt be\\nWhat thou art promis'd: yet doe I feare thy Nature,\\nIt is too full o'th' Milke of humane kindnesse,\\nTo catch the neerest way. Thou would'st be great,\\nArt not without Ambition, but without\\nThe illnesse should attend it. What thou would'st highly,\\nThat would'st thou holily: would'st not play false,\\nAnd yet would'st wrongly winne.\\nThould'st haue, great Glamys, that which cryes,\\nThus thou must doe, if thou haue it;\\nAnd that which rather thou do'st feare to doe,\\nThen wishest should be vndone. High thee hither,\\nThat I may powre my Spirits in thine Eare,\\nAnd chastise with the valour of my Tongue\\nAll that impeides thee from the Golden Round,\\nWhich Fate and Metaphysicall ayde doth seeme\\nTo haue thee crown'd withall.\\nEnter Messenger.\\n\\nWhat is your tidings?\\n  Mess. The King comes here to Night\\n\\n   Lady. Thou'rt mad to say it.\\nIs not thy Master with him? who, wer't so,\\nWould haue inform'd for preparation\\n\\n   Mess. So please you, it is true: our Thane is comming:\\nOne of my fellowes had the speed of him;\\nWho almost dead for breath, had scarcely more\\nThen would make vp his Message\\n\\n   Lady. Giue him tending,\\nHe brings great newes,\\n\\nExit Messenger.\\n\\nThe Rauen himselfe is hoarse,\\nThat croakes the fatall entrance of Duncan\\nVnder my Battlements. Come you Spirits,\\nThat tend on mortall thoughts, vnsex me here,\\nAnd fill me from the Crowne to the Toe, top-full\\nOf direst Crueltie: make thick my blood,\\nStop vp th' accesse, and passage to Remorse,\\nThat no compunctious visitings of Nature\\nShake my fell purpose, nor keepe peace betweene\\nTh' effect, and hit. Come to my Womans Brests,\\nAnd take my Milke for Gall, you murth'ring Ministers,\\nWhere-euer, in your sightlesse substances,\\nYou wait on Natures Mischiefe. Come thick Night,\\nAnd pall thee in the dunnest smoake of Hell,\\n\\nThat my keene Knife see not the Wound it makes,\\nNor Heauen peepe through the Blanket of the darke,\\nTo cry, hold, hold.\\nEnter Macbeth.\\n\\nGreat Glamys, worthy Cawdor,\\nGreater then both, by the all-haile hereafter,\\nThy Letters haue transported me beyond\\nThis ignorant present, and I feele now\\nThe future in the instant\\n\\n   Macb. My dearest Loue,\\nDuncan comes here to Night\\n\\n   Lady. And when goes hence?\\n  Macb. To morrow, as he purposes\\n\\n   Lady. O neuer,\\nShall Sunne that Morrow see.\\nYour Face, my Thane, is as a Booke, where men\\nMay reade strange matters, to beguile the time.\\nLooke like the time, beare welcome in your Eye,\\nYour Hand, your Tongue: looke like th' innocent flower,\\nBut be the Serpent vnder't. He that's comming,\\nMust be prouided for: and you shall put\\nThis Nights great Businesse into my dispatch,\\nWhich shall to all our Nights, and Dayes to come,\\nGiue solely soueraigne sway, and Masterdome\\n\\n   Macb. We will speake further,\\n  Lady. Onely looke vp cleare:\\nTo alter fauor, euer is to feare:\\nLeaue all the rest to me.\\n\\nExeunt.\\n\\n\\nScena Sexta.\\n\\nHoboyes, and Torches. Enter King, Malcolme, Donalbaine,\\nBanquo, Lenox,\\nMacduff, Rosse, Angus, and Attendants.\\n\\n  King. This Castle hath a pleasant seat,\\nThe ayre nimbly and sweetly recommends it selfe\\nVnto our gentle sences\\n\\n   Banq. This Guest of Summer,\\nThe Temple-haunting Barlet does approue,\\nBy his loued Mansonry, that the Heauens breath\\nSmells wooingly here: no Iutty frieze,\\nButtrice, nor Coigne of Vantage, but this Bird\\nHath made his pendant Bed, and procreant Cradle,\\nWhere they must breed, and haunt: I haue obseru'd\\nThe ayre is delicate.\\nEnter Lady.\\n\\n  King. See, see our honor'd Hostesse:\\nThe Loue that followes vs, sometime is our trouble,\\nWhich still we thanke as Loue. Herein I teach you,\\nHow you shall bid God-eyld vs for your paines,\\nAnd thanke vs for your trouble\\n\\n   Lady. All our seruice,\\nIn euery point twice done, and then done double,\\nWere poore, and single Businesse, to contend\\nAgainst those Honors deepe, and broad,\\nWherewith your Maiestie loades our House:\\nFor those of old, and the late Dignities,\\nHeap'd vp to them, we rest your Ermites\\n\\n   King. Where's the Thane of Cawdor?\\nWe courst him at the heeles, and had a purpose\\nTo be his Purueyor: But he rides well,\\nAnd his great Loue (sharpe as his Spurre) hath holp him\\nTo his home before vs: Faire and Noble Hostesse\\nWe are your guest to night\\n\\n   La. Your Seruants euer,\\nHaue theirs, themselues, and what is theirs in compt,\\nTo make their Audit at your Highnesse pleasure,\\nStill to returne your owne\\n\\n   King. Giue me your hand:\\nConduct me to mine Host we loue him highly,\\nAnd shall continue, our Graces towards him.\\nBy your leaue Hostesse.\\n\\nExeunt.\\n\\nScena Septima.\\n\\nHoboyes. Torches. Enter a Sewer, and diuers Seruants with Dishes\\nand\\nSeruice ouer the Stage. Then enter Macbeth\\n\\n   Macb. If it were done, when 'tis done, then 'twer well,\\nIt were done quickly: If th' Assassination\\nCould trammell vp the Consequence, and catch\\nWith his surcease, Successe: that but this blow\\nMight be the be all, and the end all. Heere,\\nBut heere, vpon this Banke and Schoole of time,\\nWee'ld iumpe the life to come. But in these Cases,\\nWe still haue iudgement heere, that we but teach\\nBloody Instructions, which being taught, returne\\nTo plague th' Inuenter, this euen-handed Iustice\\nCommends th' Ingredience of our poyson'd Challice\\nTo our owne lips. Hee's heere in double trust;\\nFirst, as I am his Kinsman, and his Subiect,\\nStrong both against the Deed: Then, as his Host,\\nWho should against his Murtherer shut the doore,\\nNot beare the knife my selfe. Besides, this Duncane\\nHath borne his Faculties so meeke; hath bin\\nSo cleere in his great Office, that his Vertues\\nWill pleade like Angels, Trumpet-tongu'd against\\nThe deepe damnation of his taking off:\\nAnd Pitty, like a naked New-borne-Babe,\\nStriding the blast, or Heauens Cherubin, hors'd\\nVpon the sightlesse Curriors of the Ayre,\\nShall blow the horrid deed in euery eye,\\nThat teares shall drowne the winde. I haue no Spurre\\nTo pricke the sides of my intent, but onely\\nVaulting Ambition, which ore-leapes it selfe,\\nAnd falles on th' other.\\nEnter Lady.\\n\\nHow now? What Newes?\\n  La. He has almost supt: why haue you left the chamber?\\n  Mac. Hath he ask'd for me?\\n  La. Know you not, he ha's?\\n  Mac. We will proceed no further in this Businesse:\\nHe hath Honour'd me of late, and I haue bought\\nGolden Opinions from all sorts of people,\\nWhich would be worne now in their newest glosse,\\nNot cast aside so soone\\n\\n   La. Was the hope drunke,\\nWherein you drest your selfe? Hath it slept since?\\nAnd wakes it now to looke so greene, and pale,\\nAt what it did so freely? From this time,\\nSuch I account thy loue. Art thou affear'd\\nTo be the same in thine owne Act, and Valour,\\nAs thou art in desire? Would'st thou haue that\\nWhich thou esteem'st the Ornament of Life,\\nAnd liue a Coward in thine owne Esteeme?\\nLetting I dare not, wait vpon I would,\\nLike the poore Cat i'th' Addage\\n\\n   Macb. Prythee peace:\\nI dare do all that may become a man,\\nWho dares do more, is none\\n\\n   La. What Beast was't then\\nThat made you breake this enterprize to me?\\nWhen you durst do it, then you were a man:\\nAnd to be more then what you were, you would\\nBe so much more the man. Nor time, nor place\\nDid then adhere, and yet you would make both:\\nThey haue made themselues, and that their fitnesse now\\nDo's vnmake you. I haue giuen Sucke, and know\\nHow tender 'tis to loue the Babe that milkes me,\\nI would, while it was smyling in my Face,\\nHaue pluckt my Nipple from his Bonelesse Gummes,\\nAnd dasht the Braines out, had I so sworne\\nAs you haue done to this\\n\\n   Macb. If we should faile?\\n  Lady. We faile?\\nBut screw your courage to the sticking place,\\nAnd wee'le not fayle: when Duncan is asleepe,\\n(Whereto the rather shall his dayes hard Iourney\\nSoundly inuite him) his two Chamberlaines\\nWill I with Wine, and Wassell, so conuince,\\nThat Memorie, the Warder of the Braine,\\nShall be a Fume, and the Receit of Reason\\nA Lymbeck onely: when in Swinish sleepe,\\nTheir drenched Natures lyes as in a Death,\\nWhat cannot you and I performe vpon\\nTh' vnguarded Duncan? What not put vpon\\nHis spungie Officers? who shall beare the guilt\\nOf our great quell\\n\\n   Macb. Bring forth Men-Children onely:\\nFor thy vndaunted Mettle should compose\\nNothing but Males. Will it not be receiu'd,\\nWhen we haue mark'd with blood those sleepie two\\nOf his owne Chamber, and vs'd their very Daggers,\\nThat they haue don't?\\n  Lady. Who dares receiue it other,\\nAs we shall make our Griefes and Clamor rore,\\nVpon his Death?\\n  Macb. I am settled, and bend vp\\nEach corporall Agent to this terrible Feat.\\nAway, and mock the time with fairest show,\\nFalse Face must hide what the false Heart doth know.\\n\\nExeunt.\\n\\n\\nActus Secundus. Scena Prima.\\n\\nEnter Banquo, and Fleance, with a Torch before him.\\n\\n  Banq. How goes the Night, Boy?\\n  Fleance. The Moone is downe: I haue not heard the\\nClock\\n\\n   Banq. And she goes downe at Twelue\\n\\n   Fleance. I take't, 'tis later, Sir\\n\\n   Banq. Hold, take my Sword:\\nThere's Husbandry in Heauen,\\nTheir Candles are all out: take thee that too.\\nA heauie Summons lyes like Lead vpon me,\\nAnd yet I would not sleepe:\\nMercifull Powers, restraine in me the cursed thoughts\\nThat Nature giues way to in repose.\\nEnter Macbeth, and a Seruant with a Torch.\\n\\nGiue me my Sword: who's there?\\n  Macb. A Friend\\n\\n   Banq. What Sir, not yet at rest? the King's a bed.\\nHe hath beene in vnusuall Pleasure,\\nAnd sent forth great Largesse to your Offices.\\nThis Diamond he greetes your Wife withall,\\nBy the name of most kind Hostesse,\\nAnd shut vp in measurelesse content\\n\\n   Mac. Being vnprepar'd,\\nOur will became the seruant to defect,\\nWhich else should free haue wrought\\n\\n   Banq. All's well.\\nI dreamt last Night of the three weyward Sisters:\\nTo you they haue shew'd some truth\\n\\n   Macb. I thinke not of them:\\nYet when we can entreat an houre to serue,\\nWe would spend it in some words vpon that Businesse,\\nIf you would graunt the time\\n\\n   Banq. At your kind'st leysure\\n\\n   Macb. If you shall cleaue to my consent,\\nWhen 'tis, it shall make Honor for you\\n\\n   Banq. So I lose none,\\nIn seeking to augment it, but still keepe\\nMy Bosome franchis'd, and Allegeance cleare,\\nI shall be counsail'd\\n\\n   Macb. Good repose the while\\n\\n   Banq. Thankes Sir: the like to you.\\n\\nExit Banquo.\\n\\n  Macb. Goe bid thy Mistresse, when my drinke is ready,\\nShe strike vpon the Bell. Get thee to bed.\\nEnter.\\n\\nIs this a Dagger, which I see before me,\\nThe Handle toward my Hand? Come, let me clutch thee:\\nI haue thee not, and yet I see thee still.\\nArt thou not fatall Vision, sensible\\nTo feeling, as to sight? or art thou but\\nA Dagger of the Minde, a false Creation,\\nProceeding from the heat-oppressed Braine?\\nI see thee yet, in forme as palpable,\\nAs this which now I draw.\\nThou marshall'st me the way that I was going,\\nAnd such an Instrument I was to vse.\\nMine Eyes are made the fooles o'th' other Sences,\\nOr else worth all the rest: I see thee still;\\nAnd on thy Blade, and Dudgeon, Gouts of Blood,\\nWhich was not so before. There's no such thing:\\nIt is the bloody Businesse, which informes\\nThus to mine Eyes. Now o're the one halfe World\\nNature seemes dead, and wicked Dreames abuse\\nThe Curtain'd sleepe: Witchcraft celebrates\\nPale Heccats Offrings: and wither'd Murther,\\nAlarum'd by his Centinell, the Wolfe,\\nWhose howle's his Watch, thus with his stealthy pace,\\nWith Tarquins rauishing sides, towards his designe\\nMoues like a Ghost. Thou sowre and firme-set Earth\\nHeare not my steps, which they may walke, for feare\\nThy very stones prate of my where-about,\\nAnd take the present horror from the time,\\nWhich now sutes with it. Whiles I threat, he liues:\\nWords to the heat of deedes too cold breath giues.\\n\\nA Bell rings.\\n\\nI goe, and it is done: the Bell inuites me.\\nHeare it not, Duncan, for it is a Knell,\\nThat summons thee to Heauen, or to Hell.\\nEnter.\\n\\n\\nScena Secunda.\\n\\nEnter Lady.\\n\\n  La. That which hath made the[m] drunk, hath made me bold:\\nWhat hath quench'd them, hath giuen me fire.\\nHearke, peace: it was the Owle that shriek'd,\\nThe fatall Bell-man, which giues the stern'st good-night.\\nHe is about it, the Doores are open:\\nAnd the surfeted Groomes doe mock their charge\\nWith Snores. I haue drugg'd their Possets,\\nThat Death and Nature doe contend about them,\\nWhether they liue, or dye.\\nEnter Macbeth.\\n\\n  Macb. Who's there? what hoa?\\n  Lady. Alack, I am afraid they haue awak'd,\\nAnd 'tis not done: th' attempt, and not the deed,\\nConfounds vs: hearke: I lay'd their Daggers ready,\\nHe could not misse 'em. Had he not resembled\\nMy Father as he slept, I had don't.\\nMy Husband?\\n  Macb. I haue done the deed:\\nDidst thou not heare a noyse?\\n  Lady. I heard the Owle schreame, and the Crickets cry.\\nDid not you speake?\\n  Macb. When?\\n  Lady. Now\\n\\n   Macb. As I descended?\\n  Lady. I\\n\\n   Macb. Hearke, who lyes i'th' second Chamber?\\n  Lady. Donalbaine\\n\\n   Mac. This is a sorry sight\\n\\n   Lady. A foolish thought, to say a sorry sight\\n\\n   Macb. There's one did laugh in's sleepe,\\nAnd one cry'd Murther, that they did wake each other:\\nI stood, and heard them: But they did say their Prayers,\\nAnd addrest them againe to sleepe\\n\\n   Lady. There are two lodg'd together\\n\\n   Macb. One cry'd God blesse vs, and Amen the other,\\nAs they had seene me with these Hangmans hands:\\nListning their feare, I could not say Amen,\\nWhen they did say God blesse vs\\n\\n   Lady. Consider it not so deepely\\n\\n   Mac. But wherefore could not I pronounce Amen?\\nI had most need of Blessing, and Amen stuck in my throat\\n\\n   Lady. These deeds must not be thought\\nAfter these wayes: so, it will make vs mad\\n\\n   Macb. Me thought I heard a voyce cry, Sleep no more:\\nMacbeth does murther Sleepe, the innocent Sleepe,\\nSleepe that knits vp the rauel'd Sleeue of Care,\\nThe death of each dayes Life, sore Labors Bath,\\nBalme of hurt Mindes, great Natures second Course,\\nChiefe nourisher in Life's Feast\\n\\n   Lady. What doe you meane?\\n  Macb. Still it cry'd, Sleepe no more to all the House:\\nGlamis hath murther'd Sleepe, and therefore Cawdor\\nShall sleepe no more: Macbeth shall sleepe no more\\n\\n   Lady. Who was it, that thus cry'd? why worthy Thane,\\nYou doe vnbend your Noble strength, to thinke\\nSo braine-sickly of things: Goe get some Water,\\nAnd wash this filthie Witnesse from your Hand.\\nWhy did you bring these Daggers from the place?\\nThey must lye there: goe carry them, and smeare\\nThe sleepie Groomes with blood\\n\\n   Macb. Ile goe no more:\\nI am afraid, to thinke what I haue done:\\nLooke on't againe, I dare not\\n\\n   Lady. Infirme of purpose:\\nGiue me the Daggers: the sleeping, and the dead,\\nAre but as Pictures: 'tis the Eye of Childhood,\\nThat feares a painted Deuill. If he doe bleed,\\nIle guild the Faces of the Groomes withall,\\nFor it must seeme their Guilt.\\nEnter.\\n\\nKnocke within.\\n\\n  Macb. Whence is that knocking?\\nHow is't with me, when euery noyse appalls me?\\nWhat Hands are here? hah: they pluck out mine Eyes.\\nWill all great Neptunes Ocean wash this blood\\nCleane from my Hand? no: this my Hand will rather\\nThe multitudinous Seas incarnardine,\\nMaking the Greene one, Red.\\nEnter Lady.\\n\\n  Lady. My Hands are of your colour: but I shame\\nTo weare a Heart so white.\\n\\nKnocke.\\n\\nI heare a knocking at the South entry:\\nRetyre we to our Chamber:\\nA little Water cleares vs of this deed.\\nHow easie is it then? your Constancie\\nHath left you vnattended.\\n\\nKnocke.\\n\\nHearke, more knocking.\\nGet on your Night-Gowne, least occasion call vs,\\nAnd shew vs to be Watchers: be not lost\\nSo poorely in your thoughts\\n\\n   Macb. To know my deed,\\n\\nKnocke.\\n\\n'Twere best not know my selfe.\\nWake Duncan with thy knocking:\\nI would thou could'st.\\n\\nExeunt.\\n\\n\\nScena Tertia.\\n\\nEnter a Porter. Knocking within.\\n\\n  Porter. Here's a knocking indeede: if a man were\\nPorter of Hell Gate, hee should haue old turning the\\nKey.\\n\\nKnock.\\n\\nKnock, Knock, Knock. Who's there\\ni'th' name of Belzebub? Here's a Farmer, that hang'd\\nhimselfe on th' expectation of Plentie: Come in time, haue\\nNapkins enow about you, here you'le sweat for't.\\n\\nKnock.\\n\\nKnock, knock. Who's there in th' other Deuils Name?\\nFaith here's an Equiuocator, that could sweare in both\\nthe Scales against eyther Scale, who committed Treason\\nenough for Gods sake, yet could not equiuocate to Heauen:\\noh come in, Equiuocator.\\n\\nKnock.\\n\\nKnock, Knock, Knock. Who's there? 'Faith here's an English\\nTaylor come hither, for stealing out of a French Hose:\\nCome in Taylor, here you may rost your Goose.\\nKnock.\\n\\nKnock, Knock. Neuer at quiet: What are you? but this\\nplace is too cold for Hell. Ile Deuill-Porter it no further:\\nI had thought to haue let in some of all Professions, that\\ngoe the Primrose way to th' euerlasting Bonfire.\\n\\nKnock.\\n\\nAnon, anon, I pray you remember the Porter.\\nEnter Macduff, and Lenox.\\n\\n  Macd. Was it so late, friend, ere you went to Bed,\\nThat you doe lye so late?\\n  Port. Faith Sir, we were carowsing till the second Cock:\\nAnd Drinke, Sir, is a great prouoker of three things\\n\\n   Macd. What three things does Drinke especially\\nprouoke?\\n  Port. Marry, Sir, Nose-painting, Sleepe, and Vrine.\\nLecherie, Sir, it prouokes, and vnprouokes: it prouokes\\nthe desire, but it takes away the performance. Therefore\\nmuch Drinke may be said to be an Equiuocator with Lecherie:\\nit makes him, and it marres him; it sets him on,\\nand it takes him off; it perswades him, and dis-heartens\\nhim; makes him stand too, and not stand too: in conclusion,\\nequiuocates him in a sleepe, and giuing him the Lye,\\nleaues him\\n\\n   Macd. I beleeue, Drinke gaue thee the Lye last Night\\n\\n   Port. That it did, Sir, i'the very Throat on me: but I\\nrequited him for his Lye, and (I thinke) being too strong\\nfor him, though he tooke vp my Legges sometime, yet I\\nmade a Shift to cast him.\\nEnter Macbeth.\\n\\n  Macd. Is thy Master stirring?\\nOur knocking ha's awak'd him: here he comes\\n\\n   Lenox. Good morrow, Noble Sir\\n\\n   Macb. Good morrow both\\n\\n   Macd. Is the King stirring, worthy Thane?\\n  Macb. Not yet\\n\\n   Macd. He did command me to call timely on him,\\nI haue almost slipt the houre\\n\\n   Macb. Ile bring you to him\\n\\n   Macd. I know this is a ioyfull trouble to you:\\nBut yet 'tis one\\n\\n   Macb. The labour we delight in, Physicks paine:\\nThis is the Doore\\n\\n   Macd. Ile make so bold to call, for 'tis my limitted\\nseruice.\\n\\nExit Macduffe.\\n\\n  Lenox. Goes the King hence to day?\\n  Macb. He does: he did appoint so\\n\\n   Lenox. The Night ha's been vnruly:\\nWhere we lay, our Chimneys were blowne downe,\\nAnd (as they say) lamentings heard i'th' Ayre;\\nStrange Schreemes of Death,\\nAnd Prophecying, with Accents terrible,\\nOf dyre Combustion, and confus'd Euents,\\nNew hatch'd toth' wofull time.\\nThe obscure Bird clamor'd the liue-long Night.\\nSome say, the Earth was Feuorous,\\nAnd did shake\\n\\n   Macb. 'Twas a rough Night\\n\\n   Lenox. My young remembrance cannot paralell\\nA fellow to it.\\nEnter Macduff.\\n\\n  Macd. O horror, horror, horror,\\nTongue nor Heart cannot conceiue, nor name thee\\n\\n   Macb. and Lenox. What's the matter?\\n  Macd. Confusion now hath made his Master-peece:\\nMost sacrilegious Murther hath broke ope\\nThe Lords anoynted Temple, and stole thence\\nThe Life o'th' Building\\n\\n   Macb. What is't you say, the Life?\\n  Lenox. Meane you his Maiestie?\\n  Macd. Approch the Chamber, and destroy your sight\\nWith a new Gorgon. Doe not bid me speake:\\nSee, and then speake your selues: awake, awake,\\n\\nExeunt. Macbeth and Lenox.\\n\\nRing the Alarum Bell: Murther, and Treason,\\nBanquo, and Donalbaine: Malcolme awake,\\nShake off this Downey sleepe, Deaths counterfeit,\\nAnd looke on Death it selfe: vp, vp, and see\\nThe great Doomes Image: Malcolme, Banquo,\\nAs from your Graues rise vp, and walke like Sprights,\\nTo countenance this horror. Ring the Bell.\\n\\nBell rings. Enter Lady.\\n\\n  Lady. What's the Businesse?\\nThat such a hideous Trumpet calls to parley\\nThe sleepers of the House? speake, speake\\n\\n   Macd. O gentle Lady,\\n'Tis not for you to heare what I can speake:\\nThe repetition in a Womans eare,\\nWould murther as it fell.\\nEnter Banquo.\\n\\nO Banquo, Banquo, Our Royall Master's murther'd\\n\\n   Lady. Woe, alas:\\nWhat, in our House?\\n  Ban. Too cruell, any where.\\nDeare Duff, I prythee contradict thy selfe,\\nAnd say, it is not so.\\nEnter Macbeth, Lenox, and Rosse.\\n\\n  Macb. Had I but dy'd an houre before this chance,\\nI had liu'd a blessed time: for from this instant,\\nThere's nothing serious in Mortalitie:\\nAll is but Toyes: Renowne and Grace is dead,\\nThe Wine of Life is drawne, and the meere Lees\\nIs left this Vault, to brag of.\\nEnter Malcolme and Donalbaine.\\n\\n  Donal. What is amisse?\\n  Macb. You are, and doe not know't:\\nThe Spring, the Head, the Fountaine of your Blood\\nIs stopt, the very Source of it is stopt\\n\\n   Macd. Your Royall Father's murther'd\\n\\n   Mal. Oh, by whom?\\n  Lenox. Those of his Chamber, as it seem'd, had don't:\\nTheir Hands and Faces were all badg'd with blood,\\nSo were their Daggers, which vnwip'd, we found\\nVpon their Pillowes: they star'd, and were distracted,\\nNo mans Life was to be trusted with them\\n\\n   Macb. O, yet I doe repent me of my furie,\\nThat I did kill them\\n\\n   Macd. Wherefore did you so?\\n  Macb. Who can be wise, amaz'd, temp'rate, & furious,\\nLoyall, and Neutrall, in a moment? No man:\\nTh' expedition of my violent Loue\\nOut-run the pawser, Reason. Here lay Duncan,\\nHis Siluer skinne, lac'd with His Golden Blood,\\nAnd his gash'd Stabs, look'd like a Breach in Nature,\\nFor Ruines wastfull entrance: there the Murtherers,\\nSteep'd in the Colours of their Trade; their Daggers\\nVnmannerly breech'd with gore: who could refraine,\\nThat had a heart to loue; and in that heart,\\nCourage, to make's loue knowne?\\n  Lady. Helpe me hence, hoa\\n\\n   Macd. Looke to the Lady\\n\\n   Mal. Why doe we hold our tongues,\\nThat most may clayme this argument for ours?\\n  Donal. What should be spoken here,\\nWhere our Fate hid in an augure hole,\\nMay rush, and seize vs? Let's away,\\nOur Teares are not yet brew'd\\n\\n   Mal. Nor our strong Sorrow\\nVpon the foot of Motion\\n\\n   Banq. Looke to the Lady:\\nAnd when we haue our naked Frailties hid,\\nThat suffer in exposure; let vs meet,\\nAnd question this most bloody piece of worke,\\nTo know it further. Feares and scruples shake vs:\\nIn the great Hand of God I stand, and thence,\\nAgainst the vndivulg'd pretence, I fight\\nOf Treasonous Mallice\\n\\n   Macd. And so doe I\\n\\n   All. So all\\n\\n   Macb. Let's briefely put on manly readinesse,\\nAnd meet i'th' Hall together\\n\\n   All. Well contented.\\n\\nExeunt.\\n\\n  Malc. What will you doe?\\nLet's not consort with them:\\nTo shew an vnfelt Sorrow, is an Office\\nWhich the false man do's easie.\\nIle to England\\n\\n   Don. To Ireland, I:\\nOur seperated fortune shall keepe vs both the safer:\\nWhere we are, there's Daggers in mens smiles;\\nThe neere in blood, the neerer bloody\\n\\n   Malc. This murtherous Shaft that's shot,\\nHath not yet lighted: and our safest way,\\nIs to auoid the ayme. Therefore to Horse,\\nAnd let vs not be daintie of leaue-taking,\\nBut shift away: there's warrant in that Theft,\\nWhich steales it selfe, when there's no mercie left.\\n\\nExeunt.\\n\\n\\n\\nScena Quarta.\\n\\nEnter Rosse, with an Old man.\\n\\n  Old man. Threescore and ten I can remember well,\\nWithin the Volume of which Time, I haue seene\\nHoures dreadfull, and things strange: but this sore Night\\nHath trifled former knowings\\n\\n   Rosse. Ha, good Father,\\nThou seest the Heauens, as troubled with mans Act,\\nThreatens his bloody Stage: byth' Clock 'tis Day,\\nAnd yet darke Night strangles the trauailing Lampe:\\nIs't Nights predominance, or the Dayes shame,\\nThat Darknesse does the face of Earth intombe,\\nWhen liuing Light should kisse it?\\n  Old man. 'Tis vnnaturall,\\nEuen like the deed that's done: On Tuesday last,\\nA Faulcon towring in her pride of place,\\nWas by a Mowsing Owle hawkt at, and kill'd\\n\\n   Rosse. And Duncans Horses,\\n(A thing most strange, and certaine)\\nBeauteous, and swift, the Minions of their Race,\\nTurn'd wilde in nature, broke their stalls, flong out,\\nContending 'gainst Obedience, as they would\\nMake Warre with Mankinde\\n\\n   Old man. 'Tis said, they eate each other\\n\\n   Rosse. They did so:\\nTo th' amazement of mine eyes that look'd vpon't.\\nEnter Macduffe.\\n\\nHeere comes the good Macduffe.\\nHow goes the world Sir, now?\\n  Macd. Why see you not?\\n  Ross. Is't known who did this more then bloody deed?\\n  Macd. Those that Macbeth hath slaine\\n\\n   Ross. Alas the day,\\nWhat good could they pretend?\\n  Macd. They were subborned,\\nMalcolme, and Donalbaine the Kings two Sonnes\\nAre stolne away and fled, which puts vpon them\\nSuspition of the deed\\n\\n   Rosse. 'Gainst Nature still,\\nThriftlesse Ambition, that will rauen vp\\nThine owne liues meanes: Then 'tis most like,\\nThe Soueraignty will fall vpon Macbeth\\n\\n   Macd. He is already nam'd, and gone to Scone\\nTo be inuested\\n\\n   Rosse. Where is Duncans body?\\n  Macd. Carried to Colmekill,\\nThe Sacred Store-house of his Predecessors,\\nAnd Guardian of their Bones\\n\\n   Rosse. Will you to Scone?\\n  Macd. No Cosin, Ile to Fife\\n\\n   Rosse. Well, I will thither\\n\\n   Macd. Well may you see things wel done there: Adieu\\nLeast our old Robes sit easier then our new\\n\\n   Rosse. Farewell, Father\\n\\n   Old M. Gods benyson go with you, and with those\\nThat would make good of bad, and Friends of Foes.\\n\\nExeunt. omnes\\n\\nActus Tertius. Scena Prima.\\n\\nEnter Banquo.\\n\\n  Banq. Thou hast it now, King, Cawdor, Glamis, all,\\nAs the weyard Women promis'd, and I feare\\nThou playd'st most fowly for't: yet it was saide\\nIt should not stand in thy Posterity,\\nBut that my selfe should be the Roote, and Father\\nOf many Kings. If there come truth from them,\\nAs vpon thee Macbeth, their Speeches shine,\\nWhy by the verities on thee made good,\\nMay they not be my Oracles as well,\\nAnd set me vp in hope. But hush, no more.\\n\\nSenit sounded. Enter Macbeth as King, Lady Lenox, Rosse, Lords,\\nand\\nAttendants.\\n\\n  Macb. Heere's our chiefe Guest\\n\\n   La. If he had beene forgotten,\\nIt had bene as a gap in our great Feast,\\nAnd all-thing vnbecomming\\n\\n   Macb. To night we hold a solemne Supper sir,\\nAnd Ile request your presence\\n\\n   Banq. Let your Highnesse\\nCommand vpon me, to the which my duties\\nAre with a most indissoluble tye\\nFor euer knit\\n\\n   Macb. Ride you this afternoone?\\n  Ban. I, my good Lord\\n\\n   Macb. We should haue else desir'd your good aduice\\n(Which still hath been both graue, and prosperous)\\nIn this dayes Councell: but wee'le take to morrow.\\nIs't farre you ride?\\n  Ban. As farre, my Lord, as will fill vp the time\\n'Twixt this, and Supper. Goe not my Horse the better,\\nI must become a borrower of the Night,\\nFor a darke houre, or twaine\\n\\n   Macb. Faile not our Feast\\n\\n   Ban. My Lord, I will not\\n\\n   Macb. We heare our bloody Cozens are bestow'd\\nIn England, and in Ireland, not confessing\\nTheir cruell Parricide, filling their hearers\\nWith strange inuention. But of that to morrow,\\nWhen therewithall, we shall haue cause of State,\\nCrauing vs ioyntly. Hye you to Horse:\\nAdieu, till you returne at Night.\\nGoes Fleance with you?\\n  Ban. I, my good Lord: our time does call vpon's\\n\\n   Macb. I wish your Horses swift, and sure of foot:\\nAnd so I doe commend you to their backs.\\nFarwell.\\n\\nExit Banquo.\\n\\nLet euery man be master of his time,\\nTill seuen at Night, to make societie\\nThe sweeter welcome:\\nWe will keepe our selfe till Supper time alone:\\nWhile then, God be with you.\\n\\nExeunt. Lords.\\n\\nSirrha, a word with you: Attend those men\\nOur pleasure?\\n  Seruant. They are, my Lord, without the Pallace\\nGate\\n\\n   Macb. Bring them before vs.\\n\\nExit Seruant.\\n\\nTo be thus, is nothing, but to be safely thus\\nOur feares in Banquo sticke deepe,\\nAnd in his Royaltie of Nature reignes that\\nWhich would be fear'd. 'Tis much he dares,\\nAnd to that dauntlesse temper of his Minde,\\nHe hath a Wisdome, that doth guide his Valour,\\nTo act in safetie. There is none but he,\\nWhose being I doe feare: and vnder him,\\nMy Genius is rebuk'd, as it is said\\nMark Anthonies was by Caesar. He chid the Sisters,\\nWhen first they put the Name of King vpon me,\\nAnd bad them speake to him. Then Prophet-like,\\nThey hayl'd him Father to a Line of Kings.\\nVpon my Head they plac'd a fruitlesse Crowne,\\nAnd put a barren Scepter in my Gripe,\\nThence to be wrencht with an vnlineall Hand,\\nNo Sonne of mine succeeding: if't be so,\\nFor Banquo's Issue haue I fil'd my Minde,\\nFor them, the gracious Duncan haue I murther'd,\\nPut Rancours in the Vessell of my Peace\\nOnely for them, and mine eternall Iewell\\nGiuen to the common Enemie of Man,\\nTo make them Kings, the Seedes of Banquo Kings.\\nRather then so, come Fate into the Lyst,\\nAnd champion me to th' vtterance.\\nWho's there?\\nEnter Seruant, and two Murtherers.\\n\\nNow goe to the Doore, and stay there till we call.\\n\\nExit Seruant.\\n\\nWas it not yesterday we spoke together?\\n  Murth. It was, so please your Highnesse\\n\\n   Macb. Well then,\\nNow haue you consider'd of my speeches:\\nKnow, that it was he, in the times past,\\nWhich held you so vnder fortune,\\nWhich you thought had been our innocent selfe.\\nThis I made good to you, in our last conference,\\nPast in probation with you:\\nHow you were borne in hand, how crost:\\nThe Instruments: who wrought with them:\\nAnd all things else, that might\\nTo halfe a Soule, and to a Notion craz'd,\\nSay, Thus did Banquo\\n\\n   1.Murth. You made it knowne to vs\\n\\n   Macb. I did so:\\nAnd went further, which is now\\nOur point of second meeting.\\nDoe you finde your patience so predominant,\\nIn your nature, that you can let this goe?\\nAre you so Gospell'd, to pray for this good man,\\nAnd for his Issue, whose heauie hand\\nHath bow'd you to the Graue, and begger'd\\nYours for euer?\\n  1.Murth. We are men, my Liege\\n\\n   Macb. I, in the Catalogue ye goe for men,\\nAs Hounds, and Greyhounds, Mungrels, Spaniels, Curres,\\nShowghes, Water-Rugs, and Demy-Wolues are clipt\\nAll by the Name of Dogges: the valued file\\nDistinguishes the swift, the slow, the subtle,\\nThe House-keeper, the Hunter, euery one\\nAccording to the gift, which bounteous Nature\\nHath in him clos'd: whereby he does receiue\\nParticular addition, from the Bill,\\nThat writes them all alike: and so of men.\\nNow, if you haue a station in the file,\\nNot i'th' worst ranke of Manhood, say't,\\nAnd I will put that Businesse in your Bosomes,\\nWhose execution takes your Enemie off,\\nGrapples you to the heart; and loue of vs,\\nWho weare our Health but sickly in his Life,\\nWhich in his Death were perfect\\n\\n   2.Murth. I am one, my Liege,\\nWhom the vile Blowes and Buffets of the World\\nHath so incens'd, that I am recklesse what I doe,\\nTo spight the World\\n\\n   1.Murth. And I another,\\nSo wearie with Disasters, tugg'd with Fortune,\\nThat I would set my Life on any Chance,\\nTo mend it, or be rid on't\\n\\n   Macb. Both of you know Banquo was your Enemie\\n\\n   Murth. True, my Lord\\n\\n   Macb. So is he mine: and in such bloody distance,\\nThat euery minute of his being, thrusts\\nAgainst my neer'st of Life: and though I could\\nWith bare-fac'd power sweepe him from my sight,\\nAnd bid my will auouch it; yet I must not,\\nFor certaine friends that are both his, and mine,\\nWhose loues I may not drop, but wayle his fall,\\nWho I my selfe struck downe: and thence it is,\\nThat I to your assistance doe make loue,\\nMasking the Businesse from the common Eye,\\nFor sundry weightie Reasons\\n\\n   2.Murth. We shall, my Lord,\\nPerforme what you command vs\\n\\n   1.Murth. Though our Liues-\\n  Macb. Your Spirits shine through you.\\nWithin this houre, at most,\\nI will aduise you where to plant your selues,\\nAcquaint you with the perfect Spy o'th' time,\\nThe moment on't, for't must be done to Night,\\nAnd something from the Pallace: alwayes thought,\\nThat I require a clearenesse; and with him,\\nTo leaue no Rubs nor Botches in the Worke:\\n  Fleans , his Sonne, that keepes him companie,\\nWhose absence is no lesse materiall to me,\\nThen is his Fathers, must embrace the fate\\nOf that darke houre: resolue your selues apart,\\nIle come to you anon\\n\\n   Murth. We are resolu'd, my Lord\\n\\n   Macb. Ile call vpon you straight: abide within,\\nIt is concluded: Banquo, thy Soules flight,\\nIf it finde Heauen, must finde it out to Night.\\n\\nExeunt.\\n\\n\\nScena Secunda.\\n\\nEnter Macbeths Lady, and a Seruant.\\n\\n  Lady. Is Banquo gone from Court?\\n  Seruant. I, Madame, but returnes againe to Night\\n\\n   Lady. Say to the King, I would attend his leysure,\\nFor a few words\\n\\n   Seruant. Madame, I will.\\nEnter.\\n\\n  Lady. Nought's had, all's spent.\\nWhere our desire is got without content:\\n'Tis safer, to be that which we destroy,\\nThen by destruction dwell in doubtfull ioy.\\nEnter Macbeth.\\n\\nHow now, my Lord, why doe you keepe alone?\\nOf sorryest Fancies your Companions making,\\nVsing those Thoughts, which should indeed haue dy'd\\nWith them they thinke on: things without all remedie\\nShould be without regard: what's done, is done\\n\\n   Macb. We haue scorch'd the Snake, not kill'd it:\\nShee'le close, and be her selfe, whilest our poore Mallice\\nRemaines in danger of her former Tooth.\\nBut let the frame of things dis-ioynt,\\nBoth the Worlds suffer,\\nEre we will eate our Meale in feare, and sleepe\\nIn the affliction of these terrible Dreames,\\nThat shake vs Nightly: Better be with the dead,\\nWhom we, to gayne our peace, haue sent to peace,\\nThen on the torture of the Minde to lye\\nIn restlesse extasie.\\nDuncane is in his Graue:\\nAfter Lifes fitfull Feuer, he sleepes well,\\nTreason ha's done his worst: nor Steele, nor Poyson,\\nMallice domestique, forraine Leuie, nothing,\\nCan touch him further\\n\\n   Lady. Come on:\\nGentle my Lord, sleeke o're your rugged Lookes,\\nBe bright and Iouiall among your Guests to Night\\n\\n   Macb. So shall I Loue, and so I pray be you:\\nLet your remembrance apply to Banquo,\\nPresent him Eminence, both with Eye and Tongue:\\nVnsafe the while, that wee must laue\\nOur Honors in these flattering streames,\\nAnd make our Faces Vizards to our Hearts,\\nDisguising what they are\\n\\n   Lady. You must leaue this\\n\\n   Macb. O, full of Scorpions is my Minde, deare Wife:\\nThou know'st, that Banquo and his Fleans liues\\n\\n   Lady. But in them, Natures Coppie's not eterne\\n\\n   Macb. There's comfort yet, they are assaileable,\\nThen be thou iocund: ere the Bat hath flowne\\nHis Cloyster'd flight, ere to black Heccats summons\\nThe shard-borne Beetle, with his drowsie hums,\\nHath rung Nights yawning Peale,\\nThere shall be done a deed of dreadfull note\\n\\n   Lady. What's to be done?\\n  Macb. Be innocent of the knowledge, dearest Chuck,\\nTill thou applaud the deed: Come, seeling Night,\\nSkarfe vp the tender Eye of pittifull Day,\\nAnd with thy bloodie and inuisible Hand\\nCancell and teare to pieces that great Bond,\\nWhich keepes me pale. Light thickens,\\nAnd the Crow makes Wing toth' Rookie Wood:\\nGood things of Day begin to droope, and drowse,\\nWhiles Nights black Agents to their Prey's doe rowse.\\nThou maruell'st at my words: but hold thee still,\\nThings bad begun, make strong themselues by ill:\\nSo prythee goe with me.\\n\\nExeunt.\\n\\n\\nScena Tertia.\\n\\nEnter three Murtherers.\\n\\n  1. But who did bid thee ioyne with vs?\\n  3. Macbeth\\n\\n   2. He needes not our mistrust, since he deliuers\\nOur Offices, and what we haue to doe,\\nTo the direction iust\\n\\n   1. Then stand with vs:\\nThe West yet glimmers with some streakes of Day.\\nNow spurres the lated Traueller apace,\\nTo gayne the timely Inne, and neere approches\\nThe subiect of our Watch\\n\\n   3. Hearke, I heare Horses\\n\\n   Banquo within. Giue vs a Light there, hoa\\n\\n   2. Then 'tis hee:\\nThe rest, that are within the note of expectation,\\nAlreadie are i'th' Court\\n\\n   1. His Horses goe about\\n\\n   3. Almost a mile: but he does vsually,\\nSo all men doe, from hence toth' Pallace Gate\\nMake it their Walke.\\nEnter Banquo and Fleans, with a Torch.\\n\\n  2. A Light, a Light\\n\\n   3. 'Tis hee\\n\\n   1. Stand too't\\n\\n   Ban. It will be Rayne to Night\\n\\n   1. Let it come downe\\n\\n   Ban. O, Trecherie!\\nFlye good Fleans, flye, flye, flye,\\nThou may'st reuenge. O Slaue!\\n  3. Who did strike out the Light?\\n  1. Was't not the way?\\n  3. There's but one downe: the Sonne is fled\\n\\n   2. We haue lost\\nBest halfe of our Affaire\\n\\n   1. Well, let's away, and say how much is done.\\n\\nExeunt.\\n\\n\\nScaena Quarta.\\n\\nBanquet prepar'd. Enter Macbeth, Lady, Rosse, Lenox, Lords, and\\nAttendants.\\n\\n  Macb. You know your owne degrees, sit downe:\\nAt first and last, the hearty welcome\\n\\n   Lords. Thankes to your Maiesty\\n\\n   Macb. Our selfe will mingle with Society,\\nAnd play the humble Host:\\nOur Hostesse keepes her State, but in best time\\nWe will require her welcome\\n\\n   La. Pronounce it for me Sir, to all our Friends,\\nFor my heart speakes, they are welcome.\\nEnter first Murtherer.\\n\\n  Macb. See they encounter thee with their harts thanks\\nBoth sides are euen: heere Ile sit i'th' mid'st,\\nBe large in mirth, anon wee'l drinke a Measure\\nThe Table round. There's blood vpon thy face\\n\\n   Mur. 'Tis Banquo's then\\n\\n   Macb. 'Tis better thee without, then he within.\\nIs he dispatch'd?\\n  Mur. My Lord his throat is cut, that I did for him\\n\\n   Mac. Thou art the best o'th' Cut-throats,\\nYet hee's good that did the like for Fleans:\\nIf thou did'st it, thou art the Non-pareill\\n\\n   Mur. Most Royall Sir\\nFleans is scap'd\\n\\n   Macb. Then comes my Fit againe:\\nI had else beene perfect;\\nWhole as the Marble, founded as the Rocke,\\nAs broad, and generall, as the casing Ayre:\\nBut now I am cabin'd, crib'd, confin'd, bound in\\nTo sawcy doubts, and feares. But Banquo's safe?\\n  Mur. I, my good Lord: safe in a ditch he bides,\\nWith twenty trenched gashes on his head;\\nThe least a Death to Nature\\n\\n   Macb. Thankes for that:\\nThere the growne Serpent lyes, the worme that's fled\\nHath Nature that in time will Venom breed,\\nNo teeth for th' present. Get thee gone, to morrow\\nWee'l heare our selues againe.\\n\\nExit Murderer.\\n\\n  Lady. My Royall Lord,\\nYou do not giue the Cheere, the Feast is sold\\nThat is not often vouch'd, while 'tis a making:\\n'Tis giuen, with welcome: to feede were best at home:\\nFrom thence, the sawce to meate is Ceremony,\\nMeeting were bare without it.\\nEnter the Ghost of Banquo, and sits in Macbeths place.\\n\\n  Macb. Sweet Remembrancer:\\nNow good digestion waite on Appetite,\\nAnd health on both\\n\\n   Lenox. May't please your Highnesse sit\\n\\n   Macb. Here had we now our Countries Honor, roof'd,\\nWere the grac'd person of our Banquo present:\\nWho, may I rather challenge for vnkindnesse,\\nThen pitty for Mischance\\n\\n   Rosse. His absence (Sir)\\nLayes blame vpon his promise. Pleas't your Highnesse\\nTo grace vs with your Royall Company?\\n  Macb. The Table's full\\n\\n   Lenox. Heere is a place reseru'd Sir\\n\\n   Macb. Where?\\n  Lenox. Heere my good Lord.\\nWhat is't that moues your Highnesse?\\n  Macb. Which of you haue done this?\\n  Lords. What, my good Lord?\\n  Macb. Thou canst not say I did it: neuer shake\\nThy goary lockes at me\\n\\n   Rosse. Gentlemen rise, his Highnesse is not well\\n\\n   Lady. Sit worthy Friends: my Lord is often thus,\\nAnd hath beene from his youth. Pray you keepe Seat,\\nThe fit is momentary, vpon a thought\\nHe will againe be well. If much you note him\\nYou shall offend him, and extend his Passion,\\nFeed, and regard him not. Are you a man?\\n  Macb. I, and a bold one, that dare looke on that\\nWhich might appall the Diuell\\n\\n   La. O proper stuffe:\\nThis is the very painting of your feare:\\nThis is the Ayre-drawne-Dagger which you said\\nLed you to Duncan. O, these flawes and starts\\n(Impostors to true feare) would well become\\nA womans story, at a Winters fire\\nAuthoriz'd by her Grandam: shame it selfe,\\nWhy do you make such faces? When all's done\\nYou looke but on a stoole\\n\\n   Macb. Prythee see there:\\nBehold, looke, loe, how say you:\\nWhy what care I, if thou canst nod, speake too.\\nIf Charnell houses, and our Graues must send\\nThose that we bury, backe; our Monuments\\nShall be the Mawes of Kytes\\n\\n   La. What? quite vnmann'd in folly\\n\\n   Macb. If I stand heere, I saw him\\n\\n   La. Fie for shame\\n\\n   Macb. Blood hath bene shed ere now, i'th' olden time\\nEre humane Statute purg'd the gentle Weale:\\nI, and since too, Murthers haue bene perform'd\\nToo terrible for the eare. The times has bene,\\nThat when the Braines were out, the man would dye,\\nAnd there an end: But now they rise againe\\nWith twenty mortall murthers on their crownes,\\nAnd push vs from our stooles. This is more strange\\nThen such a murther is\\n\\n   La. My worthy Lord\\nYour Noble Friends do lacke you\\n\\n   Macb. I do forget:\\nDo not muse at me my most worthy Friends,\\nI haue a strange infirmity, which is nothing\\nTo those that know me. Come, loue and health to all,\\nThen Ile sit downe: Giue me some Wine, fill full:\\nEnter Ghost.\\n\\nI drinke to th' generall ioy o'th' whole Table,\\nAnd to our deere Friend Banquo, whom we misse:\\nWould he were heere: to all, and him we thirst,\\nAnd all to all\\n\\n   Lords. Our duties, and the pledge\\n\\n   Mac. Auant, & quit my sight, let the earth hide thee:\\nThy bones are marrowlesse, thy blood is cold:\\nThou hast no speculation in those eyes\\nWhich thou dost glare with\\n\\n   La. Thinke of this good Peeres\\nBut as a thing of Custome: 'Tis no other,\\nOnely it spoyles the pleasure of the time\\n\\n   Macb. What man dare, I dare:\\nApproach thou like the rugged Russian Beare,\\nThe arm'd Rhinoceros, or th' Hircan Tiger,\\nTake any shape but that, and my firme Nerues\\nShall neuer tremble. Or be aliue againe,\\nAnd dare me to the Desart with thy Sword:\\nIf trembling I inhabit then, protest mee\\nThe Baby of a Girle. Hence horrible shadow,\\nVnreall mock'ry hence. Why so, being gone\\nI am a man againe: pray you sit still\\n\\n   La. You haue displac'd the mirth,\\nBroke the good meeting, with most admir'd disorder\\n\\n   Macb. Can such things be,\\nAnd ouercome vs like a Summers Clowd,\\nWithout our speciall wonder? You make me strange\\nEuen to the disposition that I owe,\\nWhen now I thinke you can behold such sights,\\nAnd keepe the naturall Rubie of your Cheekes,\\nWhen mine is blanch'd with feare\\n\\n   Rosse. What sights, my Lord?\\n  La. I pray you speake not: he growes worse & worse\\nQuestion enrages him: at once, goodnight.\\nStand not vpon the order of your going,\\nBut go at once\\n\\n   Len. Good night, and better health\\nAttend his Maiesty\\n\\n   La. A kinde goodnight to all.\\n\\nExit Lords.\\n\\n  Macb. It will haue blood they say:\\nBlood will haue Blood:\\nStones haue beene knowne to moue, & Trees to speake:\\nAugures, and vnderstood Relations, haue\\nBy Maggot Pyes, & Choughes, & Rookes brought forth\\nThe secret'st man of Blood. What is the night?\\n  La. Almost at oddes with morning, which is which\\n\\n   Macb. How say'st thou that Macduff denies his person\\nAt our great bidding\\n\\n   La. Did you send to him Sir?\\n  Macb. I heare it by the way: But I will send:\\nThere's not a one of them but in his house\\nI keepe a Seruant Feed. I will to morrow\\n(And betimes I will) to the weyard Sisters.\\nMore shall they speake: for now I am bent to know\\nBy the worst meanes, the worst, for mine owne good,\\nAll causes shall giue way. I am in blood\\nStept in so farre, that should I wade no more,\\nReturning were as tedious as go ore:\\nStrange things I haue in head, that will to hand,\\nWhich must be acted, ere they may be scand\\n\\n   La. You lacke the season of all Natures, sleepe\\n\\n   Macb. Come, wee'l to sleepe: My strange & self-abuse\\nIs the initiate feare, that wants hard vse:\\nWe are yet but yong indeed.\\n\\nExeunt.\\n\\n\\nScena Quinta.\\n\\nThunder. Enter the three Witches, meeting Hecat.\\n\\n  1. Why how now Hecat, you looke angerly?\\n  Hec. Haue I not reason (Beldams) as you are?\\nSawcy, and ouer-bold, how did you dare\\nTo Trade, and Trafficke with Macbeth,\\nIn Riddles, and Affaires of death;\\nAnd I the Mistris of your Charmes,\\nThe close contriuer of all harmes,\\nWas neuer call'd to beare my part,\\nOr shew the glory of our Art?\\nAnd which is worse, all you haue done\\nHath bene but for a wayward Sonne,\\nSpightfull, and wrathfull, who (as others do)\\nLoues for his owne ends, not for you.\\nBut make amends now: Get you gon,\\nAnd at the pit of Acheron\\nMeete me i'th' Morning: thither he\\nWill come, to know his Destinie.\\nYour Vessels, and your Spels prouide,\\nYour Charmes, and euery thing beside;\\nI am for th' Ayre: This night Ile spend\\nVnto a dismall, and a Fatall end.\\nGreat businesse must be wrought ere Noone.\\nVpon the Corner of the Moone\\nThere hangs a vap'rous drop, profound,\\nIle catch it ere it come to ground;\\nAnd that distill'd by Magicke slights,\\nShall raise such Artificiall Sprights,\\nAs by the strength of their illusion,\\nShall draw him on to his Confusion.\\nHe shall spurne Fate, scorne Death, and beare\\nHis hopes 'boue Wisedome, Grace, and Feare:\\nAnd you all know, Security\\nIs Mortals cheefest Enemie.\\n\\nMusicke, and a Song.\\n\\nHearke, I am call'd: my little Spirit see\\nSits in Foggy cloud, and stayes for me.\\n\\nSing within. Come away, come away, &c.\\n\\n  1 Come, let's make hast, shee'l soone be\\nBacke againe.\\n\\nExeunt.\\n\\n\\nScaena Sexta.\\n\\nEnter Lenox, and another Lord.\\n\\n  Lenox. My former Speeches,\\nHaue but hit your Thoughts\\nWhich can interpret farther: Onely I say\\nThings haue bin strangely borne. The gracious Duncan\\nWas pittied of Macbeth: marry he was dead:\\nAnd the right valiant Banquo walk'd too late,\\nWhom you may say (if't please you) Fleans kill'd,\\nFor Fleans fled: Men must not walke too late.\\nWho cannot want the thought, how monstrous\\nIt was for Malcolme, and for Donalbane\\nTo kill their gracious Father? Damned Fact,\\nHow it did greeue Macbeth? Did he not straight\\nIn pious rage, the two delinquents teare,\\nThat were the Slaues of drinke, and thralles of sleepe?\\nWas not that Nobly done? I, and wisely too:\\nFor 'twould haue anger'd any heart aliue\\nTo heare the men deny't. So that I say,\\nHe ha's borne all things well, and I do thinke,\\nThat had he Duncans Sonnes vnder his Key,\\n(As, and't please Heauen he shall not) they should finde\\nWhat 'twere to kill a Father: So should Fleans.\\nBut peace; for from broad words, and cause he fayl'd\\nHis presence at the Tyrants Feast, I heare\\nMacduffe liues in disgrace. Sir, can you tell\\nWhere he bestowes himselfe?\\n  Lord. The Sonnes of Duncane\\n(From whom this Tyrant holds the due of Birth)\\nLiues in the English Court, and is receyu'd\\nOf the most Pious Edward, with such grace,\\nThat the maleuolence of Fortune, nothing\\nTakes from his high respect. Thither Macduffe\\nIs gone, to pray the Holy King, vpon his ayd\\nTo wake Northumberland, and warlike Seyward,\\nThat by the helpe of these (with him aboue)\\nTo ratifie the Worke) we may againe\\nGiue to our Tables meate, sleepe to our Nights:\\nFree from our Feasts, and Banquets bloody kniues;\\nDo faithfull Homage, and receiue free Honors,\\nAll which we pine for now. And this report\\nHath so exasperate their King, that hee\\nPrepares for some attempt of Warre\\n\\n   Len. Sent he to Macduffe?\\n  Lord. He did: and with an absolute Sir, not I\\nThe clowdy Messenger turnes me his backe,\\nAnd hums; as who should say, you'l rue the time\\nThat clogges me with this Answer\\n\\n   Lenox. And that well might\\nAduise him to a Caution, t' hold what distance\\nHis wisedome can prouide. Some holy Angell\\nFlye to the Court of England, and vnfold\\nHis Message ere he come, that a swift blessing\\nMay soone returne to this our suffering Country,\\nVnder a hand accurs'd\\n\\n   Lord. Ile send my Prayers with him.\\n\\nExeunt.\\n\\nActus Quartus. Scena Prima.\\n\\nThunder. Enter the three Witches.\\n\\n  1 Thrice the brinded Cat hath mew'd\\n\\n   2 Thrice, and once the Hedge-Pigge whin'd\\n\\n   3 Harpier cries, 'tis time, 'tis time\\n\\n   1 Round about the Caldron go:\\nIn the poysond Entrailes throw\\nToad, that vnder cold stone,\\nDayes and Nights, ha's thirty one:\\nSweltred Venom sleeping got,\\nBoyle thou first i'th' charmed pot\\n\\n   All. Double, double, toile and trouble;\\nFire burne, and Cauldron bubble\\n\\n   2 Fillet of a Fenny Snake,\\nIn the Cauldron boyle and bake:\\nEye of Newt, and Toe of Frogge,\\nWooll of Bat, and Tongue of Dogge:\\nAdders Forke, and Blinde-wormes Sting,\\nLizards legge, and Howlets wing:\\nFor a Charme of powrefull trouble,\\nLike a Hell-broth, boyle and bubble\\n\\n   All. Double, double, toyle and trouble,\\nFire burne, and Cauldron bubble\\n\\n   3 Scale of Dragon, Tooth of Wolfe,\\nWitches Mummey, Maw, and Gulfe\\nOf the rauin'd salt Sea sharke:\\nRoote of Hemlocke, digg'd i'th' darke:\\nLiuer of Blaspheming Iew,\\nGall of Goate, and Slippes of Yew,\\nSliuer'd in the Moones Ecclipse:\\nNose of Turke, and Tartars lips:\\nFinger of Birth-strangled Babe,\\nDitch-deliuer'd by a Drab,\\nMake the Grewell thicke, and slab.\\nAdde thereto a Tigers Chawdron,\\nFor th' Ingredience of our Cawdron\\n\\n   All. Double, double, toyle and trouble,\\nFire burne, and Cauldron bubble\\n\\n   2 Coole it with a Baboones blood,\\nThen the Charme is firme and good.\\nEnter Hecat, and the other three Witches.\\n\\n  Hec. O well done: I commend your paines,\\nAnd euery one shall share i'th' gaines:\\nAnd now about the Cauldron sing\\nLike Elues and Fairies in a Ring,\\nInchanting all that you put in.\\n\\nMusicke and a Song. Blacke Spirits, &c.\\n\\n  2 By the pricking of my Thumbes,\\nSomething wicked this way comes:\\nOpen Lockes, who euer knockes.\\nEnter Macbeth.\\n\\n  Macb. How now you secret, black, & midnight Hags?\\nWhat is't you do?\\n  All. A deed without a name\\n\\n   Macb. I coniure you, by that which you Professe,\\n(How ere you come to know it) answer me:\\nThough you vntye the Windes, and let them fight\\nAgainst the Churches: Though the yesty Waues\\nConfound and swallow Nauigation vp:\\nThough bladed Corne be lodg'd, & Trees blown downe,\\nThough Castles topple on their Warders heads:\\nThough Pallaces, and Pyramids do slope\\nTheir heads to their Foundations: Though the treasure\\nOf Natures Germaine, tumble altogether,\\nEuen till destruction sicken: Answer me\\nTo what I aske you\\n\\n   1 Speake\\n\\n   2 Demand\\n\\n   3 Wee'l answer\\n\\n   1 Say, if th'hadst rather heare it from our mouthes,\\nOr from our Masters\\n\\n   Macb. Call 'em: let me see 'em\\n\\n   1 Powre in Sowes blood, that hath eaten\\nHer nine Farrow: Greaze that's sweaten\\nFrom the Murderers Gibbet, throw\\nInto the Flame\\n\\n   All. Come high or low:\\nThy Selfe and Office deaftly show.\\nThunder. 1. Apparation, an Armed Head.\\n\\n  Macb. Tell me, thou vnknowne power\\n\\n   1 He knowes thy thought:\\nHeare his speech, but say thou nought\\n\\n   1 Appar. Macbeth, Macbeth, Macbeth:\\nBeware Macduffe,\\nBeware the Thane of Fife: dismisse me. Enough.\\n\\nHe Descends.\\n\\n  Macb. What ere thou art, for thy good caution, thanks\\nThou hast harp'd my feare aright. But one word more\\n\\n   1 He will not be commanded: heere's another\\nMore potent then the first.\\n\\nThunder. 2 Apparition, a Bloody Childe.\\n\\n  2 Appar. Macbeth, Macbeth, Macbeth\\n\\n   Macb. Had I three eares, Il'd heare thee\\n\\n   Appar. Be bloody, bold, & resolute:\\nLaugh to scorne\\nThe powre of man: For none of woman borne\\nShall harme Macbeth.\\n\\nDescends.\\n\\n  Mac. Then liue Macduffe: what need I feare of thee?\\nBut yet Ile make assurance: double sure,\\nAnd take a Bond of Fate: thou shalt not liue,\\nThat I may tell pale-hearted Feare, it lies;\\nAnd sleepe in spight of Thunder.\\n\\nThunder 3 Apparation, a Childe Crowned, with a Tree in his hand.\\n\\nWhat is this, that rises like the issue of a King,\\nAnd weares vpon his Baby-brow, the round\\nAnd top of Soueraignty?\\n  All. Listen, but speake not too't\\n\\n   3 Appar. Be Lyon metled, proud, and take no care:\\nWho chafes, who frets, or where Conspirers are:\\nMacbeth shall neuer vanquish'd be, vntill\\nGreat Byrnam Wood, to high Dunsmane Hill\\nShall come against him.\\n\\nDescend.\\n\\n  Macb. That will neuer bee:\\nWho can impresse the Forrest, bid the Tree\\nVnfixe his earth-bound Root? Sweet boadments, good:\\nRebellious dead, rise neuer till the Wood\\nOf Byrnan rise, and our high plac'd Macbeth\\nShall liue the Lease of Nature, pay his breath\\nTo time, and mortall Custome. Yet my Hart\\nThrobs to know one thing: Tell me, if your Art\\nCan tell so much: Shall Banquo's issue euer\\nReigne in this Kingdome?\\n  All. Seeke to know no more\\n\\n   Macb. I will be satisfied. Deny me this,\\nAnd an eternall Curse fall on you: Let me know.\\nWhy sinkes that Caldron? & what noise is this?\\n\\nHoboyes\\n\\n  1 Shew\\n\\n   2 Shew\\n\\n   3 Shew\\n\\n   All. Shew his Eyes, and greeue his Hart,\\nCome like shadowes, so depart.\\n\\nA shew of eight Kings, and Banquo last, with a glasse in his hand.\\n\\n  Macb. Thou art too like the Spirit of Banquo: Down:\\nThy Crowne do's seare mine Eye-bals. And thy haire\\nThou other Gold-bound-brow, is like the first:\\nA third, is like the former. Filthy Hagges,\\nWhy do you shew me this? - A fourth? Start eyes!\\nWhat will the Line stretch out to'th' cracke of Doome?\\nAnother yet? A seauenth? Ile see no more:\\nAnd yet the eighth appeares, who beares a glasse,\\nWhich shewes me many more: and some I see,\\nThat two-fold Balles, and trebble Scepters carry.\\nHorrible sight: Now I see 'tis true,\\nFor the Blood-bolter'd Banquo smiles vpon me,\\nAnd points at them for his. What? is this so?\\n  1 I Sir, all this is so. But why\\nStands Macbeth thus amazedly?\\nCome Sisters, cheere we vp his sprights,\\nAnd shew the best of our delights.\\nIle Charme the Ayre to giue a sound,\\nWhile you performe your Antique round:\\nThat this great King may kindly say,\\nOur duties, did his welcome pay.\\n\\nMusicke. The Witches Dance, and vanish.\\n\\n  Macb. Where are they? Gone?\\nLet this pernitious houre,\\nStand aye accursed in the Kalender.\\nCome in, without there.\\nEnter Lenox.\\n\\n  Lenox. What's your Graces will\\n\\n   Macb. Saw you the Weyard Sisters?\\n  Lenox. No my Lord\\n\\n   Macb. Came they not by you?\\n  Lenox. No indeed my Lord\\n\\n   Macb. Infected be the Ayre whereon they ride,\\nAnd damn'd all those that trust them. I did heare\\nThe gallopping of Horse. Who was't came by?\\n  Len. 'Tis two or three my Lord, that bring you word:\\nMacduff is fled to England\\n\\n   Macb. Fled to England?\\n  Len. I, my good Lord\\n\\n   Macb. Time, thou anticipat'st my dread exploits:\\nThe flighty purpose neuer is o're-tooke\\nVnlesse the deed go with it. From this moment,\\nThe very firstlings of my heart shall be\\nThe firstlings of my hand. And euen now\\nTo Crown my thoughts with Acts: be it thoght & done:\\nThe Castle of Macduff, I will surprize.\\nSeize vpon Fife; giue to th' edge o'th' Sword\\nHis Wife, his Babes, and all vnfortunate Soules\\nThat trace him in his Line. No boasting like a Foole,\\nThis deed Ile do, before this purpose coole,\\nBut no more sights. Where are these Gentlemen?\\nCome bring me where they are.\\n\\nExeunt.\\n\\nScena Secunda.\\n\\nEnter Macduffes Wife, her Son, and Rosse.\\n\\n  Wife. What had he done, to make him fly the Land?\\n  Rosse. You must haue patience Madam\\n\\n   Wife. He had none:\\nHis flight was madnesse: when our Actions do not,\\nOur feares do make vs Traitors\\n\\n   Rosse. You know not\\nWhether it was his wisedome, or his feare\\n\\n   Wife. Wisedom? to leaue his wife, to leaue his Babes,\\nHis Mansion, and his Titles, in a place\\nFrom whence himselfe do's flye? He loues vs not,\\nHe wants the naturall touch. For the poore Wren\\n(The most diminitiue of Birds) will fight,\\nHer yong ones in her Nest, against the Owle:\\nAll is the Feare, and nothing is the Loue;\\nAs little is the Wisedome, where the flight\\nSo runnes against all reason\\n\\n   Rosse. My deerest Cooz,\\nI pray you schoole your selfe. But for your Husband,\\nHe is Noble, Wise, Iudicious, and best knowes\\nThe fits o'th' Season. I dare not speake much further,\\nBut cruell are the times, when we are Traitors\\nAnd do not know our selues: when we hold Rumor\\nFrom what we feare, yet know not what we feare,\\nBut floate vpon a wilde and violent Sea\\nEach way, and moue. I take my leaue of you:\\nShall not be long but Ile be heere againe:\\nThings at the worst will cease, or else climbe vpward,\\nTo what they were before. My pretty Cosine,\\nBlessing vpon you\\n\\n   Wife. Father'd he is,\\nAnd yet hee's Father-lesse\\n\\n   Rosse. I am so much a Foole, should I stay longer\\nIt would be my disgrace, and your discomfort.\\nI take my leaue at once.\\n\\nExit Rosse.\\n\\n  Wife. Sirra, your Fathers dead,\\nAnd what will you do now? How will you liue?\\n  Son. As Birds do Mother\\n\\n   Wife. What with Wormes, and Flyes?\\n  Son. With what I get I meane, and so do they\\n\\n   Wife. Poore Bird,\\nThou'dst neuer Feare the Net, nor Lime,\\nThe Pitfall, nor the Gin\\n\\n   Son. Why should I Mother?\\nPoore Birds they are not set for:\\nMy Father is not dead for all your saying\\n\\n   Wife. Yes, he is dead:\\nHow wilt thou do for a Father?\\n  Son. Nay how will you do for a Husband?\\n  Wife. Why I can buy me twenty at any Market\\n\\n   Son. Then you'l by 'em to sell againe\\n\\n   Wife. Thou speak'st withall thy wit,\\nAnd yet I'faith with wit enough for thee\\n\\n   Son. Was my Father a Traitor, Mother?\\n  Wife. I, that he was\\n\\n   Son. What is a Traitor?\\n  Wife. Why one that sweares, and lyes\\n\\n   Son. And be all Traitors, that do so\\n\\n   Wife. Euery one that do's so, is a Traitor,\\nAnd must be hang'd\\n\\n   Son. And must they all be hang'd, that swear and lye?\\n  Wife. Euery one\\n\\n   Son. Who must hang them?\\n  Wife. Why, the honest men\\n\\n   Son. Then the Liars and Swearers are Fools: for there\\nare Lyars and Swearers enow, to beate the honest men,\\nand hang vp them\\n\\n   Wife. Now God helpe thee, poore Monkie:\\nBut how wilt thou do for a Father?\\n  Son. If he were dead, youl'd weepe for him: if you\\nwould not, it were a good signe, that I should quickely\\nhaue a new Father\\n\\n   Wife. Poore pratler, how thou talk'st?\\nEnter a Messenger.\\n\\n  Mes. Blesse you faire Dame: I am not to you known,\\nThough in your state of Honor I am perfect;\\nI doubt some danger do's approach you neerely.\\nIf you will take a homely mans aduice,\\nBe not found heere: Hence with your little ones\\nTo fright you thus. Me thinkes I am too sauage:\\nTo do worse to you, were fell Cruelty,\\nWhich is too nie your person. Heauen preserue you,\\nI dare abide no longer.\\n\\nExit Messenger\\n\\n  Wife. Whether should I flye?\\nI haue done no harme. But I remember now\\nI am in this earthly world: where to do harme\\nIs often laudable, to do good sometime\\nAccounted dangerous folly. Why then (alas)\\nDo I put vp that womanly defence,\\nTo say I haue done no harme?\\nWhat are these faces?\\nEnter Murtherers.\\n\\n  Mur. Where is your Husband?\\n  Wife. I hope in no place so vnsanctified,\\nWhere such as thou may'st finde him\\n\\n   Mur. He's a Traitor\\n\\n   Son. Thou ly'st thou shagge-ear'd Villaine\\n\\n   Mur. What you Egge?\\nYong fry of Treachery?\\n  Son. He ha's kill'd me Mother,\\nRun away I pray you.\\n\\nExit crying Murther.\\n\\n\\nScaena Tertia.\\n\\nEnter Malcolme and Macduffe.\\n\\n  Mal. Let vs seeke out some desolate shade, & there\\nWeepe our sad bosomes empty\\n\\n   Macd. Let vs rather\\nHold fast the mortall Sword: and like good men,\\nBestride our downfall Birthdome: each new Morne,\\nNew Widdowes howle, new Orphans cry, new sorowes\\nStrike heauen on the face, that it resounds\\nAs if it felt with Scotland, and yell'd out\\nLike Syllable of Dolour\\n\\n   Mal. What I beleeue, Ile waile;\\nWhat know, beleeue; and what I can redresse,\\nAs I shall finde the time to friend: I wil.\\nWhat you haue spoke, it may be so perchance.\\nThis Tyrant, whose sole name blisters our tongues,\\nWas once thought honest: you haue lou'd him well,\\nHe hath not touch'd you yet. I am yong, but something\\nYou may discerne of him through me, and wisedome\\nTo offer vp a weake, poore innocent Lambe\\nT' appease an angry God\\n\\n   Macd. I am not treacherous\\n\\n   Malc. But Macbeth is.\\nA good and vertuous Nature may recoyle\\nIn an Imperiall charge. But I shall craue your pardon:\\nThat which you are, my thoughts cannot transpose;\\nAngels are bright still, though the brightest fell.\\nThough all things foule, would wear the brows of grace\\nYet Grace must still looke so\\n\\n   Macd. I haue lost my Hopes\\n\\n   Malc. Perchance euen there\\nWhere I did finde my doubts.\\nWhy in that rawnesse left you Wife, and Childe?\\nThose precious Motiues, those strong knots of Loue,\\nWithout leaue-taking. I pray you,\\nLet not my Iealousies, be your Dishonors,\\nBut mine owne Safeties: you may be rightly iust,\\nWhat euer I shall thinke\\n\\n   Macd. Bleed, bleed poore Country,\\nGreat Tyrrany, lay thou thy basis sure,\\nFor goodnesse dare not check thee: wear y thy wrongs,\\nThe Title, is affear'd. Far thee well Lord,\\nI would not be the Villaine that thou think'st,\\nFor the whole Space that's in the Tyrants Graspe,\\nAnd the rich East to boot\\n\\n   Mal. Be not offended:\\nI speake not as in absolute feare of you:\\nI thinke our Country sinkes beneath the yoake,\\nIt weepes, it bleeds, and each new day a gash\\nIs added to her wounds. I thinke withall,\\nThere would be hands vplifted in my right:\\nAnd heere from gracious England haue I offer\\nOf goodly thousands. But for all this,\\nWhen I shall treade vpon the Tyrants head,\\nOr weare it on my Sword; yet my poore Country\\nShall haue more vices then it had before,\\nMore suffer, and more sundry wayes then euer,\\nBy him that shall succeede\\n\\n   Macd. What should he be?\\n  Mal. It is my selfe I meane: in whom I know\\nAll the particulars of Vice so grafted,\\nThat when they shall be open'd, blacke Macbeth\\nWill seeme as pure as Snow, and the poore State\\nEsteeme him as a Lambe, being compar'd\\nWith my confinelesse harmes\\n\\n   Macd. Not in the Legions\\nOf horrid Hell, can come a Diuell more damn'd\\nIn euils, to top Macbeth\\n\\n   Mal. I grant him Bloody,\\nLuxurious, Auaricious, False, Deceitfull,\\nSodaine, Malicious, smacking of euery sinne\\nThat ha's a name. But there's no bottome, none\\nIn my Voluptuousnesse: Your Wiues, your Daughters,\\nYour Matrons, and your Maides, could not fill vp\\nThe Cesterne of my Lust, and my Desire\\nAll continent Impediments would ore-beare\\nThat did oppose my will. Better Macbeth,\\nThen such an one to reigne\\n\\n   Macd. Boundlesse intemperance\\nIn Nature is a Tyranny: It hath beene\\nTh' vntimely emptying of the happy Throne,\\nAnd fall of many Kings. But feare not yet\\nTo take vpon you what is yours: you may\\nConuey your pleasures in a spacious plenty,\\nAnd yet seeme cold. The time you may so hoodwinke:\\nWe haue willing Dames enough: there cannot be\\nThat Vulture in you, to deuoure so many\\nAs will to Greatnesse dedicate themselues,\\nFinding it so inclinde\\n\\n   Mal. With this, there growes\\nIn my most ill-composd Affection, such\\nA stanchlesse Auarice, that were I King,\\nI should cut off the Nobles for their Lands,\\nDesire his Iewels, and this others House,\\nAnd my more-hauing, would be as a Sawce\\nTo make me hunger more, that I should forge\\nQuarrels vniust against the Good and Loyall,\\nDestroying them for wealth\\n\\n   Macd. This Auarice\\nstickes deeper: growes with more pernicious roote\\nThen Summer-seeming Lust: and it hath bin\\nThe Sword of our slaine Kings: yet do not feare,\\nScotland hath Foysons, to fill vp your will\\nOf your meere Owne. All these are portable,\\nWith other Graces weigh'd\\n\\n   Mal. But I haue none. The King-becoming Graces,\\nAs Iustice, Verity, Temp'rance, Stablenesse,\\nBounty, Perseuerance, Mercy, Lowlinesse,\\nDeuotion, Patience, Courage, Fortitude,\\nI haue no rellish of them, but abound\\nIn the diuision of each seuerall Crime,\\nActing it many wayes. Nay, had I powre, I should\\nPoure the sweet Milke of Concord, into Hell,\\nVprore the vniuersall peace, confound\\nAll vnity on earth\\n\\n   Macd. O Scotland, Scotland\\n\\n   Mal. If such a one be fit to gouerne, speake:\\nI am as I haue spoken\\n\\n   Mac. Fit to gouern? No not to liue. O Natio[n] miserable!\\nWith an vntitled Tyrant, bloody Sceptred,\\nWhen shalt thou see thy wholsome dayes againe?\\nSince that the truest Issue of thy Throne\\nBy his owne Interdiction stands accust,\\nAnd do's blaspheme his breed? Thy Royall Father\\nWas a most Sainted-King: the Queene that bore thee,\\nOftner vpon her knees, then on her feet,\\nDy'de euery day she liu'd. Fare thee well,\\nThese Euils thou repeat'st vpon thy selfe,\\nHath banish'd me from Scotland. O my Brest,\\nThy hope ends heere\\n\\n   Mal. Macduff, this Noble passion\\nChilde of integrity, hath from my soule\\nWip'd the blacke Scruples, reconcil'd my thoughts\\nTo thy good Truth, and Honor. Diuellish Macbeth,\\nBy many of these traines, hath sought to win me\\nInto his power: and modest Wisedome pluckes me\\nFrom ouer-credulous hast: but God aboue\\nDeale betweene thee and me; For euen now\\nI put my selfe to thy Direction, and\\nVnspeake mine owne detraction. Heere abiure\\nThe taints, and blames I laide vpon my selfe,\\nFor strangers to my Nature. I am yet\\nVnknowne to Woman, neuer was forsworne,\\nScarsely haue coueted what was mine owne.\\nAt no time broke my Faith, would not betray\\nThe Deuill to his Fellow, and delight\\nNo lesse in truth then life. My first false speaking\\nWas this vpon my selfe. What I am truly\\nIs thine, and my poore Countries to command:\\nWhither indeed, before they heere approach\\nOld Seyward with ten thousand warlike men\\nAlready at a point, was setting foorth:\\nNow wee'l together, and the chance of goodnesse\\nBe like our warranted Quarrell. Why are you silent?\\n  Macd. Such welcome, and vnwelcom things at once\\n'Tis hard to reconcile.\\nEnter a Doctor.\\n\\n  Mal. Well, more anon. Comes the King forth\\nI pray you?\\n  Doct. I Sir: there are a crew of wretched Soules\\nThat stay his Cure: their malady conuinces\\nThe great assay of Art. But at his touch,\\nSuch sanctity hath Heauen giuen his hand,\\nThey presently amend.\\nEnter.\\n\\n  Mal. I thanke you Doctor\\n\\n   Macd. What's the Disease he meanes?\\n  Mal. Tis call'd the Euill.\\nA most myraculous worke in this good King,\\nWhich often since my heere remaine in England,\\nI haue seene him do: How he solicites heauen\\nHimselfe best knowes: but strangely visited people\\nAll swolne and Vlcerous, pittifull to the eye,\\nThe meere dispaire of Surgery, he cures,\\nHanging a golden stampe about their neckes,\\nPut on with holy Prayers, and 'tis spoken\\nTo the succeeding Royalty he leaues\\nThe healing Benediction. With this strange vertue,\\nHe hath a heauenly guift of Prophesie,\\nAnd sundry Blessings hang about his Throne,\\nThat speake him full of Grace.\\nEnter Rosse.\\n\\n  Macd. See who comes heere\\n\\n   Malc. My Countryman: but yet I know him not\\n\\n   Macd. My euer gentle Cozen, welcome hither\\n\\n   Malc. I know him now. Good God betimes remoue\\nThe meanes that makes vs Strangers\\n\\n   Rosse. Sir, Amen\\n\\n   Macd. Stands Scotland where it did?\\n  Rosse. Alas poore Countrey,\\nAlmost affraid to know it selfe. It cannot\\nBe call'd our Mother, but our Graue; where nothing\\nBut who knowes nothing, is once seene to smile:\\nWhere sighes, and groanes, and shrieks that rent the ayre\\nAre made, not mark'd: Where violent sorrow seemes\\nA Moderne extasie: The Deadmans knell,\\nIs there scarse ask'd for who, and good mens liues\\nExpire before the Flowers in their Caps,\\nDying, or ere they sicken\\n\\n   Macd. Oh Relation; too nice, and yet too true\\n\\n   Malc. What's the newest griefe?\\n  Rosse. That of an houres age, doth hisse the speaker,\\nEach minute teemes a new one\\n\\n   Macd. How do's my Wife?\\n  Rosse. Why well\\n\\n   Macd. And all my Children?\\n  Rosse. Well too\\n\\n   Macd. The Tyrant ha's not batter'd at their peace?\\n  Rosse. No, they were wel at peace, when I did leaue 'em\\n  Macd. Be not a niggard of your speech: How gos't?\\n  Rosse. When I came hither to transport the Tydings\\nWhich I haue heauily borne, there ran a Rumour\\nOf many worthy Fellowes, that were out,\\nWhich was to my beleefe witnest the rather,\\nFor that I saw the Tyrants Power a-foot.\\nNow is the time of helpe: your eye in Scotland\\nWould create Soldiours, make our women fight,\\nTo doffe their dire distresses\\n\\n   Malc. Bee't their comfort\\nWe are comming thither: Gracious England hath\\nLent vs good Seyward, and ten thousand men,\\nAn older, and a better Souldier, none\\nThat Christendome giues out\\n\\n   Rosse. Would I could answer\\nThis comfort with the like. But I haue words\\nThat would be howl'd out in the desert ayre,\\nWhere hearing should not latch them\\n\\n   Macd. What concerne they,\\nThe generall cause, or is it a Fee-griefe\\nDue to some single brest?\\n  Rosse. No minde that's honest\\nBut in it shares some woe, though the maine part\\nPertaines to you alone\\n\\n   Macd. If it be mine\\nKeepe it not from me, quickly let me haue it\\n\\n   Rosse. Let not your eares dispise my tongue for euer,\\nWhich shall possesse them with the heauiest sound\\nthat euer yet they heard\\n\\n   Macd. Humh: I guesse at it\\n\\n   Rosse. Your Castle is surpriz'd: your Wife, and Babes\\nSauagely slaughter'd: To relate the manner\\nWere on the Quarry of these murther'd Deere\\nTo adde the death of you\\n\\n   Malc. Mercifull Heauen:\\nWhat man, ne're pull your hat vpon your browes:\\nGiue sorrow words; the griefe that do's not speake,\\nWhispers the o're-fraught heart, and bids it breake\\n\\n   Macd. My Children too?\\n  Ro. Wife, Children, Seruants, all that could be found\\n\\n   Macd. And I must be from thence? My wife kil'd too?\\n  Rosse. I haue said\\n\\n   Malc. Be comforted.\\nLet's make vs Med'cines of our great Reuenge,\\nTo cure this deadly greefe\\n\\n   Macd. He ha's no Children. All my pretty ones?\\nDid you say All? Oh Hell-Kite! All?\\nWhat, All my pretty Chickens, and their Damme\\nAt one fell swoope?\\n  Malc. Dispute it like a man\\n\\n   Macd. I shall do so:\\nBut I must also feele it as a man;\\nI cannot but remember such things were\\nThat were most precious to me: Did heauen looke on,\\nAnd would not take their part? Sinfull Macduff,\\nThey were all strooke for thee: Naught that I am,\\nNot for their owne demerits, but for mine\\nFell slaughter on their soules: Heauen rest them now\\n\\n   Mal. Be this the Whetstone of your sword, let griefe\\nConuert to anger: blunt not the heart, enrage it\\n\\n   Macd. O I could play the woman with mine eyes,\\nAnd Braggart with my tongue. But gentle Heauens,\\nCut short all intermission: Front to Front,\\nBring thou this Fiend of Scotland, and my selfe\\nWithin my Swords length set him, if he scape\\nHeauen forgiue him too\\n\\n   Mal. This time goes manly:\\nCome go we to the King, our Power is ready,\\nOur lacke is nothing but our leaue. Macbeth\\nIs ripe for shaking, and the Powres aboue\\nPut on their Instruments: Receiue what cheere you may,\\nThe Night is long, that neuer findes the Day.\\n\\nExeunt.\\n\\nActus Quintus. Scena Prima.\\n\\nEnter a Doctor of Physicke, and a Wayting Gentlewoman.\\n\\n  Doct. I haue too Nights watch'd with you, but can\\nperceiue no truth in your report. When was it shee last\\nwalk'd?\\n  Gent. Since his Maiesty went into the Field, I haue\\nseene her rise from her bed, throw her Night-Gown vppon\\nher, vnlocke her Closset, take foorth paper, folde it,\\nwrite vpon't, read it, afterwards Seale it, and againe returne\\nto bed; yet all this while in a most fast sleepe\\n\\n   Doct. A great perturbation in Nature, to receyue at\\nonce the benefit of sleep, and do the effects of watching.\\nIn this slumbry agitation, besides her walking, and other\\nactuall performances, what (at any time) haue you heard\\nher say?\\n  Gent. That Sir, which I will not report after her\\n\\n   Doct. You may to me, and 'tis most meet you should\\n\\n   Gent. Neither to you, nor any one, hauing no witnesse\\nto confirme my speech.\\nEnter Lady, with a Taper.\\n\\nLo you, heere she comes: This is her very guise, and vpon\\nmy life fast asleepe: obserue her, stand close\\n\\n   Doct. How came she by that light?\\n  Gent. Why it stood by her: she ha's light by her continually,\\n'tis her command\\n\\n   Doct. You see her eyes are open\\n\\n   Gent. I, but their sense are shut\\n\\n   Doct. What is it she do's now?\\nLooke how she rubbes her hands\\n\\n   Gent. It is an accustom'd action with her, to seeme\\nthus washing her hands: I haue knowne her continue in\\nthis a quarter of an houre\\n\\n   Lad. Yet heere's a spot\\n\\n   Doct. Heark, she speaks, I will set downe what comes\\nfrom her, to satisfie my remembrance the more strongly\\n\\n   La. Out damned spot: out I say. One: Two: Why\\nthen 'tis time to doo't: Hell is murky. Fye, my Lord, fie,\\na Souldier, and affear'd? what need we feare? who knowes\\nit, when none can call our powre to accompt: yet who\\nwould haue thought the olde man to haue had so much\\nblood in him\\n\\n   Doct. Do you marke that?\\n  Lad. The Thane of Fife, had a wife: where is she now?\\nWhat will these hands ne're be cleane? No more o'that\\nmy Lord, no more o'that: you marre all with this starting\\n\\n   Doct. Go too, go too:\\nYou haue knowne what you should not\\n\\n   Gent. She ha's spoke what shee should not, I am sure\\nof that: Heauen knowes what she ha's knowne\\n\\n   La. Heere's the smell of the blood still: all the perfumes\\nof Arabia will not sweeten this little hand.\\nOh, oh, oh\\n\\n   Doct. What a sigh is there? The hart is sorely charg'd\\n\\n   Gent. I would not haue such a heart in my bosome,\\nfor the dignity of the whole body\\n\\n   Doct. Well, well, well\\n\\n   Gent. Pray God it be sir\\n\\n   Doct. This disease is beyond my practise: yet I haue\\nknowne those which haue walkt in their sleep, who haue\\ndyed holily in their beds\\n\\n   Lad. Wash your hands, put on your Night-Gowne,\\nlooke not so pale: I tell you yet againe Banquo's buried;\\nhe cannot come out on's graue\\n\\n   Doct. Euen so?\\n  Lady. To bed, to bed: there's knocking at the gate:\\nCome, come, come, come, giue me your hand: What's\\ndone, cannot be vndone. To bed, to bed, to bed.\\n\\nExit Lady.\\n\\n  Doct. Will she go now to bed?\\n  Gent. Directly\\n\\n   Doct. Foule whisp'rings are abroad: vnnaturall deeds\\nDo breed vnnaturall troubles: infected mindes\\nTo their deafe pillowes will discharge their Secrets:\\nMore needs she the Diuine, then the Physitian:\\nGod, God forgiue vs all. Looke after her,\\nRemoue from her the meanes of all annoyance,\\nAnd still keepe eyes vpon her: So goodnight,\\nMy minde she ha's mated, and amaz'd my sight.\\nI thinke, but dare not speake\\n\\n   Gent. Good night good Doctor.\\n\\nExeunt.\\n\\n\\nScena Secunda.\\n\\nDrum and Colours. Enter Menteth, Cathnes, Angus, Lenox,\\nSoldiers.\\n\\n  Ment. The English powre is neere, led on by Malcolm,\\nHis Vnkle Seyward, and the good Macduff.\\nReuenges burne in them: for their deere causes\\nWould to the bleeding, and the grim Alarme\\nExcite the mortified man\\n\\n   Ang. Neere Byrnan wood\\nShall we well meet them, that way are they comming\\n\\n   Cath. Who knowes if Donalbane be with his brother?\\n  Len. For certaine Sir, he is not: I haue a File\\nOf all the Gentry; there is Seywards Sonne,\\nAnd many vnruffe youths, that euen now\\nProtest their first of Manhood\\n\\n   Ment. What do's the Tyrant\\n\\n   Cath. Great Dunsinane he strongly Fortifies:\\nSome say hee's mad: Others, that lesser hate him,\\nDo call it valiant Fury, but for certaine\\nHe cannot buckle his distemper'd cause\\nWithin the belt of Rule\\n\\n   Ang. Now do's he feele\\nHis secret Murthers sticking on his hands,\\nNow minutely Reuolts vpbraid his Faith-breach:\\nThose he commands, moue onely in command,\\nNothing in loue: Now do's he feele his Title\\nHang loose about him, like a Giants Robe\\nVpon a dwarfish Theefe\\n\\n   Ment. Who then shall blame\\nHis pester'd Senses to recoyle, and start,\\nWhen all that is within him, do's condemne\\nIt selfe, for being there\\n\\n   Cath. Well, march we on,\\nTo giue Obedience, where 'tis truly ow'd:\\nMeet we the Med'cine of the sickly Weale,\\nAnd with him poure we in our Countries purge,\\nEach drop of vs\\n\\n   Lenox. Or so much as it needes,\\nTo dew the Soueraigne Flower, and drowne the Weeds:\\nMake we our March towards Birnan.\\n\\nExeunt. marching.\\n\\n\\nScaena Tertia.\\n\\nEnter Macbeth, Doctor, and Attendants.\\n\\n  Macb. Bring me no more Reports, let them flye all:\\nTill Byrnane wood remoue to Dunsinane,\\nI cannot taint with Feare. What's the Boy Malcolme?\\nWas he not borne of woman? The Spirits that know\\nAll mortall Consequences, haue pronounc'd me thus:\\nFeare not Macbeth, no man that's borne of woman\\nShall ere haue power vpon thee. Then fly false Thanes,\\nAnd mingle with the English Epicures,\\nThe minde I sway by, and the heart I beare,\\nShall neuer sagge with doubt, nor shake with feare.\\nEnter Seruant.\\n\\nThe diuell damne thee blacke, thou cream-fac'd Loone:\\nWhere got'st thou that Goose-looke\\n\\n   Ser. There is ten thousand\\n\\n   Macb. Geese Villaine?\\n  Ser. Souldiers Sir\\n\\n   Macb. Go pricke thy face, and ouer-red thy feare\\nThou Lilly-liuer'd Boy. What Soldiers, Patch?\\nDeath of thy Soule, those Linnen cheekes of thine\\nAre Counsailers to feare. What Soldiers Whay-face?\\n  Ser. The English Force, so please you\\n\\n   Macb. Take thy face hence. Seyton, I am sick at hart,\\nWhen I behold: Seyton, I say, this push\\nWill cheere me euer, or dis-eate me now.\\nI haue liu'd long enough: my way of life\\nIs falne into the Seare, the yellow Leafe,\\nAnd that which should accompany Old-Age,\\nAs Honor, Loue, Obedience, Troopes of Friends,\\nI must not looke to haue: but in their steed,\\nCurses, not lowd but deepe, Mouth-honor, breath\\nWhich the poore heart would faine deny, and dare not.\\nSeyton?\\nEnter Seyton.\\n\\n  Sey. What's your gracious pleasure?\\n  Macb. What Newes more?\\n  Sey. All is confirm'd my Lord, which was reported\\n\\n   Macb. Ile fight, till from my bones, my flesh be hackt.\\nGiue me my Armor\\n\\n   Seyt. 'Tis not needed yet\\n\\n   Macb. Ile put it on:\\nSend out moe Horses, skirre the Country round,\\nHang those that talke of Feare. Giue me mine Armor:\\nHow do's your Patient, Doctor?\\n  Doct. Not so sicke my Lord,\\nAs she is troubled with thicke-comming Fancies\\nThat keepe her from her rest\\n\\n   Macb. Cure of that:\\nCan'st thou not Minister to a minde diseas'd,\\nPlucke from the Memory a rooted Sorrow,\\nRaze out the written troubles of the Braine,\\nAnd with some sweet Obliuious Antidote\\nCleanse the stufft bosome, of that perillous stuffe\\nWhich weighes vpon the heart?\\n  Doct. Therein the Patient\\nMust minister to himselfe\\n\\n   Macb. Throw Physicke to the Dogs, Ile none of it.\\nCome, put mine Armour on: giue me my Staffe:\\nSeyton, send out: Doctor, the Thanes flye from me:\\nCome sir, dispatch. If thou could'st Doctor, cast\\nThe Water of my Land, finde her Disease,\\nAnd purge it to a sound and pristine Health,\\nI would applaud thee to the very Eccho,\\nThat should applaud againe. Pull't off I say,\\nWhat Rubarb, Cyme, or what Purgatiue drugge\\nWould scowre these English hence: hear'st y of them?\\n  Doct. I my good Lord: your Royall Preparation\\nMakes vs heare something\\n\\n   Macb. Bring it after me:\\nI will not be affraid of Death and Bane,\\nTill Birnane Forrest come to Dunsinane\\n\\n   Doct. Were I from Dunsinane away, and cleere,\\nProfit againe should hardly draw me heere.\\n\\nExeunt.\\n\\nScena Quarta.\\n\\nDrum and Colours. Enter Malcolme, Seyward, Macduffe,\\nSeywards Sonne,\\nMenteth, Cathnes, Angus, and Soldiers Marching.\\n\\n  Malc. Cosins, I hope the dayes are neere at hand\\nThat Chambers will be safe\\n\\n   Ment. We doubt it nothing\\n\\n   Seyw. What wood is this before vs?\\n  Ment. The wood of Birnane\\n\\n   Malc. Let euery Souldier hew him downe a Bough,\\nAnd bear't before him, thereby shall we shadow\\nThe numbers of our Hoast, and make discouery\\nErre in report of vs\\n\\n   Sold. It shall be done\\n\\n   Syw. We learne no other, but the confident Tyrant\\nKeepes still in Dunsinane, and will indure\\nOur setting downe befor't\\n\\n   Malc. 'Tis his maine hope:\\nFor where there is aduantage to be giuen,\\nBoth more and lesse haue giuen him the Reuolt,\\nAnd none serue with him, but constrained things,\\nWhose hearts are absent too\\n\\n   Macd. Let our iust Censures\\nAttend the true euent, and put we on\\nIndustrious Souldiership\\n\\n   Sey. The time approaches,\\nThat will with due decision make vs know\\nWhat we shall say we haue, and what we owe:\\nThoughts speculatiue, their vnsure hopes relate,\\nBut certaine issue, stroakes must arbitrate,\\nTowards which, aduance the warre.\\n\\nExeunt. marching\\n\\nScena Quinta.\\n\\nEnter Macbeth, Seyton, & Souldiers, with Drum and Colours.\\n\\n  Macb. Hang out our Banners on the outward walls,\\nThe Cry is still, they come: our Castles strength\\nWill laugh a Siedge to scorne: Heere let them lye,\\nTill Famine and the Ague eate them vp:\\nWere they not forc'd with those that should be ours,\\nWe might haue met them darefull, beard to beard,\\nAnd beate them backward home. What is that noyse?\\n\\nA Cry within of Women.\\n\\n  Sey. It is the cry of women, my good Lord\\n\\n   Macb. I haue almost forgot the taste of Feares:\\nThe time ha's beene, my sences would haue cool'd\\nTo heare a Night-shrieke, and my Fell of haire\\nWould at a dismall Treatise rowze, and stirre\\nAs life were in't. I haue supt full with horrors,\\nDirenesse familiar to my slaughterous thoughts\\nCannot once start me. Wherefore was that cry?\\n  Sey. The Queene (my Lord) is dead\\n\\n   Macb. She should haue dy'de heereafter;\\nThere would haue beene a time for such a word:\\nTo morrow, and to morrow, and to morrow,\\nCreepes in this petty pace from day to day,\\nTo the last Syllable of Recorded time:\\nAnd all our yesterdayes, haue lighted Fooles\\nThe way to dusty death. Out, out, breefe Candle,\\nLife's but a walking Shadow, a poore Player,\\nThat struts and frets his houre vpon the Stage,\\nAnd then is heard no more. It is a Tale\\nTold by an Ideot, full of sound and fury\\nSignifying nothing.\\nEnter a Messenger.\\n\\nThou com'st to vse thy Tongue: thy Story quickly\\n\\n   Mes. Gracious my Lord,\\nI should report that which I say I saw,\\nBut know not how to doo't\\n\\n   Macb. Well, say sir\\n\\n   Mes. As I did stand my watch vpon the Hill\\nI look'd toward Byrnane, and anon me thought\\nThe Wood began to moue\\n\\n   Macb. Lyar, and Slaue\\n\\n   Mes. Let me endure your wrath, if't be not so:\\nWithin this three Mile may you see it comming.\\nI say, a mouing Groue\\n\\n   Macb. If thou speak'st false,\\nVpon the next Tree shall thou hang aliue\\nTill Famine cling thee: If thy speech be sooth,\\nI care not if thou dost for me as much.\\nI pull in Resolution, and begin\\nTo doubt th' Equiuocation of the Fiend,\\nThat lies like truth. Feare not, till Byrnane Wood\\nDo come to Dunsinane, and now a Wood\\nComes toward Dunsinane. Arme, Arme, and out,\\nIf this which he auouches, do's appeare,\\nThere is nor flying hence, nor tarrying here.\\nI 'ginne to be a-weary of the Sun,\\nAnd wish th' estate o'th' world were now vndon.\\nRing the Alarum Bell, blow Winde, come wracke,\\nAt least wee'l dye with Harnesse on our backe.\\n\\nExeunt.\\n\\nScena Sexta.\\n\\nDrumme and Colours. Enter Malcolme, Seyward, Macduffe, and\\ntheir Army,\\nwith Boughes.\\n\\n  Mal. Now neere enough:\\nYour leauy Skreenes throw downe,\\nAnd shew like those you are: You (worthy Vnkle)\\nShall with my Cosin your right Noble Sonne\\nLeade our first Battell. Worthy Macduffe, and wee\\nShall take vpon's what else remaines to do,\\nAccording to our order\\n\\n   Sey. Fare you well:\\nDo we but finde the Tyrants power to night,\\nLet vs be beaten, if we cannot fight\\n\\n   Macd. Make all our Trumpets speak, giue the[m] all breath\\nThose clamorous Harbingers of Blood, & Death.\\n\\nExeunt.\\n\\nAlarums continued.\\n\\n\\nScena Septima.\\n\\nEnter Macbeth.\\n\\n  Macb. They haue tied me to a stake, I cannot flye,\\nBut Beare-like I must fight the course. What's he\\nThat was not borne of Woman? Such a one\\nAm I to feare, or none.\\nEnter young Seyward.\\n\\n  Y.Sey. What is thy name?\\n  Macb. Thou'lt be affraid to heare it\\n\\n   Y.Sey. No: though thou call'st thy selfe a hoter name\\nThen any is in hell\\n\\n   Macb. My name's Macbeth\\n\\n   Y.Sey. The diuell himselfe could not pronounce a Title\\nMore hatefull to mine eare\\n\\n   Macb. No: nor more fearefull\\n\\n   Y.Sey. Thou lyest abhorred Tyrant, with my Sword\\nIle proue the lye thou speak'st.\\n\\nFight, and young Seyward slaine.\\n\\n  Macb. Thou was't borne of woman;\\nBut Swords I smile at, Weapons laugh to scorne,\\nBrandish'd by man that's of a Woman borne.\\nEnter.\\n\\nAlarums. Enter Macduffe.\\n\\n  Macd. That way the noise is: Tyrant shew thy face,\\nIf thou beest slaine, and with no stroake of mine,\\nMy Wife and Childrens Ghosts will haunt me still:\\nI cannot strike at wretched Kernes, whose armes\\nAre hyr'd to beare their Staues; either thou Macbeth,\\nOr else my Sword with an vnbattered edge\\nI sheath againe vndeeded. There thou should'st be,\\nBy this great clatter, one of greatest note\\nSeemes bruited. Let me finde him Fortune,\\nAnd more I begge not.\\n\\nExit. Alarums.\\n\\nEnter Malcolme and Seyward.\\n\\n  Sey. This way my Lord, the Castles gently rendred:\\nThe Tyrants people, on both sides do fight,\\nThe Noble Thanes do brauely in the Warre,\\nThe day almost it selfe professes yours,\\nAnd little is to do\\n\\n   Malc. We haue met with Foes\\nThat strike beside vs\\n\\n   Sey. Enter Sir, the Castle.\\n\\nExeunt. Alarum\\n\\nEnter Macbeth.\\n\\n  Macb. Why should I play the Roman Foole, and dye\\nOn mine owne sword? whiles I see liues, the gashes\\nDo better vpon them.\\nEnter Macduffe.\\n\\n  Macd. Turne Hell-hound, turne\\n\\n   Macb. Of all men else I haue auoyded thee:\\nBut get thee backe, my soule is too much charg'd\\nWith blood of thine already\\n\\n   Macd. I haue no words,\\nMy voice is in my Sword, thou bloodier Villaine\\nThen tearmes can giue thee out.\\n\\nFight: Alarum\\n\\n  Macb. Thou loosest labour\\nAs easie may'st thou the intrenchant Ayre\\nWith thy keene Sword impresse, as make me bleed:\\nLet fall thy blade on vulnerable Crests,\\nI beare a charmed Life, which must not yeeld\\nTo one of woman borne\\n\\n   Macd. Dispaire thy Charme,\\nAnd let the Angell whom thou still hast seru'd\\nTell thee, Macduffe was from his Mothers womb\\nVntimely ript\\n\\n   Macb. Accursed be that tongue that tels mee so;\\nFor it hath Cow'd my better part of man:\\nAnd be these Iugling Fiends no more beleeu'd,\\nThat palter with vs in a double sence,\\nThat keepe the word of promise to our eare,\\nAnd breake it to our hope. Ile not fight with thee\\n\\n   Macd. Then yeeld thee Coward,\\nAnd liue to be the shew, and gaze o'th' time.\\nWee'l haue thee, as our rarer Monsters are\\nPainted vpon a pole, and vnder-writ,\\nHeere may you see the Tyrant\\n\\n   Macb. I will not yeeld\\nTo kisse the ground before young Malcolmes feet,\\nAnd to be baited with the Rabbles curse.\\nThough Byrnane wood be come to Dunsinane,\\nAnd thou oppos'd, being of no woman borne,\\nYet I will try the last. Before my body,\\nI throw my warlike Shield: Lay on Macduffe,\\nAnd damn'd be him, that first cries hold, enough.\\n\\nExeunt. fighting. Alarums.\\n\\nEnter Fighting, and Macbeth slaine.\\n\\nRetreat, and Flourish. Enter with Drumme and Colours, Malcolm,\\nSeyward,\\nRosse, Thanes, & Soldiers.\\n\\n  Mal. I would the Friends we misse, were safe arriu'd\\n\\n   Sey. Some must go off: and yet by these I see,\\nSo great a day as this is cheapely bought\\n\\n   Mal. Macduffe is missing, and your Noble Sonne\\n\\n   Rosse. Your son my Lord, ha's paid a souldiers debt,\\nHe onely liu'd but till he was a man,\\nThe which no sooner had his Prowesse confirm'd\\nIn the vnshrinking station where he fought,\\nBut like a man he dy'de\\n\\n   Sey. Then he is dead?\\n  Rosse. I, and brought off the field: your cause of sorrow\\nMust not be measur'd by his worth, for then\\nIt hath no end\\n\\n   Sey. Had he his hurts before?\\n  Rosse. I, on the Front\\n\\n   Sey. Why then, Gods Soldier be he:\\nHad I as many Sonnes, as I haue haires,\\nI would not wish them to a fairer death:\\nAnd so his Knell is knoll'd\\n\\n   Mal. Hee's worth more sorrow,\\nand that Ile spend for him\\n\\n   Sey. He's worth no more,\\nThey say he parted well, and paid his score,\\nAnd so God be with him. Here comes newer comfort.\\nEnter Macduffe, with Macbeths head.\\n\\n  Macd. Haile King, for so thou art.\\nBehold where stands\\nTh' Vsurpers cursed head: the time is free:\\nI see thee compast with thy Kingdomes Pearle,\\nThat speake my salutation in their minds:\\nWhose voyces I desire alowd with mine.\\nHaile King of Scotland\\n\\n   All. Haile King of Scotland.\\n\\nFlourish.\\n\\n  Mal. We shall not spend a large expence of time,\\nBefore we reckon with your seuerall loues,\\nAnd make vs euen with you. My Thanes and Kinsmen\\nHenceforth be Earles, the first that euer Scotland\\nIn such an Honor nam'd: What's more to do,\\nWhich would be planted newly with the time,\\nAs calling home our exil'd Friends abroad,\\nThat fled the Snares of watchfull Tyranny,\\nProducing forth the cruell Ministers\\nOf this dead Butcher, and his Fiend-like Queene;\\nWho (as 'tis thought) by selfe and violent hands,\\nTooke off her life. This, and what need full else\\nThat call's vpon vs, by the Grace of Grace,\\nWe will performe in measure, time, and place:\\nSo thankes to all at once, and to each one,\\nWhom we inuite, to see vs Crown'd at Scone.\\n\\nFlourish. Exeunt Omnes.\\n\\n\\nFINIS. THE TRAGEDIE OF MACBETH.\\n\""
            ]
          },
          "execution_count": 75,
          "metadata": {},
          "output_type": "execute_result"
        }
      ],
      "source": [
        "palabras = nltk.corpus.gutenberg.raw('shakespeare-macbeth.txt')\n",
        "palabras"
      ]
    },
    {
      "cell_type": "code",
      "execution_count": 76,
      "metadata": {
        "colab": {
          "base_uri": "https://localhost:8080/",
          "height": 285
        },
        "id": "a5vlDWp-vxh-",
        "outputId": "afe0a79a-15a4-4844-fe52-f5c0dcc0d7a2"
      },
      "outputs": [
        {
          "data": {
            "image/png": "[encoded data removed]",
            "text/plain": [
              "<Figure size 640x480 with 1 Axes>"
            ]
          },
          "metadata": {},
          "output_type": "display_data"
        }
      ],
      "source": [
        "wordcloud = WordCloud(max_font_size=50, max_words=100, background_color=\"white\").generate(palabras)\n",
        "plt.figure()\n",
        "plt.imshow(wordcloud, interpolation=\"bilinear\")\n",
        "plt.axis(\"off\")\n",
        "plt.show()"
      ]
    },
    {
      "cell_type": "markdown",
      "metadata": {
        "id": "HeBOd8vjvxh-"
      },
      "source": [
        "Y no sólo hay libros!"
      ]
    },
    {
      "cell_type": "code",
      "execution_count": 77,
      "metadata": {
        "colab": {
          "base_uri": "https://localhost:8080/"
        },
        "id": "98voryuwvxh-",
        "outputId": "0a44707c-86f4-4767-c13a-21c511df102b"
      },
      "outputs": [
        {
          "name": "stdout",
          "output_type": "stream",
          "text": [
            "firefox.txt\n",
            "grail.txt\n",
            "overheard.txt\n",
            "pirates.txt\n",
            "singles.txt\n",
            "wine.txt\n"
          ]
        }
      ],
      "source": [
        "for file_id in nltk.corpus.webtext.fileids():\n",
        "    print(file_id)"
      ]
    }
  ],
  "metadata": {
    "colab": {
      "provenance": [],
      "toc_visible": true
    },
    "kernelspec": {
      "display_name": "Python 3",
      "language": "python",
      "name": "python3"
    },
    "language_info": {
      "codemirror_mode": {
        "name": "ipython",
        "version": 3
      },
      "file_extension": ".py",
      "mimetype": "text/x-python",
      "name": "python",
      "nbconvert_exporter": "python",
      "pygments_lexer": "ipython3",
      "version": "3.12.2"
    },
    "widgets": {
      "application/vnd.jupyter.widget-state+json": {
        "19d0f55f469e410398c93728bc8b2590": {
          "model_module": "@jupyter-widgets/controls",
          "model_module_version": "1.5.0",
          "model_name": "HTMLModel",
          "state": {
            "_dom_classes": [],
            "_model_module": "@jupyter-widgets/controls",
            "_model_module_version": "1.5.0",
            "_model_name": "HTMLModel",
            "_view_count": null,
            "_view_module": "@jupyter-widgets/controls",
            "_view_module_version": "1.5.0",
            "_view_name": "HTMLView",
            "description": "",
            "description_tooltip": null,
            "layout": "IPY_MODEL_a577602b1672462ab01e1a10750c8f31",
            "placeholder": "​",
            "style": "IPY_MODEL_dc967d0df2004ef4b13a33bf8140debc",
            "value": "Map: 100%"
          }
        },
        "476af8635fb64fd39689a43e610b87dc": {
          "model_module": "@jupyter-widgets/base",
          "model_module_version": "1.2.0",
          "model_name": "LayoutModel",
          "state": {
            "_model_module": "@jupyter-widgets/base",
            "_model_module_version": "1.2.0",
            "_model_name": "LayoutModel",
            "_view_count": null,
            "_view_module": "@jupyter-widgets/base",
            "_view_module_version": "1.2.0",
            "_view_name": "LayoutView",
            "align_content": null,
            "align_items": null,
            "align_self": null,
            "border": null,
            "bottom": null,
            "display": null,
            "flex": null,
            "flex_flow": null,
            "grid_area": null,
            "grid_auto_columns": null,
            "grid_auto_flow": null,
            "grid_auto_rows": null,
            "grid_column": null,
            "grid_gap": null,
            "grid_row": null,
            "grid_template_areas": null,
            "grid_template_columns": null,
            "grid_template_rows": null,
            "height": null,
            "justify_content": null,
            "justify_items": null,
            "left": null,
            "margin": null,
            "max_height": null,
            "max_width": null,
            "min_height": null,
            "min_width": null,
            "object_fit": null,
            "object_position": null,
            "order": null,
            "overflow": null,
            "overflow_x": null,
            "overflow_y": null,
            "padding": null,
            "right": null,
            "top": null,
            "visibility": null,
            "width": null
          }
        },
        "4df5e5ea19394c269eb509d4eddfadd3": {
          "model_module": "@jupyter-widgets/controls",
          "model_module_version": "1.5.0",
          "model_name": "ProgressStyleModel",
          "state": {
            "_model_module": "@jupyter-widgets/controls",
            "_model_module_version": "1.5.0",
            "_model_name": "ProgressStyleModel",
            "_view_count": null,
            "_view_module": "@jupyter-widgets/base",
            "_view_module_version": "1.2.0",
            "_view_name": "StyleView",
            "bar_color": null,
            "description_width": ""
          }
        },
        "5ce0c9cf7abd42dd99d1cae90435db4a": {
          "model_module": "@jupyter-widgets/base",
          "model_module_version": "1.2.0",
          "model_name": "LayoutModel",
          "state": {
            "_model_module": "@jupyter-widgets/base",
            "_model_module_version": "1.2.0",
            "_model_name": "LayoutModel",
            "_view_count": null,
            "_view_module": "@jupyter-widgets/base",
            "_view_module_version": "1.2.0",
            "_view_name": "LayoutView",
            "align_content": null,
            "align_items": null,
            "align_self": null,
            "border": null,
            "bottom": null,
            "display": null,
            "flex": null,
            "flex_flow": null,
            "grid_area": null,
            "grid_auto_columns": null,
            "grid_auto_flow": null,
            "grid_auto_rows": null,
            "grid_column": null,
            "grid_gap": null,
            "grid_row": null,
            "grid_template_areas": null,
            "grid_template_columns": null,
            "grid_template_rows": null,
            "height": null,
            "justify_content": null,
            "justify_items": null,
            "left": null,
            "margin": null,
            "max_height": null,
            "max_width": null,
            "min_height": null,
            "min_width": null,
            "object_fit": null,
            "object_position": null,
            "order": null,
            "overflow": null,
            "overflow_x": null,
            "overflow_y": null,
            "padding": null,
            "right": null,
            "top": null,
            "visibility": null,
            "width": null
          }
        },
        "7ab6ea6bd80f4dd989a8601002fd8f27": {
          "model_module": "@jupyter-widgets/controls",
          "model_module_version": "1.5.0",
          "model_name": "HBoxModel",
          "state": {
            "_dom_classes": [],
            "_model_module": "@jupyter-widgets/controls",
            "_model_module_version": "1.5.0",
            "_model_name": "HBoxModel",
            "_view_count": null,
            "_view_module": "@jupyter-widgets/controls",
            "_view_module_version": "1.5.0",
            "_view_name": "HBoxView",
            "box_style": "",
            "children": [
              "IPY_MODEL_19d0f55f469e410398c93728bc8b2590",
              "IPY_MODEL_83e5b799511f48d9bb002e219788c6e9",
              "IPY_MODEL_d627843f6a4c4f579b708abb1fe08094"
            ],
            "layout": "IPY_MODEL_476af8635fb64fd39689a43e610b87dc"
          }
        },
        "83e5b799511f48d9bb002e219788c6e9": {
          "model_module": "@jupyter-widgets/controls",
          "model_module_version": "1.5.0",
          "model_name": "FloatProgressModel",
          "state": {
            "_dom_classes": [],
            "_model_module": "@jupyter-widgets/controls",
            "_model_module_version": "1.5.0",
            "_model_name": "FloatProgressModel",
            "_view_count": null,
            "_view_module": "@jupyter-widgets/controls",
            "_view_module_version": "1.5.0",
            "_view_name": "ProgressView",
            "bar_style": "success",
            "description": "",
            "description_tooltip": null,
            "layout": "IPY_MODEL_b48e603ba68b4fb88743c3298a5a9e0a",
            "max": 70000,
            "min": 0,
            "orientation": "horizontal",
            "style": "IPY_MODEL_4df5e5ea19394c269eb509d4eddfadd3",
            "value": 70000
          }
        },
        "a18f2f7919b84910a42e7fb568bf3a06": {
          "model_module": "@jupyter-widgets/controls",
          "model_module_version": "1.5.0",
          "model_name": "DescriptionStyleModel",
          "state": {
            "_model_module": "@jupyter-widgets/controls",
            "_model_module_version": "1.5.0",
            "_model_name": "DescriptionStyleModel",
            "_view_count": null,
            "_view_module": "@jupyter-widgets/base",
            "_view_module_version": "1.2.0",
            "_view_name": "StyleView",
            "description_width": ""
          }
        },
        "a577602b1672462ab01e1a10750c8f31": {
          "model_module": "@jupyter-widgets/base",
          "model_module_version": "1.2.0",
          "model_name": "LayoutModel",
          "state": {
            "_model_module": "@jupyter-widgets/base",
            "_model_module_version": "1.2.0",
            "_model_name": "LayoutModel",
            "_view_count": null,
            "_view_module": "@jupyter-widgets/base",
            "_view_module_version": "1.2.0",
            "_view_name": "LayoutView",
            "align_content": null,
            "align_items": null,
            "align_self": null,
            "border": null,
            "bottom": null,
            "display": null,
            "flex": null,
            "flex_flow": null,
            "grid_area": null,
            "grid_auto_columns": null,
            "grid_auto_flow": null,
            "grid_auto_rows": null,
            "grid_column": null,
            "grid_gap": null,
            "grid_row": null,
            "grid_template_areas": null,
            "grid_template_columns": null,
            "grid_template_rows": null,
            "height": null,
            "justify_content": null,
            "justify_items": null,
            "left": null,
            "margin": null,
            "max_height": null,
            "max_width": null,
            "min_height": null,
            "min_width": null,
            "object_fit": null,
            "object_position": null,
            "order": null,
            "overflow": null,
            "overflow_x": null,
            "overflow_y": null,
            "padding": null,
            "right": null,
            "top": null,
            "visibility": null,
            "width": null
          }
        },
        "b48e603ba68b4fb88743c3298a5a9e0a": {
          "model_module": "@jupyter-widgets/base",
          "model_module_version": "1.2.0",
          "model_name": "LayoutModel",
          "state": {
            "_model_module": "@jupyter-widgets/base",
            "_model_module_version": "1.2.0",
            "_model_name": "LayoutModel",
            "_view_count": null,
            "_view_module": "@jupyter-widgets/base",
            "_view_module_version": "1.2.0",
            "_view_name": "LayoutView",
            "align_content": null,
            "align_items": null,
            "align_self": null,
            "border": null,
            "bottom": null,
            "display": null,
            "flex": null,
            "flex_flow": null,
            "grid_area": null,
            "grid_auto_columns": null,
            "grid_auto_flow": null,
            "grid_auto_rows": null,
            "grid_column": null,
            "grid_gap": null,
            "grid_row": null,
            "grid_template_areas": null,
            "grid_template_columns": null,
            "grid_template_rows": null,
            "height": null,
            "justify_content": null,
            "justify_items": null,
            "left": null,
            "margin": null,
            "max_height": null,
            "max_width": null,
            "min_height": null,
            "min_width": null,
            "object_fit": null,
            "object_position": null,
            "order": null,
            "overflow": null,
            "overflow_x": null,
            "overflow_y": null,
            "padding": null,
            "right": null,
            "top": null,
            "visibility": null,
            "width": null
          }
        },
        "d627843f6a4c4f579b708abb1fe08094": {
          "model_module": "@jupyter-widgets/controls",
          "model_module_version": "1.5.0",
          "model_name": "HTMLModel",
          "state": {
            "_dom_classes": [],
            "_model_module": "@jupyter-widgets/controls",
            "_model_module_version": "1.5.0",
            "_model_name": "HTMLModel",
            "_view_count": null,
            "_view_module": "@jupyter-widgets/controls",
            "_view_module_version": "1.5.0",
            "_view_name": "HTMLView",
            "description": "",
            "description_tooltip": null,
            "layout": "IPY_MODEL_5ce0c9cf7abd42dd99d1cae90435db4a",
            "placeholder": "​",
            "style": "IPY_MODEL_a18f2f7919b84910a42e7fb568bf3a06",
            "value": " 70000/70000 [00:16&lt;00:00, 4411.14 examples/s]"
          }
        },
        "dc967d0df2004ef4b13a33bf8140debc": {
          "model_module": "@jupyter-widgets/controls",
          "model_module_version": "1.5.0",
          "model_name": "DescriptionStyleModel",
          "state": {
            "_model_module": "@jupyter-widgets/controls",
            "_model_module_version": "1.5.0",
            "_model_name": "DescriptionStyleModel",
            "_view_count": null,
            "_view_module": "@jupyter-widgets/base",
            "_view_module_version": "1.2.0",
            "_view_name": "StyleView",
            "description_width": ""
          }
        }
      }
    }
  },
  "nbformat": 4,
  "nbformat_minor": 0
}
