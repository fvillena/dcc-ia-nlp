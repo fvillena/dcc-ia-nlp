{
 "cells": [
  {
   "cell_type": "markdown",
   "metadata": {
    "id": "GWM5IugWi5ZV"
   },
   "source": [
    "# WorkShop: Text Analysis II\n",
    "\n",
    "\n",
    "## 📚 Objetivos del Taller 📚\n",
    "\n",
    "- Explicar el problema de la representación Bag of Words.\n",
    "- Motivación y repaso de qué son los Word Embeddings.\n",
    "- Explicación de Word2Vec.\n",
    "- Entrenar nuestros propios `word embeddings` usando un dataset con fuentes de noticias de diversos medios. 💪\n",
    "- Utilizaremos estos embeddings pre-entrenados para mejorar la capacidad de nuestros modelos en tareas nuevas y en la resuelta en el auxiliar pasado.\n",
    "- Conocer los `contextualized word embeddings` a través de `BETO`."
   ]
  },
  {
   "cell_type": "markdown",
   "metadata": {
    "id": "e8e-9vzuizLe"
   },
   "source": [
    "## **Motivación**\n",
    "\n",
    "Partamos por decir que una red neuronal no es más que una serie de operaciones matemáticas sobre vectores con una gran cantidad de dimensiones (tensores). Por ende, si queremos entrenar un modelo necesitamos transformar el texto original a vectores numéricos.\n",
    "\n",
    "Una de las soluciones más simples a este problema es la representación de Bag of Words (BoW). Si aplicamos este método a cada palabra de cada documento, tendremos un vector one hot encoding por cada palabra. Esto quiere decir que tendremos vectores del largo del vocabulario $V$, con un 1 en la posición asociada a la palabra representada.\n",
    "\n",
    "Y estamos listos? Podemos entrenar redes neuronales?\n",
    "\n",
    "La verdad es que no es así, y es que estamos ignorando un gran problema con este enfoque. 😞\n",
    "\n",
    "\n",
    "### El gran problema de Bag of Words\n",
    "\n",
    "Pensemos en estas 3 frases como documentos:\n",
    "\n",
    "- $doc_1$: `¡Buenísima la marraqueta!`\n",
    "- $doc_2$: `¡Estuvo espectacular ese pan francés!`\n",
    "- $doc_3$: `!Buenísima esa pintura!`\n",
    "\n",
    "Sabemos $doc_1$ y $doc_2$ hablan de lo mismo 🍞🍞👌 y que $doc_3$ 🎨 no tiene mucho que ver con los otros.\n",
    "\n",
    "Supongamos que queremos ver que tan similares son ambos documentos.\n",
    "Para esto, generamos un modelo `Bag of Words` sobre el documento, aplicando este método por cada palabra para luego tener la representación final.\n",
    "\n",
    "\n",
    "Es decir, transformamos cada palabra a un vector one-hot y luego los sumamos por documento.\n",
    "\n",
    "Por simplicidad, omitiremos algunas stopwords y consideramos pan frances como un solo token. Así nos quedaría el siguiente vocabulario:\n",
    "\n",
    "$$v = \\{buenísima, marraqueta, estuvo, espectacular, pan\\ francés, pintura\\}$$\n",
    "\n",
    "Entonces, el $\\vec{doc_1}$ quedará:\n",
    "\n",
    "$$\\begin{bmatrix}1 \\\\ 0 \\\\ 0 \\\\ 0 \\\\ 0\\\\ 0\\end{bmatrix} +\n",
    "  \\begin{bmatrix}0 \\\\ 1 \\\\ 0 \\\\ 0 \\\\ 0\\\\ 0\\end{bmatrix} =\n",
    "  \\begin{bmatrix}1 \\\\ 1 \\\\ 0 \\\\ 0 \\\\ 0\\\\ 0\\end{bmatrix}$$\n",
    "\n",
    "El $\\vec{doc_2}$ quedará:\n",
    "\n",
    "$$\\begin{bmatrix}0 \\\\ 0 \\\\ 1 \\\\ 0 \\\\ 0\\\\ 0\\end{bmatrix} +\n",
    "  \\begin{bmatrix}0 \\\\ 0 \\\\ 0 \\\\ 1 \\\\ 0\\\\ 0\\end{bmatrix} +\n",
    "  \\begin{bmatrix}0 \\\\ 0 \\\\ 0 \\\\ 0 \\\\ 1\\\\ 0\\end{bmatrix} =\n",
    "  \\begin{bmatrix}0 \\\\ 0 \\\\ 1 \\\\ 1 \\\\ 1\\\\ 0\\end{bmatrix}$$\n",
    "\n",
    "Y el $\\vec{doc_3}$:\n",
    "\n",
    "$$\\begin{bmatrix}1 \\\\ 0 \\\\ 0 \\\\ 0 \\\\ 0\\\\ 0\\end{bmatrix} +\n",
    "  \\begin{bmatrix}0 \\\\ 0 \\\\ 0 \\\\ 0 \\\\ 0\\\\ 1\\end{bmatrix} =\n",
    "  \\begin{bmatrix}1 \\\\ 0 \\\\ 0 \\\\ 0 \\\\ 0\\\\ 1\\end{bmatrix}$$\n",
    "\n",
    "\n",
    "\n",
    "**¿Cuál es el problema?**\n",
    "\n",
    "`buenísima` $\\begin{bmatrix}1 \\\\ 0 \\\\ 0 \\\\ 0 \\\\ 0 \\\\0\\end{bmatrix}$ y `espectacular` $ \\begin{bmatrix}0 \\\\ 0 \\\\ 0 \\\\ 1 \\\\ 0 \\\\ 0\\end{bmatrix}$ representan ideas muy similares. Por otra parte, sabemos que `marraqueta` $\\begin{bmatrix}0 \\\\ 1 \\\\ 0 \\\\ 0 \\\\ 0 \\\\0\\end{bmatrix}$ y `pan francés` $\\begin{bmatrix}0 \\\\ 0 \\\\ 0 \\\\ 0 \\\\ 1 \\\\0\\end{bmatrix}$ se refieren al mismo objeto. Pero en este modelo, estos **son totalmente distintos**. Es decir, los vectores de las palabras que `buenísima` y `espectacular` son tan distintas como `marraqueta` y `pan francés`. Esto se debe a que cada palabra ocupa una dimensión distinta a las demás y son completamente independientes. Esto evidentemente, repercute en la calidad de los modelos que creamos a partir de nuestro Bag of Words.\n",
    "\n",
    "![BoW](https://raw.githubusercontent.com/dccuchile/CC6205/master/tutorials/recursos/BoW-Problem.png)\n",
    "\n"
   ]
  },
  {
   "cell_type": "markdown",
   "metadata": {
    "id": "tlJ6GZe0eUNH"
   },
   "source": [
    "Ahora, si queremos ver que documento es mas similar a otro usando distancia euclidiana, veremos que:\n",
    "\n",
    "$$d(doc_1, doc_2) = 2.236$$\n",
    "$$d(doc_1, doc_3) = 1.414$$\n",
    "\n",
    "Es decir, $doc_1$ se parece mas a $doc_3$ aunque nosotros sabemos que $doc_1$ y $doc_2$ nos están diciendo lo mismo!\n",
    "\n",
    "\n",
    "Nos gustaría que eso no sucediera. Que existiera algún método que nos permitiera hacer que palabras similares tengan representaciones similares. Y que con estas, representemos mejor a los documentos, sin asumir que en el espacio son geométricamente equidistantes, ya que esto no es verdad en la vida real.\n",
    "\n",
    "\n",
    "--------------------"
   ]
  },
  {
   "cell_type": "markdown",
   "metadata": {
    "id": "SjpL3pfplg0B"
   },
   "source": [
    "## **Hipótesis Distribucional**\n",
    "\n",
    "Estamos buscando algún enfoque que nos permita representar las palabras de forma no aislada, si no como algo que además capture el significado de esta.\n",
    "\n",
    "Pensemos un poco en la **hipótesis distribucional**. Esta plantea que:\n",
    "\n",
    "    \"Palabras que ocurren en contextos iguales tienden a tener significados similares.\"\n",
    "\n",
    "O equivalentemente,\n",
    "\n",
    "    \"Una palabra es caracterizada por la compañía que esta lleva.\"\n",
    "\n",
    "Esto nos puede hacer pensar que podríamos usar los contextos de las palabras para generar vectores que describan mejor dichas palabras: en otras palabras, los `Distributional Vectors`.\n",
    "\n",
    "Por ejemplo, complete la siguiente frase:\n",
    "\n",
    "Pintaré la muralla de mi casa de color _____\n",
    "\n",
    "Puede ser rojo, blanco, mostaza, etc..\n",
    "\n",
    "Son palabras que a uno se les viene a la mente sólo mirando el contexto entregado, por ende podríamos decir que esas son palabras similares, o al menos muy distintas a Murciélago.\n"
   ]
  },
  {
   "cell_type": "markdown",
   "metadata": {
    "id": "AJ3Y_C-6ltRn"
   },
   "source": [
    "### Opción 1: Word-Context Matrix\n",
    "\n",
    "Es una matriz donde cada celda $(i,j)$ representa la co-ocurrencia entre una palabra objetivo/centro $w_i$ y un contexto $c_j$. El contexto son las palabras dentro de ventana de tamaño $k$ que rodean la palabra central.\n",
    "\n",
    "Cada fila representa a una palabra a través de su contexto. Como pueden ver, ya no es un vector one-hot, si no que ahora contiene mayor información.\n",
    "\n",
    "El tamaño de la matriz es el tamaño del vocabulario $V$ al cuadrado. Es decir $|V|*|V|$.\n",
    "\n",
    "<img src=\"https://raw.githubusercontent.com/dccuchile/CC6205/master/slides/pics/distributionalSocher.png\" alt=\"Word-context matrices\" style=\"width: 400px;\"/>\n",
    "\n",
    "\n",
    "**Problema: Creada a partir de un corpus respetable, es gigantezca**.\n",
    "\n",
    "Por ejemplo, para $|v| = 100.000$, la matriz tendrá $\\frac{100000 * 100000 * 4}{10^9} = 40gb $. (Recordando que un entero ocupara 4 bytes)\n",
    "\n",
    "- Es caro mantenerla en memoria\n",
    "- Los clasificadores no funcionan tan bien con tantas dimensiones (ver [maldición de la dimensionalidad](https://es.wikipedia.org/wiki/Maldici%C3%B3n_de_la_dimensi%C3%B3n)).\n",
    "\n",
    "**¿Habrá una mejor solución?**\n",
    "\n",
    "---------------------"
   ]
  },
  {
   "cell_type": "markdown",
   "metadata": {
    "id": "jxB0APe3S5b2"
   },
   "source": [
    "### **Word Embeddings**\n",
    "\n",
    "Es una de las representaciones más populares del vocabulario de un corpus. La idea principal de los Word Embeddings es crear representaciones vectoriales densas y de baja dimensionalidad $(d << |V|)$ de las palabras a partir de su contexto.\n",
    "\n",
    "Volvamos a nuestro ejemplo anterior: `buenísima` y `espectacular` ocurren muchas veces en el mismo contexto, por lo que los embeddings que los representan debiesen ser muy similares... (*ejemplos de mentira hechos a mano*):\n",
    "\n",
    "`buenísima` $\\begin{bmatrix}0.32 \\\\ 0.44 \\\\ 0.92 \\\\ .001 \\end{bmatrix}$ y `espectacular` $\\begin{bmatrix}0.30 \\\\ 0.50 \\\\ 0.92 \\\\ .002 \\end{bmatrix}$ versus `marraqueta`  $\\begin{bmatrix}0.77 \\\\ 0.99 \\\\ 0.004 \\\\ .1 \\end{bmatrix}$ el cuál es claramente distinto.\n",
    "\n",
    "\n",
    "Pero, ¿Cuál es la utilidad de de crear estos vectores en NLP o en el área de Machine Learning en general?\n",
    "\n",
    "Supongamos que tienen una enfermedad grave y deben ser operados el día de mañana. Le dan a elegir entre ser operados por un estudiante de primer año de medicina con algo de conocimiento médico o bien ser operados por un niño de 5 años 👶. ¿A quién elegirías?\n",
    "\n",
    "Espero que tu opción haya sido el estudiante con una pequeña noción de los términos médicos implicados en una intervención así. Algo así es lo que se quiso lograr en el [paper](https://arxiv.org/abs/1301.3781) presentado por Mikolov en 2013, aludiendo a la herramienta **Word2Vec**. La idea es que si quieres resolver por ejemplo una tarea de clasificación de texto, ¿no sería útil utilizar el conocimiento de algún modelo pre-entrenado en una tarea similar de texto?. Claro, sería útil partir con los pesos entrenados por otra red, realizando lo que se llama **transfer learning**.\n",
    "\n",
    "Ya pero.. ¿Cómo generamos estos vectores? ¿Cómo podemos capturar el contexto? ¿Cuál sería esa task auxiliar a utilizar?\n",
    "\n"
   ]
  },
  {
   "cell_type": "markdown",
   "metadata": {
    "id": "VBGzM6DvGWTk"
   },
   "source": [
    "##### **Word2vec y Skip-gram**\n",
    "\n",
    "Word2Vec es probablemente el paquete de software mas famoso para crear word embeddings utilizando distintos modelos que emplean redes neuronales *shallow* o poco profundas.\n",
    "\n",
    "Este nos provee herramientas para crear distintos tipos de modelos, tales como `Skip-Gram` y `Continuous Bag of Word (CBOW)`. En este caso, solo veremos `Skip-Gram`.\n",
    "\n",
    "**Skip-gram** es una task auxiliar con la que crearemos nuestros embeddings. Esta tarea involucra tanto a las palabras y al contexto de ellas. Consiste en que por cada palabra del dataset, debemos predecir las palabras de su contexto (las palabras presentes en ventana de algún tamaño $k$).\n",
    "\n",
    "![Overview](https://raw.githubusercontent.com/dccuchile/CC6205/master/tutorials/recursos/overview-skipgram.png)\n",
    "\n",
    "Para resolverla, usaremos una red de una sola capa oculta. Los pesos ya entrenados de esta capa serán los que usaremos como embeddings.\n",
    "\n",
    "#### Detalles del Modelo\n",
    "\n",
    "- Como dijimos, el modelo será una red de una sola capa. La capa oculta tendrá una dimensión $d$ la cual nosotros determinaremos. Esta capa no tendrá función de activación. Sin embargo, la de salida si, la cual será una softmax para obtener las distribuciones de probabilidades y así ver cuáles palabras pertenecen o no al contexto.\n",
    "\n",
    "- El vector de entrada, de tamaño $|V|$, será un vector one-hot de la palabra que estemos viendo en ese momento.\n",
    "\n",
    "- La salida, también de tamaño $|V|$, será un vector que contenga la distribución de probabilidad de que cada palabra del vocabulario pertenezca al contexto de la palabra de entrada.\n",
    "\n",
    "- Al entrenar, se comparará la distribución de los contextos con la suma de los vectores one-hot del contexto real.\n",
    "\n",
    "\n",
    "(marraqueta, Estuvo), (marraqueta, buenisima), (marraqueta, la)\n",
    "![Skip Gram](https://raw.githubusercontent.com/dccuchile/CC6205/master/tutorials/recursos/Skip-gram.png)\n",
    "\n",
    "\n",
    "Nota: Esto es computacionalmente una locura. Por cada palabra de entrada, debemos calcular la probabilidad de aparición de todas las otras. Imaginen el caso de un vocabulario de 100.000 de palabras y de 10000000 oraciones...\n",
    "\n",
    "La solución a esto es modificar la task a *Negative Sampling*. Esta transforma este problema de $|V|$ clases a uno binario.\n",
    "\n",
    "### La capa Oculta y los Embeddings\n",
    "\n",
    "Al terminar el entrenamiento, ¿Qué nos queda en la capa oculta?\n",
    "\n",
    "Una matriz de $v$ filas por $d$ columnas, la cual contiene lo que buscabamos: Una representación continua de todas las palabras de nuestro vocabulario.  \n",
    "\n",
    "**Cada fila de la matriz es un vector que contiene la representación continua una palabra del vocabulario.**\n",
    "\n",
    "\n",
    "<img src=\"http://mccormickml.com/assets/word2vec/word2vec_weight_matrix_lookup_table.png\" alt=\"Capa Oculta 1\" style=\"width: 400px;\"/>\n",
    "\n",
    "¿Cómo la usamos eficientemente?\n",
    "\n",
    "Simple: usamos los mismos vectores one-hot de la entrada y las multiplicamos por la matriz:\n",
    "\n",
    "<img src=\"http://mccormickml.com/assets/word2vec/matrix_mult_w_one_hot.png\" alt=\"Skip Gram\" style=\"width: 400px;\"/>\n",
    "\n",
    "### Visualización\n",
    "\n",
    "Veamos cómo se ven los embeddings de Word2Vec entrenados sobre un corpus gigante en Inglés. Para facilitar el análisis se reducen las 200 dimensiones a 3. El link a la visualización es el siguiente: Visualización: https://projector.tensorflow.org/\n",
    "\n",
    "### Espacio multidimensional\n",
    "\n",
    "Teniendo nuestro embeddings entonces podríamos hacer operaciones tan interesantes como las siguientes:\n",
    "\n",
    "Manzana + Púrpura -> Ciruela\n",
    "\n",
    "Rey - Hombre + Mujer -> Reina\n",
    "\n",
    "Si bien no es posible obtener exactamente dichos vectores, esperaríamos que las palabras más cercanas al vector resultante serían las entregadas, obteniendo así un significado de las palabras según su contexto.\n",
    "\n",
    "\n",
    "### Fuentes\n",
    "\n",
    "Word2vec:\n",
    "- mccormickml.com/2016/04/19/word2vec-tutorial-the-skip-gram-model/\n",
    "- https://towardsdatascience.com/introduction-to-word-embedding-and-word2vec-652d0c2060fa\n",
    "\n",
    "Gensim:\n",
    "- https://www.kaggle.com/pierremegret/gensim-word2vec-tutorial\n",
    "\n",
    "Nota: Las últimas 2 imagenes pertenecen a [Chris McCormick](http://mccormickml.com/about/)\n"
   ]
  },
  {
   "cell_type": "code",
   "execution_count": null,
   "metadata": {
    "id": "BFjukOXkzrYt"
   },
   "outputs": [],
   "source": [
    "# Contextualized word embeddings: BERT, ELMO, FLAIR.\n",
    "\n",
    "x = 'El banco estaba lleno.'\n",
    "y = 'El banco de sangre necesita personal.'"
   ]
  },
  {
   "cell_type": "markdown",
   "metadata": {
    "id": "C7cUyx_-SQHi"
   },
   "source": [
    "## **Entrenar nuestros Embeddings**\n",
    "\n",
    "Para entrenar nuestros embeddings, usaremos el paquete gensim. Este trae una muy buena implementación de `word2vec`.\n",
    "\n",
    "\n"
   ]
  },
  {
   "cell_type": "code",
   "execution_count": null,
   "metadata": {
    "ExecuteTime": {
     "end_time": "2020-05-17T20:26:56.028758Z",
     "start_time": "2020-05-17T20:26:52.011925Z"
    },
    "id": "WsA-mAO-SQHi"
   },
   "outputs": [],
   "source": [
    "import re\n",
    "import pandas as pd\n",
    "from time import time\n",
    "from collections import defaultdict\n",
    "import string\n",
    "import multiprocessing\n",
    "import os\n",
    "import requests\n",
    "import numpy as np\n",
    "\n",
    "# word2vec\n",
    "from gensim.models import Word2Vec, KeyedVectors\n",
    "from gensim.models.phrases import Phrases, Phraser\n",
    "\n",
    "import logging  # Setting up the loggings to monitor gensim\n",
    "logging.basicConfig(format=\"%(levelname)s - %(asctime)s: %(message)s\", datefmt= '%H:%M:%S', level=logging.INFO)\n",
    "\n",
    "# scikit-learn\n",
    "from sklearn.manifold import TSNE\n",
    "from sklearn.linear_model import LogisticRegression\n",
    "from sklearn.model_selection import train_test_split\n",
    "from sklearn.metrics import classification_report\n",
    "from sklearn.pipeline import Pipeline, FeatureUnion\n",
    "from sklearn.feature_extraction.text import CountVectorizer\n",
    "from sklearn.metrics import confusion_matrix\n",
    "from sklearn.utils.multiclass import unique_labels\n",
    "from sklearn.decomposition import PCA\n",
    "from sklearn.base import BaseEstimator, TransformerMixin\n",
    "\n",
    "# visualizaciones\n",
    "import matplotlib.pyplot as plt\n",
    "import plotly.express as px\n",
    "import plotly.graph_objects as go\n",
    "from ipywidgets import widgets"
   ]
  },
  {
   "cell_type": "markdown",
   "metadata": {
    "id": "fcbzFpYSSQHj"
   },
   "source": [
    "### Cargar el dataset y limpiar\n",
    "\n",
    "Utilizaremos un datos de diversas fuentes de noticias que cuenta con tres atributos principales:\n",
    "\n",
    "* texto: Referente al texto de la noticia.\n",
    "* medio: Referente al medio de la noticia.\n",
    "* fecha: Referente a la fecha de publicación."
   ]
  },
  {
   "cell_type": "code",
   "execution_count": null,
   "metadata": {
    "id": "kDOyxxnz2WKp"
   },
   "outputs": [],
   "source": []
  },
  {
   "cell_type": "code",
   "execution_count": null,
   "metadata": {
    "id": "G7tDAILPRDfi"
   },
   "outputs": [],
   "source": [
    "dataset = pd.read_csv('https://raw.githubusercontent.com/giturra/JCC2023-WE/main/noticias_oct_dic_2019.tsv', sep='\\t')"
   ]
  },
  {
   "cell_type": "code",
   "execution_count": null,
   "metadata": {
    "colab": {
     "base_uri": "https://localhost:8080/",
     "height": 206
    },
    "executionInfo": {
     "elapsed": 353,
     "status": "ok",
     "timestamp": 1689352815042,
     "user": {
      "displayName": "Gabriel Iturra-Bocaz",
      "userId": "02319919045117626989"
     },
     "user_tz": 240
    },
    "id": "v6A2h_g4RWLh",
    "outputId": "dbff4761-c2c7-4b23-fc25-ad3971092867"
   },
   "outputs": [
    {
     "data": {
      "text/html": [
       "\n",
       "\n",
       "  <div id=\"df-2a8bbcf4-44e9-4be3-840f-87e1352ed312\">\n",
       "    <div class=\"colab-df-container\">\n",
       "      <div>\n",
       "<style scoped>\n",
       "    .dataframe tbody tr th:only-of-type {\n",
       "        vertical-align: middle;\n",
       "    }\n",
       "\n",
       "    .dataframe tbody tr th {\n",
       "        vertical-align: top;\n",
       "    }\n",
       "\n",
       "    .dataframe thead th {\n",
       "        text-align: right;\n",
       "    }\n",
       "</style>\n",
       "<table border=\"1\" class=\"dataframe\">\n",
       "  <thead>\n",
       "    <tr style=\"text-align: right;\">\n",
       "      <th></th>\n",
       "      <th>texto</th>\n",
       "      <th>medio</th>\n",
       "      <th>fecha</th>\n",
       "    </tr>\n",
       "  </thead>\n",
       "  <tbody>\n",
       "    <tr>\n",
       "      <th>0</th>\n",
       "      <td>Rey de Tailandia despoja de títulos a su conso...</td>\n",
       "      <td>El Mercurio</td>\n",
       "      <td>2019-10-21 14:51:00</td>\n",
       "    </tr>\n",
       "    <tr>\n",
       "      <th>1</th>\n",
       "      <td>Denuncian que personas con epilepsia sufrieron...</td>\n",
       "      <td>El Mercurio</td>\n",
       "      <td>2019-12-18 12:12:00</td>\n",
       "    </tr>\n",
       "    <tr>\n",
       "      <th>2</th>\n",
       "      <td>Índice victimización de hogares en el país suf...</td>\n",
       "      <td>El Mercurio</td>\n",
       "      <td>2019-10-15 09:58:00</td>\n",
       "    </tr>\n",
       "    <tr>\n",
       "      <th>3</th>\n",
       "      <td>Meditación, cocina, jardinería, manualidades: ...</td>\n",
       "      <td>El Mercurio</td>\n",
       "      <td>2019-11-16 16:42:00</td>\n",
       "    </tr>\n",
       "    <tr>\n",
       "      <th>4</th>\n",
       "      <td>Director de empresa que procesa datos electora...</td>\n",
       "      <td>El Mercurio</td>\n",
       "      <td>2019-11-01 05:25:00</td>\n",
       "    </tr>\n",
       "  </tbody>\n",
       "</table>\n",
       "</div>\n",
       "      <button class=\"colab-df-convert\" onclick=\"convertToInteractive('df-2a8bbcf4-44e9-4be3-840f-87e1352ed312')\"\n",
       "              title=\"Convert this dataframe to an interactive table.\"\n",
       "              style=\"display:none;\">\n",
       "\n",
       "  <svg xmlns=\"http://www.w3.org/2000/svg\" height=\"24px\"viewBox=\"0 0 24 24\"\n",
       "       width=\"24px\">\n",
       "    <path d=\"M0 0h24v24H0V0z\" fill=\"none\"/>\n",
       "    <path d=\"M18.56 5.44l.94 2.06.94-2.06 2.06-.94-2.06-.94-.94-2.06-.94 2.06-2.06.94zm-11 1L8.5 8.5l.94-2.06 2.06-.94-2.06-.94L8.5 2.5l-.94 2.06-2.06.94zm10 10l.94 2.06.94-2.06 2.06-.94-2.06-.94-.94-2.06-.94 2.06-2.06.94z\"/><path d=\"M17.41 7.96l-1.37-1.37c-.4-.4-.92-.59-1.43-.59-.52 0-1.04.2-1.43.59L10.3 9.45l-7.72 7.72c-.78.78-.78 2.05 0 2.83L4 21.41c.39.39.9.59 1.41.59.51 0 1.02-.2 1.41-.59l7.78-7.78 2.81-2.81c.8-.78.8-2.07 0-2.86zM5.41 20L4 18.59l7.72-7.72 1.47 1.35L5.41 20z\"/>\n",
       "  </svg>\n",
       "      </button>\n",
       "\n",
       "\n",
       "\n",
       "    <div id=\"df-c0c1c6fe-cf7f-4b1f-86b4-113f60e317d3\">\n",
       "      <button class=\"colab-df-quickchart\" onclick=\"quickchart('df-c0c1c6fe-cf7f-4b1f-86b4-113f60e317d3')\"\n",
       "              title=\"Suggest charts.\"\n",
       "              style=\"display:none;\">\n",
       "\n",
       "<svg xmlns=\"http://www.w3.org/2000/svg\" height=\"24px\"viewBox=\"0 0 24 24\"\n",
       "     width=\"24px\">\n",
       "    <g>\n",
       "        <path d=\"M19 3H5c-1.1 0-2 .9-2 2v14c0 1.1.9 2 2 2h14c1.1 0 2-.9 2-2V5c0-1.1-.9-2-2-2zM9 17H7v-7h2v7zm4 0h-2V7h2v10zm4 0h-2v-4h2v4z\"/>\n",
       "    </g>\n",
       "</svg>\n",
       "      </button>\n",
       "    </div>\n",
       "\n",
       "<style>\n",
       "  .colab-df-quickchart {\n",
       "    background-color: #E8F0FE;\n",
       "    border: none;\n",
       "    border-radius: 50%;\n",
       "    cursor: pointer;\n",
       "    display: none;\n",
       "    fill: #1967D2;\n",
       "    height: 32px;\n",
       "    padding: 0 0 0 0;\n",
       "    width: 32px;\n",
       "  }\n",
       "\n",
       "  .colab-df-quickchart:hover {\n",
       "    background-color: #E2EBFA;\n",
       "    box-shadow: 0px 1px 2px rgba(60, 64, 67, 0.3), 0px 1px 3px 1px rgba(60, 64, 67, 0.15);\n",
       "    fill: #174EA6;\n",
       "  }\n",
       "\n",
       "  [theme=dark] .colab-df-quickchart {\n",
       "    background-color: #3B4455;\n",
       "    fill: #D2E3FC;\n",
       "  }\n",
       "\n",
       "  [theme=dark] .colab-df-quickchart:hover {\n",
       "    background-color: #434B5C;\n",
       "    box-shadow: 0px 1px 3px 1px rgba(0, 0, 0, 0.15);\n",
       "    filter: drop-shadow(0px 1px 2px rgba(0, 0, 0, 0.3));\n",
       "    fill: #FFFFFF;\n",
       "  }\n",
       "</style>\n",
       "\n",
       "    <script>\n",
       "      async function quickchart(key) {\n",
       "        const containerElement = document.querySelector('#' + key);\n",
       "        const charts = await google.colab.kernel.invokeFunction(\n",
       "            'suggestCharts', [key], {});\n",
       "      }\n",
       "    </script>\n",
       "\n",
       "      <script>\n",
       "\n",
       "function displayQuickchartButton(domScope) {\n",
       "  let quickchartButtonEl =\n",
       "    domScope.querySelector('#df-c0c1c6fe-cf7f-4b1f-86b4-113f60e317d3 button.colab-df-quickchart');\n",
       "  quickchartButtonEl.style.display =\n",
       "    google.colab.kernel.accessAllowed ? 'block' : 'none';\n",
       "}\n",
       "\n",
       "        displayQuickchartButton(document);\n",
       "      </script>\n",
       "      <style>\n",
       "    .colab-df-container {\n",
       "      display:flex;\n",
       "      flex-wrap:wrap;\n",
       "      gap: 12px;\n",
       "    }\n",
       "\n",
       "    .colab-df-convert {\n",
       "      background-color: #E8F0FE;\n",
       "      border: none;\n",
       "      border-radius: 50%;\n",
       "      cursor: pointer;\n",
       "      display: none;\n",
       "      fill: #1967D2;\n",
       "      height: 32px;\n",
       "      padding: 0 0 0 0;\n",
       "      width: 32px;\n",
       "    }\n",
       "\n",
       "    .colab-df-convert:hover {\n",
       "      background-color: #E2EBFA;\n",
       "      box-shadow: 0px 1px 2px rgba(60, 64, 67, 0.3), 0px 1px 3px 1px rgba(60, 64, 67, 0.15);\n",
       "      fill: #174EA6;\n",
       "    }\n",
       "\n",
       "    [theme=dark] .colab-df-convert {\n",
       "      background-color: #3B4455;\n",
       "      fill: #D2E3FC;\n",
       "    }\n",
       "\n",
       "    [theme=dark] .colab-df-convert:hover {\n",
       "      background-color: #434B5C;\n",
       "      box-shadow: 0px 1px 3px 1px rgba(0, 0, 0, 0.15);\n",
       "      filter: drop-shadow(0px 1px 2px rgba(0, 0, 0, 0.3));\n",
       "      fill: #FFFFFF;\n",
       "    }\n",
       "  </style>\n",
       "\n",
       "      <script>\n",
       "        const buttonEl =\n",
       "          document.querySelector('#df-2a8bbcf4-44e9-4be3-840f-87e1352ed312 button.colab-df-convert');\n",
       "        buttonEl.style.display =\n",
       "          google.colab.kernel.accessAllowed ? 'block' : 'none';\n",
       "\n",
       "        async function convertToInteractive(key) {\n",
       "          const element = document.querySelector('#df-2a8bbcf4-44e9-4be3-840f-87e1352ed312');\n",
       "          const dataTable =\n",
       "            await google.colab.kernel.invokeFunction('convertToInteractive',\n",
       "                                                     [key], {});\n",
       "          if (!dataTable) return;\n",
       "\n",
       "          const docLinkHtml = 'Like what you see? Visit the ' +\n",
       "            '<a target=\"_blank\" href=https://colab.research.google.com/notebooks/data_table.ipynb>data table notebook</a>'\n",
       "            + ' to learn more about interactive tables.';\n",
       "          element.innerHTML = '';\n",
       "          dataTable['output_type'] = 'display_data';\n",
       "          await google.colab.output.renderOutput(dataTable, element);\n",
       "          const docLink = document.createElement('div');\n",
       "          docLink.innerHTML = docLinkHtml;\n",
       "          element.appendChild(docLink);\n",
       "        }\n",
       "      </script>\n",
       "    </div>\n",
       "  </div>\n"
      ],
      "text/plain": [
       "                                               texto        medio  \\\n",
       "0  Rey de Tailandia despoja de títulos a su conso...  El Mercurio   \n",
       "1  Denuncian que personas con epilepsia sufrieron...  El Mercurio   \n",
       "2  Índice victimización de hogares en el país suf...  El Mercurio   \n",
       "3  Meditación, cocina, jardinería, manualidades: ...  El Mercurio   \n",
       "4  Director de empresa que procesa datos electora...  El Mercurio   \n",
       "\n",
       "                 fecha  \n",
       "0  2019-10-21 14:51:00  \n",
       "1  2019-12-18 12:12:00  \n",
       "2  2019-10-15 09:58:00  \n",
       "3  2019-11-16 16:42:00  \n",
       "4  2019-11-01 05:25:00  "
      ]
     },
     "execution_count": 11,
     "metadata": {},
     "output_type": "execute_result"
    }
   ],
   "source": [
    "dataset.head()"
   ]
  },
  {
   "cell_type": "code",
   "execution_count": null,
   "metadata": {
    "ExecuteTime": {
     "end_time": "2020-05-17T20:27:38.136649Z",
     "start_time": "2020-05-17T20:27:38.050830Z"
    },
    "id": "xEBQb14tSQHj"
   },
   "outputs": [],
   "source": [
    "# unir titulo con contenido de la noticia\n",
    "content = dataset['texto']"
   ]
  },
  {
   "cell_type": "code",
   "execution_count": null,
   "metadata": {
    "colab": {
     "base_uri": "https://localhost:8080/"
    },
    "executionInfo": {
     "elapsed": 398,
     "status": "ok",
     "timestamp": 1689352839492,
     "user": {
      "displayName": "Gabriel Iturra-Bocaz",
      "userId": "02319919045117626989"
     },
     "user_tz": 240
    },
    "id": "gkG6dS9V476U",
    "outputId": "75761828-d49c-48f0-a14c-d6d17297b233"
   },
   "outputs": [
    {
     "data": {
      "text/plain": [
       "0    Rey de Tailandia despoja de títulos a su conso...\n",
       "1    Denuncian que personas con epilepsia sufrieron...\n",
       "2    Índice victimización de hogares en el país suf...\n",
       "3    Meditación, cocina, jardinería, manualidades: ...\n",
       "4    Director de empresa que procesa datos electora...\n",
       "Name: texto, dtype: object"
      ]
     },
     "execution_count": 13,
     "metadata": {},
     "output_type": "execute_result"
    }
   ],
   "source": [
    "content.head()"
   ]
  },
  {
   "cell_type": "code",
   "execution_count": null,
   "metadata": {
    "colab": {
     "base_uri": "https://localhost:8080/",
     "height": 36
    },
    "executionInfo": {
     "elapsed": 5526,
     "status": "ok",
     "timestamp": 1689352847712,
     "user": {
      "displayName": "Gabriel Iturra-Bocaz",
      "userId": "02319919045117626989"
     },
     "user_tz": 240
    },
    "id": "HWNd77cWUrd2",
    "outputId": "40c950dc-8002-438c-ce74-96fd67731bac"
   },
   "outputs": [
    {
     "data": {
      "application/vnd.google.colaboratory.intrinsic+json": {
       "type": "string"
      },
      "text/plain": [
       "'2.12.0'"
      ]
     },
     "execution_count": 14,
     "metadata": {},
     "output_type": "execute_result"
    }
   ],
   "source": [
    "import tensorflow as tf\n",
    "tf.__version__"
   ]
  },
  {
   "cell_type": "code",
   "execution_count": null,
   "metadata": {
    "ExecuteTime": {
     "end_time": "2020-05-17T20:27:38.183476Z",
     "start_time": "2020-05-17T20:27:38.175498Z"
    },
    "colab": {
     "base_uri": "https://localhost:8080/"
    },
    "executionInfo": {
     "elapsed": 8,
     "status": "ok",
     "timestamp": 1689352847713,
     "user": {
      "displayName": "Gabriel Iturra-Bocaz",
      "userId": "02319919045117626989"
     },
     "user_tz": 240
    },
    "id": "8upF3fu-SQHk",
    "outputId": "1e3ecab8-ab49-463e-984e-3c7515dfc0d9"
   },
   "outputs": [
    {
     "data": {
      "text/plain": [
       "(10000,)"
      ]
     },
     "execution_count": 15,
     "metadata": {},
     "output_type": "execute_result"
    }
   ],
   "source": [
    "content.shape"
   ]
  },
  {
   "cell_type": "code",
   "execution_count": null,
   "metadata": {
    "ExecuteTime": {
     "end_time": "2020-05-17T20:27:38.227359Z",
     "start_time": "2020-05-17T20:27:38.221374Z"
    },
    "colab": {
     "base_uri": "https://localhost:8080/",
     "height": 36
    },
    "executionInfo": {
     "elapsed": 430,
     "status": "ok",
     "timestamp": 1689352854670,
     "user": {
      "displayName": "Gabriel Iturra-Bocaz",
      "userId": "02319919045117626989"
     },
     "user_tz": 240
    },
    "id": "Y28NxiNySQHk",
    "outputId": "b1906427-870b-48f0-8887-79760acefe59"
   },
   "outputs": [
    {
     "data": {
      "application/vnd.google.colaboratory.intrinsic+json": {
       "type": "string"
      },
      "text/plain": [
       "'!\"#$%&\\'()*+,-./:;<=>?@[\\\\]^_`{|}~'"
      ]
     },
     "execution_count": 16,
     "metadata": {},
     "output_type": "execute_result"
    }
   ],
   "source": [
    "string.punctuation"
   ]
  },
  {
   "cell_type": "code",
   "execution_count": null,
   "metadata": {
    "ExecuteTime": {
     "end_time": "2020-05-07T21:21:12.916380Z",
     "start_time": "2020-05-07T21:21:04.087799Z"
    },
    "id": "1uvRtm_USQHk"
   },
   "outputs": [],
   "source": [
    "from collections import Counter\n",
    "\n",
    "# limpiar puntuaciones y separar por tokens.\n",
    "punctuation = string.punctuation + \"«»“”‘’…—\"\n",
    "stopwords = pd.read_csv(\n",
    "    'https://raw.githubusercontent.com/Alir3z4/stop-words/master/spanish.txt'\n",
    ").values\n",
    "stopwords = Counter(stopwords.flatten().tolist())\n",
    "\n",
    "def simple_tokenizer(doc, lower=False):\n",
    "    if lower:\n",
    "        tokenized_doc = doc.translate(str.maketrans(\n",
    "            '', '', punctuation)).lower().split()\n",
    "\n",
    "    tokenized_doc = doc.translate(str.maketrans('', '', punctuation)).split()\n",
    "    tokenized_doc = [\n",
    "        token for token in tokenized_doc if token.lower() not in stopwords\n",
    "    ]\n",
    "    return tokenized_doc\n",
    "\n",
    "cleaned_content = [simple_tokenizer(doc) for doc in content.values]"
   ]
  },
  {
   "cell_type": "code",
   "execution_count": null,
   "metadata": {
    "ExecuteTime": {
     "end_time": "2020-05-07T21:21:15.069544Z",
     "start_time": "2020-05-07T21:21:15.063560Z"
    },
    "colab": {
     "base_uri": "https://localhost:8080/"
    },
    "executionInfo": {
     "elapsed": 349,
     "status": "ok",
     "timestamp": 1689352864481,
     "user": {
      "displayName": "Gabriel Iturra-Bocaz",
      "userId": "02319919045117626989"
     },
     "user_tz": 240
    },
    "id": "KqH5QEmzSQHk",
    "outputId": "b3041516-7e43-4c75-87e4-8a98418e7720"
   },
   "outputs": [
    {
     "name": "stdout",
     "output_type": "stream",
     "text": [
      "Ejemplo de alguna noticia: ['Ley', 'Ciudadanía', 'polémica', 'norma', 'india', 'acusan', 'discriminatoria', 'provocado', 'oleada', 'protestas', 'semana', 'miles', 'personas', 'salido', 'a', 'manifestarse', 'semana', 'consecutiva', 'ciudades', 'India', 'mostrar', 'rechazo', 'Ley', 'Ciudadanía', 'CAB', 'migrantes', 'auspiciada', 'Gobierno', 'jornadas', 'terminado', 'enfrentamiento', 'marchas', 'vuelto', 'violentas', 'registran', '15', 'muertes', 'relacionadas', 'hechos', 'Pero¿por', 'rechazo', 'amplio', 'a', 'ley', 'gubernamental', 'ley', 'Ciudadanía', 'viene', 'a', 'reemplazar', 'a', 'norma', 'vigente', '64', 'años', 'prohíbe', 'migrantes', 'ilegales', 'pasen', 'a', 'ciudadanos', 'India', 'BBC', 'antigua', 'legislación', 'ilegales', 'a', 'inmigrantes', 'ingresan', 'país', 'pasaporte', 'vigente', 'documento', 'viaje', 'a', 'quedan', 'India', 'permitido', 'personas', 'deportadas', 'detenidas', 'ley', 'aprobó', '11', 'diciembre', 'anula', 'normativa', 'señala', 'persona', 'vivir', 'Gobierno', 'federal', 'mínimo', '11', 'años', 'solicitar', 'ciudadanía', 'exigirá', 'mínimo', 'años', 'a', 'extranjeros', 'iniciar', 'proceso', 'optar', 'ciudadanía', 'nacionalidad', 'Asimismo', 'ley', 'sostiene', 'personas', 'tarjeta', 'ciudadanía', 'india', 'ultramar', '–', 'estatus', 'migratorio', 'permite', 'a', 'inmigrantes', 'origen', 'indio', 'vivir', 'indefinidamente', 'arriesguen', 'perderla', 'violan', 'leyes', 'locales', 'Reuters', 'Gobierno', 'expuso', 'ley', 'proseguida', 'registro', 'ciudadanía', 'musulmanes', 'territorio', 'deberán', 'demostrar', 'residentes', 'originales', 'India', 'refugiados', 'vienen', 'Pakistán', 'Bangladesh', 'provocar', 'queden', 'apátridas', 'ley', 'beneficiaría', 'a', 'hindúes', 'cristianos', 'miembros', 'minorías', 'religiosas', 'entraron', 'a', 'India', '2014', 'forma', 'irregular', 'demostrar', 'sufrieron', 'persecución', 'religiosa', 'países', 'anteriormente', 'nombrados', 'rechazo', 'sentir', 'calles', 'días', 'punto', 'ley', 'grupos', 'opone', 'a', 'Ley', 'Ciudadanía', 'sostiene', 'excluyente', 'viola', 'principios', 'seculares', 'estipulados', 'constitución', 'país', 'señalan', 'fe', 'objeto', 'condición', 'acceder', 'a', 'ciudadanía', 'Carta', 'Magna', 'India', 'prohíbe', 'forma', 'discriminación', 'religiosa', 'ciudadanos', 'garantiza', 'igualdad', 'personas', 'ley', 'a', 'tema', 'parlamentario', 'musulmán', 'Asaddudin', 'Owaisi', 'ley', 'peor', 'leyes', 'Hitler', 'conspiración', 'convertir', 'a', 'musulmanes', 'apátridas', 'Gautam', 'Bhatia', 'abogado', 'radicado', 'Delhi', 'dividir', 'a', 'inmigrantes', 'musulmanes', 'musulmanes', 'proyecto', 'ley', 'busca', 'explícita', 'descaradamente', 'consagrar', 'discriminación', 'religiosa', 'ley', 'ética', 'constitucional', 'secular', 'larga', 'data', 'Asimismo', 'historiador', 'Mukul', 'Kesavandijo', 'normativa', 'aparentemente', 'dirigida', 'a', 'extranjeros', 'objetivo', 'principal', 'deslegitimación', 'ciudadanía', 'musulmana', 'representantes', 'musulmanes', 'oposición', 'detallaron', 'ley', 'afecta', 'forma', 'directa', 'a', 'comunidad', '–que', '170', 'millones', 'adeptos', 'grupo', 'minoritario', 'India', '700', 'representantes', 'indios', 'incluidos', 'abogados', 'académicos', 'actores', 'firmado', 'declaración', 'reprueba', 'proyecto', 'ley', 'representación', 'Gobierno', 'ministro', 'Interior', 'Amit', 'Shah', 'defendió', 'ley', 'enfatizando', 'busca', 'ayudar', 'a', 'minorías', 'perseguidas', 'países', 'vecinos', 'mayoría', 'musulmana', 'quitando', 'ciudadanía', 'a', 'musulmanes', 'India', 'aseveró', 'Shah', 'proyecto', 'ley', 'otorgar', 'ciudadanía', 'quitarla', 'Parlamento', 'aprobó', 'ley', 'semana', 'protestas', 'comenzaron', 'noreste', 'país', 'sentimiento', 'antiinmigrante', 'localidades', 'exclusión', 'musulmanes', 'Tripura', 'Gobierno', 'desplegó', 'tropas', 'llevaron', 'refuerzos', 'a', 'Assam', 'ambas', 'zonas', 'fronterizas', 'Bangladesh', 'ciudadanos', 'mostrado', 'acuerdo', 'llegada', 'extranjeros', 'a', 'temen', 'llegada', 'migrantes', 'masa', 'aumente', 'competencia', 'tierras', 'altere', 'equilibrio', 'demográfico', 'Assam', 'zona', 'afectada', 'manifestaciones', 'agosto', 'millones', 'personas', 'quedaron', 'afuera', 'registro', 'ciudadanos', 'autoridades', 'bloqueado', 'acceso', 'a', 'internet', '10', 'distritos', 'localidad', 'evitar', 'focos', 'violencia', 'Guwahati', 'declaró', 'toque', 'queda', 'violentos', 'enfrentamientos', 'fuerzas', 'policiales', 'manifestantes', 'día', 'información', 'oficial', 'recolectada', 'cifra', '15', 'muertos', 'producto', 'protestas']\n"
     ]
    }
   ],
   "source": [
    "print(\"Ejemplo de alguna noticia: {}\".format(cleaned_content[14]))"
   ]
  },
  {
   "cell_type": "markdown",
   "metadata": {
    "ExecuteTime": {
     "end_time": "2019-08-26T19:41:36.055210Z",
     "start_time": "2019-08-26T19:41:36.051221Z"
    },
    "id": "oflTH9xfSQHl"
   },
   "source": [
    "### Extracción de Frases\n",
    "\n",
    "Para crear buenas representaciones, es necesario tambien encontrar conjuntos de palabras que por si solas no tengan mayor significado (como `nueva` y `york`), pero que juntas que representen ideas concretas (`nueva york`).\n",
    "\n",
    "Para esto, usaremos el primer conjunto de herramientas de `gensim`: `Phrases` y `Phraser`."
   ]
  },
  {
   "cell_type": "code",
   "execution_count": null,
   "metadata": {
    "ExecuteTime": {
     "end_time": "2020-05-07T19:18:18.064454Z",
     "start_time": "2020-05-07T19:18:03.208281Z"
    },
    "id": "vT6jB99sSQHl"
   },
   "outputs": [],
   "source": [
    "# Phrases recibe una lista de oraciones, y junta bigramas que estén al menos 100 veces repetidos\n",
    "# como un único token. Detrás de esto hay un modelo estadístico basado en frecuencias, probabilidades, etc\n",
    "# pero en términos simples ese es el resultado\n",
    "\n",
    "phrases = Phrases(cleaned_content, min_count=100, progress_per=5000)"
   ]
  },
  {
   "cell_type": "markdown",
   "metadata": {
    "id": "yHZ8f4bbSQHl"
   },
   "source": [
    "Ahora, usamos `Phraser` para re-tokenizamos el corpus con los bigramas encontrados. Es decir, juntamos los tokens separados que detectamos como frases."
   ]
  },
  {
   "cell_type": "code",
   "execution_count": null,
   "metadata": {
    "ExecuteTime": {
     "end_time": "2020-05-07T19:20:57.432220Z",
     "start_time": "2020-05-07T19:20:13.544388Z"
    },
    "id": "qsMhI7cDSQHm"
   },
   "outputs": [],
   "source": [
    "bigram = Phraser(phrases)\n",
    "sentences = bigram[cleaned_content]"
   ]
  },
  {
   "cell_type": "code",
   "execution_count": null,
   "metadata": {
    "ExecuteTime": {
     "end_time": "2020-05-07T19:21:03.964097Z",
     "start_time": "2020-05-07T19:21:03.958113Z"
    },
    "colab": {
     "base_uri": "https://localhost:8080/"
    },
    "executionInfo": {
     "elapsed": 364,
     "status": "ok",
     "timestamp": 1689352878820,
     "user": {
      "displayName": "Gabriel Iturra-Bocaz",
      "userId": "02319919045117626989"
     },
     "user_tz": 240
    },
    "id": "lyJJ_XOKSQHm",
    "outputId": "2aa54a46-1fd6-4d5f-e5e5-5894a22faacf"
   },
   "outputs": [
    {
     "name": "stdout",
     "output_type": "stream",
     "text": [
      "['Denuncian', 'personas', 'epilepsia', 'sufrieron', 'ataques', 'Twitter', 'Usuarios', 'publicaron', 'luces', 'estroboscópicas', 'organización', 'Epilepsy', 'Foundation', 'origen', 'estadounidense', 'presentó', 'denuncia', 'penal', 'solicitó', 'investigación', 'a', 'raíz', 'distintos', 'usuarios', 'Twitter', 'publicaran', 'videos', 'luces', 'intermitentes', 'estroboscópicas', 'noviembre', 'provocaron', 'convulsiones', 'a', 'personas', 'epilepsia', 'usuarios', 'plataforma', 'utilizaron', 'hashtag', 'fundación', 'atacar', 'a', 'personas', 'epilepsia', 'acuerdo', 'a', 'indicado', 'directora', 'defensa', 'legal', 'Allison', 'Nichol', 'a', 'BBC', 'ataques', 'a', 'persona', 'luz', 'estroboscópica', 'a', 'convención', 'personas', 'epilepsia', 'convulsiones', 'intención', 'inducir', 'convulsiones', 'causar', 'daño', 'significativo', 'a', 'participantes', 'ataques', 'ocurrieron', 'Mes', 'Nacional', 'Concientización', 'Epilepsia', 'resalta', 'naturaleza', 'reprensible', 'encargada', 'materia', 'legal', 'fundación', 'cooperando', 'completamente', 'policía', 'intención', 'utilizar', 'vías', 'disponibles', 'garantizar', 'responsables', 'respondan', 'acuerdo', 'a', 'datos', '3', 'personas', 'sufren', 'epilepsia', 'fotosensible', 'luces', 'intermitentes', 'estroboscópicas', 'publicadas', 'red', 'social', 'afectaría', 'directamente', 'Anteriormente', 'Sociedad', 'Epilepsia', 'Reino_Unido', 'exigir', 'a', 'compañías', 'redes_sociales', 'muestren', 'advertencias']\n"
     ]
    }
   ],
   "source": [
    "# para ver como quedan las noticias retokenizadas, quitar comentario a la siguiente linea:\n",
    "print(sentences[1])"
   ]
  },
  {
   "cell_type": "markdown",
   "metadata": {
    "ExecuteTime": {
     "end_time": "2019-08-26T20:46:14.842693Z",
     "start_time": "2019-08-26T20:46:14.839706Z"
    },
    "id": "srh235fDSQHm"
   },
   "source": [
    "### Definir el modelo\n",
    "\n",
    "\n",
    "\n",
    "Primero, como es usual, creamos el modelo. En este caso, usaremos uno de los primero modelos de embeddings neuronales: `word2vec`\n",
    "\n",
    "Algunos parámetros importantes:\n",
    "\n",
    "- `min_count`: Ignora todas las palabras que tengan frecuencia menor a la indicada.\n",
    "- `window` : Tamaño de la ventana. Usaremos 4.\n",
    "- `size` : El tamaño de los embeddings que crearemos. Por lo general, el rendimiento sube cuando se usan mas dimensiones, pero después de 300 ya no se nota cambio. Ahora, usaremos solo 200.\n",
    "- `workers`: Cantidad de CPU que serán utilizadas en el entrenamiento."
   ]
  },
  {
   "cell_type": "code",
   "execution_count": null,
   "metadata": {
    "ExecuteTime": {
     "end_time": "2020-05-07T15:29:43.525865Z",
     "start_time": "2020-05-07T15:29:43.521840Z"
    },
    "id": "PxbhQixYSQHm"
   },
   "outputs": [],
   "source": [
    "w2v = Word2Vec(min_count=10,\n",
    "                      window=4,\n",
    "                      vector_size=200,\n",
    "                      sample=6e-5,\n",
    "                      alpha=0.03,\n",
    "                      min_alpha=0.0007,\n",
    "                      negative=20,\n",
    "                      workers=multiprocessing.cpu_count())"
   ]
  },
  {
   "cell_type": "code",
   "execution_count": null,
   "metadata": {
    "colab": {
     "base_uri": "https://localhost:8080/"
    },
    "executionInfo": {
     "elapsed": 469,
     "status": "ok",
     "timestamp": 1689352914040,
     "user": {
      "displayName": "Gabriel Iturra-Bocaz",
      "userId": "02319919045117626989"
     },
     "user_tz": 240
    },
    "id": "kL5xfnTBOszO",
    "outputId": "05d8b08e-0781-446a-b35c-d35b8c97c463"
   },
   "outputs": [
    {
     "data": {
      "text/plain": [
       "<gensim.models.word2vec.Word2Vec at 0x7d06d5464340>"
      ]
     },
     "execution_count": 23,
     "metadata": {},
     "output_type": "execute_result"
    }
   ],
   "source": [
    "Word2Vec()"
   ]
  },
  {
   "cell_type": "markdown",
   "metadata": {
    "id": "gcoiPxJySQHn"
   },
   "source": [
    "### Construir el vocabulario\n",
    "\n",
    "Para esto, se creará un conjunto que contendrá (una sola vez) todas aquellas palabras que aparecen mas de `min_count` veces."
   ]
  },
  {
   "cell_type": "code",
   "execution_count": null,
   "metadata": {
    "ExecuteTime": {
     "end_time": "2020-05-07T15:30:09.864087Z",
     "start_time": "2020-05-07T15:29:45.813793Z"
    },
    "id": "8Gx_MtzeSQHn"
   },
   "outputs": [],
   "source": [
    "w2v.build_vocab(sentences, progress_per=10000)"
   ]
  },
  {
   "cell_type": "markdown",
   "metadata": {
    "ExecuteTime": {
     "end_time": "2019-08-26T21:11:58.054500Z",
     "start_time": "2019-08-26T21:11:58.050511Z"
    },
    "id": "UGvA3Lr9SQHo"
   },
   "source": [
    "### Entrenar el Modelo\n",
    "\n",
    "A continuación, entenaremos el modelo.\n",
    "Los parámetros que usaremos serán:\n",
    "\n",
    "- `total_examples`: Número de documentos.\n",
    "- `epochs`: Número de veces que se iterará sobre el corpus.\n",
    "\n",
    "Es recomendable que tengan instalado `cpython` antes de continuar. Aumenta bastante la velocidad de entrenamiento.\n"
   ]
  },
  {
   "cell_type": "code",
   "execution_count": null,
   "metadata": {
    "ExecuteTime": {
     "end_time": "2020-05-07T15:34:44.255083Z",
     "start_time": "2020-05-07T15:30:12.141203Z"
    },
    "colab": {
     "base_uri": "https://localhost:8080/"
    },
    "executionInfo": {
     "elapsed": 49365,
     "status": "ok",
     "timestamp": 1689352971758,
     "user": {
      "displayName": "Gabriel Iturra-Bocaz",
      "userId": "02319919045117626989"
     },
     "user_tz": 240
    },
    "id": "SXER4JiiSQHo",
    "outputId": "1d7e6bb7-44ac-44ff-a4a1-ea49e607622c",
    "scrolled": true
   },
   "outputs": [
    {
     "name": "stdout",
     "output_type": "stream",
     "text": [
      "Time to train the model: 0.82 mins\n"
     ]
    }
   ],
   "source": [
    "t = time()\n",
    "w2v.train(sentences, total_examples=w2v.corpus_count, epochs=5, report_delay=10)\n",
    "print('Time to train the model: {} mins'.format(round((time() - t) / 60, 2)))"
   ]
  },
  {
   "cell_type": "markdown",
   "metadata": {
    "id": "XMSGhv3XSQHo"
   },
   "source": [
    "Ahora que terminamos de entrenar el modelo, le indicamos que no lo entrenaremos mas.\n",
    "Esto nos permitirá ejecutar eficientemente las tareas que realizaremos."
   ]
  },
  {
   "cell_type": "code",
   "execution_count": null,
   "metadata": {
    "ExecuteTime": {
     "end_time": "2020-05-07T15:34:46.358716Z",
     "start_time": "2020-05-07T15:34:46.331779Z"
    },
    "colab": {
     "base_uri": "https://localhost:8080/"
    },
    "executionInfo": {
     "elapsed": 333,
     "status": "ok",
     "timestamp": 1689353013084,
     "user": {
      "displayName": "Gabriel Iturra-Bocaz",
      "userId": "02319919045117626989"
     },
     "user_tz": 240
    },
    "id": "PWbHUPjJSQHo",
    "outputId": "5eb7874e-ad19-46eb-ea6f-48bca012ad1d"
   },
   "outputs": [
    {
     "name": "stderr",
     "output_type": "stream",
     "text": [
      "<ipython-input-26-8d993e9d3e98>:1: DeprecationWarning: Call to deprecated `init_sims` (Gensim 4.0.0 implemented internal optimizations that make calls to init_sims() unnecessary. init_sims() is now obsoleted and will be completely removed in future versions. See https://github.com/RaRe-Technologies/gensim/wiki/Migrating-from-Gensim-3.x-to-4).\n",
      "  biobio_w2v.init_sims(replace=True)\n",
      "WARNING:gensim.models.keyedvectors:destructive init_sims(replace=True) deprecated & no longer required for space-efficiency\n"
     ]
    }
   ],
   "source": [
    "w2v.init_sims(replace=True)"
   ]
  },
  {
   "cell_type": "markdown",
   "metadata": {
    "ExecuteTime": {
     "end_time": "2019-08-26T21:43:36.571382Z",
     "start_time": "2019-08-26T21:43:36.567392Z"
    },
    "id": "g47OlSg2SQHo"
   },
   "source": [
    "###  Guardar y cargar el modelo\n",
    "\n",
    "Para ahorrar tiempo, usaremos un modelo preentrenado."
   ]
  },
  {
   "cell_type": "code",
   "execution_count": null,
   "metadata": {
    "ExecuteTime": {
     "end_time": "2020-05-07T19:23:19.548567Z",
     "start_time": "2020-05-07T19:23:18.572531Z"
    },
    "id": "hLd1DGPXSQHp"
   },
   "outputs": [],
   "source": [
    "# Si entrenaste el modelo y lo quieres guardar, descomentar el siguiente bloque.\n",
    "if not os.path.exists('./pretrained_models'):\n",
    "    os.mkdir('./pretrained_models')\n",
    "w2v.save('./pretrained_models/biobio_w2v.model')\n",
    "\n",
    "\n",
    "# cargar el modelo (si es que lo entrenaron desde local.)\n",
    "w2v = KeyedVectors.load(\"./pretrained_models/biobio_w2v.model\", mmap='r')\n"
   ]
  },
  {
   "cell_type": "code",
   "execution_count": null,
   "metadata": {
    "ExecuteTime": {
     "end_time": "2020-05-07T17:05:18.639618Z",
     "start_time": "2020-05-07T17:02:10.981724Z"
    },
    "id": "hEvKTMmGSQHp"
   },
   "outputs": [],
   "source": [
    "# descargar el modelo desde github\n",
    "def read_model_from_github(url):\n",
    "    if not os.path.exists('./pretrained_models'):\n",
    "        os.mkdir('./pretrained_models')\n",
    "\n",
    "    r = requests.get(url)\n",
    "    filename = url.split('/')[-1]\n",
    "    with open('./pretrained_models/' + filename, 'wb') as f:\n",
    "        f.write(r.content)\n",
    "    return True\n",
    "\n",
    "\n",
    "[\n",
    "    read_model_from_github(file) for file in [\n",
    "        'https://github.com/dccuchile/CC6205/releases/download/Data/biobio_w2v.model',\n",
    "    ]\n",
    "]\n",
    "# cargar el modelo (si es que lo entrenaron desde local.)\n",
    "w2v = KeyedVectors.load(\"./pretrained_models/biobio_w2v.model\", mmap='r')\n"
   ]
  },
  {
   "cell_type": "markdown",
   "metadata": {
    "id": "_oqfd5wkSQHp"
   },
   "source": [
    "## **Tasks: Palabras mas similares y Analogías**\n",
    "\n",
    "### **Palabras mas similares**\n",
    "\n",
    "Tal como dijimos anteriormente, los embeddings son capaces de codificar toda la información contextual de las palabras en vectores.\n",
    "\n",
    "Y como cualquier objeto matemático, estos pueden operados para encontrar ciertas propiedades. Tal es el caso de las  encontrar las palabras mas similares, lo que no es mas que encontrar los n vecinos mas cercanos del vector.  "
   ]
  },
  {
   "cell_type": "code",
   "execution_count": null,
   "metadata": {
    "ExecuteTime": {
     "end_time": "2020-05-07T19:28:33.343259Z",
     "start_time": "2020-05-07T19:28:33.262476Z"
    },
    "colab": {
     "base_uri": "https://localhost:8080/"
    },
    "executionInfo": {
     "elapsed": 339,
     "status": "ok",
     "timestamp": 1689353017882,
     "user": {
      "displayName": "Gabriel Iturra-Bocaz",
      "userId": "02319919045117626989"
     },
     "user_tz": 240
    },
    "id": "D6wSyaJ6SQHp",
    "outputId": "c00ea2f9-1f89-47ce-8796-2f1b8c9383a8"
   },
   "outputs": [
    {
     "data": {
      "text/plain": [
       "[('escena', 0.9557156562805176),\n",
       " ('viral', 0.9542714953422546),\n",
       " ('niña', 0.9535362720489502),\n",
       " ('suelo', 0.9504421949386597),\n",
       " ('conocido', 0.9483023881912231),\n",
       " ('negro', 0.9478839635848999),\n",
       " ('pareja', 0.9478752017021179),\n",
       " ('niño', 0.945462703704834),\n",
       " ('casa', 0.9408020973205566),\n",
       " ('ropa', 0.9404046535491943)]"
      ]
     },
     "execution_count": 27,
     "metadata": {},
     "output_type": "execute_result"
    }
   ],
   "source": [
    "w2v.wv.most_similar(positive=[\"perro\"])"
   ]
  },
  {
   "cell_type": "code",
   "execution_count": null,
   "metadata": {
    "ExecuteTime": {
     "end_time": "2020-05-07T19:28:59.154190Z",
     "start_time": "2020-05-07T19:28:59.146214Z"
    },
    "colab": {
     "base_uri": "https://localhost:8080/"
    },
    "executionInfo": {
     "elapsed": 332,
     "status": "ok",
     "timestamp": 1689353023465,
     "user": {
      "displayName": "Gabriel Iturra-Bocaz",
      "userId": "02319919045117626989"
     },
     "user_tz": 240
    },
    "id": "wvvUcuNaSQHp",
    "outputId": "a78077f9-57d8-431b-f36a-bfa7f2b5455b"
   },
   "outputs": [
    {
     "data": {
      "text/plain": [
       "[('APEC', 0.9170917868614197),\n",
       " ('cumbre', 0.8846220970153809),\n",
       " ('Venezuela', 0.8724144101142883),\n",
       " ('COP25', 0.8625975847244263),\n",
       " ('presidencia', 0.8592020273208618),\n",
       " ('cita', 0.8542468547821045),\n",
       " ('Bolivia', 0.8508405685424805),\n",
       " ('Ecuador', 0.8411756157875061),\n",
       " ('COP', 0.840333878993988),\n",
       " ('comicios', 0.831869900226593)]"
      ]
     },
     "execution_count": 28,
     "metadata": {},
     "output_type": "execute_result"
    }
   ],
   "source": [
    "w2v.wv.most_similar(positive=[\"Chile\"])"
   ]
  },
  {
   "cell_type": "code",
   "execution_count": null,
   "metadata": {
    "ExecuteTime": {
     "end_time": "2020-05-07T19:29:49.464492Z",
     "start_time": "2020-05-07T19:29:49.432164Z"
    },
    "colab": {
     "base_uri": "https://localhost:8080/"
    },
    "executionInfo": {
     "elapsed": 2,
     "status": "ok",
     "timestamp": 1689353026492,
     "user": {
      "displayName": "Gabriel Iturra-Bocaz",
      "userId": "02319919045117626989"
     },
     "user_tz": 240
    },
    "id": "M8UMSL20SQHp",
    "outputId": "2a6f915a-a01e-441a-97a5-c8e61bd691b1"
   },
   "outputs": [
    {
     "data": {
      "text/plain": [
       "[('Jair', 0.9739789962768555),\n",
       " ('expresidente', 0.9712259769439697),\n",
       " ('canciller', 0.9690009355545044),\n",
       " ('boliviano', 0.9661844372749329),\n",
       " ('electo', 0.9428163766860962),\n",
       " ('peronista', 0.94046950340271),\n",
       " ('interina', 0.938209056854248),\n",
       " ('opositor', 0.9369913339614868),\n",
       " ('conferencia', 0.9346758723258972),\n",
       " ('renunció', 0.9299976229667664)]"
      ]
     },
     "execution_count": 29,
     "metadata": {},
     "output_type": "execute_result"
    }
   ],
   "source": [
    "w2v.wv.most_similar(positive=[\"Bolsonaro\"])"
   ]
  },
  {
   "cell_type": "code",
   "execution_count": null,
   "metadata": {
    "ExecuteTime": {
     "end_time": "2020-05-07T19:29:56.028795Z",
     "start_time": "2020-05-07T19:29:56.014832Z"
    },
    "colab": {
     "base_uri": "https://localhost:8080/"
    },
    "executionInfo": {
     "elapsed": 322,
     "status": "ok",
     "timestamp": 1689353029194,
     "user": {
      "displayName": "Gabriel Iturra-Bocaz",
      "userId": "02319919045117626989"
     },
     "user_tz": 240
    },
    "id": "x8yQ_thcSQHq",
    "outputId": "0edf0d29-de51-4a98-ac66-0cec0611e80a"
   },
   "outputs": [
    {
     "data": {
      "text/plain": [
       "[('Donald_Trump', 0.9719582796096802),\n",
       " ('mandato', 0.9446630477905273),\n",
       " ('discurso', 0.9424706101417542),\n",
       " ('mandatario', 0.9403246641159058),\n",
       " ('elegido', 0.9363952875137329),\n",
       " ('líderes', 0.9286762475967407),\n",
       " ('coalición', 0.9286168813705444),\n",
       " ('boliviano', 0.9284565448760986),\n",
       " ('renunciar', 0.9273474216461182),\n",
       " ('reelección', 0.9258975386619568)]"
      ]
     },
     "execution_count": 30,
     "metadata": {},
     "output_type": "execute_result"
    }
   ],
   "source": [
    "w2v.wv.most_similar(positive=[\"Trump\"])"
   ]
  },
  {
   "cell_type": "code",
   "execution_count": null,
   "metadata": {
    "ExecuteTime": {
     "end_time": "2020-05-07T19:32:29.842609Z",
     "start_time": "2020-05-07T19:32:29.829644Z"
    },
    "colab": {
     "base_uri": "https://localhost:8080/"
    },
    "executionInfo": {
     "elapsed": 380,
     "status": "ok",
     "timestamp": 1689353084717,
     "user": {
      "displayName": "Gabriel Iturra-Bocaz",
      "userId": "02319919045117626989"
     },
     "user_tz": 240
    },
    "id": "zDe2KBajSQHq",
    "outputId": "946ab309-3705-472c-970d-20a572b4576c",
    "scrolled": true
   },
   "outputs": [
    {
     "data": {
      "text/plain": [
       "[('CS', 0.993306040763855),\n",
       " ('refiere', 0.9912865161895752),\n",
       " ('colectividad', 0.9900727272033691),\n",
       " ('Montes', 0.9897511601448059),\n",
       " ('Cisternas', 0.9891090989112854),\n",
       " ('legislador', 0.9881644248962402),\n",
       " ('Maite', 0.9880766868591309),\n",
       " ('vocero', 0.9874981045722961),\n",
       " ('diputadas', 0.9862938523292542),\n",
       " ('socialista', 0.9856842160224915)]"
      ]
     },
     "execution_count": 38,
     "metadata": {},
     "output_type": "execute_result"
    }
   ],
   "source": [
    "w2v.wv.most_similar(positive=[\"Boric\"])"
   ]
  },
  {
   "cell_type": "code",
   "execution_count": null,
   "metadata": {
    "ExecuteTime": {
     "end_time": "2020-05-07T19:32:59.165524Z",
     "start_time": "2020-05-07T19:32:59.153557Z"
    },
    "colab": {
     "base_uri": "https://localhost:8080/"
    },
    "executionInfo": {
     "elapsed": 314,
     "status": "ok",
     "timestamp": 1689353043521,
     "user": {
      "displayName": "Gabriel Iturra-Bocaz",
      "userId": "02319919045117626989"
     },
     "user_tz": 240
    },
    "id": "862JVl0RSQHq",
    "outputId": "4ec774a4-6aa2-40c6-f100-048b00de325e"
   },
   "outputs": [
    {
     "data": {
      "text/plain": [
       "[('terrestre', 0.9969362020492554),\n",
       " ('107', 0.996863842010498),\n",
       " ('cuadrantes', 0.9964912533760071),\n",
       " ('aljibes', 0.9964337348937988),\n",
       " ('autobuses', 0.99634850025177),\n",
       " ('camionetas', 0.9961223602294922),\n",
       " ('hoteles', 0.9960710406303406),\n",
       " ('720', 0.9960396885871887),\n",
       " ('exclusivos', 0.9959593415260315),\n",
       " ('cables', 0.9958721399307251)]"
      ]
     },
     "execution_count": 33,
     "metadata": {},
     "output_type": "execute_result"
    }
   ],
   "source": [
    "w2v.wv.most_similar(positive=[\"Uber\"])"
   ]
  },
  {
   "cell_type": "code",
   "execution_count": null,
   "metadata": {
    "ExecuteTime": {
     "end_time": "2020-05-07T19:33:34.899941Z",
     "start_time": "2020-05-07T19:33:34.885980Z"
    },
    "colab": {
     "base_uri": "https://localhost:8080/"
    },
    "executionInfo": {
     "elapsed": 6,
     "status": "ok",
     "timestamp": 1689353046629,
     "user": {
      "displayName": "Gabriel Iturra-Bocaz",
      "userId": "02319919045117626989"
     },
     "user_tz": 240
    },
    "id": "lexHPPjdSQHq",
    "outputId": "2512b22a-2d8b-43a3-b05f-79d40030d854"
   },
   "outputs": [
    {
     "data": {
      "text/plain": [
       "[('apuestas', 0.9993064403533936),\n",
       " ('vitrina', 0.99918133020401),\n",
       " ('Turner', 0.9991805553436279),\n",
       " ('filial', 0.9990866184234619),\n",
       " ('etíope', 0.9990550875663757),\n",
       " ('estudiado', 0.9990472793579102),\n",
       " ('pusiera', 0.9990363717079163),\n",
       " ('masculinos', 0.9990174770355225),\n",
       " ('re', 0.9989784955978394),\n",
       " ('barata', 0.9989712834358215)]"
      ]
     },
     "execution_count": 34,
     "metadata": {},
     "output_type": "execute_result"
    }
   ],
   "source": [
    "w2v.wv.most_similar(positive=[\"Huawei\"])"
   ]
  },
  {
   "cell_type": "code",
   "execution_count": null,
   "metadata": {
    "ExecuteTime": {
     "end_time": "2020-05-07T19:33:41.167456Z",
     "start_time": "2020-05-07T19:33:41.155482Z"
    },
    "colab": {
     "base_uri": "https://localhost:8080/"
    },
    "executionInfo": {
     "elapsed": 346,
     "status": "ok",
     "timestamp": 1689353050544,
     "user": {
      "displayName": "Gabriel Iturra-Bocaz",
      "userId": "02319919045117626989"
     },
     "user_tz": 240
    },
    "id": "5T8ZPF1KSQHq",
    "outputId": "2ccd598f-b4cc-4219-da23-018d9b81f2b5"
   },
   "outputs": [
    {
     "data": {
      "text/plain": [
       "[('Bienvenidos', 0.9882922172546387),\n",
       " ('Paulina', 0.987699568271637),\n",
       " ('Álvarez', 0.9860345125198364),\n",
       " ('Jadue', 0.9850301742553711),\n",
       " ('Carla', 0.9848887920379639),\n",
       " ('Valderrama', 0.98443603515625),\n",
       " ('Parada', 0.9824544191360474),\n",
       " ('Canal_13', 0.9821355938911438),\n",
       " ('Paola', 0.9816964864730835),\n",
       " ('Allende', 0.9815748929977417)]"
      ]
     },
     "execution_count": 35,
     "metadata": {},
     "output_type": "execute_result"
    }
   ],
   "source": [
    "w2v.wv.most_similar(positive=[\"TVN\"])"
   ]
  },
  {
   "cell_type": "markdown",
   "metadata": {
    "id": "IWr76TLqSQHr"
   },
   "source": [
    "### **Analogías**\n",
    "\n",
    "Por otra parte, la analogía consiste en comparar 3 terminos mediante una operación del estilo:\n",
    "\n",
    "$$palabra1 - palabra2 \\approx palabra 3 - x$$\n",
    "\n",
    "para encontrar relaciones entre estos.\n",
    "\n",
    "Por ejemplo:\n",
    "\n",
    "| palabra 1 (pos) |  palabra 2 (neg) |\n",
    "|-----------------|------------------|\n",
    "|  macri          | Argentina          |\n",
    "| Brasil           |  x               |"
   ]
  },
  {
   "cell_type": "code",
   "execution_count": null,
   "metadata": {
    "ExecuteTime": {
     "end_time": "2020-05-07T19:36:24.480150Z",
     "start_time": "2020-05-07T19:36:24.462198Z"
    },
    "colab": {
     "base_uri": "https://localhost:8080/"
    },
    "executionInfo": {
     "elapsed": 327,
     "status": "ok",
     "timestamp": 1689353117876,
     "user": {
      "displayName": "Gabriel Iturra-Bocaz",
      "userId": "02319919045117626989"
     },
     "user_tz": 240
    },
    "id": "cHMLglR7SQHr",
    "outputId": "bea2d9ce-d2a2-4c65-e3cb-fecc61dfafba"
   },
   "outputs": [
    {
     "data": {
      "text/plain": [
       "[('electo', 0.9352949261665344),\n",
       " ('presidenciales', 0.9315786361694336),\n",
       " ('líder', 0.927513837814331),\n",
       " ('Alberto_Fernández', 0.9266843795776367),\n",
       " ('peronista', 0.9228428602218628),\n",
       " ('obtuvo', 0.914836049079895),\n",
       " ('miras', 0.9129692316055298),\n",
       " ('francés', 0.9084678888320923),\n",
       " ('vuelta', 0.9069983959197998),\n",
       " ('trasandino', 0.9056716561317444)]"
      ]
     },
     "execution_count": 40,
     "metadata": {},
     "output_type": "execute_result"
    }
   ],
   "source": [
    "w2v.wv.most_similar(positive=[\"Macri\", \"Brasil\"], negative=['Argentina'], topn=10)"
   ]
  },
  {
   "cell_type": "code",
   "execution_count": null,
   "metadata": {
    "ExecuteTime": {
     "end_time": "2020-05-07T19:36:10.444907Z",
     "start_time": "2020-05-07T19:36:10.435930Z"
    },
    "colab": {
     "base_uri": "https://localhost:8080/"
    },
    "executionInfo": {
     "elapsed": 2,
     "status": "ok",
     "timestamp": 1689353120694,
     "user": {
      "displayName": "Gabriel Iturra-Bocaz",
      "userId": "02319919045117626989"
     },
     "user_tz": 240
    },
    "id": "FLaLGvm4SQHr",
    "outputId": "d50c1fa0-fd93-494c-d410-e5d9f3a00b65"
   },
   "outputs": [
    {
     "data": {
      "text/plain": [
       "[('Teodoro', 0.8938978910446167),\n",
       " ('completo', 0.8907313346862793),\n",
       " ('Youtube', 0.8899147510528564),\n",
       " ('Cosena', 0.8882018327713013),\n",
       " ('Pdte', 0.8864948153495789),\n",
       " ('Cambio', 0.8863348960876465),\n",
       " ('Secretario', 0.8836874961853027),\n",
       " ('anunciar', 0.8829512596130371),\n",
       " ('Movimiento', 0.8822774887084961),\n",
       " ('Cadem', 0.882199764251709)]"
      ]
     },
     "execution_count": 41,
     "metadata": {},
     "output_type": "execute_result"
    }
   ],
   "source": [
    "w2v.wv.most_similar(positive=[\"Chile\", \"Huawei\"], negative=['China'], topn=10)"
   ]
  },
  {
   "cell_type": "code",
   "execution_count": null,
   "metadata": {
    "colab": {
     "base_uri": "https://localhost:8080/"
    },
    "executionInfo": {
     "elapsed": 382,
     "status": "ok",
     "timestamp": 1689353161696,
     "user": {
      "displayName": "Gabriel Iturra-Bocaz",
      "userId": "02319919045117626989"
     },
     "user_tz": 240
    },
    "id": "Bc4GN6oSU__F",
    "outputId": "39cef244-30e8-451a-d206-11d40e332326"
   },
   "outputs": [
    {
     "data": {
      "text/plain": [
       "[('silla', 0.9712823629379272),\n",
       " ('vecino', 0.9710057377815247),\n",
       " ('lanzado', 0.9700751304626465),\n",
       " ('hotel', 0.9692100286483765),\n",
       " ('amarillo', 0.9686530828475952),\n",
       " ('blanca', 0.9682415723800659),\n",
       " ('bebé', 0.9678773880004883),\n",
       " ('causó', 0.9670166969299316),\n",
       " ('camioneta', 0.9657533168792725),\n",
       " ('vivía', 0.9652925133705139)]"
      ]
     },
     "execution_count": 46,
     "metadata": {},
     "output_type": "execute_result"
    }
   ],
   "source": [
    "# atención\n",
    "w2v.wv.most_similar(positive=[\"perro\", \"tigre\"], negative=['gato'], topn=10)"
   ]
  },
  {
   "cell_type": "markdown",
   "metadata": {
    "ExecuteTime": {
     "end_time": "2019-08-28T19:55:09.459852Z",
     "start_time": "2019-08-28T19:55:09.454865Z"
    },
    "id": "z3bDLWKpSQHu"
   },
   "source": [
    "## **Word Embeddings como características para clasificar**\n",
    "\n",
    "\n",
    "En esta sección, veremos como utilizar los word embeddings como característica para **clasificar noticias de diferentes medios**.\n"
   ]
  },
  {
   "cell_type": "markdown",
   "metadata": {
    "ExecuteTime": {
     "end_time": "2019-09-23T20:43:25.817110Z",
     "start_time": "2019-09-23T20:43:25.797172Z"
    },
    "id": "zD_A7ogRSQHw"
   },
   "source": [
    "### Dividir el dataset en training y test"
   ]
  },
  {
   "cell_type": "code",
   "execution_count": null,
   "metadata": {
    "ExecuteTime": {
     "end_time": "2020-05-07T19:45:05.304455Z",
     "start_time": "2020-05-07T19:45:05.296477Z"
    },
    "id": "y3pOTi67SQHw"
   },
   "outputs": [],
   "source": [
    "X_train, X_test, y_train, y_test = train_test_split(dataset.texto,\n",
    "                                                    dataset.medio,\n",
    "                                                    test_size=0.33,\n",
    "                                                    random_state=42)"
   ]
  },
  {
   "cell_type": "markdown",
   "metadata": {
    "id": "KNtnEzWMSQHw"
   },
   "source": [
    "Primero, crearemos el Transformer con el cual convertiremos el documento a vector.\n"
   ]
  },
  {
   "cell_type": "markdown",
   "metadata": {
    "id": "spUfFXrNSQHw"
   },
   "source": [
    "### Doc2vec"
   ]
  },
  {
   "cell_type": "code",
   "execution_count": null,
   "metadata": {
    "ExecuteTime": {
     "end_time": "2020-05-17T20:42:22.105698Z",
     "start_time": "2020-05-17T20:42:22.094754Z"
    },
    "id": "IXq9b_pYSQHw"
   },
   "outputs": [],
   "source": [
    "class Doc2VecTransformer(BaseEstimator, TransformerMixin):\n",
    "    \"\"\" Transforma tweets a representaciones vectoriales usando algún modelo de Word Embeddings.\n",
    "    \"\"\"\n",
    "\n",
    "    def __init__(self, model, aggregation_func):\n",
    "        # extraemos los embeddings desde el objeto contenedor. ojo con esta parte.\n",
    "        self.model = model.wv\n",
    "\n",
    "        # indicamos la función de agregación (np.min, np.max, np.mean, np.sum, ...)\n",
    "        self.aggregation_func = aggregation_func\n",
    "\n",
    "    def simple_tokenizer(self, doc, lower=False):\n",
    "        \"\"\"Tokenizador. Elimina signos de puntuación, lleva las letras a minúscula(opcional) y\n",
    "           separa el tweet por espacios.\n",
    "        \"\"\"\n",
    "        if lower:\n",
    "            doc.translate(str.maketrans('', '', string.punctuation)).lower().split()\n",
    "        return doc.translate(str.maketrans('', '', string.punctuation)).split()\n",
    "\n",
    "    def fit(self, X, y=None):\n",
    "        return self\n",
    "\n",
    "    def transform(self, X, y=None):\n",
    "\n",
    "        doc_embeddings = []\n",
    "\n",
    "        for doc in X:\n",
    "            # tokenizamos el documento. Se llevan todos los tokens a minúscula.\n",
    "            # ojo con esto, ya que puede que tokens con minúscula y mayúscula tengan\n",
    "            # distintas representaciones\n",
    "            tokens = self.simple_tokenizer(doc, lower = True)\n",
    "\n",
    "            selected_wv = []\n",
    "            for token in tokens:\n",
    "                if token in self.model.index_to_key:\n",
    "                    selected_wv.append(self.model[token])\n",
    "\n",
    "            # si seleccionamos por lo menos un embedding para el tweet, lo agregamos y luego lo añadimos.\n",
    "            if len(selected_wv) > 0:\n",
    "                doc_embedding = self.aggregation_func(np.array(selected_wv), axis=0)\n",
    "                doc_embeddings.append(doc_embedding)\n",
    "            # si no, añadimos un vector de ceros que represente a ese documento.\n",
    "            else:\n",
    "                print('No pude encontrar ningún embedding en el tweet: {}. Agregando vector de ceros.'.format(doc))\n",
    "                doc_embeddings.append(np.zeros(self.model.vector_size)) # la dimension del modelo\n",
    "\n",
    "        return np.array(doc_embeddings)\n"
   ]
  },
  {
   "cell_type": "markdown",
   "metadata": {
    "id": "M3NG6AvpSQHw"
   },
   "source": [
    "### Definimos el pipeline\n",
    "\n",
    "\n",
    "Usaremos la transformación que creamos antes mas una regresión logística."
   ]
  },
  {
   "cell_type": "code",
   "execution_count": null,
   "metadata": {
    "ExecuteTime": {
     "end_time": "2020-05-07T19:50:34.393237Z",
     "start_time": "2020-05-07T19:50:34.387253Z"
    },
    "id": "eBjMxandSQHx"
   },
   "outputs": [],
   "source": [
    "clf = LogisticRegression(max_iter=1000000)\n",
    "\n",
    "doc2vec_mean = Doc2VecTransformer(w2v, np.mean)\n",
    "doc2vec_sum = Doc2VecTransformer(w2v, np.sum)\n",
    "doc2vec_max = Doc2VecTransformer(w2v, np.max)\n",
    "\n",
    "\n",
    "pipeline = Pipeline([('doc2vec', doc2vec_sum), ('clf', clf)])"
   ]
  },
  {
   "cell_type": "code",
   "execution_count": null,
   "metadata": {
    "ExecuteTime": {
     "end_time": "2020-05-07T19:50:59.881521Z",
     "start_time": "2020-05-07T19:50:40.532331Z"
    },
    "colab": {
     "base_uri": "https://localhost:8080/",
     "height": 125
    },
    "executionInfo": {
     "elapsed": 782861,
     "status": "ok",
     "timestamp": 1689354345003,
     "user": {
      "displayName": "Gabriel Iturra-Bocaz",
      "userId": "02319919045117626989"
     },
     "user_tz": 240
    },
    "id": "buMnvsO8SQHx",
    "outputId": "1f97a20e-f39d-42af-df7a-11300dc4abfe"
   },
   "outputs": [
    {
     "data": {
      "text/html": [
       "<style>#sk-container-id-1 {color: black;background-color: white;}#sk-container-id-1 pre{padding: 0;}#sk-container-id-1 div.sk-toggleable {background-color: white;}#sk-container-id-1 label.sk-toggleable__label {cursor: pointer;display: block;width: 100%;margin-bottom: 0;padding: 0.3em;box-sizing: border-box;text-align: center;}#sk-container-id-1 label.sk-toggleable__label-arrow:before {content: \"▸\";float: left;margin-right: 0.25em;color: #696969;}#sk-container-id-1 label.sk-toggleable__label-arrow:hover:before {color: black;}#sk-container-id-1 div.sk-estimator:hover label.sk-toggleable__label-arrow:before {color: black;}#sk-container-id-1 div.sk-toggleable__content {max-height: 0;max-width: 0;overflow: hidden;text-align: left;background-color: #f0f8ff;}#sk-container-id-1 div.sk-toggleable__content pre {margin: 0.2em;color: black;border-radius: 0.25em;background-color: #f0f8ff;}#sk-container-id-1 input.sk-toggleable__control:checked~div.sk-toggleable__content {max-height: 200px;max-width: 100%;overflow: auto;}#sk-container-id-1 input.sk-toggleable__control:checked~label.sk-toggleable__label-arrow:before {content: \"▾\";}#sk-container-id-1 div.sk-estimator input.sk-toggleable__control:checked~label.sk-toggleable__label {background-color: #d4ebff;}#sk-container-id-1 div.sk-label input.sk-toggleable__control:checked~label.sk-toggleable__label {background-color: #d4ebff;}#sk-container-id-1 input.sk-hidden--visually {border: 0;clip: rect(1px 1px 1px 1px);clip: rect(1px, 1px, 1px, 1px);height: 1px;margin: -1px;overflow: hidden;padding: 0;position: absolute;width: 1px;}#sk-container-id-1 div.sk-estimator {font-family: monospace;background-color: #f0f8ff;border: 1px dotted black;border-radius: 0.25em;box-sizing: border-box;margin-bottom: 0.5em;}#sk-container-id-1 div.sk-estimator:hover {background-color: #d4ebff;}#sk-container-id-1 div.sk-parallel-item::after {content: \"\";width: 100%;border-bottom: 1px solid gray;flex-grow: 1;}#sk-container-id-1 div.sk-label:hover label.sk-toggleable__label {background-color: #d4ebff;}#sk-container-id-1 div.sk-serial::before {content: \"\";position: absolute;border-left: 1px solid gray;box-sizing: border-box;top: 0;bottom: 0;left: 50%;z-index: 0;}#sk-container-id-1 div.sk-serial {display: flex;flex-direction: column;align-items: center;background-color: white;padding-right: 0.2em;padding-left: 0.2em;position: relative;}#sk-container-id-1 div.sk-item {position: relative;z-index: 1;}#sk-container-id-1 div.sk-parallel {display: flex;align-items: stretch;justify-content: center;background-color: white;position: relative;}#sk-container-id-1 div.sk-item::before, #sk-container-id-1 div.sk-parallel-item::before {content: \"\";position: absolute;border-left: 1px solid gray;box-sizing: border-box;top: 0;bottom: 0;left: 50%;z-index: -1;}#sk-container-id-1 div.sk-parallel-item {display: flex;flex-direction: column;z-index: 1;position: relative;background-color: white;}#sk-container-id-1 div.sk-parallel-item:first-child::after {align-self: flex-end;width: 50%;}#sk-container-id-1 div.sk-parallel-item:last-child::after {align-self: flex-start;width: 50%;}#sk-container-id-1 div.sk-parallel-item:only-child::after {width: 0;}#sk-container-id-1 div.sk-dashed-wrapped {border: 1px dashed gray;margin: 0 0.4em 0.5em 0.4em;box-sizing: border-box;padding-bottom: 0.4em;background-color: white;}#sk-container-id-1 div.sk-label label {font-family: monospace;font-weight: bold;display: inline-block;line-height: 1.2em;}#sk-container-id-1 div.sk-label-container {text-align: center;}#sk-container-id-1 div.sk-container {/* jupyter's `normalize.less` sets `[hidden] { display: none; }` but bootstrap.min.css set `[hidden] { display: none !important; }` so we also need the `!important` here to be able to override the default hidden behavior on the sphinx rendered scikit-learn.org. See: https://github.com/scikit-learn/scikit-learn/issues/21755 */display: inline-block !important;position: relative;}#sk-container-id-1 div.sk-text-repr-fallback {display: none;}</style><div id=\"sk-container-id-1\" class=\"sk-top-container\"><div class=\"sk-text-repr-fallback\"><pre>Pipeline(steps=[(&#x27;doc2vec&#x27;,\n",
       "                 Doc2VecTransformer(aggregation_func=&lt;function sum at 0x7d0721934310&gt;,\n",
       "                                    model=&lt;gensim.models.keyedvectors.KeyedVectors object at 0x7d06d54677f0&gt;)),\n",
       "                (&#x27;clf&#x27;, LogisticRegression(max_iter=1000000))])</pre><b>In a Jupyter environment, please rerun this cell to show the HTML representation or trust the notebook. <br />On GitHub, the HTML representation is unable to render, please try loading this page with nbviewer.org.</b></div><div class=\"sk-container\" hidden><div class=\"sk-item sk-dashed-wrapped\"><div class=\"sk-label-container\"><div class=\"sk-label sk-toggleable\"><input class=\"sk-toggleable__control sk-hidden--visually\" id=\"sk-estimator-id-1\" type=\"checkbox\" ><label for=\"sk-estimator-id-1\" class=\"sk-toggleable__label sk-toggleable__label-arrow\">Pipeline</label><div class=\"sk-toggleable__content\"><pre>Pipeline(steps=[(&#x27;doc2vec&#x27;,\n",
       "                 Doc2VecTransformer(aggregation_func=&lt;function sum at 0x7d0721934310&gt;,\n",
       "                                    model=&lt;gensim.models.keyedvectors.KeyedVectors object at 0x7d06d54677f0&gt;)),\n",
       "                (&#x27;clf&#x27;, LogisticRegression(max_iter=1000000))])</pre></div></div></div><div class=\"sk-serial\"><div class=\"sk-item\"><div class=\"sk-estimator sk-toggleable\"><input class=\"sk-toggleable__control sk-hidden--visually\" id=\"sk-estimator-id-2\" type=\"checkbox\" ><label for=\"sk-estimator-id-2\" class=\"sk-toggleable__label sk-toggleable__label-arrow\">Doc2VecTransformer</label><div class=\"sk-toggleable__content\"><pre>Doc2VecTransformer(aggregation_func=&lt;function sum at 0x7d0721934310&gt;,\n",
       "                   model=&lt;gensim.models.keyedvectors.KeyedVectors object at 0x7d06d54677f0&gt;)</pre></div></div></div><div class=\"sk-item\"><div class=\"sk-estimator sk-toggleable\"><input class=\"sk-toggleable__control sk-hidden--visually\" id=\"sk-estimator-id-3\" type=\"checkbox\" ><label for=\"sk-estimator-id-3\" class=\"sk-toggleable__label sk-toggleable__label-arrow\">LogisticRegression</label><div class=\"sk-toggleable__content\"><pre>LogisticRegression(max_iter=1000000)</pre></div></div></div></div></div></div></div>"
      ],
      "text/plain": [
       "Pipeline(steps=[('doc2vec',\n",
       "                 Doc2VecTransformer(aggregation_func=<function sum at 0x7d0721934310>,\n",
       "                                    model=<gensim.models.keyedvectors.KeyedVectors object at 0x7d06d54677f0>)),\n",
       "                ('clf', LogisticRegression(max_iter=1000000))])"
      ]
     },
     "execution_count": 51,
     "metadata": {},
     "output_type": "execute_result"
    }
   ],
   "source": [
    "pipeline.fit(X_train, y_train)"
   ]
  },
  {
   "cell_type": "markdown",
   "metadata": {
    "ExecuteTime": {
     "end_time": "2019-09-23T20:43:47.337340Z",
     "start_time": "2019-09-23T20:43:47.317007Z"
    },
    "id": "SfiGZpotSQHx"
   },
   "source": [
    "**Predecimos y evaluamos:**"
   ]
  },
  {
   "cell_type": "code",
   "execution_count": null,
   "metadata": {
    "ExecuteTime": {
     "end_time": "2020-05-07T19:51:07.108644Z",
     "start_time": "2020-05-07T19:51:05.799089Z"
    },
    "id": "v4R7zhgqSQHx"
   },
   "outputs": [],
   "source": [
    "y_pred = pipeline.predict(X_test)"
   ]
  },
  {
   "cell_type": "code",
   "execution_count": null,
   "metadata": {
    "ExecuteTime": {
     "end_time": "2020-05-07T19:51:12.601957Z",
     "start_time": "2020-05-07T19:51:12.589989Z"
    },
    "colab": {
     "base_uri": "https://localhost:8080/"
    },
    "executionInfo": {
     "elapsed": 29,
     "status": "ok",
     "timestamp": 1689354658174,
     "user": {
      "displayName": "Gabriel Iturra-Bocaz",
      "userId": "02319919045117626989"
     },
     "user_tz": 240
    },
    "id": "DKEU3QgBSQHx",
    "outputId": "e8768619-cde0-449e-91ca-bfe565385994"
   },
   "outputs": [
    {
     "name": "stdout",
     "output_type": "stream",
     "text": [
      "[[159   8  14  13   6  35   6  19  39  16]\n",
      " [ 20 228  15   2  11  13  23   9  10   4]\n",
      " [ 23  17 108  20  36  75  30  14  17   5]\n",
      " [  4   4   9 242  28  14  10   2   6   4]\n",
      " [  5   8  20  35 236  31   8   2   2   4]\n",
      " [ 31  19  61  12  23 112  23   6  23   9]\n",
      " [  2   2   3   0   1   4 264   5  23   3]\n",
      " [ 16  15  19   6   6  10  13 230  10   7]\n",
      " [ 31   2   6   3   3  16  36   8 207   8]\n",
      " [ 24   8  15   8   4  17  25   6  24 222]]\n"
     ]
    }
   ],
   "source": [
    "conf_matrix = confusion_matrix(y_test, y_pred)\n",
    "print(conf_matrix)"
   ]
  },
  {
   "cell_type": "code",
   "execution_count": null,
   "metadata": {
    "ExecuteTime": {
     "end_time": "2020-05-07T19:51:18.863055Z",
     "start_time": "2020-05-07T19:51:18.805699Z"
    },
    "colab": {
     "base_uri": "https://localhost:8080/"
    },
    "executionInfo": {
     "elapsed": 27,
     "status": "ok",
     "timestamp": 1689354658174,
     "user": {
      "displayName": "Gabriel Iturra-Bocaz",
      "userId": "02319919045117626989"
     },
     "user_tz": 240
    },
    "id": "jCBjfMFBSQHx",
    "outputId": "4144a15e-b1fe-4dce-9ba1-47d22620a239",
    "scrolled": false
   },
   "outputs": [
    {
     "name": "stdout",
     "output_type": "stream",
     "text": [
      "                 precision    recall  f1-score   support\n",
      "\n",
      "            CHV       0.50      0.50      0.50       315\n",
      " Cooperativa CL       0.73      0.68      0.71       335\n",
      "    El Mercurio       0.40      0.31      0.35       345\n",
      "  El Rancaguino       0.71      0.75      0.73       323\n",
      "   La Discusión       0.67      0.67      0.67       351\n",
      "      La Nación       0.34      0.35      0.35       319\n",
      "         La RED       0.60      0.86      0.71       307\n",
      "           MEGA       0.76      0.69      0.73       332\n",
      "Radio Concierto       0.57      0.65      0.61       320\n",
      "     The Clinic       0.79      0.63      0.70       353\n",
      "\n",
      "       accuracy                           0.61      3300\n",
      "      macro avg       0.61      0.61      0.60      3300\n",
      "   weighted avg       0.61      0.61      0.61      3300\n",
      "\n"
     ]
    }
   ],
   "source": [
    "print(classification_report(y_test, y_pred))"
   ]
  },
  {
   "cell_type": "code",
   "execution_count": null,
   "metadata": {
    "ExecuteTime": {
     "end_time": "2020-05-07T19:51:25.139392Z",
     "start_time": "2020-05-07T19:51:25.132412Z"
    },
    "colab": {
     "base_uri": "https://localhost:8080/"
    },
    "executionInfo": {
     "elapsed": 25,
     "status": "ok",
     "timestamp": 1689354658176,
     "user": {
      "displayName": "Gabriel Iturra-Bocaz",
      "userId": "02319919045117626989"
     },
     "user_tz": 240
    },
    "id": "gdTu7vzmSQHy",
    "outputId": "93736c18-085d-439a-8b59-675ea1a9e153"
   },
   "outputs": [
    {
     "data": {
      "text/plain": [
       "array(['La RED'], dtype=object)"
      ]
     },
     "execution_count": 55,
     "metadata": {},
     "output_type": "execute_result"
    }
   ],
   "source": [
    "pipeline.predict(\n",
    "    [(\"Alguna noticia..\")])"
   ]
  },
  {
   "cell_type": "markdown",
   "metadata": {
    "ExecuteTime": {
     "end_time": "2019-09-24T12:57:03.817026Z",
     "start_time": "2019-09-24T12:57:03.814008Z"
    },
    "id": "uBlia-JJSQHy"
   },
   "source": [
    "## **Usandolo con BoW**"
   ]
  },
  {
   "cell_type": "code",
   "execution_count": null,
   "metadata": {
    "id": "qLBZbmSShn17"
   },
   "outputs": [],
   "source": [
    "X_train, X_test, y_train, y_test = train_test_split(dataset.texto,\n",
    "                                                    dataset.medio,\n",
    "                                                    test_size=0.33,\n",
    "                                                    random_state=42)"
   ]
  },
  {
   "cell_type": "code",
   "execution_count": null,
   "metadata": {
    "ExecuteTime": {
     "end_time": "2020-05-07T16:39:09.997634Z",
     "start_time": "2020-05-07T16:39:09.992647Z"
    },
    "id": "IZ6IO16JSQHy"
   },
   "outputs": [],
   "source": [
    "# Definimos el vectorizador para convertir el texto a BoW:\n",
    "vectorizer = CountVectorizer(analyzer='word', ngram_range=(1, 2))\n",
    "\n",
    "# Definimos el clasificador que usaremos.\n",
    "clf_2 = LogisticRegression(max_iter=10000)\n",
    "\n",
    "# Definimos el pipeline\n",
    "pipeline_2 = Pipeline([('features',\n",
    "                        FeatureUnion([('bow', CountVectorizer()),\n",
    "                                      ('doc2vec', doc2vec_sum)])), ('clf', clf)])"
   ]
  },
  {
   "cell_type": "code",
   "execution_count": null,
   "metadata": {
    "ExecuteTime": {
     "end_time": "2020-05-07T16:44:04.514995Z",
     "start_time": "2020-05-07T16:39:13.770150Z"
    },
    "colab": {
     "base_uri": "https://localhost:8080/",
     "height": 183
    },
    "executionInfo": {
     "elapsed": 1342156,
     "status": "ok",
     "timestamp": 1689356031353,
     "user": {
      "displayName": "Gabriel Iturra-Bocaz",
      "userId": "02319919045117626989"
     },
     "user_tz": 240
    },
    "id": "TnTlbg6FSQHy",
    "outputId": "6f640eb4-7ac5-4812-b3f3-f20b889c2226"
   },
   "outputs": [
    {
     "data": {
      "text/html": [
       "<style>#sk-container-id-2 {color: black;background-color: white;}#sk-container-id-2 pre{padding: 0;}#sk-container-id-2 div.sk-toggleable {background-color: white;}#sk-container-id-2 label.sk-toggleable__label {cursor: pointer;display: block;width: 100%;margin-bottom: 0;padding: 0.3em;box-sizing: border-box;text-align: center;}#sk-container-id-2 label.sk-toggleable__label-arrow:before {content: \"▸\";float: left;margin-right: 0.25em;color: #696969;}#sk-container-id-2 label.sk-toggleable__label-arrow:hover:before {color: black;}#sk-container-id-2 div.sk-estimator:hover label.sk-toggleable__label-arrow:before {color: black;}#sk-container-id-2 div.sk-toggleable__content {max-height: 0;max-width: 0;overflow: hidden;text-align: left;background-color: #f0f8ff;}#sk-container-id-2 div.sk-toggleable__content pre {margin: 0.2em;color: black;border-radius: 0.25em;background-color: #f0f8ff;}#sk-container-id-2 input.sk-toggleable__control:checked~div.sk-toggleable__content {max-height: 200px;max-width: 100%;overflow: auto;}#sk-container-id-2 input.sk-toggleable__control:checked~label.sk-toggleable__label-arrow:before {content: \"▾\";}#sk-container-id-2 div.sk-estimator input.sk-toggleable__control:checked~label.sk-toggleable__label {background-color: #d4ebff;}#sk-container-id-2 div.sk-label input.sk-toggleable__control:checked~label.sk-toggleable__label {background-color: #d4ebff;}#sk-container-id-2 input.sk-hidden--visually {border: 0;clip: rect(1px 1px 1px 1px);clip: rect(1px, 1px, 1px, 1px);height: 1px;margin: -1px;overflow: hidden;padding: 0;position: absolute;width: 1px;}#sk-container-id-2 div.sk-estimator {font-family: monospace;background-color: #f0f8ff;border: 1px dotted black;border-radius: 0.25em;box-sizing: border-box;margin-bottom: 0.5em;}#sk-container-id-2 div.sk-estimator:hover {background-color: #d4ebff;}#sk-container-id-2 div.sk-parallel-item::after {content: \"\";width: 100%;border-bottom: 1px solid gray;flex-grow: 1;}#sk-container-id-2 div.sk-label:hover label.sk-toggleable__label {background-color: #d4ebff;}#sk-container-id-2 div.sk-serial::before {content: \"\";position: absolute;border-left: 1px solid gray;box-sizing: border-box;top: 0;bottom: 0;left: 50%;z-index: 0;}#sk-container-id-2 div.sk-serial {display: flex;flex-direction: column;align-items: center;background-color: white;padding-right: 0.2em;padding-left: 0.2em;position: relative;}#sk-container-id-2 div.sk-item {position: relative;z-index: 1;}#sk-container-id-2 div.sk-parallel {display: flex;align-items: stretch;justify-content: center;background-color: white;position: relative;}#sk-container-id-2 div.sk-item::before, #sk-container-id-2 div.sk-parallel-item::before {content: \"\";position: absolute;border-left: 1px solid gray;box-sizing: border-box;top: 0;bottom: 0;left: 50%;z-index: -1;}#sk-container-id-2 div.sk-parallel-item {display: flex;flex-direction: column;z-index: 1;position: relative;background-color: white;}#sk-container-id-2 div.sk-parallel-item:first-child::after {align-self: flex-end;width: 50%;}#sk-container-id-2 div.sk-parallel-item:last-child::after {align-self: flex-start;width: 50%;}#sk-container-id-2 div.sk-parallel-item:only-child::after {width: 0;}#sk-container-id-2 div.sk-dashed-wrapped {border: 1px dashed gray;margin: 0 0.4em 0.5em 0.4em;box-sizing: border-box;padding-bottom: 0.4em;background-color: white;}#sk-container-id-2 div.sk-label label {font-family: monospace;font-weight: bold;display: inline-block;line-height: 1.2em;}#sk-container-id-2 div.sk-label-container {text-align: center;}#sk-container-id-2 div.sk-container {/* jupyter's `normalize.less` sets `[hidden] { display: none; }` but bootstrap.min.css set `[hidden] { display: none !important; }` so we also need the `!important` here to be able to override the default hidden behavior on the sphinx rendered scikit-learn.org. See: https://github.com/scikit-learn/scikit-learn/issues/21755 */display: inline-block !important;position: relative;}#sk-container-id-2 div.sk-text-repr-fallback {display: none;}</style><div id=\"sk-container-id-2\" class=\"sk-top-container\"><div class=\"sk-text-repr-fallback\"><pre>Pipeline(steps=[(&#x27;features&#x27;,\n",
       "                 FeatureUnion(transformer_list=[(&#x27;bow&#x27;, CountVectorizer()),\n",
       "                                                (&#x27;doc2vec&#x27;,\n",
       "                                                 Doc2VecTransformer(aggregation_func=&lt;function sum at 0x7d0721934310&gt;,\n",
       "                                                                    model=&lt;gensim.models.keyedvectors.KeyedVectors object at 0x7d06d54677f0&gt;))])),\n",
       "                (&#x27;clf&#x27;, LogisticRegression(max_iter=1000000))])</pre><b>In a Jupyter environment, please rerun this cell to show the HTML representation or trust the notebook. <br />On GitHub, the HTML representation is unable to render, please try loading this page with nbviewer.org.</b></div><div class=\"sk-container\" hidden><div class=\"sk-item sk-dashed-wrapped\"><div class=\"sk-label-container\"><div class=\"sk-label sk-toggleable\"><input class=\"sk-toggleable__control sk-hidden--visually\" id=\"sk-estimator-id-4\" type=\"checkbox\" ><label for=\"sk-estimator-id-4\" class=\"sk-toggleable__label sk-toggleable__label-arrow\">Pipeline</label><div class=\"sk-toggleable__content\"><pre>Pipeline(steps=[(&#x27;features&#x27;,\n",
       "                 FeatureUnion(transformer_list=[(&#x27;bow&#x27;, CountVectorizer()),\n",
       "                                                (&#x27;doc2vec&#x27;,\n",
       "                                                 Doc2VecTransformer(aggregation_func=&lt;function sum at 0x7d0721934310&gt;,\n",
       "                                                                    model=&lt;gensim.models.keyedvectors.KeyedVectors object at 0x7d06d54677f0&gt;))])),\n",
       "                (&#x27;clf&#x27;, LogisticRegression(max_iter=1000000))])</pre></div></div></div><div class=\"sk-serial\"><div class=\"sk-item sk-dashed-wrapped\"><div class=\"sk-label-container\"><div class=\"sk-label sk-toggleable\"><input class=\"sk-toggleable__control sk-hidden--visually\" id=\"sk-estimator-id-5\" type=\"checkbox\" ><label for=\"sk-estimator-id-5\" class=\"sk-toggleable__label sk-toggleable__label-arrow\">features: FeatureUnion</label><div class=\"sk-toggleable__content\"><pre>FeatureUnion(transformer_list=[(&#x27;bow&#x27;, CountVectorizer()),\n",
       "                               (&#x27;doc2vec&#x27;,\n",
       "                                Doc2VecTransformer(aggregation_func=&lt;function sum at 0x7d0721934310&gt;,\n",
       "                                                   model=&lt;gensim.models.keyedvectors.KeyedVectors object at 0x7d06d54677f0&gt;))])</pre></div></div></div><div class=\"sk-parallel\"><div class=\"sk-parallel-item\"><div class=\"sk-item\"><div class=\"sk-label-container\"><div class=\"sk-label sk-toggleable\"><label>bow</label></div></div><div class=\"sk-serial\"><div class=\"sk-item\"><div class=\"sk-estimator sk-toggleable\"><input class=\"sk-toggleable__control sk-hidden--visually\" id=\"sk-estimator-id-6\" type=\"checkbox\" ><label for=\"sk-estimator-id-6\" class=\"sk-toggleable__label sk-toggleable__label-arrow\">CountVectorizer</label><div class=\"sk-toggleable__content\"><pre>CountVectorizer()</pre></div></div></div></div></div></div><div class=\"sk-parallel-item\"><div class=\"sk-item\"><div class=\"sk-label-container\"><div class=\"sk-label sk-toggleable\"><label>doc2vec</label></div></div><div class=\"sk-serial\"><div class=\"sk-item\"><div class=\"sk-estimator sk-toggleable\"><input class=\"sk-toggleable__control sk-hidden--visually\" id=\"sk-estimator-id-7\" type=\"checkbox\" ><label for=\"sk-estimator-id-7\" class=\"sk-toggleable__label sk-toggleable__label-arrow\">Doc2VecTransformer</label><div class=\"sk-toggleable__content\"><pre>Doc2VecTransformer(aggregation_func=&lt;function sum at 0x7d0721934310&gt;,\n",
       "                   model=&lt;gensim.models.keyedvectors.KeyedVectors object at 0x7d06d54677f0&gt;)</pre></div></div></div></div></div></div></div></div><div class=\"sk-item\"><div class=\"sk-estimator sk-toggleable\"><input class=\"sk-toggleable__control sk-hidden--visually\" id=\"sk-estimator-id-8\" type=\"checkbox\" ><label for=\"sk-estimator-id-8\" class=\"sk-toggleable__label sk-toggleable__label-arrow\">LogisticRegression</label><div class=\"sk-toggleable__content\"><pre>LogisticRegression(max_iter=1000000)</pre></div></div></div></div></div></div></div>"
      ],
      "text/plain": [
       "Pipeline(steps=[('features',\n",
       "                 FeatureUnion(transformer_list=[('bow', CountVectorizer()),\n",
       "                                                ('doc2vec',\n",
       "                                                 Doc2VecTransformer(aggregation_func=<function sum at 0x7d0721934310>,\n",
       "                                                                    model=<gensim.models.keyedvectors.KeyedVectors object at 0x7d06d54677f0>))])),\n",
       "                ('clf', LogisticRegression(max_iter=1000000))])"
      ]
     },
     "execution_count": 59,
     "metadata": {},
     "output_type": "execute_result"
    }
   ],
   "source": [
    "pipeline_2.fit(X_train, y_train)"
   ]
  },
  {
   "cell_type": "code",
   "execution_count": null,
   "metadata": {
    "ExecuteTime": {
     "end_time": "2020-05-07T16:44:08.965415Z",
     "start_time": "2020-05-07T16:44:07.164065Z"
    },
    "colab": {
     "base_uri": "https://localhost:8080/"
    },
    "executionInfo": {
     "elapsed": 314842,
     "status": "ok",
     "timestamp": 1689356346193,
     "user": {
      "displayName": "Gabriel Iturra-Bocaz",
      "userId": "02319919045117626989"
     },
     "user_tz": 240
    },
    "id": "FVL6-TGWSQHy",
    "outputId": "86774523-1764-457a-80ee-3345c7f0fca3"
   },
   "outputs": [
    {
     "name": "stdout",
     "output_type": "stream",
     "text": [
      "[[251   4  11   1   1  14   3   0  29   1]\n",
      " [  4 302   8   4   5   4   1   4   1   2]\n",
      " [ 12  11 207   6  12  62  15   9   7   4]\n",
      " [  1   1   9 284   6  13   4   1   3   1]\n",
      " [  4   2  22  10 274  27   4   5   0   3]\n",
      " [  4   6  65  14  19 164  14   6  11  16]\n",
      " [  0   1  10   0   0   1 272   3  13   7]\n",
      " [  1   8  11   1   3  10   7 279   6   6]\n",
      " [ 27   0   7   2   0   8   9   3 257   7]\n",
      " [  5   4  10  11   6  21  14   3   9 270]]\n"
     ]
    }
   ],
   "source": [
    "y_pred_2 = pipeline_2.predict(X_test)\n",
    "conf_matrix = confusion_matrix(y_test, y_pred_2)\n",
    "print(conf_matrix)"
   ]
  },
  {
   "cell_type": "code",
   "execution_count": null,
   "metadata": {
    "ExecuteTime": {
     "end_time": "2020-05-07T16:44:11.609183Z",
     "start_time": "2020-05-07T16:44:11.553969Z"
    },
    "colab": {
     "base_uri": "https://localhost:8080/"
    },
    "executionInfo": {
     "elapsed": 16,
     "status": "ok",
     "timestamp": 1689356346194,
     "user": {
      "displayName": "Gabriel Iturra-Bocaz",
      "userId": "02319919045117626989"
     },
     "user_tz": 240
    },
    "id": "XILZeUSwSQHy",
    "outputId": "2d13430c-8182-4bbc-c29f-650e8c574d1b"
   },
   "outputs": [
    {
     "name": "stdout",
     "output_type": "stream",
     "text": [
      "                 precision    recall  f1-score   support\n",
      "\n",
      "            CHV       0.81      0.80      0.80       315\n",
      " Cooperativa CL       0.89      0.90      0.90       335\n",
      "    El Mercurio       0.57      0.60      0.59       345\n",
      "  El Rancaguino       0.85      0.88      0.87       323\n",
      "   La Discusión       0.84      0.78      0.81       351\n",
      "      La Nación       0.51      0.51      0.51       319\n",
      "         La RED       0.79      0.89      0.84       307\n",
      "           MEGA       0.89      0.84      0.87       332\n",
      "Radio Concierto       0.76      0.80      0.78       320\n",
      "     The Clinic       0.85      0.76      0.81       353\n",
      "\n",
      "       accuracy                           0.78      3300\n",
      "      macro avg       0.78      0.78      0.78      3300\n",
      "   weighted avg       0.78      0.78      0.78      3300\n",
      "\n"
     ]
    }
   ],
   "source": [
    "print(classification_report(y_test, y_pred_2))"
   ]
  },
  {
   "cell_type": "markdown",
   "metadata": {
    "id": "qeVEtswQSQH0"
   },
   "source": [
    "### Propuesto...\n",
    "\n",
    "- Usar su modelo de embeddings favorito para ver si mejora la clasificación:\n",
    "    \n",
    " - Fast y word2vec en español, [cortesía](https://github.com/dccuchile/spanish-word-embeddings) de los grandes del DCC\n",
    " - [Conceptnet](https://github.com/commonsense/conceptnet-numberbatch)\n",
    "\n",
    "\n",
    "- Visualizar los documentos usando `doc2vec`"
   ]
  }
 ],
 "metadata": {
  "colab": {
   "provenance": [
    {
     "file_id": "1CKZliyvBErZuiKo_yipzr_ba4VdbyjM_",
     "timestamp": 1689352512360
    },
    {
     "file_id": "11m8N5FU0sGAe8rSGEKemkKy_z3OU-Q_6",
     "timestamp": 1681599824039
    }
   ]
  },
  "kernelspec": {
   "display_name": "Python 3",
   "language": "python",
   "name": "python3"
  },
  "language_info": {
   "codemirror_mode": {
    "name": "ipython",
    "version": 3
   },
   "file_extension": ".py",
   "mimetype": "text/x-python",
   "name": "python",
   "nbconvert_exporter": "python",
   "pygments_lexer": "ipython3",
   "version": "3.8.8"
  },
  "widgets": {
   "application/vnd.jupyter.widget-state+json": {
    "0069bb10356146eaa9eba3e44894bca7": {
     "model_module": "@jupyter-widgets/base",
     "model_module_version": "1.2.0",
     "model_name": "LayoutModel",
     "state": {
      "_model_module": "@jupyter-widgets/base",
      "_model_module_version": "1.2.0",
      "_model_name": "LayoutModel",
      "_view_count": null,
      "_view_module": "@jupyter-widgets/base",
      "_view_module_version": "1.2.0",
      "_view_name": "LayoutView",
      "align_content": null,
      "align_items": null,
      "align_self": null,
      "border": null,
      "bottom": null,
      "display": null,
      "flex": null,
      "flex_flow": null,
      "grid_area": null,
      "grid_auto_columns": null,
      "grid_auto_flow": null,
      "grid_auto_rows": null,
      "grid_column": null,
      "grid_gap": null,
      "grid_row": null,
      "grid_template_areas": null,
      "grid_template_columns": null,
      "grid_template_rows": null,
      "height": null,
      "justify_content": null,
      "justify_items": null,
      "left": null,
      "margin": null,
      "max_height": null,
      "max_width": null,
      "min_height": null,
      "min_width": null,
      "object_fit": null,
      "object_position": null,
      "order": null,
      "overflow": null,
      "overflow_x": null,
      "overflow_y": null,
      "padding": null,
      "right": null,
      "top": null,
      "visibility": null,
      "width": null
     }
    },
    "036928c561834254858d52408d76898c": {
     "model_module": "@jupyter-widgets/controls",
     "model_module_version": "1.5.0",
     "model_name": "DescriptionStyleModel",
     "state": {
      "_model_module": "@jupyter-widgets/controls",
      "_model_module_version": "1.5.0",
      "_model_name": "DescriptionStyleModel",
      "_view_count": null,
      "_view_module": "@jupyter-widgets/base",
      "_view_module_version": "1.2.0",
      "_view_name": "StyleView",
      "description_width": ""
     }
    },
    "08f30a88c5e74c618ef1d3bbbca2c786": {
     "model_module": "@jupyter-widgets/base",
     "model_module_version": "1.2.0",
     "model_name": "LayoutModel",
     "state": {
      "_model_module": "@jupyter-widgets/base",
      "_model_module_version": "1.2.0",
      "_model_name": "LayoutModel",
      "_view_count": null,
      "_view_module": "@jupyter-widgets/base",
      "_view_module_version": "1.2.0",
      "_view_name": "LayoutView",
      "align_content": null,
      "align_items": null,
      "align_self": null,
      "border": null,
      "bottom": null,
      "display": null,
      "flex": null,
      "flex_flow": null,
      "grid_area": null,
      "grid_auto_columns": null,
      "grid_auto_flow": null,
      "grid_auto_rows": null,
      "grid_column": null,
      "grid_gap": null,
      "grid_row": null,
      "grid_template_areas": null,
      "grid_template_columns": null,
      "grid_template_rows": null,
      "height": null,
      "justify_content": null,
      "justify_items": null,
      "left": null,
      "margin": null,
      "max_height": null,
      "max_width": null,
      "min_height": null,
      "min_width": null,
      "object_fit": null,
      "object_position": null,
      "order": null,
      "overflow": null,
      "overflow_x": null,
      "overflow_y": null,
      "padding": null,
      "right": null,
      "top": null,
      "visibility": null,
      "width": null
     }
    },
    "0a5fa1c7fd5e4142bb56e933a39b340d": {
     "model_module": "@jupyter-widgets/controls",
     "model_module_version": "1.5.0",
     "model_name": "HTMLModel",
     "state": {
      "_dom_classes": [],
      "_model_module": "@jupyter-widgets/controls",
      "_model_module_version": "1.5.0",
      "_model_name": "HTMLModel",
      "_view_count": null,
      "_view_module": "@jupyter-widgets/controls",
      "_view_module_version": "1.5.0",
      "_view_name": "HTMLView",
      "description": "",
      "description_tooltip": null,
      "layout": "IPY_MODEL_6cba9bab2f5e479e99bf7d6f1e7518e6",
      "placeholder": "​",
      "style": "IPY_MODEL_38d55f5645c3424db30f61c94736f49e",
      "value": "Downloading pytorch_model.bin: 100%"
     }
    },
    "0e6861184e964e2bae5b69797ca720b8": {
     "model_module": "@jupyter-widgets/controls",
     "model_module_version": "1.5.0",
     "model_name": "FloatProgressModel",
     "state": {
      "_dom_classes": [],
      "_model_module": "@jupyter-widgets/controls",
      "_model_module_version": "1.5.0",
      "_model_name": "FloatProgressModel",
      "_view_count": null,
      "_view_module": "@jupyter-widgets/controls",
      "_view_module_version": "1.5.0",
      "_view_name": "ProgressView",
      "bar_style": "success",
      "description": "",
      "description_tooltip": null,
      "layout": "IPY_MODEL_dc3a44a61b754a228270ff65043e14f6",
      "max": 439621341,
      "min": 0,
      "orientation": "horizontal",
      "style": "IPY_MODEL_75318da8038145adaf8d7ce444713fc8",
      "value": 439621341
     }
    },
    "0ec96468291a4e19af61b79527db559b": {
     "model_module": "@jupyter-widgets/base",
     "model_module_version": "1.2.0",
     "model_name": "LayoutModel",
     "state": {
      "_model_module": "@jupyter-widgets/base",
      "_model_module_version": "1.2.0",
      "_model_name": "LayoutModel",
      "_view_count": null,
      "_view_module": "@jupyter-widgets/base",
      "_view_module_version": "1.2.0",
      "_view_name": "LayoutView",
      "align_content": null,
      "align_items": null,
      "align_self": null,
      "border": null,
      "bottom": null,
      "display": null,
      "flex": null,
      "flex_flow": null,
      "grid_area": null,
      "grid_auto_columns": null,
      "grid_auto_flow": null,
      "grid_auto_rows": null,
      "grid_column": null,
      "grid_gap": null,
      "grid_row": null,
      "grid_template_areas": null,
      "grid_template_columns": null,
      "grid_template_rows": null,
      "height": null,
      "justify_content": null,
      "justify_items": null,
      "left": null,
      "margin": null,
      "max_height": null,
      "max_width": null,
      "min_height": null,
      "min_width": null,
      "object_fit": null,
      "object_position": null,
      "order": null,
      "overflow": null,
      "overflow_x": null,
      "overflow_y": null,
      "padding": null,
      "right": null,
      "top": null,
      "visibility": null,
      "width": null
     }
    },
    "0fc5d0acb4284087adb576209df1eb99": {
     "model_module": "@jupyter-widgets/base",
     "model_module_version": "1.2.0",
     "model_name": "LayoutModel",
     "state": {
      "_model_module": "@jupyter-widgets/base",
      "_model_module_version": "1.2.0",
      "_model_name": "LayoutModel",
      "_view_count": null,
      "_view_module": "@jupyter-widgets/base",
      "_view_module_version": "1.2.0",
      "_view_name": "LayoutView",
      "align_content": null,
      "align_items": null,
      "align_self": null,
      "border": null,
      "bottom": null,
      "display": null,
      "flex": null,
      "flex_flow": null,
      "grid_area": null,
      "grid_auto_columns": null,
      "grid_auto_flow": null,
      "grid_auto_rows": null,
      "grid_column": null,
      "grid_gap": null,
      "grid_row": null,
      "grid_template_areas": null,
      "grid_template_columns": null,
      "grid_template_rows": null,
      "height": null,
      "justify_content": null,
      "justify_items": null,
      "left": null,
      "margin": null,
      "max_height": null,
      "max_width": null,
      "min_height": null,
      "min_width": null,
      "object_fit": null,
      "object_position": null,
      "order": null,
      "overflow": null,
      "overflow_x": null,
      "overflow_y": null,
      "padding": null,
      "right": null,
      "top": null,
      "visibility": null,
      "width": null
     }
    },
    "1e29442ec55e4dd59f44b0fb71a23b8f": {
     "model_module": "@jupyter-widgets/controls",
     "model_module_version": "1.5.0",
     "model_name": "HTMLModel",
     "state": {
      "_dom_classes": [],
      "_model_module": "@jupyter-widgets/controls",
      "_model_module_version": "1.5.0",
      "_model_name": "HTMLModel",
      "_view_count": null,
      "_view_module": "@jupyter-widgets/controls",
      "_view_module_version": "1.5.0",
      "_view_name": "HTMLView",
      "description": "",
      "description_tooltip": null,
      "layout": "IPY_MODEL_eefef1ee3e2e4bd2b47dc20b1b52ec31",
      "placeholder": "​",
      "style": "IPY_MODEL_5987b25cc2a64814beef1a95a6187710",
      "value": " 480k/480k [00:00&lt;00:00, 23.4MB/s]"
     }
    },
    "21446be41c844287a66bae75442068bb": {
     "model_module": "@jupyter-widgets/base",
     "model_module_version": "1.2.0",
     "model_name": "LayoutModel",
     "state": {
      "_model_module": "@jupyter-widgets/base",
      "_model_module_version": "1.2.0",
      "_model_name": "LayoutModel",
      "_view_count": null,
      "_view_module": "@jupyter-widgets/base",
      "_view_module_version": "1.2.0",
      "_view_name": "LayoutView",
      "align_content": null,
      "align_items": null,
      "align_self": null,
      "border": null,
      "bottom": null,
      "display": null,
      "flex": null,
      "flex_flow": null,
      "grid_area": null,
      "grid_auto_columns": null,
      "grid_auto_flow": null,
      "grid_auto_rows": null,
      "grid_column": null,
      "grid_gap": null,
      "grid_row": null,
      "grid_template_areas": null,
      "grid_template_columns": null,
      "grid_template_rows": null,
      "height": null,
      "justify_content": null,
      "justify_items": null,
      "left": null,
      "margin": null,
      "max_height": null,
      "max_width": null,
      "min_height": null,
      "min_width": null,
      "object_fit": null,
      "object_position": null,
      "order": null,
      "overflow": null,
      "overflow_x": null,
      "overflow_y": null,
      "padding": null,
      "right": null,
      "top": null,
      "visibility": null,
      "width": null
     }
    },
    "22436ac0bedf4bacadf501f1b45fff6d": {
     "model_module": "@jupyter-widgets/controls",
     "model_module_version": "1.5.0",
     "model_name": "HBoxModel",
     "state": {
      "_dom_classes": [],
      "_model_module": "@jupyter-widgets/controls",
      "_model_module_version": "1.5.0",
      "_model_name": "HBoxModel",
      "_view_count": null,
      "_view_module": "@jupyter-widgets/controls",
      "_view_module_version": "1.5.0",
      "_view_name": "HBoxView",
      "box_style": "",
      "children": [
       "IPY_MODEL_c03e4e61c17742d0827e85d85d96549b",
       "IPY_MODEL_37b487cea99645609e0a582df5ad6bc7",
       "IPY_MODEL_e4f0f9fd18ed4d11aa6ead5a747bceee"
      ],
      "layout": "IPY_MODEL_73555ae0c93e4d88b758664b55267f8f"
     }
    },
    "27c901024b6144939d2ee66bf62f0453": {
     "model_module": "@jupyter-widgets/base",
     "model_module_version": "1.2.0",
     "model_name": "LayoutModel",
     "state": {
      "_model_module": "@jupyter-widgets/base",
      "_model_module_version": "1.2.0",
      "_model_name": "LayoutModel",
      "_view_count": null,
      "_view_module": "@jupyter-widgets/base",
      "_view_module_version": "1.2.0",
      "_view_name": "LayoutView",
      "align_content": null,
      "align_items": null,
      "align_self": null,
      "border": null,
      "bottom": null,
      "display": null,
      "flex": null,
      "flex_flow": null,
      "grid_area": null,
      "grid_auto_columns": null,
      "grid_auto_flow": null,
      "grid_auto_rows": null,
      "grid_column": null,
      "grid_gap": null,
      "grid_row": null,
      "grid_template_areas": null,
      "grid_template_columns": null,
      "grid_template_rows": null,
      "height": null,
      "justify_content": null,
      "justify_items": null,
      "left": null,
      "margin": null,
      "max_height": null,
      "max_width": null,
      "min_height": null,
      "min_width": null,
      "object_fit": null,
      "object_position": null,
      "order": null,
      "overflow": null,
      "overflow_x": null,
      "overflow_y": null,
      "padding": null,
      "right": null,
      "top": null,
      "visibility": null,
      "width": null
     }
    },
    "29f96f0a7d384627a8331e986db7ea4a": {
     "model_module": "@jupyter-widgets/controls",
     "model_module_version": "1.5.0",
     "model_name": "ProgressStyleModel",
     "state": {
      "_model_module": "@jupyter-widgets/controls",
      "_model_module_version": "1.5.0",
      "_model_name": "ProgressStyleModel",
      "_view_count": null,
      "_view_module": "@jupyter-widgets/base",
      "_view_module_version": "1.2.0",
      "_view_name": "StyleView",
      "bar_color": null,
      "description_width": ""
     }
    },
    "2ccfdf85cca04010bec427bab067053f": {
     "model_module": "@jupyter-widgets/base",
     "model_module_version": "1.2.0",
     "model_name": "LayoutModel",
     "state": {
      "_model_module": "@jupyter-widgets/base",
      "_model_module_version": "1.2.0",
      "_model_name": "LayoutModel",
      "_view_count": null,
      "_view_module": "@jupyter-widgets/base",
      "_view_module_version": "1.2.0",
      "_view_name": "LayoutView",
      "align_content": null,
      "align_items": null,
      "align_self": null,
      "border": null,
      "bottom": null,
      "display": null,
      "flex": null,
      "flex_flow": null,
      "grid_area": null,
      "grid_auto_columns": null,
      "grid_auto_flow": null,
      "grid_auto_rows": null,
      "grid_column": null,
      "grid_gap": null,
      "grid_row": null,
      "grid_template_areas": null,
      "grid_template_columns": null,
      "grid_template_rows": null,
      "height": null,
      "justify_content": null,
      "justify_items": null,
      "left": null,
      "margin": null,
      "max_height": null,
      "max_width": null,
      "min_height": null,
      "min_width": null,
      "object_fit": null,
      "object_position": null,
      "order": null,
      "overflow": null,
      "overflow_x": null,
      "overflow_y": null,
      "padding": null,
      "right": null,
      "top": null,
      "visibility": null,
      "width": null
     }
    },
    "303e3045d7ae42bb99972f0b1e63b0f3": {
     "model_module": "@jupyter-widgets/controls",
     "model_module_version": "1.5.0",
     "model_name": "HBoxModel",
     "state": {
      "_dom_classes": [],
      "_model_module": "@jupyter-widgets/controls",
      "_model_module_version": "1.5.0",
      "_model_name": "HBoxModel",
      "_view_count": null,
      "_view_module": "@jupyter-widgets/controls",
      "_view_module_version": "1.5.0",
      "_view_name": "HBoxView",
      "box_style": "",
      "children": [
       "IPY_MODEL_e34b73dd11a84cd9870fd0335cc3747a",
       "IPY_MODEL_a342ac12148645b98c88757f19a0984d",
       "IPY_MODEL_e196fe36e1c947cdac0206da0f2f7b7c"
      ],
      "layout": "IPY_MODEL_bf3eed4cae4843bca4caa5318fb9ca8b"
     }
    },
    "30b84693db45420f92823517fd28fd1b": {
     "model_module": "@jupyter-widgets/controls",
     "model_module_version": "1.5.0",
     "model_name": "FloatProgressModel",
     "state": {
      "_dom_classes": [],
      "_model_module": "@jupyter-widgets/controls",
      "_model_module_version": "1.5.0",
      "_model_name": "FloatProgressModel",
      "_view_count": null,
      "_view_module": "@jupyter-widgets/controls",
      "_view_module_version": "1.5.0",
      "_view_name": "ProgressView",
      "bar_style": "success",
      "description": "",
      "description_tooltip": null,
      "layout": "IPY_MODEL_0fc5d0acb4284087adb576209df1eb99",
      "max": 480199,
      "min": 0,
      "orientation": "horizontal",
      "style": "IPY_MODEL_509baa6223d44a01a6b18bf8dabe2602",
      "value": 480199
     }
    },
    "363c25a8814a462f80d515f0b8466fc0": {
     "model_module": "@jupyter-widgets/base",
     "model_module_version": "1.2.0",
     "model_name": "LayoutModel",
     "state": {
      "_model_module": "@jupyter-widgets/base",
      "_model_module_version": "1.2.0",
      "_model_name": "LayoutModel",
      "_view_count": null,
      "_view_module": "@jupyter-widgets/base",
      "_view_module_version": "1.2.0",
      "_view_name": "LayoutView",
      "align_content": null,
      "align_items": null,
      "align_self": null,
      "border": null,
      "bottom": null,
      "display": null,
      "flex": null,
      "flex_flow": null,
      "grid_area": null,
      "grid_auto_columns": null,
      "grid_auto_flow": null,
      "grid_auto_rows": null,
      "grid_column": null,
      "grid_gap": null,
      "grid_row": null,
      "grid_template_areas": null,
      "grid_template_columns": null,
      "grid_template_rows": null,
      "height": null,
      "justify_content": null,
      "justify_items": null,
      "left": null,
      "margin": null,
      "max_height": null,
      "max_width": null,
      "min_height": null,
      "min_width": null,
      "object_fit": null,
      "object_position": null,
      "order": null,
      "overflow": null,
      "overflow_x": null,
      "overflow_y": null,
      "padding": null,
      "right": null,
      "top": null,
      "visibility": null,
      "width": null
     }
    },
    "37b487cea99645609e0a582df5ad6bc7": {
     "model_module": "@jupyter-widgets/controls",
     "model_module_version": "1.5.0",
     "model_name": "FloatProgressModel",
     "state": {
      "_dom_classes": [],
      "_model_module": "@jupyter-widgets/controls",
      "_model_module_version": "1.5.0",
      "_model_name": "FloatProgressModel",
      "_view_count": null,
      "_view_module": "@jupyter-widgets/controls",
      "_view_module_version": "1.5.0",
      "_view_name": "ProgressView",
      "bar_style": "success",
      "description": "",
      "description_tooltip": null,
      "layout": "IPY_MODEL_f2f30224592b43ea9446fca8e57b057d",
      "max": 648,
      "min": 0,
      "orientation": "horizontal",
      "style": "IPY_MODEL_ce78c6e435a548ee82cc92966e211084",
      "value": 648
     }
    },
    "38d55f5645c3424db30f61c94736f49e": {
     "model_module": "@jupyter-widgets/controls",
     "model_module_version": "1.5.0",
     "model_name": "DescriptionStyleModel",
     "state": {
      "_model_module": "@jupyter-widgets/controls",
      "_model_module_version": "1.5.0",
      "_model_name": "DescriptionStyleModel",
      "_view_count": null,
      "_view_module": "@jupyter-widgets/base",
      "_view_module_version": "1.2.0",
      "_view_name": "StyleView",
      "description_width": ""
     }
    },
    "4c4af53cc1364790949dcb1a64dc119d": {
     "model_module": "@jupyter-widgets/controls",
     "model_module_version": "1.5.0",
     "model_name": "FloatProgressModel",
     "state": {
      "_dom_classes": [],
      "_model_module": "@jupyter-widgets/controls",
      "_model_module_version": "1.5.0",
      "_model_name": "FloatProgressModel",
      "_view_count": null,
      "_view_module": "@jupyter-widgets/controls",
      "_view_module_version": "1.5.0",
      "_view_name": "ProgressView",
      "bar_style": "success",
      "description": "",
      "description_tooltip": null,
      "layout": "IPY_MODEL_72cfda811b60467d811373231fe7bd74",
      "max": 364,
      "min": 0,
      "orientation": "horizontal",
      "style": "IPY_MODEL_29f96f0a7d384627a8331e986db7ea4a",
      "value": 364
     }
    },
    "509baa6223d44a01a6b18bf8dabe2602": {
     "model_module": "@jupyter-widgets/controls",
     "model_module_version": "1.5.0",
     "model_name": "ProgressStyleModel",
     "state": {
      "_model_module": "@jupyter-widgets/controls",
      "_model_module_version": "1.5.0",
      "_model_name": "ProgressStyleModel",
      "_view_count": null,
      "_view_module": "@jupyter-widgets/base",
      "_view_module_version": "1.2.0",
      "_view_name": "StyleView",
      "bar_color": null,
      "description_width": ""
     }
    },
    "546ef0a2ddb240bbb48cdbcf52ae19c3": {
     "model_module": "@jupyter-widgets/base",
     "model_module_version": "1.2.0",
     "model_name": "LayoutModel",
     "state": {
      "_model_module": "@jupyter-widgets/base",
      "_model_module_version": "1.2.0",
      "_model_name": "LayoutModel",
      "_view_count": null,
      "_view_module": "@jupyter-widgets/base",
      "_view_module_version": "1.2.0",
      "_view_name": "LayoutView",
      "align_content": null,
      "align_items": null,
      "align_self": null,
      "border": null,
      "bottom": null,
      "display": null,
      "flex": null,
      "flex_flow": null,
      "grid_area": null,
      "grid_auto_columns": null,
      "grid_auto_flow": null,
      "grid_auto_rows": null,
      "grid_column": null,
      "grid_gap": null,
      "grid_row": null,
      "grid_template_areas": null,
      "grid_template_columns": null,
      "grid_template_rows": null,
      "height": null,
      "justify_content": null,
      "justify_items": null,
      "left": null,
      "margin": null,
      "max_height": null,
      "max_width": null,
      "min_height": null,
      "min_width": null,
      "object_fit": null,
      "object_position": null,
      "order": null,
      "overflow": null,
      "overflow_x": null,
      "overflow_y": null,
      "padding": null,
      "right": null,
      "top": null,
      "visibility": null,
      "width": null
     }
    },
    "5844d0d0e8a742008b51d708b1b803cc": {
     "model_module": "@jupyter-widgets/controls",
     "model_module_version": "1.5.0",
     "model_name": "DescriptionStyleModel",
     "state": {
      "_model_module": "@jupyter-widgets/controls",
      "_model_module_version": "1.5.0",
      "_model_name": "DescriptionStyleModel",
      "_view_count": null,
      "_view_module": "@jupyter-widgets/base",
      "_view_module_version": "1.2.0",
      "_view_name": "StyleView",
      "description_width": ""
     }
    },
    "5987b25cc2a64814beef1a95a6187710": {
     "model_module": "@jupyter-widgets/controls",
     "model_module_version": "1.5.0",
     "model_name": "DescriptionStyleModel",
     "state": {
      "_model_module": "@jupyter-widgets/controls",
      "_model_module_version": "1.5.0",
      "_model_name": "DescriptionStyleModel",
      "_view_count": null,
      "_view_module": "@jupyter-widgets/base",
      "_view_module_version": "1.2.0",
      "_view_name": "StyleView",
      "description_width": ""
     }
    },
    "5a37778970814e3bbd16273e324958d0": {
     "model_module": "@jupyter-widgets/controls",
     "model_module_version": "1.5.0",
     "model_name": "FloatProgressModel",
     "state": {
      "_dom_classes": [],
      "_model_module": "@jupyter-widgets/controls",
      "_model_module_version": "1.5.0",
      "_model_name": "FloatProgressModel",
      "_view_count": null,
      "_view_module": "@jupyter-widgets/controls",
      "_view_module_version": "1.5.0",
      "_view_name": "ProgressView",
      "bar_style": "success",
      "description": "",
      "description_tooltip": null,
      "layout": "IPY_MODEL_0ec96468291a4e19af61b79527db559b",
      "max": 134,
      "min": 0,
      "orientation": "horizontal",
      "style": "IPY_MODEL_d9652d0945344de59e000ebb108b1d64",
      "value": 134
     }
    },
    "5fd467bbdd304f5b8579cc31bf624690": {
     "model_module": "@jupyter-widgets/base",
     "model_module_version": "1.2.0",
     "model_name": "LayoutModel",
     "state": {
      "_model_module": "@jupyter-widgets/base",
      "_model_module_version": "1.2.0",
      "_model_name": "LayoutModel",
      "_view_count": null,
      "_view_module": "@jupyter-widgets/base",
      "_view_module_version": "1.2.0",
      "_view_name": "LayoutView",
      "align_content": null,
      "align_items": null,
      "align_self": null,
      "border": null,
      "bottom": null,
      "display": null,
      "flex": null,
      "flex_flow": null,
      "grid_area": null,
      "grid_auto_columns": null,
      "grid_auto_flow": null,
      "grid_auto_rows": null,
      "grid_column": null,
      "grid_gap": null,
      "grid_row": null,
      "grid_template_areas": null,
      "grid_template_columns": null,
      "grid_template_rows": null,
      "height": null,
      "justify_content": null,
      "justify_items": null,
      "left": null,
      "margin": null,
      "max_height": null,
      "max_width": null,
      "min_height": null,
      "min_width": null,
      "object_fit": null,
      "object_position": null,
      "order": null,
      "overflow": null,
      "overflow_x": null,
      "overflow_y": null,
      "padding": null,
      "right": null,
      "top": null,
      "visibility": null,
      "width": null
     }
    },
    "6382cb4cb2ec44fc9ddc15d3adb7d66d": {
     "model_module": "@jupyter-widgets/controls",
     "model_module_version": "1.5.0",
     "model_name": "DescriptionStyleModel",
     "state": {
      "_model_module": "@jupyter-widgets/controls",
      "_model_module_version": "1.5.0",
      "_model_name": "DescriptionStyleModel",
      "_view_count": null,
      "_view_module": "@jupyter-widgets/base",
      "_view_module_version": "1.2.0",
      "_view_name": "StyleView",
      "description_width": ""
     }
    },
    "6cba9bab2f5e479e99bf7d6f1e7518e6": {
     "model_module": "@jupyter-widgets/base",
     "model_module_version": "1.2.0",
     "model_name": "LayoutModel",
     "state": {
      "_model_module": "@jupyter-widgets/base",
      "_model_module_version": "1.2.0",
      "_model_name": "LayoutModel",
      "_view_count": null,
      "_view_module": "@jupyter-widgets/base",
      "_view_module_version": "1.2.0",
      "_view_name": "LayoutView",
      "align_content": null,
      "align_items": null,
      "align_self": null,
      "border": null,
      "bottom": null,
      "display": null,
      "flex": null,
      "flex_flow": null,
      "grid_area": null,
      "grid_auto_columns": null,
      "grid_auto_flow": null,
      "grid_auto_rows": null,
      "grid_column": null,
      "grid_gap": null,
      "grid_row": null,
      "grid_template_areas": null,
      "grid_template_columns": null,
      "grid_template_rows": null,
      "height": null,
      "justify_content": null,
      "justify_items": null,
      "left": null,
      "margin": null,
      "max_height": null,
      "max_width": null,
      "min_height": null,
      "min_width": null,
      "object_fit": null,
      "object_position": null,
      "order": null,
      "overflow": null,
      "overflow_x": null,
      "overflow_y": null,
      "padding": null,
      "right": null,
      "top": null,
      "visibility": null,
      "width": null
     }
    },
    "72cfda811b60467d811373231fe7bd74": {
     "model_module": "@jupyter-widgets/base",
     "model_module_version": "1.2.0",
     "model_name": "LayoutModel",
     "state": {
      "_model_module": "@jupyter-widgets/base",
      "_model_module_version": "1.2.0",
      "_model_name": "LayoutModel",
      "_view_count": null,
      "_view_module": "@jupyter-widgets/base",
      "_view_module_version": "1.2.0",
      "_view_name": "LayoutView",
      "align_content": null,
      "align_items": null,
      "align_self": null,
      "border": null,
      "bottom": null,
      "display": null,
      "flex": null,
      "flex_flow": null,
      "grid_area": null,
      "grid_auto_columns": null,
      "grid_auto_flow": null,
      "grid_auto_rows": null,
      "grid_column": null,
      "grid_gap": null,
      "grid_row": null,
      "grid_template_areas": null,
      "grid_template_columns": null,
      "grid_template_rows": null,
      "height": null,
      "justify_content": null,
      "justify_items": null,
      "left": null,
      "margin": null,
      "max_height": null,
      "max_width": null,
      "min_height": null,
      "min_width": null,
      "object_fit": null,
      "object_position": null,
      "order": null,
      "overflow": null,
      "overflow_x": null,
      "overflow_y": null,
      "padding": null,
      "right": null,
      "top": null,
      "visibility": null,
      "width": null
     }
    },
    "73555ae0c93e4d88b758664b55267f8f": {
     "model_module": "@jupyter-widgets/base",
     "model_module_version": "1.2.0",
     "model_name": "LayoutModel",
     "state": {
      "_model_module": "@jupyter-widgets/base",
      "_model_module_version": "1.2.0",
      "_model_name": "LayoutModel",
      "_view_count": null,
      "_view_module": "@jupyter-widgets/base",
      "_view_module_version": "1.2.0",
      "_view_name": "LayoutView",
      "align_content": null,
      "align_items": null,
      "align_self": null,
      "border": null,
      "bottom": null,
      "display": null,
      "flex": null,
      "flex_flow": null,
      "grid_area": null,
      "grid_auto_columns": null,
      "grid_auto_flow": null,
      "grid_auto_rows": null,
      "grid_column": null,
      "grid_gap": null,
      "grid_row": null,
      "grid_template_areas": null,
      "grid_template_columns": null,
      "grid_template_rows": null,
      "height": null,
      "justify_content": null,
      "justify_items": null,
      "left": null,
      "margin": null,
      "max_height": null,
      "max_width": null,
      "min_height": null,
      "min_width": null,
      "object_fit": null,
      "object_position": null,
      "order": null,
      "overflow": null,
      "overflow_x": null,
      "overflow_y": null,
      "padding": null,
      "right": null,
      "top": null,
      "visibility": null,
      "width": null
     }
    },
    "741ee3f93b1241afaa71bdaf246f1439": {
     "model_module": "@jupyter-widgets/base",
     "model_module_version": "1.2.0",
     "model_name": "LayoutModel",
     "state": {
      "_model_module": "@jupyter-widgets/base",
      "_model_module_version": "1.2.0",
      "_model_name": "LayoutModel",
      "_view_count": null,
      "_view_module": "@jupyter-widgets/base",
      "_view_module_version": "1.2.0",
      "_view_name": "LayoutView",
      "align_content": null,
      "align_items": null,
      "align_self": null,
      "border": null,
      "bottom": null,
      "display": null,
      "flex": null,
      "flex_flow": null,
      "grid_area": null,
      "grid_auto_columns": null,
      "grid_auto_flow": null,
      "grid_auto_rows": null,
      "grid_column": null,
      "grid_gap": null,
      "grid_row": null,
      "grid_template_areas": null,
      "grid_template_columns": null,
      "grid_template_rows": null,
      "height": null,
      "justify_content": null,
      "justify_items": null,
      "left": null,
      "margin": null,
      "max_height": null,
      "max_width": null,
      "min_height": null,
      "min_width": null,
      "object_fit": null,
      "object_position": null,
      "order": null,
      "overflow": null,
      "overflow_x": null,
      "overflow_y": null,
      "padding": null,
      "right": null,
      "top": null,
      "visibility": null,
      "width": null
     }
    },
    "75318da8038145adaf8d7ce444713fc8": {
     "model_module": "@jupyter-widgets/controls",
     "model_module_version": "1.5.0",
     "model_name": "ProgressStyleModel",
     "state": {
      "_model_module": "@jupyter-widgets/controls",
      "_model_module_version": "1.5.0",
      "_model_name": "ProgressStyleModel",
      "_view_count": null,
      "_view_module": "@jupyter-widgets/base",
      "_view_module_version": "1.2.0",
      "_view_name": "StyleView",
      "bar_color": null,
      "description_width": ""
     }
    },
    "82115137a08247739c9d92dcb60f6cf1": {
     "model_module": "@jupyter-widgets/controls",
     "model_module_version": "1.5.0",
     "model_name": "HBoxModel",
     "state": {
      "_dom_classes": [],
      "_model_module": "@jupyter-widgets/controls",
      "_model_module_version": "1.5.0",
      "_model_name": "HBoxModel",
      "_view_count": null,
      "_view_module": "@jupyter-widgets/controls",
      "_view_module_version": "1.5.0",
      "_view_name": "HBoxView",
      "box_style": "",
      "children": [
       "IPY_MODEL_a88b72e7fbd0440481d1f3dd0d083808",
       "IPY_MODEL_5a37778970814e3bbd16273e324958d0",
       "IPY_MODEL_fc63244d3fad46109637713ff0aa0634"
      ],
      "layout": "IPY_MODEL_363c25a8814a462f80d515f0b8466fc0"
     }
    },
    "a0b44d2af8804cd8b84fa4fc67b67797": {
     "model_module": "@jupyter-widgets/controls",
     "model_module_version": "1.5.0",
     "model_name": "HTMLModel",
     "state": {
      "_dom_classes": [],
      "_model_module": "@jupyter-widgets/controls",
      "_model_module_version": "1.5.0",
      "_model_name": "HTMLModel",
      "_view_count": null,
      "_view_module": "@jupyter-widgets/controls",
      "_view_module_version": "1.5.0",
      "_view_name": "HTMLView",
      "description": "",
      "description_tooltip": null,
      "layout": "IPY_MODEL_27c901024b6144939d2ee66bf62f0453",
      "placeholder": "​",
      "style": "IPY_MODEL_daaef88708474f428dde668da607f32a",
      "value": "Downloading (…)/main/tokenizer.json: 100%"
     }
    },
    "a342ac12148645b98c88757f19a0984d": {
     "model_module": "@jupyter-widgets/controls",
     "model_module_version": "1.5.0",
     "model_name": "FloatProgressModel",
     "state": {
      "_dom_classes": [],
      "_model_module": "@jupyter-widgets/controls",
      "_model_module_version": "1.5.0",
      "_model_name": "FloatProgressModel",
      "_view_count": null,
      "_view_module": "@jupyter-widgets/controls",
      "_view_module_version": "1.5.0",
      "_view_name": "ProgressView",
      "bar_style": "success",
      "description": "",
      "description_tooltip": null,
      "layout": "IPY_MODEL_5fd467bbdd304f5b8579cc31bf624690",
      "max": 241796,
      "min": 0,
      "orientation": "horizontal",
      "style": "IPY_MODEL_cd253cb76c944d7b8b6749fa4f136c7e",
      "value": 241796
     }
    },
    "a3f0f78f19564ef2b980388597e48ddc": {
     "model_module": "@jupyter-widgets/controls",
     "model_module_version": "1.5.0",
     "model_name": "HTMLModel",
     "state": {
      "_dom_classes": [],
      "_model_module": "@jupyter-widgets/controls",
      "_model_module_version": "1.5.0",
      "_model_name": "HTMLModel",
      "_view_count": null,
      "_view_module": "@jupyter-widgets/controls",
      "_view_module_version": "1.5.0",
      "_view_name": "HTMLView",
      "description": "",
      "description_tooltip": null,
      "layout": "IPY_MODEL_ac88e83e5f794cea89465386213d331f",
      "placeholder": "​",
      "style": "IPY_MODEL_5844d0d0e8a742008b51d708b1b803cc",
      "value": "Downloading (…)okenizer_config.json: 100%"
     }
    },
    "a564ad3528314e828b54a09dd7a2a8bb": {
     "model_module": "@jupyter-widgets/controls",
     "model_module_version": "1.5.0",
     "model_name": "DescriptionStyleModel",
     "state": {
      "_model_module": "@jupyter-widgets/controls",
      "_model_module_version": "1.5.0",
      "_model_name": "DescriptionStyleModel",
      "_view_count": null,
      "_view_module": "@jupyter-widgets/base",
      "_view_module_version": "1.2.0",
      "_view_name": "StyleView",
      "description_width": ""
     }
    },
    "a88b72e7fbd0440481d1f3dd0d083808": {
     "model_module": "@jupyter-widgets/controls",
     "model_module_version": "1.5.0",
     "model_name": "HTMLModel",
     "state": {
      "_dom_classes": [],
      "_model_module": "@jupyter-widgets/controls",
      "_model_module_version": "1.5.0",
      "_model_name": "HTMLModel",
      "_view_count": null,
      "_view_module": "@jupyter-widgets/controls",
      "_view_module_version": "1.5.0",
      "_view_name": "HTMLView",
      "description": "",
      "description_tooltip": null,
      "layout": "IPY_MODEL_cbb5020e568b4a62ac3bbdd9ce3facee",
      "placeholder": "​",
      "style": "IPY_MODEL_036928c561834254858d52408d76898c",
      "value": "Downloading (…)cial_tokens_map.json: 100%"
     }
    },
    "a9cae76a900e4184bd0f6335a2cf19cf": {
     "model_module": "@jupyter-widgets/base",
     "model_module_version": "1.2.0",
     "model_name": "LayoutModel",
     "state": {
      "_model_module": "@jupyter-widgets/base",
      "_model_module_version": "1.2.0",
      "_model_name": "LayoutModel",
      "_view_count": null,
      "_view_module": "@jupyter-widgets/base",
      "_view_module_version": "1.2.0",
      "_view_name": "LayoutView",
      "align_content": null,
      "align_items": null,
      "align_self": null,
      "border": null,
      "bottom": null,
      "display": null,
      "flex": null,
      "flex_flow": null,
      "grid_area": null,
      "grid_auto_columns": null,
      "grid_auto_flow": null,
      "grid_auto_rows": null,
      "grid_column": null,
      "grid_gap": null,
      "grid_row": null,
      "grid_template_areas": null,
      "grid_template_columns": null,
      "grid_template_rows": null,
      "height": null,
      "justify_content": null,
      "justify_items": null,
      "left": null,
      "margin": null,
      "max_height": null,
      "max_width": null,
      "min_height": null,
      "min_width": null,
      "object_fit": null,
      "object_position": null,
      "order": null,
      "overflow": null,
      "overflow_x": null,
      "overflow_y": null,
      "padding": null,
      "right": null,
      "top": null,
      "visibility": null,
      "width": null
     }
    },
    "aad3240d37dd4005a87749c10b54f8d7": {
     "model_module": "@jupyter-widgets/base",
     "model_module_version": "1.2.0",
     "model_name": "LayoutModel",
     "state": {
      "_model_module": "@jupyter-widgets/base",
      "_model_module_version": "1.2.0",
      "_model_name": "LayoutModel",
      "_view_count": null,
      "_view_module": "@jupyter-widgets/base",
      "_view_module_version": "1.2.0",
      "_view_name": "LayoutView",
      "align_content": null,
      "align_items": null,
      "align_self": null,
      "border": null,
      "bottom": null,
      "display": null,
      "flex": null,
      "flex_flow": null,
      "grid_area": null,
      "grid_auto_columns": null,
      "grid_auto_flow": null,
      "grid_auto_rows": null,
      "grid_column": null,
      "grid_gap": null,
      "grid_row": null,
      "grid_template_areas": null,
      "grid_template_columns": null,
      "grid_template_rows": null,
      "height": null,
      "justify_content": null,
      "justify_items": null,
      "left": null,
      "margin": null,
      "max_height": null,
      "max_width": null,
      "min_height": null,
      "min_width": null,
      "object_fit": null,
      "object_position": null,
      "order": null,
      "overflow": null,
      "overflow_x": null,
      "overflow_y": null,
      "padding": null,
      "right": null,
      "top": null,
      "visibility": null,
      "width": null
     }
    },
    "ac88e83e5f794cea89465386213d331f": {
     "model_module": "@jupyter-widgets/base",
     "model_module_version": "1.2.0",
     "model_name": "LayoutModel",
     "state": {
      "_model_module": "@jupyter-widgets/base",
      "_model_module_version": "1.2.0",
      "_model_name": "LayoutModel",
      "_view_count": null,
      "_view_module": "@jupyter-widgets/base",
      "_view_module_version": "1.2.0",
      "_view_name": "LayoutView",
      "align_content": null,
      "align_items": null,
      "align_self": null,
      "border": null,
      "bottom": null,
      "display": null,
      "flex": null,
      "flex_flow": null,
      "grid_area": null,
      "grid_auto_columns": null,
      "grid_auto_flow": null,
      "grid_auto_rows": null,
      "grid_column": null,
      "grid_gap": null,
      "grid_row": null,
      "grid_template_areas": null,
      "grid_template_columns": null,
      "grid_template_rows": null,
      "height": null,
      "justify_content": null,
      "justify_items": null,
      "left": null,
      "margin": null,
      "max_height": null,
      "max_width": null,
      "min_height": null,
      "min_width": null,
      "object_fit": null,
      "object_position": null,
      "order": null,
      "overflow": null,
      "overflow_x": null,
      "overflow_y": null,
      "padding": null,
      "right": null,
      "top": null,
      "visibility": null,
      "width": null
     }
    },
    "b9431c0246cd4a2dafb6684e58b20d8f": {
     "model_module": "@jupyter-widgets/controls",
     "model_module_version": "1.5.0",
     "model_name": "DescriptionStyleModel",
     "state": {
      "_model_module": "@jupyter-widgets/controls",
      "_model_module_version": "1.5.0",
      "_model_name": "DescriptionStyleModel",
      "_view_count": null,
      "_view_module": "@jupyter-widgets/base",
      "_view_module_version": "1.2.0",
      "_view_name": "StyleView",
      "description_width": ""
     }
    },
    "bb1ee1ec8f464a7098edd529ddef9d36": {
     "model_module": "@jupyter-widgets/controls",
     "model_module_version": "1.5.0",
     "model_name": "HBoxModel",
     "state": {
      "_dom_classes": [],
      "_model_module": "@jupyter-widgets/controls",
      "_model_module_version": "1.5.0",
      "_model_name": "HBoxModel",
      "_view_count": null,
      "_view_module": "@jupyter-widgets/controls",
      "_view_module_version": "1.5.0",
      "_view_name": "HBoxView",
      "box_style": "",
      "children": [
       "IPY_MODEL_a0b44d2af8804cd8b84fa4fc67b67797",
       "IPY_MODEL_30b84693db45420f92823517fd28fd1b",
       "IPY_MODEL_1e29442ec55e4dd59f44b0fb71a23b8f"
      ],
      "layout": "IPY_MODEL_741ee3f93b1241afaa71bdaf246f1439"
     }
    },
    "be3192a53f6a45f5b7abe7f0a37b5cd0": {
     "model_module": "@jupyter-widgets/controls",
     "model_module_version": "1.5.0",
     "model_name": "HBoxModel",
     "state": {
      "_dom_classes": [],
      "_model_module": "@jupyter-widgets/controls",
      "_model_module_version": "1.5.0",
      "_model_name": "HBoxModel",
      "_view_count": null,
      "_view_module": "@jupyter-widgets/controls",
      "_view_module_version": "1.5.0",
      "_view_name": "HBoxView",
      "box_style": "",
      "children": [
       "IPY_MODEL_a3f0f78f19564ef2b980388597e48ddc",
       "IPY_MODEL_4c4af53cc1364790949dcb1a64dc119d",
       "IPY_MODEL_e6e08fc536374c0e93bb68146854a9a2"
      ],
      "layout": "IPY_MODEL_21446be41c844287a66bae75442068bb"
     }
    },
    "bf3eed4cae4843bca4caa5318fb9ca8b": {
     "model_module": "@jupyter-widgets/base",
     "model_module_version": "1.2.0",
     "model_name": "LayoutModel",
     "state": {
      "_model_module": "@jupyter-widgets/base",
      "_model_module_version": "1.2.0",
      "_model_name": "LayoutModel",
      "_view_count": null,
      "_view_module": "@jupyter-widgets/base",
      "_view_module_version": "1.2.0",
      "_view_name": "LayoutView",
      "align_content": null,
      "align_items": null,
      "align_self": null,
      "border": null,
      "bottom": null,
      "display": null,
      "flex": null,
      "flex_flow": null,
      "grid_area": null,
      "grid_auto_columns": null,
      "grid_auto_flow": null,
      "grid_auto_rows": null,
      "grid_column": null,
      "grid_gap": null,
      "grid_row": null,
      "grid_template_areas": null,
      "grid_template_columns": null,
      "grid_template_rows": null,
      "height": null,
      "justify_content": null,
      "justify_items": null,
      "left": null,
      "margin": null,
      "max_height": null,
      "max_width": null,
      "min_height": null,
      "min_width": null,
      "object_fit": null,
      "object_position": null,
      "order": null,
      "overflow": null,
      "overflow_x": null,
      "overflow_y": null,
      "padding": null,
      "right": null,
      "top": null,
      "visibility": null,
      "width": null
     }
    },
    "c03e4e61c17742d0827e85d85d96549b": {
     "model_module": "@jupyter-widgets/controls",
     "model_module_version": "1.5.0",
     "model_name": "HTMLModel",
     "state": {
      "_dom_classes": [],
      "_model_module": "@jupyter-widgets/controls",
      "_model_module_version": "1.5.0",
      "_model_name": "HTMLModel",
      "_view_count": null,
      "_view_module": "@jupyter-widgets/controls",
      "_view_module_version": "1.5.0",
      "_view_name": "HTMLView",
      "description": "",
      "description_tooltip": null,
      "layout": "IPY_MODEL_2ccfdf85cca04010bec427bab067053f",
      "placeholder": "​",
      "style": "IPY_MODEL_f23217070345461d8e0d842dc0ddef87",
      "value": "Downloading (…)lve/main/config.json: 100%"
     }
    },
    "c50a292958f043b48902989e69297038": {
     "model_module": "@jupyter-widgets/controls",
     "model_module_version": "1.5.0",
     "model_name": "HTMLModel",
     "state": {
      "_dom_classes": [],
      "_model_module": "@jupyter-widgets/controls",
      "_model_module_version": "1.5.0",
      "_model_name": "HTMLModel",
      "_view_count": null,
      "_view_module": "@jupyter-widgets/controls",
      "_view_module_version": "1.5.0",
      "_view_name": "HTMLView",
      "description": "",
      "description_tooltip": null,
      "layout": "IPY_MODEL_e188c5eeb46640499270bc644c6720fc",
      "placeholder": "​",
      "style": "IPY_MODEL_a564ad3528314e828b54a09dd7a2a8bb",
      "value": " 440M/440M [00:15&lt;00:00, 24.5MB/s]"
     }
    },
    "cbb5020e568b4a62ac3bbdd9ce3facee": {
     "model_module": "@jupyter-widgets/base",
     "model_module_version": "1.2.0",
     "model_name": "LayoutModel",
     "state": {
      "_model_module": "@jupyter-widgets/base",
      "_model_module_version": "1.2.0",
      "_model_name": "LayoutModel",
      "_view_count": null,
      "_view_module": "@jupyter-widgets/base",
      "_view_module_version": "1.2.0",
      "_view_name": "LayoutView",
      "align_content": null,
      "align_items": null,
      "align_self": null,
      "border": null,
      "bottom": null,
      "display": null,
      "flex": null,
      "flex_flow": null,
      "grid_area": null,
      "grid_auto_columns": null,
      "grid_auto_flow": null,
      "grid_auto_rows": null,
      "grid_column": null,
      "grid_gap": null,
      "grid_row": null,
      "grid_template_areas": null,
      "grid_template_columns": null,
      "grid_template_rows": null,
      "height": null,
      "justify_content": null,
      "justify_items": null,
      "left": null,
      "margin": null,
      "max_height": null,
      "max_width": null,
      "min_height": null,
      "min_width": null,
      "object_fit": null,
      "object_position": null,
      "order": null,
      "overflow": null,
      "overflow_x": null,
      "overflow_y": null,
      "padding": null,
      "right": null,
      "top": null,
      "visibility": null,
      "width": null
     }
    },
    "cd253cb76c944d7b8b6749fa4f136c7e": {
     "model_module": "@jupyter-widgets/controls",
     "model_module_version": "1.5.0",
     "model_name": "ProgressStyleModel",
     "state": {
      "_model_module": "@jupyter-widgets/controls",
      "_model_module_version": "1.5.0",
      "_model_name": "ProgressStyleModel",
      "_view_count": null,
      "_view_module": "@jupyter-widgets/base",
      "_view_module_version": "1.2.0",
      "_view_name": "StyleView",
      "bar_color": null,
      "description_width": ""
     }
    },
    "ce78c6e435a548ee82cc92966e211084": {
     "model_module": "@jupyter-widgets/controls",
     "model_module_version": "1.5.0",
     "model_name": "ProgressStyleModel",
     "state": {
      "_model_module": "@jupyter-widgets/controls",
      "_model_module_version": "1.5.0",
      "_model_name": "ProgressStyleModel",
      "_view_count": null,
      "_view_module": "@jupyter-widgets/base",
      "_view_module_version": "1.2.0",
      "_view_name": "StyleView",
      "bar_color": null,
      "description_width": ""
     }
    },
    "ceaf9b04ac4c4f35bad78db390298902": {
     "model_module": "@jupyter-widgets/base",
     "model_module_version": "1.2.0",
     "model_name": "LayoutModel",
     "state": {
      "_model_module": "@jupyter-widgets/base",
      "_model_module_version": "1.2.0",
      "_model_name": "LayoutModel",
      "_view_count": null,
      "_view_module": "@jupyter-widgets/base",
      "_view_module_version": "1.2.0",
      "_view_name": "LayoutView",
      "align_content": null,
      "align_items": null,
      "align_self": null,
      "border": null,
      "bottom": null,
      "display": null,
      "flex": null,
      "flex_flow": null,
      "grid_area": null,
      "grid_auto_columns": null,
      "grid_auto_flow": null,
      "grid_auto_rows": null,
      "grid_column": null,
      "grid_gap": null,
      "grid_row": null,
      "grid_template_areas": null,
      "grid_template_columns": null,
      "grid_template_rows": null,
      "height": null,
      "justify_content": null,
      "justify_items": null,
      "left": null,
      "margin": null,
      "max_height": null,
      "max_width": null,
      "min_height": null,
      "min_width": null,
      "object_fit": null,
      "object_position": null,
      "order": null,
      "overflow": null,
      "overflow_x": null,
      "overflow_y": null,
      "padding": null,
      "right": null,
      "top": null,
      "visibility": null,
      "width": null
     }
    },
    "d9652d0945344de59e000ebb108b1d64": {
     "model_module": "@jupyter-widgets/controls",
     "model_module_version": "1.5.0",
     "model_name": "ProgressStyleModel",
     "state": {
      "_model_module": "@jupyter-widgets/controls",
      "_model_module_version": "1.5.0",
      "_model_name": "ProgressStyleModel",
      "_view_count": null,
      "_view_module": "@jupyter-widgets/base",
      "_view_module_version": "1.2.0",
      "_view_name": "StyleView",
      "bar_color": null,
      "description_width": ""
     }
    },
    "daaef88708474f428dde668da607f32a": {
     "model_module": "@jupyter-widgets/controls",
     "model_module_version": "1.5.0",
     "model_name": "DescriptionStyleModel",
     "state": {
      "_model_module": "@jupyter-widgets/controls",
      "_model_module_version": "1.5.0",
      "_model_name": "DescriptionStyleModel",
      "_view_count": null,
      "_view_module": "@jupyter-widgets/base",
      "_view_module_version": "1.2.0",
      "_view_name": "StyleView",
      "description_width": ""
     }
    },
    "dc3a44a61b754a228270ff65043e14f6": {
     "model_module": "@jupyter-widgets/base",
     "model_module_version": "1.2.0",
     "model_name": "LayoutModel",
     "state": {
      "_model_module": "@jupyter-widgets/base",
      "_model_module_version": "1.2.0",
      "_model_name": "LayoutModel",
      "_view_count": null,
      "_view_module": "@jupyter-widgets/base",
      "_view_module_version": "1.2.0",
      "_view_name": "LayoutView",
      "align_content": null,
      "align_items": null,
      "align_self": null,
      "border": null,
      "bottom": null,
      "display": null,
      "flex": null,
      "flex_flow": null,
      "grid_area": null,
      "grid_auto_columns": null,
      "grid_auto_flow": null,
      "grid_auto_rows": null,
      "grid_column": null,
      "grid_gap": null,
      "grid_row": null,
      "grid_template_areas": null,
      "grid_template_columns": null,
      "grid_template_rows": null,
      "height": null,
      "justify_content": null,
      "justify_items": null,
      "left": null,
      "margin": null,
      "max_height": null,
      "max_width": null,
      "min_height": null,
      "min_width": null,
      "object_fit": null,
      "object_position": null,
      "order": null,
      "overflow": null,
      "overflow_x": null,
      "overflow_y": null,
      "padding": null,
      "right": null,
      "top": null,
      "visibility": null,
      "width": null
     }
    },
    "deb09d48dc724c9eb7da3a72a0947a5a": {
     "model_module": "@jupyter-widgets/controls",
     "model_module_version": "1.5.0",
     "model_name": "DescriptionStyleModel",
     "state": {
      "_model_module": "@jupyter-widgets/controls",
      "_model_module_version": "1.5.0",
      "_model_name": "DescriptionStyleModel",
      "_view_count": null,
      "_view_module": "@jupyter-widgets/base",
      "_view_module_version": "1.2.0",
      "_view_name": "StyleView",
      "description_width": ""
     }
    },
    "e188c5eeb46640499270bc644c6720fc": {
     "model_module": "@jupyter-widgets/base",
     "model_module_version": "1.2.0",
     "model_name": "LayoutModel",
     "state": {
      "_model_module": "@jupyter-widgets/base",
      "_model_module_version": "1.2.0",
      "_model_name": "LayoutModel",
      "_view_count": null,
      "_view_module": "@jupyter-widgets/base",
      "_view_module_version": "1.2.0",
      "_view_name": "LayoutView",
      "align_content": null,
      "align_items": null,
      "align_self": null,
      "border": null,
      "bottom": null,
      "display": null,
      "flex": null,
      "flex_flow": null,
      "grid_area": null,
      "grid_auto_columns": null,
      "grid_auto_flow": null,
      "grid_auto_rows": null,
      "grid_column": null,
      "grid_gap": null,
      "grid_row": null,
      "grid_template_areas": null,
      "grid_template_columns": null,
      "grid_template_rows": null,
      "height": null,
      "justify_content": null,
      "justify_items": null,
      "left": null,
      "margin": null,
      "max_height": null,
      "max_width": null,
      "min_height": null,
      "min_width": null,
      "object_fit": null,
      "object_position": null,
      "order": null,
      "overflow": null,
      "overflow_x": null,
      "overflow_y": null,
      "padding": null,
      "right": null,
      "top": null,
      "visibility": null,
      "width": null
     }
    },
    "e196fe36e1c947cdac0206da0f2f7b7c": {
     "model_module": "@jupyter-widgets/controls",
     "model_module_version": "1.5.0",
     "model_name": "HTMLModel",
     "state": {
      "_dom_classes": [],
      "_model_module": "@jupyter-widgets/controls",
      "_model_module_version": "1.5.0",
      "_model_name": "HTMLModel",
      "_view_count": null,
      "_view_module": "@jupyter-widgets/controls",
      "_view_module_version": "1.5.0",
      "_view_name": "HTMLView",
      "description": "",
      "description_tooltip": null,
      "layout": "IPY_MODEL_aad3240d37dd4005a87749c10b54f8d7",
      "placeholder": "​",
      "style": "IPY_MODEL_e2dc461d85034f1f91ac6e1d14259fc3",
      "value": " 242k/242k [00:00&lt;00:00, 4.20MB/s]"
     }
    },
    "e2dc461d85034f1f91ac6e1d14259fc3": {
     "model_module": "@jupyter-widgets/controls",
     "model_module_version": "1.5.0",
     "model_name": "DescriptionStyleModel",
     "state": {
      "_model_module": "@jupyter-widgets/controls",
      "_model_module_version": "1.5.0",
      "_model_name": "DescriptionStyleModel",
      "_view_count": null,
      "_view_module": "@jupyter-widgets/base",
      "_view_module_version": "1.2.0",
      "_view_name": "StyleView",
      "description_width": ""
     }
    },
    "e34b73dd11a84cd9870fd0335cc3747a": {
     "model_module": "@jupyter-widgets/controls",
     "model_module_version": "1.5.0",
     "model_name": "HTMLModel",
     "state": {
      "_dom_classes": [],
      "_model_module": "@jupyter-widgets/controls",
      "_model_module_version": "1.5.0",
      "_model_name": "HTMLModel",
      "_view_count": null,
      "_view_module": "@jupyter-widgets/controls",
      "_view_module_version": "1.5.0",
      "_view_name": "HTMLView",
      "description": "",
      "description_tooltip": null,
      "layout": "IPY_MODEL_546ef0a2ddb240bbb48cdbcf52ae19c3",
      "placeholder": "​",
      "style": "IPY_MODEL_b9431c0246cd4a2dafb6684e58b20d8f",
      "value": "Downloading (…)solve/main/vocab.txt: 100%"
     }
    },
    "e4f0f9fd18ed4d11aa6ead5a747bceee": {
     "model_module": "@jupyter-widgets/controls",
     "model_module_version": "1.5.0",
     "model_name": "HTMLModel",
     "state": {
      "_dom_classes": [],
      "_model_module": "@jupyter-widgets/controls",
      "_model_module_version": "1.5.0",
      "_model_name": "HTMLModel",
      "_view_count": null,
      "_view_module": "@jupyter-widgets/controls",
      "_view_module_version": "1.5.0",
      "_view_name": "HTMLView",
      "description": "",
      "description_tooltip": null,
      "layout": "IPY_MODEL_0069bb10356146eaa9eba3e44894bca7",
      "placeholder": "​",
      "style": "IPY_MODEL_efa27daddb134127a9d6854edb517350",
      "value": " 648/648 [00:00&lt;00:00, 47.1kB/s]"
     }
    },
    "e6e08fc536374c0e93bb68146854a9a2": {
     "model_module": "@jupyter-widgets/controls",
     "model_module_version": "1.5.0",
     "model_name": "HTMLModel",
     "state": {
      "_dom_classes": [],
      "_model_module": "@jupyter-widgets/controls",
      "_model_module_version": "1.5.0",
      "_model_name": "HTMLModel",
      "_view_count": null,
      "_view_module": "@jupyter-widgets/controls",
      "_view_module_version": "1.5.0",
      "_view_name": "HTMLView",
      "description": "",
      "description_tooltip": null,
      "layout": "IPY_MODEL_a9cae76a900e4184bd0f6335a2cf19cf",
      "placeholder": "​",
      "style": "IPY_MODEL_6382cb4cb2ec44fc9ddc15d3adb7d66d",
      "value": " 364/364 [00:00&lt;00:00, 30.5kB/s]"
     }
    },
    "ea64ddaa90fa4573a883db8096dfa397": {
     "model_module": "@jupyter-widgets/controls",
     "model_module_version": "1.5.0",
     "model_name": "HBoxModel",
     "state": {
      "_dom_classes": [],
      "_model_module": "@jupyter-widgets/controls",
      "_model_module_version": "1.5.0",
      "_model_name": "HBoxModel",
      "_view_count": null,
      "_view_module": "@jupyter-widgets/controls",
      "_view_module_version": "1.5.0",
      "_view_name": "HBoxView",
      "box_style": "",
      "children": [
       "IPY_MODEL_0a5fa1c7fd5e4142bb56e933a39b340d",
       "IPY_MODEL_0e6861184e964e2bae5b69797ca720b8",
       "IPY_MODEL_c50a292958f043b48902989e69297038"
      ],
      "layout": "IPY_MODEL_08f30a88c5e74c618ef1d3bbbca2c786"
     }
    },
    "eefef1ee3e2e4bd2b47dc20b1b52ec31": {
     "model_module": "@jupyter-widgets/base",
     "model_module_version": "1.2.0",
     "model_name": "LayoutModel",
     "state": {
      "_model_module": "@jupyter-widgets/base",
      "_model_module_version": "1.2.0",
      "_model_name": "LayoutModel",
      "_view_count": null,
      "_view_module": "@jupyter-widgets/base",
      "_view_module_version": "1.2.0",
      "_view_name": "LayoutView",
      "align_content": null,
      "align_items": null,
      "align_self": null,
      "border": null,
      "bottom": null,
      "display": null,
      "flex": null,
      "flex_flow": null,
      "grid_area": null,
      "grid_auto_columns": null,
      "grid_auto_flow": null,
      "grid_auto_rows": null,
      "grid_column": null,
      "grid_gap": null,
      "grid_row": null,
      "grid_template_areas": null,
      "grid_template_columns": null,
      "grid_template_rows": null,
      "height": null,
      "justify_content": null,
      "justify_items": null,
      "left": null,
      "margin": null,
      "max_height": null,
      "max_width": null,
      "min_height": null,
      "min_width": null,
      "object_fit": null,
      "object_position": null,
      "order": null,
      "overflow": null,
      "overflow_x": null,
      "overflow_y": null,
      "padding": null,
      "right": null,
      "top": null,
      "visibility": null,
      "width": null
     }
    },
    "efa27daddb134127a9d6854edb517350": {
     "model_module": "@jupyter-widgets/controls",
     "model_module_version": "1.5.0",
     "model_name": "DescriptionStyleModel",
     "state": {
      "_model_module": "@jupyter-widgets/controls",
      "_model_module_version": "1.5.0",
      "_model_name": "DescriptionStyleModel",
      "_view_count": null,
      "_view_module": "@jupyter-widgets/base",
      "_view_module_version": "1.2.0",
      "_view_name": "StyleView",
      "description_width": ""
     }
    },
    "f23217070345461d8e0d842dc0ddef87": {
     "model_module": "@jupyter-widgets/controls",
     "model_module_version": "1.5.0",
     "model_name": "DescriptionStyleModel",
     "state": {
      "_model_module": "@jupyter-widgets/controls",
      "_model_module_version": "1.5.0",
      "_model_name": "DescriptionStyleModel",
      "_view_count": null,
      "_view_module": "@jupyter-widgets/base",
      "_view_module_version": "1.2.0",
      "_view_name": "StyleView",
      "description_width": ""
     }
    },
    "f2f30224592b43ea9446fca8e57b057d": {
     "model_module": "@jupyter-widgets/base",
     "model_module_version": "1.2.0",
     "model_name": "LayoutModel",
     "state": {
      "_model_module": "@jupyter-widgets/base",
      "_model_module_version": "1.2.0",
      "_model_name": "LayoutModel",
      "_view_count": null,
      "_view_module": "@jupyter-widgets/base",
      "_view_module_version": "1.2.0",
      "_view_name": "LayoutView",
      "align_content": null,
      "align_items": null,
      "align_self": null,
      "border": null,
      "bottom": null,
      "display": null,
      "flex": null,
      "flex_flow": null,
      "grid_area": null,
      "grid_auto_columns": null,
      "grid_auto_flow": null,
      "grid_auto_rows": null,
      "grid_column": null,
      "grid_gap": null,
      "grid_row": null,
      "grid_template_areas": null,
      "grid_template_columns": null,
      "grid_template_rows": null,
      "height": null,
      "justify_content": null,
      "justify_items": null,
      "left": null,
      "margin": null,
      "max_height": null,
      "max_width": null,
      "min_height": null,
      "min_width": null,
      "object_fit": null,
      "object_position": null,
      "order": null,
      "overflow": null,
      "overflow_x": null,
      "overflow_y": null,
      "padding": null,
      "right": null,
      "top": null,
      "visibility": null,
      "width": null
     }
    },
    "fc63244d3fad46109637713ff0aa0634": {
     "model_module": "@jupyter-widgets/controls",
     "model_module_version": "1.5.0",
     "model_name": "HTMLModel",
     "state": {
      "_dom_classes": [],
      "_model_module": "@jupyter-widgets/controls",
      "_model_module_version": "1.5.0",
      "_model_name": "HTMLModel",
      "_view_count": null,
      "_view_module": "@jupyter-widgets/controls",
      "_view_module_version": "1.5.0",
      "_view_name": "HTMLView",
      "description": "",
      "description_tooltip": null,
      "layout": "IPY_MODEL_ceaf9b04ac4c4f35bad78db390298902",
      "placeholder": "​",
      "style": "IPY_MODEL_deb09d48dc724c9eb7da3a72a0947a5a",
      "value": " 134/134 [00:00&lt;00:00, 7.93kB/s]"
     }
    }
   }
  }
 },
 "nbformat": 4,
 "nbformat_minor": 1
}
