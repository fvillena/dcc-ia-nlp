{
  "cells": [
    {
      "cell_type": "markdown",
      "metadata": {
        "id": "8Qln4Tt9VEU2"
      },
      "source": [
        "# Tutorial 4: Word Embeddings.\n",
        "\n",
        "\n",
        "### Cuerpo Docente\n",
        "\n",
        "- Profesores: [Andrés Abeliuk](https://aabeliuk.github.io/), [Felipe Villena](https://fabianvillena.cl/).\n",
        "- Profesor Auxiliar: María José Zambrano\n",
        "\n",
        "\n",
        "### Objetivos del Tutorial\n",
        "\n",
        "- Explicar el problema de la representación Bag of Words.\n",
        "- Motivación y repaso de qué son los Word Embeddings.\n",
        "- Explicación de Word2Vec.\n",
        "- Entrenar nuestros propios `word embeddings` usando un dataset con fuentes de noticias de diversos medios. 💪\n",
        "- Utilizaremos estos embeddings pre-entrenados para mejorar la capacidad de nuestros modelos en tareas nuevas y en la resuelta en el auxiliar pasado.\n",
        "- Conocer los `contextualized word embeddings` a través de `BETO`."
      ]
    },
    {
      "cell_type": "markdown",
      "metadata": {
        "id": "e8e-9vzuizLe"
      },
      "source": [
        "## **Motivación**\n",
        "\n",
        "Partamos por decir que una red neuronal no es más que una serie de operaciones matemáticas sobre vectores con una gran cantidad de dimensiones (tensores). Por ende, si queremos entrenar un modelo necesitamos transformar el texto original a vectores numéricos.\n",
        "\n",
        "Una de las soluciones más simples a este problema es la representación de Bag of Words (BoW). Si aplicamos este método a cada palabra de cada documento, tendremos un vector one hot encoding por cada palabra. Esto quiere decir que tendremos vectores del largo del vocabulario $V$, con un 1 en la posición asociada a la palabra representada.\n",
        "\n",
        "Y estamos listos? Podemos entrenar redes neuronales?\n",
        "\n",
        "La verdad es que no es así, y es que estamos ignorando un gran problema con este enfoque. 😞\n",
        "\n",
        "\n",
        "### El gran problema de Bag of Words\n",
        "\n",
        "Pensemos en estas 3 frases como documentos:\n",
        "\n",
        "- $doc_1$: `¡Buenísima la marraqueta!`\n",
        "- $doc_2$: `¡Estuvo espectacular ese pan francés!`\n",
        "- $doc_3$: `!Buenísima esa pintura!`\n",
        "\n",
        "Sabemos $doc_1$ y $doc_2$ hablan de lo mismo 🍞🍞👌 y que $doc_3$ 🎨 no tiene mucho que ver con los otros.\n",
        "\n",
        "Supongamos que queremos ver que tan similares son ambos documentos.\n",
        "Para esto, generamos un modelo `Bag of Words` sobre el documento, aplicando este método por cada palabra para luego tener la representación final.\n",
        "\n",
        "\n",
        "Es decir, transformamos cada palabra a un vector one-hot y luego los sumamos por documento.\n",
        "\n",
        "Por simplicidad, omitiremos algunas stopwords y consideramos pan frances como un solo token. Así nos quedaría el siguiente vocabulario:\n",
        "\n",
        "$$v = \\{buenísima, marraqueta, estuvo, espectacular, pan\\ francés, pintura\\}$$\n",
        "\n",
        "Entonces, el $\\vec{doc_1}$ quedará:\n",
        "\n",
        "$$\\begin{bmatrix}1 \\\\ 0 \\\\ 0 \\\\ 0 \\\\ 0\\\\ 0\\end{bmatrix} +\n",
        "  \\begin{bmatrix}0 \\\\ 1 \\\\ 0 \\\\ 0 \\\\ 0\\\\ 0\\end{bmatrix} =\n",
        "  \\begin{bmatrix}1 \\\\ 1 \\\\ 0 \\\\ 0 \\\\ 0\\\\ 0\\end{bmatrix}$$\n",
        "\n",
        "El $\\vec{doc_2}$ quedará:\n",
        "\n",
        "$$\\begin{bmatrix}0 \\\\ 0 \\\\ 1 \\\\ 0 \\\\ 0\\\\ 0\\end{bmatrix} +\n",
        "  \\begin{bmatrix}0 \\\\ 0 \\\\ 0 \\\\ 1 \\\\ 0\\\\ 0\\end{bmatrix} +\n",
        "  \\begin{bmatrix}0 \\\\ 0 \\\\ 0 \\\\ 0 \\\\ 1\\\\ 0\\end{bmatrix} =\n",
        "  \\begin{bmatrix}0 \\\\ 0 \\\\ 1 \\\\ 1 \\\\ 1\\\\ 0\\end{bmatrix}$$\n",
        "\n",
        "Y el $\\vec{doc_3}$:\n",
        "\n",
        "$$\\begin{bmatrix}1 \\\\ 0 \\\\ 0 \\\\ 0 \\\\ 0\\\\ 0\\end{bmatrix} +\n",
        "  \\begin{bmatrix}0 \\\\ 0 \\\\ 0 \\\\ 0 \\\\ 0\\\\ 1\\end{bmatrix} =\n",
        "  \\begin{bmatrix}1 \\\\ 0 \\\\ 0 \\\\ 0 \\\\ 0\\\\ 1\\end{bmatrix}$$\n",
        "\n",
        "\n",
        "\n",
        "**¿Cuál es el problema?**\n",
        "\n",
        "`buenísima` $\\begin{bmatrix}1 \\\\ 0 \\\\ 0 \\\\ 0 \\\\ 0 \\\\0\\end{bmatrix}$ y `espectacular` $ \\begin{bmatrix}0 \\\\ 0 \\\\ 0 \\\\ 1 \\\\ 0 \\\\ 0\\end{bmatrix}$ representan ideas muy similares. Por otra parte, sabemos que `marraqueta` $\\begin{bmatrix}0 \\\\ 1 \\\\ 0 \\\\ 0 \\\\ 0 \\\\0\\end{bmatrix}$ y `pan francés` $\\begin{bmatrix}0 \\\\ 0 \\\\ 0 \\\\ 0 \\\\ 1 \\\\0\\end{bmatrix}$ se refieren al mismo objeto. Pero en este modelo, estos **son totalmente distintos**. Es decir, los vectores de las palabras que `buenísima` y `espectacular` son tan distintas como `marraqueta` y `pan francés`. Esto se debe a que cada palabra ocupa una dimensión distinta a las demás y son completamente independientes. Esto evidentemente, repercute en la calidad de los modelos que creamos a partir de nuestro Bag of Words.\n",
        "\n",
        "![BoW](https://raw.githubusercontent.com/dccuchile/CC6205/master/tutorials/recursos/BoW-Problem.png)\n",
        "\n"
      ]
    },
    {
      "cell_type": "markdown",
      "metadata": {
        "id": "tlJ6GZe0eUNH"
      },
      "source": [
        "Ahora, si queremos ver que documento es mas similar a otro usando distancia euclidiana, veremos que:\n",
        "\n",
        "$$d(doc_1, doc_2) = 2.236$$\n",
        "$$d(doc_1, doc_3) = 1.414$$\n",
        "\n",
        "Es decir, $doc_1$ se parece mas a $doc_3$ aunque nosotros sabemos que $doc_1$ y $doc_2$ nos están diciendo lo mismo!\n",
        "\n",
        "\n",
        "Nos gustaría que eso no sucediera. Que existiera algún método que nos permitiera hacer que palabras similares tengan representaciones similares. Y que con estas, representemos mejor a los documentos, sin asumir que en el espacio son geométricamente equidistantes, ya que esto no es verdad en la vida real.\n",
        "\n",
        "\n",
        "--------------------"
      ]
    },
    {
      "cell_type": "markdown",
      "metadata": {
        "id": "SjpL3pfplg0B"
      },
      "source": [
        "## **Hipótesis Distribucional**\n",
        "\n",
        "Estamos buscando algún enfoque que nos permita representar las palabras de forma no aislada, si no como algo que además capture el significado de esta.\n",
        "\n",
        "Pensemos un poco en la **hipótesis distribucional**. Esta plantea que:\n",
        "\n",
        "    \"Palabras que ocurren en contextos iguales tienden a tener significados similares.\"\n",
        "\n",
        "O equivalentemente,\n",
        "\n",
        "    \"Una palabra es caracterizada por la compañía que esta lleva.\"\n",
        "\n",
        "Esto nos puede hacer pensar que podríamos usar los contextos de las palabras para generar vectores que describan mejor dichas palabras: en otras palabras, los `Distributional Vectors`.\n",
        "\n",
        "Por ejemplo, complete la siguiente frase:\n",
        "\n",
        "Pintaré la muralla de mi casa de color _____\n",
        "\n",
        "Puede ser rojo, blanco, mostaza, etc..\n",
        "\n",
        "Son palabras que a uno se les viene a la mente sólo mirando el contexto entregado, por ende podríamos decir que esas son palabras similares, o al menos muy distintas a Murciélago.\n"
      ]
    },
    {
      "cell_type": "markdown",
      "metadata": {
        "id": "AJ3Y_C-6ltRn"
      },
      "source": [
        "### Opción 1: Word-Context Matrix\n",
        "\n",
        "Es una matriz donde cada celda $(i,j)$ representa la co-ocurrencia entre una palabra objetivo/centro $w_i$ y un contexto $c_j$. El contexto son las palabras dentro de ventana de tamaño $k$ que rodean la palabra central.\n",
        "\n",
        "Cada fila representa a una palabra a través de su contexto. Como pueden ver, ya no es un vector one-hot, si no que ahora contiene mayor información.\n",
        "\n",
        "El tamaño de la matriz es el tamaño del vocabulario $V$ al cuadrado. Es decir $|V|*|V|$.\n",
        "\n",
        "<img src=\"https://raw.githubusercontent.com/dccuchile/CC6205/master/slides/pics/distributionalSocher.png\" alt=\"Word-context matrices\" style=\"width: 400px;\"/>\n",
        "\n",
        "\n",
        "**Problema: Creada a partir de un corpus respetable, es gigantezca**.\n",
        "\n",
        "Por ejemplo, para $|v| = 100.000$, la matriz tendrá $\\frac{100000 * 100000 * 4}{10^9} = 40gb $. (Recordando que un entero ocupara 4 bytes)\n",
        "\n",
        "- Es caro mantenerla en memoria\n",
        "- Los clasificadores no funcionan tan bien con tantas dimensiones (ver [maldición de la dimensionalidad](https://es.wikipedia.org/wiki/Maldici%C3%B3n_de_la_dimensi%C3%B3n)).\n",
        "\n",
        "**¿Habrá una mejor solución?**\n",
        "\n",
        "---------------------"
      ]
    },
    {
      "cell_type": "markdown",
      "metadata": {
        "id": "jxB0APe3S5b2"
      },
      "source": [
        "### **Word Embeddings**\n",
        "\n",
        "Es una de las representaciones más populares del vocabulario de un corpus. La idea principal de los Word Embeddings es crear representaciones vectoriales densas y de baja dimensionalidad $(d << |V|)$ de las palabras a partir de su contexto.\n",
        "\n",
        "Volvamos a nuestro ejemplo anterior: `buenísima` y `espectacular` ocurren muchas veces en el mismo contexto, por lo que los embeddings que los representan debiesen ser muy similares... (*ejemplos de mentira hechos a mano*):\n",
        "\n",
        "`buenísima` $\\begin{bmatrix}0.32 \\\\ 0.44 \\\\ 0.92 \\\\ .001 \\end{bmatrix}$ y `espectacular` $\\begin{bmatrix}0.30 \\\\ 0.50 \\\\ 0.92 \\\\ .002 \\end{bmatrix}$ versus `marraqueta`  $\\begin{bmatrix}0.77 \\\\ 0.99 \\\\ 0.004 \\\\ .1 \\end{bmatrix}$ el cuál es claramente distinto.\n",
        "\n",
        "\n",
        "Pero, ¿Cuál es la utilidad de de crear estos vectores en NLP o en el área de Machine Learning en general?\n",
        "\n",
        "Supongamos que tienen una enfermedad grave y deben ser operados el día de mañana. Le dan a elegir entre ser operados por un estudiante de primer año de medicina con algo de conocimiento médico o bien ser operados por un niño de 5 años 👶. ¿A quién elegirías?\n",
        "\n",
        "Espero que tu opción haya sido el estudiante con una pequeña noción de los términos médicos implicados en una intervención así. Algo así es lo que se quiso lograr en el [paper](https://arxiv.org/abs/1301.3781) presentado por Mikolov en 2013, aludiendo a la herramienta **Word2Vec**. La idea es que si quieres resolver por ejemplo una tarea de clasificación de texto, ¿no sería útil utilizar el conocimiento de algún modelo pre-entrenado en una tarea similar de texto?. Claro, sería útil partir con los pesos entrenados por otra red, realizando lo que se llama **transfer learning**.\n",
        "\n",
        "Ya pero.. ¿Cómo generamos estos vectores? ¿Cómo podemos capturar el contexto? ¿Cuál sería esa task auxiliar a utilizar?\n",
        "\n"
      ]
    },
    {
      "cell_type": "markdown",
      "metadata": {
        "id": "VBGzM6DvGWTk"
      },
      "source": [
        "##### **Word2vec y Skip-gram**\n",
        "\n",
        "Word2Vec es probablemente el paquete de software mas famoso para crear word embeddings utilizando distintos modelos que emplean redes neuronales *shallow* o poco profundas.\n",
        "\n",
        "Este nos provee herramientas para crear distintos tipos de modelos, tales como `Skip-Gram` y `Continuous Bag of Word (CBOW)`. En este caso, solo veremos `Skip-Gram`.\n",
        "\n",
        "**Skip-gram** es una task auxiliar con la que crearemos nuestros embeddings. Esta tarea involucra tanto a las palabras y al contexto de ellas. Consiste en que por cada palabra del dataset, debemos predecir las palabras de su contexto (las palabras presentes en ventana de algún tamaño $k$).\n",
        "\n",
        "![Overview](https://raw.githubusercontent.com/dccuchile/CC6205/master/tutorials/recursos/overview-skipgram.png)\n",
        "\n",
        "Para resolverla, usaremos una red de una sola capa oculta. Los pesos ya entrenados de esta capa serán los que usaremos como embeddings.\n",
        "\n",
        "#### Detalles del Modelo\n",
        "\n",
        "- Como dijimos, el modelo será una red de una sola capa. La capa oculta tendrá una dimensión $d$ la cual nosotros determinaremos. Esta capa no tendrá función de activación. Sin embargo, la de salida si, la cual será una softmax para obtener las distribuciones de probabilidades y así ver cuáles palabras pertenecen o no al contexto.\n",
        "\n",
        "- El vector de entrada, de tamaño $|V|$, será un vector one-hot de la palabra que estemos viendo en ese momento.\n",
        "\n",
        "- La salida, también de tamaño $|V|$, será un vector que contenga la distribución de probabilidad de que cada palabra del vocabulario pertenezca al contexto de la palabra de entrada.\n",
        "\n",
        "- Al entrenar, se comparará la distribución de los contextos con la suma de los vectores one-hot del contexto real.\n",
        "\n",
        "\n",
        "(marraqueta, Estuvo), (marraqueta, buenisima), (marraqueta, la)\n",
        "![Skip Gram](https://raw.githubusercontent.com/dccuchile/CC6205/master/tutorials/recursos/Skip-gram.png)\n",
        "\n",
        "\n",
        "Nota: Esto es computacionalmente una locura. Por cada palabra de entrada, debemos calcular la probabilidad de aparición de todas las otras. Imaginen el caso de un vocabulario de 100.000 de palabras y de 10000000 oraciones...\n",
        "\n",
        "La solución a esto es modificar la task a *Negative Sampling*. Esta transforma este problema de $|V|$ clases a uno binario.\n",
        "\n",
        "### La capa Oculta y los Embeddings\n",
        "\n",
        "Al terminar el entrenamiento, ¿Qué nos queda en la capa oculta?\n",
        "\n",
        "Una matriz de $v$ filas por $d$ columnas, la cual contiene lo que buscabamos: Una representación continua de todas las palabras de nuestro vocabulario.  \n",
        "\n",
        "**Cada fila de la matriz es un vector que contiene la representación continua una palabra del vocabulario.**\n",
        "\n",
        "\n",
        "<img src=\"http://mccormickml.com/assets/word2vec/word2vec_weight_matrix_lookup_table.png\" alt=\"Capa Oculta 1\" style=\"width: 400px;\"/>\n",
        "\n",
        "¿Cómo la usamos eficientemente?\n",
        "\n",
        "Simple: usamos los mismos vectores one-hot de la entrada y las multiplicamos por la matriz:\n",
        "\n",
        "<img src=\"http://mccormickml.com/assets/word2vec/matrix_mult_w_one_hot.png\" alt=\"Skip Gram\" style=\"width: 400px;\"/>\n",
        "\n",
        "### Visualización\n",
        "\n",
        "Veamos cómo se ven los embeddings de Word2Vec entrenados sobre un corpus gigante en Inglés. Para facilitar el análisis se reducen las 200 dimensiones a 3. El link a la visualización es el siguiente: Visualización: https://projector.tensorflow.org/\n",
        "\n",
        "### Espacio multidimensional\n",
        "\n",
        "Teniendo nuestro embeddings entonces podríamos hacer operaciones tan interesantes como las siguientes:\n",
        "\n",
        "Manzana + Púrpura -> Ciruela\n",
        "\n",
        "Rey - Hombre + Mujer -> Reina\n",
        "\n",
        "Si bien no es posible obtener exactamente dichos vectores, esperaríamos que las palabras más cercanas al vector resultante serían las entregadas, obteniendo así un significado de las palabras según su contexto.\n",
        "\n",
        "\n",
        "### Fuentes\n",
        "\n",
        "Word2vec:\n",
        "- mccormickml.com/2016/04/19/word2vec-tutorial-the-skip-gram-model/\n",
        "- https://towardsdatascience.com/introduction-to-word-embedding-and-word2vec-652d0c2060fa\n",
        "\n",
        "Gensim:\n",
        "- https://www.kaggle.com/pierremegret/gensim-word2vec-tutorial\n",
        "\n",
        "Nota: Las últimas 2 imagenes pertenecen a [Chris McCormick](http://mccormickml.com/about/)\n"
      ]
    },
    {
      "cell_type": "code",
      "execution_count": 1,
      "metadata": {
        "id": "BFjukOXkzrYt"
      },
      "outputs": [],
      "source": [
        "# Contextualized word embeddings: BERT, ELMO, FLAIR.\n",
        "\n",
        "x = 'El banco estaba lleno.'\n",
        "y = 'El banco de sangre necesita personal.'"
      ]
    },
    {
      "cell_type": "markdown",
      "metadata": {
        "id": "C7cUyx_-SQHi"
      },
      "source": [
        "## **Entrenar nuestros Embeddings**\n",
        "\n",
        "Para entrenar nuestros embeddings, usaremos el paquete gensim. Este trae una muy buena implementación de `word2vec`.\n",
        "\n",
        "\n"
      ]
    },
    {
      "cell_type": "code",
      "execution_count": 2,
      "metadata": {
        "ExecuteTime": {
          "end_time": "2020-05-17T20:26:56.028758Z",
          "start_time": "2020-05-17T20:26:52.011925Z"
        },
        "id": "WsA-mAO-SQHi"
      },
      "outputs": [],
      "source": [
        "import re\n",
        "import pandas as pd\n",
        "from time import time\n",
        "from collections import defaultdict\n",
        "import string\n",
        "import multiprocessing\n",
        "import os\n",
        "import requests\n",
        "import numpy as np\n",
        "\n",
        "# word2vec\n",
        "from gensim.models import Word2Vec, KeyedVectors\n",
        "from gensim.models.phrases import Phrases, Phraser\n",
        "\n",
        "import logging  # Setting up the loggings to monitor gensim\n",
        "logging.basicConfig(format=\"%(levelname)s - %(asctime)s: %(message)s\", datefmt= '%H:%M:%S', level=logging.INFO)\n",
        "\n",
        "# scikit-learn\n",
        "from sklearn.manifold import TSNE\n",
        "from sklearn.linear_model import LogisticRegression\n",
        "from sklearn.model_selection import train_test_split\n",
        "from sklearn.metrics import classification_report\n",
        "from sklearn.pipeline import Pipeline, FeatureUnion\n",
        "from sklearn.feature_extraction.text import CountVectorizer\n",
        "from sklearn.metrics import confusion_matrix\n",
        "from sklearn.utils.multiclass import unique_labels\n",
        "from sklearn.decomposition import PCA\n",
        "from sklearn.base import BaseEstimator, TransformerMixin\n",
        "\n",
        "# visualizaciones\n",
        "import matplotlib.pyplot as plt\n",
        "import plotly.express as px\n",
        "import plotly.graph_objects as go\n",
        "from ipywidgets import widgets"
      ]
    },
    {
      "cell_type": "markdown",
      "metadata": {
        "id": "fcbzFpYSSQHj"
      },
      "source": [
        "### Cargar el dataset y limpiar\n",
        "\n",
        "Utilizaremos un datos de diversas fuentes de noticias que cuenta con tres atributos principales:\n",
        "\n",
        "* texto: Referente al texto de la noticia.\n",
        "* medio: Referente al medio de la noticia.\n",
        "* fecha: Referente a la fecha de publicación."
      ]
    },
    {
      "cell_type": "code",
      "execution_count": 2,
      "metadata": {
        "id": "kDOyxxnz2WKp"
      },
      "outputs": [],
      "source": []
    },
    {
      "cell_type": "code",
      "execution_count": 3,
      "metadata": {
        "id": "G7tDAILPRDfi"
      },
      "outputs": [],
      "source": [
        "dataset = pd.read_csv('https://raw.githubusercontent.com/giturra/JCC2023-WE/main/noticias_oct_dic_2019.tsv', sep='\\t')"
      ]
    },
    {
      "cell_type": "code",
      "execution_count": 4,
      "metadata": {
        "colab": {
          "base_uri": "https://localhost:8080/",
          "height": 206
        },
        "id": "v6A2h_g4RWLh",
        "outputId": "efe59cd7-b926-4b37-f6f4-9feaf0f0cbac"
      },
      "outputs": [
        {
          "output_type": "execute_result",
          "data": {
            "text/plain": [
              "                                               texto        medio  \\\n",
              "0  Rey de Tailandia despoja de títulos a su conso...  El Mercurio   \n",
              "1  Denuncian que personas con epilepsia sufrieron...  El Mercurio   \n",
              "2  Índice victimización de hogares en el país suf...  El Mercurio   \n",
              "3  Meditación, cocina, jardinería, manualidades: ...  El Mercurio   \n",
              "4  Director de empresa que procesa datos electora...  El Mercurio   \n",
              "\n",
              "                 fecha  \n",
              "0  2019-10-21 14:51:00  \n",
              "1  2019-12-18 12:12:00  \n",
              "2  2019-10-15 09:58:00  \n",
              "3  2019-11-16 16:42:00  \n",
              "4  2019-11-01 05:25:00  "
            ],
            "text/html": [
              "\n",
              "  <div id=\"df-14af9007-2479-49b9-bdf4-918c92e0a2ba\" class=\"colab-df-container\">\n",
              "    <div>\n",
              "<style scoped>\n",
              "    .dataframe tbody tr th:only-of-type {\n",
              "        vertical-align: middle;\n",
              "    }\n",
              "\n",
              "    .dataframe tbody tr th {\n",
              "        vertical-align: top;\n",
              "    }\n",
              "\n",
              "    .dataframe thead th {\n",
              "        text-align: right;\n",
              "    }\n",
              "</style>\n",
              "<table border=\"1\" class=\"dataframe\">\n",
              "  <thead>\n",
              "    <tr style=\"text-align: right;\">\n",
              "      <th></th>\n",
              "      <th>texto</th>\n",
              "      <th>medio</th>\n",
              "      <th>fecha</th>\n",
              "    </tr>\n",
              "  </thead>\n",
              "  <tbody>\n",
              "    <tr>\n",
              "      <th>0</th>\n",
              "      <td>Rey de Tailandia despoja de títulos a su conso...</td>\n",
              "      <td>El Mercurio</td>\n",
              "      <td>2019-10-21 14:51:00</td>\n",
              "    </tr>\n",
              "    <tr>\n",
              "      <th>1</th>\n",
              "      <td>Denuncian que personas con epilepsia sufrieron...</td>\n",
              "      <td>El Mercurio</td>\n",
              "      <td>2019-12-18 12:12:00</td>\n",
              "    </tr>\n",
              "    <tr>\n",
              "      <th>2</th>\n",
              "      <td>Índice victimización de hogares en el país suf...</td>\n",
              "      <td>El Mercurio</td>\n",
              "      <td>2019-10-15 09:58:00</td>\n",
              "    </tr>\n",
              "    <tr>\n",
              "      <th>3</th>\n",
              "      <td>Meditación, cocina, jardinería, manualidades: ...</td>\n",
              "      <td>El Mercurio</td>\n",
              "      <td>2019-11-16 16:42:00</td>\n",
              "    </tr>\n",
              "    <tr>\n",
              "      <th>4</th>\n",
              "      <td>Director de empresa que procesa datos electora...</td>\n",
              "      <td>El Mercurio</td>\n",
              "      <td>2019-11-01 05:25:00</td>\n",
              "    </tr>\n",
              "  </tbody>\n",
              "</table>\n",
              "</div>\n",
              "    <div class=\"colab-df-buttons\">\n",
              "\n",
              "  <div class=\"colab-df-container\">\n",
              "    <button class=\"colab-df-convert\" onclick=\"convertToInteractive('df-14af9007-2479-49b9-bdf4-918c92e0a2ba')\"\n",
              "            title=\"Convert this dataframe to an interactive table.\"\n",
              "            style=\"display:none;\">\n",
              "\n",
              "  <svg xmlns=\"http://www.w3.org/2000/svg\" height=\"24px\" viewBox=\"0 -960 960 960\">\n",
              "    <path d=\"M120-120v-720h720v720H120Zm60-500h600v-160H180v160Zm220 220h160v-160H400v160Zm0 220h160v-160H400v160ZM180-400h160v-160H180v160Zm440 0h160v-160H620v160ZM180-180h160v-160H180v160Zm440 0h160v-160H620v160Z\"/>\n",
              "  </svg>\n",
              "    </button>\n",
              "\n",
              "  <style>\n",
              "    .colab-df-container {\n",
              "      display:flex;\n",
              "      gap: 12px;\n",
              "    }\n",
              "\n",
              "    .colab-df-convert {\n",
              "      background-color: #E8F0FE;\n",
              "      border: none;\n",
              "      border-radius: 50%;\n",
              "      cursor: pointer;\n",
              "      display: none;\n",
              "      fill: #1967D2;\n",
              "      height: 32px;\n",
              "      padding: 0 0 0 0;\n",
              "      width: 32px;\n",
              "    }\n",
              "\n",
              "    .colab-df-convert:hover {\n",
              "      background-color: #E2EBFA;\n",
              "      box-shadow: 0px 1px 2px rgba(60, 64, 67, 0.3), 0px 1px 3px 1px rgba(60, 64, 67, 0.15);\n",
              "      fill: #174EA6;\n",
              "    }\n",
              "\n",
              "    .colab-df-buttons div {\n",
              "      margin-bottom: 4px;\n",
              "    }\n",
              "\n",
              "    [theme=dark] .colab-df-convert {\n",
              "      background-color: #3B4455;\n",
              "      fill: #D2E3FC;\n",
              "    }\n",
              "\n",
              "    [theme=dark] .colab-df-convert:hover {\n",
              "      background-color: #434B5C;\n",
              "      box-shadow: 0px 1px 3px 1px rgba(0, 0, 0, 0.15);\n",
              "      filter: drop-shadow(0px 1px 2px rgba(0, 0, 0, 0.3));\n",
              "      fill: #FFFFFF;\n",
              "    }\n",
              "  </style>\n",
              "\n",
              "    <script>\n",
              "      const buttonEl =\n",
              "        document.querySelector('#df-14af9007-2479-49b9-bdf4-918c92e0a2ba button.colab-df-convert');\n",
              "      buttonEl.style.display =\n",
              "        google.colab.kernel.accessAllowed ? 'block' : 'none';\n",
              "\n",
              "      async function convertToInteractive(key) {\n",
              "        const element = document.querySelector('#df-14af9007-2479-49b9-bdf4-918c92e0a2ba');\n",
              "        const dataTable =\n",
              "          await google.colab.kernel.invokeFunction('convertToInteractive',\n",
              "                                                    [key], {});\n",
              "        if (!dataTable) return;\n",
              "\n",
              "        const docLinkHtml = 'Like what you see? Visit the ' +\n",
              "          '<a target=\"_blank\" href=https://colab.research.google.com/notebooks/data_table.ipynb>data table notebook</a>'\n",
              "          + ' to learn more about interactive tables.';\n",
              "        element.innerHTML = '';\n",
              "        dataTable['output_type'] = 'display_data';\n",
              "        await google.colab.output.renderOutput(dataTable, element);\n",
              "        const docLink = document.createElement('div');\n",
              "        docLink.innerHTML = docLinkHtml;\n",
              "        element.appendChild(docLink);\n",
              "      }\n",
              "    </script>\n",
              "  </div>\n",
              "\n",
              "\n",
              "<div id=\"df-f1716e82-f3c3-4f9d-93a3-d1690108be69\">\n",
              "  <button class=\"colab-df-quickchart\" onclick=\"quickchart('df-f1716e82-f3c3-4f9d-93a3-d1690108be69')\"\n",
              "            title=\"Suggest charts\"\n",
              "            style=\"display:none;\">\n",
              "\n",
              "<svg xmlns=\"http://www.w3.org/2000/svg\" height=\"24px\"viewBox=\"0 0 24 24\"\n",
              "     width=\"24px\">\n",
              "    <g>\n",
              "        <path d=\"M19 3H5c-1.1 0-2 .9-2 2v14c0 1.1.9 2 2 2h14c1.1 0 2-.9 2-2V5c0-1.1-.9-2-2-2zM9 17H7v-7h2v7zm4 0h-2V7h2v10zm4 0h-2v-4h2v4z\"/>\n",
              "    </g>\n",
              "</svg>\n",
              "  </button>\n",
              "\n",
              "<style>\n",
              "  .colab-df-quickchart {\n",
              "      --bg-color: #E8F0FE;\n",
              "      --fill-color: #1967D2;\n",
              "      --hover-bg-color: #E2EBFA;\n",
              "      --hover-fill-color: #174EA6;\n",
              "      --disabled-fill-color: #AAA;\n",
              "      --disabled-bg-color: #DDD;\n",
              "  }\n",
              "\n",
              "  [theme=dark] .colab-df-quickchart {\n",
              "      --bg-color: #3B4455;\n",
              "      --fill-color: #D2E3FC;\n",
              "      --hover-bg-color: #434B5C;\n",
              "      --hover-fill-color: #FFFFFF;\n",
              "      --disabled-bg-color: #3B4455;\n",
              "      --disabled-fill-color: #666;\n",
              "  }\n",
              "\n",
              "  .colab-df-quickchart {\n",
              "    background-color: var(--bg-color);\n",
              "    border: none;\n",
              "    border-radius: 50%;\n",
              "    cursor: pointer;\n",
              "    display: none;\n",
              "    fill: var(--fill-color);\n",
              "    height: 32px;\n",
              "    padding: 0;\n",
              "    width: 32px;\n",
              "  }\n",
              "\n",
              "  .colab-df-quickchart:hover {\n",
              "    background-color: var(--hover-bg-color);\n",
              "    box-shadow: 0 1px 2px rgba(60, 64, 67, 0.3), 0 1px 3px 1px rgba(60, 64, 67, 0.15);\n",
              "    fill: var(--button-hover-fill-color);\n",
              "  }\n",
              "\n",
              "  .colab-df-quickchart-complete:disabled,\n",
              "  .colab-df-quickchart-complete:disabled:hover {\n",
              "    background-color: var(--disabled-bg-color);\n",
              "    fill: var(--disabled-fill-color);\n",
              "    box-shadow: none;\n",
              "  }\n",
              "\n",
              "  .colab-df-spinner {\n",
              "    border: 2px solid var(--fill-color);\n",
              "    border-color: transparent;\n",
              "    border-bottom-color: var(--fill-color);\n",
              "    animation:\n",
              "      spin 1s steps(1) infinite;\n",
              "  }\n",
              "\n",
              "  @keyframes spin {\n",
              "    0% {\n",
              "      border-color: transparent;\n",
              "      border-bottom-color: var(--fill-color);\n",
              "      border-left-color: var(--fill-color);\n",
              "    }\n",
              "    20% {\n",
              "      border-color: transparent;\n",
              "      border-left-color: var(--fill-color);\n",
              "      border-top-color: var(--fill-color);\n",
              "    }\n",
              "    30% {\n",
              "      border-color: transparent;\n",
              "      border-left-color: var(--fill-color);\n",
              "      border-top-color: var(--fill-color);\n",
              "      border-right-color: var(--fill-color);\n",
              "    }\n",
              "    40% {\n",
              "      border-color: transparent;\n",
              "      border-right-color: var(--fill-color);\n",
              "      border-top-color: var(--fill-color);\n",
              "    }\n",
              "    60% {\n",
              "      border-color: transparent;\n",
              "      border-right-color: var(--fill-color);\n",
              "    }\n",
              "    80% {\n",
              "      border-color: transparent;\n",
              "      border-right-color: var(--fill-color);\n",
              "      border-bottom-color: var(--fill-color);\n",
              "    }\n",
              "    90% {\n",
              "      border-color: transparent;\n",
              "      border-bottom-color: var(--fill-color);\n",
              "    }\n",
              "  }\n",
              "</style>\n",
              "\n",
              "  <script>\n",
              "    async function quickchart(key) {\n",
              "      const quickchartButtonEl =\n",
              "        document.querySelector('#' + key + ' button');\n",
              "      quickchartButtonEl.disabled = true;  // To prevent multiple clicks.\n",
              "      quickchartButtonEl.classList.add('colab-df-spinner');\n",
              "      try {\n",
              "        const charts = await google.colab.kernel.invokeFunction(\n",
              "            'suggestCharts', [key], {});\n",
              "      } catch (error) {\n",
              "        console.error('Error during call to suggestCharts:', error);\n",
              "      }\n",
              "      quickchartButtonEl.classList.remove('colab-df-spinner');\n",
              "      quickchartButtonEl.classList.add('colab-df-quickchart-complete');\n",
              "    }\n",
              "    (() => {\n",
              "      let quickchartButtonEl =\n",
              "        document.querySelector('#df-f1716e82-f3c3-4f9d-93a3-d1690108be69 button');\n",
              "      quickchartButtonEl.style.display =\n",
              "        google.colab.kernel.accessAllowed ? 'block' : 'none';\n",
              "    })();\n",
              "  </script>\n",
              "</div>\n",
              "\n",
              "    </div>\n",
              "  </div>\n"
            ],
            "application/vnd.google.colaboratory.intrinsic+json": {
              "type": "dataframe",
              "variable_name": "dataset",
              "summary": "{\n  \"name\": \"dataset\",\n  \"rows\": 10000,\n  \"fields\": [\n    {\n      \"column\": \"texto\",\n      \"properties\": {\n        \"dtype\": \"string\",\n        \"num_unique_values\": 9997,\n        \"samples\": [\n          \"Realizar\\u00e1n olla com\\u00fan y cacerolazo este jueves en Chill\\u00e1n\\nPara este sexto d\\u00eda de manifestaciones de demandas sociales en la capital de \\u00d1uble han organizado dos actividades que esperan contar con una masiva participaci\\u00f3n como ha sido en los \\u00faltimos d\\u00edas.\\nLa primera convocatoria ser\\u00e1 a las 14:30 horas en la P\\u00e9rgola de la Plaza de Armas de Chill\\u00e1n, donde realizar\\u00e1n una olla com\\u00fan. \\u201cTrae tu plato y servicio y hablemos sobre nuestras demandas\\u201d, dice la invitaci\\u00f3n.\\nLuego, a las 17:00 horas, la explanada de la Intendencia de \\u00d1uble ser\\u00e1 el escenario para un\\u00a0cacerolazo en contra de \\u201clas propuestas que beneficia a empresarios\\u201d. La actividad tiene hora de t\\u00e9rmino a las 21:00.\\nLas masivas concentraciones de los \\u00faltimos d\\u00edas en Chill\\u00e1n se han estado caracterizado por un clima pac\\u00edfico, familiar y festivo.\\n\",\n          \"Video capta agresi\\u00f3n con bate contra inspector municipal\\nCarabineros de la Segunda Comisar\\u00eda de Chill\\u00e1n y el Ministerio P\\u00fablico\\u00a0ya tienen los antecedentes que les habr\\u00edan permitido identificar casi con total precisi\\u00f3n al autor de una\\u00a0violenta\\u00a0agresi\\u00f3n en contra de dos inspectores de la\\u00a0Municipalidad.\\nEl hombre, molesto porque le hab\\u00edan cursado una infracci\\u00f3n por estacionarse en un lugar no autorizado, en el sector del cruce Parque Lanta\\u00f1o, sac\\u00f3 un bate de b\\u00e9isbol desde la parte trasera de su auto y tras insultarlos, le lanz\\u00f3 un golpe al inspector Rolando Laubri\\u00e9, quien lo alcanz\\u00f3 a bloquear a costa de una severa contusi\\u00f3n en el codo y antebrazo derecho.\\nEste hecho, que adem\\u00e1s cont\\u00f3 con al menos una decena de testigos y qued\\u00f3 registrado en las c\\u00e1maras de televigilancia ubicada en el sector, se registr\\u00f3 pasadas\\u00a0las 21.50 horas de la noche del mi\\u00e9rcoles, luego que personal de\\u00a0Inspecci\\u00f3n Municipal acudiera a ese sector a solicitud de la\\u00a0Junta\\u00a0de\\u00a0Vecinos del Parque Lanta\\u00f1o, quienes denuncian que a causa de la gran cantidad de veh\\u00edculos mal estacionados en el cruce,\\u00a0\\u00a0tienen diversos problemas que van desde los atochamientos a las dificultades para el paso del cami\\u00f3n de la basura.\\n\\u201cLamentablemente, esta persona agredi\\u00f3 con el bate a uno de los inspectores, quien obviamente\\u00a0fue a constatar lesiones al hospital. Otro inspector tambi\\u00e9n sufri\\u00f3 una agresi\\u00f3n, pero de menor intensidad\\u201d, certific\\u00f3 Enrique Ch\\u00e1vez, encargado de la Oficina Municipal de Seguridad\\u00a0(OMSE).\\nCh\\u00e1vez, quien advirti\\u00f3\\u00a0que la unidad jur\\u00eddica municipal est\\u00e1 evaluando la opci\\u00f3n de querellarse contra el agresor, agreg\\u00f3\\u00a0que \\u201ces conocido que muchas veces los inspectores suelen ser agredidos tanto verbal como f\\u00edsicamente, aunque esto se ve m\\u00e1s en la zona del mercado por los problemas con los ambulantes; sin embargo, agresiones a inspectores que ven temas de tr\\u00e1nsito es m\\u00e1s inusual. Tenemos registradas unas cinco o seis en los \\u00faltimos cinco a\\u00f1os\\u201d.\\nDiscusi\\u00f3n preliminar\\nConforme a los antecedentes que se manejan en la OMSE,\\u00a0cuando los inspectores llegaron al punto de controversia, en primera instancia buscaron despejar el acceso dici\\u00e9ndole a las personas que estaban en sus autos que deb\\u00edan abandonar el lugar.\\nAdem\\u00e1s,\\u00a0ya hab\\u00edan comenzado una campa\\u00f1a en el vecindario advirtiendo que se comenzar\\u00eda a notificar a quienes perseveraran en esa irregularidad.\\n\\u201cSe\\u00a0dejaron las notificaciones en los autos que segu\\u00edan en el lugar. Fue en ese momento que la due\\u00f1a de un veh\\u00edculo Nissan, el que sale en el video, lleg\\u00f3 muy enojada y empez\\u00f3 a gritarle y a insultar a los inspectores. Ellos mantuvieron la calma, pero la se\\u00f1ora estaba fuera de s\\u00ed. Fue ah\\u00ed que llega este hombre, como de unos 30 a\\u00f1os, y lleg\\u00f3 s\\u00faper acelerado a gritar insultos y a empujar a todo el que se le pon\\u00eda por delante\\u201d, dijo uno de los inspectores,\\u00a0quien pidi\\u00f3 reserva de\\u00a0su\\u00a0identidad.\\nEl esc\\u00e1ndalo hizo que los dirigentes vecinales que estaban acompa\\u00f1ando a los funcionarios municipales se congregaran y, al menos uno o dos de ellos, intentaron calmar a los exaltados vecinos.\\n\\u201cPrimero entr\\u00f3 al auto e hizo como que hab\\u00eda sacado un arma. Por eso nosotros retrocedimos un poco, y ya despu\\u00e9s sac\\u00f3 el bate que med\\u00eda m\\u00e1s de un metro y medio y le lanz\\u00f3 el golpe al colega\\u201d, relat\\u00f3.\\nFinalmente, cuando el agresor se retiraba junto a la mujer en el Nissan, y tal como se aprecia en el video, se lanza en contra del mismo inspector que hab\\u00eda recibido el golpe con el bate, pero\\u00a0este lo alcanz\\u00f3 a esquivar.\\nLaubri\\u00e9 quedar\\u00e1 con licencia m\\u00e9dica hasta la pr\\u00f3xima semana.\\n\",\n          \"\\\"Black Friday\\\": diario deportivo fue acusado de racismo por pol\\u00e9mica portada\\nEl diario deportivo italiano Corriere dello Sport sac\\u00f3 este jueves una pol\\u00e9mica portada que gener\\u00f3 variados comentarios en la pen\\u00ednsula y que tuvo repercusi\\u00f3n en toda Europa.\\nEn un intento por participar el partido de este viernes entre Inter de Mil\\u00e1n y AS Roma, el matutino titul\\u00f3 en su portada \\\"Black Friday\\\" -en alusi\\u00f3n a las rebajas del comercio tras Acci\\u00f3n de Gracias- y utilizando im\\u00e1genes del delantero belga Romelu Lukaku y el defensor Chris Smalling, ambos a pr\\u00e9stamo desde Manchester United y cuyos pases est\\u00e1n en el mercado.\\nNo obstante, el \\\"juego de palabras\\\" no fue bien recibido y fue tildado de racista.\\nAnte la controversia generada sobre todo en redes sociales, el diario deportivo, uno de los m\\u00e1s tradicionales de Italia, se defendi\\u00f3 con un comunicado oficial, alegando mala intenci\\u00f3n por parte de la gente, argumentando que no se entendi\\u00f3 la idea de fondo.\\n\\\"Blanco, negro, amarillo. Negar la diferencia es el t\\u00edpico obst\\u00e1culo macrosc\\u00f3pico del racismo antirracista. El suburra mental de los moralistas dominicales, cuando el jueves es domingo tambi\\u00e9n. El 'Viernes Negro', para aquellos que lo quieren y pueden entender, fue y es solo el elogio de la diferencia, el orgullo de la diferencia, la magn\\u00edfica riqueza de la diferencia. Si no lo comprende, es porque no puede hacerlo o porque lo hace. Un t\\u00edtulo inocente, aunque perfectamente argumentado por Roberto Perrone, se transforma en veneno por quienes tienen el veneno dentro\\\", manifest\\u00f3 el diario.\\nM\\u00e1s de Liga italiana\\n20:09\\nLiga italiana\\nOlivier Giroud le dio el triunfo y la cima a AC Milan ante Napoli en Serie A\\n19:07\\nLiga italiana\\nMilan venci\\u00f3 a Napoli, super\\u00f3 a Inter y es l\\u00edder exclusivo en Italia\\n17:47\\nLiga italiana\\nMorata cort\\u00f3 su sequ\\u00eda para darle la victoria a Juventus\\nTemas\\n#Deportes\\n#F\\u00fatbol\\n#Fuera de Juego\\n#F\\u00fatbol\\n#Liga italiana\\n#Racismo\\n\"\n        ],\n        \"semantic_type\": \"\",\n        \"description\": \"\"\n      }\n    },\n    {\n      \"column\": \"medio\",\n      \"properties\": {\n        \"dtype\": \"category\",\n        \"num_unique_values\": 10,\n        \"samples\": [\n          \"The Clinic\",\n          \"Cooperativa CL\",\n          \"El Rancaguino\"\n        ],\n        \"semantic_type\": \"\",\n        \"description\": \"\"\n      }\n    },\n    {\n      \"column\": \"fecha\",\n      \"properties\": {\n        \"dtype\": \"object\",\n        \"num_unique_values\": 9225,\n        \"samples\": [\n          \"2019-12-29 19:09:00\",\n          \"2019-10-04 12:00:00\",\n          \"2019-10-23 16:36:30\"\n        ],\n        \"semantic_type\": \"\",\n        \"description\": \"\"\n      }\n    }\n  ]\n}"
            }
          },
          "metadata": {},
          "execution_count": 4
        }
      ],
      "source": [
        "dataset.head()"
      ]
    },
    {
      "cell_type": "code",
      "execution_count": 5,
      "metadata": {
        "ExecuteTime": {
          "end_time": "2020-05-17T20:27:38.136649Z",
          "start_time": "2020-05-17T20:27:38.050830Z"
        },
        "id": "xEBQb14tSQHj"
      },
      "outputs": [],
      "source": [
        "# unir titulo con contenido de la noticia\n",
        "content = dataset['texto']"
      ]
    },
    {
      "cell_type": "code",
      "execution_count": 6,
      "metadata": {
        "colab": {
          "base_uri": "https://localhost:8080/",
          "height": 241
        },
        "id": "gkG6dS9V476U",
        "outputId": "a34905c4-8f3f-4804-bc3f-0689cecf109f"
      },
      "outputs": [
        {
          "output_type": "execute_result",
          "data": {
            "text/plain": [
              "0    Rey de Tailandia despoja de títulos a su conso...\n",
              "1    Denuncian que personas con epilepsia sufrieron...\n",
              "2    Índice victimización de hogares en el país suf...\n",
              "3    Meditación, cocina, jardinería, manualidades: ...\n",
              "4    Director de empresa que procesa datos electora...\n",
              "Name: texto, dtype: object"
            ],
            "text/html": [
              "<div>\n",
              "<style scoped>\n",
              "    .dataframe tbody tr th:only-of-type {\n",
              "        vertical-align: middle;\n",
              "    }\n",
              "\n",
              "    .dataframe tbody tr th {\n",
              "        vertical-align: top;\n",
              "    }\n",
              "\n",
              "    .dataframe thead th {\n",
              "        text-align: right;\n",
              "    }\n",
              "</style>\n",
              "<table border=\"1\" class=\"dataframe\">\n",
              "  <thead>\n",
              "    <tr style=\"text-align: right;\">\n",
              "      <th></th>\n",
              "      <th>texto</th>\n",
              "    </tr>\n",
              "  </thead>\n",
              "  <tbody>\n",
              "    <tr>\n",
              "      <th>0</th>\n",
              "      <td>Rey de Tailandia despoja de títulos a su conso...</td>\n",
              "    </tr>\n",
              "    <tr>\n",
              "      <th>1</th>\n",
              "      <td>Denuncian que personas con epilepsia sufrieron...</td>\n",
              "    </tr>\n",
              "    <tr>\n",
              "      <th>2</th>\n",
              "      <td>Índice victimización de hogares en el país suf...</td>\n",
              "    </tr>\n",
              "    <tr>\n",
              "      <th>3</th>\n",
              "      <td>Meditación, cocina, jardinería, manualidades: ...</td>\n",
              "    </tr>\n",
              "    <tr>\n",
              "      <th>4</th>\n",
              "      <td>Director de empresa que procesa datos electora...</td>\n",
              "    </tr>\n",
              "  </tbody>\n",
              "</table>\n",
              "</div><br><label><b>dtype:</b> object</label>"
            ]
          },
          "metadata": {},
          "execution_count": 6
        }
      ],
      "source": [
        "content.head()"
      ]
    },
    {
      "cell_type": "code",
      "execution_count": 7,
      "metadata": {
        "colab": {
          "base_uri": "https://localhost:8080/",
          "height": 35
        },
        "id": "HWNd77cWUrd2",
        "outputId": "aeb8dfac-642c-474d-fb62-5d09bcfbeada"
      },
      "outputs": [
        {
          "output_type": "execute_result",
          "data": {
            "text/plain": [
              "'2.17.1'"
            ],
            "application/vnd.google.colaboratory.intrinsic+json": {
              "type": "string"
            }
          },
          "metadata": {},
          "execution_count": 7
        }
      ],
      "source": [
        "import tensorflow as tf\n",
        "tf.__version__"
      ]
    },
    {
      "cell_type": "code",
      "execution_count": 8,
      "metadata": {
        "ExecuteTime": {
          "end_time": "2020-05-17T20:27:38.183476Z",
          "start_time": "2020-05-17T20:27:38.175498Z"
        },
        "colab": {
          "base_uri": "https://localhost:8080/"
        },
        "id": "8upF3fu-SQHk",
        "outputId": "c83a1041-ffa2-4886-f212-e35fb539c051"
      },
      "outputs": [
        {
          "output_type": "execute_result",
          "data": {
            "text/plain": [
              "(10000,)"
            ]
          },
          "metadata": {},
          "execution_count": 8
        }
      ],
      "source": [
        "content.shape"
      ]
    },
    {
      "cell_type": "code",
      "execution_count": 9,
      "metadata": {
        "ExecuteTime": {
          "end_time": "2020-05-17T20:27:38.227359Z",
          "start_time": "2020-05-17T20:27:38.221374Z"
        },
        "colab": {
          "base_uri": "https://localhost:8080/",
          "height": 35
        },
        "id": "Y28NxiNySQHk",
        "outputId": "9975cbdc-ef2d-44c6-9d5b-30698433e390"
      },
      "outputs": [
        {
          "output_type": "execute_result",
          "data": {
            "text/plain": [
              "'!\"#$%&\\'()*+,-./:;<=>?@[\\\\]^_`{|}~'"
            ],
            "application/vnd.google.colaboratory.intrinsic+json": {
              "type": "string"
            }
          },
          "metadata": {},
          "execution_count": 9
        }
      ],
      "source": [
        "string.punctuation"
      ]
    },
    {
      "cell_type": "code",
      "execution_count": 10,
      "metadata": {
        "ExecuteTime": {
          "end_time": "2020-05-07T21:21:12.916380Z",
          "start_time": "2020-05-07T21:21:04.087799Z"
        },
        "id": "1uvRtm_USQHk"
      },
      "outputs": [],
      "source": [
        "from collections import Counter\n",
        "\n",
        "# limpiar puntuaciones y separar por tokens.\n",
        "punctuation = string.punctuation + \"«»“”‘’…—\"\n",
        "stopwords = pd.read_csv(\n",
        "    'https://raw.githubusercontent.com/Alir3z4/stop-words/master/spanish.txt'\n",
        ").values\n",
        "stopwords = Counter(stopwords.flatten().tolist())\n",
        "\n",
        "def simple_tokenizer(doc, lower=False):\n",
        "    if lower:\n",
        "        tokenized_doc = doc.translate(str.maketrans(\n",
        "            '', '', punctuation)).lower().split()\n",
        "\n",
        "    tokenized_doc = doc.translate(str.maketrans('', '', punctuation)).split()\n",
        "    tokenized_doc = [\n",
        "        token for token in tokenized_doc if token.lower() not in stopwords\n",
        "    ]\n",
        "    return tokenized_doc\n",
        "\n",
        "cleaned_content = [simple_tokenizer(doc) for doc in content.values]"
      ]
    },
    {
      "cell_type": "code",
      "execution_count": 11,
      "metadata": {
        "ExecuteTime": {
          "end_time": "2020-05-07T21:21:15.069544Z",
          "start_time": "2020-05-07T21:21:15.063560Z"
        },
        "colab": {
          "base_uri": "https://localhost:8080/"
        },
        "id": "KqH5QEmzSQHk",
        "outputId": "6af89069-54a3-45f7-8fcc-f94699bc5640"
      },
      "outputs": [
        {
          "output_type": "stream",
          "name": "stdout",
          "text": [
            "Ejemplo de alguna noticia: ['Ley', 'Ciudadanía', 'polémica', 'norma', 'india', 'acusan', 'discriminatoria', 'provocado', 'oleada', 'protestas', 'semana', 'miles', 'personas', 'salido', 'a', 'manifestarse', 'semana', 'consecutiva', 'ciudades', 'India', 'mostrar', 'rechazo', 'Ley', 'Ciudadanía', 'CAB', 'migrantes', 'auspiciada', 'Gobierno', 'jornadas', 'terminado', 'enfrentamiento', 'marchas', 'vuelto', 'violentas', 'registran', '15', 'muertes', 'relacionadas', 'hechos', 'Pero¿por', 'rechazo', 'amplio', 'a', 'ley', 'gubernamental', 'ley', 'Ciudadanía', 'viene', 'a', 'reemplazar', 'a', 'norma', 'vigente', '64', 'años', 'prohíbe', 'migrantes', 'ilegales', 'pasen', 'a', 'ciudadanos', 'India', 'BBC', 'antigua', 'legislación', 'ilegales', 'a', 'inmigrantes', 'ingresan', 'país', 'pasaporte', 'vigente', 'documento', 'viaje', 'a', 'quedan', 'India', 'permitido', 'personas', 'deportadas', 'detenidas', 'ley', 'aprobó', '11', 'diciembre', 'anula', 'normativa', 'señala', 'persona', 'vivir', 'Gobierno', 'federal', 'mínimo', '11', 'años', 'solicitar', 'ciudadanía', 'exigirá', 'mínimo', 'años', 'a', 'extranjeros', 'iniciar', 'proceso', 'optar', 'ciudadanía', 'nacionalidad', 'Asimismo', 'ley', 'sostiene', 'personas', 'tarjeta', 'ciudadanía', 'india', 'ultramar', '–', 'estatus', 'migratorio', 'permite', 'a', 'inmigrantes', 'origen', 'indio', 'vivir', 'indefinidamente', 'arriesguen', 'perderla', 'violan', 'leyes', 'locales', 'Reuters', 'Gobierno', 'expuso', 'ley', 'proseguida', 'registro', 'ciudadanía', 'musulmanes', 'territorio', 'deberán', 'demostrar', 'residentes', 'originales', 'India', 'refugiados', 'vienen', 'Pakistán', 'Bangladesh', 'provocar', 'queden', 'apátridas', 'ley', 'beneficiaría', 'a', 'hindúes', 'cristianos', 'miembros', 'minorías', 'religiosas', 'entraron', 'a', 'India', '2014', 'forma', 'irregular', 'demostrar', 'sufrieron', 'persecución', 'religiosa', 'países', 'anteriormente', 'nombrados', 'rechazo', 'sentir', 'calles', 'días', 'punto', 'ley', 'grupos', 'opone', 'a', 'Ley', 'Ciudadanía', 'sostiene', 'excluyente', 'viola', 'principios', 'seculares', 'estipulados', 'constitución', 'país', 'señalan', 'fe', 'objeto', 'condición', 'acceder', 'a', 'ciudadanía', 'Carta', 'Magna', 'India', 'prohíbe', 'forma', 'discriminación', 'religiosa', 'ciudadanos', 'garantiza', 'igualdad', 'personas', 'ley', 'a', 'tema', 'parlamentario', 'musulmán', 'Asaddudin', 'Owaisi', 'ley', 'peor', 'leyes', 'Hitler', 'conspiración', 'convertir', 'a', 'musulmanes', 'apátridas', 'Gautam', 'Bhatia', 'abogado', 'radicado', 'Delhi', 'dividir', 'a', 'inmigrantes', 'musulmanes', 'musulmanes', 'proyecto', 'ley', 'busca', 'explícita', 'descaradamente', 'consagrar', 'discriminación', 'religiosa', 'ley', 'ética', 'constitucional', 'secular', 'larga', 'data', 'Asimismo', 'historiador', 'Mukul', 'Kesavandijo', 'normativa', 'aparentemente', 'dirigida', 'a', 'extranjeros', 'objetivo', 'principal', 'deslegitimación', 'ciudadanía', 'musulmana', 'representantes', 'musulmanes', 'oposición', 'detallaron', 'ley', 'afecta', 'forma', 'directa', 'a', 'comunidad', '–que', '170', 'millones', 'adeptos', 'grupo', 'minoritario', 'India', '700', 'representantes', 'indios', 'incluidos', 'abogados', 'académicos', 'actores', 'firmado', 'declaración', 'reprueba', 'proyecto', 'ley', 'representación', 'Gobierno', 'ministro', 'Interior', 'Amit', 'Shah', 'defendió', 'ley', 'enfatizando', 'busca', 'ayudar', 'a', 'minorías', 'perseguidas', 'países', 'vecinos', 'mayoría', 'musulmana', 'quitando', 'ciudadanía', 'a', 'musulmanes', 'India', 'aseveró', 'Shah', 'proyecto', 'ley', 'otorgar', 'ciudadanía', 'quitarla', 'Parlamento', 'aprobó', 'ley', 'semana', 'protestas', 'comenzaron', 'noreste', 'país', 'sentimiento', 'antiinmigrante', 'localidades', 'exclusión', 'musulmanes', 'Tripura', 'Gobierno', 'desplegó', 'tropas', 'llevaron', 'refuerzos', 'a', 'Assam', 'ambas', 'zonas', 'fronterizas', 'Bangladesh', 'ciudadanos', 'mostrado', 'acuerdo', 'llegada', 'extranjeros', 'a', 'temen', 'llegada', 'migrantes', 'masa', 'aumente', 'competencia', 'tierras', 'altere', 'equilibrio', 'demográfico', 'Assam', 'zona', 'afectada', 'manifestaciones', 'agosto', 'millones', 'personas', 'quedaron', 'afuera', 'registro', 'ciudadanos', 'autoridades', 'bloqueado', 'acceso', 'a', 'internet', '10', 'distritos', 'localidad', 'evitar', 'focos', 'violencia', 'Guwahati', 'declaró', 'toque', 'queda', 'violentos', 'enfrentamientos', 'fuerzas', 'policiales', 'manifestantes', 'día', 'información', 'oficial', 'recolectada', 'cifra', '15', 'muertos', 'producto', 'protestas']\n"
          ]
        }
      ],
      "source": [
        "print(\"Ejemplo de alguna noticia: {}\".format(cleaned_content[14]))"
      ]
    },
    {
      "cell_type": "markdown",
      "metadata": {
        "ExecuteTime": {
          "end_time": "2019-08-26T19:41:36.055210Z",
          "start_time": "2019-08-26T19:41:36.051221Z"
        },
        "id": "oflTH9xfSQHl"
      },
      "source": [
        "### Extracción de Frases\n",
        "\n",
        "Para crear buenas representaciones, es necesario tambien encontrar conjuntos de palabras que por si solas no tengan mayor significado (como `nueva` y `york`), pero que juntas que representen ideas concretas (`nueva york`).\n",
        "\n",
        "Para esto, usaremos el primer conjunto de herramientas de `gensim`: `Phrases` y `Phraser`."
      ]
    },
    {
      "cell_type": "code",
      "execution_count": 12,
      "metadata": {
        "ExecuteTime": {
          "end_time": "2020-05-07T19:18:18.064454Z",
          "start_time": "2020-05-07T19:18:03.208281Z"
        },
        "id": "vT6jB99sSQHl"
      },
      "outputs": [],
      "source": [
        "# Phrases recibe una lista de oraciones, y junta bigramas que estén al menos 100 veces repetidos\n",
        "# como un único token. Detrás de esto hay un modelo estadístico basado en frecuencias, probabilidades, etc\n",
        "# pero en términos simples ese es el resultado\n",
        "\n",
        "phrases = Phrases(cleaned_content, min_count=100, progress_per=5000)"
      ]
    },
    {
      "cell_type": "markdown",
      "metadata": {
        "id": "yHZ8f4bbSQHl"
      },
      "source": [
        "Ahora, usamos `Phraser` para re-tokenizamos el corpus con los bigramas encontrados. Es decir, juntamos los tokens separados que detectamos como frases."
      ]
    },
    {
      "cell_type": "code",
      "execution_count": 13,
      "metadata": {
        "ExecuteTime": {
          "end_time": "2020-05-07T19:20:57.432220Z",
          "start_time": "2020-05-07T19:20:13.544388Z"
        },
        "id": "qsMhI7cDSQHm"
      },
      "outputs": [],
      "source": [
        "bigram = Phraser(phrases)\n",
        "sentences = bigram[cleaned_content]"
      ]
    },
    {
      "cell_type": "code",
      "execution_count": 14,
      "metadata": {
        "ExecuteTime": {
          "end_time": "2020-05-07T19:21:03.964097Z",
          "start_time": "2020-05-07T19:21:03.958113Z"
        },
        "colab": {
          "base_uri": "https://localhost:8080/"
        },
        "id": "lyJJ_XOKSQHm",
        "outputId": "a5020ff9-1d53-46e3-e202-6db84cf04fff"
      },
      "outputs": [
        {
          "output_type": "stream",
          "name": "stdout",
          "text": [
            "['Denuncian', 'personas', 'epilepsia', 'sufrieron', 'ataques', 'Twitter', 'Usuarios', 'publicaron', 'luces', 'estroboscópicas', 'organización', 'Epilepsy', 'Foundation', 'origen', 'estadounidense', 'presentó', 'denuncia', 'penal', 'solicitó', 'investigación', 'a', 'raíz', 'distintos', 'usuarios', 'Twitter', 'publicaran', 'videos', 'luces', 'intermitentes', 'estroboscópicas', 'noviembre', 'provocaron', 'convulsiones', 'a', 'personas', 'epilepsia', 'usuarios', 'plataforma', 'utilizaron', 'hashtag', 'fundación', 'atacar', 'a', 'personas', 'epilepsia', 'acuerdo', 'a', 'indicado', 'directora', 'defensa', 'legal', 'Allison', 'Nichol', 'a', 'BBC', 'ataques', 'a', 'persona', 'luz', 'estroboscópica', 'a', 'convención', 'personas', 'epilepsia', 'convulsiones', 'intención', 'inducir', 'convulsiones', 'causar', 'daño', 'significativo', 'a', 'participantes', 'ataques', 'ocurrieron', 'Mes', 'Nacional', 'Concientización', 'Epilepsia', 'resalta', 'naturaleza', 'reprensible', 'encargada', 'materia', 'legal', 'fundación', 'cooperando', 'completamente', 'policía', 'intención', 'utilizar', 'vías', 'disponibles', 'garantizar', 'responsables', 'respondan', 'acuerdo', 'a', 'datos', '3', 'personas', 'sufren', 'epilepsia', 'fotosensible', 'luces', 'intermitentes', 'estroboscópicas', 'publicadas', 'red', 'social', 'afectaría', 'directamente', 'Anteriormente', 'Sociedad', 'Epilepsia', 'Reino_Unido', 'exigir', 'a', 'compañías', 'redes_sociales', 'muestren', 'advertencias']\n"
          ]
        }
      ],
      "source": [
        "# para ver como quedan las noticias retokenizadas, quitar comentario a la siguiente linea:\n",
        "print(sentences[1])"
      ]
    },
    {
      "cell_type": "markdown",
      "metadata": {
        "ExecuteTime": {
          "end_time": "2019-08-26T20:46:14.842693Z",
          "start_time": "2019-08-26T20:46:14.839706Z"
        },
        "id": "srh235fDSQHm"
      },
      "source": [
        "### Definir el modelo\n",
        "\n",
        "\n",
        "\n",
        "Primero, como es usual, creamos el modelo. En este caso, usaremos uno de los primero modelos de embeddings neuronales: `word2vec`\n",
        "\n",
        "Algunos parámetros importantes:\n",
        "\n",
        "- `min_count`: Ignora todas las palabras que tengan frecuencia menor a la indicada.\n",
        "- `window` : Tamaño de la ventana. Usaremos 4.\n",
        "- `size` : El tamaño de los embeddings que crearemos. Por lo general, el rendimiento sube cuando se usan mas dimensiones, pero después de 300 ya no se nota cambio. Ahora, usaremos solo 200.\n",
        "- `workers`: Cantidad de CPU que serán utilizadas en el entrenamiento."
      ]
    },
    {
      "cell_type": "code",
      "execution_count": 15,
      "metadata": {
        "ExecuteTime": {
          "end_time": "2020-05-07T15:29:43.525865Z",
          "start_time": "2020-05-07T15:29:43.521840Z"
        },
        "id": "PxbhQixYSQHm"
      },
      "outputs": [],
      "source": [
        "w2v = Word2Vec(min_count=10,\n",
        "                      window=4,\n",
        "                      vector_size=200,\n",
        "                      sample=6e-5,\n",
        "                      alpha=0.03,\n",
        "                      min_alpha=0.0007,\n",
        "                      negative=20,\n",
        "                      workers=multiprocessing.cpu_count())"
      ]
    },
    {
      "cell_type": "code",
      "execution_count": 16,
      "metadata": {
        "colab": {
          "base_uri": "https://localhost:8080/"
        },
        "id": "kL5xfnTBOszO",
        "outputId": "8f978333-22b3-4502-c9bd-fd0b842389c7"
      },
      "outputs": [
        {
          "output_type": "execute_result",
          "data": {
            "text/plain": [
              "<gensim.models.word2vec.Word2Vec at 0x7970a19d1a50>"
            ]
          },
          "metadata": {},
          "execution_count": 16
        }
      ],
      "source": [
        "Word2Vec()"
      ]
    },
    {
      "cell_type": "markdown",
      "metadata": {
        "id": "gcoiPxJySQHn"
      },
      "source": [
        "### Construir el vocabulario\n",
        "\n",
        "Para esto, se creará un conjunto que contendrá (una sola vez) todas aquellas palabras que aparecen mas de `min_count` veces."
      ]
    },
    {
      "cell_type": "code",
      "execution_count": 17,
      "metadata": {
        "ExecuteTime": {
          "end_time": "2020-05-07T15:30:09.864087Z",
          "start_time": "2020-05-07T15:29:45.813793Z"
        },
        "id": "8Gx_MtzeSQHn"
      },
      "outputs": [],
      "source": [
        "w2v.build_vocab(sentences, progress_per=10000)"
      ]
    },
    {
      "cell_type": "markdown",
      "metadata": {
        "ExecuteTime": {
          "end_time": "2019-08-26T21:11:58.054500Z",
          "start_time": "2019-08-26T21:11:58.050511Z"
        },
        "id": "UGvA3Lr9SQHo"
      },
      "source": [
        "### Entrenar el Modelo\n",
        "\n",
        "A continuación, entenaremos el modelo.\n",
        "Los parámetros que usaremos serán:\n",
        "\n",
        "- `total_examples`: Número de documentos.\n",
        "- `epochs`: Número de veces que se iterará sobre el corpus.\n",
        "\n",
        "Es recomendable que tengan instalado `cpython` antes de continuar. Aumenta bastante la velocidad de entrenamiento.\n"
      ]
    },
    {
      "cell_type": "code",
      "execution_count": 18,
      "metadata": {
        "ExecuteTime": {
          "end_time": "2020-05-07T15:34:44.255083Z",
          "start_time": "2020-05-07T15:30:12.141203Z"
        },
        "colab": {
          "base_uri": "https://localhost:8080/"
        },
        "id": "SXER4JiiSQHo",
        "outputId": "2aa4faa7-cac7-4935-b431-517dc0dbeb15",
        "scrolled": true
      },
      "outputs": [
        {
          "output_type": "stream",
          "name": "stdout",
          "text": [
            "Time to train the model: 0.59 mins\n"
          ]
        }
      ],
      "source": [
        "t = time()\n",
        "w2v.train(sentences, total_examples=w2v.corpus_count, epochs=5, report_delay=10)\n",
        "print('Time to train the model: {} mins'.format(round((time() - t) / 60, 2)))"
      ]
    },
    {
      "cell_type": "markdown",
      "metadata": {
        "id": "XMSGhv3XSQHo"
      },
      "source": [
        "Ahora que terminamos de entrenar el modelo, le indicamos que no lo entrenaremos mas.\n",
        "Esto nos permitirá ejecutar eficientemente las tareas que realizaremos."
      ]
    },
    {
      "cell_type": "code",
      "execution_count": 19,
      "metadata": {
        "ExecuteTime": {
          "end_time": "2020-05-07T15:34:46.358716Z",
          "start_time": "2020-05-07T15:34:46.331779Z"
        },
        "colab": {
          "base_uri": "https://localhost:8080/"
        },
        "id": "PWbHUPjJSQHo",
        "outputId": "1dcd1bcd-d41e-4010-a241-73373f77e7ea"
      },
      "outputs": [
        {
          "output_type": "stream",
          "name": "stderr",
          "text": [
            "<ipython-input-19-dc91b3835df3>:1: DeprecationWarning: Call to deprecated `init_sims` (Gensim 4.0.0 implemented internal optimizations that make calls to init_sims() unnecessary. init_sims() is now obsoleted and will be completely removed in future versions. See https://github.com/RaRe-Technologies/gensim/wiki/Migrating-from-Gensim-3.x-to-4).\n",
            "  w2v.init_sims(replace=True)\n",
            "WARNING:gensim.models.keyedvectors:destructive init_sims(replace=True) deprecated & no longer required for space-efficiency\n"
          ]
        }
      ],
      "source": [
        "w2v.init_sims(replace=True)"
      ]
    },
    {
      "cell_type": "markdown",
      "metadata": {
        "ExecuteTime": {
          "end_time": "2019-08-26T21:43:36.571382Z",
          "start_time": "2019-08-26T21:43:36.567392Z"
        },
        "id": "g47OlSg2SQHo"
      },
      "source": [
        "###  Guardar y cargar el modelo\n",
        "\n",
        "Para ahorrar tiempo, usaremos un modelo preentrenado."
      ]
    },
    {
      "cell_type": "code",
      "execution_count": 20,
      "metadata": {
        "ExecuteTime": {
          "end_time": "2020-05-07T19:23:19.548567Z",
          "start_time": "2020-05-07T19:23:18.572531Z"
        },
        "id": "hLd1DGPXSQHp"
      },
      "outputs": [],
      "source": [
        "# Si entrenaste el modelo y lo quieres guardar, descomentar el siguiente bloque.\n",
        "if not os.path.exists('./pretrained_models'):\n",
        "    os.mkdir('./pretrained_models')\n",
        "w2v.save('./pretrained_models/biobio_w2v.model')\n",
        "\n",
        "\n",
        "# cargar el modelo (si es que lo entrenaron desde local.)\n",
        "w2v = KeyedVectors.load(\"./pretrained_models/biobio_w2v.model\", mmap='r')\n"
      ]
    },
    {
      "cell_type": "code",
      "execution_count": 21,
      "metadata": {
        "ExecuteTime": {
          "end_time": "2020-05-07T17:05:18.639618Z",
          "start_time": "2020-05-07T17:02:10.981724Z"
        },
        "id": "hEvKTMmGSQHp"
      },
      "outputs": [],
      "source": [
        "# descargar el modelo desde github\n",
        "def read_model_from_github(url):\n",
        "    if not os.path.exists('./pretrained_models'):\n",
        "        os.mkdir('./pretrained_models')\n",
        "\n",
        "    r = requests.get(url)\n",
        "    filename = url.split('/')[-1]\n",
        "    with open('./pretrained_models/' + filename, 'wb') as f:\n",
        "        f.write(r.content)\n",
        "    return True\n",
        "\n",
        "\n",
        "[\n",
        "    read_model_from_github(file) for file in [\n",
        "        'https://github.com/dccuchile/CC6205/releases/download/Data/biobio_w2v.model',\n",
        "    ]\n",
        "]\n",
        "# cargar el modelo (si es que lo entrenaron desde local.)\n",
        "w2v = KeyedVectors.load(\"./pretrained_models/biobio_w2v.model\", mmap='r')\n"
      ]
    },
    {
      "cell_type": "markdown",
      "metadata": {
        "id": "_oqfd5wkSQHp"
      },
      "source": [
        "## **Tasks: Palabras mas similares y Analogías**\n",
        "\n",
        "### **Palabras mas similares**\n",
        "\n",
        "Tal como dijimos anteriormente, los embeddings son capaces de codificar toda la información contextual de las palabras en vectores.\n",
        "\n",
        "Y como cualquier objeto matemático, estos pueden operados para encontrar ciertas propiedades. Tal es el caso de las  encontrar las palabras mas similares, lo que no es mas que encontrar los n vecinos mas cercanos del vector.  "
      ]
    },
    {
      "cell_type": "code",
      "execution_count": 22,
      "metadata": {
        "ExecuteTime": {
          "end_time": "2020-05-07T19:28:33.343259Z",
          "start_time": "2020-05-07T19:28:33.262476Z"
        },
        "colab": {
          "base_uri": "https://localhost:8080/"
        },
        "id": "D6wSyaJ6SQHp",
        "outputId": "32196904-d4cc-4e67-cf24-779bc9e644b0"
      },
      "outputs": [
        {
          "output_type": "execute_result",
          "data": {
            "text/plain": [
              "[('gato', 0.7324815392494202),\n",
              " ('perrito', 0.7017662525177002),\n",
              " ('cachorro', 0.6726856231689453),\n",
              " ('canino', 0.6614428758621216),\n",
              " ('mascota', 0.6354753971099854),\n",
              " ('animal', 0.6341222524642944),\n",
              " ('gatito', 0.6259311437606812),\n",
              " ('felino', 0.622412919998169),\n",
              " ('perros', 0.6207762360572815),\n",
              " ('perra', 0.5834704041481018)]"
            ]
          },
          "metadata": {},
          "execution_count": 22
        }
      ],
      "source": [
        "w2v.wv.most_similar(positive=[\"perro\"])"
      ]
    },
    {
      "cell_type": "code",
      "execution_count": 23,
      "metadata": {
        "ExecuteTime": {
          "end_time": "2020-05-07T19:28:59.154190Z",
          "start_time": "2020-05-07T19:28:59.146214Z"
        },
        "colab": {
          "base_uri": "https://localhost:8080/"
        },
        "id": "wvvUcuNaSQHp",
        "outputId": "d417636f-1312-4d3d-fcf6-11872c498c46"
      },
      "outputs": [
        {
          "output_type": "execute_result",
          "data": {
            "text/plain": [
              "[('Latinoamérica', 0.48114773631095886),\n",
              " ('país', 0.4791499078273773),\n",
              " ('exportadores', 0.4531676173210144),\n",
              " ('chileno', 0.4481710195541382),\n",
              " ('Crecimiento', 0.4425714910030365),\n",
              " ('posiciona', 0.44039905071258545),\n",
              " ('Perú', 0.43912073969841003),\n",
              " ('Bolivia', 0.4357107877731323),\n",
              " ('chilenas', 0.43546050786972046),\n",
              " ('chilena', 0.430389940738678)]"
            ]
          },
          "metadata": {},
          "execution_count": 23
        }
      ],
      "source": [
        "w2v.wv.most_similar(positive=[\"Chile\"])"
      ]
    },
    {
      "cell_type": "code",
      "execution_count": 24,
      "metadata": {
        "ExecuteTime": {
          "end_time": "2020-05-07T19:29:49.464492Z",
          "start_time": "2020-05-07T19:29:49.432164Z"
        },
        "colab": {
          "base_uri": "https://localhost:8080/"
        },
        "id": "M8UMSL20SQHp",
        "outputId": "5f954512-324b-4467-cb91-8e43d5f6c44b"
      },
      "outputs": [
        {
          "output_type": "execute_result",
          "data": {
            "text/plain": [
              "[('ultraderechista_Jair', 0.7692869305610657),\n",
              " ('excapitán_Ejército', 0.7673073410987854),\n",
              " ('Jair_Bolsonaro', 0.7401224374771118),\n",
              " ('Haddad', 0.6947491765022278),\n",
              " ('exmilitar', 0.6393497586250305),\n",
              " ('Brasil', 0.618027925491333),\n",
              " ('Brasilia', 0.6159982681274414),\n",
              " ('nostálgico', 0.6144426465034485),\n",
              " ('Fernando_Haddad', 0.606082558631897),\n",
              " ('Ultraderechista', 0.603746771812439)]"
            ]
          },
          "metadata": {},
          "execution_count": 24
        }
      ],
      "source": [
        "w2v.wv.most_similar(positive=[\"Bolsonaro\"])"
      ]
    },
    {
      "cell_type": "code",
      "execution_count": 25,
      "metadata": {
        "ExecuteTime": {
          "end_time": "2020-05-07T19:29:56.028795Z",
          "start_time": "2020-05-07T19:29:56.014832Z"
        },
        "colab": {
          "base_uri": "https://localhost:8080/"
        },
        "id": "x8yQ_thcSQHq",
        "outputId": "766337f8-bdf0-442b-d1f1-461a05ddc70c"
      },
      "outputs": [
        {
          "output_type": "execute_result",
          "data": {
            "text/plain": [
              "[('Casa_Blanca', 0.709988534450531),\n",
              " ('Donald_Trump', 0.7093803882598877),\n",
              " ('mandatario_estadounidense', 0.7046915292739868),\n",
              " ('inquilino', 0.678024411201477),\n",
              " ('administración_Trump', 0.6302800178527832),\n",
              " ('Bolton', 0.6201831102371216),\n",
              " ('Unidos', 0.6197685599327087),\n",
              " ('Washington', 0.6131006479263306),\n",
              " ('presidente_estadounidense', 0.6014897227287292),\n",
              " ('Unidos_Donald', 0.5976207852363586)]"
            ]
          },
          "metadata": {},
          "execution_count": 25
        }
      ],
      "source": [
        "w2v.wv.most_similar(positive=[\"Trump\"])"
      ]
    },
    {
      "cell_type": "code",
      "execution_count": 26,
      "metadata": {
        "ExecuteTime": {
          "end_time": "2020-05-07T19:32:29.842609Z",
          "start_time": "2020-05-07T19:32:29.829644Z"
        },
        "colab": {
          "base_uri": "https://localhost:8080/"
        },
        "id": "zDe2KBajSQHq",
        "outputId": "639a4eb7-69bd-4523-8be0-51e06d812a6a",
        "scrolled": true
      },
      "outputs": [
        {
          "output_type": "execute_result",
          "data": {
            "text/plain": [
              "[('Silber', 0.7718173265457153),\n",
              " ('Ascencio', 0.7053338289260864),\n",
              " ('Orsini', 0.6885764002799988),\n",
              " ('democratacristiano', 0.6543008089065552),\n",
              " ('Giorgio', 0.6531973481178284),\n",
              " ('Jiles', 0.6507138013839722),\n",
              " ('frenteamplista', 0.6495876312255859),\n",
              " ('Crispi', 0.6427950859069824),\n",
              " ('Gabriel', 0.6346496343612671),\n",
              " ('Cariola', 0.6257592439651489)]"
            ]
          },
          "metadata": {},
          "execution_count": 26
        }
      ],
      "source": [
        "w2v.wv.most_similar(positive=[\"Boric\"])"
      ]
    },
    {
      "cell_type": "code",
      "execution_count": 27,
      "metadata": {
        "ExecuteTime": {
          "end_time": "2020-05-07T19:32:59.165524Z",
          "start_time": "2020-05-07T19:32:59.153557Z"
        },
        "colab": {
          "base_uri": "https://localhost:8080/"
        },
        "id": "862JVl0RSQHq",
        "outputId": "92c28df3-ba52-4432-ff8d-db6198e0843b"
      },
      "outputs": [
        {
          "output_type": "execute_result",
          "data": {
            "text/plain": [
              "[('Cabify', 0.7779495716094971),\n",
              " ('Eats', 0.700801432132721),\n",
              " ('DiDi', 0.676181435585022),\n",
              " ('Rappi', 0.6054359078407288),\n",
              " ('Conductores', 0.5858488082885742),\n",
              " ('aplicaciones', 0.5700352787971497),\n",
              " ('Beat', 0.566635251045227),\n",
              " ('app', 0.5640519857406616),\n",
              " ('choferes', 0.5415353178977966),\n",
              " ('taxistas', 0.5351073145866394)]"
            ]
          },
          "metadata": {},
          "execution_count": 27
        }
      ],
      "source": [
        "w2v.wv.most_similar(positive=[\"Uber\"])"
      ]
    },
    {
      "cell_type": "code",
      "execution_count": 28,
      "metadata": {
        "ExecuteTime": {
          "end_time": "2020-05-07T19:33:34.899941Z",
          "start_time": "2020-05-07T19:33:34.885980Z"
        },
        "colab": {
          "base_uri": "https://localhost:8080/"
        },
        "id": "lexHPPjdSQHq",
        "outputId": "1bd16d8f-ca92-4d71-cf6f-0b5f24fa8959"
      },
      "outputs": [
        {
          "output_type": "execute_result",
          "data": {
            "text/plain": [
              "[('ZTE', 0.7025798559188843),\n",
              " ('telecomunicaciones', 0.639496922492981),\n",
              " ('Wanzhou', 0.617560863494873),\n",
              " ('5G', 0.6000877022743225),\n",
              " ('Meng', 0.5700865387916565),\n",
              " ('Pekin', 0.5595781803131104),\n",
              " ('Ren', 0.5414323210716248),\n",
              " ('gigante_asiático', 0.5363011956214905),\n",
              " ('sanciones_estadounidenses', 0.5254279375076294),\n",
              " ('China', 0.5246084928512573)]"
            ]
          },
          "metadata": {},
          "execution_count": 28
        }
      ],
      "source": [
        "w2v.wv.most_similar(positive=[\"Huawei\"])"
      ]
    },
    {
      "cell_type": "code",
      "execution_count": 29,
      "metadata": {
        "ExecuteTime": {
          "end_time": "2020-05-07T19:33:41.167456Z",
          "start_time": "2020-05-07T19:33:41.155482Z"
        },
        "colab": {
          "base_uri": "https://localhost:8080/"
        },
        "id": "5T8ZPF1KSQHq",
        "outputId": "e4299224-f442-4998-872c-ddf5a1964099"
      },
      "outputs": [
        {
          "output_type": "execute_result",
          "data": {
            "text/plain": [
              "[('Televisión', 0.6506631374359131),\n",
              " ('directorio', 0.5564517974853516),\n",
              " ('Orrego', 0.48779889941215515),\n",
              " ('C5N', 0.47816959023475647),\n",
              " ('Panorama', 0.47550544142723083),\n",
              " ('Chilevisión', 0.46353694796562195),\n",
              " ('cuprífera', 0.4621235728263855),\n",
              " ('matinal', 0.45264914631843567),\n",
              " ('CHV', 0.4483409821987152),\n",
              " ('Mega', 0.44625139236450195)]"
            ]
          },
          "metadata": {},
          "execution_count": 29
        }
      ],
      "source": [
        "w2v.wv.most_similar(positive=[\"TVN\"])"
      ]
    },
    {
      "cell_type": "markdown",
      "metadata": {
        "id": "IWr76TLqSQHr"
      },
      "source": [
        "### **Analogías**\n",
        "\n",
        "Por otra parte, la analogía consiste en comparar 3 terminos mediante una operación del estilo:\n",
        "\n",
        "$$palabra1 - palabra2 \\approx palabra 3 - x$$\n",
        "\n",
        "para encontrar relaciones entre estos.\n",
        "\n",
        "Por ejemplo:\n",
        "\n",
        "| palabra 1 (pos) |  palabra 2 (neg) |\n",
        "|-----------------|------------------|\n",
        "|  macri          | Argentina          |\n",
        "| Brasil           |  x               |"
      ]
    },
    {
      "cell_type": "code",
      "execution_count": 30,
      "metadata": {
        "ExecuteTime": {
          "end_time": "2020-05-07T19:36:24.480150Z",
          "start_time": "2020-05-07T19:36:24.462198Z"
        },
        "colab": {
          "base_uri": "https://localhost:8080/"
        },
        "id": "cHMLglR7SQHr",
        "outputId": "dfe9dc8f-296a-46db-e83f-65d987a04db3"
      },
      "outputs": [
        {
          "output_type": "execute_result",
          "data": {
            "text/plain": [
              "[('Bolsonaro', 0.6208245158195496),\n",
              " ('ultraderechista_Jair', 0.5999900698661804),\n",
              " ('Jair_Bolsonaro', 0.5594528913497925),\n",
              " ('Michel_Temer', 0.5592767596244812),\n",
              " ('excapitán_Ejército', 0.556822657585144),\n",
              " ('Haddad', 0.532974123954773),\n",
              " ('Fernando_Haddad', 0.5272845029830933),\n",
              " ('Temer', 0.5139399766921997),\n",
              " ('Brasilia', 0.4959222972393036),\n",
              " ('Ultraderechista', 0.47941094636917114)]"
            ]
          },
          "metadata": {},
          "execution_count": 30
        }
      ],
      "source": [
        "w2v.wv.most_similar(positive=[\"Macri\", \"Brasil\"], negative=['Argentina'], topn=10)"
      ]
    },
    {
      "cell_type": "code",
      "execution_count": 31,
      "metadata": {
        "ExecuteTime": {
          "end_time": "2020-05-07T19:36:10.444907Z",
          "start_time": "2020-05-07T19:36:10.435930Z"
        },
        "colab": {
          "base_uri": "https://localhost:8080/"
        },
        "id": "FLaLGvm4SQHr",
        "outputId": "a7e56b4a-5da5-42bd-fafb-907ea645ec47"
      },
      "outputs": [
        {
          "output_type": "execute_result",
          "data": {
            "text/plain": [
              "[('Falabella', 0.47030484676361084),\n",
              " ('portabilidad', 0.4300999641418457),\n",
              " ('Multicaja', 0.4203709363937378),\n",
              " ('CMR', 0.41495582461357117),\n",
              " ('Sodimac', 0.4064332842826843),\n",
              " ('Valledor', 0.3986559212207794),\n",
              " ('Telefónica', 0.39562681317329407),\n",
              " ('Ciberseguridad', 0.39511701464653015),\n",
              " ('Subtel', 0.3942727744579315),\n",
              " ('retail', 0.39312079548835754)]"
            ]
          },
          "metadata": {},
          "execution_count": 31
        }
      ],
      "source": [
        "w2v.wv.most_similar(positive=[\"Chile\", \"Huawei\"], negative=['China'], topn=10)"
      ]
    },
    {
      "cell_type": "code",
      "execution_count": 32,
      "metadata": {
        "colab": {
          "base_uri": "https://localhost:8080/"
        },
        "id": "Bc4GN6oSU__F",
        "outputId": "edc431e9-6e7e-45f6-bbfb-cd41b43bd661"
      },
      "outputs": [
        {
          "output_type": "execute_result",
          "data": {
            "text/plain": [
              "[('elefante', 0.5690402388572693),\n",
              " ('macho', 0.5560784935951233),\n",
              " ('cría', 0.5545395016670227),\n",
              " ('hembra', 0.5471694469451904),\n",
              " ('domador', 0.5464577674865723),\n",
              " ('amarrado', 0.5397398471832275),\n",
              " ('cuernos', 0.5395569801330566),\n",
              " ('canguro', 0.5395484566688538),\n",
              " ('tigres', 0.5384529829025269),\n",
              " ('hueso', 0.5378432273864746)]"
            ]
          },
          "metadata": {},
          "execution_count": 32
        }
      ],
      "source": [
        "# atención\n",
        "w2v.wv.most_similar(positive=[\"perro\", \"tigre\"], negative=['gato'], topn=10)"
      ]
    },
    {
      "cell_type": "markdown",
      "metadata": {
        "ExecuteTime": {
          "end_time": "2019-08-28T19:55:09.459852Z",
          "start_time": "2019-08-28T19:55:09.454865Z"
        },
        "id": "z3bDLWKpSQHu"
      },
      "source": [
        "## **Word Embeddings como características para clasificar**\n",
        "\n",
        "\n",
        "En esta sección, veremos como utilizar los word embeddings como característica para **clasificar noticias de diferentes medios**.\n"
      ]
    },
    {
      "cell_type": "markdown",
      "metadata": {
        "ExecuteTime": {
          "end_time": "2019-09-23T20:43:25.817110Z",
          "start_time": "2019-09-23T20:43:25.797172Z"
        },
        "id": "zD_A7ogRSQHw"
      },
      "source": [
        "### Dividir el dataset en training y test"
      ]
    },
    {
      "cell_type": "code",
      "execution_count": 33,
      "metadata": {
        "ExecuteTime": {
          "end_time": "2020-05-07T19:45:05.304455Z",
          "start_time": "2020-05-07T19:45:05.296477Z"
        },
        "id": "y3pOTi67SQHw"
      },
      "outputs": [],
      "source": [
        "X_train, X_test, y_train, y_test = train_test_split(dataset.texto,\n",
        "                                                    dataset.medio,\n",
        "                                                    test_size=0.33,\n",
        "                                                    random_state=42)"
      ]
    },
    {
      "cell_type": "markdown",
      "metadata": {
        "id": "KNtnEzWMSQHw"
      },
      "source": [
        "Primero, crearemos el Transformer con el cual convertiremos el documento a vector.\n"
      ]
    },
    {
      "cell_type": "markdown",
      "metadata": {
        "id": "spUfFXrNSQHw"
      },
      "source": [
        "### Doc2vec"
      ]
    },
    {
      "cell_type": "code",
      "execution_count": 34,
      "metadata": {
        "ExecuteTime": {
          "end_time": "2020-05-17T20:42:22.105698Z",
          "start_time": "2020-05-17T20:42:22.094754Z"
        },
        "id": "IXq9b_pYSQHw"
      },
      "outputs": [],
      "source": [
        "class Doc2VecTransformer(BaseEstimator, TransformerMixin):\n",
        "    \"\"\" Transforma tweets a representaciones vectoriales usando algún modelo de Word Embeddings.\n",
        "    \"\"\"\n",
        "\n",
        "    def __init__(self, model, aggregation_func):\n",
        "        # extraemos los embeddings desde el objeto contenedor. ojo con esta parte.\n",
        "        self.model = model.wv\n",
        "\n",
        "        # indicamos la función de agregación (np.min, np.max, np.mean, np.sum, ...)\n",
        "        self.aggregation_func = aggregation_func\n",
        "\n",
        "    def simple_tokenizer(self, doc, lower=False):\n",
        "        \"\"\"Tokenizador. Elimina signos de puntuación, lleva las letras a minúscula(opcional) y\n",
        "           separa el tweet por espacios.\n",
        "        \"\"\"\n",
        "        if lower:\n",
        "            doc.translate(str.maketrans('', '', string.punctuation)).lower().split()\n",
        "        return doc.translate(str.maketrans('', '', string.punctuation)).split()\n",
        "\n",
        "    def fit(self, X, y=None):\n",
        "        return self\n",
        "\n",
        "    def transform(self, X, y=None):\n",
        "\n",
        "        doc_embeddings = []\n",
        "\n",
        "        for doc in X:\n",
        "            # tokenizamos el documento. Se llevan todos los tokens a minúscula.\n",
        "            # ojo con esto, ya que puede que tokens con minúscula y mayúscula tengan\n",
        "            # distintas representaciones\n",
        "            tokens = self.simple_tokenizer(doc, lower = True)\n",
        "\n",
        "            selected_wv = []\n",
        "            for token in tokens:\n",
        "                if token in self.model.index_to_key:\n",
        "                    selected_wv.append(self.model[token])\n",
        "\n",
        "            # si seleccionamos por lo menos un embedding para el tweet, lo agregamos y luego lo añadimos.\n",
        "            if len(selected_wv) > 0:\n",
        "                doc_embedding = self.aggregation_func(np.array(selected_wv), axis=0)\n",
        "                doc_embeddings.append(doc_embedding)\n",
        "            # si no, añadimos un vector de ceros que represente a ese documento.\n",
        "            else:\n",
        "                print('No pude encontrar ningún embedding en el tweet: {}. Agregando vector de ceros.'.format(doc))\n",
        "                doc_embeddings.append(np.zeros(self.model.vector_size)) # la dimension del modelo\n",
        "\n",
        "        return np.array(doc_embeddings)\n"
      ]
    },
    {
      "cell_type": "markdown",
      "metadata": {
        "id": "M3NG6AvpSQHw"
      },
      "source": [
        "### Definimos el pipeline\n",
        "\n",
        "\n",
        "Usaremos la transformación que creamos antes mas una regresión logística."
      ]
    },
    {
      "cell_type": "code",
      "execution_count": 35,
      "metadata": {
        "ExecuteTime": {
          "end_time": "2020-05-07T19:50:34.393237Z",
          "start_time": "2020-05-07T19:50:34.387253Z"
        },
        "id": "eBjMxandSQHx"
      },
      "outputs": [],
      "source": [
        "clf = LogisticRegression(max_iter=1000000)\n",
        "\n",
        "doc2vec_mean = Doc2VecTransformer(w2v, np.mean)\n",
        "doc2vec_sum = Doc2VecTransformer(w2v, np.sum)\n",
        "doc2vec_max = Doc2VecTransformer(w2v, np.max)\n",
        "\n",
        "\n",
        "pipeline = Pipeline([('doc2vec', doc2vec_sum), ('clf', clf)])"
      ]
    },
    {
      "cell_type": "code",
      "execution_count": 36,
      "metadata": {
        "ExecuteTime": {
          "end_time": "2020-05-07T19:50:59.881521Z",
          "start_time": "2020-05-07T19:50:40.532331Z"
        },
        "colab": {
          "base_uri": "https://localhost:8080/",
          "height": 143
        },
        "id": "buMnvsO8SQHx",
        "outputId": "7ad8da36-b45f-42f4-93f1-fe301938438f"
      },
      "outputs": [
        {
          "output_type": "execute_result",
          "data": {
            "text/plain": [
              "Pipeline(steps=[('doc2vec',\n",
              "                 Doc2VecTransformer(aggregation_func=<function sum at 0x797141bf2330>,\n",
              "                                    model=<gensim.models.keyedvectors.KeyedVectors object at 0x7970a19d3a00>)),\n",
              "                ('clf', LogisticRegression(max_iter=1000000))])"
            ],
            "text/html": [
              "<style>#sk-container-id-1 {\n",
              "  /* Definition of color scheme common for light and dark mode */\n",
              "  --sklearn-color-text: black;\n",
              "  --sklearn-color-line: gray;\n",
              "  /* Definition of color scheme for unfitted estimators */\n",
              "  --sklearn-color-unfitted-level-0: #fff5e6;\n",
              "  --sklearn-color-unfitted-level-1: #f6e4d2;\n",
              "  --sklearn-color-unfitted-level-2: #ffe0b3;\n",
              "  --sklearn-color-unfitted-level-3: chocolate;\n",
              "  /* Definition of color scheme for fitted estimators */\n",
              "  --sklearn-color-fitted-level-0: #f0f8ff;\n",
              "  --sklearn-color-fitted-level-1: #d4ebff;\n",
              "  --sklearn-color-fitted-level-2: #b3dbfd;\n",
              "  --sklearn-color-fitted-level-3: cornflowerblue;\n",
              "\n",
              "  /* Specific color for light theme */\n",
              "  --sklearn-color-text-on-default-background: var(--sg-text-color, var(--theme-code-foreground, var(--jp-content-font-color1, black)));\n",
              "  --sklearn-color-background: var(--sg-background-color, var(--theme-background, var(--jp-layout-color0, white)));\n",
              "  --sklearn-color-border-box: var(--sg-text-color, var(--theme-code-foreground, var(--jp-content-font-color1, black)));\n",
              "  --sklearn-color-icon: #696969;\n",
              "\n",
              "  @media (prefers-color-scheme: dark) {\n",
              "    /* Redefinition of color scheme for dark theme */\n",
              "    --sklearn-color-text-on-default-background: var(--sg-text-color, var(--theme-code-foreground, var(--jp-content-font-color1, white)));\n",
              "    --sklearn-color-background: var(--sg-background-color, var(--theme-background, var(--jp-layout-color0, #111)));\n",
              "    --sklearn-color-border-box: var(--sg-text-color, var(--theme-code-foreground, var(--jp-content-font-color1, white)));\n",
              "    --sklearn-color-icon: #878787;\n",
              "  }\n",
              "}\n",
              "\n",
              "#sk-container-id-1 {\n",
              "  color: var(--sklearn-color-text);\n",
              "}\n",
              "\n",
              "#sk-container-id-1 pre {\n",
              "  padding: 0;\n",
              "}\n",
              "\n",
              "#sk-container-id-1 input.sk-hidden--visually {\n",
              "  border: 0;\n",
              "  clip: rect(1px 1px 1px 1px);\n",
              "  clip: rect(1px, 1px, 1px, 1px);\n",
              "  height: 1px;\n",
              "  margin: -1px;\n",
              "  overflow: hidden;\n",
              "  padding: 0;\n",
              "  position: absolute;\n",
              "  width: 1px;\n",
              "}\n",
              "\n",
              "#sk-container-id-1 div.sk-dashed-wrapped {\n",
              "  border: 1px dashed var(--sklearn-color-line);\n",
              "  margin: 0 0.4em 0.5em 0.4em;\n",
              "  box-sizing: border-box;\n",
              "  padding-bottom: 0.4em;\n",
              "  background-color: var(--sklearn-color-background);\n",
              "}\n",
              "\n",
              "#sk-container-id-1 div.sk-container {\n",
              "  /* jupyter's `normalize.less` sets `[hidden] { display: none; }`\n",
              "     but bootstrap.min.css set `[hidden] { display: none !important; }`\n",
              "     so we also need the `!important` here to be able to override the\n",
              "     default hidden behavior on the sphinx rendered scikit-learn.org.\n",
              "     See: https://github.com/scikit-learn/scikit-learn/issues/21755 */\n",
              "  display: inline-block !important;\n",
              "  position: relative;\n",
              "}\n",
              "\n",
              "#sk-container-id-1 div.sk-text-repr-fallback {\n",
              "  display: none;\n",
              "}\n",
              "\n",
              "div.sk-parallel-item,\n",
              "div.sk-serial,\n",
              "div.sk-item {\n",
              "  /* draw centered vertical line to link estimators */\n",
              "  background-image: linear-gradient(var(--sklearn-color-text-on-default-background), var(--sklearn-color-text-on-default-background));\n",
              "  background-size: 2px 100%;\n",
              "  background-repeat: no-repeat;\n",
              "  background-position: center center;\n",
              "}\n",
              "\n",
              "/* Parallel-specific style estimator block */\n",
              "\n",
              "#sk-container-id-1 div.sk-parallel-item::after {\n",
              "  content: \"\";\n",
              "  width: 100%;\n",
              "  border-bottom: 2px solid var(--sklearn-color-text-on-default-background);\n",
              "  flex-grow: 1;\n",
              "}\n",
              "\n",
              "#sk-container-id-1 div.sk-parallel {\n",
              "  display: flex;\n",
              "  align-items: stretch;\n",
              "  justify-content: center;\n",
              "  background-color: var(--sklearn-color-background);\n",
              "  position: relative;\n",
              "}\n",
              "\n",
              "#sk-container-id-1 div.sk-parallel-item {\n",
              "  display: flex;\n",
              "  flex-direction: column;\n",
              "}\n",
              "\n",
              "#sk-container-id-1 div.sk-parallel-item:first-child::after {\n",
              "  align-self: flex-end;\n",
              "  width: 50%;\n",
              "}\n",
              "\n",
              "#sk-container-id-1 div.sk-parallel-item:last-child::after {\n",
              "  align-self: flex-start;\n",
              "  width: 50%;\n",
              "}\n",
              "\n",
              "#sk-container-id-1 div.sk-parallel-item:only-child::after {\n",
              "  width: 0;\n",
              "}\n",
              "\n",
              "/* Serial-specific style estimator block */\n",
              "\n",
              "#sk-container-id-1 div.sk-serial {\n",
              "  display: flex;\n",
              "  flex-direction: column;\n",
              "  align-items: center;\n",
              "  background-color: var(--sklearn-color-background);\n",
              "  padding-right: 1em;\n",
              "  padding-left: 1em;\n",
              "}\n",
              "\n",
              "\n",
              "/* Toggleable style: style used for estimator/Pipeline/ColumnTransformer box that is\n",
              "clickable and can be expanded/collapsed.\n",
              "- Pipeline and ColumnTransformer use this feature and define the default style\n",
              "- Estimators will overwrite some part of the style using the `sk-estimator` class\n",
              "*/\n",
              "\n",
              "/* Pipeline and ColumnTransformer style (default) */\n",
              "\n",
              "#sk-container-id-1 div.sk-toggleable {\n",
              "  /* Default theme specific background. It is overwritten whether we have a\n",
              "  specific estimator or a Pipeline/ColumnTransformer */\n",
              "  background-color: var(--sklearn-color-background);\n",
              "}\n",
              "\n",
              "/* Toggleable label */\n",
              "#sk-container-id-1 label.sk-toggleable__label {\n",
              "  cursor: pointer;\n",
              "  display: block;\n",
              "  width: 100%;\n",
              "  margin-bottom: 0;\n",
              "  padding: 0.5em;\n",
              "  box-sizing: border-box;\n",
              "  text-align: center;\n",
              "}\n",
              "\n",
              "#sk-container-id-1 label.sk-toggleable__label-arrow:before {\n",
              "  /* Arrow on the left of the label */\n",
              "  content: \"▸\";\n",
              "  float: left;\n",
              "  margin-right: 0.25em;\n",
              "  color: var(--sklearn-color-icon);\n",
              "}\n",
              "\n",
              "#sk-container-id-1 label.sk-toggleable__label-arrow:hover:before {\n",
              "  color: var(--sklearn-color-text);\n",
              "}\n",
              "\n",
              "/* Toggleable content - dropdown */\n",
              "\n",
              "#sk-container-id-1 div.sk-toggleable__content {\n",
              "  max-height: 0;\n",
              "  max-width: 0;\n",
              "  overflow: hidden;\n",
              "  text-align: left;\n",
              "  /* unfitted */\n",
              "  background-color: var(--sklearn-color-unfitted-level-0);\n",
              "}\n",
              "\n",
              "#sk-container-id-1 div.sk-toggleable__content.fitted {\n",
              "  /* fitted */\n",
              "  background-color: var(--sklearn-color-fitted-level-0);\n",
              "}\n",
              "\n",
              "#sk-container-id-1 div.sk-toggleable__content pre {\n",
              "  margin: 0.2em;\n",
              "  border-radius: 0.25em;\n",
              "  color: var(--sklearn-color-text);\n",
              "  /* unfitted */\n",
              "  background-color: var(--sklearn-color-unfitted-level-0);\n",
              "}\n",
              "\n",
              "#sk-container-id-1 div.sk-toggleable__content.fitted pre {\n",
              "  /* unfitted */\n",
              "  background-color: var(--sklearn-color-fitted-level-0);\n",
              "}\n",
              "\n",
              "#sk-container-id-1 input.sk-toggleable__control:checked~div.sk-toggleable__content {\n",
              "  /* Expand drop-down */\n",
              "  max-height: 200px;\n",
              "  max-width: 100%;\n",
              "  overflow: auto;\n",
              "}\n",
              "\n",
              "#sk-container-id-1 input.sk-toggleable__control:checked~label.sk-toggleable__label-arrow:before {\n",
              "  content: \"▾\";\n",
              "}\n",
              "\n",
              "/* Pipeline/ColumnTransformer-specific style */\n",
              "\n",
              "#sk-container-id-1 div.sk-label input.sk-toggleable__control:checked~label.sk-toggleable__label {\n",
              "  color: var(--sklearn-color-text);\n",
              "  background-color: var(--sklearn-color-unfitted-level-2);\n",
              "}\n",
              "\n",
              "#sk-container-id-1 div.sk-label.fitted input.sk-toggleable__control:checked~label.sk-toggleable__label {\n",
              "  background-color: var(--sklearn-color-fitted-level-2);\n",
              "}\n",
              "\n",
              "/* Estimator-specific style */\n",
              "\n",
              "/* Colorize estimator box */\n",
              "#sk-container-id-1 div.sk-estimator input.sk-toggleable__control:checked~label.sk-toggleable__label {\n",
              "  /* unfitted */\n",
              "  background-color: var(--sklearn-color-unfitted-level-2);\n",
              "}\n",
              "\n",
              "#sk-container-id-1 div.sk-estimator.fitted input.sk-toggleable__control:checked~label.sk-toggleable__label {\n",
              "  /* fitted */\n",
              "  background-color: var(--sklearn-color-fitted-level-2);\n",
              "}\n",
              "\n",
              "#sk-container-id-1 div.sk-label label.sk-toggleable__label,\n",
              "#sk-container-id-1 div.sk-label label {\n",
              "  /* The background is the default theme color */\n",
              "  color: var(--sklearn-color-text-on-default-background);\n",
              "}\n",
              "\n",
              "/* On hover, darken the color of the background */\n",
              "#sk-container-id-1 div.sk-label:hover label.sk-toggleable__label {\n",
              "  color: var(--sklearn-color-text);\n",
              "  background-color: var(--sklearn-color-unfitted-level-2);\n",
              "}\n",
              "\n",
              "/* Label box, darken color on hover, fitted */\n",
              "#sk-container-id-1 div.sk-label.fitted:hover label.sk-toggleable__label.fitted {\n",
              "  color: var(--sklearn-color-text);\n",
              "  background-color: var(--sklearn-color-fitted-level-2);\n",
              "}\n",
              "\n",
              "/* Estimator label */\n",
              "\n",
              "#sk-container-id-1 div.sk-label label {\n",
              "  font-family: monospace;\n",
              "  font-weight: bold;\n",
              "  display: inline-block;\n",
              "  line-height: 1.2em;\n",
              "}\n",
              "\n",
              "#sk-container-id-1 div.sk-label-container {\n",
              "  text-align: center;\n",
              "}\n",
              "\n",
              "/* Estimator-specific */\n",
              "#sk-container-id-1 div.sk-estimator {\n",
              "  font-family: monospace;\n",
              "  border: 1px dotted var(--sklearn-color-border-box);\n",
              "  border-radius: 0.25em;\n",
              "  box-sizing: border-box;\n",
              "  margin-bottom: 0.5em;\n",
              "  /* unfitted */\n",
              "  background-color: var(--sklearn-color-unfitted-level-0);\n",
              "}\n",
              "\n",
              "#sk-container-id-1 div.sk-estimator.fitted {\n",
              "  /* fitted */\n",
              "  background-color: var(--sklearn-color-fitted-level-0);\n",
              "}\n",
              "\n",
              "/* on hover */\n",
              "#sk-container-id-1 div.sk-estimator:hover {\n",
              "  /* unfitted */\n",
              "  background-color: var(--sklearn-color-unfitted-level-2);\n",
              "}\n",
              "\n",
              "#sk-container-id-1 div.sk-estimator.fitted:hover {\n",
              "  /* fitted */\n",
              "  background-color: var(--sklearn-color-fitted-level-2);\n",
              "}\n",
              "\n",
              "/* Specification for estimator info (e.g. \"i\" and \"?\") */\n",
              "\n",
              "/* Common style for \"i\" and \"?\" */\n",
              "\n",
              ".sk-estimator-doc-link,\n",
              "a:link.sk-estimator-doc-link,\n",
              "a:visited.sk-estimator-doc-link {\n",
              "  float: right;\n",
              "  font-size: smaller;\n",
              "  line-height: 1em;\n",
              "  font-family: monospace;\n",
              "  background-color: var(--sklearn-color-background);\n",
              "  border-radius: 1em;\n",
              "  height: 1em;\n",
              "  width: 1em;\n",
              "  text-decoration: none !important;\n",
              "  margin-left: 1ex;\n",
              "  /* unfitted */\n",
              "  border: var(--sklearn-color-unfitted-level-1) 1pt solid;\n",
              "  color: var(--sklearn-color-unfitted-level-1);\n",
              "}\n",
              "\n",
              ".sk-estimator-doc-link.fitted,\n",
              "a:link.sk-estimator-doc-link.fitted,\n",
              "a:visited.sk-estimator-doc-link.fitted {\n",
              "  /* fitted */\n",
              "  border: var(--sklearn-color-fitted-level-1) 1pt solid;\n",
              "  color: var(--sklearn-color-fitted-level-1);\n",
              "}\n",
              "\n",
              "/* On hover */\n",
              "div.sk-estimator:hover .sk-estimator-doc-link:hover,\n",
              ".sk-estimator-doc-link:hover,\n",
              "div.sk-label-container:hover .sk-estimator-doc-link:hover,\n",
              ".sk-estimator-doc-link:hover {\n",
              "  /* unfitted */\n",
              "  background-color: var(--sklearn-color-unfitted-level-3);\n",
              "  color: var(--sklearn-color-background);\n",
              "  text-decoration: none;\n",
              "}\n",
              "\n",
              "div.sk-estimator.fitted:hover .sk-estimator-doc-link.fitted:hover,\n",
              ".sk-estimator-doc-link.fitted:hover,\n",
              "div.sk-label-container:hover .sk-estimator-doc-link.fitted:hover,\n",
              ".sk-estimator-doc-link.fitted:hover {\n",
              "  /* fitted */\n",
              "  background-color: var(--sklearn-color-fitted-level-3);\n",
              "  color: var(--sklearn-color-background);\n",
              "  text-decoration: none;\n",
              "}\n",
              "\n",
              "/* Span, style for the box shown on hovering the info icon */\n",
              ".sk-estimator-doc-link span {\n",
              "  display: none;\n",
              "  z-index: 9999;\n",
              "  position: relative;\n",
              "  font-weight: normal;\n",
              "  right: .2ex;\n",
              "  padding: .5ex;\n",
              "  margin: .5ex;\n",
              "  width: min-content;\n",
              "  min-width: 20ex;\n",
              "  max-width: 50ex;\n",
              "  color: var(--sklearn-color-text);\n",
              "  box-shadow: 2pt 2pt 4pt #999;\n",
              "  /* unfitted */\n",
              "  background: var(--sklearn-color-unfitted-level-0);\n",
              "  border: .5pt solid var(--sklearn-color-unfitted-level-3);\n",
              "}\n",
              "\n",
              ".sk-estimator-doc-link.fitted span {\n",
              "  /* fitted */\n",
              "  background: var(--sklearn-color-fitted-level-0);\n",
              "  border: var(--sklearn-color-fitted-level-3);\n",
              "}\n",
              "\n",
              ".sk-estimator-doc-link:hover span {\n",
              "  display: block;\n",
              "}\n",
              "\n",
              "/* \"?\"-specific style due to the `<a>` HTML tag */\n",
              "\n",
              "#sk-container-id-1 a.estimator_doc_link {\n",
              "  float: right;\n",
              "  font-size: 1rem;\n",
              "  line-height: 1em;\n",
              "  font-family: monospace;\n",
              "  background-color: var(--sklearn-color-background);\n",
              "  border-radius: 1rem;\n",
              "  height: 1rem;\n",
              "  width: 1rem;\n",
              "  text-decoration: none;\n",
              "  /* unfitted */\n",
              "  color: var(--sklearn-color-unfitted-level-1);\n",
              "  border: var(--sklearn-color-unfitted-level-1) 1pt solid;\n",
              "}\n",
              "\n",
              "#sk-container-id-1 a.estimator_doc_link.fitted {\n",
              "  /* fitted */\n",
              "  border: var(--sklearn-color-fitted-level-1) 1pt solid;\n",
              "  color: var(--sklearn-color-fitted-level-1);\n",
              "}\n",
              "\n",
              "/* On hover */\n",
              "#sk-container-id-1 a.estimator_doc_link:hover {\n",
              "  /* unfitted */\n",
              "  background-color: var(--sklearn-color-unfitted-level-3);\n",
              "  color: var(--sklearn-color-background);\n",
              "  text-decoration: none;\n",
              "}\n",
              "\n",
              "#sk-container-id-1 a.estimator_doc_link.fitted:hover {\n",
              "  /* fitted */\n",
              "  background-color: var(--sklearn-color-fitted-level-3);\n",
              "}\n",
              "</style><div id=\"sk-container-id-1\" class=\"sk-top-container\"><div class=\"sk-text-repr-fallback\"><pre>Pipeline(steps=[(&#x27;doc2vec&#x27;,\n",
              "                 Doc2VecTransformer(aggregation_func=&lt;function sum at 0x797141bf2330&gt;,\n",
              "                                    model=&lt;gensim.models.keyedvectors.KeyedVectors object at 0x7970a19d3a00&gt;)),\n",
              "                (&#x27;clf&#x27;, LogisticRegression(max_iter=1000000))])</pre><b>In a Jupyter environment, please rerun this cell to show the HTML representation or trust the notebook. <br />On GitHub, the HTML representation is unable to render, please try loading this page with nbviewer.org.</b></div><div class=\"sk-container\" hidden><div class=\"sk-item sk-dashed-wrapped\"><div class=\"sk-label-container\"><div class=\"sk-label fitted sk-toggleable\"><input class=\"sk-toggleable__control sk-hidden--visually\" id=\"sk-estimator-id-1\" type=\"checkbox\" ><label for=\"sk-estimator-id-1\" class=\"sk-toggleable__label fitted sk-toggleable__label-arrow fitted\">&nbsp;&nbsp;Pipeline<a class=\"sk-estimator-doc-link fitted\" rel=\"noreferrer\" target=\"_blank\" href=\"https://scikit-learn.org/1.5/modules/generated/sklearn.pipeline.Pipeline.html\">?<span>Documentation for Pipeline</span></a><span class=\"sk-estimator-doc-link fitted\">i<span>Fitted</span></span></label><div class=\"sk-toggleable__content fitted\"><pre>Pipeline(steps=[(&#x27;doc2vec&#x27;,\n",
              "                 Doc2VecTransformer(aggregation_func=&lt;function sum at 0x797141bf2330&gt;,\n",
              "                                    model=&lt;gensim.models.keyedvectors.KeyedVectors object at 0x7970a19d3a00&gt;)),\n",
              "                (&#x27;clf&#x27;, LogisticRegression(max_iter=1000000))])</pre></div> </div></div><div class=\"sk-serial\"><div class=\"sk-item\"><div class=\"sk-estimator fitted sk-toggleable\"><input class=\"sk-toggleable__control sk-hidden--visually\" id=\"sk-estimator-id-2\" type=\"checkbox\" ><label for=\"sk-estimator-id-2\" class=\"sk-toggleable__label fitted sk-toggleable__label-arrow fitted\">Doc2VecTransformer</label><div class=\"sk-toggleable__content fitted\"><pre>Doc2VecTransformer(aggregation_func=&lt;function sum at 0x797141bf2330&gt;,\n",
              "                   model=&lt;gensim.models.keyedvectors.KeyedVectors object at 0x7970a19d3a00&gt;)</pre></div> </div></div><div class=\"sk-item\"><div class=\"sk-estimator fitted sk-toggleable\"><input class=\"sk-toggleable__control sk-hidden--visually\" id=\"sk-estimator-id-3\" type=\"checkbox\" ><label for=\"sk-estimator-id-3\" class=\"sk-toggleable__label fitted sk-toggleable__label-arrow fitted\">&nbsp;LogisticRegression<a class=\"sk-estimator-doc-link fitted\" rel=\"noreferrer\" target=\"_blank\" href=\"https://scikit-learn.org/1.5/modules/generated/sklearn.linear_model.LogisticRegression.html\">?<span>Documentation for LogisticRegression</span></a></label><div class=\"sk-toggleable__content fitted\"><pre>LogisticRegression(max_iter=1000000)</pre></div> </div></div></div></div></div></div>"
            ]
          },
          "metadata": {},
          "execution_count": 36
        }
      ],
      "source": [
        "pipeline.fit(X_train, y_train)"
      ]
    },
    {
      "cell_type": "markdown",
      "metadata": {
        "ExecuteTime": {
          "end_time": "2019-09-23T20:43:47.337340Z",
          "start_time": "2019-09-23T20:43:47.317007Z"
        },
        "id": "SfiGZpotSQHx"
      },
      "source": [
        "**Predecimos y evaluamos:**"
      ]
    },
    {
      "cell_type": "code",
      "execution_count": 37,
      "metadata": {
        "ExecuteTime": {
          "end_time": "2020-05-07T19:51:07.108644Z",
          "start_time": "2020-05-07T19:51:05.799089Z"
        },
        "id": "v4R7zhgqSQHx"
      },
      "outputs": [],
      "source": [
        "y_pred = pipeline.predict(X_test)"
      ]
    },
    {
      "cell_type": "code",
      "execution_count": 38,
      "metadata": {
        "ExecuteTime": {
          "end_time": "2020-05-07T19:51:12.601957Z",
          "start_time": "2020-05-07T19:51:12.589989Z"
        },
        "colab": {
          "base_uri": "https://localhost:8080/"
        },
        "id": "DKEU3QgBSQHx",
        "outputId": "f60744a5-91e5-4ad0-91eb-d9adddd4b118"
      },
      "outputs": [
        {
          "output_type": "stream",
          "name": "stdout",
          "text": [
            "[[154  19  16  13   7  19  26  18  28  15]\n",
            " [ 13 206  25   9   5  22  24  12   9  10]\n",
            " [ 22  39 107  15  23  55  37  20  10  17]\n",
            " [  5   5  12 224  33  18   5   4  12   5]\n",
            " [ 10  11  22  44 219  23   7   5   6   4]\n",
            " [ 21  35  50  17  29  96  15  14  20  22]\n",
            " [  3   6   5   1   0   1 245   9  28   9]\n",
            " [ 20  19  12   4   7  13  10 219  21   7]\n",
            " [ 31   2  14   4   3  14  35  16 191  10]\n",
            " [ 27  11  13  10  11  18  31  11  13 208]]\n"
          ]
        }
      ],
      "source": [
        "conf_matrix = confusion_matrix(y_test, y_pred)\n",
        "print(conf_matrix)"
      ]
    },
    {
      "cell_type": "code",
      "execution_count": 39,
      "metadata": {
        "ExecuteTime": {
          "end_time": "2020-05-07T19:51:18.863055Z",
          "start_time": "2020-05-07T19:51:18.805699Z"
        },
        "colab": {
          "base_uri": "https://localhost:8080/"
        },
        "id": "jCBjfMFBSQHx",
        "outputId": "42c56df3-9517-45ec-c5c1-284fbb7ff7b4",
        "scrolled": false
      },
      "outputs": [
        {
          "output_type": "stream",
          "name": "stdout",
          "text": [
            "                 precision    recall  f1-score   support\n",
            "\n",
            "            CHV       0.50      0.49      0.50       315\n",
            " Cooperativa CL       0.58      0.61      0.60       335\n",
            "    El Mercurio       0.39      0.31      0.34       345\n",
            "  El Rancaguino       0.66      0.69      0.67       323\n",
            "   La Discusión       0.65      0.62      0.64       351\n",
            "      La Nación       0.34      0.30      0.32       319\n",
            "         La RED       0.56      0.80      0.66       307\n",
            "           MEGA       0.67      0.66      0.66       332\n",
            "Radio Concierto       0.57      0.60      0.58       320\n",
            "     The Clinic       0.68      0.59      0.63       353\n",
            "\n",
            "       accuracy                           0.57      3300\n",
            "      macro avg       0.56      0.57      0.56      3300\n",
            "   weighted avg       0.56      0.57      0.56      3300\n",
            "\n"
          ]
        }
      ],
      "source": [
        "print(classification_report(y_test, y_pred))"
      ]
    },
    {
      "cell_type": "code",
      "execution_count": 40,
      "metadata": {
        "ExecuteTime": {
          "end_time": "2020-05-07T19:51:25.139392Z",
          "start_time": "2020-05-07T19:51:25.132412Z"
        },
        "colab": {
          "base_uri": "https://localhost:8080/"
        },
        "id": "gdTu7vzmSQHy",
        "outputId": "52e80697-ffca-41fc-c15e-75d537324eb0"
      },
      "outputs": [
        {
          "output_type": "execute_result",
          "data": {
            "text/plain": [
              "array(['La RED'], dtype=object)"
            ]
          },
          "metadata": {},
          "execution_count": 40
        }
      ],
      "source": [
        "pipeline.predict(\n",
        "    [(\"Alguna noticia..\")])"
      ]
    },
    {
      "cell_type": "markdown",
      "metadata": {
        "ExecuteTime": {
          "end_time": "2019-09-24T12:57:03.817026Z",
          "start_time": "2019-09-24T12:57:03.814008Z"
        },
        "id": "uBlia-JJSQHy"
      },
      "source": [
        "## **Usandolo con BoW**"
      ]
    },
    {
      "cell_type": "code",
      "execution_count": 41,
      "metadata": {
        "id": "qLBZbmSShn17"
      },
      "outputs": [],
      "source": [
        "X_train, X_test, y_train, y_test = train_test_split(dataset.texto,\n",
        "                                                    dataset.medio,\n",
        "                                                    test_size=0.33,\n",
        "                                                    random_state=42)"
      ]
    },
    {
      "cell_type": "code",
      "execution_count": 42,
      "metadata": {
        "ExecuteTime": {
          "end_time": "2020-05-07T16:39:09.997634Z",
          "start_time": "2020-05-07T16:39:09.992647Z"
        },
        "id": "IZ6IO16JSQHy"
      },
      "outputs": [],
      "source": [
        "# Definimos el vectorizador para convertir el texto a BoW:\n",
        "vectorizer = CountVectorizer(analyzer='word', ngram_range=(1, 2))\n",
        "\n",
        "# Definimos el clasificador que usaremos.\n",
        "clf_2 = LogisticRegression(max_iter=10000)\n",
        "\n",
        "# Definimos el pipeline\n",
        "pipeline_2 = Pipeline([('features',\n",
        "                        FeatureUnion([('bow', CountVectorizer()),\n",
        "                                      ('doc2vec', doc2vec_sum)])), ('clf', clf)])"
      ]
    },
    {
      "cell_type": "code",
      "execution_count": 43,
      "metadata": {
        "ExecuteTime": {
          "end_time": "2020-05-07T16:44:04.514995Z",
          "start_time": "2020-05-07T16:39:13.770150Z"
        },
        "colab": {
          "base_uri": "https://localhost:8080/",
          "height": 208
        },
        "id": "TnTlbg6FSQHy",
        "outputId": "ef5f51f8-3866-4f44-e79e-05e6c67a0fa5"
      },
      "outputs": [
        {
          "output_type": "execute_result",
          "data": {
            "text/plain": [
              "Pipeline(steps=[('features',\n",
              "                 FeatureUnion(transformer_list=[('bow', CountVectorizer()),\n",
              "                                                ('doc2vec',\n",
              "                                                 Doc2VecTransformer(aggregation_func=<function sum at 0x797141bf2330>,\n",
              "                                                                    model=<gensim.models.keyedvectors.KeyedVectors object at 0x7970a19d3a00>))])),\n",
              "                ('clf', LogisticRegression(max_iter=1000000))])"
            ],
            "text/html": [
              "<style>#sk-container-id-2 {\n",
              "  /* Definition of color scheme common for light and dark mode */\n",
              "  --sklearn-color-text: black;\n",
              "  --sklearn-color-line: gray;\n",
              "  /* Definition of color scheme for unfitted estimators */\n",
              "  --sklearn-color-unfitted-level-0: #fff5e6;\n",
              "  --sklearn-color-unfitted-level-1: #f6e4d2;\n",
              "  --sklearn-color-unfitted-level-2: #ffe0b3;\n",
              "  --sklearn-color-unfitted-level-3: chocolate;\n",
              "  /* Definition of color scheme for fitted estimators */\n",
              "  --sklearn-color-fitted-level-0: #f0f8ff;\n",
              "  --sklearn-color-fitted-level-1: #d4ebff;\n",
              "  --sklearn-color-fitted-level-2: #b3dbfd;\n",
              "  --sklearn-color-fitted-level-3: cornflowerblue;\n",
              "\n",
              "  /* Specific color for light theme */\n",
              "  --sklearn-color-text-on-default-background: var(--sg-text-color, var(--theme-code-foreground, var(--jp-content-font-color1, black)));\n",
              "  --sklearn-color-background: var(--sg-background-color, var(--theme-background, var(--jp-layout-color0, white)));\n",
              "  --sklearn-color-border-box: var(--sg-text-color, var(--theme-code-foreground, var(--jp-content-font-color1, black)));\n",
              "  --sklearn-color-icon: #696969;\n",
              "\n",
              "  @media (prefers-color-scheme: dark) {\n",
              "    /* Redefinition of color scheme for dark theme */\n",
              "    --sklearn-color-text-on-default-background: var(--sg-text-color, var(--theme-code-foreground, var(--jp-content-font-color1, white)));\n",
              "    --sklearn-color-background: var(--sg-background-color, var(--theme-background, var(--jp-layout-color0, #111)));\n",
              "    --sklearn-color-border-box: var(--sg-text-color, var(--theme-code-foreground, var(--jp-content-font-color1, white)));\n",
              "    --sklearn-color-icon: #878787;\n",
              "  }\n",
              "}\n",
              "\n",
              "#sk-container-id-2 {\n",
              "  color: var(--sklearn-color-text);\n",
              "}\n",
              "\n",
              "#sk-container-id-2 pre {\n",
              "  padding: 0;\n",
              "}\n",
              "\n",
              "#sk-container-id-2 input.sk-hidden--visually {\n",
              "  border: 0;\n",
              "  clip: rect(1px 1px 1px 1px);\n",
              "  clip: rect(1px, 1px, 1px, 1px);\n",
              "  height: 1px;\n",
              "  margin: -1px;\n",
              "  overflow: hidden;\n",
              "  padding: 0;\n",
              "  position: absolute;\n",
              "  width: 1px;\n",
              "}\n",
              "\n",
              "#sk-container-id-2 div.sk-dashed-wrapped {\n",
              "  border: 1px dashed var(--sklearn-color-line);\n",
              "  margin: 0 0.4em 0.5em 0.4em;\n",
              "  box-sizing: border-box;\n",
              "  padding-bottom: 0.4em;\n",
              "  background-color: var(--sklearn-color-background);\n",
              "}\n",
              "\n",
              "#sk-container-id-2 div.sk-container {\n",
              "  /* jupyter's `normalize.less` sets `[hidden] { display: none; }`\n",
              "     but bootstrap.min.css set `[hidden] { display: none !important; }`\n",
              "     so we also need the `!important` here to be able to override the\n",
              "     default hidden behavior on the sphinx rendered scikit-learn.org.\n",
              "     See: https://github.com/scikit-learn/scikit-learn/issues/21755 */\n",
              "  display: inline-block !important;\n",
              "  position: relative;\n",
              "}\n",
              "\n",
              "#sk-container-id-2 div.sk-text-repr-fallback {\n",
              "  display: none;\n",
              "}\n",
              "\n",
              "div.sk-parallel-item,\n",
              "div.sk-serial,\n",
              "div.sk-item {\n",
              "  /* draw centered vertical line to link estimators */\n",
              "  background-image: linear-gradient(var(--sklearn-color-text-on-default-background), var(--sklearn-color-text-on-default-background));\n",
              "  background-size: 2px 100%;\n",
              "  background-repeat: no-repeat;\n",
              "  background-position: center center;\n",
              "}\n",
              "\n",
              "/* Parallel-specific style estimator block */\n",
              "\n",
              "#sk-container-id-2 div.sk-parallel-item::after {\n",
              "  content: \"\";\n",
              "  width: 100%;\n",
              "  border-bottom: 2px solid var(--sklearn-color-text-on-default-background);\n",
              "  flex-grow: 1;\n",
              "}\n",
              "\n",
              "#sk-container-id-2 div.sk-parallel {\n",
              "  display: flex;\n",
              "  align-items: stretch;\n",
              "  justify-content: center;\n",
              "  background-color: var(--sklearn-color-background);\n",
              "  position: relative;\n",
              "}\n",
              "\n",
              "#sk-container-id-2 div.sk-parallel-item {\n",
              "  display: flex;\n",
              "  flex-direction: column;\n",
              "}\n",
              "\n",
              "#sk-container-id-2 div.sk-parallel-item:first-child::after {\n",
              "  align-self: flex-end;\n",
              "  width: 50%;\n",
              "}\n",
              "\n",
              "#sk-container-id-2 div.sk-parallel-item:last-child::after {\n",
              "  align-self: flex-start;\n",
              "  width: 50%;\n",
              "}\n",
              "\n",
              "#sk-container-id-2 div.sk-parallel-item:only-child::after {\n",
              "  width: 0;\n",
              "}\n",
              "\n",
              "/* Serial-specific style estimator block */\n",
              "\n",
              "#sk-container-id-2 div.sk-serial {\n",
              "  display: flex;\n",
              "  flex-direction: column;\n",
              "  align-items: center;\n",
              "  background-color: var(--sklearn-color-background);\n",
              "  padding-right: 1em;\n",
              "  padding-left: 1em;\n",
              "}\n",
              "\n",
              "\n",
              "/* Toggleable style: style used for estimator/Pipeline/ColumnTransformer box that is\n",
              "clickable and can be expanded/collapsed.\n",
              "- Pipeline and ColumnTransformer use this feature and define the default style\n",
              "- Estimators will overwrite some part of the style using the `sk-estimator` class\n",
              "*/\n",
              "\n",
              "/* Pipeline and ColumnTransformer style (default) */\n",
              "\n",
              "#sk-container-id-2 div.sk-toggleable {\n",
              "  /* Default theme specific background. It is overwritten whether we have a\n",
              "  specific estimator or a Pipeline/ColumnTransformer */\n",
              "  background-color: var(--sklearn-color-background);\n",
              "}\n",
              "\n",
              "/* Toggleable label */\n",
              "#sk-container-id-2 label.sk-toggleable__label {\n",
              "  cursor: pointer;\n",
              "  display: block;\n",
              "  width: 100%;\n",
              "  margin-bottom: 0;\n",
              "  padding: 0.5em;\n",
              "  box-sizing: border-box;\n",
              "  text-align: center;\n",
              "}\n",
              "\n",
              "#sk-container-id-2 label.sk-toggleable__label-arrow:before {\n",
              "  /* Arrow on the left of the label */\n",
              "  content: \"▸\";\n",
              "  float: left;\n",
              "  margin-right: 0.25em;\n",
              "  color: var(--sklearn-color-icon);\n",
              "}\n",
              "\n",
              "#sk-container-id-2 label.sk-toggleable__label-arrow:hover:before {\n",
              "  color: var(--sklearn-color-text);\n",
              "}\n",
              "\n",
              "/* Toggleable content - dropdown */\n",
              "\n",
              "#sk-container-id-2 div.sk-toggleable__content {\n",
              "  max-height: 0;\n",
              "  max-width: 0;\n",
              "  overflow: hidden;\n",
              "  text-align: left;\n",
              "  /* unfitted */\n",
              "  background-color: var(--sklearn-color-unfitted-level-0);\n",
              "}\n",
              "\n",
              "#sk-container-id-2 div.sk-toggleable__content.fitted {\n",
              "  /* fitted */\n",
              "  background-color: var(--sklearn-color-fitted-level-0);\n",
              "}\n",
              "\n",
              "#sk-container-id-2 div.sk-toggleable__content pre {\n",
              "  margin: 0.2em;\n",
              "  border-radius: 0.25em;\n",
              "  color: var(--sklearn-color-text);\n",
              "  /* unfitted */\n",
              "  background-color: var(--sklearn-color-unfitted-level-0);\n",
              "}\n",
              "\n",
              "#sk-container-id-2 div.sk-toggleable__content.fitted pre {\n",
              "  /* unfitted */\n",
              "  background-color: var(--sklearn-color-fitted-level-0);\n",
              "}\n",
              "\n",
              "#sk-container-id-2 input.sk-toggleable__control:checked~div.sk-toggleable__content {\n",
              "  /* Expand drop-down */\n",
              "  max-height: 200px;\n",
              "  max-width: 100%;\n",
              "  overflow: auto;\n",
              "}\n",
              "\n",
              "#sk-container-id-2 input.sk-toggleable__control:checked~label.sk-toggleable__label-arrow:before {\n",
              "  content: \"▾\";\n",
              "}\n",
              "\n",
              "/* Pipeline/ColumnTransformer-specific style */\n",
              "\n",
              "#sk-container-id-2 div.sk-label input.sk-toggleable__control:checked~label.sk-toggleable__label {\n",
              "  color: var(--sklearn-color-text);\n",
              "  background-color: var(--sklearn-color-unfitted-level-2);\n",
              "}\n",
              "\n",
              "#sk-container-id-2 div.sk-label.fitted input.sk-toggleable__control:checked~label.sk-toggleable__label {\n",
              "  background-color: var(--sklearn-color-fitted-level-2);\n",
              "}\n",
              "\n",
              "/* Estimator-specific style */\n",
              "\n",
              "/* Colorize estimator box */\n",
              "#sk-container-id-2 div.sk-estimator input.sk-toggleable__control:checked~label.sk-toggleable__label {\n",
              "  /* unfitted */\n",
              "  background-color: var(--sklearn-color-unfitted-level-2);\n",
              "}\n",
              "\n",
              "#sk-container-id-2 div.sk-estimator.fitted input.sk-toggleable__control:checked~label.sk-toggleable__label {\n",
              "  /* fitted */\n",
              "  background-color: var(--sklearn-color-fitted-level-2);\n",
              "}\n",
              "\n",
              "#sk-container-id-2 div.sk-label label.sk-toggleable__label,\n",
              "#sk-container-id-2 div.sk-label label {\n",
              "  /* The background is the default theme color */\n",
              "  color: var(--sklearn-color-text-on-default-background);\n",
              "}\n",
              "\n",
              "/* On hover, darken the color of the background */\n",
              "#sk-container-id-2 div.sk-label:hover label.sk-toggleable__label {\n",
              "  color: var(--sklearn-color-text);\n",
              "  background-color: var(--sklearn-color-unfitted-level-2);\n",
              "}\n",
              "\n",
              "/* Label box, darken color on hover, fitted */\n",
              "#sk-container-id-2 div.sk-label.fitted:hover label.sk-toggleable__label.fitted {\n",
              "  color: var(--sklearn-color-text);\n",
              "  background-color: var(--sklearn-color-fitted-level-2);\n",
              "}\n",
              "\n",
              "/* Estimator label */\n",
              "\n",
              "#sk-container-id-2 div.sk-label label {\n",
              "  font-family: monospace;\n",
              "  font-weight: bold;\n",
              "  display: inline-block;\n",
              "  line-height: 1.2em;\n",
              "}\n",
              "\n",
              "#sk-container-id-2 div.sk-label-container {\n",
              "  text-align: center;\n",
              "}\n",
              "\n",
              "/* Estimator-specific */\n",
              "#sk-container-id-2 div.sk-estimator {\n",
              "  font-family: monospace;\n",
              "  border: 1px dotted var(--sklearn-color-border-box);\n",
              "  border-radius: 0.25em;\n",
              "  box-sizing: border-box;\n",
              "  margin-bottom: 0.5em;\n",
              "  /* unfitted */\n",
              "  background-color: var(--sklearn-color-unfitted-level-0);\n",
              "}\n",
              "\n",
              "#sk-container-id-2 div.sk-estimator.fitted {\n",
              "  /* fitted */\n",
              "  background-color: var(--sklearn-color-fitted-level-0);\n",
              "}\n",
              "\n",
              "/* on hover */\n",
              "#sk-container-id-2 div.sk-estimator:hover {\n",
              "  /* unfitted */\n",
              "  background-color: var(--sklearn-color-unfitted-level-2);\n",
              "}\n",
              "\n",
              "#sk-container-id-2 div.sk-estimator.fitted:hover {\n",
              "  /* fitted */\n",
              "  background-color: var(--sklearn-color-fitted-level-2);\n",
              "}\n",
              "\n",
              "/* Specification for estimator info (e.g. \"i\" and \"?\") */\n",
              "\n",
              "/* Common style for \"i\" and \"?\" */\n",
              "\n",
              ".sk-estimator-doc-link,\n",
              "a:link.sk-estimator-doc-link,\n",
              "a:visited.sk-estimator-doc-link {\n",
              "  float: right;\n",
              "  font-size: smaller;\n",
              "  line-height: 1em;\n",
              "  font-family: monospace;\n",
              "  background-color: var(--sklearn-color-background);\n",
              "  border-radius: 1em;\n",
              "  height: 1em;\n",
              "  width: 1em;\n",
              "  text-decoration: none !important;\n",
              "  margin-left: 1ex;\n",
              "  /* unfitted */\n",
              "  border: var(--sklearn-color-unfitted-level-1) 1pt solid;\n",
              "  color: var(--sklearn-color-unfitted-level-1);\n",
              "}\n",
              "\n",
              ".sk-estimator-doc-link.fitted,\n",
              "a:link.sk-estimator-doc-link.fitted,\n",
              "a:visited.sk-estimator-doc-link.fitted {\n",
              "  /* fitted */\n",
              "  border: var(--sklearn-color-fitted-level-1) 1pt solid;\n",
              "  color: var(--sklearn-color-fitted-level-1);\n",
              "}\n",
              "\n",
              "/* On hover */\n",
              "div.sk-estimator:hover .sk-estimator-doc-link:hover,\n",
              ".sk-estimator-doc-link:hover,\n",
              "div.sk-label-container:hover .sk-estimator-doc-link:hover,\n",
              ".sk-estimator-doc-link:hover {\n",
              "  /* unfitted */\n",
              "  background-color: var(--sklearn-color-unfitted-level-3);\n",
              "  color: var(--sklearn-color-background);\n",
              "  text-decoration: none;\n",
              "}\n",
              "\n",
              "div.sk-estimator.fitted:hover .sk-estimator-doc-link.fitted:hover,\n",
              ".sk-estimator-doc-link.fitted:hover,\n",
              "div.sk-label-container:hover .sk-estimator-doc-link.fitted:hover,\n",
              ".sk-estimator-doc-link.fitted:hover {\n",
              "  /* fitted */\n",
              "  background-color: var(--sklearn-color-fitted-level-3);\n",
              "  color: var(--sklearn-color-background);\n",
              "  text-decoration: none;\n",
              "}\n",
              "\n",
              "/* Span, style for the box shown on hovering the info icon */\n",
              ".sk-estimator-doc-link span {\n",
              "  display: none;\n",
              "  z-index: 9999;\n",
              "  position: relative;\n",
              "  font-weight: normal;\n",
              "  right: .2ex;\n",
              "  padding: .5ex;\n",
              "  margin: .5ex;\n",
              "  width: min-content;\n",
              "  min-width: 20ex;\n",
              "  max-width: 50ex;\n",
              "  color: var(--sklearn-color-text);\n",
              "  box-shadow: 2pt 2pt 4pt #999;\n",
              "  /* unfitted */\n",
              "  background: var(--sklearn-color-unfitted-level-0);\n",
              "  border: .5pt solid var(--sklearn-color-unfitted-level-3);\n",
              "}\n",
              "\n",
              ".sk-estimator-doc-link.fitted span {\n",
              "  /* fitted */\n",
              "  background: var(--sklearn-color-fitted-level-0);\n",
              "  border: var(--sklearn-color-fitted-level-3);\n",
              "}\n",
              "\n",
              ".sk-estimator-doc-link:hover span {\n",
              "  display: block;\n",
              "}\n",
              "\n",
              "/* \"?\"-specific style due to the `<a>` HTML tag */\n",
              "\n",
              "#sk-container-id-2 a.estimator_doc_link {\n",
              "  float: right;\n",
              "  font-size: 1rem;\n",
              "  line-height: 1em;\n",
              "  font-family: monospace;\n",
              "  background-color: var(--sklearn-color-background);\n",
              "  border-radius: 1rem;\n",
              "  height: 1rem;\n",
              "  width: 1rem;\n",
              "  text-decoration: none;\n",
              "  /* unfitted */\n",
              "  color: var(--sklearn-color-unfitted-level-1);\n",
              "  border: var(--sklearn-color-unfitted-level-1) 1pt solid;\n",
              "}\n",
              "\n",
              "#sk-container-id-2 a.estimator_doc_link.fitted {\n",
              "  /* fitted */\n",
              "  border: var(--sklearn-color-fitted-level-1) 1pt solid;\n",
              "  color: var(--sklearn-color-fitted-level-1);\n",
              "}\n",
              "\n",
              "/* On hover */\n",
              "#sk-container-id-2 a.estimator_doc_link:hover {\n",
              "  /* unfitted */\n",
              "  background-color: var(--sklearn-color-unfitted-level-3);\n",
              "  color: var(--sklearn-color-background);\n",
              "  text-decoration: none;\n",
              "}\n",
              "\n",
              "#sk-container-id-2 a.estimator_doc_link.fitted:hover {\n",
              "  /* fitted */\n",
              "  background-color: var(--sklearn-color-fitted-level-3);\n",
              "}\n",
              "</style><div id=\"sk-container-id-2\" class=\"sk-top-container\"><div class=\"sk-text-repr-fallback\"><pre>Pipeline(steps=[(&#x27;features&#x27;,\n",
              "                 FeatureUnion(transformer_list=[(&#x27;bow&#x27;, CountVectorizer()),\n",
              "                                                (&#x27;doc2vec&#x27;,\n",
              "                                                 Doc2VecTransformer(aggregation_func=&lt;function sum at 0x797141bf2330&gt;,\n",
              "                                                                    model=&lt;gensim.models.keyedvectors.KeyedVectors object at 0x7970a19d3a00&gt;))])),\n",
              "                (&#x27;clf&#x27;, LogisticRegression(max_iter=1000000))])</pre><b>In a Jupyter environment, please rerun this cell to show the HTML representation or trust the notebook. <br />On GitHub, the HTML representation is unable to render, please try loading this page with nbviewer.org.</b></div><div class=\"sk-container\" hidden><div class=\"sk-item sk-dashed-wrapped\"><div class=\"sk-label-container\"><div class=\"sk-label fitted sk-toggleable\"><input class=\"sk-toggleable__control sk-hidden--visually\" id=\"sk-estimator-id-4\" type=\"checkbox\" ><label for=\"sk-estimator-id-4\" class=\"sk-toggleable__label fitted sk-toggleable__label-arrow fitted\">&nbsp;&nbsp;Pipeline<a class=\"sk-estimator-doc-link fitted\" rel=\"noreferrer\" target=\"_blank\" href=\"https://scikit-learn.org/1.5/modules/generated/sklearn.pipeline.Pipeline.html\">?<span>Documentation for Pipeline</span></a><span class=\"sk-estimator-doc-link fitted\">i<span>Fitted</span></span></label><div class=\"sk-toggleable__content fitted\"><pre>Pipeline(steps=[(&#x27;features&#x27;,\n",
              "                 FeatureUnion(transformer_list=[(&#x27;bow&#x27;, CountVectorizer()),\n",
              "                                                (&#x27;doc2vec&#x27;,\n",
              "                                                 Doc2VecTransformer(aggregation_func=&lt;function sum at 0x797141bf2330&gt;,\n",
              "                                                                    model=&lt;gensim.models.keyedvectors.KeyedVectors object at 0x7970a19d3a00&gt;))])),\n",
              "                (&#x27;clf&#x27;, LogisticRegression(max_iter=1000000))])</pre></div> </div></div><div class=\"sk-serial\"><div class=\"sk-item sk-dashed-wrapped\"><div class=\"sk-label-container\"><div class=\"sk-label fitted sk-toggleable\"><input class=\"sk-toggleable__control sk-hidden--visually\" id=\"sk-estimator-id-5\" type=\"checkbox\" ><label for=\"sk-estimator-id-5\" class=\"sk-toggleable__label fitted sk-toggleable__label-arrow fitted\">&nbsp;features: FeatureUnion<a class=\"sk-estimator-doc-link fitted\" rel=\"noreferrer\" target=\"_blank\" href=\"https://scikit-learn.org/1.5/modules/generated/sklearn.pipeline.FeatureUnion.html\">?<span>Documentation for features: FeatureUnion</span></a></label><div class=\"sk-toggleable__content fitted\"><pre>FeatureUnion(transformer_list=[(&#x27;bow&#x27;, CountVectorizer()),\n",
              "                               (&#x27;doc2vec&#x27;,\n",
              "                                Doc2VecTransformer(aggregation_func=&lt;function sum at 0x797141bf2330&gt;,\n",
              "                                                   model=&lt;gensim.models.keyedvectors.KeyedVectors object at 0x7970a19d3a00&gt;))])</pre></div> </div></div><div class=\"sk-parallel\"><div class=\"sk-parallel-item\"><div class=\"sk-item\"><div class=\"sk-label-container\"><div class=\"sk-label fitted sk-toggleable\"><label>bow</label></div></div><div class=\"sk-serial\"><div class=\"sk-item\"><div class=\"sk-estimator fitted sk-toggleable\"><input class=\"sk-toggleable__control sk-hidden--visually\" id=\"sk-estimator-id-6\" type=\"checkbox\" ><label for=\"sk-estimator-id-6\" class=\"sk-toggleable__label fitted sk-toggleable__label-arrow fitted\">&nbsp;CountVectorizer<a class=\"sk-estimator-doc-link fitted\" rel=\"noreferrer\" target=\"_blank\" href=\"https://scikit-learn.org/1.5/modules/generated/sklearn.feature_extraction.text.CountVectorizer.html\">?<span>Documentation for CountVectorizer</span></a></label><div class=\"sk-toggleable__content fitted\"><pre>CountVectorizer()</pre></div> </div></div></div></div></div><div class=\"sk-parallel-item\"><div class=\"sk-item\"><div class=\"sk-label-container\"><div class=\"sk-label fitted sk-toggleable\"><label>doc2vec</label></div></div><div class=\"sk-serial\"><div class=\"sk-item\"><div class=\"sk-estimator fitted sk-toggleable\"><input class=\"sk-toggleable__control sk-hidden--visually\" id=\"sk-estimator-id-7\" type=\"checkbox\" ><label for=\"sk-estimator-id-7\" class=\"sk-toggleable__label fitted sk-toggleable__label-arrow fitted\">Doc2VecTransformer</label><div class=\"sk-toggleable__content fitted\"><pre>Doc2VecTransformer(aggregation_func=&lt;function sum at 0x797141bf2330&gt;,\n",
              "                   model=&lt;gensim.models.keyedvectors.KeyedVectors object at 0x7970a19d3a00&gt;)</pre></div> </div></div></div></div></div></div></div><div class=\"sk-item\"><div class=\"sk-estimator fitted sk-toggleable\"><input class=\"sk-toggleable__control sk-hidden--visually\" id=\"sk-estimator-id-8\" type=\"checkbox\" ><label for=\"sk-estimator-id-8\" class=\"sk-toggleable__label fitted sk-toggleable__label-arrow fitted\">&nbsp;LogisticRegression<a class=\"sk-estimator-doc-link fitted\" rel=\"noreferrer\" target=\"_blank\" href=\"https://scikit-learn.org/1.5/modules/generated/sklearn.linear_model.LogisticRegression.html\">?<span>Documentation for LogisticRegression</span></a></label><div class=\"sk-toggleable__content fitted\"><pre>LogisticRegression(max_iter=1000000)</pre></div> </div></div></div></div></div></div>"
            ]
          },
          "metadata": {},
          "execution_count": 43
        }
      ],
      "source": [
        "pipeline_2.fit(X_train, y_train)"
      ]
    },
    {
      "cell_type": "code",
      "execution_count": 44,
      "metadata": {
        "ExecuteTime": {
          "end_time": "2020-05-07T16:44:08.965415Z",
          "start_time": "2020-05-07T16:44:07.164065Z"
        },
        "colab": {
          "base_uri": "https://localhost:8080/"
        },
        "id": "FVL6-TGWSQHy",
        "outputId": "3ce9f32c-9a96-46e2-9f20-734ecdd5ef1e"
      },
      "outputs": [
        {
          "output_type": "stream",
          "name": "stdout",
          "text": [
            "[[252   4  11   2   2   7   4   2  28   3]\n",
            " [  3 298  13   2   3  10   1   3   1   1]\n",
            " [ 10  11 196   9  18  50  19  12  10  10]\n",
            " [  1   3   6 274  10  17   3   3   4   2]\n",
            " [  1   0  20  13 277  26   4   4   0   6]\n",
            " [  3   7  55  12  16 172  13   6  13  22]\n",
            " [  1   1   9   0   0   0 271   3  14   8]\n",
            " [  1  10  12   1   5   7   8 274   7   7]\n",
            " [ 27   0   6   1   1   8  13   5 251   8]\n",
            " [  6   5  14  10   6  25  13   2   7 265]]\n"
          ]
        }
      ],
      "source": [
        "y_pred_2 = pipeline_2.predict(X_test)\n",
        "conf_matrix = confusion_matrix(y_test, y_pred_2)\n",
        "print(conf_matrix)"
      ]
    },
    {
      "cell_type": "code",
      "execution_count": 45,
      "metadata": {
        "ExecuteTime": {
          "end_time": "2020-05-07T16:44:11.609183Z",
          "start_time": "2020-05-07T16:44:11.553969Z"
        },
        "colab": {
          "base_uri": "https://localhost:8080/"
        },
        "id": "XILZeUSwSQHy",
        "outputId": "123c1423-084f-4054-d166-2c365610ceec"
      },
      "outputs": [
        {
          "output_type": "stream",
          "name": "stdout",
          "text": [
            "                 precision    recall  f1-score   support\n",
            "\n",
            "            CHV       0.83      0.80      0.81       315\n",
            " Cooperativa CL       0.88      0.89      0.88       335\n",
            "    El Mercurio       0.57      0.57      0.57       345\n",
            "  El Rancaguino       0.85      0.85      0.85       323\n",
            "   La Discusión       0.82      0.79      0.80       351\n",
            "      La Nación       0.53      0.54      0.54       319\n",
            "         La RED       0.78      0.88      0.83       307\n",
            "           MEGA       0.87      0.83      0.85       332\n",
            "Radio Concierto       0.75      0.78      0.77       320\n",
            "     The Clinic       0.80      0.75      0.77       353\n",
            "\n",
            "       accuracy                           0.77      3300\n",
            "      macro avg       0.77      0.77      0.77      3300\n",
            "   weighted avg       0.77      0.77      0.77      3300\n",
            "\n"
          ]
        }
      ],
      "source": [
        "print(classification_report(y_test, y_pred_2))"
      ]
    },
    {
      "cell_type": "markdown",
      "metadata": {
        "id": "qeVEtswQSQH0"
      },
      "source": [
        "### Propuesto...\n",
        "\n",
        "- Usar su modelo de embeddings favorito para ver si mejora la clasificación:\n",
        "    \n",
        " - Fast y word2vec en español, [cortesía](https://github.com/dccuchile/spanish-word-embeddings) de los grandes del DCC\n",
        " - [Conceptnet](https://github.com/commonsense/conceptnet-numberbatch)\n",
        "\n",
        "\n",
        "- Visualizar los documentos usando `doc2vec`"
      ]
    }
  ],
  "metadata": {
    "colab": {
      "provenance": []
    },
    "kernelspec": {
      "display_name": "Python 3",
      "language": "python",
      "name": "python3"
    },
    "language_info": {
      "codemirror_mode": {
        "name": "ipython",
        "version": 3
      },
      "file_extension": ".py",
      "mimetype": "text/x-python",
      "name": "python",
      "nbconvert_exporter": "python",
      "pygments_lexer": "ipython3",
      "version": "3.8.8"
    }
  },
  "nbformat": 4,
  "nbformat_minor": 0
}