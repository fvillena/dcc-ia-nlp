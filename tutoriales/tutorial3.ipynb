{
  "cells": [
    {
      "cell_type": "markdown",
      "metadata": {
        "id": "SofcPwIzpYjK"
      },
      "source": [
        "# Tutorial 3: Representación de Documentos: Bag of Words y TF-IDF.\n",
        "\n",
        "### Cuerpo Docente\n",
        "\n",
        "- Profesores: [Andrés Abeliuk](https://aabeliuk.github.io/), [Felipe Villena](https://fabianvillena.cl/).\n",
        "- Profesor Auxiliar: [Gabriel Iturra](https://giturra.cl/)\n",
        "\n",
        "\n",
        "### Objetivos del Tutorial\n",
        "\n",
        "- Que es Google Colab.\n",
        "- Que es Python y como descargarlo.\n",
        "- Entender como trabajar con archivos en Python, tanto de su versión nativa como con ```Pandas```.\n",
        "- Entender como trabajar texto desde ```Pandas```.\n",
        "- Entender como utilizar expresiones regulares."
      ]
    },
    {
      "cell_type": "markdown",
      "metadata": {
        "id": "D70IOiw2pTt6"
      },
      "source": [
        "# Document representation"
      ]
    },
    {
      "cell_type": "code",
      "execution_count": 1,
      "metadata": {
        "colab": {
          "base_uri": "https://localhost:8080/"
        },
        "id": "kg3d_3_wprs5",
        "outputId": "3bda7d5d-2e06-46d7-fc3d-1dc5b9684cc4"
      },
      "outputs": [
        {
          "name": "stdout",
          "output_type": "stream",
          "text": [
            "Collecting datasets\n",
            "  Downloading datasets-2.14.6-py3-none-any.whl (493 kB)\n",
            "\u001b[2K     \u001b[90m━━━━━━━━━━━━━━━━━━━━━━━━━━━━━━━━━━━━━━━━\u001b[0m \u001b[32m493.7/493.7 kB\u001b[0m \u001b[31m5.1 MB/s\u001b[0m eta \u001b[36m0:00:00\u001b[0m\n",
            "\u001b[?25hRequirement already satisfied: numpy>=1.17 in /usr/local/lib/python3.10/dist-packages (from datasets) (1.23.5)\n",
            "Requirement already satisfied: pyarrow>=8.0.0 in /usr/local/lib/python3.10/dist-packages (from datasets) (9.0.0)\n",
            "Collecting dill<0.3.8,>=0.3.0 (from datasets)\n",
            "  Downloading dill-0.3.7-py3-none-any.whl (115 kB)\n",
            "\u001b[2K     \u001b[90m━━━━━━━━━━━━━━━━━━━━━━━━━━━━━━━━━━━━━━━━\u001b[0m \u001b[32m115.3/115.3 kB\u001b[0m \u001b[31m10.0 MB/s\u001b[0m eta \u001b[36m0:00:00\u001b[0m\n",
            "\u001b[?25hRequirement already satisfied: pandas in /usr/local/lib/python3.10/dist-packages (from datasets) (1.5.3)\n",
            "Requirement already satisfied: requests>=2.19.0 in /usr/local/lib/python3.10/dist-packages (from datasets) (2.31.0)\n",
            "Requirement already satisfied: tqdm>=4.62.1 in /usr/local/lib/python3.10/dist-packages (from datasets) (4.66.1)\n",
            "Requirement already satisfied: xxhash in /usr/local/lib/python3.10/dist-packages (from datasets) (3.4.1)\n",
            "Collecting multiprocess (from datasets)\n",
            "  Downloading multiprocess-0.70.15-py310-none-any.whl (134 kB)\n",
            "\u001b[2K     \u001b[90m━━━━━━━━━━━━━━━━━━━━━━━━━━━━━━━━━━━━━━━━\u001b[0m \u001b[32m134.8/134.8 kB\u001b[0m \u001b[31m7.3 MB/s\u001b[0m eta \u001b[36m0:00:00\u001b[0m\n",
            "\u001b[?25hRequirement already satisfied: fsspec[http]<=2023.10.0,>=2023.1.0 in /usr/local/lib/python3.10/dist-packages (from datasets) (2023.6.0)\n",
            "Requirement already satisfied: aiohttp in /usr/local/lib/python3.10/dist-packages (from datasets) (3.8.6)\n",
            "Collecting huggingface-hub<1.0.0,>=0.14.0 (from datasets)\n",
            "  Downloading huggingface_hub-0.19.0-py3-none-any.whl (311 kB)\n",
            "\u001b[2K     \u001b[90m━━━━━━━━━━━━━━━━━━━━━━━━━━━━━━━━━━━━━━━━\u001b[0m \u001b[32m311.2/311.2 kB\u001b[0m \u001b[31m10.7 MB/s\u001b[0m eta \u001b[36m0:00:00\u001b[0m\n",
            "\u001b[?25hRequirement already satisfied: packaging in /usr/local/lib/python3.10/dist-packages (from datasets) (23.2)\n",
            "Requirement already satisfied: pyyaml>=5.1 in /usr/local/lib/python3.10/dist-packages (from datasets) (6.0.1)\n",
            "Requirement already satisfied: attrs>=17.3.0 in /usr/local/lib/python3.10/dist-packages (from aiohttp->datasets) (23.1.0)\n",
            "Requirement already satisfied: charset-normalizer<4.0,>=2.0 in /usr/local/lib/python3.10/dist-packages (from aiohttp->datasets) (3.3.2)\n",
            "Requirement already satisfied: multidict<7.0,>=4.5 in /usr/local/lib/python3.10/dist-packages (from aiohttp->datasets) (6.0.4)\n",
            "Requirement already satisfied: async-timeout<5.0,>=4.0.0a3 in /usr/local/lib/python3.10/dist-packages (from aiohttp->datasets) (4.0.3)\n",
            "Requirement already satisfied: yarl<2.0,>=1.0 in /usr/local/lib/python3.10/dist-packages (from aiohttp->datasets) (1.9.2)\n",
            "Requirement already satisfied: frozenlist>=1.1.1 in /usr/local/lib/python3.10/dist-packages (from aiohttp->datasets) (1.4.0)\n",
            "Requirement already satisfied: aiosignal>=1.1.2 in /usr/local/lib/python3.10/dist-packages (from aiohttp->datasets) (1.3.1)\n",
            "Requirement already satisfied: filelock in /usr/local/lib/python3.10/dist-packages (from huggingface-hub<1.0.0,>=0.14.0->datasets) (3.13.1)\n",
            "Requirement already satisfied: typing-extensions>=3.7.4.3 in /usr/local/lib/python3.10/dist-packages (from huggingface-hub<1.0.0,>=0.14.0->datasets) (4.5.0)\n",
            "Requirement already satisfied: idna<4,>=2.5 in /usr/local/lib/python3.10/dist-packages (from requests>=2.19.0->datasets) (3.4)\n",
            "Requirement already satisfied: urllib3<3,>=1.21.1 in /usr/local/lib/python3.10/dist-packages (from requests>=2.19.0->datasets) (2.0.7)\n",
            "Requirement already satisfied: certifi>=2017.4.17 in /usr/local/lib/python3.10/dist-packages (from requests>=2.19.0->datasets) (2023.7.22)\n",
            "Requirement already satisfied: python-dateutil>=2.8.1 in /usr/local/lib/python3.10/dist-packages (from pandas->datasets) (2.8.2)\n",
            "Requirement already satisfied: pytz>=2020.1 in /usr/local/lib/python3.10/dist-packages (from pandas->datasets) (2023.3.post1)\n",
            "Requirement already satisfied: six>=1.5 in /usr/local/lib/python3.10/dist-packages (from python-dateutil>=2.8.1->pandas->datasets) (1.16.0)\n",
            "Installing collected packages: dill, multiprocess, huggingface-hub, datasets\n",
            "Successfully installed datasets-2.14.6 dill-0.3.7 huggingface-hub-0.19.0 multiprocess-0.70.15\n"
          ]
        }
      ],
      "source": [
        "!pip install datasets"
      ]
    },
    {
      "cell_type": "code",
      "execution_count": 2,
      "metadata": {
        "id": "e2UV_t-kpTt8"
      },
      "outputs": [],
      "source": [
        "import datasets\n",
        "import numpy as np\n",
        "import pandas as pd\n",
        "import spacy.lang.es\n",
        "import matplotlib.pyplot as plt\n",
        "import sklearn.pipeline\n",
        "import sklearn.feature_extraction"
      ]
    },
    {
      "cell_type": "markdown",
      "metadata": {
        "id": "ceE9axnKpTt-"
      },
      "source": [
        "\n",
        "Cargamos el conjunto de datos de diagnosticos clínicos."
      ]
    },
    {
      "cell_type": "code",
      "execution_count": 3,
      "metadata": {
        "colab": {
          "base_uri": "https://localhost:8080/",
          "height": 145,
          "referenced_widgets": [
            "161d15e2ea074f16b7686a20c392dd8d",
            "83287657d1ff43ab8936d3e77c077394",
            "d04cf122408041c2af2bedff154052a9",
            "77a8b81593f94b60b640f9cb0e3189eb",
            "c1095c3fb0bd4cf1a7d8326a1c1993dd",
            "648c8bfa283d4f1bb14cb90e51b87918",
            "d2972e2c441e4bb3b27585c3584a6fba",
            "3b9efd82f9914d44bebfedd04dcac5d8",
            "0cb8c426acc34f5eaba0dab38c76fdfa",
            "f7413fd0de674b898583a27b8cce2bcc",
            "5014499eedfd4f65ac22c82d30f3e08f",
            "11285435d8984e0ba002fb0b30d7e4bd",
            "2204f7bb06224d0682c3a15b75c967f5",
            "25773d2859cb49d2afbd706630086b3a",
            "09231e72cb0a4a3898ce29a372f71f94",
            "e332c44f26b24feb96fb027f3c2f3100",
            "19a1c14543d749c8a61369bc05d6b30c",
            "8806a9d36e174d239bed77837ddbd975",
            "71f91b533b68458da3a168a1248bdb16",
            "90ecab1866994c02a29a44e77922aab7",
            "33fd151698ab40acb4cb498fefd19e6d",
            "45c15184a03a4f52979779ec1ca1f312",
            "9f21f14b0e324657bcec5acb6f02e875",
            "7d79597dc516498293b5e870e33964b5",
            "41bbab9ecad346df9d32025cb8801d79",
            "ee39f2fb2bf4486983bb20203b5f637f",
            "3747b23805c942e2a51ee9e2d25c506e",
            "aead0d460cf240358ceea8f407ccec14",
            "a2e30d6eaaef4f669cc48c8605535d21",
            "588635be4d624a4da7ad150c25ae975b",
            "5c89fd8ba26f47488399ad0e48efb2ef",
            "228164d99ba04770b8c5dc99a4408d22",
            "caede7699f464230a1050e7c4110ef58",
            "0a8e76e27fca40d0a0b857be61bd749b",
            "057948bc96b74295a386a77ba2949b18",
            "5c464996773d4e4d83b4c9d76c4dab50",
            "b05826ee1d2046ee8c8b53b0bc38056e",
            "02cbb21fe07e4e91900db12cfd562d85",
            "3ecd21561a764c8ebb74b91f5011e2d2",
            "f4d23ec2861a4a2d9721734a2d105033",
            "c6c0f7f2db854ea48e239a18fe7a3b7d",
            "7f342856a73840ce8f9c0f9303efe89a",
            "0bc74e47fe4547a081ac9003d4fda646",
            "fba1f6627f574266a680d6074fd076e8"
          ]
        },
        "id": "sod8Fd7dpTt-",
        "outputId": "96a89aeb-30aa-4b75-acff-c1e41d4ea8fe"
      },
      "outputs": [
        {
          "data": {
            "application/vnd.jupyter.widget-view+json": {
              "model_id": "161d15e2ea074f16b7686a20c392dd8d",
              "version_major": 2,
              "version_minor": 0
            },
            "text/plain": [
              "Downloading builder script:   0%|          | 0.00/1.67k [00:00<?, ?B/s]"
            ]
          },
          "metadata": {},
          "output_type": "display_data"
        },
        {
          "data": {
            "application/vnd.jupyter.widget-view+json": {
              "model_id": "11285435d8984e0ba002fb0b30d7e4bd",
              "version_major": 2,
              "version_minor": 0
            },
            "text/plain": [
              "Downloading data:   0%|          | 0.00/6.85M [00:00<?, ?B/s]"
            ]
          },
          "metadata": {},
          "output_type": "display_data"
        },
        {
          "data": {
            "application/vnd.jupyter.widget-view+json": {
              "model_id": "9f21f14b0e324657bcec5acb6f02e875",
              "version_major": 2,
              "version_minor": 0
            },
            "text/plain": [
              "Generating train split: 0 examples [00:00, ? examples/s]"
            ]
          },
          "metadata": {},
          "output_type": "display_data"
        },
        {
          "data": {
            "application/vnd.jupyter.widget-view+json": {
              "model_id": "0a8e76e27fca40d0a0b857be61bd749b",
              "version_major": 2,
              "version_minor": 0
            },
            "text/plain": [
              "Generating test split: 0 examples [00:00, ? examples/s]"
            ]
          },
          "metadata": {},
          "output_type": "display_data"
        }
      ],
      "source": [
        "spanish_diagnostics = datasets.load_dataset('fvillena/spanish_diagnostics') # Cargamos las particiones de entrenamiento y prueba"
      ]
    },
    {
      "cell_type": "markdown",
      "metadata": {
        "id": "fryMsh-IpTuA"
      },
      "source": [
        "Cargamos una lista de stopwords desde la biblioteca Spacy."
      ]
    },
    {
      "cell_type": "code",
      "execution_count": 4,
      "metadata": {
        "id": "9gZOSByopTuA"
      },
      "outputs": [],
      "source": [
        "stopwords = spacy.lang.es.stop_words.STOP_WORDS # La biblioteca Spacy tiene una lista de stopwords en español"
      ]
    },
    {
      "cell_type": "markdown",
      "metadata": {
        "id": "biINZhe9pTuB"
      },
      "source": [
        "## Representación de documentos\n",
        "\n",
        "Para poder trabajar con datos de texto, estos deben ser representados de una manera que pueda ser interpretada por los algoritmos de minería de texto. Típicamente se desea llegar a una matriz que tenga tantas filas como documentos tenga nuestro corpus y tantas columnas como características fueron extraídas desde el texto.\n",
        "\n",
        "Revisaremos 2 métodos de extracción de características:\n",
        "\n",
        "* Bag-of-words: Este método extrae la frecuencia de aparición de cada una de las palabras del documento y representa un documento como un vector de tantas dimensiones como palabras tenga el vocabulario.\n",
        "\n",
        "* Term frequency - inverse document frequency (TF-IDF): Este método extrae la frecuencia de aparición de cada una de las palabras y la multiplica por el inverso de la frecuencia de aparición de la palabra en todos los documentos. También se representa cada documento como un vector de tantas dimensiones como palabras tenga el vocabulario."
      ]
    },
    {
      "cell_type": "markdown",
      "metadata": {
        "id": "aVbJ3PpIpTuC"
      },
      "source": [
        "### Bag of Words\n",
        "\n",
        "es una técnica utilizada en el procesamiento del lenguaje natural para representar textos como conjuntos no ordenados de palabras, ignorando la estructura gramatical y el orden de las palabras en el texto. En este enfoque, cada documento se representa mediante un vector que cuenta la ocurrencia o frecuencia de las palabras en el documento.\n",
        "\n",
        "El proceso de creación de una representación de Bolsa de Palabras consta de los siguientes pasos:\n",
        "\n",
        "* Tokenización: El texto se divide en unidades más pequeñas, generalmente palabras. Cada palabra se considera un \"token\".\n",
        "\n",
        "* Creación del vocabulario: Se construye un vocabulario único a partir de todos los tokens en el conjunto de documentos. Cada palabra del vocabulario se asigna a un índice único.\n",
        "\n",
        "* Creación del vector de características: Para cada documento, se crea un vector de características que representa la frecuencia de cada palabra del vocabulario en el documento. El valor en cada posición del vector corresponde a la frecuencia de esa palabra en el documento.\n",
        "\n",
        "<center>\n",
        "    <img src=\"https://miro.medium.com/v2/resize:fit:1400/format:webp/1*hLvya7MXjsSc3NS2SoLMEg.png\" alt=\"medium\">\n",
        "</center>\n",
        "\n",
        "\n",
        "\n"
      ]
    },
    {
      "cell_type": "markdown",
      "metadata": {
        "id": "UXZmrD9_pTuC"
      },
      "source": [
        "Instanciamos un extractor de características Bag-of-words."
      ]
    },
    {
      "cell_type": "code",
      "execution_count": 5,
      "metadata": {
        "id": "XMTGASo2pTuD"
      },
      "outputs": [],
      "source": [
        "count_vectorizer = sklearn.feature_extraction.text.CountVectorizer(\n",
        "    stop_words = list(stopwords), # Le pasamos la lista de stopwords para eliminarlas del vocabulario\n",
        "    max_df = 0.05, # Eliminamos del vocabulario el 5% de palabras más frecuentes (stopwords específicas del corpus)\n",
        "    min_df = 2 # Eliminamos del vocabulario las palabras que tienen una frecuencia menor a 2 (típicamente palabras malformadas)\n",
        ")"
      ]
    },
    {
      "cell_type": "markdown",
      "metadata": {
        "id": "tygT6ATopTuE"
      },
      "source": [
        "Ajustamos el vectorizador sobre los textos del conjunto de prueba."
      ]
    },
    {
      "cell_type": "code",
      "execution_count": 6,
      "metadata": {
        "colab": {
          "base_uri": "https://localhost:8080/",
          "height": 179
        },
        "id": "7XT2KsKtpTuE",
        "outputId": "f2b3a1fa-61b3-43bf-9767-c4acc3242d2b"
      },
      "outputs": [
        {
          "data": {
            "text/html": [
              "<style>#sk-container-id-1 {color: black;background-color: white;}#sk-container-id-1 pre{padding: 0;}#sk-container-id-1 div.sk-toggleable {background-color: white;}#sk-container-id-1 label.sk-toggleable__label {cursor: pointer;display: block;width: 100%;margin-bottom: 0;padding: 0.3em;box-sizing: border-box;text-align: center;}#sk-container-id-1 label.sk-toggleable__label-arrow:before {content: \"▸\";float: left;margin-right: 0.25em;color: #696969;}#sk-container-id-1 label.sk-toggleable__label-arrow:hover:before {color: black;}#sk-container-id-1 div.sk-estimator:hover label.sk-toggleable__label-arrow:before {color: black;}#sk-container-id-1 div.sk-toggleable__content {max-height: 0;max-width: 0;overflow: hidden;text-align: left;background-color: #f0f8ff;}#sk-container-id-1 div.sk-toggleable__content pre {margin: 0.2em;color: black;border-radius: 0.25em;background-color: #f0f8ff;}#sk-container-id-1 input.sk-toggleable__control:checked~div.sk-toggleable__content {max-height: 200px;max-width: 100%;overflow: auto;}#sk-container-id-1 input.sk-toggleable__control:checked~label.sk-toggleable__label-arrow:before {content: \"▾\";}#sk-container-id-1 div.sk-estimator input.sk-toggleable__control:checked~label.sk-toggleable__label {background-color: #d4ebff;}#sk-container-id-1 div.sk-label input.sk-toggleable__control:checked~label.sk-toggleable__label {background-color: #d4ebff;}#sk-container-id-1 input.sk-hidden--visually {border: 0;clip: rect(1px 1px 1px 1px);clip: rect(1px, 1px, 1px, 1px);height: 1px;margin: -1px;overflow: hidden;padding: 0;position: absolute;width: 1px;}#sk-container-id-1 div.sk-estimator {font-family: monospace;background-color: #f0f8ff;border: 1px dotted black;border-radius: 0.25em;box-sizing: border-box;margin-bottom: 0.5em;}#sk-container-id-1 div.sk-estimator:hover {background-color: #d4ebff;}#sk-container-id-1 div.sk-parallel-item::after {content: \"\";width: 100%;border-bottom: 1px solid gray;flex-grow: 1;}#sk-container-id-1 div.sk-label:hover label.sk-toggleable__label {background-color: #d4ebff;}#sk-container-id-1 div.sk-serial::before {content: \"\";position: absolute;border-left: 1px solid gray;box-sizing: border-box;top: 0;bottom: 0;left: 50%;z-index: 0;}#sk-container-id-1 div.sk-serial {display: flex;flex-direction: column;align-items: center;background-color: white;padding-right: 0.2em;padding-left: 0.2em;position: relative;}#sk-container-id-1 div.sk-item {position: relative;z-index: 1;}#sk-container-id-1 div.sk-parallel {display: flex;align-items: stretch;justify-content: center;background-color: white;position: relative;}#sk-container-id-1 div.sk-item::before, #sk-container-id-1 div.sk-parallel-item::before {content: \"\";position: absolute;border-left: 1px solid gray;box-sizing: border-box;top: 0;bottom: 0;left: 50%;z-index: -1;}#sk-container-id-1 div.sk-parallel-item {display: flex;flex-direction: column;z-index: 1;position: relative;background-color: white;}#sk-container-id-1 div.sk-parallel-item:first-child::after {align-self: flex-end;width: 50%;}#sk-container-id-1 div.sk-parallel-item:last-child::after {align-self: flex-start;width: 50%;}#sk-container-id-1 div.sk-parallel-item:only-child::after {width: 0;}#sk-container-id-1 div.sk-dashed-wrapped {border: 1px dashed gray;margin: 0 0.4em 0.5em 0.4em;box-sizing: border-box;padding-bottom: 0.4em;background-color: white;}#sk-container-id-1 div.sk-label label {font-family: monospace;font-weight: bold;display: inline-block;line-height: 1.2em;}#sk-container-id-1 div.sk-label-container {text-align: center;}#sk-container-id-1 div.sk-container {/* jupyter's `normalize.less` sets `[hidden] { display: none; }` but bootstrap.min.css set `[hidden] { display: none !important; }` so we also need the `!important` here to be able to override the default hidden behavior on the sphinx rendered scikit-learn.org. See: https://github.com/scikit-learn/scikit-learn/issues/21755 */display: inline-block !important;position: relative;}#sk-container-id-1 div.sk-text-repr-fallback {display: none;}</style><div id=\"sk-container-id-1\" class=\"sk-top-container\"><div class=\"sk-text-repr-fallback\"><pre>CountVectorizer(max_df=0.05, min_df=2,\n",
              "                stop_words=[&#x27;de&#x27;, &#x27;e&#x27;, &#x27;primer&#x27;, &#x27;muchos&#x27;, &#x27;ocho&#x27;, &#x27;durante&#x27;,\n",
              "                            &#x27;cuáles&#x27;, &#x27;dado&#x27;, &#x27;siguiente&#x27;, &#x27;en&#x27;, &#x27;sido&#x27;,\n",
              "                            &#x27;saben&#x27;, &#x27;según&#x27;, &#x27;aquellos&#x27;, &#x27;aseguró&#x27;, &#x27;usamos&#x27;,\n",
              "                            &#x27;había&#x27;, &#x27;vais&#x27;, &#x27;repente&#x27;, &#x27;breve&#x27;, &#x27;usar&#x27;, &#x27;ésos&#x27;,\n",
              "                            &#x27;gran&#x27;, &#x27;una&#x27;, &#x27;primeros&#x27;, &#x27;largo&#x27;, &#x27;ser&#x27;, &#x27;solos&#x27;,\n",
              "                            &#x27;ningunas&#x27;, &#x27;consigo&#x27;, ...])</pre><b>In a Jupyter environment, please rerun this cell to show the HTML representation or trust the notebook. <br />On GitHub, the HTML representation is unable to render, please try loading this page with nbviewer.org.</b></div><div class=\"sk-container\" hidden><div class=\"sk-item\"><div class=\"sk-estimator sk-toggleable\"><input class=\"sk-toggleable__control sk-hidden--visually\" id=\"sk-estimator-id-1\" type=\"checkbox\" checked><label for=\"sk-estimator-id-1\" class=\"sk-toggleable__label sk-toggleable__label-arrow\">CountVectorizer</label><div class=\"sk-toggleable__content\"><pre>CountVectorizer(max_df=0.05, min_df=2,\n",
              "                stop_words=[&#x27;de&#x27;, &#x27;e&#x27;, &#x27;primer&#x27;, &#x27;muchos&#x27;, &#x27;ocho&#x27;, &#x27;durante&#x27;,\n",
              "                            &#x27;cuáles&#x27;, &#x27;dado&#x27;, &#x27;siguiente&#x27;, &#x27;en&#x27;, &#x27;sido&#x27;,\n",
              "                            &#x27;saben&#x27;, &#x27;según&#x27;, &#x27;aquellos&#x27;, &#x27;aseguró&#x27;, &#x27;usamos&#x27;,\n",
              "                            &#x27;había&#x27;, &#x27;vais&#x27;, &#x27;repente&#x27;, &#x27;breve&#x27;, &#x27;usar&#x27;, &#x27;ésos&#x27;,\n",
              "                            &#x27;gran&#x27;, &#x27;una&#x27;, &#x27;primeros&#x27;, &#x27;largo&#x27;, &#x27;ser&#x27;, &#x27;solos&#x27;,\n",
              "                            &#x27;ningunas&#x27;, &#x27;consigo&#x27;, ...])</pre></div></div></div></div></div>"
            ],
            "text/plain": [
              "CountVectorizer(max_df=0.05, min_df=2,\n",
              "                stop_words=['de', 'e', 'primer', 'muchos', 'ocho', 'durante',\n",
              "                            'cuáles', 'dado', 'siguiente', 'en', 'sido',\n",
              "                            'saben', 'según', 'aquellos', 'aseguró', 'usamos',\n",
              "                            'había', 'vais', 'repente', 'breve', 'usar', 'ésos',\n",
              "                            'gran', 'una', 'primeros', 'largo', 'ser', 'solos',\n",
              "                            'ningunas', 'consigo', ...])"
            ]
          },
          "execution_count": 6,
          "metadata": {},
          "output_type": "execute_result"
        }
      ],
      "source": [
        "count_vectorizer.fit(spanish_diagnostics[\"train\"][\"text\"])"
      ]
    },
    {
      "cell_type": "markdown",
      "metadata": {
        "id": "WK0XzjrepTuF"
      },
      "source": [
        "Exploraremos cómo está representando nuestros documentos este vectorizador.\n",
        "\n",
        "Este es un texto de ejemplo del corpus."
      ]
    },
    {
      "cell_type": "code",
      "execution_count": 7,
      "metadata": {
        "id": "468WGXe5pTuF"
      },
      "outputs": [],
      "source": [
        "text_vectorized = count_vectorizer.transform(spanish_diagnostics[\"train\"][\"text\"])"
      ]
    },
    {
      "cell_type": "code",
      "execution_count": 8,
      "metadata": {
        "colab": {
          "base_uri": "https://localhost:8080/"
        },
        "id": "Y_zpuf2kpTuF",
        "outputId": "8ffdc819-4b59-4222-9b47-f197840ea93c"
      },
      "outputs": [
        {
          "data": {
            "text/plain": [
              "(70000, 13565)"
            ]
          },
          "execution_count": 8,
          "metadata": {},
          "output_type": "execute_result"
        }
      ],
      "source": [
        "text_vectorized.shape"
      ]
    },
    {
      "cell_type": "code",
      "execution_count": 9,
      "metadata": {
        "colab": {
          "base_uri": "https://localhost:8080/",
          "height": 35
        },
        "id": "UL7-dnvwpTuG",
        "outputId": "71e67394-429d-486b-de00-a266fff0880d"
      },
      "outputs": [
        {
          "data": {
            "application/vnd.google.colaboratory.intrinsic+json": {
              "type": "string"
            },
            "text/plain": [
              "'- CARIES DENTINARIA PROFUNDA/  - Fundamento Clínico APS: caries profunda en relacion de la pieza dental 4.5 Caries de la dentina'"
            ]
          },
          "execution_count": 9,
          "metadata": {},
          "output_type": "execute_result"
        }
      ],
      "source": [
        "spanish_diagnostics[\"train\"][\"text\"][69983]"
      ]
    },
    {
      "cell_type": "code",
      "execution_count": 10,
      "metadata": {
        "colab": {
          "base_uri": "https://localhost:8080/"
        },
        "id": "unbsGHc8pTuG",
        "outputId": "874b87c6-3edc-4fb4-e4cf-ea6623f07916"
      },
      "outputs": [
        {
          "data": {
            "text/plain": [
              "array([[0, 0, 0, ..., 0, 0, 0]])"
            ]
          },
          "execution_count": 10,
          "metadata": {},
          "output_type": "execute_result"
        }
      ],
      "source": [
        "count_vectorizer.transform([spanish_diagnostics[\"train\"][\"text\"][69983]]).toarray()"
      ]
    },
    {
      "cell_type": "code",
      "execution_count": 11,
      "metadata": {
        "id": "H5RTjGhbpTuH"
      },
      "outputs": [],
      "source": [
        "def get_word_scores(text,vectorizer):\n",
        "    \"\"\"A partir de un texto y un vectorizador retorna los puntajes asignados a cada palabra del texto\"\"\"\n",
        "    feature_names = list({k: v for k, v in sorted(vectorizer.vocabulary_.items(), key=lambda item: item[1])}.keys()) # Vocabulario\n",
        "    doc = vectorizer.transform([text]) # Vectorizamos el texto de entrada\n",
        "    idxs = np.argwhere(doc)[:,1] # Extraemos los índices donde sí hay palabras representadas\n",
        "    words = [feature_names[i] for i in idxs] # Extraemos las palabras asociadas a los índices extraídos\n",
        "    scores = np.array(doc.todense())[0][idxs] # Extraemos los puntajes asociadas a los índices extraídos\n",
        "    return list(reversed(sorted(zip(words,scores),key=lambda tup: tup[1]))) # Retornamos una lista de palabras y puntajes"
      ]
    },
    {
      "cell_type": "markdown",
      "metadata": {
        "id": "cFDK-VqqpTuH"
      },
      "source": [
        "Vemos que nuestro vectorizador le dio más peso a la palabra caries de nuestro documento porque es la palabra más frecuente y a a un grupo de palabras les asignó el mismo puntaje 1 porque cada una aprece 1 vez."
      ]
    },
    {
      "cell_type": "code",
      "execution_count": 12,
      "metadata": {
        "colab": {
          "base_uri": "https://localhost:8080/"
        },
        "id": "GhGWj5hrpTuH",
        "outputId": "db409722-21b1-4728-de1f-ff5e23bc4c0b"
      },
      "outputs": [
        {
          "data": {
            "text/plain": [
              "[('caries', 3),\n",
              " ('profunda', 2),\n",
              " ('relacion', 1),\n",
              " ('fundamento', 1),\n",
              " ('dentinaria', 1),\n",
              " ('dentina', 1),\n",
              " ('dental', 1)]"
            ]
          },
          "execution_count": 12,
          "metadata": {},
          "output_type": "execute_result"
        }
      ],
      "source": [
        "get_word_scores(spanish_diagnostics[\"train\"][\"text\"][69983],count_vectorizer)"
      ]
    },
    {
      "cell_type": "markdown",
      "metadata": {
        "id": "Qkd2zYlUpTuI"
      },
      "source": [
        "### TF-IDF\n",
        "\n",
        "Es una técnica utilizada en el procesamiento del lenguaje natural para ponderar la importancia de un término (palabra) en un documento dentro de una colección de documentos. Consiste en dos componentes principales: TF (Frecuencia del Término) e IDF (Frecuencia Inversa del Documento).\n",
        "\n",
        "* Frecuencia del Término (TF): La componente TF mide la frecuencia relativa de un término en un documento específico. El objetivo es asignar un mayor peso a los términos que aparecen con más frecuencia dentro del documento, ya que se considera que estos términos son más importantes.\n",
        "La fórmula básica para calcular la TF es: $$TF = \\frac{(\\text{Número de veces que aparece el término en el documento})}{(\\text{Número total de términos en el documento})}$$\n",
        "\n",
        "    Ejemplo de TF: Supongamos que tenemos un documento que contiene la siguiente frase: \"El perro juega en el parque\". Si queremos calcular la frecuencia del término \"perro\" en este documento, contaríamos que aparece una vez. Si asumimos que hay un total de cinco términos en el documento, entonces la frecuencia del término \"perro\" sería $\\frac{1}{5}$ = 0.2.\n",
        "\n",
        "\n",
        "* Frecuencia Inversa del Documento (IDF): La componente IDF mide la importancia de un término en el contexto de una colección de documentos. Se basa en la suposición de que los términos menos comunes en la colección pueden ser más informativos que los términos comunes. La fórmula básica para calcular el IDF es: $$IDF = log(\\frac{\\text{Número total de documentos en la colección}}{\\text{Número de documentos que contienen el término}})$$\n",
        "\n",
        "    El IDF se calcula como el logaritmo del cociente entre el número total de documentos y el número de documentos que contienen el término dado. El logaritmo se aplica para suavizar la escala del IDF y evitar una sobrevaloración de términos muy raros.\n",
        "\n",
        "    Ejemplo de IDF: Supongamos que tenemos una colección de documentos que contiene un total de 100 documentos. Si el término \"perro\" aparece en 50 de esos documentos, entonces el IDF se calcularía como log(100/50) = log(2) ≈ 0.301.\n",
        "\n",
        "\n",
        "* TF-IDF: El TF-IDF combina la información de TF e IDF para calcular un peso final para cada término en un documento. Se calcula multiplicando la TF del término en el documento por su IDF en la colección. La fórmula para calcular el TF-IDF es: $$TF-IDF = TF * IDF$$\n",
        "\n",
        "    El TF-IDF aumentará para los términos que aparezcan con frecuencia en un documento específico (alta TF) y sean menos comunes en la colección en su conjunto (alta IDF).\n",
        "\n",
        "    Ejemplo de TF-IDF: Supongamos que queremos calcular el TF-IDF para el término \"perro\" en un documento específico. Si el valor de TF es 0.2 (como en el ejemplo anterior) y el valor de IDF es 0.301 (como en el ejemplo IDF), entonces el valor de TF-IDF sería 0.2 * 0.301 = 0.0602."
      ]
    },
    {
      "cell_type": "markdown",
      "metadata": {
        "id": "9KneSu2IpTuI"
      },
      "source": [
        "Ajustamos un vectorizador que utiliza TF-IDF y lo ajustamos."
      ]
    },
    {
      "cell_type": "code",
      "execution_count": 13,
      "metadata": {
        "colab": {
          "base_uri": "https://localhost:8080/",
          "height": 179
        },
        "id": "YHTIXb3NpTuI",
        "outputId": "b732d617-a7ea-4f17-da67-d7e9abc7c268"
      },
      "outputs": [
        {
          "data": {
            "text/html": [
              "<style>#sk-container-id-2 {color: black;background-color: white;}#sk-container-id-2 pre{padding: 0;}#sk-container-id-2 div.sk-toggleable {background-color: white;}#sk-container-id-2 label.sk-toggleable__label {cursor: pointer;display: block;width: 100%;margin-bottom: 0;padding: 0.3em;box-sizing: border-box;text-align: center;}#sk-container-id-2 label.sk-toggleable__label-arrow:before {content: \"▸\";float: left;margin-right: 0.25em;color: #696969;}#sk-container-id-2 label.sk-toggleable__label-arrow:hover:before {color: black;}#sk-container-id-2 div.sk-estimator:hover label.sk-toggleable__label-arrow:before {color: black;}#sk-container-id-2 div.sk-toggleable__content {max-height: 0;max-width: 0;overflow: hidden;text-align: left;background-color: #f0f8ff;}#sk-container-id-2 div.sk-toggleable__content pre {margin: 0.2em;color: black;border-radius: 0.25em;background-color: #f0f8ff;}#sk-container-id-2 input.sk-toggleable__control:checked~div.sk-toggleable__content {max-height: 200px;max-width: 100%;overflow: auto;}#sk-container-id-2 input.sk-toggleable__control:checked~label.sk-toggleable__label-arrow:before {content: \"▾\";}#sk-container-id-2 div.sk-estimator input.sk-toggleable__control:checked~label.sk-toggleable__label {background-color: #d4ebff;}#sk-container-id-2 div.sk-label input.sk-toggleable__control:checked~label.sk-toggleable__label {background-color: #d4ebff;}#sk-container-id-2 input.sk-hidden--visually {border: 0;clip: rect(1px 1px 1px 1px);clip: rect(1px, 1px, 1px, 1px);height: 1px;margin: -1px;overflow: hidden;padding: 0;position: absolute;width: 1px;}#sk-container-id-2 div.sk-estimator {font-family: monospace;background-color: #f0f8ff;border: 1px dotted black;border-radius: 0.25em;box-sizing: border-box;margin-bottom: 0.5em;}#sk-container-id-2 div.sk-estimator:hover {background-color: #d4ebff;}#sk-container-id-2 div.sk-parallel-item::after {content: \"\";width: 100%;border-bottom: 1px solid gray;flex-grow: 1;}#sk-container-id-2 div.sk-label:hover label.sk-toggleable__label {background-color: #d4ebff;}#sk-container-id-2 div.sk-serial::before {content: \"\";position: absolute;border-left: 1px solid gray;box-sizing: border-box;top: 0;bottom: 0;left: 50%;z-index: 0;}#sk-container-id-2 div.sk-serial {display: flex;flex-direction: column;align-items: center;background-color: white;padding-right: 0.2em;padding-left: 0.2em;position: relative;}#sk-container-id-2 div.sk-item {position: relative;z-index: 1;}#sk-container-id-2 div.sk-parallel {display: flex;align-items: stretch;justify-content: center;background-color: white;position: relative;}#sk-container-id-2 div.sk-item::before, #sk-container-id-2 div.sk-parallel-item::before {content: \"\";position: absolute;border-left: 1px solid gray;box-sizing: border-box;top: 0;bottom: 0;left: 50%;z-index: -1;}#sk-container-id-2 div.sk-parallel-item {display: flex;flex-direction: column;z-index: 1;position: relative;background-color: white;}#sk-container-id-2 div.sk-parallel-item:first-child::after {align-self: flex-end;width: 50%;}#sk-container-id-2 div.sk-parallel-item:last-child::after {align-self: flex-start;width: 50%;}#sk-container-id-2 div.sk-parallel-item:only-child::after {width: 0;}#sk-container-id-2 div.sk-dashed-wrapped {border: 1px dashed gray;margin: 0 0.4em 0.5em 0.4em;box-sizing: border-box;padding-bottom: 0.4em;background-color: white;}#sk-container-id-2 div.sk-label label {font-family: monospace;font-weight: bold;display: inline-block;line-height: 1.2em;}#sk-container-id-2 div.sk-label-container {text-align: center;}#sk-container-id-2 div.sk-container {/* jupyter's `normalize.less` sets `[hidden] { display: none; }` but bootstrap.min.css set `[hidden] { display: none !important; }` so we also need the `!important` here to be able to override the default hidden behavior on the sphinx rendered scikit-learn.org. See: https://github.com/scikit-learn/scikit-learn/issues/21755 */display: inline-block !important;position: relative;}#sk-container-id-2 div.sk-text-repr-fallback {display: none;}</style><div id=\"sk-container-id-2\" class=\"sk-top-container\"><div class=\"sk-text-repr-fallback\"><pre>TfidfVectorizer(max_df=0.05, min_df=2,\n",
              "                stop_words=[&#x27;de&#x27;, &#x27;e&#x27;, &#x27;primer&#x27;, &#x27;muchos&#x27;, &#x27;ocho&#x27;, &#x27;durante&#x27;,\n",
              "                            &#x27;cuáles&#x27;, &#x27;dado&#x27;, &#x27;siguiente&#x27;, &#x27;en&#x27;, &#x27;sido&#x27;,\n",
              "                            &#x27;saben&#x27;, &#x27;según&#x27;, &#x27;aquellos&#x27;, &#x27;aseguró&#x27;, &#x27;usamos&#x27;,\n",
              "                            &#x27;había&#x27;, &#x27;vais&#x27;, &#x27;repente&#x27;, &#x27;breve&#x27;, &#x27;usar&#x27;, &#x27;ésos&#x27;,\n",
              "                            &#x27;gran&#x27;, &#x27;una&#x27;, &#x27;primeros&#x27;, &#x27;largo&#x27;, &#x27;ser&#x27;, &#x27;solos&#x27;,\n",
              "                            &#x27;ningunas&#x27;, &#x27;consigo&#x27;, ...])</pre><b>In a Jupyter environment, please rerun this cell to show the HTML representation or trust the notebook. <br />On GitHub, the HTML representation is unable to render, please try loading this page with nbviewer.org.</b></div><div class=\"sk-container\" hidden><div class=\"sk-item\"><div class=\"sk-estimator sk-toggleable\"><input class=\"sk-toggleable__control sk-hidden--visually\" id=\"sk-estimator-id-2\" type=\"checkbox\" checked><label for=\"sk-estimator-id-2\" class=\"sk-toggleable__label sk-toggleable__label-arrow\">TfidfVectorizer</label><div class=\"sk-toggleable__content\"><pre>TfidfVectorizer(max_df=0.05, min_df=2,\n",
              "                stop_words=[&#x27;de&#x27;, &#x27;e&#x27;, &#x27;primer&#x27;, &#x27;muchos&#x27;, &#x27;ocho&#x27;, &#x27;durante&#x27;,\n",
              "                            &#x27;cuáles&#x27;, &#x27;dado&#x27;, &#x27;siguiente&#x27;, &#x27;en&#x27;, &#x27;sido&#x27;,\n",
              "                            &#x27;saben&#x27;, &#x27;según&#x27;, &#x27;aquellos&#x27;, &#x27;aseguró&#x27;, &#x27;usamos&#x27;,\n",
              "                            &#x27;había&#x27;, &#x27;vais&#x27;, &#x27;repente&#x27;, &#x27;breve&#x27;, &#x27;usar&#x27;, &#x27;ésos&#x27;,\n",
              "                            &#x27;gran&#x27;, &#x27;una&#x27;, &#x27;primeros&#x27;, &#x27;largo&#x27;, &#x27;ser&#x27;, &#x27;solos&#x27;,\n",
              "                            &#x27;ningunas&#x27;, &#x27;consigo&#x27;, ...])</pre></div></div></div></div></div>"
            ],
            "text/plain": [
              "TfidfVectorizer(max_df=0.05, min_df=2,\n",
              "                stop_words=['de', 'e', 'primer', 'muchos', 'ocho', 'durante',\n",
              "                            'cuáles', 'dado', 'siguiente', 'en', 'sido',\n",
              "                            'saben', 'según', 'aquellos', 'aseguró', 'usamos',\n",
              "                            'había', 'vais', 'repente', 'breve', 'usar', 'ésos',\n",
              "                            'gran', 'una', 'primeros', 'largo', 'ser', 'solos',\n",
              "                            'ningunas', 'consigo', ...])"
            ]
          },
          "execution_count": 13,
          "metadata": {},
          "output_type": "execute_result"
        }
      ],
      "source": [
        "tfidf_vectorizer = sklearn.feature_extraction.text.TfidfVectorizer(\n",
        "    stop_words = list(stopwords),\n",
        "    max_df = 0.05,\n",
        "    min_df = 2\n",
        ")\n",
        "tfidf_vectorizer.fit(spanish_diagnostics[\"train\"][\"text\"])"
      ]
    },
    {
      "cell_type": "markdown",
      "metadata": {
        "id": "cdZ17NsKpTuJ"
      },
      "source": [
        "Podemos observar que caries sigue siendo la palabra con el mayor puntaje. Pero vemos que todas las palabras tienen un puntaje distinto, en donde destacamos que la palabra fundamento tiene el menor puntaje. Intuitivamente podemos darnos cuenta que esta representación es mejor porque la palabra fundamento no nos aporta mucha información en el documento."
      ]
    },
    {
      "cell_type": "code",
      "execution_count": 14,
      "metadata": {
        "colab": {
          "base_uri": "https://localhost:8080/"
        },
        "id": "fURh0DrqpTuJ",
        "outputId": "43265c5a-872c-419e-dc62-d070047bd184"
      },
      "outputs": [
        {
          "data": {
            "text/plain": [
              "[('caries', 0.5841232685802328),\n",
              " ('profunda', 0.5052614123771014),\n",
              " ('dentina', 0.36362077674894117),\n",
              " ('relacion', 0.3005437092091348),\n",
              " ('dentinaria', 0.27911008594273823),\n",
              " ('dental', 0.25831112531154554),\n",
              " ('fundamento', 0.19062330472026245)]"
            ]
          },
          "execution_count": 14,
          "metadata": {},
          "output_type": "execute_result"
        }
      ],
      "source": [
        "get_word_scores(spanish_diagnostics[\"train\"][\"text\"][69983],tfidf_vectorizer)"
      ]
    },
    {
      "cell_type": "markdown",
      "metadata": {
        "id": "Q-1AB6R5pTuJ"
      },
      "source": [
        "Vectorizamos los textos de nuestros conjuntos de entrenamiento y prueba. con el método CountVectorizer.transform()"
      ]
    },
    {
      "cell_type": "code",
      "execution_count": 15,
      "metadata": {
        "id": "Z8jZWsb3pTuJ"
      },
      "outputs": [],
      "source": [
        "text_vectorized_train = count_vectorizer.transform(spanish_diagnostics[\"train\"][\"text\"])\n",
        "text_vectorized_test = count_vectorizer.transform(spanish_diagnostics[\"test\"][\"text\"])\n",
        "feature_names = list({k: v for k, v in sorted(count_vectorizer.vocabulary_.items(), key=lambda item: item[1])}.keys())"
      ]
    },
    {
      "cell_type": "markdown",
      "metadata": {
        "id": "86YFxI8XpTuK"
      },
      "source": [
        "La forma de nuestra matriz es de (cantidad de documentos en el conjunto, tamaño del vocabulario)"
      ]
    },
    {
      "cell_type": "code",
      "execution_count": null,
      "metadata": {
        "id": "2jdwYpX5pTuK",
        "scrolled": true
      },
      "outputs": [],
      "source": [
        "text_vectorized_train.shape"
      ]
    },
    {
      "cell_type": "code",
      "execution_count": 17,
      "metadata": {
        "colab": {
          "base_uri": "https://localhost:8080/"
        },
        "id": "hUBVORvtpTuK",
        "outputId": "5dd75edf-9594-4e68-fc14-6a98d6c39e7a"
      },
      "outputs": [
        {
          "data": {
            "text/plain": [
              "(30000, 13565)"
            ]
          },
          "execution_count": 17,
          "metadata": {},
          "output_type": "execute_result"
        }
      ],
      "source": [
        "text_vectorized_test.shape"
      ]
    },
    {
      "cell_type": "markdown",
      "metadata": {
        "id": "w3lQwepWpTuL"
      },
      "source": [
        "## Spoiler: Pipelines de Sklearn\n",
        "\n",
        "Los pipelines en la biblioteca scikit-learn son una forma conveniente y eficiente de encadenar múltiples pasos de procesamiento de datos y modelos de aprendizaje automático en un flujo de trabajo coherente. Un pipeline de scikit-learn combina transformadores y estimadores en una secuencia ordenada, donde los datos se pasan secuencialmente a través de cada etapa para su procesamiento.\n",
        "\n",
        "En scikit-learn, un transformador es cualquier objeto que implementa los métodos fit() y transform(). Los transformadores se utilizan para realizar transformaciones en los datos, como preprocesamiento, extracción de características o reducción de dimensionalidad. Por otro lado, un estimador es cualquier objeto que implementa los métodos fit() y predict(). Los estimadores se utilizan para ajustar modelos a los datos y realizar predicciones.\n",
        "\n",
        "El pipeline de scikit-learn permite definir una secuencia de pasos, donde cada paso es un par formado por un nombre y un transformador o estimador. Los datos se pasan a través de los pasos en el orden especificado, y cada paso toma los datos de entrada, realiza su operación y pasa los datos transformados al siguiente paso."
      ]
    },
    {
      "cell_type": "code",
      "execution_count": 18,
      "metadata": {
        "id": "nF8UfyjbpTuL"
      },
      "outputs": [],
      "source": [
        "count_vectorizer = sklearn.feature_extraction.text.CountVectorizer(\n",
        "    stop_words = list(stopwords), # Le pasamos la lista de stopwords para eliminarlas del vocabulario\n",
        "    max_df = 0.05, # Eliminamos del vocabulario el 5% de palabras más frecuentes (stopwords específicas del corpus)\n",
        "    min_df = 2 # Eliminamos del vocabulario las palabras que tienen una frecuencia menor a 2 (típicamente palabras malformadas)\n",
        ")\n",
        "\n",
        "tfidf_vectorizer = sklearn.feature_extraction.text.TfidfVectorizer(\n",
        "    stop_words = list(stopwords),\n",
        "    max_df = 0.05,\n",
        "    min_df = 2\n",
        ")"
      ]
    },
    {
      "cell_type": "code",
      "execution_count": 19,
      "metadata": {
        "id": "QQn3bWnJpTuL"
      },
      "outputs": [],
      "source": [
        "pipe_bow = sklearn.pipeline.Pipeline([\n",
        "        ('vectorizer', count_vectorizer),\n",
        "    ])"
      ]
    },
    {
      "cell_type": "code",
      "execution_count": 20,
      "metadata": {
        "colab": {
          "base_uri": "https://localhost:8080/"
        },
        "id": "n_W0eo0CpTuL",
        "outputId": "0ee29c8d-8ad2-4b2b-b210-33fc01ccaf64"
      },
      "outputs": [
        {
          "data": {
            "text/plain": [
              "<70000x13565 sparse matrix of type '<class 'numpy.int64'>'\n",
              "\twith 372583 stored elements in Compressed Sparse Row format>"
            ]
          },
          "execution_count": 20,
          "metadata": {},
          "output_type": "execute_result"
        }
      ],
      "source": [
        "pipe_bow.fit_transform(spanish_diagnostics[\"train\"][\"text\"])"
      ]
    },
    {
      "cell_type": "code",
      "execution_count": 21,
      "metadata": {
        "colab": {
          "base_uri": "https://localhost:8080/"
        },
        "id": "3QT0MaszpTuL",
        "outputId": "7289fe3f-6fc2-4ccf-9994-078f209c1620"
      },
      "outputs": [
        {
          "data": {
            "text/plain": [
              "[('caries', 3),\n",
              " ('profunda', 2),\n",
              " ('relacion', 1),\n",
              " ('fundamento', 1),\n",
              " ('dentinaria', 1),\n",
              " ('dentina', 1),\n",
              " ('dental', 1)]"
            ]
          },
          "execution_count": 21,
          "metadata": {},
          "output_type": "execute_result"
        }
      ],
      "source": [
        "get_word_scores(spanish_diagnostics[\"train\"][\"text\"][69983],pipe_bow.named_steps['vectorizer'])"
      ]
    },
    {
      "cell_type": "code",
      "execution_count": 22,
      "metadata": {
        "id": "wzoixfX6pTuL"
      },
      "outputs": [],
      "source": [
        "pipe_tf_idf = sklearn.pipeline.Pipeline([\n",
        "        ('vectorizer', tfidf_vectorizer),\n",
        "    ])"
      ]
    },
    {
      "cell_type": "code",
      "execution_count": 23,
      "metadata": {
        "colab": {
          "base_uri": "https://localhost:8080/"
        },
        "id": "r6J8MO1UpTuM",
        "outputId": "801d983f-d4b3-4521-e7af-4a8e78c6557f"
      },
      "outputs": [
        {
          "data": {
            "text/plain": [
              "<70000x13565 sparse matrix of type '<class 'numpy.float64'>'\n",
              "\twith 372583 stored elements in Compressed Sparse Row format>"
            ]
          },
          "execution_count": 23,
          "metadata": {},
          "output_type": "execute_result"
        }
      ],
      "source": [
        "pipe_tf_idf.fit_transform(spanish_diagnostics[\"train\"][\"text\"])"
      ]
    },
    {
      "cell_type": "code",
      "execution_count": 24,
      "metadata": {
        "colab": {
          "base_uri": "https://localhost:8080/"
        },
        "id": "CUs1hbeLpTuM",
        "outputId": "d62b82a3-981d-4b4f-ffcb-0b7cfb072b51"
      },
      "outputs": [
        {
          "data": {
            "text/plain": [
              "[('caries', 0.5841232685802328),\n",
              " ('profunda', 0.5052614123771014),\n",
              " ('dentina', 0.36362077674894117),\n",
              " ('relacion', 0.3005437092091348),\n",
              " ('dentinaria', 0.27911008594273823),\n",
              " ('dental', 0.25831112531154554),\n",
              " ('fundamento', 0.19062330472026245)]"
            ]
          },
          "execution_count": 24,
          "metadata": {},
          "output_type": "execute_result"
        }
      ],
      "source": [
        "get_word_scores(spanish_diagnostics[\"train\"][\"text\"][69983],pipe_tf_idf.named_steps['vectorizer'])"
      ]
    },
    {
      "cell_type": "markdown",
      "metadata": {
        "id": "g3C3mGYvpTuM"
      },
      "source": [
        "¿se puede meter mas pasos a un pipeline?"
      ]
    },
    {
      "cell_type": "code",
      "execution_count": null,
      "metadata": {
        "id": "9a3BWurWpTuN"
      },
      "outputs": [],
      "source": [
        "\"\"\"\n",
        "pipe = sklearn.pipeline.Pipeline([\n",
        "        ('vectorizer', vectorizer), #preprocesamiento\n",
        "        ('classifier', sklearn.naive_bayes.MultinomialNB()) #clasificador\n",
        "    ])\n",
        "\"\"\""
      ]
    }
  ],
  "metadata": {
    "colab": {
      "provenance": []
    },
    "kernelspec": {
      "display_name": "Python 3.11.3 64-bit",
      "language": "python",
      "name": "python3"
    },
    "language_info": {
      "codemirror_mode": {
        "name": "ipython",
        "version": 3
      },
      "file_extension": ".py",
      "mimetype": "text/x-python",
      "name": "python",
      "nbconvert_exporter": "python",
      "pygments_lexer": "ipython3",
      "version": "3.10.11"
    },
    "vscode": {
      "interpreter": {
        "hash": "b0fa6594d8f4cbf19f97940f81e996739fb7646882a419484c72d19e05852a7e"
      }
    },
    "widgets": {
      "application/vnd.jupyter.widget-state+json": {
        "02cbb21fe07e4e91900db12cfd562d85": {
          "model_module": "@jupyter-widgets/base",
          "model_module_version": "1.2.0",
          "model_name": "LayoutModel",
          "state": {
            "_model_module": "@jupyter-widgets/base",
            "_model_module_version": "1.2.0",
            "_model_name": "LayoutModel",
            "_view_count": null,
            "_view_module": "@jupyter-widgets/base",
            "_view_module_version": "1.2.0",
            "_view_name": "LayoutView",
            "align_content": null,
            "align_items": null,
            "align_self": null,
            "border": null,
            "bottom": null,
            "display": null,
            "flex": null,
            "flex_flow": null,
            "grid_area": null,
            "grid_auto_columns": null,
            "grid_auto_flow": null,
            "grid_auto_rows": null,
            "grid_column": null,
            "grid_gap": null,
            "grid_row": null,
            "grid_template_areas": null,
            "grid_template_columns": null,
            "grid_template_rows": null,
            "height": null,
            "justify_content": null,
            "justify_items": null,
            "left": null,
            "margin": null,
            "max_height": null,
            "max_width": null,
            "min_height": null,
            "min_width": null,
            "object_fit": null,
            "object_position": null,
            "order": null,
            "overflow": null,
            "overflow_x": null,
            "overflow_y": null,
            "padding": null,
            "right": null,
            "top": null,
            "visibility": null,
            "width": null
          }
        },
        "057948bc96b74295a386a77ba2949b18": {
          "model_module": "@jupyter-widgets/controls",
          "model_module_version": "1.5.0",
          "model_name": "HTMLModel",
          "state": {
            "_dom_classes": [],
            "_model_module": "@jupyter-widgets/controls",
            "_model_module_version": "1.5.0",
            "_model_name": "HTMLModel",
            "_view_count": null,
            "_view_module": "@jupyter-widgets/controls",
            "_view_module_version": "1.5.0",
            "_view_name": "HTMLView",
            "description": "",
            "description_tooltip": null,
            "layout": "IPY_MODEL_3ecd21561a764c8ebb74b91f5011e2d2",
            "placeholder": "​",
            "style": "IPY_MODEL_f4d23ec2861a4a2d9721734a2d105033",
            "value": "Generating test split: "
          }
        },
        "09231e72cb0a4a3898ce29a372f71f94": {
          "model_module": "@jupyter-widgets/controls",
          "model_module_version": "1.5.0",
          "model_name": "HTMLModel",
          "state": {
            "_dom_classes": [],
            "_model_module": "@jupyter-widgets/controls",
            "_model_module_version": "1.5.0",
            "_model_name": "HTMLModel",
            "_view_count": null,
            "_view_module": "@jupyter-widgets/controls",
            "_view_module_version": "1.5.0",
            "_view_name": "HTMLView",
            "description": "",
            "description_tooltip": null,
            "layout": "IPY_MODEL_33fd151698ab40acb4cb498fefd19e6d",
            "placeholder": "​",
            "style": "IPY_MODEL_45c15184a03a4f52979779ec1ca1f312",
            "value": " 6.85M/6.85M [00:00&lt;00:00, 35.9MB/s]"
          }
        },
        "0a8e76e27fca40d0a0b857be61bd749b": {
          "model_module": "@jupyter-widgets/controls",
          "model_module_version": "1.5.0",
          "model_name": "HBoxModel",
          "state": {
            "_dom_classes": [],
            "_model_module": "@jupyter-widgets/controls",
            "_model_module_version": "1.5.0",
            "_model_name": "HBoxModel",
            "_view_count": null,
            "_view_module": "@jupyter-widgets/controls",
            "_view_module_version": "1.5.0",
            "_view_name": "HBoxView",
            "box_style": "",
            "children": [
              "IPY_MODEL_057948bc96b74295a386a77ba2949b18",
              "IPY_MODEL_5c464996773d4e4d83b4c9d76c4dab50",
              "IPY_MODEL_b05826ee1d2046ee8c8b53b0bc38056e"
            ],
            "layout": "IPY_MODEL_02cbb21fe07e4e91900db12cfd562d85"
          }
        },
        "0bc74e47fe4547a081ac9003d4fda646": {
          "model_module": "@jupyter-widgets/base",
          "model_module_version": "1.2.0",
          "model_name": "LayoutModel",
          "state": {
            "_model_module": "@jupyter-widgets/base",
            "_model_module_version": "1.2.0",
            "_model_name": "LayoutModel",
            "_view_count": null,
            "_view_module": "@jupyter-widgets/base",
            "_view_module_version": "1.2.0",
            "_view_name": "LayoutView",
            "align_content": null,
            "align_items": null,
            "align_self": null,
            "border": null,
            "bottom": null,
            "display": null,
            "flex": null,
            "flex_flow": null,
            "grid_area": null,
            "grid_auto_columns": null,
            "grid_auto_flow": null,
            "grid_auto_rows": null,
            "grid_column": null,
            "grid_gap": null,
            "grid_row": null,
            "grid_template_areas": null,
            "grid_template_columns": null,
            "grid_template_rows": null,
            "height": null,
            "justify_content": null,
            "justify_items": null,
            "left": null,
            "margin": null,
            "max_height": null,
            "max_width": null,
            "min_height": null,
            "min_width": null,
            "object_fit": null,
            "object_position": null,
            "order": null,
            "overflow": null,
            "overflow_x": null,
            "overflow_y": null,
            "padding": null,
            "right": null,
            "top": null,
            "visibility": null,
            "width": null
          }
        },
        "0cb8c426acc34f5eaba0dab38c76fdfa": {
          "model_module": "@jupyter-widgets/controls",
          "model_module_version": "1.5.0",
          "model_name": "ProgressStyleModel",
          "state": {
            "_model_module": "@jupyter-widgets/controls",
            "_model_module_version": "1.5.0",
            "_model_name": "ProgressStyleModel",
            "_view_count": null,
            "_view_module": "@jupyter-widgets/base",
            "_view_module_version": "1.2.0",
            "_view_name": "StyleView",
            "bar_color": null,
            "description_width": ""
          }
        },
        "11285435d8984e0ba002fb0b30d7e4bd": {
          "model_module": "@jupyter-widgets/controls",
          "model_module_version": "1.5.0",
          "model_name": "HBoxModel",
          "state": {
            "_dom_classes": [],
            "_model_module": "@jupyter-widgets/controls",
            "_model_module_version": "1.5.0",
            "_model_name": "HBoxModel",
            "_view_count": null,
            "_view_module": "@jupyter-widgets/controls",
            "_view_module_version": "1.5.0",
            "_view_name": "HBoxView",
            "box_style": "",
            "children": [
              "IPY_MODEL_2204f7bb06224d0682c3a15b75c967f5",
              "IPY_MODEL_25773d2859cb49d2afbd706630086b3a",
              "IPY_MODEL_09231e72cb0a4a3898ce29a372f71f94"
            ],
            "layout": "IPY_MODEL_e332c44f26b24feb96fb027f3c2f3100"
          }
        },
        "161d15e2ea074f16b7686a20c392dd8d": {
          "model_module": "@jupyter-widgets/controls",
          "model_module_version": "1.5.0",
          "model_name": "HBoxModel",
          "state": {
            "_dom_classes": [],
            "_model_module": "@jupyter-widgets/controls",
            "_model_module_version": "1.5.0",
            "_model_name": "HBoxModel",
            "_view_count": null,
            "_view_module": "@jupyter-widgets/controls",
            "_view_module_version": "1.5.0",
            "_view_name": "HBoxView",
            "box_style": "",
            "children": [
              "IPY_MODEL_83287657d1ff43ab8936d3e77c077394",
              "IPY_MODEL_d04cf122408041c2af2bedff154052a9",
              "IPY_MODEL_77a8b81593f94b60b640f9cb0e3189eb"
            ],
            "layout": "IPY_MODEL_c1095c3fb0bd4cf1a7d8326a1c1993dd"
          }
        },
        "19a1c14543d749c8a61369bc05d6b30c": {
          "model_module": "@jupyter-widgets/base",
          "model_module_version": "1.2.0",
          "model_name": "LayoutModel",
          "state": {
            "_model_module": "@jupyter-widgets/base",
            "_model_module_version": "1.2.0",
            "_model_name": "LayoutModel",
            "_view_count": null,
            "_view_module": "@jupyter-widgets/base",
            "_view_module_version": "1.2.0",
            "_view_name": "LayoutView",
            "align_content": null,
            "align_items": null,
            "align_self": null,
            "border": null,
            "bottom": null,
            "display": null,
            "flex": null,
            "flex_flow": null,
            "grid_area": null,
            "grid_auto_columns": null,
            "grid_auto_flow": null,
            "grid_auto_rows": null,
            "grid_column": null,
            "grid_gap": null,
            "grid_row": null,
            "grid_template_areas": null,
            "grid_template_columns": null,
            "grid_template_rows": null,
            "height": null,
            "justify_content": null,
            "justify_items": null,
            "left": null,
            "margin": null,
            "max_height": null,
            "max_width": null,
            "min_height": null,
            "min_width": null,
            "object_fit": null,
            "object_position": null,
            "order": null,
            "overflow": null,
            "overflow_x": null,
            "overflow_y": null,
            "padding": null,
            "right": null,
            "top": null,
            "visibility": null,
            "width": null
          }
        },
        "2204f7bb06224d0682c3a15b75c967f5": {
          "model_module": "@jupyter-widgets/controls",
          "model_module_version": "1.5.0",
          "model_name": "HTMLModel",
          "state": {
            "_dom_classes": [],
            "_model_module": "@jupyter-widgets/controls",
            "_model_module_version": "1.5.0",
            "_model_name": "HTMLModel",
            "_view_count": null,
            "_view_module": "@jupyter-widgets/controls",
            "_view_module_version": "1.5.0",
            "_view_name": "HTMLView",
            "description": "",
            "description_tooltip": null,
            "layout": "IPY_MODEL_19a1c14543d749c8a61369bc05d6b30c",
            "placeholder": "​",
            "style": "IPY_MODEL_8806a9d36e174d239bed77837ddbd975",
            "value": "Downloading data: 100%"
          }
        },
        "228164d99ba04770b8c5dc99a4408d22": {
          "model_module": "@jupyter-widgets/base",
          "model_module_version": "1.2.0",
          "model_name": "LayoutModel",
          "state": {
            "_model_module": "@jupyter-widgets/base",
            "_model_module_version": "1.2.0",
            "_model_name": "LayoutModel",
            "_view_count": null,
            "_view_module": "@jupyter-widgets/base",
            "_view_module_version": "1.2.0",
            "_view_name": "LayoutView",
            "align_content": null,
            "align_items": null,
            "align_self": null,
            "border": null,
            "bottom": null,
            "display": null,
            "flex": null,
            "flex_flow": null,
            "grid_area": null,
            "grid_auto_columns": null,
            "grid_auto_flow": null,
            "grid_auto_rows": null,
            "grid_column": null,
            "grid_gap": null,
            "grid_row": null,
            "grid_template_areas": null,
            "grid_template_columns": null,
            "grid_template_rows": null,
            "height": null,
            "justify_content": null,
            "justify_items": null,
            "left": null,
            "margin": null,
            "max_height": null,
            "max_width": null,
            "min_height": null,
            "min_width": null,
            "object_fit": null,
            "object_position": null,
            "order": null,
            "overflow": null,
            "overflow_x": null,
            "overflow_y": null,
            "padding": null,
            "right": null,
            "top": null,
            "visibility": null,
            "width": null
          }
        },
        "25773d2859cb49d2afbd706630086b3a": {
          "model_module": "@jupyter-widgets/controls",
          "model_module_version": "1.5.0",
          "model_name": "FloatProgressModel",
          "state": {
            "_dom_classes": [],
            "_model_module": "@jupyter-widgets/controls",
            "_model_module_version": "1.5.0",
            "_model_name": "FloatProgressModel",
            "_view_count": null,
            "_view_module": "@jupyter-widgets/controls",
            "_view_module_version": "1.5.0",
            "_view_name": "ProgressView",
            "bar_style": "success",
            "description": "",
            "description_tooltip": null,
            "layout": "IPY_MODEL_71f91b533b68458da3a168a1248bdb16",
            "max": 6847038,
            "min": 0,
            "orientation": "horizontal",
            "style": "IPY_MODEL_90ecab1866994c02a29a44e77922aab7",
            "value": 6847038
          }
        },
        "33fd151698ab40acb4cb498fefd19e6d": {
          "model_module": "@jupyter-widgets/base",
          "model_module_version": "1.2.0",
          "model_name": "LayoutModel",
          "state": {
            "_model_module": "@jupyter-widgets/base",
            "_model_module_version": "1.2.0",
            "_model_name": "LayoutModel",
            "_view_count": null,
            "_view_module": "@jupyter-widgets/base",
            "_view_module_version": "1.2.0",
            "_view_name": "LayoutView",
            "align_content": null,
            "align_items": null,
            "align_self": null,
            "border": null,
            "bottom": null,
            "display": null,
            "flex": null,
            "flex_flow": null,
            "grid_area": null,
            "grid_auto_columns": null,
            "grid_auto_flow": null,
            "grid_auto_rows": null,
            "grid_column": null,
            "grid_gap": null,
            "grid_row": null,
            "grid_template_areas": null,
            "grid_template_columns": null,
            "grid_template_rows": null,
            "height": null,
            "justify_content": null,
            "justify_items": null,
            "left": null,
            "margin": null,
            "max_height": null,
            "max_width": null,
            "min_height": null,
            "min_width": null,
            "object_fit": null,
            "object_position": null,
            "order": null,
            "overflow": null,
            "overflow_x": null,
            "overflow_y": null,
            "padding": null,
            "right": null,
            "top": null,
            "visibility": null,
            "width": null
          }
        },
        "3747b23805c942e2a51ee9e2d25c506e": {
          "model_module": "@jupyter-widgets/base",
          "model_module_version": "1.2.0",
          "model_name": "LayoutModel",
          "state": {
            "_model_module": "@jupyter-widgets/base",
            "_model_module_version": "1.2.0",
            "_model_name": "LayoutModel",
            "_view_count": null,
            "_view_module": "@jupyter-widgets/base",
            "_view_module_version": "1.2.0",
            "_view_name": "LayoutView",
            "align_content": null,
            "align_items": null,
            "align_self": null,
            "border": null,
            "bottom": null,
            "display": null,
            "flex": null,
            "flex_flow": null,
            "grid_area": null,
            "grid_auto_columns": null,
            "grid_auto_flow": null,
            "grid_auto_rows": null,
            "grid_column": null,
            "grid_gap": null,
            "grid_row": null,
            "grid_template_areas": null,
            "grid_template_columns": null,
            "grid_template_rows": null,
            "height": null,
            "justify_content": null,
            "justify_items": null,
            "left": null,
            "margin": null,
            "max_height": null,
            "max_width": null,
            "min_height": null,
            "min_width": null,
            "object_fit": null,
            "object_position": null,
            "order": null,
            "overflow": null,
            "overflow_x": null,
            "overflow_y": null,
            "padding": null,
            "right": null,
            "top": null,
            "visibility": null,
            "width": null
          }
        },
        "3b9efd82f9914d44bebfedd04dcac5d8": {
          "model_module": "@jupyter-widgets/base",
          "model_module_version": "1.2.0",
          "model_name": "LayoutModel",
          "state": {
            "_model_module": "@jupyter-widgets/base",
            "_model_module_version": "1.2.0",
            "_model_name": "LayoutModel",
            "_view_count": null,
            "_view_module": "@jupyter-widgets/base",
            "_view_module_version": "1.2.0",
            "_view_name": "LayoutView",
            "align_content": null,
            "align_items": null,
            "align_self": null,
            "border": null,
            "bottom": null,
            "display": null,
            "flex": null,
            "flex_flow": null,
            "grid_area": null,
            "grid_auto_columns": null,
            "grid_auto_flow": null,
            "grid_auto_rows": null,
            "grid_column": null,
            "grid_gap": null,
            "grid_row": null,
            "grid_template_areas": null,
            "grid_template_columns": null,
            "grid_template_rows": null,
            "height": null,
            "justify_content": null,
            "justify_items": null,
            "left": null,
            "margin": null,
            "max_height": null,
            "max_width": null,
            "min_height": null,
            "min_width": null,
            "object_fit": null,
            "object_position": null,
            "order": null,
            "overflow": null,
            "overflow_x": null,
            "overflow_y": null,
            "padding": null,
            "right": null,
            "top": null,
            "visibility": null,
            "width": null
          }
        },
        "3ecd21561a764c8ebb74b91f5011e2d2": {
          "model_module": "@jupyter-widgets/base",
          "model_module_version": "1.2.0",
          "model_name": "LayoutModel",
          "state": {
            "_model_module": "@jupyter-widgets/base",
            "_model_module_version": "1.2.0",
            "_model_name": "LayoutModel",
            "_view_count": null,
            "_view_module": "@jupyter-widgets/base",
            "_view_module_version": "1.2.0",
            "_view_name": "LayoutView",
            "align_content": null,
            "align_items": null,
            "align_self": null,
            "border": null,
            "bottom": null,
            "display": null,
            "flex": null,
            "flex_flow": null,
            "grid_area": null,
            "grid_auto_columns": null,
            "grid_auto_flow": null,
            "grid_auto_rows": null,
            "grid_column": null,
            "grid_gap": null,
            "grid_row": null,
            "grid_template_areas": null,
            "grid_template_columns": null,
            "grid_template_rows": null,
            "height": null,
            "justify_content": null,
            "justify_items": null,
            "left": null,
            "margin": null,
            "max_height": null,
            "max_width": null,
            "min_height": null,
            "min_width": null,
            "object_fit": null,
            "object_position": null,
            "order": null,
            "overflow": null,
            "overflow_x": null,
            "overflow_y": null,
            "padding": null,
            "right": null,
            "top": null,
            "visibility": null,
            "width": null
          }
        },
        "41bbab9ecad346df9d32025cb8801d79": {
          "model_module": "@jupyter-widgets/controls",
          "model_module_version": "1.5.0",
          "model_name": "FloatProgressModel",
          "state": {
            "_dom_classes": [],
            "_model_module": "@jupyter-widgets/controls",
            "_model_module_version": "1.5.0",
            "_model_name": "FloatProgressModel",
            "_view_count": null,
            "_view_module": "@jupyter-widgets/controls",
            "_view_module_version": "1.5.0",
            "_view_name": "ProgressView",
            "bar_style": "success",
            "description": "",
            "description_tooltip": null,
            "layout": "IPY_MODEL_588635be4d624a4da7ad150c25ae975b",
            "max": 1,
            "min": 0,
            "orientation": "horizontal",
            "style": "IPY_MODEL_5c89fd8ba26f47488399ad0e48efb2ef",
            "value": 1
          }
        },
        "45c15184a03a4f52979779ec1ca1f312": {
          "model_module": "@jupyter-widgets/controls",
          "model_module_version": "1.5.0",
          "model_name": "DescriptionStyleModel",
          "state": {
            "_model_module": "@jupyter-widgets/controls",
            "_model_module_version": "1.5.0",
            "_model_name": "DescriptionStyleModel",
            "_view_count": null,
            "_view_module": "@jupyter-widgets/base",
            "_view_module_version": "1.2.0",
            "_view_name": "StyleView",
            "description_width": ""
          }
        },
        "5014499eedfd4f65ac22c82d30f3e08f": {
          "model_module": "@jupyter-widgets/controls",
          "model_module_version": "1.5.0",
          "model_name": "DescriptionStyleModel",
          "state": {
            "_model_module": "@jupyter-widgets/controls",
            "_model_module_version": "1.5.0",
            "_model_name": "DescriptionStyleModel",
            "_view_count": null,
            "_view_module": "@jupyter-widgets/base",
            "_view_module_version": "1.2.0",
            "_view_name": "StyleView",
            "description_width": ""
          }
        },
        "588635be4d624a4da7ad150c25ae975b": {
          "model_module": "@jupyter-widgets/base",
          "model_module_version": "1.2.0",
          "model_name": "LayoutModel",
          "state": {
            "_model_module": "@jupyter-widgets/base",
            "_model_module_version": "1.2.0",
            "_model_name": "LayoutModel",
            "_view_count": null,
            "_view_module": "@jupyter-widgets/base",
            "_view_module_version": "1.2.0",
            "_view_name": "LayoutView",
            "align_content": null,
            "align_items": null,
            "align_self": null,
            "border": null,
            "bottom": null,
            "display": null,
            "flex": null,
            "flex_flow": null,
            "grid_area": null,
            "grid_auto_columns": null,
            "grid_auto_flow": null,
            "grid_auto_rows": null,
            "grid_column": null,
            "grid_gap": null,
            "grid_row": null,
            "grid_template_areas": null,
            "grid_template_columns": null,
            "grid_template_rows": null,
            "height": null,
            "justify_content": null,
            "justify_items": null,
            "left": null,
            "margin": null,
            "max_height": null,
            "max_width": null,
            "min_height": null,
            "min_width": null,
            "object_fit": null,
            "object_position": null,
            "order": null,
            "overflow": null,
            "overflow_x": null,
            "overflow_y": null,
            "padding": null,
            "right": null,
            "top": null,
            "visibility": null,
            "width": "20px"
          }
        },
        "5c464996773d4e4d83b4c9d76c4dab50": {
          "model_module": "@jupyter-widgets/controls",
          "model_module_version": "1.5.0",
          "model_name": "FloatProgressModel",
          "state": {
            "_dom_classes": [],
            "_model_module": "@jupyter-widgets/controls",
            "_model_module_version": "1.5.0",
            "_model_name": "FloatProgressModel",
            "_view_count": null,
            "_view_module": "@jupyter-widgets/controls",
            "_view_module_version": "1.5.0",
            "_view_name": "ProgressView",
            "bar_style": "success",
            "description": "",
            "description_tooltip": null,
            "layout": "IPY_MODEL_c6c0f7f2db854ea48e239a18fe7a3b7d",
            "max": 1,
            "min": 0,
            "orientation": "horizontal",
            "style": "IPY_MODEL_7f342856a73840ce8f9c0f9303efe89a",
            "value": 1
          }
        },
        "5c89fd8ba26f47488399ad0e48efb2ef": {
          "model_module": "@jupyter-widgets/controls",
          "model_module_version": "1.5.0",
          "model_name": "ProgressStyleModel",
          "state": {
            "_model_module": "@jupyter-widgets/controls",
            "_model_module_version": "1.5.0",
            "_model_name": "ProgressStyleModel",
            "_view_count": null,
            "_view_module": "@jupyter-widgets/base",
            "_view_module_version": "1.2.0",
            "_view_name": "StyleView",
            "bar_color": null,
            "description_width": ""
          }
        },
        "648c8bfa283d4f1bb14cb90e51b87918": {
          "model_module": "@jupyter-widgets/base",
          "model_module_version": "1.2.0",
          "model_name": "LayoutModel",
          "state": {
            "_model_module": "@jupyter-widgets/base",
            "_model_module_version": "1.2.0",
            "_model_name": "LayoutModel",
            "_view_count": null,
            "_view_module": "@jupyter-widgets/base",
            "_view_module_version": "1.2.0",
            "_view_name": "LayoutView",
            "align_content": null,
            "align_items": null,
            "align_self": null,
            "border": null,
            "bottom": null,
            "display": null,
            "flex": null,
            "flex_flow": null,
            "grid_area": null,
            "grid_auto_columns": null,
            "grid_auto_flow": null,
            "grid_auto_rows": null,
            "grid_column": null,
            "grid_gap": null,
            "grid_row": null,
            "grid_template_areas": null,
            "grid_template_columns": null,
            "grid_template_rows": null,
            "height": null,
            "justify_content": null,
            "justify_items": null,
            "left": null,
            "margin": null,
            "max_height": null,
            "max_width": null,
            "min_height": null,
            "min_width": null,
            "object_fit": null,
            "object_position": null,
            "order": null,
            "overflow": null,
            "overflow_x": null,
            "overflow_y": null,
            "padding": null,
            "right": null,
            "top": null,
            "visibility": null,
            "width": null
          }
        },
        "71f91b533b68458da3a168a1248bdb16": {
          "model_module": "@jupyter-widgets/base",
          "model_module_version": "1.2.0",
          "model_name": "LayoutModel",
          "state": {
            "_model_module": "@jupyter-widgets/base",
            "_model_module_version": "1.2.0",
            "_model_name": "LayoutModel",
            "_view_count": null,
            "_view_module": "@jupyter-widgets/base",
            "_view_module_version": "1.2.0",
            "_view_name": "LayoutView",
            "align_content": null,
            "align_items": null,
            "align_self": null,
            "border": null,
            "bottom": null,
            "display": null,
            "flex": null,
            "flex_flow": null,
            "grid_area": null,
            "grid_auto_columns": null,
            "grid_auto_flow": null,
            "grid_auto_rows": null,
            "grid_column": null,
            "grid_gap": null,
            "grid_row": null,
            "grid_template_areas": null,
            "grid_template_columns": null,
            "grid_template_rows": null,
            "height": null,
            "justify_content": null,
            "justify_items": null,
            "left": null,
            "margin": null,
            "max_height": null,
            "max_width": null,
            "min_height": null,
            "min_width": null,
            "object_fit": null,
            "object_position": null,
            "order": null,
            "overflow": null,
            "overflow_x": null,
            "overflow_y": null,
            "padding": null,
            "right": null,
            "top": null,
            "visibility": null,
            "width": null
          }
        },
        "77a8b81593f94b60b640f9cb0e3189eb": {
          "model_module": "@jupyter-widgets/controls",
          "model_module_version": "1.5.0",
          "model_name": "HTMLModel",
          "state": {
            "_dom_classes": [],
            "_model_module": "@jupyter-widgets/controls",
            "_model_module_version": "1.5.0",
            "_model_name": "HTMLModel",
            "_view_count": null,
            "_view_module": "@jupyter-widgets/controls",
            "_view_module_version": "1.5.0",
            "_view_name": "HTMLView",
            "description": "",
            "description_tooltip": null,
            "layout": "IPY_MODEL_f7413fd0de674b898583a27b8cce2bcc",
            "placeholder": "​",
            "style": "IPY_MODEL_5014499eedfd4f65ac22c82d30f3e08f",
            "value": " 1.67k/1.67k [00:00&lt;00:00, 55.8kB/s]"
          }
        },
        "7d79597dc516498293b5e870e33964b5": {
          "model_module": "@jupyter-widgets/controls",
          "model_module_version": "1.5.0",
          "model_name": "HTMLModel",
          "state": {
            "_dom_classes": [],
            "_model_module": "@jupyter-widgets/controls",
            "_model_module_version": "1.5.0",
            "_model_name": "HTMLModel",
            "_view_count": null,
            "_view_module": "@jupyter-widgets/controls",
            "_view_module_version": "1.5.0",
            "_view_name": "HTMLView",
            "description": "",
            "description_tooltip": null,
            "layout": "IPY_MODEL_aead0d460cf240358ceea8f407ccec14",
            "placeholder": "​",
            "style": "IPY_MODEL_a2e30d6eaaef4f669cc48c8605535d21",
            "value": "Generating train split: "
          }
        },
        "7f342856a73840ce8f9c0f9303efe89a": {
          "model_module": "@jupyter-widgets/controls",
          "model_module_version": "1.5.0",
          "model_name": "ProgressStyleModel",
          "state": {
            "_model_module": "@jupyter-widgets/controls",
            "_model_module_version": "1.5.0",
            "_model_name": "ProgressStyleModel",
            "_view_count": null,
            "_view_module": "@jupyter-widgets/base",
            "_view_module_version": "1.2.0",
            "_view_name": "StyleView",
            "bar_color": null,
            "description_width": ""
          }
        },
        "83287657d1ff43ab8936d3e77c077394": {
          "model_module": "@jupyter-widgets/controls",
          "model_module_version": "1.5.0",
          "model_name": "HTMLModel",
          "state": {
            "_dom_classes": [],
            "_model_module": "@jupyter-widgets/controls",
            "_model_module_version": "1.5.0",
            "_model_name": "HTMLModel",
            "_view_count": null,
            "_view_module": "@jupyter-widgets/controls",
            "_view_module_version": "1.5.0",
            "_view_name": "HTMLView",
            "description": "",
            "description_tooltip": null,
            "layout": "IPY_MODEL_648c8bfa283d4f1bb14cb90e51b87918",
            "placeholder": "​",
            "style": "IPY_MODEL_d2972e2c441e4bb3b27585c3584a6fba",
            "value": "Downloading builder script: 100%"
          }
        },
        "8806a9d36e174d239bed77837ddbd975": {
          "model_module": "@jupyter-widgets/controls",
          "model_module_version": "1.5.0",
          "model_name": "DescriptionStyleModel",
          "state": {
            "_model_module": "@jupyter-widgets/controls",
            "_model_module_version": "1.5.0",
            "_model_name": "DescriptionStyleModel",
            "_view_count": null,
            "_view_module": "@jupyter-widgets/base",
            "_view_module_version": "1.2.0",
            "_view_name": "StyleView",
            "description_width": ""
          }
        },
        "90ecab1866994c02a29a44e77922aab7": {
          "model_module": "@jupyter-widgets/controls",
          "model_module_version": "1.5.0",
          "model_name": "ProgressStyleModel",
          "state": {
            "_model_module": "@jupyter-widgets/controls",
            "_model_module_version": "1.5.0",
            "_model_name": "ProgressStyleModel",
            "_view_count": null,
            "_view_module": "@jupyter-widgets/base",
            "_view_module_version": "1.2.0",
            "_view_name": "StyleView",
            "bar_color": null,
            "description_width": ""
          }
        },
        "9f21f14b0e324657bcec5acb6f02e875": {
          "model_module": "@jupyter-widgets/controls",
          "model_module_version": "1.5.0",
          "model_name": "HBoxModel",
          "state": {
            "_dom_classes": [],
            "_model_module": "@jupyter-widgets/controls",
            "_model_module_version": "1.5.0",
            "_model_name": "HBoxModel",
            "_view_count": null,
            "_view_module": "@jupyter-widgets/controls",
            "_view_module_version": "1.5.0",
            "_view_name": "HBoxView",
            "box_style": "",
            "children": [
              "IPY_MODEL_7d79597dc516498293b5e870e33964b5",
              "IPY_MODEL_41bbab9ecad346df9d32025cb8801d79",
              "IPY_MODEL_ee39f2fb2bf4486983bb20203b5f637f"
            ],
            "layout": "IPY_MODEL_3747b23805c942e2a51ee9e2d25c506e"
          }
        },
        "a2e30d6eaaef4f669cc48c8605535d21": {
          "model_module": "@jupyter-widgets/controls",
          "model_module_version": "1.5.0",
          "model_name": "DescriptionStyleModel",
          "state": {
            "_model_module": "@jupyter-widgets/controls",
            "_model_module_version": "1.5.0",
            "_model_name": "DescriptionStyleModel",
            "_view_count": null,
            "_view_module": "@jupyter-widgets/base",
            "_view_module_version": "1.2.0",
            "_view_name": "StyleView",
            "description_width": ""
          }
        },
        "aead0d460cf240358ceea8f407ccec14": {
          "model_module": "@jupyter-widgets/base",
          "model_module_version": "1.2.0",
          "model_name": "LayoutModel",
          "state": {
            "_model_module": "@jupyter-widgets/base",
            "_model_module_version": "1.2.0",
            "_model_name": "LayoutModel",
            "_view_count": null,
            "_view_module": "@jupyter-widgets/base",
            "_view_module_version": "1.2.0",
            "_view_name": "LayoutView",
            "align_content": null,
            "align_items": null,
            "align_self": null,
            "border": null,
            "bottom": null,
            "display": null,
            "flex": null,
            "flex_flow": null,
            "grid_area": null,
            "grid_auto_columns": null,
            "grid_auto_flow": null,
            "grid_auto_rows": null,
            "grid_column": null,
            "grid_gap": null,
            "grid_row": null,
            "grid_template_areas": null,
            "grid_template_columns": null,
            "grid_template_rows": null,
            "height": null,
            "justify_content": null,
            "justify_items": null,
            "left": null,
            "margin": null,
            "max_height": null,
            "max_width": null,
            "min_height": null,
            "min_width": null,
            "object_fit": null,
            "object_position": null,
            "order": null,
            "overflow": null,
            "overflow_x": null,
            "overflow_y": null,
            "padding": null,
            "right": null,
            "top": null,
            "visibility": null,
            "width": null
          }
        },
        "b05826ee1d2046ee8c8b53b0bc38056e": {
          "model_module": "@jupyter-widgets/controls",
          "model_module_version": "1.5.0",
          "model_name": "HTMLModel",
          "state": {
            "_dom_classes": [],
            "_model_module": "@jupyter-widgets/controls",
            "_model_module_version": "1.5.0",
            "_model_name": "HTMLModel",
            "_view_count": null,
            "_view_module": "@jupyter-widgets/controls",
            "_view_module_version": "1.5.0",
            "_view_name": "HTMLView",
            "description": "",
            "description_tooltip": null,
            "layout": "IPY_MODEL_0bc74e47fe4547a081ac9003d4fda646",
            "placeholder": "​",
            "style": "IPY_MODEL_fba1f6627f574266a680d6074fd076e8",
            "value": " 30000/0 [00:01&lt;00:00, 30907.08 examples/s]"
          }
        },
        "c1095c3fb0bd4cf1a7d8326a1c1993dd": {
          "model_module": "@jupyter-widgets/base",
          "model_module_version": "1.2.0",
          "model_name": "LayoutModel",
          "state": {
            "_model_module": "@jupyter-widgets/base",
            "_model_module_version": "1.2.0",
            "_model_name": "LayoutModel",
            "_view_count": null,
            "_view_module": "@jupyter-widgets/base",
            "_view_module_version": "1.2.0",
            "_view_name": "LayoutView",
            "align_content": null,
            "align_items": null,
            "align_self": null,
            "border": null,
            "bottom": null,
            "display": null,
            "flex": null,
            "flex_flow": null,
            "grid_area": null,
            "grid_auto_columns": null,
            "grid_auto_flow": null,
            "grid_auto_rows": null,
            "grid_column": null,
            "grid_gap": null,
            "grid_row": null,
            "grid_template_areas": null,
            "grid_template_columns": null,
            "grid_template_rows": null,
            "height": null,
            "justify_content": null,
            "justify_items": null,
            "left": null,
            "margin": null,
            "max_height": null,
            "max_width": null,
            "min_height": null,
            "min_width": null,
            "object_fit": null,
            "object_position": null,
            "order": null,
            "overflow": null,
            "overflow_x": null,
            "overflow_y": null,
            "padding": null,
            "right": null,
            "top": null,
            "visibility": null,
            "width": null
          }
        },
        "c6c0f7f2db854ea48e239a18fe7a3b7d": {
          "model_module": "@jupyter-widgets/base",
          "model_module_version": "1.2.0",
          "model_name": "LayoutModel",
          "state": {
            "_model_module": "@jupyter-widgets/base",
            "_model_module_version": "1.2.0",
            "_model_name": "LayoutModel",
            "_view_count": null,
            "_view_module": "@jupyter-widgets/base",
            "_view_module_version": "1.2.0",
            "_view_name": "LayoutView",
            "align_content": null,
            "align_items": null,
            "align_self": null,
            "border": null,
            "bottom": null,
            "display": null,
            "flex": null,
            "flex_flow": null,
            "grid_area": null,
            "grid_auto_columns": null,
            "grid_auto_flow": null,
            "grid_auto_rows": null,
            "grid_column": null,
            "grid_gap": null,
            "grid_row": null,
            "grid_template_areas": null,
            "grid_template_columns": null,
            "grid_template_rows": null,
            "height": null,
            "justify_content": null,
            "justify_items": null,
            "left": null,
            "margin": null,
            "max_height": null,
            "max_width": null,
            "min_height": null,
            "min_width": null,
            "object_fit": null,
            "object_position": null,
            "order": null,
            "overflow": null,
            "overflow_x": null,
            "overflow_y": null,
            "padding": null,
            "right": null,
            "top": null,
            "visibility": null,
            "width": "20px"
          }
        },
        "caede7699f464230a1050e7c4110ef58": {
          "model_module": "@jupyter-widgets/controls",
          "model_module_version": "1.5.0",
          "model_name": "DescriptionStyleModel",
          "state": {
            "_model_module": "@jupyter-widgets/controls",
            "_model_module_version": "1.5.0",
            "_model_name": "DescriptionStyleModel",
            "_view_count": null,
            "_view_module": "@jupyter-widgets/base",
            "_view_module_version": "1.2.0",
            "_view_name": "StyleView",
            "description_width": ""
          }
        },
        "d04cf122408041c2af2bedff154052a9": {
          "model_module": "@jupyter-widgets/controls",
          "model_module_version": "1.5.0",
          "model_name": "FloatProgressModel",
          "state": {
            "_dom_classes": [],
            "_model_module": "@jupyter-widgets/controls",
            "_model_module_version": "1.5.0",
            "_model_name": "FloatProgressModel",
            "_view_count": null,
            "_view_module": "@jupyter-widgets/controls",
            "_view_module_version": "1.5.0",
            "_view_name": "ProgressView",
            "bar_style": "success",
            "description": "",
            "description_tooltip": null,
            "layout": "IPY_MODEL_3b9efd82f9914d44bebfedd04dcac5d8",
            "max": 1666,
            "min": 0,
            "orientation": "horizontal",
            "style": "IPY_MODEL_0cb8c426acc34f5eaba0dab38c76fdfa",
            "value": 1666
          }
        },
        "d2972e2c441e4bb3b27585c3584a6fba": {
          "model_module": "@jupyter-widgets/controls",
          "model_module_version": "1.5.0",
          "model_name": "DescriptionStyleModel",
          "state": {
            "_model_module": "@jupyter-widgets/controls",
            "_model_module_version": "1.5.0",
            "_model_name": "DescriptionStyleModel",
            "_view_count": null,
            "_view_module": "@jupyter-widgets/base",
            "_view_module_version": "1.2.0",
            "_view_name": "StyleView",
            "description_width": ""
          }
        },
        "e332c44f26b24feb96fb027f3c2f3100": {
          "model_module": "@jupyter-widgets/base",
          "model_module_version": "1.2.0",
          "model_name": "LayoutModel",
          "state": {
            "_model_module": "@jupyter-widgets/base",
            "_model_module_version": "1.2.0",
            "_model_name": "LayoutModel",
            "_view_count": null,
            "_view_module": "@jupyter-widgets/base",
            "_view_module_version": "1.2.0",
            "_view_name": "LayoutView",
            "align_content": null,
            "align_items": null,
            "align_self": null,
            "border": null,
            "bottom": null,
            "display": null,
            "flex": null,
            "flex_flow": null,
            "grid_area": null,
            "grid_auto_columns": null,
            "grid_auto_flow": null,
            "grid_auto_rows": null,
            "grid_column": null,
            "grid_gap": null,
            "grid_row": null,
            "grid_template_areas": null,
            "grid_template_columns": null,
            "grid_template_rows": null,
            "height": null,
            "justify_content": null,
            "justify_items": null,
            "left": null,
            "margin": null,
            "max_height": null,
            "max_width": null,
            "min_height": null,
            "min_width": null,
            "object_fit": null,
            "object_position": null,
            "order": null,
            "overflow": null,
            "overflow_x": null,
            "overflow_y": null,
            "padding": null,
            "right": null,
            "top": null,
            "visibility": null,
            "width": null
          }
        },
        "ee39f2fb2bf4486983bb20203b5f637f": {
          "model_module": "@jupyter-widgets/controls",
          "model_module_version": "1.5.0",
          "model_name": "HTMLModel",
          "state": {
            "_dom_classes": [],
            "_model_module": "@jupyter-widgets/controls",
            "_model_module_version": "1.5.0",
            "_model_name": "HTMLModel",
            "_view_count": null,
            "_view_module": "@jupyter-widgets/controls",
            "_view_module_version": "1.5.0",
            "_view_name": "HTMLView",
            "description": "",
            "description_tooltip": null,
            "layout": "IPY_MODEL_228164d99ba04770b8c5dc99a4408d22",
            "placeholder": "​",
            "style": "IPY_MODEL_caede7699f464230a1050e7c4110ef58",
            "value": " 70000/0 [00:02&lt;00:00, 27886.36 examples/s]"
          }
        },
        "f4d23ec2861a4a2d9721734a2d105033": {
          "model_module": "@jupyter-widgets/controls",
          "model_module_version": "1.5.0",
          "model_name": "DescriptionStyleModel",
          "state": {
            "_model_module": "@jupyter-widgets/controls",
            "_model_module_version": "1.5.0",
            "_model_name": "DescriptionStyleModel",
            "_view_count": null,
            "_view_module": "@jupyter-widgets/base",
            "_view_module_version": "1.2.0",
            "_view_name": "StyleView",
            "description_width": ""
          }
        },
        "f7413fd0de674b898583a27b8cce2bcc": {
          "model_module": "@jupyter-widgets/base",
          "model_module_version": "1.2.0",
          "model_name": "LayoutModel",
          "state": {
            "_model_module": "@jupyter-widgets/base",
            "_model_module_version": "1.2.0",
            "_model_name": "LayoutModel",
            "_view_count": null,
            "_view_module": "@jupyter-widgets/base",
            "_view_module_version": "1.2.0",
            "_view_name": "LayoutView",
            "align_content": null,
            "align_items": null,
            "align_self": null,
            "border": null,
            "bottom": null,
            "display": null,
            "flex": null,
            "flex_flow": null,
            "grid_area": null,
            "grid_auto_columns": null,
            "grid_auto_flow": null,
            "grid_auto_rows": null,
            "grid_column": null,
            "grid_gap": null,
            "grid_row": null,
            "grid_template_areas": null,
            "grid_template_columns": null,
            "grid_template_rows": null,
            "height": null,
            "justify_content": null,
            "justify_items": null,
            "left": null,
            "margin": null,
            "max_height": null,
            "max_width": null,
            "min_height": null,
            "min_width": null,
            "object_fit": null,
            "object_position": null,
            "order": null,
            "overflow": null,
            "overflow_x": null,
            "overflow_y": null,
            "padding": null,
            "right": null,
            "top": null,
            "visibility": null,
            "width": null
          }
        },
        "fba1f6627f574266a680d6074fd076e8": {
          "model_module": "@jupyter-widgets/controls",
          "model_module_version": "1.5.0",
          "model_name": "DescriptionStyleModel",
          "state": {
            "_model_module": "@jupyter-widgets/controls",
            "_model_module_version": "1.5.0",
            "_model_name": "DescriptionStyleModel",
            "_view_count": null,
            "_view_module": "@jupyter-widgets/base",
            "_view_module_version": "1.2.0",
            "_view_name": "StyleView",
            "description_width": ""
          }
        }
      }
    }
  },
  "nbformat": 4,
  "nbformat_minor": 0
}
