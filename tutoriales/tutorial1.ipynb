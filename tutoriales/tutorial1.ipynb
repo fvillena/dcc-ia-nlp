{
  "cells": [
    {
      "cell_type": "markdown",
      "id": "71d1c66f",
      "metadata": {
        "id": "71d1c66f"
      },
      "source": [
        "# Tutorial 1: Como trabajar con archivos de Texto.\n",
        "\n",
        "##### <strong>Manejo archivos y Pandas </strong>\n",
        "\n",
        "### Cuerpo Docente\n",
        "\n",
        "- Profesores: [Andrés Abeliuk](https://aabeliuk.github.io/), [Fabian Villena](https://fabianvillena.cl/).\n",
        "- Profesor Auxiliar: María José Zambrano\n",
        "\n",
        "\n",
        "### Objetivos del Tutorial\n",
        "\n",
        "- Que es Google Colab.\n",
        "- Que es Python y como descargarlo.\n",
        "- Entender como trabajar con archivos en Python, tanto de su versión nativa como con ```Pandas```.\n",
        "- Entender como trabajar texto desde ```Pandas```.\n",
        "- Entender como utilizar expresiones regulares."
      ]
    },
    {
      "cell_type": "markdown",
      "id": "79c3f72a",
      "metadata": {
        "id": "79c3f72a"
      },
      "source": [
        "### Introducción a Colab\n",
        "\n",
        "Google Colab es una herramienta para la enseñanza e investigación de Machine Learning. Es un entorno de Jupyter notebook que no requiere configuración para su uso. Colab ofrece un servicio gratuito de GPU en la nube alojado por Google para alentar la colaboración en el campo de Machine Learning, sin preocuparse por los requisitos de hardware. Colab fue lanzado al público por Google en octubre de 2017."
      ]
    },
    {
      "cell_type": "markdown",
      "id": "5MVEeDhaIhhm",
      "metadata": {
        "id": "5MVEeDhaIhhm"
      },
      "source": [
        "#### Markdown\n",
        "\n",
        "**Markdown** es un lenguaje de marcado ligero creado por *John Gruber* que trata de conseguir la **máxima legibilidad** y **facilidad** de publicación.\n",
        "\n",
        "Esto es un parrafo, `esto esta en codigo`, **esto esta en negrita**, *esto esta en cursiva*\n",
        "\n",
        "Se puede insertar codigo multilinea tambien.\n",
        "\n",
        "```python\n",
        "print(\"hello world!\")\n",
        "```\n",
        "\n",
        "Se pueden insertar lineas para separar texto\n",
        "\n",
        "---\n",
        "\n",
        "Se pueden insertar tablas!\n",
        "\n",
        "| 0,1       | 0,2  | 0,3  | 0,4   | 0,5     |\n",
        "|-----------|------|------|-------|---------|\n",
        "| 1,1       | 1,2  | 1,3  | 1,4   | 1,5     |\n",
        "| 2,1       | 2,2  | 2,3  | 2,4   | 2,5     |\n",
        "\n",
        "Se puede \"citar\" texto usando cabezas de pescado\n",
        "> Esta es una frase celebre de algun famoso\n",
        ">\n",
        "> -- Albert Einstein\n",
        "\n",
        "Tambien se puede insertar formulas de $\\LaTeX$ dentro del mismo texto: $a = \\frac{e^y\\sqrt{x+2}}{x^2}$. Se puede insertar $\\LaTeX$ en general tambien.\n",
        "\n",
        "\\begin{equation}\n",
        "\\it{CE}(p,q)=\\sum_{x}p(x)\\log \\bigg(\\frac{1}{q(x)}\\bigg)=- \\sum_{x}p(x)\\log q(x)\n",
        "\\end{equation}\n",
        "\n",
        "Tambien se puede escribir `html`.\n",
        "\n",
        "<strong> Esto esta en negrita usando html </strong>\n",
        "\n",
        "Aca dejo mas recursos sobre Markdown, Colab y Jupyter Notebook:\n",
        "* https://help.github.com/en/github/writing-on-github/basic-writing-and-formatting-syntax\n",
        "* https://es.wikipedia.org/wiki/Markdown\n",
        "* https://colab.research.google.com/notebooks/intro.ipynb\n",
        "* https://jupyter.org/\n",
        "* https://nbviewer.jupyter.org/github/ipython/ipython/blob/1.x/examples/notebooks/Cell%20Magics.ipynb"
      ]
    },
    {
      "cell_type": "markdown",
      "id": "_JQrg8D2IjVG",
      "metadata": {
        "id": "_JQrg8D2IjVG"
      },
      "source": [
        "### Introducción a Python\n",
        "\n",
        "\n",
        "<div align='center'>\n",
        "<img src=\"https://raw.githubusercontent.com/MDS7202/MDS7202/main/recursos/2023-01/03-Intro_a_la_programacion_en_python/python_logo.png\" width=400 alt=\"logo\"/>\n",
        "</div>\n",
        "\n",
        "`Python` es un lenguaje de programación multipropósito, enfocado en preservar legibilidad y simpleza sintáctica (_o sea, que sea facil de leer y escribir_).\n",
        "Sus características y principios lo convierten en un lenguaje poderoso y fácil de aprender.\n",
        "\n",
        "Por esta razón, es ampliamente utilizado en ámbitos tales como:\n",
        "\n",
        "- Desarrollo Web,\n",
        "- Data Science,\n",
        "- Scripting,\n",
        "- Software de escritorio,\n",
        "- etc...\n",
        "\n",
        "\n",
        "## ¿Dónde puedo descargar Python?\n",
        "\n",
        "Existe dos opciones para descargar ```Python```, que son:\n",
        "\n",
        "- Descargarlo de la página oficial: https://www.python.org/ Sin embargo, desde la página oficial sólo se descarga la versión estándar con librerías nativas.\n",
        "\n",
        "- Descargarlo desde la página de Anaconda: https://www.anaconda.com/ Esta versión viene con muchas librerías que utilizaremos durante el curso, por lo que es la opción más recomendada."
      ]
    },
    {
      "cell_type": "markdown",
      "id": "kVq75BC_Ilum",
      "metadata": {
        "id": "kVq75BC_Ilum"
      },
      "source": [
        "## Trabajando con Archivos en Python\n",
        "\n",
        "### Importar csv o txt\n",
        "\n",
        "#### Encoding\n",
        "\n",
        "* UTF-8: 'utf-8' es el encoding predeterminado en Pandas y es ampliamente utilizado para archivos CSV. Es compatible con una amplia gama de caracteres y es recomendado si no estás seguro del encoding del archivo.\n",
        "\n",
        "* Latin-1 (ISO 8859-1): 'latin-1' es otro encoding común utilizado en archivos CSV generados por aplicaciones en entornos Windows. Es compatible con una gran cantidad de idiomas europeos.\n",
        "\n",
        "* UTF-16: 'utf-16' es un encoding de Unicode que utiliza 16 bits para representar los caracteres. Es útil cuando se trabaja con idiomas que tienen una gran cantidad de caracteres, como algunos idiomas asiáticos.\n",
        "\n",
        "* UTF-32: 'utf-32' es un encoding de Unicode que utiliza 32 bits para representar los caracteres. Al igual que UTF-16, es útil para idiomas con una gran cantidad de caracteres.\n",
        "\n",
        "* ASCII: 'ascii' es un encoding básico que solo admite caracteres en inglés y no es compatible con caracteres acentuados u otros caracteres especiales."
      ]
    },
    {
      "cell_type": "markdown",
      "id": "gC-H3CJfInw-",
      "metadata": {
        "id": "gC-H3CJfInw-"
      },
      "source": [
        "### Cargar archivos con la función ```open```"
      ]
    },
    {
      "cell_type": "code",
      "execution_count": null,
      "id": "XjeCD4WAInLa",
      "metadata": {
        "id": "XjeCD4WAInLa"
      },
      "outputs": [],
      "source": [
        "import csv\n",
        "import pandas as pd"
      ]
    },
    {
      "cell_type": "markdown",
      "id": "f33c9dd5",
      "metadata": {
        "id": "f33c9dd5"
      },
      "source": [
        "l%%43*sinea"
      ]
    },
    {
      "cell_type": "code",
      "execution_count": null,
      "id": "mVum3opMIp0N",
      "metadata": {
        "colab": {
          "base_uri": "https://localhost:8080/"
        },
        "id": "mVum3opMIp0N",
        "outputId": "b11aa4ec-915a-4da3-f979-466ceef225d1"
      },
      "outputs": [],
      "source": [
        "i=0\n",
        "with open('./go_emotions_dataset.csv', 'r', encoding='utf-8') as file:\n",
        "  csvreader = csv.reader(file, delimiter=',')\n",
        "  for row in csvreader:\n",
        "    print(row[1])\n",
        "    i+=1\n",
        "    if i==5:\n",
        "      break"
      ]
    },
    {
      "cell_type": "code",
      "execution_count": null,
      "id": "A5aaefxQIvNB",
      "metadata": {
        "colab": {
          "base_uri": "https://localhost:8080/"
        },
        "id": "A5aaefxQIvNB",
        "outputId": "7a3e920c-ec79-4d85-afd1-ea5418fa08d5"
      },
      "outputs": [],
      "source": [
        "i=0\n",
        "with open('./go_emotions_dataset.csv', 'r', encoding='latin-1') as file:\n",
        "  csvreader = csv.reader(file, delimiter=',')\n",
        "  for row in csvreader:\n",
        "    print(row[1])\n",
        "    i+=1\n",
        "    if i==5:\n",
        "      break"
      ]
    },
    {
      "cell_type": "markdown",
      "id": "1azCJVjYIzpz",
      "metadata": {
        "id": "1azCJVjYIzpz"
      },
      "source": [
        "### Cargar archivos con la función ```pandas```"
      ]
    },
    {
      "cell_type": "code",
      "execution_count": null,
      "id": "8bf53905",
      "metadata": {
        "colab": {
          "base_uri": "https://localhost:8080/",
          "height": 585
        },
        "id": "8bf53905",
        "outputId": "08ba3d0b-8e57-44ac-994c-19fdf258f051"
      },
      "outputs": [],
      "source": [
        "### Cargar arhivos con ```pandas```\n",
        "\n",
        "df = pd.read_csv('./go_emotions_dataset.csv')\n",
        "df.head()"
      ]
    },
    {
      "cell_type": "markdown",
      "id": "2c123865-d443-4f5a-8ca9-1fc95c8adf05",
      "metadata": {
        "id": "2c123865-d443-4f5a-8ca9-1fc95c8adf05"
      },
      "source": [
        "## Strings\n",
        "\n",
        "### Motivación\n",
        "\n",
        "<div align='center'>\n",
        "<img src='https://raw.githubusercontent.com/MDS7202/MDS7202/main/recursos/2023-01/11-Pandas4/pets.jpg' alt='Mascotas' width=600/>\n",
        "</div>\n",
        "\n",
        "Supongamos que poseemos un dataset generado a partir de [_web scrapping_](https://es.wikipedia.org/wiki/Web_scraping) que contiene el nombre de una mascota más el resumen (_abstract_) de la página asociada a estos en Wikipedia.\n"
      ]
    },
    {
      "cell_type": "code",
      "execution_count": null,
      "id": "78705029-f252-45a5-b9cf-3994f06ce16f",
      "metadata": {
        "colab": {
          "base_uri": "https://localhost:8080/",
          "height": 143
        },
        "id": "78705029-f252-45a5-b9cf-3994f06ce16f",
        "outputId": "babd5e70-e30c-4744-f323-025aa3322570"
      },
      "outputs": [],
      "source": [
        "mascotas = [\n",
        "    [\n",
        "        \"Perro\",\n",
        "        \"  El perro (Canis familiaris o Canis lupus familiaris, dependiendo de si \"\n",
        "        \"se lo considera una especie por derecho propio o una subespecie del \"\n",
        "        \"lobo),1​2​3​ llamado perro doméstico o can,4​ y en algunos lugares\"\n",
        "        \" coloquialmente llamado chucho,5​ tuso,6​ choco,7​ entre otros; es un \"\n",
        "        \"mamífero carnívoro de la familia de los cánidos, que constituye \"\n",
        "        \"una especie del género Canis.8​9​. Posee un oído y un olfato muy \"\n",
        "        \"desarrollados, y este último es su principal órgano sensorial.  \\n\"\n",
        "        ],\n",
        "    [\n",
        "        \"Gato\",\n",
        "        \"  El gato doméstico1​2​ (Felis silvestris catus), llamado popularmente \"\n",
        "        \"gato, y de forma coloquial minino,3​ michino,4​ michi,5​ micho,\"\n",
        "        \"6​ mizo,7​ miz,8​ morroño9​ o morrongo,10​ entre otros nombres, es \"\n",
        "        \"un mamífero carnívoro de la familia Felidae. Es una subespecie \"\n",
        "        \"domesticada por la convivencia con el ser humano.  \\n\"\n",
        "    ],\n",
        "    [\n",
        "        \"Canario\",\n",
        "        \"  El canario doméstico (Serinus canaria domestica)3​4​ es una \"\n",
        "        \"subespecie desarrollada durante siglos de selección en cautividad \"\n",
        "        \"partiendo de ejemplares del canario silvestre o canario salvaje \"\n",
        "        \"(Serinus canaria), una especie de ave del orden paseriforme de \"\n",
        "        \"la familia de los fringílidos, endémica de las islas Canarias, \"\n",
        "        \"Azores y Madeira.5​6​   \\n\"\n",
        "    ],\n",
        "]\n",
        "\n",
        "df_mascotas = pd.DataFrame(mascotas, columns=[\"nombre\", \"resumen\"])\n",
        "df_mascotas"
      ]
    },
    {
      "cell_type": "markdown",
      "id": "c2ed65f7-474d-400e-877d-2e40ffd43be4",
      "metadata": {
        "id": "c2ed65f7-474d-400e-877d-2e40ffd43be4"
      },
      "source": [
        "Notemos qué sucede al acceder al resumen del Perro."
      ]
    },
    {
      "cell_type": "code",
      "execution_count": null,
      "id": "77939c0c-ed30-46cf-bcd2-ab9a7ca6cff5",
      "metadata": {
        "colab": {
          "base_uri": "https://localhost:8080/",
          "height": 70
        },
        "id": "77939c0c-ed30-46cf-bcd2-ab9a7ca6cff5",
        "outputId": "c676ff92-6579-43f3-c16c-9f2fdaeaf06a"
      },
      "outputs": [],
      "source": [
        "resumen_perro = df_mascotas.loc[0, \"resumen\"]\n",
        "resumen_perro\n",
        "\n"
      ]
    },
    {
      "cell_type": "code",
      "execution_count": null,
      "id": "38478960",
      "metadata": {
        "colab": {
          "base_uri": "https://localhost:8080/",
          "height": 178
        },
        "id": "38478960",
        "outputId": "81b8886d-20eb-4b38-b848-f1bd62b23a67"
      },
      "outputs": [],
      "source": [
        "df_mascotas[\"resumen\"]"
      ]
    },
    {
      "cell_type": "markdown",
      "id": "9a248158-e72d-428e-8c0f-7195c7f03042",
      "metadata": {
        "id": "9a248158-e72d-428e-8c0f-7195c7f03042"
      },
      "source": [
        "> **Pregunta ❓**: ¿Qué representa el símbolo `\\n`?"
      ]
    },
    {
      "cell_type": "markdown",
      "id": "b1aeff83-dcde-4f54-bd9d-b09522c4d2e3",
      "metadata": {
        "id": "b1aeff83-dcde-4f54-bd9d-b09522c4d2e3"
      },
      "source": [
        "> **Pregunta ❓:** ¿Podemos utilizar directamente el texto tal cuál está, por ejemplo, para hacer un buscador? ¿Qué podemos hacer al respecto?"
      ]
    },
    {
      "cell_type": "markdown",
      "id": "cabf8b6a",
      "metadata": {
        "id": "cabf8b6a"
      },
      "source": [
        "En muchas ocasiones, los conjuntos de datos que se utilizan en análisis de datos incluyen una columna que contiene texto. Sin embargo, este texto no siempre está listo para ser utilizado directamente, ya que puede presentarse de manera desordenada y con errores. Por esta razón, es de suma importancia aprender a preprocesar el texto antes de utilizarlo en análisis posteriores.\n",
        "\n",
        "\n",
        "Las `Series` de pandas implementan diversos métodos de procesamiento de string que permiten operar facilmente con estos. Por lo general, estos métodos son una réplica de los métodos originales de la clase built-in `string`, los cuales veremos a continuación:"
      ]
    },
    {
      "cell_type": "markdown",
      "id": "388719ff",
      "metadata": {
        "id": "388719ff"
      },
      "source": [
        "### Métodos de la Clase String\n",
        "\n",
        "Python cuenta con una variedad de métodos built-in para procesar strings. Algunos de los métodos más comunes son:"
      ]
    },
    {
      "cell_type": "code",
      "execution_count": null,
      "id": "c4814288-36f1-495b-93f8-072b7beb5c3f",
      "metadata": {
        "colab": {
          "base_uri": "https://localhost:8080/",
          "height": 70
        },
        "id": "c4814288-36f1-495b-93f8-072b7beb5c3f",
        "outputId": "e0388370-5486-46c4-c0bd-e93c5f7ce8d4"
      },
      "outputs": [],
      "source": [
        "resumen_perro"
      ]
    },
    {
      "cell_type": "markdown",
      "id": "5f0b2808-5b49-4629-9430-c505dba344e0",
      "metadata": {
        "id": "5f0b2808-5b49-4629-9430-c505dba344e0"
      },
      "source": [
        "#### `len`\n",
        "\n",
        "Devuelve la longitud de una cadena de caracteres"
      ]
    },
    {
      "cell_type": "code",
      "execution_count": null,
      "id": "95e61cff",
      "metadata": {
        "colab": {
          "base_uri": "https://localhost:8080/"
        },
        "id": "95e61cff",
        "outputId": "616bf105-cbf7-45af-ef07-f892b84682eb"
      },
      "outputs": [],
      "source": [
        "len(resumen_perro)"
      ]
    },
    {
      "cell_type": "code",
      "execution_count": null,
      "id": "08232c00",
      "metadata": {
        "colab": {
          "base_uri": "https://localhost:8080/"
        },
        "id": "08232c00",
        "outputId": "4e57f7cc-1034-4b6c-9073-237bd8e1f988"
      },
      "outputs": [],
      "source": [
        "len(\"   \")"
      ]
    },
    {
      "cell_type": "markdown",
      "id": "90ed8e60-6ae3-4bfe-9e9b-08226b165400",
      "metadata": {
        "id": "90ed8e60-6ae3-4bfe-9e9b-08226b165400"
      },
      "source": [
        "#### `.lower`\n",
        "\n",
        "Convierte todos los caracteres de un string a minúsculas."
      ]
    },
    {
      "cell_type": "code",
      "execution_count": null,
      "id": "b97db599",
      "metadata": {
        "colab": {
          "base_uri": "https://localhost:8080/",
          "height": 70
        },
        "id": "b97db599",
        "outputId": "d775003c-7813-4b11-d46d-6b26c84c66e7"
      },
      "outputs": [],
      "source": [
        "resumen_perro.lower()"
      ]
    },
    {
      "cell_type": "markdown",
      "id": "35fca92c-98e5-4f21-9d6b-d1fcf817e77a",
      "metadata": {
        "id": "35fca92c-98e5-4f21-9d6b-d1fcf817e77a"
      },
      "source": [
        "#### `.upper()`\n",
        "\n",
        "Convierte todos los caracteres de un string a mayúsculas."
      ]
    },
    {
      "cell_type": "code",
      "execution_count": null,
      "id": "c7a687ee",
      "metadata": {
        "colab": {
          "base_uri": "https://localhost:8080/",
          "height": 70
        },
        "id": "c7a687ee",
        "outputId": "d5c6b145-5e60-42d4-d570-b7d23ae79096"
      },
      "outputs": [],
      "source": [
        "resumen_perro.upper()"
      ]
    },
    {
      "cell_type": "markdown",
      "id": "32a42e0b-12b7-4d06-9247-4d8d89224495",
      "metadata": {
        "id": "32a42e0b-12b7-4d06-9247-4d8d89224495"
      },
      "source": [
        "#### `.title()`\n",
        "\n",
        "title(): Convierte la primera letra de cada palabra de una cadena en mayúscula."
      ]
    },
    {
      "cell_type": "code",
      "execution_count": null,
      "id": "0e0ff0b4",
      "metadata": {
        "colab": {
          "base_uri": "https://localhost:8080/",
          "height": 70
        },
        "id": "0e0ff0b4",
        "outputId": "598ffb7f-aa7c-4bb2-dfa5-da9b413cec86"
      },
      "outputs": [],
      "source": [
        "resumen_perro.title()"
      ]
    },
    {
      "cell_type": "markdown",
      "id": "f2d79890-aaa9-456a-a0ed-de1ee75e84b4",
      "metadata": {
        "id": "f2d79890-aaa9-456a-a0ed-de1ee75e84b4"
      },
      "source": [
        "#### `.capitalize()`\n",
        "\n",
        "capitalize(): Convierte la primera letra de una cadena en mayúscula."
      ]
    },
    {
      "cell_type": "code",
      "execution_count": null,
      "id": "6ea4da95-1237-4525-bb6d-f2bd8bdc15d0",
      "metadata": {
        "colab": {
          "base_uri": "https://localhost:8080/",
          "height": 70
        },
        "id": "6ea4da95-1237-4525-bb6d-f2bd8bdc15d0",
        "outputId": "eb8d1cb3-8909-42f0-dad1-9a2ac4afc20d"
      },
      "outputs": [],
      "source": [
        "resumen_perro.capitalize()"
      ]
    },
    {
      "cell_type": "code",
      "execution_count": null,
      "id": "1f94207b",
      "metadata": {
        "colab": {
          "base_uri": "https://localhost:8080/",
          "height": 35
        },
        "id": "1f94207b",
        "outputId": "35b650e7-ed6a-44b8-bb61-2632493a1056"
      },
      "outputs": [],
      "source": [
        "\"hola como estas\".capitalize()\n"
      ]
    },
    {
      "cell_type": "code",
      "execution_count": null,
      "id": "1e4aace2",
      "metadata": {
        "colab": {
          "base_uri": "https://localhost:8080/",
          "height": 35
        },
        "id": "1e4aace2",
        "outputId": "85f5cdd0-a4cc-4fb4-a5ce-30b2023d05b6"
      },
      "outputs": [],
      "source": [
        "'hola como estas'.capitalize()"
      ]
    },
    {
      "cell_type": "markdown",
      "id": "2ca4dec8-3f15-4a93-ba84-e9c98c00105c",
      "metadata": {
        "id": "2ca4dec8-3f15-4a93-ba84-e9c98c00105c"
      },
      "source": [
        "#### `.strip()`\n",
        "\n",
        "Elimina los espacios en blanco al principio y al final de una cadena."
      ]
    },
    {
      "cell_type": "code",
      "execution_count": null,
      "id": "ed0a29a5-81b3-467f-8d68-7fa26deda49c",
      "metadata": {
        "colab": {
          "base_uri": "https://localhost:8080/",
          "height": 70
        },
        "id": "ed0a29a5-81b3-467f-8d68-7fa26deda49c",
        "outputId": "fdcbbebf-0a8b-4788-ef2f-62753b381dab"
      },
      "outputs": [],
      "source": [
        "resumen_perro"
      ]
    },
    {
      "cell_type": "code",
      "execution_count": null,
      "id": "1dac88bd-33b6-4f38-b04b-feb49bb0302c",
      "metadata": {
        "colab": {
          "base_uri": "https://localhost:8080/",
          "height": 70
        },
        "id": "1dac88bd-33b6-4f38-b04b-feb49bb0302c",
        "outputId": "a07560f7-bde7-4670-d160-7be1e2f2add4"
      },
      "outputs": [],
      "source": [
        "resumen_perro.strip()"
      ]
    },
    {
      "cell_type": "code",
      "execution_count": null,
      "id": "ba0a4f69-23d9-4bc2-be16-0dc521af4d9c",
      "metadata": {
        "colab": {
          "base_uri": "https://localhost:8080/",
          "height": 70
        },
        "id": "ba0a4f69-23d9-4bc2-be16-0dc521af4d9c",
        "outputId": "901a7b12-d96e-4c9b-8e5b-cfb1db9bb8d3"
      },
      "outputs": [],
      "source": [
        "# method chaining <-\n",
        "resumen_perro.strip().lower()"
      ]
    },
    {
      "cell_type": "markdown",
      "id": "0c46a0f4-ea63-4175-b135-4b397a243dab",
      "metadata": {
        "id": "0c46a0f4-ea63-4175-b135-4b397a243dab"
      },
      "source": [
        "#### `.split()`\n",
        "\n",
        "Divide una cadena en una lista de substrings, utilizando un string (habitualmente `\" \"`) como separador."
      ]
    },
    {
      "cell_type": "code",
      "execution_count": null,
      "id": "b730510b-e874-478d-8f30-47fc3a846e5b",
      "metadata": {
        "colab": {
          "base_uri": "https://localhost:8080/",
          "height": 70
        },
        "id": "b730510b-e874-478d-8f30-47fc3a846e5b",
        "outputId": "9d54a45f-da40-4699-a871-a5803951a552"
      },
      "outputs": [],
      "source": [
        "resumen_perro"
      ]
    },
    {
      "cell_type": "code",
      "execution_count": null,
      "id": "0c6f6d83",
      "metadata": {
        "colab": {
          "base_uri": "https://localhost:8080/"
        },
        "id": "0c6f6d83",
        "outputId": "3234c18a-de81-4822-9d0e-dd3a41a7f327"
      },
      "outputs": [],
      "source": [
        "resumen_perro.split(\" \")"
      ]
    },
    {
      "cell_type": "code",
      "execution_count": null,
      "id": "f1a5b199-3de1-4814-90fd-cca8aa35fe3c",
      "metadata": {
        "colab": {
          "base_uri": "https://localhost:8080/",
          "height": 70
        },
        "id": "f1a5b199-3de1-4814-90fd-cca8aa35fe3c",
        "outputId": "13cac40d-b0d2-4d54-c79a-0bbc8a76526d"
      },
      "outputs": [],
      "source": [
        "resumen_perro"
      ]
    },
    {
      "cell_type": "code",
      "execution_count": null,
      "id": "18decee6",
      "metadata": {
        "colab": {
          "base_uri": "https://localhost:8080/"
        },
        "id": "18decee6",
        "outputId": "63a75ae5-a008-43a6-c7ed-7020956da5fb"
      },
      "outputs": [],
      "source": [
        "resumen_perro.strip().lower().split(\"perro\")"
      ]
    },
    {
      "cell_type": "code",
      "execution_count": null,
      "id": "J4Dh7p2JsjpE",
      "metadata": {
        "colab": {
          "base_uri": "https://localhost:8080/"
        },
        "id": "J4Dh7p2JsjpE",
        "outputId": "1b58b352-beac-4308-817f-927ed28bde5f"
      },
      "outputs": [],
      "source": [
        "len(resumen_perro.strip().lower().split(\"perro\"))"
      ]
    },
    {
      "cell_type": "markdown",
      "id": "e4863d74-b250-4cc0-9b01-0917ba85d98a",
      "metadata": {
        "id": "e4863d74-b250-4cc0-9b01-0917ba85d98a"
      },
      "source": [
        "> **Pregunta: ❓**: ¿Cómo podría separar oraciones?"
      ]
    },
    {
      "cell_type": "code",
      "execution_count": null,
      "id": "ab4d45c4-a8f7-47d1-839d-c996a194ab29",
      "metadata": {
        "colab": {
          "base_uri": "https://localhost:8080/"
        },
        "id": "ab4d45c4-a8f7-47d1-839d-c996a194ab29",
        "outputId": "87bf8f47-1f29-4ec7-f222-fa67242d3a3e"
      },
      "outputs": [],
      "source": [
        "oraciones_divididas = resumen_perro.split(\".\")\n",
        "oraciones_divididas"
      ]
    },
    {
      "cell_type": "code",
      "execution_count": null,
      "id": "0a20ab59-6fa5-4fd4-9025-55c36df1490f",
      "metadata": {
        "colab": {
          "base_uri": "https://localhost:8080/"
        },
        "id": "0a20ab59-6fa5-4fd4-9025-55c36df1490f",
        "outputId": "192d7b49-9d6a-4825-9298-d01feefdcf40"
      },
      "outputs": [],
      "source": [
        "for oracion in oraciones_divididas:\n",
        "    if len(oracion) > 10:\n",
        "        print(oracion.strip().capitalize(), '\\n')"
      ]
    },
    {
      "cell_type": "markdown",
      "id": "1d02613d-a36f-4d92-9b25-06ac0e79e9ca",
      "metadata": {
        "id": "1d02613d-a36f-4d92-9b25-06ac0e79e9ca"
      },
      "source": [
        "#### `join(\"\")`\n",
        "\n",
        "Une una lista de strings en un único string según algún separador (comunmente un espacio `\" \"`, punto `\".\"` o salto e linea `\"\\n\"`)."
      ]
    },
    {
      "cell_type": "code",
      "execution_count": null,
      "id": "fa3f7ef8",
      "metadata": {
        "colab": {
          "base_uri": "https://localhost:8080/",
          "height": 70
        },
        "id": "fa3f7ef8",
        "outputId": "6a04bee2-55bb-4065-b637-f706db6860ed"
      },
      "outputs": [],
      "source": [
        "\"$\".join(resumen_perro.split(\" \"))"
      ]
    },
    {
      "cell_type": "code",
      "execution_count": null,
      "id": "431d8d41",
      "metadata": {
        "colab": {
          "base_uri": "https://localhost:8080/"
        },
        "id": "431d8d41",
        "outputId": "51d112fe-5bc1-4642-c47f-b95cd137c259"
      },
      "outputs": [],
      "source": [
        "resumen_perro.split(\" \")"
      ]
    },
    {
      "cell_type": "markdown",
      "id": "b58d5a27-efe9-464a-8560-686ece58e100",
      "metadata": {
        "id": "b58d5a27-efe9-464a-8560-686ece58e100"
      },
      "source": [
        "#### `str1 in str2`\n",
        "\n",
        "Devuelve True si un substring está presente en un string."
      ]
    },
    {
      "cell_type": "code",
      "execution_count": null,
      "id": "8b08012a-0ad5-4e6a-b64a-1d447501b683",
      "metadata": {
        "colab": {
          "base_uri": "https://localhost:8080/",
          "height": 70
        },
        "id": "8b08012a-0ad5-4e6a-b64a-1d447501b683",
        "outputId": "5ac6bbcc-be90-44a8-954e-091f5430ab20"
      },
      "outputs": [],
      "source": [
        "resumen_perro"
      ]
    },
    {
      "cell_type": "code",
      "execution_count": null,
      "id": "4d4843eb",
      "metadata": {
        "colab": {
          "base_uri": "https://localhost:8080/"
        },
        "id": "4d4843eb",
        "outputId": "51084e64-5f6f-40a3-924d-b09c25425eab"
      },
      "outputs": [],
      "source": [
        "\"perro\" in resumen_perro"
      ]
    },
    {
      "cell_type": "code",
      "execution_count": null,
      "id": "e298012d",
      "metadata": {
        "colab": {
          "base_uri": "https://localhost:8080/"
        },
        "id": "e298012d",
        "outputId": "2fa37287-5e86-4a47-84e5-b5bc9548ce86"
      },
      "outputs": [],
      "source": [
        "\"gato\" in resumen_perro"
      ]
    },
    {
      "cell_type": "markdown",
      "id": "0a3bfe8e-2482-4969-a6cf-4b577d660828",
      "metadata": {
        "id": "0a3bfe8e-2482-4969-a6cf-4b577d660828"
      },
      "source": [
        "#### `.replace()`\n",
        "\n",
        "Reemplaza un substring con otro en una string."
      ]
    },
    {
      "cell_type": "code",
      "execution_count": null,
      "id": "786f7abb-259f-4236-9cb9-9b065574c996",
      "metadata": {
        "colab": {
          "base_uri": "https://localhost:8080/",
          "height": 70
        },
        "id": "786f7abb-259f-4236-9cb9-9b065574c996",
        "outputId": "e69b8320-6705-4c59-acf2-2006f945a29b"
      },
      "outputs": [],
      "source": [
        "# por ejemplo, eliminar la palabra perro.\n",
        "\n",
        "resumen_perro.replace(\"perro\", \"can\")"
      ]
    },
    {
      "cell_type": "code",
      "execution_count": null,
      "id": "94408d16-2eb1-489f-b7b8-1fc9202dc10e",
      "metadata": {
        "colab": {
          "base_uri": "https://localhost:8080/",
          "height": 70
        },
        "id": "94408d16-2eb1-489f-b7b8-1fc9202dc10e",
        "outputId": "a801e3cb-debe-479d-c310-58e682fdefb2"
      },
      "outputs": [],
      "source": [
        "# notar que es sensible a mayúsculas.\n",
        "resumen_perro.replace(\"Perro\", \"\")"
      ]
    },
    {
      "cell_type": "code",
      "execution_count": null,
      "id": "615dacc3-a26c-49cd-abd6-4978359b301b",
      "metadata": {
        "colab": {
          "base_uri": "https://localhost:8080/",
          "height": 70
        },
        "id": "615dacc3-a26c-49cd-abd6-4978359b301b",
        "outputId": "f454dc16-51ac-4da1-fbd3-826e26421734"
      },
      "outputs": [],
      "source": [
        "resumen_perro.replace(\"perro\", \"gato\")"
      ]
    },
    {
      "cell_type": "code",
      "execution_count": null,
      "id": "ee0a4ac1-e506-4f20-9f85-cf70e2fbe348",
      "metadata": {
        "colab": {
          "base_uri": "https://localhost:8080/",
          "height": 70
        },
        "id": "ee0a4ac1-e506-4f20-9f85-cf70e2fbe348",
        "outputId": "2d347934-f2b4-4a77-bb11-373c2251efd1"
      },
      "outputs": [],
      "source": [
        "resumen_perro.replace(\"\\u200b\", \"\").replace('\\n', \"\")"
      ]
    },
    {
      "cell_type": "markdown",
      "id": "6d9834dc",
      "metadata": {
        "id": "6d9834dc"
      },
      "source": [
        "### Strings en pandas\n",
        "\n",
        "La mayoría de los métodos de procesamiento de strings que se vieron anteriormente pueden ser ejecutados a través del atributo `.str` en las series de Pandas.\n",
        "\n",
        "La idea detrás del uso de los métodos de .str es que el preprocesamiento se haga de manera ordenada y eficiente. Al utilizar estos métodos, los usuarios pueden aplicar una variedad de transformaciones a sus datos de texto en una sola línea de código, lo que facilita el procesamiento de grandes conjuntos de datos de texto."
      ]
    },
    {
      "cell_type": "code",
      "execution_count": null,
      "id": "42ae6c01-3014-4417-ab55-514e3f492c55",
      "metadata": {
        "colab": {
          "base_uri": "https://localhost:8080/",
          "height": 143
        },
        "id": "42ae6c01-3014-4417-ab55-514e3f492c55",
        "outputId": "ac9bb822-584c-4c7b-c29a-d9257fb33bab"
      },
      "outputs": [],
      "source": [
        "df_mascotas"
      ]
    },
    {
      "cell_type": "code",
      "execution_count": null,
      "id": "78d21062",
      "metadata": {
        "colab": {
          "base_uri": "https://localhost:8080/",
          "height": 178
        },
        "id": "78d21062",
        "outputId": "6069316e-ddfe-4b4f-992c-aabfa0bea0cf"
      },
      "outputs": [],
      "source": [
        "df_mascotas.loc[:, \"resumen\"]"
      ]
    },
    {
      "cell_type": "markdown",
      "id": "f15e4c15",
      "metadata": {
        "id": "f15e4c15"
      },
      "source": [
        "#### Len, Lower, Upper, Title y Capitalize"
      ]
    },
    {
      "cell_type": "code",
      "execution_count": null,
      "id": "8d9ff791-3a0b-490c-a237-012323d90ae1",
      "metadata": {
        "colab": {
          "base_uri": "https://localhost:8080/"
        },
        "id": "8d9ff791-3a0b-490c-a237-012323d90ae1",
        "outputId": "16194851-461e-4757-d67c-df88ec62ff4c"
      },
      "outputs": [],
      "source": [
        "df_mascotas.loc[:, \"resumen\"].str"
      ]
    },
    {
      "cell_type": "code",
      "execution_count": null,
      "id": "73d97536",
      "metadata": {
        "colab": {
          "base_uri": "https://localhost:8080/",
          "height": 178
        },
        "id": "73d97536",
        "outputId": "51e9f614-ae65-4c98-87d2-1bbf76bc3e45"
      },
      "outputs": [],
      "source": [
        "df_mascotas.loc[:, \"resumen\"].str.len()"
      ]
    },
    {
      "cell_type": "code",
      "execution_count": null,
      "id": "11fdef32",
      "metadata": {
        "colab": {
          "base_uri": "https://localhost:8080/",
          "height": 178
        },
        "id": "11fdef32",
        "outputId": "f9d3fd22-07fe-4776-92c6-c31f0b6f35a7"
      },
      "outputs": [],
      "source": [
        "df_mascotas.loc[:, \"resumen\"].str.lower()"
      ]
    },
    {
      "cell_type": "code",
      "execution_count": null,
      "id": "f657a04d",
      "metadata": {
        "colab": {
          "base_uri": "https://localhost:8080/",
          "height": 178
        },
        "id": "f657a04d",
        "outputId": "fa3e633f-d3e4-4a27-cb86-26154cbc0099"
      },
      "outputs": [],
      "source": [
        "df_mascotas.loc[:, \"resumen\"].str.upper()"
      ]
    },
    {
      "cell_type": "code",
      "execution_count": null,
      "id": "c94f097b",
      "metadata": {
        "colab": {
          "base_uri": "https://localhost:8080/",
          "height": 178
        },
        "id": "c94f097b",
        "outputId": "d102c4f0-7ccd-4b77-8b3f-c90cad2a737e"
      },
      "outputs": [],
      "source": [
        "df_mascotas.loc[:, \"resumen\"].str.title()"
      ]
    },
    {
      "cell_type": "code",
      "execution_count": null,
      "id": "eae9a001",
      "metadata": {
        "colab": {
          "base_uri": "https://localhost:8080/",
          "height": 178
        },
        "id": "eae9a001",
        "outputId": "d7092f53-6127-4fc2-b178-c8e963c8d3f2"
      },
      "outputs": [],
      "source": [
        "df_mascotas.loc[:, \"resumen\"].str.capitalize()"
      ]
    },
    {
      "cell_type": "markdown",
      "id": "432ca609",
      "metadata": {
        "id": "432ca609"
      },
      "source": [
        "#### Contains, Split y Join\n",
        "\n",
        "\n",
        "> **Nota: 🗒️**: `.contains` reemplaza al operador `.in`"
      ]
    },
    {
      "cell_type": "code",
      "execution_count": null,
      "id": "dfa6cde7",
      "metadata": {
        "colab": {
          "base_uri": "https://localhost:8080/",
          "height": 178
        },
        "id": "dfa6cde7",
        "outputId": "42a73d44-299c-46c0-9532-d6f1177f8f34"
      },
      "outputs": [],
      "source": [
        "df_mascotas.loc[:, \"resumen\"].str.contains(\"perro\")"
      ]
    },
    {
      "cell_type": "code",
      "execution_count": null,
      "id": "e16db4ef",
      "metadata": {
        "colab": {
          "base_uri": "https://localhost:8080/",
          "height": 178
        },
        "id": "e16db4ef",
        "outputId": "6055fba2-81ba-4740-fd51-7d7595c48c05"
      },
      "outputs": [],
      "source": [
        "df_mascotas.loc[:, \"resumen\"].str.contains(\"gato\")"
      ]
    },
    {
      "cell_type": "code",
      "execution_count": null,
      "id": "8791410b",
      "metadata": {
        "colab": {
          "base_uri": "https://localhost:8080/",
          "height": 178
        },
        "id": "8791410b",
        "outputId": "9ca5a667-17ee-407d-88f5-df2823c867ad"
      },
      "outputs": [],
      "source": [
        "df_mascotas.loc[:, \"resumen\"].str.split(\" \")"
      ]
    },
    {
      "cell_type": "code",
      "execution_count": null,
      "id": "26faa609",
      "metadata": {
        "colab": {
          "base_uri": "https://localhost:8080/",
          "height": 178
        },
        "id": "26faa609",
        "outputId": "4b2faf46-9881-4bb1-bc20-b12314d5acc7"
      },
      "outputs": [],
      "source": [
        "df_mascotas.loc[:, \"resumen\"].str.split(\" \").str.join(\" \")"
      ]
    },
    {
      "cell_type": "markdown",
      "id": "d33bec55",
      "metadata": {
        "id": "d33bec55"
      },
      "source": [
        "#### Replace"
      ]
    },
    {
      "cell_type": "code",
      "execution_count": null,
      "id": "814d624c-d65c-4893-a8dc-372face40283",
      "metadata": {
        "colab": {
          "base_uri": "https://localhost:8080/"
        },
        "id": "814d624c-d65c-4893-a8dc-372face40283",
        "outputId": "c0299d73-606a-4275-b0f9-b76098ddf912"
      },
      "outputs": [],
      "source": [
        "df_mascotas.loc[:, \"resumen\"].values"
      ]
    },
    {
      "cell_type": "code",
      "execution_count": null,
      "id": "475188ef",
      "metadata": {
        "colab": {
          "base_uri": "https://localhost:8080/",
          "height": 178
        },
        "id": "475188ef",
        "outputId": "f6691242-1a01-40fd-d1bd-730340ef3e23"
      },
      "outputs": [],
      "source": [
        "df_mascotas.loc[:, \"resumen\"].str.replace(\"(\", \"$\", regex=False)"
      ]
    },
    {
      "cell_type": "code",
      "execution_count": null,
      "id": "ab42115f",
      "metadata": {
        "colab": {
          "base_uri": "https://localhost:8080/",
          "height": 178
        },
        "id": "ab42115f",
        "outputId": "6a0495cf-9eab-4c34-ddee-8b59b937acfa"
      },
      "outputs": [],
      "source": [
        "df_mascotas[\"resumen\"]"
      ]
    },
    {
      "cell_type": "code",
      "execution_count": null,
      "id": "3a46de96",
      "metadata": {
        "colab": {
          "base_uri": "https://localhost:8080/",
          "height": 178
        },
        "id": "3a46de96",
        "outputId": "a84e0496-daf9-48cf-c331-1d8961aedb53"
      },
      "outputs": [],
      "source": [
        "s1 = (\n",
        "    df_mascotas.loc[:, \"resumen\"]\n",
        "    .str.replace(\"(\", \"\", regex=False)\n",
        "    .str.replace(\")\", \"\", regex=False)\n",
        "    .str.replace(\"1\", \"\", regex=False)\n",
        "    .str.replace(\"2\", \"\", regex=False)\n",
        ")\n",
        "\n",
        "s1"
      ]
    },
    {
      "cell_type": "markdown",
      "id": "0def7991-4c4d-4b73-95cf-733ef0a5b2f2",
      "metadata": {
        "id": "0def7991-4c4d-4b73-95cf-733ef0a5b2f2"
      },
      "source": [
        "> **Pregunta ❓:** ¿Qué indica el parámetro `regex`?"
      ]
    },
    {
      "cell_type": "markdown",
      "id": "d5c46509",
      "metadata": {
        "id": "d5c46509"
      },
      "source": [
        "#### Expresiones Regulares\n",
        "\n",
        "Las expresiones regulares son una herramienta de búsqueda y manipulación de texto que permiten encontrar patrones específicos en una cadena de caracteres.\n",
        "\n",
        "Una expresión regular es una secuencia de caracteres que define un patrón de búsqueda. Los patrones pueden incluir caracteres específicos, combinaciones de caracteres, grupos de caracteres y operadores especiales que permiten hacer coincidir patrones complejos en el texto.\n",
        "\n",
        "Aunque pueden parecer complicadas al principio, las expresiones regulares son una herramienta muy poderosa ya que pueden ser aplicadas en una amplia variedad de tareas de procesamiento de texto.\n",
        "\n",
        "\n",
        "- Tutorial de regex: https://www.programiz.com/python-programming/regex\n",
        "- Playground para probar regex online: https://regex101.com/"
      ]
    },
    {
      "cell_type": "markdown",
      "id": "2aba5797-6ea9-4e4f-bd9c-60b0e08f348e",
      "metadata": {
        "id": "2aba5797-6ea9-4e4f-bd9c-60b0e08f348e"
      },
      "source": [
        "##### Sintaxis y reglas básicas\n",
        "\n",
        "1. Usa caracteres literales para representar las letras y números que deseas buscar. Por ejemplo, la expresión regular `abc` buscará la cadena de texto `\"abc\"`.\n",
        "2. Utiliza caracteres especiales para representar patrones de búsqueda más complejos. Por ejemplo, el carácter especial `\".\"` representa cualquier carácter, y el carácter especial `\"^\"` representa el inicio de una línea.\n",
        "3. Utiliza corchetes para definir un conjunto de caracteres que deseas buscar. Por ejemplo, [abc] buscará cualquiera de los caracteres `\"a\"`, `\"b\"` o `\"c\"`.\n",
        "4. Utiliza caracteres especiales como `*` o `+` para representar repeticiones de caracteres o patrones. Por ejemplo, `a*` buscará cero o más repeticiones de la letra `\"a\"` como `\"\"`, `\"a\"`, `\"aa\"`, etc...; `a+` en cambio aceptará `\"a\"`, `\"aa\"`, etc...\n",
        "5. Utiliza paréntesis para agrupar patrones y aplicar operadores a grupos de caracteres. Por ejemplo, `(abc)+` buscará una o más repeticiones de la cadena `\"abc\"`.\n",
        "6. Utiliza el carácter especial `\\` para escapar caracteres especiales (o sea, para tratar a *, +, [, ], etc... como texto) y tratarlos como caracteres literales. Por ejemplo, `\\.com` buscará el texto `\".com\"`.\n",
        "7. Utiliza el símbolo `^` para indicar que lo que se busca está al inicio de la línea, y el símbolo `$` para indica que lo que se busca el final de la línea.\n",
        "8. Uitiliza `\\s+` para encontrar todos los espacios, `[0-9]` para buscar los dígitos (`[0-9]+` para uno o más de un dígito) y `[a-zA-Z]` para encontrar letras (`[a-zA-Z]+` para uno o más de una letra)."
      ]
    },
    {
      "cell_type": "code",
      "execution_count": null,
      "id": "ee52ca35-86d6-421b-a617-9b46fc1a0ad6",
      "metadata": {
        "colab": {
          "base_uri": "https://localhost:8080/",
          "height": 178
        },
        "id": "ee52ca35-86d6-421b-a617-9b46fc1a0ad6",
        "outputId": "7e8bf2d1-6ae5-4466-e2b1-5b69cdb8fb2a"
      },
      "outputs": [],
      "source": [
        "df_mascotas.loc[:, \"resumen\"]"
      ]
    },
    {
      "cell_type": "code",
      "execution_count": null,
      "id": "9540fd48-74ec-4168-a7bb-015c2f0266fc",
      "metadata": {
        "colab": {
          "base_uri": "https://localhost:8080/"
        },
        "id": "9540fd48-74ec-4168-a7bb-015c2f0266fc",
        "outputId": "d0ba5dd9-03c7-483e-b9f5-62ac2128710f"
      },
      "outputs": [],
      "source": [
        "(\n",
        "    df_mascotas.loc[:, \"resumen\"]\n",
        "    .str.strip()\n",
        "    .str.replace(\"[\\n\\u200b0-9,;()\\.]\", \"\", regex=True)\n",
        "    .str.lower()\n",
        "    .str.split(\" \")\n",
        ").values"
      ]
    },
    {
      "cell_type": "code",
      "execution_count": null,
      "id": "72893cfe",
      "metadata": {
        "colab": {
          "base_uri": "https://localhost:8080/"
        },
        "id": "72893cfe",
        "outputId": "165d322d-51d4-4c15-86c3-e7001b16d4e4"
      },
      "outputs": [],
      "source": [
        "# sintaxis regex\n",
        "\n",
        "# en este caso se eliminan todas las comas\n",
        "df_mascotas.loc[:, \"resumen\"].str.replace(\",\", \"\", regex=True).values"
      ]
    },
    {
      "cell_type": "code",
      "execution_count": null,
      "id": "a08de00f-3348-438c-86c8-b7d687ed438e",
      "metadata": {
        "colab": {
          "base_uri": "https://localhost:8080/"
        },
        "id": "a08de00f-3348-438c-86c8-b7d687ed438e",
        "outputId": "1357078f-326e-44c1-cfee-1f247206a9e0"
      },
      "outputs": [],
      "source": [
        "# en este caso se eliminan todas las comas y los punto y coma.\n",
        "# agregamos más de un caracter por eliminar usando []\n",
        "df_mascotas.loc[:, \"resumen\"].str.replace(\"[,;]\", \"\", regex=True).values"
      ]
    },
    {
      "cell_type": "code",
      "execution_count": null,
      "id": "7a4f0b68-94cc-41e0-8920-3e1c6149bfc4",
      "metadata": {
        "colab": {
          "base_uri": "https://localhost:8080/"
        },
        "id": "7a4f0b68-94cc-41e0-8920-3e1c6149bfc4",
        "outputId": "44cd5421-f4f1-4d28-a806-671094766f78"
      },
      "outputs": [],
      "source": [
        "# en este caso se eliminan todas las comas y los punto y coma y los puntos\n",
        "# notar que el punto hay que escribirlo con un slash inverso \\: \\.\n",
        "df_mascotas.loc[:, \"resumen\"].str.replace(\"[,;\\.]\", \"\", regex=True).values"
      ]
    },
    {
      "cell_type": "code",
      "execution_count": null,
      "id": "c66b03c2-f2fa-4d99-a016-dae36990002f",
      "metadata": {
        "colab": {
          "base_uri": "https://localhost:8080/"
        },
        "id": "c66b03c2-f2fa-4d99-a016-dae36990002f",
        "outputId": "7c10c0d2-18fb-4b43-954a-8adf02fc595a"
      },
      "outputs": [],
      "source": [
        "# mismo caso para los paréntesis ( y ) y corchetes [, ]: hay que agregar \\.\n",
        "df_mascotas.loc[:, \"resumen\"].str.replace(\"[,;\\.\\(\\)\\[\\]\\d]\", \"\", regex=True).values"
      ]
    },
    {
      "cell_type": "code",
      "execution_count": null,
      "id": "1ee089bc",
      "metadata": {
        "colab": {
          "base_uri": "https://localhost:8080/",
          "height": 178
        },
        "id": "1ee089bc",
        "outputId": "d3c007f3-9571-40b9-b985-9925cab2833b",
        "scrolled": true,
        "tags": []
      },
      "outputs": [],
      "source": [
        "# \\d indica que se eliminarán todos todos los dígitos\n",
        "\n",
        "df_mascotas.loc[:, \"resumen\"].str.replace(\"\\d\", \"\", regex=True)"
      ]
    },
    {
      "cell_type": "code",
      "execution_count": null,
      "id": "33a5bbeb-64c9-4c4d-b2b9-0327c91896d7",
      "metadata": {
        "colab": {
          "base_uri": "https://localhost:8080/"
        },
        "id": "33a5bbeb-64c9-4c4d-b2b9-0327c91896d7",
        "outputId": "c1524e74-c69c-4220-e764-59333b221d34"
      },
      "outputs": [],
      "source": [
        "# todo junto:\n",
        "df_mascotas.loc[:, \"resumen\"].str.replace(\"[,;\\.\\(\\)\\[\\]\\d]\", \"\", regex=True).values"
      ]
    },
    {
      "cell_type": "code",
      "execution_count": null,
      "id": "i1zZPRxdsjpJ",
      "metadata": {
        "id": "i1zZPRxdsjpJ"
      },
      "outputs": [],
      "source": []
    },
    {
      "cell_type": "markdown",
      "id": "e9bac8ea-9ff9-4797-942c-bf4e7262af6c",
      "metadata": {
        "id": "e9bac8ea-9ff9-4797-942c-bf4e7262af6c"
      },
      "source": [
        "> **Pregunta ❓**: ¿Según las reglas que vimos anteriormente, habría una forma más rápida de limpiar un string?"
      ]
    },
    {
      "cell_type": "code",
      "execution_count": null,
      "id": "bb6e0787-7ca0-4cc3-baae-57f247d4102d",
      "metadata": {
        "colab": {
          "base_uri": "https://localhost:8080/"
        },
        "id": "bb6e0787-7ca0-4cc3-baae-57f247d4102d",
        "outputId": "69cc148f-056e-41d5-b0b6-6dd8236e11bb"
      },
      "outputs": [],
      "source": [
        "df_mascotas.loc[:, \"resumen\"].str.replace(\"[^A-Za-z]+\", \" \", regex=True).values"
      ]
    },
    {
      "cell_type": "code",
      "execution_count": null,
      "id": "248d02c4-a41a-40cd-ad85-a7311c62786d",
      "metadata": {
        "colab": {
          "base_uri": "https://localhost:8080/"
        },
        "id": "248d02c4-a41a-40cd-ad85-a7311c62786d",
        "outputId": "d28d9db5-d373-4067-af7a-ee0139744181"
      },
      "outputs": [],
      "source": [
        "df_mascotas.loc[:, \"resumen\"].str.replace(\"\\b[^\\W]+\\b\", \" \", regex=True).values"
      ]
    },
    {
      "cell_type": "markdown",
      "id": "f29fc1e3-a128-492c-8a0b-156f45ca7447",
      "metadata": {
        "id": "f29fc1e3-a128-492c-8a0b-156f45ca7447"
      },
      "source": [
        " > Nota:\n",
        "\n",
        "- `\\W` para buscar todas las palabras que no contienen caracteres que no sean letras ni números, incluyendo letras con acento.\n",
        "- `\\b` se utiliza para indicar que la expresión regular debe buscar palabras completas, es decir, que no se debe incluir ninguna letra o número antes o después de la palabra."
      ]
    },
    {
      "cell_type": "markdown",
      "id": "a107b3ff",
      "metadata": {
        "id": "a107b3ff"
      },
      "source": [
        "### Paréntesis: Método `apply`\n",
        "\n",
        "El método apply de Pandas se utiliza para aplicar una función a una columna o fila de un DataFrame. La función que se va a aplicar puede ser una función integrada de Python, una función definida por el usuario o una función lambda."
      ]
    },
    {
      "cell_type": "code",
      "execution_count": null,
      "id": "158e6ccf-9490-46d3-9e22-4054eaea30f9",
      "metadata": {
        "colab": {
          "base_uri": "https://localhost:8080/",
          "height": 178
        },
        "id": "158e6ccf-9490-46d3-9e22-4054eaea30f9",
        "outputId": "ee058e9e-de84-4592-eecd-430e457571a7"
      },
      "outputs": [],
      "source": [
        "df_mascotas.loc[:, \"resumen\"]"
      ]
    },
    {
      "cell_type": "code",
      "execution_count": null,
      "id": "dd1930e0",
      "metadata": {
        "colab": {
          "base_uri": "https://localhost:8080/",
          "height": 178
        },
        "id": "dd1930e0",
        "outputId": "6005ec5a-4869-46d2-f36b-2e96c6f020fb",
        "scrolled": true
      },
      "outputs": [],
      "source": [
        "def is_gato_in(value):\n",
        "    if \"gato\" in value:\n",
        "        return True\n",
        "    else:\n",
        "        return False\n",
        "\n",
        "df_mascotas.loc[:, \"resumen\"].apply(is_gato_in)"
      ]
    },
    {
      "cell_type": "code",
      "execution_count": null,
      "id": "dd7c52bb-d39e-443e-8af3-4b1f684d72b4",
      "metadata": {
        "colab": {
          "base_uri": "https://localhost:8080/",
          "height": 178
        },
        "id": "dd7c52bb-d39e-443e-8af3-4b1f684d72b4",
        "outputId": "5511a5fe-919b-4b68-c0d7-b95657ac083f"
      },
      "outputs": [],
      "source": [
        "def seleccionar_10_caracteres(value):\n",
        "    return value[0:10]\n",
        "\n",
        "df_mascotas.loc[:, \"resumen\"].apply(seleccionar_10_caracteres)"
      ]
    },
    {
      "cell_type": "code",
      "execution_count": null,
      "id": "bff8cce6-97b2-418c-bdd9-d0456c1999ca",
      "metadata": {
        "colab": {
          "base_uri": "https://localhost:8080/",
          "height": 178
        },
        "id": "bff8cce6-97b2-418c-bdd9-d0456c1999ca",
        "outputId": "b0df4d68-ab66-4dd1-b781-ebed567836c0"
      },
      "outputs": [],
      "source": [
        "def limpiar(value):\n",
        "    return value.replace(\",\", \"\").replace(\";\", \"\").lower()\n",
        "\n",
        "df_mascotas.loc[:, \"resumen\"].apply(limpiar)"
      ]
    },
    {
      "cell_type": "markdown",
      "id": "db77c12c-65a7-4304-96e3-214b952501ad",
      "metadata": {
        "id": "db77c12c-65a7-4304-96e3-214b952501ad"
      },
      "source": [
        "#### `strip_accents_ascii`\n",
        "\n",
        "`strip_accents_ascii` se utiliza para eliminar los acentos y diacríticos de una cadena, convirtiendo los caracteres Unicode que representan los acentos y diacríticos en caracteres ASCII equivalentes."
      ]
    },
    {
      "cell_type": "code",
      "execution_count": null,
      "id": "687b15bc",
      "metadata": {
        "id": "687b15bc"
      },
      "outputs": [],
      "source": [
        "import unicodedata\n",
        "\n",
        "def strip_accents_ascii(value):\n",
        "    nkfd_form = unicodedata.normalize(\"NFKD\", value)\n",
        "    return nkfd_form.encode(\"ASCII\", \"ignore\").decode(\"ASCII\")\n"
      ]
    },
    {
      "cell_type": "code",
      "execution_count": null,
      "id": "dd9d5cd9-0e15-4b65-85af-7c2ea5469f92",
      "metadata": {
        "colab": {
          "base_uri": "https://localhost:8080/",
          "height": 35
        },
        "id": "dd9d5cd9-0e15-4b65-85af-7c2ea5469f92",
        "outputId": "b177c139-b292-48bd-c3af-865596851d3f"
      },
      "outputs": [],
      "source": [
        "strip_accents_ascii('doméstico')"
      ]
    },
    {
      "cell_type": "code",
      "execution_count": null,
      "id": "b33254cf-1fa3-4ea2-8a03-3a69e79855c0",
      "metadata": {
        "colab": {
          "base_uri": "https://localhost:8080/",
          "height": 178
        },
        "id": "b33254cf-1fa3-4ea2-8a03-3a69e79855c0",
        "outputId": "8ea98650-540c-4225-b65d-3c496414a9a1"
      },
      "outputs": [],
      "source": [
        "df_mascotas.loc[:, \"resumen\"]"
      ]
    },
    {
      "cell_type": "code",
      "execution_count": null,
      "id": "ed4812ac",
      "metadata": {
        "colab": {
          "base_uri": "https://localhost:8080/",
          "height": 178
        },
        "id": "ed4812ac",
        "outputId": "e811c3b4-bfd3-4563-c269-d7d4c12a259d"
      },
      "outputs": [],
      "source": [
        "df_mascotas.loc[:, \"resumen\"].apply(strip_accents_ascii)"
      ]
    },
    {
      "cell_type": "markdown",
      "id": "d93f922c",
      "metadata": {
        "id": "d93f922c"
      },
      "source": [
        "#### Uso de `.apply` sobre DataFrames\n",
        "\n",
        "`apply` usada sobre un Dataframe permite ejecutar una función sobre las filas o columnas, lo que se indica a través del parámetro `axis`."
      ]
    },
    {
      "cell_type": "code",
      "execution_count": null,
      "id": "c6788dde",
      "metadata": {
        "colab": {
          "base_uri": "https://localhost:8080/",
          "height": 178
        },
        "id": "c6788dde",
        "outputId": "7384a8d9-6b91-480f-8139-7bae53395671"
      },
      "outputs": [],
      "source": [
        "def unir_nombre_y_descripcion(row):\n",
        "    return row[\"nombre\"] + \" - \" + row[\"resumen\"]\n",
        "\n",
        "# ojo: para aplicar en filas tiene que ser axis=1\n",
        "df_mascotas.apply(unir_nombre_y_descripcion, axis=1)"
      ]
    },
    {
      "cell_type": "code",
      "execution_count": null,
      "id": "fb959d62-fdb1-4005-b81b-dfee291f1391",
      "metadata": {
        "colab": {
          "base_uri": "https://localhost:8080/",
          "height": 147
        },
        "id": "fb959d62-fdb1-4005-b81b-dfee291f1391",
        "outputId": "03c087a1-52da-478d-9008-b30889b063d8"
      },
      "outputs": [],
      "source": [
        "def unir_filas(col):\n",
        "    return '|'.join(col)\n",
        "\n",
        "# ojo: para aplicar en filas tiene que ser axis=1\n",
        "df_mascotas.apply(unir_filas, axis=0)"
      ]
    },
    {
      "cell_type": "markdown",
      "id": "d4263b07",
      "metadata": {
        "id": "d4263b07"
      },
      "source": [
        "#### Preprocesamiento Completo\n",
        "\n"
      ]
    },
    {
      "cell_type": "code",
      "execution_count": null,
      "id": "c6c4b682",
      "metadata": {
        "colab": {
          "base_uri": "https://localhost:8080/"
        },
        "id": "c6c4b682",
        "outputId": "7040fd39-29bb-4d7a-8213-b504042535b5"
      },
      "outputs": [],
      "source": [
        "df_mascotas.loc[:, \"resumen\"].values"
      ]
    },
    {
      "cell_type": "code",
      "execution_count": null,
      "id": "5bdece33",
      "metadata": {
        "colab": {
          "base_uri": "https://localhost:8080/"
        },
        "id": "5bdece33",
        "outputId": "56f54f72-8584-432b-f529-478a0545429f"
      },
      "outputs": [],
      "source": [
        "df_mascotas_procesado = (\n",
        "    df_mascotas.loc[:, \"resumen\"]\n",
        "    .apply(strip_accents_ascii)\n",
        "    .str.replace(r\"[,;\\.\\(\\)\\[\\]\\d*]\", \"\", regex=True)\n",
        "    .str.replace(r\"\\s+\", \" \", regex=True) # en este caso se reemplazan todos los espacios por solo un espacio.\n",
        "    .str.strip()\n",
        "    .str.lower()\n",
        ")\n",
        "\n",
        "df_mascotas_procesado.values"
      ]
    },
    {
      "cell_type": "markdown",
      "id": "2a53579a-564a-4241-9d76-720bf6d76797",
      "metadata": {
        "id": "2a53579a-564a-4241-9d76-720bf6d76797"
      },
      "source": [
        "---"
      ]
    }
  ],
  "metadata": {
    "colab": {
      "provenance": []
    },
    "kernelspec": {
      "display_name": "Python 3 (ipykernel)",
      "language": "python",
      "name": "python3"
    },
    "language_info": {
      "codemirror_mode": {
        "name": "ipython",
        "version": 3
      },
      "file_extension": ".py",
      "mimetype": "text/x-python",
      "name": "python",
      "nbconvert_exporter": "python",
      "pygments_lexer": "ipython3",
      "version": "3.12.1"
    },
    "toc": {
      "base_numbering": 1,
      "nav_menu": {},
      "number_sections": true,
      "sideBar": true,
      "skip_h1_title": true,
      "title_cell": "Table of Contents",
      "title_sidebar": "Contents",
      "toc_cell": true,
      "toc_position": {
        "height": "calc(100% - 180px)",
        "left": "10px",
        "top": "150px",
        "width": "274.833px"
      },
      "toc_section_display": true,
      "toc_window_display": false
    },
    "varInspector": {
      "cols": {
        "lenName": 16,
        "lenType": 16,
        "lenVar": 40
      },
      "kernels_config": {
        "python": {
          "delete_cmd_postfix": "",
          "delete_cmd_prefix": "del ",
          "library": "var_list.py",
          "varRefreshCmd": "print(var_dic_list())"
        },
        "r": {
          "delete_cmd_postfix": ") ",
          "delete_cmd_prefix": "rm(",
          "library": "var_list.r",
          "varRefreshCmd": "cat(var_dic_list()) "
        }
      },
      "types_to_exclude": [
        "module",
        "function",
        "builtin_function_or_method",
        "instance",
        "_Feature"
      ],
      "window_display": false
    }
  },
  "nbformat": 4,
  "nbformat_minor": 5
}
