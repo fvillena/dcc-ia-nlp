{
  "cells": [
    {
      "cell_type": "markdown",
      "id": "71d1c66f",
      "metadata": {},
      "source": [
        "# Tutorial 1: Como trabajar con archivos de Texto.\n",
        "\n",
        "##### <strong>Manejo archivos y Pandas </strong>\n",
        "\n",
        "### Cuerpo Docente\n",
        "\n",
        "- Profesores: [Andrés Abeliuk](https://aabeliuk.github.io/), [Felipe Villena](https://fabianvillena.cl/).\n",
        "- Profesor Auxiliar: [Gabriel Iturra](https://giturra.cl/)\n",
        "\n",
        "\n",
        "### Objetivos del Tutorial\n",
        "\n",
        "- Que es Google Colab.\n",
        "- Que es Python y como descargarlo.\n",
        "- Entender como trabajar con archivos en Python, tanto de su versión nativa como con ```Pandas```.\n",
        "- Entender como trabajar texto desde ```Pandas```.\n",
        "- Entender como utilizar expresiones regulares."
      ]
    },
    {
      "cell_type": "markdown",
      "id": "79c3f72a",
      "metadata": {},
      "source": [
        "### Introducción a Colab\n",
        "\n",
        "Google Colab es una herramienta para la enseñanza e investigación de Machine Learning. Es un entorno de Jupyter notebook que no requiere configuración para su uso. Colab ofrece un servicio gratuito de GPU en la nube alojado por Google para alentar la colaboración en el campo de Machine Learning, sin preocuparse por los requisitos de hardware. Colab fue lanzado al público por Google en octubre de 2017."
      ]
    },
    {
      "cell_type": "markdown",
      "id": "5MVEeDhaIhhm",
      "metadata": {
        "id": "5MVEeDhaIhhm"
      },
      "source": [
        "#### Markdown\n",
        "\n",
        "**Markdown** es un lenguaje de marcado ligero creado por *John Gruber* que trata de conseguir la **máxima legibilidad** y **facilidad** de publicación.\n",
        "\n",
        "Esto es un parrafo, `esto esta en codigo`, **esto esta en negrita**, *esto esta en cursiva*\n",
        "\n",
        "Se puede insertar codigo multilinea tambien.\n",
        "\n",
        "```python\n",
        "print(\"hello world!\")\n",
        "```\n",
        "\n",
        "Se pueden insertar lineas para separar texto\n",
        "\n",
        "---\n",
        "\n",
        "Se pueden insertar tablas!\n",
        "\n",
        "| 0,1       | 0,2  | 0,3  | 0,4   | 0,5     |\n",
        "|-----------|------|------|-------|---------|\n",
        "| 1,1       | 1,2  | 1,3  | 1,4   | 1,5     |\n",
        "| 2,1       | 2,2  | 2,3  | 2,4   | 2,5     |\n",
        "\n",
        "Se puede \"citar\" texto usando cabezas de pescado\n",
        "> Esta es una frase celebre de algun famoso\n",
        ">\n",
        "> -- Albert Einstein\n",
        "\n",
        "Tambien se puede insertar formulas de $\\LaTeX$ dentro del mismo texto: $a = \\frac{e^y\\sqrt{x+2}}{x^2}$. Se puede insertar $\\LaTeX$ en general tambien.\n",
        "\n",
        "\\begin{equation}\n",
        "\\it{CE}(p,q)=\\sum_{x}p(x)\\log \\bigg(\\frac{1}{q(x)}\\bigg)=- \\sum_{x}p(x)\\log q(x)\n",
        "\\end{equation}\n",
        "\n",
        "Tambien se puede escribir `html`.\n",
        "\n",
        "<strong> Esto esta en negrita usando html </strong>\n",
        "\n",
        "Aca dejo mas recursos sobre Markdown, Colab y Jupyter Notebook:\n",
        "* https://help.github.com/en/github/writing-on-github/basic-writing-and-formatting-syntax\n",
        "* https://es.wikipedia.org/wiki/Markdown\n",
        "* https://colab.research.google.com/notebooks/intro.ipynb\n",
        "* https://jupyter.org/\n",
        "* https://nbviewer.jupyter.org/github/ipython/ipython/blob/1.x/examples/notebooks/Cell%20Magics.ipynb"
      ]
    },
    {
      "cell_type": "markdown",
      "id": "_JQrg8D2IjVG",
      "metadata": {
        "id": "_JQrg8D2IjVG"
      },
      "source": [
        "### Introducción a Python\n",
        "\n",
        "\n",
        "<div align='center'>\n",
        "<img src=\"https://raw.githubusercontent.com/MDS7202/MDS7202/main/recursos/2023-01/03-Intro_a_la_programacion_en_python/python_logo.png\" width=400 alt=\"logo\"/>\n",
        "</div>\n",
        "\n",
        "`Python` es un lenguaje de programación multipropósito, enfocado en preservar legibilidad y simpleza sintáctica (_o sea, que sea facil de leer y escribir_).\n",
        "Sus características y principios lo convierten en un lenguaje poderoso y fácil de aprender.\n",
        "\n",
        "Por esta razón, es ampliamente utilizado en ámbitos tales como:\n",
        "\n",
        "- Desarrollo Web,\n",
        "- Data Science,\n",
        "- Scripting,\n",
        "- Software de escritorio,\n",
        "- etc...\n",
        "\n",
        "\n",
        "## ¿Dónde puedo descargar Python?\n",
        "\n",
        "Existe dos opciones para descargar ```Python```, que son:\n",
        "\n",
        "- Descargarlo de la página oficial: https://www.python.org/ Sin embargo, desde la página oficial sólo se descarga la versión estándar con librerías nativas.\n",
        "\n",
        "- Descargarlo desde la página de Anaconda: https://www.anaconda.com/ Esta versión viene con muchas librerías que utilizaremos durante el curso, por lo que es la opción más recomendada."
      ]
    },
    {
      "cell_type": "markdown",
      "id": "kVq75BC_Ilum",
      "metadata": {
        "id": "kVq75BC_Ilum"
      },
      "source": [
        "## Trabajando con Archivos en Python\n",
        "\n",
        "### Importar csv o txt\n",
        "\n",
        "#### Encoding\n",
        "\n",
        "* UTF-8: 'utf-8' es el encoding predeterminado en Pandas y es ampliamente utilizado para archivos CSV. Es compatible con una amplia gama de caracteres y es recomendado si no estás seguro del encoding del archivo.\n",
        "\n",
        "* Latin-1 (ISO 8859-1): 'latin-1' es otro encoding común utilizado en archivos CSV generados por aplicaciones en entornos Windows. Es compatible con una gran cantidad de idiomas europeos.\n",
        "\n",
        "* UTF-16: 'utf-16' es un encoding de Unicode que utiliza 16 bits para representar los caracteres. Es útil cuando se trabaja con idiomas que tienen una gran cantidad de caracteres, como algunos idiomas asiáticos.\n",
        "\n",
        "* UTF-32: 'utf-32' es un encoding de Unicode que utiliza 32 bits para representar los caracteres. Al igual que UTF-16, es útil para idiomas con una gran cantidad de caracteres.\n",
        "\n",
        "* ASCII: 'ascii' es un encoding básico que solo admite caracteres en inglés y no es compatible con caracteres acentuados u otros caracteres especiales."
      ]
    },
    {
      "cell_type": "markdown",
      "id": "gC-H3CJfInw-",
      "metadata": {
        "id": "gC-H3CJfInw-"
      },
      "source": [
        "### Cargar archivos con la función ```open```"
      ]
    },
    {
      "cell_type": "code",
      "execution_count": null,
      "id": "XjeCD4WAInLa",
      "metadata": {
        "id": "XjeCD4WAInLa"
      },
      "outputs": [],
      "source": [
        "import csv"
      ]
    },
    {
      "cell_type": "code",
      "execution_count": 20,
      "id": "mVum3opMIp0N",
      "metadata": {
        "id": "mVum3opMIp0N"
      },
      "outputs": [
        {
          "name": "stdout",
          "output_type": "stream",
          "text": [
            "text\n",
            "That game hurt.\n",
            " >sexuality shouldn’t be a grouping category It makes you different from othet ppl so imo it fits the definition of \"grouping\" \n",
            "You do right, if you don't care then fuck 'em!\n",
            "Man I love reddit.\n"
          ]
        }
      ],
      "source": [
        "i=0\n",
        "with open('../data/go_emotions_dataset.csv', 'r', encoding='utf-8') as file:\n",
        "  csvreader = csv.reader(file, delimiter=',')\n",
        "  for row in csvreader:\n",
        "    print(row[1])\n",
        "    i+=1\n",
        "    if i==5:\n",
        "      break"
      ]
    },
    {
      "cell_type": "code",
      "execution_count": 19,
      "id": "A5aaefxQIvNB",
      "metadata": {
        "id": "A5aaefxQIvNB"
      },
      "outputs": [
        {
          "name": "stdout",
          "output_type": "stream",
          "text": [
            "text\n",
            "That game hurt.\n",
            " >sexuality shouldnât be a grouping category It makes you different from othet ppl so imo it fits the definition of \"grouping\" \n",
            "You do right, if you don't care then fuck 'em!\n",
            "Man I love reddit.\n"
          ]
        }
      ],
      "source": [
        "i=0\n",
        "with open('../data/go_emotions_dataset.csv', 'r', encoding='latin-1') as file:\n",
        "  csvreader = csv.reader(file, delimiter=',')\n",
        "  for row in csvreader:\n",
        "    print(row[1])\n",
        "    i+=1\n",
        "    if i==5:\n",
        "      break"
      ]
    },
    {
      "cell_type": "markdown",
      "id": "1azCJVjYIzpz",
      "metadata": {
        "id": "1azCJVjYIzpz"
      },
      "source": [
        "### Cargar archivos con la función ```pandas```"
      ]
    },
    {
      "cell_type": "code",
      "execution_count": 18,
      "id": "8bf53905",
      "metadata": {},
      "outputs": [
        {
          "data": {
            "text/html": [
              "<div>\n",
              "<style scoped>\n",
              "    .dataframe tbody tr th:only-of-type {\n",
              "        vertical-align: middle;\n",
              "    }\n",
              "\n",
              "    .dataframe tbody tr th {\n",
              "        vertical-align: top;\n",
              "    }\n",
              "\n",
              "    .dataframe thead th {\n",
              "        text-align: right;\n",
              "    }\n",
              "</style>\n",
              "<table border=\"1\" class=\"dataframe\">\n",
              "  <thead>\n",
              "    <tr style=\"text-align: right;\">\n",
              "      <th></th>\n",
              "      <th>id</th>\n",
              "      <th>text</th>\n",
              "      <th>example_very_unclear</th>\n",
              "      <th>admiration</th>\n",
              "      <th>amusement</th>\n",
              "      <th>anger</th>\n",
              "      <th>annoyance</th>\n",
              "      <th>approval</th>\n",
              "      <th>caring</th>\n",
              "      <th>confusion</th>\n",
              "      <th>...</th>\n",
              "      <th>love</th>\n",
              "      <th>nervousness</th>\n",
              "      <th>optimism</th>\n",
              "      <th>pride</th>\n",
              "      <th>realization</th>\n",
              "      <th>relief</th>\n",
              "      <th>remorse</th>\n",
              "      <th>sadness</th>\n",
              "      <th>surprise</th>\n",
              "      <th>neutral</th>\n",
              "    </tr>\n",
              "  </thead>\n",
              "  <tbody>\n",
              "    <tr>\n",
              "      <th>0</th>\n",
              "      <td>eew5j0j</td>\n",
              "      <td>That game hurt.</td>\n",
              "      <td>False</td>\n",
              "      <td>0</td>\n",
              "      <td>0</td>\n",
              "      <td>0</td>\n",
              "      <td>0</td>\n",
              "      <td>0</td>\n",
              "      <td>0</td>\n",
              "      <td>0</td>\n",
              "      <td>...</td>\n",
              "      <td>0</td>\n",
              "      <td>0</td>\n",
              "      <td>0</td>\n",
              "      <td>0</td>\n",
              "      <td>0</td>\n",
              "      <td>0</td>\n",
              "      <td>0</td>\n",
              "      <td>1</td>\n",
              "      <td>0</td>\n",
              "      <td>0</td>\n",
              "    </tr>\n",
              "    <tr>\n",
              "      <th>1</th>\n",
              "      <td>eemcysk</td>\n",
              "      <td>&gt;sexuality shouldn’t be a grouping category I...</td>\n",
              "      <td>True</td>\n",
              "      <td>0</td>\n",
              "      <td>0</td>\n",
              "      <td>0</td>\n",
              "      <td>0</td>\n",
              "      <td>0</td>\n",
              "      <td>0</td>\n",
              "      <td>0</td>\n",
              "      <td>...</td>\n",
              "      <td>0</td>\n",
              "      <td>0</td>\n",
              "      <td>0</td>\n",
              "      <td>0</td>\n",
              "      <td>0</td>\n",
              "      <td>0</td>\n",
              "      <td>0</td>\n",
              "      <td>0</td>\n",
              "      <td>0</td>\n",
              "      <td>0</td>\n",
              "    </tr>\n",
              "    <tr>\n",
              "      <th>2</th>\n",
              "      <td>ed2mah1</td>\n",
              "      <td>You do right, if you don't care then fuck 'em!</td>\n",
              "      <td>False</td>\n",
              "      <td>0</td>\n",
              "      <td>0</td>\n",
              "      <td>0</td>\n",
              "      <td>0</td>\n",
              "      <td>0</td>\n",
              "      <td>0</td>\n",
              "      <td>0</td>\n",
              "      <td>...</td>\n",
              "      <td>0</td>\n",
              "      <td>0</td>\n",
              "      <td>0</td>\n",
              "      <td>0</td>\n",
              "      <td>0</td>\n",
              "      <td>0</td>\n",
              "      <td>0</td>\n",
              "      <td>0</td>\n",
              "      <td>0</td>\n",
              "      <td>1</td>\n",
              "    </tr>\n",
              "    <tr>\n",
              "      <th>3</th>\n",
              "      <td>eeibobj</td>\n",
              "      <td>Man I love reddit.</td>\n",
              "      <td>False</td>\n",
              "      <td>0</td>\n",
              "      <td>0</td>\n",
              "      <td>0</td>\n",
              "      <td>0</td>\n",
              "      <td>0</td>\n",
              "      <td>0</td>\n",
              "      <td>0</td>\n",
              "      <td>...</td>\n",
              "      <td>1</td>\n",
              "      <td>0</td>\n",
              "      <td>0</td>\n",
              "      <td>0</td>\n",
              "      <td>0</td>\n",
              "      <td>0</td>\n",
              "      <td>0</td>\n",
              "      <td>0</td>\n",
              "      <td>0</td>\n",
              "      <td>0</td>\n",
              "    </tr>\n",
              "    <tr>\n",
              "      <th>4</th>\n",
              "      <td>eda6yn6</td>\n",
              "      <td>[NAME] was nowhere near them, he was by the Fa...</td>\n",
              "      <td>False</td>\n",
              "      <td>0</td>\n",
              "      <td>0</td>\n",
              "      <td>0</td>\n",
              "      <td>0</td>\n",
              "      <td>0</td>\n",
              "      <td>0</td>\n",
              "      <td>0</td>\n",
              "      <td>...</td>\n",
              "      <td>0</td>\n",
              "      <td>0</td>\n",
              "      <td>0</td>\n",
              "      <td>0</td>\n",
              "      <td>0</td>\n",
              "      <td>0</td>\n",
              "      <td>0</td>\n",
              "      <td>0</td>\n",
              "      <td>0</td>\n",
              "      <td>1</td>\n",
              "    </tr>\n",
              "  </tbody>\n",
              "</table>\n",
              "<p>5 rows × 31 columns</p>\n",
              "</div>"
            ],
            "text/plain": [
              "        id                                               text  \\\n",
              "0  eew5j0j                                    That game hurt.   \n",
              "1  eemcysk   >sexuality shouldn’t be a grouping category I...   \n",
              "2  ed2mah1     You do right, if you don't care then fuck 'em!   \n",
              "3  eeibobj                                 Man I love reddit.   \n",
              "4  eda6yn6  [NAME] was nowhere near them, he was by the Fa...   \n",
              "\n",
              "   example_very_unclear  admiration  amusement  anger  annoyance  approval  \\\n",
              "0                 False           0          0      0          0         0   \n",
              "1                  True           0          0      0          0         0   \n",
              "2                 False           0          0      0          0         0   \n",
              "3                 False           0          0      0          0         0   \n",
              "4                 False           0          0      0          0         0   \n",
              "\n",
              "   caring  confusion  ...  love  nervousness  optimism  pride  realization  \\\n",
              "0       0          0  ...     0            0         0      0            0   \n",
              "1       0          0  ...     0            0         0      0            0   \n",
              "2       0          0  ...     0            0         0      0            0   \n",
              "3       0          0  ...     1            0         0      0            0   \n",
              "4       0          0  ...     0            0         0      0            0   \n",
              "\n",
              "   relief  remorse  sadness  surprise  neutral  \n",
              "0       0        0        1         0        0  \n",
              "1       0        0        0         0        0  \n",
              "2       0        0        0         0        1  \n",
              "3       0        0        0         0        0  \n",
              "4       0        0        0         0        1  \n",
              "\n",
              "[5 rows x 31 columns]"
            ]
          },
          "execution_count": 18,
          "metadata": {},
          "output_type": "execute_result"
        }
      ],
      "source": [
        "### Cargar arhivos con ```pandas```\n",
        "\n",
        "df = pd.read_csv('../data/go_emotions_dataset.csv')\n",
        "df.head()"
      ]
    },
    {
      "cell_type": "markdown",
      "id": "2c123865-d443-4f5a-8ca9-1fc95c8adf05",
      "metadata": {
        "id": "2c123865-d443-4f5a-8ca9-1fc95c8adf05"
      },
      "source": [
        "## Strings\n",
        "\n",
        "### Motivación\n",
        "\n",
        "<div align='center'>\n",
        "<img src='https://raw.githubusercontent.com/MDS7202/MDS7202/main/recursos/2023-01/11-Pandas4/pets.jpg' alt='Mascotas' width=600/>\n",
        "</div>\n",
        "\n",
        "Supongamos que poseemos un dataset generado a partir de [_web scrapping_](https://es.wikipedia.org/wiki/Web_scraping) que contiene el nombre de una mascota más el resumen (_abstract_) de la página asociada a estos en Wikipedia.\n"
      ]
    },
    {
      "cell_type": "code",
      "execution_count": null,
      "id": "78705029-f252-45a5-b9cf-3994f06ce16f",
      "metadata": {
        "id": "78705029-f252-45a5-b9cf-3994f06ce16f",
        "outputId": "d091d18f-7dac-4201-ac17-b53a4613b616"
      },
      "outputs": [
        {
          "data": {
            "text/html": [
              "<div>\n",
              "<style scoped>\n",
              "    .dataframe tbody tr th:only-of-type {\n",
              "        vertical-align: middle;\n",
              "    }\n",
              "\n",
              "    .dataframe tbody tr th {\n",
              "        vertical-align: top;\n",
              "    }\n",
              "\n",
              "    .dataframe thead th {\n",
              "        text-align: right;\n",
              "    }\n",
              "</style>\n",
              "<table border=\"1\" class=\"dataframe\">\n",
              "  <thead>\n",
              "    <tr style=\"text-align: right;\">\n",
              "      <th></th>\n",
              "      <th>nombre</th>\n",
              "      <th>resumen</th>\n",
              "    </tr>\n",
              "  </thead>\n",
              "  <tbody>\n",
              "    <tr>\n",
              "      <th>0</th>\n",
              "      <td>Perro</td>\n",
              "      <td>El perro (Canis familiaris o Canis lupus fam...</td>\n",
              "    </tr>\n",
              "    <tr>\n",
              "      <th>1</th>\n",
              "      <td>Gato</td>\n",
              "      <td>El gato doméstico1​2​ (Felis silvestris catu...</td>\n",
              "    </tr>\n",
              "    <tr>\n",
              "      <th>2</th>\n",
              "      <td>Canario</td>\n",
              "      <td>El canario doméstico (Serinus canaria domest...</td>\n",
              "    </tr>\n",
              "  </tbody>\n",
              "</table>\n",
              "</div>"
            ],
            "text/plain": [
              "    nombre                                            resumen\n",
              "0    Perro    El perro (Canis familiaris o Canis lupus fam...\n",
              "1     Gato    El gato doméstico1​2​ (Felis silvestris catu...\n",
              "2  Canario    El canario doméstico (Serinus canaria domest..."
            ]
          },
          "execution_count": 35,
          "metadata": {},
          "output_type": "execute_result"
        }
      ],
      "source": [
        "mascotas = [\n",
        "    [\n",
        "        \"Perro\",\n",
        "        \"  El perro (Canis familiaris o Canis lupus familiaris, dependiendo de si \"\n",
        "        \"se lo considera una especie por derecho propio o una subespecie del \"\n",
        "        \"lobo),1​2​3​ llamado perro doméstico o can,4​ y en algunos lugares\"\n",
        "        \" coloquialmente llamado chucho,5​ tuso,6​ choco,7​ entre otros; es un \"\n",
        "        \"mamífero carnívoro de la familia de los cánidos, que constituye \"\n",
        "        \"una especie del género Canis.8​9​. Posee un oído y un olfato muy \"\n",
        "        \"desarrollados, y este último es su principal órgano sensorial.  \\n\"\n",
        "        ],\n",
        "    [\n",
        "        \"Gato\",\n",
        "        \"  El gato doméstico1​2​ (Felis silvestris catus), llamado popularmente \"\n",
        "        \"gato, y de forma coloquial minino,3​ michino,4​ michi,5​ micho,\"\n",
        "        \"6​ mizo,7​ miz,8​ morroño9​ o morrongo,10​ entre otros nombres, es \"\n",
        "        \"un mamífero carnívoro de la familia Felidae. Es una subespecie \"\n",
        "        \"domesticada por la convivencia con el ser humano.  \\n\"\n",
        "    ],\n",
        "    [\n",
        "        \"Canario\",\n",
        "        \"  El canario doméstico (Serinus canaria domestica)3​4​ es una \"\n",
        "        \"subespecie desarrollada durante siglos de selección en cautividad \"\n",
        "        \"partiendo de ejemplares del canario silvestre o canario salvaje \"\n",
        "        \"(Serinus canaria), una especie de ave del orden paseriforme de \"\n",
        "        \"la familia de los fringílidos, endémica de las islas Canarias, \"\n",
        "        \"Azores y Madeira.5​6​   \\n\"\n",
        "    ],\n",
        "]\n",
        "\n",
        "df_mascotas = pd.DataFrame(mascotas, columns=[\"nombre\", \"resumen\"])\n",
        "df_mascotas"
      ]
    },
    {
      "cell_type": "markdown",
      "id": "c2ed65f7-474d-400e-877d-2e40ffd43be4",
      "metadata": {
        "id": "c2ed65f7-474d-400e-877d-2e40ffd43be4"
      },
      "source": [
        "Notemos qué sucede al acceder al resumen del Perro."
      ]
    },
    {
      "cell_type": "code",
      "execution_count": null,
      "id": "77939c0c-ed30-46cf-bcd2-ab9a7ca6cff5",
      "metadata": {
        "id": "77939c0c-ed30-46cf-bcd2-ab9a7ca6cff5",
        "outputId": "4ecb1b90-bd6c-4159-f187-273b7a363cbd"
      },
      "outputs": [
        {
          "data": {
            "text/plain": [
              "'  El perro (Canis familiaris o Canis lupus familiaris, dependiendo de si se lo considera una especie por derecho propio o una subespecie del lobo),1\\u200b2\\u200b3\\u200b llamado perro doméstico o can,4\\u200b y en algunos lugares coloquialmente llamado chucho,5\\u200b tuso,6\\u200b choco,7\\u200b entre otros; es un mamífero carnívoro de la familia de los cánidos, que constituye una especie del género Canis.8\\u200b9\\u200b. Posee un oído y un olfato muy desarrollados, y este último es su principal órgano sensorial.  \\n'"
            ]
          },
          "execution_count": 37,
          "metadata": {},
          "output_type": "execute_result"
        }
      ],
      "source": [
        "resumen_perro = df_mascotas.loc[0, \"resumen\"]\n",
        "resumen_perro"
      ]
    },
    {
      "cell_type": "markdown",
      "id": "9a248158-e72d-428e-8c0f-7195c7f03042",
      "metadata": {
        "id": "9a248158-e72d-428e-8c0f-7195c7f03042"
      },
      "source": [
        "> **Pregunta ❓**: ¿Qué representa el símbolo `\\n`?"
      ]
    },
    {
      "cell_type": "markdown",
      "id": "b1aeff83-dcde-4f54-bd9d-b09522c4d2e3",
      "metadata": {
        "id": "b1aeff83-dcde-4f54-bd9d-b09522c4d2e3"
      },
      "source": [
        "> **Pregunta ❓:** ¿Podemos utilizar directamente el texto tal cuál está, por ejemplo, para hacer un buscador? ¿Qué podemos hacer al respecto?"
      ]
    },
    {
      "cell_type": "markdown",
      "id": "cabf8b6a",
      "metadata": {
        "id": "cabf8b6a"
      },
      "source": [
        "En muchas ocasiones, los conjuntos de datos que se utilizan en análisis de datos incluyen una columna que contiene texto. Sin embargo, este texto no siempre está listo para ser utilizado directamente, ya que puede presentarse de manera desordenada y con errores. Por esta razón, es de suma importancia aprender a preprocesar el texto antes de utilizarlo en análisis posteriores.\n",
        "\n",
        "\n",
        "Las `Series` de pandas implementan diversos métodos de procesamiento de string que permiten operar facilmente con estos. Por lo general, estos métodos son una réplica de los métodos originales de la clase built-in `string`, los cuales veremos a continuación:"
      ]
    },
    {
      "cell_type": "markdown",
      "id": "388719ff",
      "metadata": {
        "id": "388719ff"
      },
      "source": [
        "### Métodos de la Clase String\n",
        "\n",
        "Python cuenta con una variedad de métodos built-in para procesar strings. Algunos de los métodos más comunes son:"
      ]
    },
    {
      "cell_type": "code",
      "execution_count": null,
      "id": "c4814288-36f1-495b-93f8-072b7beb5c3f",
      "metadata": {
        "id": "c4814288-36f1-495b-93f8-072b7beb5c3f",
        "outputId": "0a0d5190-67e0-4e57-baf5-bc060af822bb"
      },
      "outputs": [
        {
          "data": {
            "text/plain": [
              "'  El perro (Canis familiaris o Canis lupus familiaris, dependiendo de si se lo considera una especie por derecho propio o una subespecie del lobo),1\\u200b2\\u200b3\\u200b llamado perro doméstico o can,4\\u200b y en algunos lugares coloquialmente llamado chucho,5\\u200b tuso,6\\u200b choco,7\\u200b entre otros; es un mamífero carnívoro de la familia de los cánidos, que constituye una especie del género Canis.8\\u200b9\\u200b. Posee un oído y un olfato muy desarrollados, y este último es su principal órgano sensorial.  \\n'"
            ]
          },
          "execution_count": 38,
          "metadata": {},
          "output_type": "execute_result"
        }
      ],
      "source": [
        "resumen_perro"
      ]
    },
    {
      "cell_type": "markdown",
      "id": "5f0b2808-5b49-4629-9430-c505dba344e0",
      "metadata": {
        "id": "5f0b2808-5b49-4629-9430-c505dba344e0"
      },
      "source": [
        "#### `len`\n",
        "\n",
        "Devuelve la longitud de una cadena de caracteres"
      ]
    },
    {
      "cell_type": "code",
      "execution_count": null,
      "id": "95e61cff",
      "metadata": {
        "id": "95e61cff",
        "outputId": "1a98503b-1fbe-4648-8405-5e95f243400e"
      },
      "outputs": [
        {
          "data": {
            "text/plain": [
              "471"
            ]
          },
          "execution_count": 39,
          "metadata": {},
          "output_type": "execute_result"
        }
      ],
      "source": [
        "len(resumen_perro)"
      ]
    },
    {
      "cell_type": "markdown",
      "id": "90ed8e60-6ae3-4bfe-9e9b-08226b165400",
      "metadata": {
        "id": "90ed8e60-6ae3-4bfe-9e9b-08226b165400"
      },
      "source": [
        "#### `.lower`\n",
        "\n",
        "Convierte todos los caracteres de un string a minúsculas."
      ]
    },
    {
      "cell_type": "code",
      "execution_count": null,
      "id": "b97db599",
      "metadata": {
        "id": "b97db599",
        "outputId": "ca73a2cb-3237-431b-e3d8-642a907bf01c"
      },
      "outputs": [
        {
          "data": {
            "text/plain": [
              "'  el perro (canis familiaris o canis lupus familiaris, dependiendo de si se lo considera una especie por derecho propio o una subespecie del lobo),1\\u200b2\\u200b3\\u200b llamado perro doméstico o can,4\\u200b y en algunos lugares coloquialmente llamado chucho,5\\u200b tuso,6\\u200b choco,7\\u200b entre otros; es un mamífero carnívoro de la familia de los cánidos, que constituye una especie del género canis.8\\u200b9\\u200b. posee un oído y un olfato muy desarrollados, y este último es su principal órgano sensorial.  \\n'"
            ]
          },
          "execution_count": 40,
          "metadata": {},
          "output_type": "execute_result"
        }
      ],
      "source": [
        "resumen_perro.lower()"
      ]
    },
    {
      "cell_type": "markdown",
      "id": "35fca92c-98e5-4f21-9d6b-d1fcf817e77a",
      "metadata": {
        "id": "35fca92c-98e5-4f21-9d6b-d1fcf817e77a"
      },
      "source": [
        "#### `.upper()`\n",
        "\n",
        "Convierte todos los caracteres de un string a mayúsculas."
      ]
    },
    {
      "cell_type": "code",
      "execution_count": null,
      "id": "c7a687ee",
      "metadata": {
        "id": "c7a687ee",
        "outputId": "44c026db-975b-492a-8ee8-ed93709dbfed"
      },
      "outputs": [
        {
          "data": {
            "text/plain": [
              "'  EL PERRO (CANIS FAMILIARIS O CANIS LUPUS FAMILIARIS, DEPENDIENDO DE SI SE LO CONSIDERA UNA ESPECIE POR DERECHO PROPIO O UNA SUBESPECIE DEL LOBO),1\\u200b2\\u200b3\\u200b LLAMADO PERRO DOMÉSTICO O CAN,4\\u200b Y EN ALGUNOS LUGARES COLOQUIALMENTE LLAMADO CHUCHO,5\\u200b TUSO,6\\u200b CHOCO,7\\u200b ENTRE OTROS; ES UN MAMÍFERO CARNÍVORO DE LA FAMILIA DE LOS CÁNIDOS, QUE CONSTITUYE UNA ESPECIE DEL GÉNERO CANIS.8\\u200b9\\u200b. POSEE UN OÍDO Y UN OLFATO MUY DESARROLLADOS, Y ESTE ÚLTIMO ES SU PRINCIPAL ÓRGANO SENSORIAL.  \\n'"
            ]
          },
          "execution_count": 41,
          "metadata": {},
          "output_type": "execute_result"
        }
      ],
      "source": [
        "resumen_perro.upper()"
      ]
    },
    {
      "cell_type": "markdown",
      "id": "32a42e0b-12b7-4d06-9247-4d8d89224495",
      "metadata": {
        "id": "32a42e0b-12b7-4d06-9247-4d8d89224495"
      },
      "source": [
        "#### `.title()`\n",
        "\n",
        "title(): Convierte la primera letra de cada palabra de una cadena en mayúscula."
      ]
    },
    {
      "cell_type": "code",
      "execution_count": null,
      "id": "0e0ff0b4",
      "metadata": {
        "id": "0e0ff0b4",
        "outputId": "87362fff-6c2a-4bc1-ed54-c20712fbe58c"
      },
      "outputs": [
        {
          "data": {
            "text/plain": [
              "'  El Perro (Canis Familiaris O Canis Lupus Familiaris, Dependiendo De Si Se Lo Considera Una Especie Por Derecho Propio O Una Subespecie Del Lobo),1\\u200b2\\u200b3\\u200b Llamado Perro Doméstico O Can,4\\u200b Y En Algunos Lugares Coloquialmente Llamado Chucho,5\\u200b Tuso,6\\u200b Choco,7\\u200b Entre Otros; Es Un Mamífero Carnívoro De La Familia De Los Cánidos, Que Constituye Una Especie Del Género Canis.8\\u200b9\\u200b. Posee Un Oído Y Un Olfato Muy Desarrollados, Y Este Último Es Su Principal Órgano Sensorial.  \\n'"
            ]
          },
          "execution_count": 42,
          "metadata": {},
          "output_type": "execute_result"
        }
      ],
      "source": [
        "resumen_perro.title()"
      ]
    },
    {
      "cell_type": "markdown",
      "id": "f2d79890-aaa9-456a-a0ed-de1ee75e84b4",
      "metadata": {
        "id": "f2d79890-aaa9-456a-a0ed-de1ee75e84b4"
      },
      "source": [
        "#### `.capitalize()`\n",
        "\n",
        "capitalize(): Convierte la primera letra de una cadena en mayúscula."
      ]
    },
    {
      "cell_type": "code",
      "execution_count": null,
      "id": "6ea4da95-1237-4525-bb6d-f2bd8bdc15d0",
      "metadata": {
        "id": "6ea4da95-1237-4525-bb6d-f2bd8bdc15d0",
        "outputId": "68b25aa8-bc49-4d62-d6c4-be22863ba232"
      },
      "outputs": [
        {
          "data": {
            "text/plain": [
              "'  el perro (canis familiaris o canis lupus familiaris, dependiendo de si se lo considera una especie por derecho propio o una subespecie del lobo),1\\u200b2\\u200b3\\u200b llamado perro doméstico o can,4\\u200b y en algunos lugares coloquialmente llamado chucho,5\\u200b tuso,6\\u200b choco,7\\u200b entre otros; es un mamífero carnívoro de la familia de los cánidos, que constituye una especie del género canis.8\\u200b9\\u200b. posee un oído y un olfato muy desarrollados, y este último es su principal órgano sensorial.  \\n'"
            ]
          },
          "execution_count": 43,
          "metadata": {},
          "output_type": "execute_result"
        }
      ],
      "source": [
        "resumen_perro.capitalize()"
      ]
    },
    {
      "cell_type": "code",
      "execution_count": null,
      "id": "1f94207b",
      "metadata": {
        "id": "1f94207b",
        "outputId": "f8dcc675-b467-489f-bdc2-dc7c939ffcae"
      },
      "outputs": [
        {
          "data": {
            "text/plain": [
              "'Hola como estas'"
            ]
          },
          "execution_count": 46,
          "metadata": {},
          "output_type": "execute_result"
        }
      ],
      "source": [
        "\"hola como estas\".capitalize()"
      ]
    },
    {
      "cell_type": "markdown",
      "id": "2ca4dec8-3f15-4a93-ba84-e9c98c00105c",
      "metadata": {
        "id": "2ca4dec8-3f15-4a93-ba84-e9c98c00105c"
      },
      "source": [
        "#### `.strip()`\n",
        "\n",
        "Elimina los espacios en blanco al principio y al final de una cadena."
      ]
    },
    {
      "cell_type": "code",
      "execution_count": null,
      "id": "ed0a29a5-81b3-467f-8d68-7fa26deda49c",
      "metadata": {
        "id": "ed0a29a5-81b3-467f-8d68-7fa26deda49c",
        "outputId": "3d2d0d46-1230-4b66-f74c-5231f78e4010"
      },
      "outputs": [
        {
          "data": {
            "text/plain": [
              "'  El perro (Canis familiaris o Canis lupus familiaris, dependiendo de si se lo considera una especie por derecho propio o una subespecie del lobo),1\\u200b2\\u200b3\\u200b llamado perro doméstico o can,4\\u200b y en algunos lugares coloquialmente llamado chucho,5\\u200b tuso,6\\u200b choco,7\\u200b entre otros; es un mamífero carnívoro de la familia de los cánidos, que constituye una especie del género Canis.8\\u200b9\\u200b. Posee un oído y un olfato muy desarrollados, y este último es su principal órgano sensorial.  \\n'"
            ]
          },
          "execution_count": 47,
          "metadata": {},
          "output_type": "execute_result"
        }
      ],
      "source": [
        "resumen_perro"
      ]
    },
    {
      "cell_type": "code",
      "execution_count": null,
      "id": "1dac88bd-33b6-4f38-b04b-feb49bb0302c",
      "metadata": {
        "id": "1dac88bd-33b6-4f38-b04b-feb49bb0302c",
        "outputId": "0d28fd28-ac6a-4b99-9212-3cd7f49ed8cd"
      },
      "outputs": [
        {
          "data": {
            "text/plain": [
              "'El perro (Canis familiaris o Canis lupus familiaris, dependiendo de si se lo considera una especie por derecho propio o una subespecie del lobo),1\\u200b2\\u200b3\\u200b llamado perro doméstico o can,4\\u200b y en algunos lugares coloquialmente llamado chucho,5\\u200b tuso,6\\u200b choco,7\\u200b entre otros; es un mamífero carnívoro de la familia de los cánidos, que constituye una especie del género Canis.8\\u200b9\\u200b. Posee un oído y un olfato muy desarrollados, y este último es su principal órgano sensorial.  \\n'"
            ]
          },
          "execution_count": 50,
          "metadata": {},
          "output_type": "execute_result"
        }
      ],
      "source": [
        "resumen_perro.lstrip()"
      ]
    },
    {
      "cell_type": "code",
      "execution_count": null,
      "id": "ba0a4f69-23d9-4bc2-be16-0dc521af4d9c",
      "metadata": {
        "id": "ba0a4f69-23d9-4bc2-be16-0dc521af4d9c",
        "outputId": "88a5f43b-b5c3-420a-f969-ec6ac6d2851d"
      },
      "outputs": [
        {
          "data": {
            "text/plain": [
              "'el perro (canis familiaris o canis lupus familiaris, dependiendo de si se lo considera una especie por derecho propio o una subespecie del lobo),1\\u200b2\\u200b3\\u200b llamado perro doméstico o can,4\\u200b y en algunos lugares coloquialmente llamado chucho,5\\u200b tuso,6\\u200b choco,7\\u200b entre otros; es un mamífero carnívoro de la familia de los cánidos, que constituye una especie del género canis.8\\u200b9\\u200b. posee un oído y un olfato muy desarrollados, y este último es su principal órgano sensorial.'"
            ]
          },
          "execution_count": 51,
          "metadata": {},
          "output_type": "execute_result"
        }
      ],
      "source": [
        "# method chaining <-\n",
        "resumen_perro.strip().lower()"
      ]
    },
    {
      "cell_type": "markdown",
      "id": "0c46a0f4-ea63-4175-b135-4b397a243dab",
      "metadata": {
        "id": "0c46a0f4-ea63-4175-b135-4b397a243dab"
      },
      "source": [
        "#### `.split()`\n",
        "\n",
        "Divide una cadena en una lista de substrings, utilizando un string (habitualmente `\" \"`) como separador."
      ]
    },
    {
      "cell_type": "code",
      "execution_count": null,
      "id": "b730510b-e874-478d-8f30-47fc3a846e5b",
      "metadata": {
        "id": "b730510b-e874-478d-8f30-47fc3a846e5b",
        "outputId": "da9425eb-02fe-4b37-c15f-0a747a0fb626"
      },
      "outputs": [
        {
          "data": {
            "text/plain": [
              "'  El perro (Canis familiaris o Canis lupus familiaris, dependiendo de si se lo considera una especie por derecho propio o una subespecie del lobo),1\\u200b2\\u200b3\\u200b llamado perro doméstico o can,4\\u200b y en algunos lugares coloquialmente llamado chucho,5\\u200b tuso,6\\u200b choco,7\\u200b entre otros; es un mamífero carnívoro de la familia de los cánidos, que constituye una especie del género Canis.8\\u200b9\\u200b. Posee un oído y un olfato muy desarrollados, y este último es su principal órgano sensorial.  \\n'"
            ]
          },
          "execution_count": 52,
          "metadata": {},
          "output_type": "execute_result"
        }
      ],
      "source": [
        "resumen_perro"
      ]
    },
    {
      "cell_type": "code",
      "execution_count": null,
      "id": "0c6f6d83",
      "metadata": {
        "id": "0c6f6d83",
        "outputId": "6eb0f17b-2228-433c-e5b7-b960428fbe17"
      },
      "outputs": [
        {
          "data": {
            "text/plain": [
              "['',\n",
              " '',\n",
              " 'El',\n",
              " 'perro',\n",
              " '(Canis',\n",
              " 'familiaris',\n",
              " 'o',\n",
              " 'Canis',\n",
              " 'lupus',\n",
              " 'familiaris,',\n",
              " 'dependiendo',\n",
              " 'de',\n",
              " 'si',\n",
              " 'se',\n",
              " 'lo',\n",
              " 'considera',\n",
              " 'una',\n",
              " 'especie',\n",
              " 'por',\n",
              " 'derecho',\n",
              " 'propio',\n",
              " 'o',\n",
              " 'una',\n",
              " 'subespecie',\n",
              " 'del',\n",
              " 'lobo),1\\u200b2\\u200b3\\u200b',\n",
              " 'llamado',\n",
              " 'perro',\n",
              " 'doméstico',\n",
              " 'o',\n",
              " 'can,4\\u200b',\n",
              " 'y',\n",
              " 'en',\n",
              " 'algunos',\n",
              " 'lugares',\n",
              " 'coloquialmente',\n",
              " 'llamado',\n",
              " 'chucho,5\\u200b',\n",
              " 'tuso,6\\u200b',\n",
              " 'choco,7\\u200b',\n",
              " 'entre',\n",
              " 'otros;',\n",
              " 'es',\n",
              " 'un',\n",
              " 'mamífero',\n",
              " 'carnívoro',\n",
              " 'de',\n",
              " 'la',\n",
              " 'familia',\n",
              " 'de',\n",
              " 'los',\n",
              " 'cánidos,',\n",
              " 'que',\n",
              " 'constituye',\n",
              " 'una',\n",
              " 'especie',\n",
              " 'del',\n",
              " 'género',\n",
              " 'Canis.8\\u200b9\\u200b.',\n",
              " 'Posee',\n",
              " 'un',\n",
              " 'oído',\n",
              " 'y',\n",
              " 'un',\n",
              " 'olfato',\n",
              " 'muy',\n",
              " 'desarrollados,',\n",
              " 'y',\n",
              " 'este',\n",
              " 'último',\n",
              " 'es',\n",
              " 'su',\n",
              " 'principal',\n",
              " 'órgano',\n",
              " 'sensorial.',\n",
              " '',\n",
              " '\\n']"
            ]
          },
          "execution_count": 53,
          "metadata": {},
          "output_type": "execute_result"
        }
      ],
      "source": [
        "resumen_perro.split(\" \")"
      ]
    },
    {
      "cell_type": "code",
      "execution_count": null,
      "id": "f1a5b199-3de1-4814-90fd-cca8aa35fe3c",
      "metadata": {
        "id": "f1a5b199-3de1-4814-90fd-cca8aa35fe3c"
      },
      "outputs": [],
      "source": [
        "resumen_perro"
      ]
    },
    {
      "cell_type": "code",
      "execution_count": null,
      "id": "18decee6",
      "metadata": {
        "id": "18decee6",
        "outputId": "a62d6d25-3d53-4601-d0f1-63f2c997287d"
      },
      "outputs": [
        {
          "data": {
            "text/plain": [
              "['el ',\n",
              " ' (canis familiaris o canis lupus familiaris, dependiendo de si se lo considera una especie por derecho propio o una subespecie del lobo),1\\u200b2\\u200b3\\u200b llamado ',\n",
              " ' doméstico o can,4\\u200b y en algunos lugares coloquialmente llamado chucho,5\\u200b tuso,6\\u200b choco,7\\u200b entre otros; es un mamífero carnívoro de la familia de los cánidos, que constituye una especie del género canis.8\\u200b9\\u200b. posee un oído y un olfato muy desarrollados, y este último es su principal órgano sensorial.']"
            ]
          },
          "execution_count": 56,
          "metadata": {},
          "output_type": "execute_result"
        }
      ],
      "source": [
        "resumen_perro.strip().lower().split(\"perro\")"
      ]
    },
    {
      "cell_type": "markdown",
      "id": "e4863d74-b250-4cc0-9b01-0917ba85d98a",
      "metadata": {
        "id": "e4863d74-b250-4cc0-9b01-0917ba85d98a"
      },
      "source": [
        "> **Pregunta: ❓**: ¿Cómo podría separar oraciones?"
      ]
    },
    {
      "cell_type": "code",
      "execution_count": null,
      "id": "ab4d45c4-a8f7-47d1-839d-c996a194ab29",
      "metadata": {
        "id": "ab4d45c4-a8f7-47d1-839d-c996a194ab29",
        "outputId": "89e74a5a-8242-468b-b138-d18b17ac25f0"
      },
      "outputs": [
        {
          "data": {
            "text/plain": [
              "['  El perro (Canis familiaris o Canis lupus familiaris, dependiendo de si se lo considera una especie por derecho propio o una subespecie del lobo),1\\u200b2\\u200b3\\u200b llamado perro doméstico o can,4\\u200b y en algunos lugares coloquialmente llamado chucho,5\\u200b tuso,6\\u200b choco,7\\u200b entre otros; es un mamífero carnívoro de la familia de los cánidos, que constituye una especie del género Canis',\n",
              " '8\\u200b9\\u200b',\n",
              " ' Posee un oído y un olfato muy desarrollados, y este último es su principal órgano sensorial',\n",
              " '  \\n']"
            ]
          },
          "execution_count": 57,
          "metadata": {},
          "output_type": "execute_result"
        }
      ],
      "source": [
        "oraciones_divididas = resumen_perro.split(\".\")\n",
        "oraciones_divididas"
      ]
    },
    {
      "cell_type": "code",
      "execution_count": null,
      "id": "0a20ab59-6fa5-4fd4-9025-55c36df1490f",
      "metadata": {
        "id": "0a20ab59-6fa5-4fd4-9025-55c36df1490f",
        "outputId": "53bd495c-0886-4e8b-f771-6658ee54e5d2"
      },
      "outputs": [
        {
          "name": "stdout",
          "output_type": "stream",
          "text": [
            "El perro (canis familiaris o canis lupus familiaris, dependiendo de si se lo considera una especie por derecho propio o una subespecie del lobo),1​2​3​ llamado perro doméstico o can,4​ y en algunos lugares coloquialmente llamado chucho,5​ tuso,6​ choco,7​ entre otros; es un mamífero carnívoro de la familia de los cánidos, que constituye una especie del género canis \n",
            "\n",
            "Posee un oído y un olfato muy desarrollados, y este último es su principal órgano sensorial \n",
            "\n"
          ]
        }
      ],
      "source": [
        "for oracion in oraciones_divididas:\n",
        "    if len(oracion) > 10:\n",
        "        print(oracion.strip().capitalize(), '\\n')"
      ]
    },
    {
      "cell_type": "markdown",
      "id": "1d02613d-a36f-4d92-9b25-06ac0e79e9ca",
      "metadata": {
        "id": "1d02613d-a36f-4d92-9b25-06ac0e79e9ca"
      },
      "source": [
        "#### `join(\"\")`\n",
        "\n",
        "Une una lista de strings en un único string según algún separador (comunmente un espacio `\" \"`, punto `\".\"` o salto e linea `\"\\n\"`)."
      ]
    },
    {
      "cell_type": "code",
      "execution_count": null,
      "id": "fa3f7ef8",
      "metadata": {
        "id": "fa3f7ef8",
        "outputId": "d3edc670-959d-4bf6-f22e-40b6c24ef83d"
      },
      "outputs": [
        {
          "data": {
            "text/plain": [
              "'  El perro (Canis familiaris o Canis lupus familiaris, dependiendo de si se lo considera una especie por derecho propio o una subespecie del lobo),1\\u200b2\\u200b3\\u200b llamado perro doméstico o can,4\\u200b y en algunos lugares coloquialmente llamado chucho,5\\u200b tuso,6\\u200b choco,7\\u200b entre otros; es un mamífero carnívoro de la familia de los cánidos, que constituye una especie del género Canis.8\\u200b9\\u200b. Posee un oído y un olfato muy desarrollados, y este último es su principal órgano sensorial.  \\n'"
            ]
          },
          "execution_count": 65,
          "metadata": {},
          "output_type": "execute_result"
        }
      ],
      "source": [
        "\" \".join(resumen_perro.split(\" \"))"
      ]
    },
    {
      "cell_type": "markdown",
      "id": "b58d5a27-efe9-464a-8560-686ece58e100",
      "metadata": {
        "id": "b58d5a27-efe9-464a-8560-686ece58e100"
      },
      "source": [
        "#### `str1 in str2`\n",
        "\n",
        "Devuelve True si un substring está presente en un string."
      ]
    },
    {
      "cell_type": "code",
      "execution_count": null,
      "id": "8b08012a-0ad5-4e6a-b64a-1d447501b683",
      "metadata": {
        "id": "8b08012a-0ad5-4e6a-b64a-1d447501b683",
        "outputId": "4b7b25cb-8b2b-45de-e96b-4996a2285f7f"
      },
      "outputs": [
        {
          "data": {
            "text/plain": [
              "'  El perro (Canis familiaris o Canis lupus familiaris, dependiendo de si se lo considera una especie por derecho propio o una subespecie del lobo),1\\u200b2\\u200b3\\u200b llamado perro doméstico o can,4\\u200b y en algunos lugares coloquialmente llamado chucho,5\\u200b tuso,6\\u200b choco,7\\u200b entre otros; es un mamífero carnívoro de la familia de los cánidos, que constituye una especie del género Canis.8\\u200b9\\u200b. Posee un oído y un olfato muy desarrollados, y este último es su principal órgano sensorial.  \\n'"
            ]
          },
          "execution_count": 66,
          "metadata": {},
          "output_type": "execute_result"
        }
      ],
      "source": [
        "resumen_perro"
      ]
    },
    {
      "cell_type": "code",
      "execution_count": null,
      "id": "4d4843eb",
      "metadata": {
        "id": "4d4843eb",
        "outputId": "c9583ec0-4548-439b-f030-e1fc3b38dbeb"
      },
      "outputs": [
        {
          "data": {
            "text/plain": [
              "True"
            ]
          },
          "execution_count": 67,
          "metadata": {},
          "output_type": "execute_result"
        }
      ],
      "source": [
        "\"perro\" in resumen_perro"
      ]
    },
    {
      "cell_type": "code",
      "execution_count": null,
      "id": "e298012d",
      "metadata": {
        "id": "e298012d",
        "outputId": "8dd42d21-1f8d-4f60-b865-a56c940278d1"
      },
      "outputs": [
        {
          "data": {
            "text/plain": [
              "False"
            ]
          },
          "execution_count": 68,
          "metadata": {},
          "output_type": "execute_result"
        }
      ],
      "source": [
        "\"gato\" in resumen_perro"
      ]
    },
    {
      "cell_type": "markdown",
      "id": "0a3bfe8e-2482-4969-a6cf-4b577d660828",
      "metadata": {
        "id": "0a3bfe8e-2482-4969-a6cf-4b577d660828"
      },
      "source": [
        "#### `.replace()`\n",
        "\n",
        "Reemplaza un substring con otro en una string."
      ]
    },
    {
      "cell_type": "code",
      "execution_count": null,
      "id": "786f7abb-259f-4236-9cb9-9b065574c996",
      "metadata": {
        "id": "786f7abb-259f-4236-9cb9-9b065574c996",
        "outputId": "94b0cc2f-ac1b-447e-8f06-c28add5d3904"
      },
      "outputs": [
        {
          "data": {
            "text/plain": [
              "'  El can (Canis familiaris o Canis lupus familiaris, dependiendo de si se lo considera una especie por derecho propio o una subespecie del lobo),1\\u200b2\\u200b3\\u200b llamado can doméstico o can,4\\u200b y en algunos lugares coloquialmente llamado chucho,5\\u200b tuso,6\\u200b choco,7\\u200b entre otros; es un mamífero carnívoro de la familia de los cánidos, que constituye una especie del género Canis.8\\u200b9\\u200b. Posee un oído y un olfato muy desarrollados, y este último es su principal órgano sensorial.  \\n'"
            ]
          },
          "execution_count": 69,
          "metadata": {},
          "output_type": "execute_result"
        }
      ],
      "source": [
        "# por ejemplo, eliminar la palabra perro.\n",
        "\n",
        "resumen_perro.replace(\"perro\", \"can\")"
      ]
    },
    {
      "cell_type": "code",
      "execution_count": null,
      "id": "94408d16-2eb1-489f-b7b8-1fc9202dc10e",
      "metadata": {
        "id": "94408d16-2eb1-489f-b7b8-1fc9202dc10e",
        "outputId": "36e6dbc6-510b-4234-8bb2-3f46617d9556"
      },
      "outputs": [
        {
          "data": {
            "text/plain": [
              "'  El perro (Canis familiaris o Canis lupus familiaris, dependiendo de si se lo considera una especie por derecho propio o una subespecie del lobo),1\\u200b2\\u200b3\\u200b llamado perro doméstico o can,4\\u200b y en algunos lugares coloquialmente llamado chucho,5\\u200b tuso,6\\u200b choco,7\\u200b entre otros; es un mamífero carnívoro de la familia de los cánidos, que constituye una especie del género Canis.8\\u200b9\\u200b. Posee un oído y un olfato muy desarrollados, y este último es su principal órgano sensorial.  \\n'"
            ]
          },
          "execution_count": 70,
          "metadata": {},
          "output_type": "execute_result"
        }
      ],
      "source": [
        "# notar que es sensible a mayúsculas.\n",
        "resumen_perro.replace(\"Perro\", \"\")"
      ]
    },
    {
      "cell_type": "code",
      "execution_count": null,
      "id": "615dacc3-a26c-49cd-abd6-4978359b301b",
      "metadata": {
        "id": "615dacc3-a26c-49cd-abd6-4978359b301b",
        "outputId": "45513a84-dc83-4eae-8685-6268e23676d5"
      },
      "outputs": [
        {
          "data": {
            "text/plain": [
              "'  El gato (Canis familiaris o Canis lupus familiaris, dependiendo de si se lo considera una especie por derecho propio o una subespecie del lobo),1\\u200b2\\u200b3\\u200b llamado gato doméstico o can,4\\u200b y en algunos lugares coloquialmente llamado chucho,5\\u200b tuso,6\\u200b choco,7\\u200b entre otros; es un mamífero carnívoro de la familia de los cánidos, que constituye una especie del género Canis.8\\u200b9\\u200b. Posee un oído y un olfato muy desarrollados, y este último es su principal órgano sensorial.  \\n'"
            ]
          },
          "execution_count": 71,
          "metadata": {},
          "output_type": "execute_result"
        }
      ],
      "source": [
        "resumen_perro.replace(\"perro\", \"gato\")"
      ]
    },
    {
      "cell_type": "code",
      "execution_count": null,
      "id": "ee0a4ac1-e506-4f20-9f85-cf70e2fbe348",
      "metadata": {
        "id": "ee0a4ac1-e506-4f20-9f85-cf70e2fbe348",
        "outputId": "4bd214c5-be5d-4ed4-8e0d-a495d204ce48"
      },
      "outputs": [
        {
          "data": {
            "text/plain": [
              "'  El perro (Canis familiaris o Canis lupus familiaris, dependiendo de si se lo considera una especie por derecho propio o una subespecie del lobo),123 llamado perro doméstico o can,4 y en algunos lugares coloquialmente llamado chucho,5 tuso,6 choco,7 entre otros; es un mamífero carnívoro de la familia de los cánidos, que constituye una especie del género Canis.89. Posee un oído y un olfato muy desarrollados, y este último es su principal órgano sensorial.  \\n'"
            ]
          },
          "execution_count": 72,
          "metadata": {},
          "output_type": "execute_result"
        }
      ],
      "source": [
        "resumen_perro.replace(\"\\u200b\", \"\")"
      ]
    },
    {
      "cell_type": "markdown",
      "id": "6d9834dc",
      "metadata": {
        "id": "6d9834dc"
      },
      "source": [
        "### Strings en pandas\n",
        "\n",
        "La mayoría de los métodos de procesamiento de strings que se vieron anteriormente pueden ser ejecutados a través del atributo `.str` en las series de Pandas.\n",
        "\n",
        "La idea detrás del uso de los métodos de .str es que el preprocesamiento se haga de manera ordenada y eficiente. Al utilizar estos métodos, los usuarios pueden aplicar una variedad de transformaciones a sus datos de texto en una sola línea de código, lo que facilita el procesamiento de grandes conjuntos de datos de texto."
      ]
    },
    {
      "cell_type": "code",
      "execution_count": null,
      "id": "42ae6c01-3014-4417-ab55-514e3f492c55",
      "metadata": {
        "id": "42ae6c01-3014-4417-ab55-514e3f492c55",
        "outputId": "5a37caca-ee8a-40b7-d0d6-2dd8e28a4d5d"
      },
      "outputs": [
        {
          "data": {
            "text/html": [
              "<div>\n",
              "<style scoped>\n",
              "    .dataframe tbody tr th:only-of-type {\n",
              "        vertical-align: middle;\n",
              "    }\n",
              "\n",
              "    .dataframe tbody tr th {\n",
              "        vertical-align: top;\n",
              "    }\n",
              "\n",
              "    .dataframe thead th {\n",
              "        text-align: right;\n",
              "    }\n",
              "</style>\n",
              "<table border=\"1\" class=\"dataframe\">\n",
              "  <thead>\n",
              "    <tr style=\"text-align: right;\">\n",
              "      <th></th>\n",
              "      <th>nombre</th>\n",
              "      <th>resumen</th>\n",
              "    </tr>\n",
              "  </thead>\n",
              "  <tbody>\n",
              "    <tr>\n",
              "      <th>0</th>\n",
              "      <td>Perro</td>\n",
              "      <td>El perro (Canis familiaris o Canis lupus fam...</td>\n",
              "    </tr>\n",
              "    <tr>\n",
              "      <th>1</th>\n",
              "      <td>Gato</td>\n",
              "      <td>El gato doméstico1​2​ (Felis silvestris catu...</td>\n",
              "    </tr>\n",
              "    <tr>\n",
              "      <th>2</th>\n",
              "      <td>Canario</td>\n",
              "      <td>El canario doméstico (Serinus canaria domest...</td>\n",
              "    </tr>\n",
              "  </tbody>\n",
              "</table>\n",
              "</div>"
            ],
            "text/plain": [
              "    nombre                                            resumen\n",
              "0    Perro    El perro (Canis familiaris o Canis lupus fam...\n",
              "1     Gato    El gato doméstico1​2​ (Felis silvestris catu...\n",
              "2  Canario    El canario doméstico (Serinus canaria domest..."
            ]
          },
          "execution_count": 73,
          "metadata": {},
          "output_type": "execute_result"
        }
      ],
      "source": [
        "df_mascotas"
      ]
    },
    {
      "cell_type": "code",
      "execution_count": null,
      "id": "78d21062",
      "metadata": {
        "id": "78d21062",
        "outputId": "72ca43ba-d684-4f2f-a3aa-1de3c85a78c3"
      },
      "outputs": [
        {
          "data": {
            "text/plain": [
              "0      El perro (Canis familiaris o Canis lupus fam...\n",
              "1      El gato doméstico1​2​ (Felis silvestris catu...\n",
              "2      El canario doméstico (Serinus canaria domest...\n",
              "Name: resumen, dtype: object"
            ]
          },
          "execution_count": 74,
          "metadata": {},
          "output_type": "execute_result"
        }
      ],
      "source": [
        "df_mascotas.loc[:, \"resumen\"]"
      ]
    },
    {
      "cell_type": "markdown",
      "id": "f15e4c15",
      "metadata": {
        "id": "f15e4c15"
      },
      "source": [
        "#### Len, Lower, Upper, Title y Capitalize"
      ]
    },
    {
      "cell_type": "code",
      "execution_count": null,
      "id": "8d9ff791-3a0b-490c-a237-012323d90ae1",
      "metadata": {
        "id": "8d9ff791-3a0b-490c-a237-012323d90ae1",
        "outputId": "bd641490-2ed7-4eff-bea4-5f7cdeeb21d5"
      },
      "outputs": [
        {
          "data": {
            "text/plain": [
              "<pandas.core.strings.accessor.StringMethods at 0x1fbcda6a810>"
            ]
          },
          "execution_count": 75,
          "metadata": {},
          "output_type": "execute_result"
        }
      ],
      "source": [
        "df_mascotas.loc[:, \"resumen\"].str"
      ]
    },
    {
      "cell_type": "code",
      "execution_count": null,
      "id": "73d97536",
      "metadata": {
        "id": "73d97536",
        "outputId": "a72ebe53-26dc-4692-b3a4-4c4952d81419"
      },
      "outputs": [
        {
          "data": {
            "text/plain": [
              "0    471\n",
              "1    316\n",
              "2    343\n",
              "Name: resumen, dtype: int64"
            ]
          },
          "execution_count": 76,
          "metadata": {},
          "output_type": "execute_result"
        }
      ],
      "source": [
        "df_mascotas.loc[:, \"resumen\"].str.len()"
      ]
    },
    {
      "cell_type": "code",
      "execution_count": null,
      "id": "11fdef32",
      "metadata": {
        "id": "11fdef32",
        "outputId": "22cef14a-e580-4a27-a6f2-77977f820ffb"
      },
      "outputs": [
        {
          "data": {
            "text/plain": [
              "0      el perro (canis familiaris o canis lupus fam...\n",
              "1      el gato doméstico1​2​ (felis silvestris catu...\n",
              "2      el canario doméstico (serinus canaria domest...\n",
              "Name: resumen, dtype: object"
            ]
          },
          "execution_count": 77,
          "metadata": {},
          "output_type": "execute_result"
        }
      ],
      "source": [
        "df_mascotas.loc[:, \"resumen\"].str.lower()"
      ]
    },
    {
      "cell_type": "code",
      "execution_count": null,
      "id": "f657a04d",
      "metadata": {
        "id": "f657a04d",
        "outputId": "78c1dda1-3dab-46d3-f4bb-f31d490697f1"
      },
      "outputs": [
        {
          "data": {
            "text/plain": [
              "0      EL PERRO (CANIS FAMILIARIS O CANIS LUPUS FAM...\n",
              "1      EL GATO DOMÉSTICO1​2​ (FELIS SILVESTRIS CATU...\n",
              "2      EL CANARIO DOMÉSTICO (SERINUS CANARIA DOMEST...\n",
              "Name: resumen, dtype: object"
            ]
          },
          "execution_count": 78,
          "metadata": {},
          "output_type": "execute_result"
        }
      ],
      "source": [
        "df_mascotas.loc[:, \"resumen\"].str.upper()"
      ]
    },
    {
      "cell_type": "code",
      "execution_count": null,
      "id": "c94f097b",
      "metadata": {
        "id": "c94f097b",
        "outputId": "9b9b2b4e-3b01-4101-cf00-cd32527281fc"
      },
      "outputs": [
        {
          "data": {
            "text/plain": [
              "0      El Perro (Canis Familiaris O Canis Lupus Fam...\n",
              "1      El Gato Doméstico1​2​ (Felis Silvestris Catu...\n",
              "2      El Canario Doméstico (Serinus Canaria Domest...\n",
              "Name: resumen, dtype: object"
            ]
          },
          "execution_count": 79,
          "metadata": {},
          "output_type": "execute_result"
        }
      ],
      "source": [
        "df_mascotas.loc[:, \"resumen\"].str.title()"
      ]
    },
    {
      "cell_type": "code",
      "execution_count": null,
      "id": "eae9a001",
      "metadata": {
        "id": "eae9a001",
        "outputId": "b1ca14c9-7cc3-40b5-9f7c-853f75218173"
      },
      "outputs": [
        {
          "data": {
            "text/plain": [
              "0      el perro (canis familiaris o canis lupus fam...\n",
              "1      el gato doméstico1​2​ (felis silvestris catu...\n",
              "2      el canario doméstico (serinus canaria domest...\n",
              "Name: resumen, dtype: object"
            ]
          },
          "execution_count": 80,
          "metadata": {},
          "output_type": "execute_result"
        }
      ],
      "source": [
        "df_mascotas.loc[:, \"resumen\"].str.capitalize()"
      ]
    },
    {
      "cell_type": "markdown",
      "id": "432ca609",
      "metadata": {
        "id": "432ca609"
      },
      "source": [
        "#### Contains, Split y Join\n",
        "\n",
        "\n",
        "> **Nota: 🗒️**: `.contains` reemplaza al operador `.in`"
      ]
    },
    {
      "cell_type": "code",
      "execution_count": null,
      "id": "dfa6cde7",
      "metadata": {
        "id": "dfa6cde7",
        "outputId": "cc5238c8-2375-4fc2-bb0a-e2fa0adb576c"
      },
      "outputs": [
        {
          "data": {
            "text/plain": [
              "0     True\n",
              "1    False\n",
              "2    False\n",
              "Name: resumen, dtype: bool"
            ]
          },
          "execution_count": 81,
          "metadata": {},
          "output_type": "execute_result"
        }
      ],
      "source": [
        "df_mascotas.loc[:, \"resumen\"].str.contains(\"perro\")"
      ]
    },
    {
      "cell_type": "code",
      "execution_count": null,
      "id": "e16db4ef",
      "metadata": {
        "id": "e16db4ef",
        "outputId": "dd9a0663-6b6b-49bd-cbf6-9f00682128a6"
      },
      "outputs": [
        {
          "data": {
            "text/plain": [
              "0    False\n",
              "1     True\n",
              "2    False\n",
              "Name: resumen, dtype: bool"
            ]
          },
          "execution_count": 82,
          "metadata": {},
          "output_type": "execute_result"
        }
      ],
      "source": [
        "df_mascotas.loc[:, \"resumen\"].str.contains(\"gato\")"
      ]
    },
    {
      "cell_type": "code",
      "execution_count": null,
      "id": "8791410b",
      "metadata": {
        "id": "8791410b",
        "outputId": "58412bf7-b453-4c52-a59a-8ddebb092480"
      },
      "outputs": [
        {
          "data": {
            "text/plain": [
              "0    [, , El, perro, (Canis, familiaris, o, Canis, ...\n",
              "1    [, , El, gato, doméstico1​2​, (Felis, silvestr...\n",
              "2    [, , El, canario, doméstico, (Serinus, canaria...\n",
              "Name: resumen, dtype: object"
            ]
          },
          "execution_count": 83,
          "metadata": {},
          "output_type": "execute_result"
        }
      ],
      "source": [
        "df_mascotas.loc[:, \"resumen\"].str.split(\" \")"
      ]
    },
    {
      "cell_type": "code",
      "execution_count": null,
      "id": "26faa609",
      "metadata": {
        "id": "26faa609",
        "outputId": "e5778077-b56b-4431-c976-4986c002e955"
      },
      "outputs": [
        {
          "data": {
            "text/plain": [
              "0      El perro (Canis familiaris o Canis lupus fam...\n",
              "1      El gato doméstico1​2​ (Felis silvestris catu...\n",
              "2      El canario doméstico (Serinus canaria domest...\n",
              "Name: resumen, dtype: object"
            ]
          },
          "execution_count": 85,
          "metadata": {},
          "output_type": "execute_result"
        }
      ],
      "source": [
        "df_mascotas.loc[:, \"resumen\"].str.split(\" \").str.join(\" \")"
      ]
    },
    {
      "cell_type": "markdown",
      "id": "d33bec55",
      "metadata": {
        "id": "d33bec55"
      },
      "source": [
        "#### Replace"
      ]
    },
    {
      "cell_type": "code",
      "execution_count": null,
      "id": "814d624c-d65c-4893-a8dc-372face40283",
      "metadata": {
        "id": "814d624c-d65c-4893-a8dc-372face40283",
        "outputId": "8de8e241-2f2c-4763-bea3-68752c9bf7c6"
      },
      "outputs": [
        {
          "data": {
            "text/plain": [
              "array(['  El perro (Canis familiaris o Canis lupus familiaris, dependiendo de si se lo considera una especie por derecho propio o una subespecie del lobo),1\\u200b2\\u200b3\\u200b llamado perro doméstico o can,4\\u200b y en algunos lugares coloquialmente llamado chucho,5\\u200b tuso,6\\u200b choco,7\\u200b entre otros; es un mamífero carnívoro de la familia de los cánidos, que constituye una especie del género Canis.8\\u200b9\\u200b. Posee un oído y un olfato muy desarrollados, y este último es su principal órgano sensorial.  \\n',\n",
              "       '  El gato doméstico1\\u200b2\\u200b (Felis silvestris catus), llamado popularmente gato, y de forma coloquial minino,3\\u200b michino,4\\u200b michi,5\\u200b micho,6\\u200b mizo,7\\u200b miz,8\\u200b morroño9\\u200b o morrongo,10\\u200b entre otros nombres, es un mamífero carnívoro de la familia Felidae. Es una subespecie domesticada por la convivencia con el ser humano.  \\n',\n",
              "       '  El canario doméstico (Serinus canaria domestica)3\\u200b4\\u200b es una subespecie desarrollada durante siglos de selección en cautividad partiendo de ejemplares del canario silvestre o canario salvaje (Serinus canaria), una especie de ave del orden paseriforme de la familia de los fringílidos, endémica de las islas Canarias, Azores y Madeira.5\\u200b6\\u200b   \\n'],\n",
              "      dtype=object)"
            ]
          },
          "execution_count": 86,
          "metadata": {},
          "output_type": "execute_result"
        }
      ],
      "source": [
        "df_mascotas.loc[:, \"resumen\"].values"
      ]
    },
    {
      "cell_type": "code",
      "execution_count": null,
      "id": "3a46de96",
      "metadata": {
        "id": "3a46de96",
        "outputId": "069f9cdd-2cf7-4be5-d4c5-d9eb5056d5ab"
      },
      "outputs": [
        {
          "data": {
            "text/plain": [
              "0      El perro Canis familiaris o Canis lupus fami...\n",
              "1      El gato doméstico​​ Felis silvestris catus, ...\n",
              "2      El canario doméstico Serinus canaria domesti...\n",
              "Name: resumen, dtype: object"
            ]
          },
          "execution_count": 87,
          "metadata": {},
          "output_type": "execute_result"
        }
      ],
      "source": [
        "s1 = (\n",
        "    df_mascotas.loc[:, \"resumen\"]\n",
        "    .str.replace(\"(\", \"\", regex=False)\n",
        "    .str.replace(\")\", \"\", regex=False)\n",
        "    .str.replace(\"1\", \"\", regex=False)\n",
        "    .str.replace(\"2\", \"\", regex=False)\n",
        ")\n",
        "\n",
        "s1"
      ]
    },
    {
      "cell_type": "markdown",
      "id": "0def7991-4c4d-4b73-95cf-733ef0a5b2f2",
      "metadata": {
        "id": "0def7991-4c4d-4b73-95cf-733ef0a5b2f2"
      },
      "source": [
        "> **Pregunta ❓:** ¿Qué indica el parámetro `regex`?"
      ]
    },
    {
      "cell_type": "markdown",
      "id": "d5c46509",
      "metadata": {
        "id": "d5c46509"
      },
      "source": [
        "#### Expresiones Regulares\n",
        "\n",
        "Las expresiones regulares son una herramienta de búsqueda y manipulación de texto que permiten encontrar patrones específicos en una cadena de caracteres.\n",
        "\n",
        "Una expresión regular es una secuencia de caracteres que define un patrón de búsqueda. Los patrones pueden incluir caracteres específicos, combinaciones de caracteres, grupos de caracteres y operadores especiales que permiten hacer coincidir patrones complejos en el texto.\n",
        "\n",
        "Aunque pueden parecer complicadas al principio, las expresiones regulares son una herramienta muy poderosa ya que pueden ser aplicadas en una amplia variedad de tareas de procesamiento de texto.\n",
        "\n",
        "\n",
        "- Tutorial de regex: https://www.programiz.com/python-programming/regex\n",
        "- Playground para probar regex online: https://regex101.com/"
      ]
    },
    {
      "cell_type": "markdown",
      "id": "2aba5797-6ea9-4e4f-bd9c-60b0e08f348e",
      "metadata": {
        "id": "2aba5797-6ea9-4e4f-bd9c-60b0e08f348e"
      },
      "source": [
        "##### Sintaxis y reglas básicas\n",
        "\n",
        "1. Usa caracteres literales para representar las letras y números que deseas buscar. Por ejemplo, la expresión regular `abc` buscará la cadena de texto `\"abc\"`.\n",
        "2. Utiliza caracteres especiales para representar patrones de búsqueda más complejos. Por ejemplo, el carácter especial `\".\"` representa cualquier carácter, y el carácter especial `\"^\"` representa el inicio de una línea.\n",
        "3. Utiliza corchetes para definir un conjunto de caracteres que deseas buscar. Por ejemplo, [abc] buscará cualquiera de los caracteres `\"a\"`, `\"b\"` o `\"c\"`.\n",
        "4. Utiliza caracteres especiales como `*` o `+` para representar repeticiones de caracteres o patrones. Por ejemplo, `a*` buscará cero o más repeticiones de la letra `\"a\"` como `\"\"`, `\"a\"`, `\"aa\"`, etc...; `a+` en cambio aceptará `\"a\"`, `\"aa\"`, etc...\n",
        "5. Utiliza paréntesis para agrupar patrones y aplicar operadores a grupos de caracteres. Por ejemplo, `(abc)+` buscará una o más repeticiones de la cadena `\"abc\"`.\n",
        "6. Utiliza el carácter especial `\\` para escapar caracteres especiales (o sea, para tratar a *, +, [, ], etc... como texto) y tratarlos como caracteres literales. Por ejemplo, `\\.com` buscará el texto `\".com\"`.\n",
        "7. Utiliza el símbolo `^` para indicar que lo que se busca está al inicio de la línea, y el símbolo `$` para indica que lo que se busca el final de la línea.\n",
        "8. Uitiliza `\\s+` para encontrar todos los espacios, `[0-9]` para buscar los dígitos (`[0-9]+` para uno o más de un dígito) y `[a-zA-Z]` para encontrar letras (`[a-zA-Z]+` para uno o más de una letra)."
      ]
    },
    {
      "cell_type": "code",
      "execution_count": null,
      "id": "ee52ca35-86d6-421b-a617-9b46fc1a0ad6",
      "metadata": {
        "id": "ee52ca35-86d6-421b-a617-9b46fc1a0ad6",
        "outputId": "726c4aec-728f-47a0-aef8-6ff02f284f10"
      },
      "outputs": [
        {
          "data": {
            "text/plain": [
              "0      El perro (Canis familiaris o Canis lupus fam...\n",
              "1      El gato doméstico1​2​ (Felis silvestris catu...\n",
              "2      El canario doméstico (Serinus canaria domest...\n",
              "Name: resumen, dtype: object"
            ]
          },
          "execution_count": 88,
          "metadata": {},
          "output_type": "execute_result"
        }
      ],
      "source": [
        "df_mascotas.loc[:, \"resumen\"]"
      ]
    },
    {
      "cell_type": "code",
      "execution_count": null,
      "id": "9540fd48-74ec-4168-a7bb-015c2f0266fc",
      "metadata": {
        "id": "9540fd48-74ec-4168-a7bb-015c2f0266fc",
        "outputId": "9e4a62f7-aafe-4868-8799-36304304fd54"
      },
      "outputs": [
        {
          "data": {
            "text/plain": [
              "array([list(['el', 'perro', 'canis', 'familiaris', 'o', 'canis', 'lupus', 'familiaris', 'dependiendo', 'de', 'si', 'se', 'lo', 'considera', 'una', 'especie', 'por', 'derecho', 'propio', 'o', 'una', 'subespecie', 'del', 'lobo', 'llamado', 'perro', 'doméstico', 'o', 'can', 'y', 'en', 'algunos', 'lugares', 'coloquialmente', 'llamado', 'chucho', 'tuso', 'choco', 'entre', 'otros', 'es', 'un', 'mamífero', 'carnívoro', 'de', 'la', 'familia', 'de', 'los', 'cánidos', 'que', 'constituye', 'una', 'especie', 'del', 'género', 'canis', 'posee', 'un', 'oído', 'y', 'un', 'olfato', 'muy', 'desarrollados', 'y', 'este', 'último', 'es', 'su', 'principal', 'órgano', 'sensorial']),\n",
              "       list(['el', 'gato', 'doméstico', 'felis', 'silvestris', 'catus', 'llamado', 'popularmente', 'gato', 'y', 'de', 'forma', 'coloquial', 'minino', 'michino', 'michi', 'micho', 'mizo', 'miz', 'morroño', 'o', 'morrongo', 'entre', 'otros', 'nombres', 'es', 'un', 'mamífero', 'carnívoro', 'de', 'la', 'familia', 'felidae', 'es', 'una', 'subespecie', 'domesticada', 'por', 'la', 'convivencia', 'con', 'el', 'ser', 'humano']),\n",
              "       list(['el', 'canario', 'doméstico', 'serinus', 'canaria', 'domestica', 'es', 'una', 'subespecie', 'desarrollada', 'durante', 'siglos', 'de', 'selección', 'en', 'cautividad', 'partiendo', 'de', 'ejemplares', 'del', 'canario', 'silvestre', 'o', 'canario', 'salvaje', 'serinus', 'canaria', 'una', 'especie', 'de', 'ave', 'del', 'orden', 'paseriforme', 'de', 'la', 'familia', 'de', 'los', 'fringílidos', 'endémica', 'de', 'las', 'islas', 'canarias', 'azores', 'y', 'madeira'])],\n",
              "      dtype=object)"
            ]
          },
          "execution_count": 89,
          "metadata": {},
          "output_type": "execute_result"
        }
      ],
      "source": [
        "(\n",
        "    df_mascotas.loc[:, \"resumen\"]\n",
        "    .str.strip()\n",
        "    .str.replace(\"[\\n\\u200b0-9,;()\\.]\", \"\", regex=True)\n",
        "    .str.lower()\n",
        "    .str.split(\" \")\n",
        ").values"
      ]
    },
    {
      "cell_type": "code",
      "execution_count": null,
      "id": "72893cfe",
      "metadata": {
        "id": "72893cfe",
        "outputId": "1a0bcf67-e1f6-4d00-dbb3-55879c2f1fa7"
      },
      "outputs": [
        {
          "data": {
            "text/plain": [
              "array(['  El perro (Canis familiaris o Canis lupus familiaris dependiendo de si se lo considera una especie por derecho propio o una subespecie del lobo)1\\u200b2\\u200b3\\u200b llamado perro doméstico o can4\\u200b y en algunos lugares coloquialmente llamado chucho5\\u200b tuso6\\u200b choco7\\u200b entre otros; es un mamífero carnívoro de la familia de los cánidos que constituye una especie del género Canis.8\\u200b9\\u200b. Posee un oído y un olfato muy desarrollados y este último es su principal órgano sensorial.  \\n',\n",
              "       '  El gato doméstico1\\u200b2\\u200b (Felis silvestris catus) llamado popularmente gato y de forma coloquial minino3\\u200b michino4\\u200b michi5\\u200b micho6\\u200b mizo7\\u200b miz8\\u200b morroño9\\u200b o morrongo10\\u200b entre otros nombres es un mamífero carnívoro de la familia Felidae. Es una subespecie domesticada por la convivencia con el ser humano.  \\n',\n",
              "       '  El canario doméstico (Serinus canaria domestica)3\\u200b4\\u200b es una subespecie desarrollada durante siglos de selección en cautividad partiendo de ejemplares del canario silvestre o canario salvaje (Serinus canaria) una especie de ave del orden paseriforme de la familia de los fringílidos endémica de las islas Canarias Azores y Madeira.5\\u200b6\\u200b   \\n'],\n",
              "      dtype=object)"
            ]
          },
          "execution_count": 90,
          "metadata": {},
          "output_type": "execute_result"
        }
      ],
      "source": [
        "# sintaxis regex\n",
        "\n",
        "# en este caso se eliminan todas las comas\n",
        "df_mascotas.loc[:, \"resumen\"].str.replace(\",\", \"\", regex=True).values"
      ]
    },
    {
      "cell_type": "code",
      "execution_count": null,
      "id": "a08de00f-3348-438c-86c8-b7d687ed438e",
      "metadata": {
        "id": "a08de00f-3348-438c-86c8-b7d687ed438e",
        "outputId": "ea7b25e1-4532-4fd1-dc44-6ec98545de56"
      },
      "outputs": [
        {
          "data": {
            "text/plain": [
              "array(['  El perro (Canis familiaris o Canis lupus familiaris dependiendo de si se lo considera una especie por derecho propio o una subespecie del lobo)1\\u200b2\\u200b3\\u200b llamado perro doméstico o can4\\u200b y en algunos lugares coloquialmente llamado chucho5\\u200b tuso6\\u200b choco7\\u200b entre otros es un mamífero carnívoro de la familia de los cánidos que constituye una especie del género Canis.8\\u200b9\\u200b. Posee un oído y un olfato muy desarrollados y este último es su principal órgano sensorial.  \\n',\n",
              "       '  El gato doméstico1\\u200b2\\u200b (Felis silvestris catus) llamado popularmente gato y de forma coloquial minino3\\u200b michino4\\u200b michi5\\u200b micho6\\u200b mizo7\\u200b miz8\\u200b morroño9\\u200b o morrongo10\\u200b entre otros nombres es un mamífero carnívoro de la familia Felidae. Es una subespecie domesticada por la convivencia con el ser humano.  \\n',\n",
              "       '  El canario doméstico (Serinus canaria domestica)3\\u200b4\\u200b es una subespecie desarrollada durante siglos de selección en cautividad partiendo de ejemplares del canario silvestre o canario salvaje (Serinus canaria) una especie de ave del orden paseriforme de la familia de los fringílidos endémica de las islas Canarias Azores y Madeira.5\\u200b6\\u200b   \\n'],\n",
              "      dtype=object)"
            ]
          },
          "execution_count": 91,
          "metadata": {},
          "output_type": "execute_result"
        }
      ],
      "source": [
        "# en este caso se eliminan todas las comas y los punto y coma.\n",
        "# agregamos más de un caracter por eliminar usando []\n",
        "df_mascotas.loc[:, \"resumen\"].str.replace(\"[,;]\", \"\", regex=True).values"
      ]
    },
    {
      "cell_type": "code",
      "execution_count": null,
      "id": "7a4f0b68-94cc-41e0-8920-3e1c6149bfc4",
      "metadata": {
        "id": "7a4f0b68-94cc-41e0-8920-3e1c6149bfc4",
        "outputId": "037e1502-02ad-4356-a1d5-e64cadbc1cdf"
      },
      "outputs": [
        {
          "data": {
            "text/plain": [
              "array(['  El perro (Canis familiaris o Canis lupus familiaris dependiendo de si se lo considera una especie por derecho propio o una subespecie del lobo)1\\u200b2\\u200b3\\u200b llamado perro doméstico o can4\\u200b y en algunos lugares coloquialmente llamado chucho5\\u200b tuso6\\u200b choco7\\u200b entre otros es un mamífero carnívoro de la familia de los cánidos que constituye una especie del género Canis8\\u200b9\\u200b Posee un oído y un olfato muy desarrollados y este último es su principal órgano sensorial  \\n',\n",
              "       '  El gato doméstico1\\u200b2\\u200b (Felis silvestris catus) llamado popularmente gato y de forma coloquial minino3\\u200b michino4\\u200b michi5\\u200b micho6\\u200b mizo7\\u200b miz8\\u200b morroño9\\u200b o morrongo10\\u200b entre otros nombres es un mamífero carnívoro de la familia Felidae Es una subespecie domesticada por la convivencia con el ser humano  \\n',\n",
              "       '  El canario doméstico (Serinus canaria domestica)3\\u200b4\\u200b es una subespecie desarrollada durante siglos de selección en cautividad partiendo de ejemplares del canario silvestre o canario salvaje (Serinus canaria) una especie de ave del orden paseriforme de la familia de los fringílidos endémica de las islas Canarias Azores y Madeira5\\u200b6\\u200b   \\n'],\n",
              "      dtype=object)"
            ]
          },
          "execution_count": 92,
          "metadata": {},
          "output_type": "execute_result"
        }
      ],
      "source": [
        "# en este caso se eliminan todas las comas y los punto y coma y los puntos\n",
        "# notar que el punto hay que escribirlo con un slash inverso \\: \\.\n",
        "df_mascotas.loc[:, \"resumen\"].str.replace(\"[,;\\.]\", \"\", regex=True).values"
      ]
    },
    {
      "cell_type": "code",
      "execution_count": null,
      "id": "c66b03c2-f2fa-4d99-a016-dae36990002f",
      "metadata": {
        "id": "c66b03c2-f2fa-4d99-a016-dae36990002f",
        "outputId": "3728eccf-1e1c-46bc-f414-390b6652b08e"
      },
      "outputs": [
        {
          "data": {
            "text/plain": [
              "array(['  El perro Canis familiaris o Canis lupus familiaris dependiendo de si se lo considera una especie por derecho propio o una subespecie del lobo\\u200b\\u200b\\u200b llamado perro doméstico o can\\u200b y en algunos lugares coloquialmente llamado chucho\\u200b tuso\\u200b choco\\u200b entre otros es un mamífero carnívoro de la familia de los cánidos que constituye una especie del género Canis\\u200b\\u200b Posee un oído y un olfato muy desarrollados y este último es su principal órgano sensorial  \\n',\n",
              "       '  El gato doméstico\\u200b\\u200b Felis silvestris catus llamado popularmente gato y de forma coloquial minino\\u200b michino\\u200b michi\\u200b micho\\u200b mizo\\u200b miz\\u200b morroño\\u200b o morrongo\\u200b entre otros nombres es un mamífero carnívoro de la familia Felidae Es una subespecie domesticada por la convivencia con el ser humano  \\n',\n",
              "       '  El canario doméstico Serinus canaria domestica\\u200b\\u200b es una subespecie desarrollada durante siglos de selección en cautividad partiendo de ejemplares del canario silvestre o canario salvaje Serinus canaria una especie de ave del orden paseriforme de la familia de los fringílidos endémica de las islas Canarias Azores y Madeira\\u200b\\u200b   \\n'],\n",
              "      dtype=object)"
            ]
          },
          "execution_count": 93,
          "metadata": {},
          "output_type": "execute_result"
        }
      ],
      "source": [
        "# mismo caso para los paréntesis ( y ) y corchetes [, ]: hay que agregar \\.\n",
        "df_mascotas.loc[:, \"resumen\"].str.replace(\"[,;\\.\\(\\)\\[\\]\\d]\", \"\", regex=True).values"
      ]
    },
    {
      "cell_type": "code",
      "execution_count": null,
      "id": "1ee089bc",
      "metadata": {
        "id": "1ee089bc",
        "outputId": "1f113145-5bfb-40c9-e1b6-6c1de14e100e",
        "scrolled": true,
        "tags": []
      },
      "outputs": [
        {
          "data": {
            "text/plain": [
              "0      El perro (Canis familiaris o Canis lupus fam...\n",
              "1      El gato doméstico​​ (Felis silvestris catus)...\n",
              "2      El canario doméstico (Serinus canaria domest...\n",
              "Name: resumen, dtype: object"
            ]
          },
          "execution_count": 96,
          "metadata": {},
          "output_type": "execute_result"
        }
      ],
      "source": [
        "# \\d indica que se eliminarán todos todos los dígitos\n",
        "\n",
        "df_mascotas.loc[:, \"resumen\"].str.replace(\"\\d\", \"\", regex=True)"
      ]
    },
    {
      "cell_type": "code",
      "execution_count": null,
      "id": "33a5bbeb-64c9-4c4d-b2b9-0327c91896d7",
      "metadata": {
        "id": "33a5bbeb-64c9-4c4d-b2b9-0327c91896d7"
      },
      "outputs": [],
      "source": [
        "# todo junto:\n",
        "df_mascotas.loc[:, \"resumen\"].str.replace(\"[,;\\.\\(\\)\\[\\]\\d]\", \"\", regex=True).values"
      ]
    },
    {
      "cell_type": "markdown",
      "id": "e9bac8ea-9ff9-4797-942c-bf4e7262af6c",
      "metadata": {
        "id": "e9bac8ea-9ff9-4797-942c-bf4e7262af6c"
      },
      "source": [
        "> **Pregunta ❓**: ¿Según las reglas que vimos anteriormente, habría una forma más rápida de limpiar un string?"
      ]
    },
    {
      "cell_type": "code",
      "execution_count": null,
      "id": "bb6e0787-7ca0-4cc3-baae-57f247d4102d",
      "metadata": {
        "id": "bb6e0787-7ca0-4cc3-baae-57f247d4102d"
      },
      "outputs": [],
      "source": [
        "df_mascotas.loc[:, \"resumen\"].str.replace(\"[^A-Za-z]+\", \" \", regex=True).values"
      ]
    },
    {
      "cell_type": "code",
      "execution_count": null,
      "id": "248d02c4-a41a-40cd-ad85-a7311c62786d",
      "metadata": {
        "id": "248d02c4-a41a-40cd-ad85-a7311c62786d"
      },
      "outputs": [],
      "source": [
        "df_mascotas.loc[:, \"resumen\"].str.replace(\"\\b[^\\W]+\\b\", \" \", regex=True).values"
      ]
    },
    {
      "cell_type": "markdown",
      "id": "f29fc1e3-a128-492c-8a0b-156f45ca7447",
      "metadata": {
        "id": "f29fc1e3-a128-492c-8a0b-156f45ca7447"
      },
      "source": [
        " > Nota:\n",
        "\n",
        "- `\\W` para buscar todas las palabras que no contienen caracteres que no sean letras ni números, incluyendo letras con acento.\n",
        "- `\\b` se utiliza para indicar que la expresión regular debe buscar palabras completas, es decir, que no se debe incluir ninguna letra o número antes o después de la palabra."
      ]
    },
    {
      "cell_type": "markdown",
      "id": "a107b3ff",
      "metadata": {
        "id": "a107b3ff"
      },
      "source": [
        "### Paréntesis: Método `apply`\n",
        "\n",
        "El método apply de Pandas se utiliza para aplicar una función a una columna o fila de un DataFrame. La función que se va a aplicar puede ser una función integrada de Python, una función definida por el usuario o una función lambda."
      ]
    },
    {
      "cell_type": "code",
      "execution_count": null,
      "id": "158e6ccf-9490-46d3-9e22-4054eaea30f9",
      "metadata": {
        "id": "158e6ccf-9490-46d3-9e22-4054eaea30f9",
        "outputId": "3737f4a7-fa60-4cb7-f02a-d12f24ef3325"
      },
      "outputs": [
        {
          "data": {
            "text/plain": [
              "0      El perro (Canis familiaris o Canis lupus fam...\n",
              "1      El gato doméstico1​2​ (Felis silvestris catu...\n",
              "2      El canario doméstico (Serinus canaria domest...\n",
              "Name: resumen, dtype: object"
            ]
          },
          "execution_count": 97,
          "metadata": {},
          "output_type": "execute_result"
        }
      ],
      "source": [
        "df_mascotas.loc[:, \"resumen\"]"
      ]
    },
    {
      "cell_type": "code",
      "execution_count": null,
      "id": "dd1930e0",
      "metadata": {
        "id": "dd1930e0",
        "outputId": "eaa4d1b5-c076-4748-81ad-bcca160f3a6e",
        "scrolled": true
      },
      "outputs": [
        {
          "data": {
            "text/plain": [
              "0    False\n",
              "1     True\n",
              "2    False\n",
              "Name: resumen, dtype: bool"
            ]
          },
          "execution_count": 98,
          "metadata": {},
          "output_type": "execute_result"
        }
      ],
      "source": [
        "def is_gato_in(value):\n",
        "    if \"gato\" in value:\n",
        "        return True\n",
        "    else:\n",
        "        return False\n",
        "\n",
        "df_mascotas.loc[:, \"resumen\"].apply(is_gato_in)"
      ]
    },
    {
      "cell_type": "code",
      "execution_count": null,
      "id": "dd7c52bb-d39e-443e-8af3-4b1f684d72b4",
      "metadata": {
        "id": "dd7c52bb-d39e-443e-8af3-4b1f684d72b4",
        "outputId": "856a3f35-49a4-4da3-e7db-8b62319cb281"
      },
      "outputs": [
        {
          "data": {
            "text/plain": [
              "0      El perro\n",
              "1      El gato \n",
              "2      El canar\n",
              "Name: resumen, dtype: object"
            ]
          },
          "execution_count": 99,
          "metadata": {},
          "output_type": "execute_result"
        }
      ],
      "source": [
        "def seleccionar_10_caracteres(value):\n",
        "    return value[0:10]\n",
        "\n",
        "df_mascotas.loc[:, \"resumen\"].apply(seleccionar_10_caracteres)"
      ]
    },
    {
      "cell_type": "code",
      "execution_count": null,
      "id": "bff8cce6-97b2-418c-bdd9-d0456c1999ca",
      "metadata": {
        "id": "bff8cce6-97b2-418c-bdd9-d0456c1999ca",
        "outputId": "59caf4c6-3cf1-42be-80ba-451e24246a85"
      },
      "outputs": [
        {
          "data": {
            "text/plain": [
              "0      el perro (canis familiaris o canis lupus fam...\n",
              "1      el gato doméstico1​2​ (felis silvestris catu...\n",
              "2      el canario doméstico (serinus canaria domest...\n",
              "Name: resumen, dtype: object"
            ]
          },
          "execution_count": 100,
          "metadata": {},
          "output_type": "execute_result"
        }
      ],
      "source": [
        "def limpiar(value):\n",
        "    return value.replace(\",\", \"\").replace(\";\", \"\").lower()\n",
        "\n",
        "df_mascotas.loc[:, \"resumen\"].apply(limpiar)"
      ]
    },
    {
      "cell_type": "markdown",
      "id": "db77c12c-65a7-4304-96e3-214b952501ad",
      "metadata": {
        "id": "db77c12c-65a7-4304-96e3-214b952501ad"
      },
      "source": [
        "#### `strip_accents_ascii`\n",
        "\n",
        "`strip_accents_ascii` se utiliza para eliminar los acentos y diacríticos de una cadena, convirtiendo los caracteres Unicode que representan los acentos y diacríticos en caracteres ASCII equivalentes."
      ]
    },
    {
      "cell_type": "code",
      "execution_count": null,
      "id": "687b15bc",
      "metadata": {
        "id": "687b15bc"
      },
      "outputs": [],
      "source": [
        "import unicodedata\n",
        "\n",
        "def strip_accents_ascii(value):\n",
        "    nkfd_form = unicodedata.normalize(\"NFKD\", value)\n",
        "    return nkfd_form.encode(\"ASCII\", \"ignore\").decode(\"ASCII\")\n"
      ]
    },
    {
      "cell_type": "code",
      "execution_count": null,
      "id": "dd9d5cd9-0e15-4b65-85af-7c2ea5469f92",
      "metadata": {
        "id": "dd9d5cd9-0e15-4b65-85af-7c2ea5469f92",
        "outputId": "f6b6b490-5df9-4222-e2e8-bd711aa4f7db"
      },
      "outputs": [
        {
          "data": {
            "text/plain": [
              "'domestico'"
            ]
          },
          "execution_count": 102,
          "metadata": {},
          "output_type": "execute_result"
        }
      ],
      "source": [
        "strip_accents_ascii('doméstico')"
      ]
    },
    {
      "cell_type": "code",
      "execution_count": null,
      "id": "b33254cf-1fa3-4ea2-8a03-3a69e79855c0",
      "metadata": {
        "id": "b33254cf-1fa3-4ea2-8a03-3a69e79855c0",
        "outputId": "41aab700-f4f1-4cdd-cb12-d57f4521dfa2"
      },
      "outputs": [
        {
          "data": {
            "text/plain": [
              "0      El perro (Canis familiaris o Canis lupus fam...\n",
              "1      El gato doméstico1​2​ (Felis silvestris catu...\n",
              "2      El canario doméstico (Serinus canaria domest...\n",
              "Name: resumen, dtype: object"
            ]
          },
          "execution_count": 103,
          "metadata": {},
          "output_type": "execute_result"
        }
      ],
      "source": [
        "df_mascotas.loc[:, \"resumen\"]"
      ]
    },
    {
      "cell_type": "code",
      "execution_count": null,
      "id": "ed4812ac",
      "metadata": {
        "id": "ed4812ac",
        "outputId": "c9d61c0c-4f2c-48cd-d97f-628635185d00"
      },
      "outputs": [
        {
          "data": {
            "text/plain": [
              "0      El perro (Canis familiaris o Canis lupus fam...\n",
              "1      El gato domestico12 (Felis silvestris catus)...\n",
              "2      El canario domestico (Serinus canaria domest...\n",
              "Name: resumen, dtype: object"
            ]
          },
          "execution_count": 104,
          "metadata": {},
          "output_type": "execute_result"
        }
      ],
      "source": [
        "df_mascotas.loc[:, \"resumen\"].apply(strip_accents_ascii)"
      ]
    },
    {
      "cell_type": "markdown",
      "id": "d93f922c",
      "metadata": {
        "id": "d93f922c"
      },
      "source": [
        "#### Uso de `.apply` sobre DataFrames\n",
        "\n",
        "`apply` usada sobre un Dataframe permite ejecutar una función sobre las filas o columnas, lo que se indica a través del parámetro `axis`."
      ]
    },
    {
      "cell_type": "code",
      "execution_count": null,
      "id": "c6788dde",
      "metadata": {
        "id": "c6788dde",
        "outputId": "2d952096-60b1-4a68-cdf2-c08d6799a7eb"
      },
      "outputs": [
        {
          "data": {
            "text/plain": [
              "0    Perro -   El perro (Canis familiaris o Canis l...\n",
              "1    Gato -   El gato doméstico1​2​ (Felis silvestr...\n",
              "2    Canario -   El canario doméstico (Serinus cana...\n",
              "dtype: object"
            ]
          },
          "execution_count": 105,
          "metadata": {},
          "output_type": "execute_result"
        }
      ],
      "source": [
        "def unir_nombre_y_descripcion(row):\n",
        "    return row[\"nombre\"] + \" - \" + row[\"resumen\"]\n",
        "\n",
        "# ojo: para aplicar en filas tiene que ser axis=1\n",
        "df_mascotas.apply(unir_nombre_y_descripcion, axis=1)"
      ]
    },
    {
      "cell_type": "code",
      "execution_count": null,
      "id": "fb959d62-fdb1-4005-b81b-dfee291f1391",
      "metadata": {
        "id": "fb959d62-fdb1-4005-b81b-dfee291f1391",
        "outputId": "849f2544-be78-4aa4-8f31-e9d209ab83c4"
      },
      "outputs": [
        {
          "data": {
            "text/plain": [
              "nombre                                    Perro|Gato|Canario\n",
              "resumen      El perro (Canis familiaris o Canis lupus fam...\n",
              "dtype: object"
            ]
          },
          "execution_count": 106,
          "metadata": {},
          "output_type": "execute_result"
        }
      ],
      "source": [
        "def unir_filas(col):\n",
        "    return '|'.join(col)\n",
        "\n",
        "# ojo: para aplicar en filas tiene que ser axis=1\n",
        "df_mascotas.apply(unir_filas, axis=0)"
      ]
    },
    {
      "cell_type": "markdown",
      "id": "d4263b07",
      "metadata": {
        "id": "d4263b07"
      },
      "source": [
        "#### Preprocesamiento Completo\n",
        "\n"
      ]
    },
    {
      "cell_type": "code",
      "execution_count": null,
      "id": "c6c4b682",
      "metadata": {
        "id": "c6c4b682",
        "outputId": "562716ca-a00d-426f-c09f-8dc1f26022b0"
      },
      "outputs": [
        {
          "data": {
            "text/plain": [
              "array(['  El perro (Canis familiaris o Canis lupus familiaris, dependiendo de si se lo considera una especie por derecho propio o una subespecie del lobo),1\\u200b2\\u200b3\\u200b llamado perro doméstico o can,4\\u200b y en algunos lugares coloquialmente llamado chucho,5\\u200b tuso,6\\u200b choco,7\\u200b entre otros; es un mamífero carnívoro de la familia de los cánidos, que constituye una especie del género Canis.8\\u200b9\\u200b. Posee un oído y un olfato muy desarrollados, y este último es su principal órgano sensorial.  \\n',\n",
              "       '  El gato doméstico1\\u200b2\\u200b (Felis silvestris catus), llamado popularmente gato, y de forma coloquial minino,3\\u200b michino,4\\u200b michi,5\\u200b micho,6\\u200b mizo,7\\u200b miz,8\\u200b morroño9\\u200b o morrongo,10\\u200b entre otros nombres, es un mamífero carnívoro de la familia Felidae. Es una subespecie domesticada por la convivencia con el ser humano.  \\n',\n",
              "       '  El canario doméstico (Serinus canaria domestica)3\\u200b4\\u200b es una subespecie desarrollada durante siglos de selección en cautividad partiendo de ejemplares del canario silvestre o canario salvaje (Serinus canaria), una especie de ave del orden paseriforme de la familia de los fringílidos, endémica de las islas Canarias, Azores y Madeira.5\\u200b6\\u200b   \\n'],\n",
              "      dtype=object)"
            ]
          },
          "execution_count": 108,
          "metadata": {},
          "output_type": "execute_result"
        }
      ],
      "source": [
        "df_mascotas.loc[:, \"resumen\"].values"
      ]
    },
    {
      "cell_type": "code",
      "execution_count": null,
      "id": "5bdece33",
      "metadata": {
        "id": "5bdece33",
        "outputId": "252d48eb-97df-492b-c387-d25b7254276e"
      },
      "outputs": [
        {
          "data": {
            "text/plain": [
              "array(['el perro canis familiaris o canis lupus familiaris dependiendo de si se lo considera una especie por derecho propio o una subespecie del lobo llamado perro domestico o can y en algunos lugares coloquialmente llamado chucho tuso choco entre otros es un mamifero carnivoro de la familia de los canidos que constituye una especie del genero canis posee un oido y un olfato muy desarrollados y este ultimo es su principal organo sensorial',\n",
              "       'el gato domestico felis silvestris catus llamado popularmente gato y de forma coloquial minino michino michi micho mizo miz morrono o morrongo entre otros nombres es un mamifero carnivoro de la familia felidae es una subespecie domesticada por la convivencia con el ser humano',\n",
              "       'el canario domestico serinus canaria domestica es una subespecie desarrollada durante siglos de seleccion en cautividad partiendo de ejemplares del canario silvestre o canario salvaje serinus canaria una especie de ave del orden paseriforme de la familia de los fringilidos endemica de las islas canarias azores y madeira'],\n",
              "      dtype=object)"
            ]
          },
          "execution_count": 107,
          "metadata": {},
          "output_type": "execute_result"
        }
      ],
      "source": [
        "df_mascotas_procesado = (\n",
        "    df_mascotas.loc[:, \"resumen\"]\n",
        "    .apply(strip_accents_ascii)\n",
        "    .str.replace(r\"[,;\\.\\(\\)\\[\\]\\d*]\", \"\", regex=True)\n",
        "    .str.replace(r\"\\s+\", \" \", regex=True) # en este caso se reemplazan todos los espacios por solo un espacio.\n",
        "    .str.strip()\n",
        "    .str.lower()\n",
        ")\n",
        "\n",
        "df_mascotas_procesado.values"
      ]
    },
    {
      "cell_type": "markdown",
      "id": "2a53579a-564a-4241-9d76-720bf6d76797",
      "metadata": {
        "id": "2a53579a-564a-4241-9d76-720bf6d76797"
      },
      "source": [
        "---"
      ]
    }
  ],
  "metadata": {
    "colab": {
      "provenance": [],
      "toc_visible": true
    },
    "kernelspec": {
      "display_name": "Python 3 (ipykernel)",
      "language": "python",
      "name": "python3"
    },
    "language_info": {
      "codemirror_mode": {
        "name": "ipython",
        "version": 3
      },
      "file_extension": ".py",
      "mimetype": "text/x-python",
      "name": "python",
      "nbconvert_exporter": "python",
      "pygments_lexer": "ipython3",
      "version": "3.11.4"
    },
    "toc": {
      "base_numbering": 1,
      "nav_menu": {},
      "number_sections": true,
      "sideBar": true,
      "skip_h1_title": true,
      "title_cell": "Table of Contents",
      "title_sidebar": "Contents",
      "toc_cell": true,
      "toc_position": {
        "height": "calc(100% - 180px)",
        "left": "10px",
        "top": "150px",
        "width": "274.833px"
      },
      "toc_section_display": true,
      "toc_window_display": false
    },
    "varInspector": {
      "cols": {
        "lenName": 16,
        "lenType": 16,
        "lenVar": 40
      },
      "kernels_config": {
        "python": {
          "delete_cmd_postfix": "",
          "delete_cmd_prefix": "del ",
          "library": "var_list.py",
          "varRefreshCmd": "print(var_dic_list())"
        },
        "r": {
          "delete_cmd_postfix": ") ",
          "delete_cmd_prefix": "rm(",
          "library": "var_list.r",
          "varRefreshCmd": "cat(var_dic_list()) "
        }
      },
      "types_to_exclude": [
        "module",
        "function",
        "builtin_function_or_method",
        "instance",
        "_Feature"
      ],
      "window_display": false
    }
  },
  "nbformat": 4,
  "nbformat_minor": 5
}
