{
 "cells": [
  {
   "cell_type": "markdown",
   "metadata": {},
   "source": [
    "# Tutorial 1: Como trabajar con archivos de Texto.\n",
    "\n",
    "##### <strong>Manejo archivos y Pandas </strong>\n",
    "\n",
    "### Cuerpo Docente\n",
    "\n",
    "- Profesores: [Andrés Abeliuk](https://aabeliuk.github.io/), [Felipe Villena](https://fabianvillena.cl/).\n",
    "- Profesor Auxiliar: [Gabriel Iturra](https://giturra.cl/)\n",
    "\n",
    "\n",
    "### Objetivos del Tutorial"
   ]
  },
  {
   "cell_type": "markdown",
   "metadata": {},
   "source": [
    "### Introducción a Colab\n",
    "\n",
    "Google Colab es una herramienta para la enseñanza e investigación de Machine Learning. Es un entorno de Jupyter notebook que no requiere configuración para su uso. Colab ofrece un servicio gratuito de GPU en la nube alojado por Google para alentar la colaboración en el campo de Machine Learning, sin preocuparse por los requisitos de hardware. Colab fue lanzado al público por Google en octubre de 2017."
   ]
  },
  {
   "cell_type": "markdown",
   "metadata": {},
   "source": [
    "#### Markdown\n",
    "\n",
    "**Markdown** es un lenguaje de marcado ligero creado por *John Gruber* que trata de conseguir la **máxima legibilidad** y **facilidad** de publicación.\n",
    "\n",
    "Esto es un parrafo, `esto esta en codigo`, **esto esta en negrita**, *esto esta en cursiva*\n",
    "\n",
    "Se puede insertar codigo multilinea tambien.\n",
    "\n",
    "```python\n",
    "print(\"hello world!\") \n",
    "```\n",
    "\n",
    "Se pueden insertar lineas para separar texto\n",
    "\n",
    "---\n",
    "\n",
    "Se pueden insertar tablas!\n",
    "\n",
    "| 0,1       | 0,2  | 0,3  | 0,4   | 0,5     |\n",
    "|-----------|------|------|-------|---------|\n",
    "| 1,1       | 1,2  | 1,3  | 1,4   | 1,5     |\n",
    "| 2,1       | 2,2  | 2,3  | 2,4   | 2,5     |\n",
    "\n",
    "Se puede \"citar\" texto usando cabezas de pescado\n",
    "> Esta es una frase celebre de algun famoso\n",
    ">\n",
    "> -- Albert Einstein\n",
    "\n",
    "Tambien se puede insertar formulas de $\\LaTeX$ dentro del mismo texto: $a = \\frac{e^y\\sqrt{x+2}}{x^2}$. Se puede insertar $\\LaTeX$ en general tambien.\n",
    "\n",
    "\\begin{equation}\n",
    "\\it{CE}(p,q)=\\sum_{x}p(x)\\log \\bigg(\\frac{1}{q(x)}\\bigg)=- \\sum_{x}p(x)\\log q(x)\n",
    "\\end{equation}\n",
    "\n",
    "Tambien se puede escribir `html`.\n",
    "\n",
    "<strong> Esto esta en negrita usando html </strong>\n",
    "\n",
    "Aca dejo mas recursos sobre Markdown, Colab y Jupyter Notebook:\n",
    "* https://help.github.com/en/github/writing-on-github/basic-writing-and-formatting-syntax\n",
    "* https://es.wikipedia.org/wiki/Markdown\n",
    "* https://colab.research.google.com/notebooks/intro.ipynb\n",
    "* https://jupyter.org/\n",
    "* https://nbviewer.jupyter.org/github/ipython/ipython/blob/1.x/examples/notebooks/Cell%20Magics.ipynb"
   ]
  },
  {
   "cell_type": "markdown",
   "metadata": {},
   "source": [
    "### Introducción a Python\n",
    "\n",
    "\n",
    "<div align='center'>\n",
    "<img src=\"https://raw.githubusercontent.com/MDS7202/MDS7202/main/recursos/2023-01/03-Intro_a_la_programacion_en_python/python_logo.png\" width=400 alt=\"logo\"/>\n",
    "</div>\n",
    "\n",
    "`Python` es un lenguaje de programación multipropósito, enfocado en preservar legibilidad y simpleza sintáctica (_o sea, que sea facil de leer y escribir_).\n",
    "Sus características y principios lo convierten en un lenguaje poderoso y fácil de aprender. \n",
    "\n",
    "Por esta razón, es ampliamente utilizado en ámbitos tales como: \n",
    "\n",
    "- Desarrollo Web, \n",
    "- Data Science, \n",
    "- Scripting,\n",
    "- Software de escritorio,\n",
    "- etc...\n",
    "\n",
    "\n",
    "## ¿Dónde puedo descargar Python?\n",
    "\n",
    "Existe dos opciones para descargar ```Python```, que son:\n",
    "\n",
    "- Descargarlo de la página oficial: https://www.python.org/ Sin embargo, desde la página oficial sólo se descarga la versión estándar con librerías nativas.\n",
    "\n",
    "- Descargarlo desde la página de Anaconda: https://www.anaconda.com/ Esta versión viene con muchas librerías que utilizaremos durante el curso, por lo que es la opción más recomendada."
   ]
  },
  {
   "cell_type": "markdown",
   "metadata": {},
   "source": [
    "## Trabajando con Archivos en Python\n",
    "\n",
    "### Importar csv o txt \n",
    "\n",
    "#### Encoding\n",
    "\n",
    "* UTF-8: 'utf-8' es el encoding predeterminado en Pandas y es ampliamente utilizado para archivos CSV. Es compatible con una amplia gama de caracteres y es recomendado si no estás seguro del encoding del archivo.\n",
    "\n",
    "* Latin-1 (ISO 8859-1): 'latin-1' es otro encoding común utilizado en archivos CSV generados por aplicaciones en entornos Windows. Es compatible con una gran cantidad de idiomas europeos.\n",
    "\n",
    "* UTF-16: 'utf-16' es un encoding de Unicode que utiliza 16 bits para representar los caracteres. Es útil cuando se trabaja con idiomas que tienen una gran cantidad de caracteres, como algunos idiomas asiáticos.\n",
    "\n",
    "* UTF-32: 'utf-32' es un encoding de Unicode que utiliza 32 bits para representar los caracteres. Al igual que UTF-16, es útil para idiomas con una gran cantidad de caracteres.\n",
    "\n",
    "* ASCII: 'ascii' es un encoding básico que solo admite caracteres en inglés y no es compatible con caracteres acentuados u otros caracteres especiales."
   ]
  },
  {
   "cell_type": "markdown",
   "metadata": {},
   "source": [
    "### Cargar archivos con la función ```open```"
   ]
  },
  {
   "cell_type": "code",
   "execution_count": 1,
   "metadata": {},
   "outputs": [],
   "source": [
    "import csv"
   ]
  },
  {
   "cell_type": "code",
   "execution_count": null,
   "metadata": {},
   "outputs": [],
   "source": [
    "i=0\n",
    "with open(data_path/'spanish_diagnostics/spanish_diagnostics.csv', 'r', encoding='utf-8') as file:\n",
    "  csvreader = csv.reader(file, delimiter=',')\n",
    "  for row in csvreader:\n",
    "    print(row)\n",
    "    i+=1\n",
    "    if i==5:\n",
    "      break"
   ]
  }
 ],
 "metadata": {
  "kernelspec": {
   "display_name": "base",
   "language": "python",
   "name": "python3"
  },
  "language_info": {
   "codemirror_mode": {
    "name": "ipython",
    "version": 3
   },
   "file_extension": ".py",
   "mimetype": "text/x-python",
   "name": "python",
   "nbconvert_exporter": "python",
   "pygments_lexer": "ipython3",
   "version": "3.11.4"
  }
 },
 "nbformat": 4,
 "nbformat_minor": 2
}
