{
  "nbformat": 4,
  "nbformat_minor": 0,
  "metadata": {
    "colab": {
      "name": "2-sw-lem-stem-wc-tfidf-svd.ipynb",
      "provenance": [],
      "collapsed_sections": [],
      "authorship_tag": "ABX9TyPZT6ktQLVfqi2+5CnY6wRM",
      "include_colab_link": true
    },
    "kernelspec": {
      "name": "python3",
      "display_name": "Python 3"
    }
  },
  "cells": [
    {
      "cell_type": "markdown",
      "metadata": {
        "id": "view-in-github",
        "colab_type": "text"
      },
      "source": [
        "<a href=\"https://colab.research.google.com/github/fvillena/dcc-ia-nlp/blob/master/2-sw-lem-stem-wc-tfidf-svd.ipynb\" target=\"_parent\"><img src=\"https://colab.research.google.com/assets/colab-badge.svg\" alt=\"Open In Colab\"/></a>"
      ]
    },
    {
      "cell_type": "markdown",
      "metadata": {
        "id": "d2Ps5aDf61bl"
      },
      "source": [
        "# Stopwords, lematización, stemming, wordclouds y TF-IDF"
      ]
    },
    {
      "cell_type": "markdown",
      "metadata": {
        "id": "FtSiV0FP7FtQ"
      },
      "source": [
        "Preparamos el ambiente de desarrollo"
      ]
    },
    {
      "cell_type": "code",
      "metadata": {
        "id": "x1cpLRndxe8Y"
      },
      "source": [
        "import spacy\n",
        "import nltk\n",
        "import sklearn\n",
        "import wordcloud\n",
        "import matplotlib.pyplot as plt\n",
        "import pandas as pd"
      ],
      "execution_count": 19,
      "outputs": []
    },
    {
      "cell_type": "code",
      "metadata": {
        "id": "aVj7m1JM-qCU",
        "outputId": "e251f787-4dfe-4bc5-b980-0aa34c3527ce",
        "colab": {
          "base_uri": "https://localhost:8080/"
        }
      },
      "source": [
        "!wget https://raw.githubusercontent.com/fvillena/dcc-ia-nlp/master/data/aysen.csv"
      ],
      "execution_count": 20,
      "outputs": [
        {
          "output_type": "stream",
          "text": [
            "--2020-11-01 01:58:42--  https://raw.githubusercontent.com/fvillena/dcc-ia-nlp/master/data/aysen.csv\n",
            "Resolving raw.githubusercontent.com (raw.githubusercontent.com)... 151.101.0.133, 151.101.64.133, 151.101.128.133, ...\n",
            "Connecting to raw.githubusercontent.com (raw.githubusercontent.com)|151.101.0.133|:443... connected.\n",
            "HTTP request sent, awaiting response... 200 OK\n",
            "Length: 29482924 (28M) [text/plain]\n",
            "Saving to: ‘aysen.csv.1’\n",
            "\n",
            "aysen.csv.1         100%[===================>]  28.12M  37.5MB/s    in 0.8s    \n",
            "\n",
            "2020-11-01 01:58:43 (37.5 MB/s) - ‘aysen.csv.1’ saved [29482924/29482924]\n",
            "\n"
          ],
          "name": "stdout"
        }
      ]
    },
    {
      "cell_type": "code",
      "metadata": {
        "id": "ia0H4DlbzCj5",
        "outputId": "c99b8792-4e0d-41e7-91df-0263ac089b34",
        "colab": {
          "base_uri": "https://localhost:8080/"
        }
      },
      "source": [
        "nltk.download('stopwords')\n",
        "nltk.download('wordnet') "
      ],
      "execution_count": 21,
      "outputs": [
        {
          "output_type": "stream",
          "text": [
            "[nltk_data] Downloading package stopwords to /root/nltk_data...\n",
            "[nltk_data]   Package stopwords is already up-to-date!\n",
            "[nltk_data] Downloading package wordnet to /root/nltk_data...\n",
            "[nltk_data]   Package wordnet is already up-to-date!\n"
          ],
          "name": "stdout"
        },
        {
          "output_type": "execute_result",
          "data": {
            "text/plain": [
              "True"
            ]
          },
          "metadata": {
            "tags": []
          },
          "execution_count": 21
        }
      ]
    },
    {
      "cell_type": "code",
      "metadata": {
        "id": "M3gs4OvKyjvN",
        "outputId": "03894f8e-bd3a-4100-ae9c-401893c40609",
        "colab": {
          "base_uri": "https://localhost:8080/"
        }
      },
      "source": [
        "!python -m spacy download es_core_news_sm"
      ],
      "execution_count": 22,
      "outputs": [
        {
          "output_type": "stream",
          "text": [
            "Requirement already satisfied: es_core_news_sm==2.2.5 from https://github.com/explosion/spacy-models/releases/download/es_core_news_sm-2.2.5/es_core_news_sm-2.2.5.tar.gz#egg=es_core_news_sm==2.2.5 in /usr/local/lib/python3.6/dist-packages (2.2.5)\n",
            "Requirement already satisfied: spacy>=2.2.2 in /usr/local/lib/python3.6/dist-packages (from es_core_news_sm==2.2.5) (2.2.4)\n",
            "Requirement already satisfied: preshed<3.1.0,>=3.0.2 in /usr/local/lib/python3.6/dist-packages (from spacy>=2.2.2->es_core_news_sm==2.2.5) (3.0.2)\n",
            "Requirement already satisfied: blis<0.5.0,>=0.4.0 in /usr/local/lib/python3.6/dist-packages (from spacy>=2.2.2->es_core_news_sm==2.2.5) (0.4.1)\n",
            "Requirement already satisfied: catalogue<1.1.0,>=0.0.7 in /usr/local/lib/python3.6/dist-packages (from spacy>=2.2.2->es_core_news_sm==2.2.5) (1.0.0)\n",
            "Requirement already satisfied: numpy>=1.15.0 in /usr/local/lib/python3.6/dist-packages (from spacy>=2.2.2->es_core_news_sm==2.2.5) (1.18.5)\n",
            "Requirement already satisfied: wasabi<1.1.0,>=0.4.0 in /usr/local/lib/python3.6/dist-packages (from spacy>=2.2.2->es_core_news_sm==2.2.5) (0.8.0)\n",
            "Requirement already satisfied: plac<1.2.0,>=0.9.6 in /usr/local/lib/python3.6/dist-packages (from spacy>=2.2.2->es_core_news_sm==2.2.5) (1.1.3)\n",
            "Requirement already satisfied: murmurhash<1.1.0,>=0.28.0 in /usr/local/lib/python3.6/dist-packages (from spacy>=2.2.2->es_core_news_sm==2.2.5) (1.0.2)\n",
            "Requirement already satisfied: cymem<2.1.0,>=2.0.2 in /usr/local/lib/python3.6/dist-packages (from spacy>=2.2.2->es_core_news_sm==2.2.5) (2.0.3)\n",
            "Requirement already satisfied: srsly<1.1.0,>=1.0.2 in /usr/local/lib/python3.6/dist-packages (from spacy>=2.2.2->es_core_news_sm==2.2.5) (1.0.2)\n",
            "Requirement already satisfied: setuptools in /usr/local/lib/python3.6/dist-packages (from spacy>=2.2.2->es_core_news_sm==2.2.5) (50.3.2)\n",
            "Requirement already satisfied: tqdm<5.0.0,>=4.38.0 in /usr/local/lib/python3.6/dist-packages (from spacy>=2.2.2->es_core_news_sm==2.2.5) (4.41.1)\n",
            "Requirement already satisfied: requests<3.0.0,>=2.13.0 in /usr/local/lib/python3.6/dist-packages (from spacy>=2.2.2->es_core_news_sm==2.2.5) (2.23.0)\n",
            "Requirement already satisfied: thinc==7.4.0 in /usr/local/lib/python3.6/dist-packages (from spacy>=2.2.2->es_core_news_sm==2.2.5) (7.4.0)\n",
            "Requirement already satisfied: importlib-metadata>=0.20; python_version < \"3.8\" in /usr/local/lib/python3.6/dist-packages (from catalogue<1.1.0,>=0.0.7->spacy>=2.2.2->es_core_news_sm==2.2.5) (2.0.0)\n",
            "Requirement already satisfied: chardet<4,>=3.0.2 in /usr/local/lib/python3.6/dist-packages (from requests<3.0.0,>=2.13.0->spacy>=2.2.2->es_core_news_sm==2.2.5) (3.0.4)\n",
            "Requirement already satisfied: urllib3!=1.25.0,!=1.25.1,<1.26,>=1.21.1 in /usr/local/lib/python3.6/dist-packages (from requests<3.0.0,>=2.13.0->spacy>=2.2.2->es_core_news_sm==2.2.5) (1.24.3)\n",
            "Requirement already satisfied: idna<3,>=2.5 in /usr/local/lib/python3.6/dist-packages (from requests<3.0.0,>=2.13.0->spacy>=2.2.2->es_core_news_sm==2.2.5) (2.10)\n",
            "Requirement already satisfied: certifi>=2017.4.17 in /usr/local/lib/python3.6/dist-packages (from requests<3.0.0,>=2.13.0->spacy>=2.2.2->es_core_news_sm==2.2.5) (2020.6.20)\n",
            "Requirement already satisfied: zipp>=0.5 in /usr/local/lib/python3.6/dist-packages (from importlib-metadata>=0.20; python_version < \"3.8\"->catalogue<1.1.0,>=0.0.7->spacy>=2.2.2->es_core_news_sm==2.2.5) (3.3.1)\n",
            "\u001b[38;5;2m✔ Download and installation successful\u001b[0m\n",
            "You can now load the model via spacy.load('es_core_news_sm')\n"
          ],
          "name": "stdout"
        }
      ]
    },
    {
      "cell_type": "code",
      "metadata": {
        "id": "DEgsyhw5zPSw"
      },
      "source": [
        "import es_core_news_sm\n",
        "nlp_es = es_core_news_sm.load()"
      ],
      "execution_count": 23,
      "outputs": []
    },
    {
      "cell_type": "markdown",
      "metadata": {
        "id": "dSwBrmUC7JlY"
      },
      "source": [
        "## Actividad 1: Stopwords\n",
        "\n",
        "Compare las listas de stopwords asociadas a las 2 bibliotecas utiilizadas y enuncie las diferencias que pueda encontrar entre ellas."
      ]
    },
    {
      "cell_type": "code",
      "metadata": {
        "id": "8no_PqUaxwHK"
      },
      "source": [
        "# Así cargamos las listas de stopwords\n",
        "nltk_stopwords = nltk.corpus.stopwords.words('spanish')\n",
        "spacy_stopwords = spacy.lang.es.stop_words.STOP_WORDS"
      ],
      "execution_count": 24,
      "outputs": []
    },
    {
      "cell_type": "code",
      "metadata": {
        "id": "Zzt5j6yO8WTy"
      },
      "source": [
        "# Programa\n",
        "#\n",
        "#\n",
        "#"
      ],
      "execution_count": 25,
      "outputs": []
    },
    {
      "cell_type": "markdown",
      "metadata": {
        "id": "Zy5U4oej8gRY"
      },
      "source": [
        "## Actividad 2: Stemming y lematización\n",
        "\n",
        "Dada una lista de conjuntos de palabras (raw_words) lematice y realice stemming sobre cada palabra y compare los resultados asociados a cada conjunto de palabras."
      ]
    },
    {
      "cell_type": "code",
      "metadata": {
        "id": "fwksZcviyXOA"
      },
      "source": [
        "raw_words = [\n",
        "             (\"fly\",\"flies\",\"flying\"),\n",
        "             (\"organize\",\"organizes\",\"organizing\"),\n",
        "             (\"universe\",\"university\")\n",
        "]"
      ],
      "execution_count": 26,
      "outputs": []
    },
    {
      "cell_type": "code",
      "metadata": {
        "id": "bwOOHTp8z9F7"
      },
      "source": [
        "# Así instanciamos el stemmer y lematizador\n",
        "\n",
        "stemmer = nltk.stem.SnowballStemmer(\"english\")\n",
        "lemmatizer = nltk.stem.WordNetLemmatizer()"
      ],
      "execution_count": 27,
      "outputs": []
    },
    {
      "cell_type": "code",
      "metadata": {
        "id": "FXtJc9Pe9gH_",
        "outputId": "e80e5a01-eb37-4bd1-c536-e25216a14be5",
        "colab": {
          "base_uri": "https://localhost:8080/",
          "height": 35
        }
      },
      "source": [
        "stemmer.stem(\"flies\")"
      ],
      "execution_count": 28,
      "outputs": [
        {
          "output_type": "execute_result",
          "data": {
            "application/vnd.google.colaboratory.intrinsic+json": {
              "type": "string"
            },
            "text/plain": [
              "'fli'"
            ]
          },
          "metadata": {
            "tags": []
          },
          "execution_count": 28
        }
      ]
    },
    {
      "cell_type": "code",
      "metadata": {
        "id": "x4pXMjBl9jOM",
        "outputId": "3f9adc51-6712-4445-89e8-635317f8ea53",
        "colab": {
          "base_uri": "https://localhost:8080/",
          "height": 35
        }
      },
      "source": [
        "lemmatizer.lemmatize(\"flies\")"
      ],
      "execution_count": 29,
      "outputs": [
        {
          "output_type": "execute_result",
          "data": {
            "application/vnd.google.colaboratory.intrinsic+json": {
              "type": "string"
            },
            "text/plain": [
              "'fly'"
            ]
          },
          "metadata": {
            "tags": []
          },
          "execution_count": 29
        }
      ]
    },
    {
      "cell_type": "code",
      "metadata": {
        "id": "LFyhrUhC9p32"
      },
      "source": [
        "# Programa\n",
        "#\n",
        "#\n",
        "#"
      ],
      "execution_count": 30,
      "outputs": []
    },
    {
      "cell_type": "markdown",
      "metadata": {
        "id": "kv_R4_O0-CjQ"
      },
      "source": [
        "# Actividad 3: TF-IDF\n",
        "\n",
        "Utilizando el corpus newsgroups.data crea una matrix de términos y documentos utilizando tf-idf.\n",
        "\n",
        "Utiliza la implementación que tiene sklearn de este método. Acá está la documentación.\n",
        "\n",
        "https://scikit-learn.org/stable/modules/generated/sklearn.feature_extraction.text.TfidfVectorizer.html\n",
        "\n",
        "Después de generar la matrix, explora los valores de idf de las palabras, ¿Qué conclusión puedes esbozar al observar las palabras con mayor y menor idf?"
      ]
    },
    {
      "cell_type": "code",
      "metadata": {
        "id": "XDXn4edz941X"
      },
      "source": [
        "remove = ('headers', 'footers', 'quotes')\n",
        "categories = ['alt.atheism', 'talk.religion.misc', 'comp.graphics', 'sci.space']\n",
        "newsgroups = sklearn.datasets.fetch_20newsgroups(remove=remove,categories=categories)"
      ],
      "execution_count": 31,
      "outputs": []
    },
    {
      "cell_type": "code",
      "metadata": {
        "id": "gyeQbypb7xVE",
        "outputId": "60800354-ebb0-4481-e8d9-8b0f0f6fee44",
        "colab": {
          "base_uri": "https://localhost:8080/"
        }
      },
      "source": [
        "print(newsgroups.data[0])"
      ],
      "execution_count": 32,
      "outputs": [
        {
          "output_type": "stream",
          "text": [
            "Hi,\n",
            "\n",
            "I've noticed that if you only save a model (with all your mapping planes\n",
            "positioned carefully) to a .3DS file that when you reload it after restarting\n",
            "3DS, they are given a default position and orientation.  But if you save\n",
            "to a .PRJ file their positions/orientation are preserved.  Does anyone\n",
            "know why this information is not stored in the .3DS file?  Nothing is\n",
            "explicitly said in the manual about saving texture rules in the .PRJ file. \n",
            "I'd like to be able to read the texture rule information, does anyone have \n",
            "the format for the .PRJ file?\n",
            "\n",
            "Is the .CEL file format available from somewhere?\n",
            "\n",
            "Rych\n"
          ],
          "name": "stdout"
        }
      ]
    },
    {
      "cell_type": "code",
      "metadata": {
        "id": "DvbaY4aL76cB"
      },
      "source": [
        "tfidf_vectorizer = sklearn.feature_extraction.text.TfidfVectorizer(stop_words=\"english\")\n",
        "# TODO: Transformar el corpus en una matriz de terminos y documentos utilizando tfidf"
      ],
      "execution_count": null,
      "outputs": []
    },
    {
      "cell_type": "markdown",
      "metadata": {
        "id": "lG9WfBMw9hSQ"
      },
      "source": [
        "## Ejemplo: Wordcloud\n",
        "\n",
        "Una manera sencilla y útil de visualizar un cuerpo de texto es utilizar una nube de palabras. Esta visualización representa las palabras contenidas en un texto y codifica su tamaño en función de una métrica de peso de las palabras (frecuencia bruta o tf-idf), de esta manera palabras \"más importantes\" se visualizan más grandes."
      ]
    },
    {
      "cell_type": "code",
      "metadata": {
        "id": "PJTNUBQI9aJU",
        "outputId": "f1c1eec8-7294-4750-b4f3-f3afa2974211",
        "colab": {
          "base_uri": "https://localhost:8080/",
          "height": 303
        }
      },
      "source": [
        "description = \"Un texto de prueba para mi primer wordcloud en el todo el mundo, espero que logre repetir algunas palabras\"\n",
        "wordcloud = wordcloud.WordCloud(width=1600, height=800).generate(description)\n",
        "plt.figure(figsize=(10,5))\n",
        "plt.imshow(wordcloud)\n",
        "plt.axis(\"off\")\n",
        "plt.show()"
      ],
      "execution_count": null,
      "outputs": [
        {
          "output_type": "display_data",
          "data": {
            "image/png": "[encoded data removed]",
            "text/plain": [
              "<Figure size 720x360 with 1 Axes>"
            ]
          },
          "metadata": {
            "tags": [],
            "needs_background": "light"
          }
        }
      ]
    },
    {
      "cell_type": "markdown",
      "metadata": {
        "id": "wT3otjGZ-iRt"
      },
      "source": [
        "## Actividad 4: Analizando la lista de espera chilena\n",
        "\n",
        "El conjunto de datos aysen contiene todas las interconsultas que se realizan desde los consultorios hacia los hospitales de la región de aysén, este conjunto de datos contiene sospechas diagnósticas en texto libre. \n",
        "\n",
        "Desde el conjunto de datos aysen realice las siguientes tareas:\n",
        "\n",
        "1.   Construya un wordcloud en donde se visualice la columna SOSPECHA_DIAG de la región.\n",
        "2.   Proponga algún tipo de filtrado para mejorar la información a comunicar a través de la nube de palabras\n",
        "3.   Pondere el tamaño de las palabras según otra métrica (hint: ¿tf o idf?)\n",
        "\n"
      ]
    },
    {
      "cell_type": "code",
      "metadata": {
        "id": "3ajs8z7b-AkE",
        "outputId": "4762a343-debe-4b1f-cfd9-dfbff4551d40",
        "colab": {
          "base_uri": "https://localhost:8080/"
        }
      },
      "source": [
        "aysen = pd.read_csv(\"aysen.csv\", sep=';')"
      ],
      "execution_count": null,
      "outputs": [
        {
          "output_type": "stream",
          "text": [
            "/usr/local/lib/python3.6/dist-packages/IPython/core/interactiveshell.py:2718: DtypeWarning: Columns (0) have mixed types.Specify dtype option on import or set low_memory=False.\n",
            "  interactivity=interactivity, compiler=compiler, result=result)\n"
          ],
          "name": "stderr"
        }
      ]
    },
    {
      "cell_type": "code",
      "metadata": {
        "id": "M3-JrxENAB2k",
        "outputId": "e9772b21-5432-4bca-ea22-d3306c03f6af",
        "colab": {
          "base_uri": "https://localhost:8080/",
          "height": 428
        }
      },
      "source": [
        "aysen.head()"
      ],
      "execution_count": null,
      "outputs": [
        {
          "output_type": "execute_result",
          "data": {
            "text/html": [
              "<div>\n",
              "<style scoped>\n",
              "    .dataframe tbody tr th:only-of-type {\n",
              "        vertical-align: middle;\n",
              "    }\n",
              "\n",
              "    .dataframe tbody tr th {\n",
              "        vertical-align: top;\n",
              "    }\n",
              "\n",
              "    .dataframe thead th {\n",
              "        text-align: right;\n",
              "    }\n",
              "</style>\n",
              "<table border=\"1\" class=\"dataframe\">\n",
              "  <thead>\n",
              "    <tr style=\"text-align: right;\">\n",
              "      <th></th>\n",
              "      <th>FECHA_NAC</th>\n",
              "      <th>SEXO</th>\n",
              "      <th>PRESTA_MIN</th>\n",
              "      <th>PLANO</th>\n",
              "      <th>EXTREMIDAD</th>\n",
              "      <th>PRESTA_EST</th>\n",
              "      <th>F_ENTRADA</th>\n",
              "      <th>ESTAB_ORIG</th>\n",
              "      <th>ESTAB_DEST</th>\n",
              "      <th>F_SALIDA</th>\n",
              "      <th>C_SALIDA</th>\n",
              "      <th>E_OTOR_AT</th>\n",
              "      <th>PRESTA_MIN_SALIDA</th>\n",
              "      <th>REGION</th>\n",
              "      <th>COMUNA</th>\n",
              "      <th>SOSPECHA_DIAG</th>\n",
              "    </tr>\n",
              "  </thead>\n",
              "  <tbody>\n",
              "    <tr>\n",
              "      <th>0</th>\n",
              "      <td>1985</td>\n",
              "      <td>2</td>\n",
              "      <td>09-001-0</td>\n",
              "      <td>NaN</td>\n",
              "      <td>NaN</td>\n",
              "      <td>ENDODONCIA</td>\n",
              "      <td>31-12-17</td>\n",
              "      <td>25-301</td>\n",
              "      <td>25-100</td>\n",
              "      <td>NaN</td>\n",
              "      <td>NaN</td>\n",
              "      <td>NaN</td>\n",
              "      <td>NaN</td>\n",
              "      <td>11</td>\n",
              "      <td>11101</td>\n",
              "      <td>Celulitis y absceso de boca</td>\n",
              "    </tr>\n",
              "    <tr>\n",
              "      <th>1</th>\n",
              "      <td>1946</td>\n",
              "      <td>1</td>\n",
              "      <td>09-004-0</td>\n",
              "      <td>NaN</td>\n",
              "      <td>NaN</td>\n",
              "      <td>PERIODONCIA</td>\n",
              "      <td>31-12-17</td>\n",
              "      <td>25-301</td>\n",
              "      <td>25-100</td>\n",
              "      <td>NaN</td>\n",
              "      <td>NaN</td>\n",
              "      <td>NaN</td>\n",
              "      <td>NaN</td>\n",
              "      <td>11</td>\n",
              "      <td>11101</td>\n",
              "      <td>Periodontitis cronica</td>\n",
              "    </tr>\n",
              "    <tr>\n",
              "      <th>2</th>\n",
              "      <td>1937</td>\n",
              "      <td>2</td>\n",
              "      <td>09-006-0</td>\n",
              "      <td>NaN</td>\n",
              "      <td>NaN</td>\n",
              "      <td>REHABILITACION: PROTESIS REMOVIBLE</td>\n",
              "      <td>31-12-17</td>\n",
              "      <td>25-301</td>\n",
              "      <td>25-100</td>\n",
              "      <td>2018-01-03 00:00:00</td>\n",
              "      <td>1.0</td>\n",
              "      <td>25-100</td>\n",
              "      <td>09-006-0</td>\n",
              "      <td>11</td>\n",
              "      <td>11101</td>\n",
              "      <td>Otras afecciones especificadas de los dientes ...</td>\n",
              "    </tr>\n",
              "    <tr>\n",
              "      <th>3</th>\n",
              "      <td>1955</td>\n",
              "      <td>2</td>\n",
              "      <td>07-208-0</td>\n",
              "      <td>NaN</td>\n",
              "      <td>NaN</td>\n",
              "      <td>NEUROCIRUGIA</td>\n",
              "      <td>30-12-17</td>\n",
              "      <td>25-300</td>\n",
              "      <td>25-100</td>\n",
              "      <td>NaN</td>\n",
              "      <td>NaN</td>\n",
              "      <td>NaN</td>\n",
              "      <td>NaN</td>\n",
              "      <td>11</td>\n",
              "      <td>11101</td>\n",
              "      <td>Trastornos de disco lumbar y otros, con radicu...</td>\n",
              "    </tr>\n",
              "    <tr>\n",
              "      <th>4</th>\n",
              "      <td>1997</td>\n",
              "      <td>2</td>\n",
              "      <td>09-001-0</td>\n",
              "      <td>NaN</td>\n",
              "      <td>NaN</td>\n",
              "      <td>ENDODONCIA</td>\n",
              "      <td>30-12-17</td>\n",
              "      <td>25-301</td>\n",
              "      <td>25-100</td>\n",
              "      <td>NaN</td>\n",
              "      <td>NaN</td>\n",
              "      <td>NaN</td>\n",
              "      <td>NaN</td>\n",
              "      <td>11</td>\n",
              "      <td>11101</td>\n",
              "      <td>Celulitis y absceso de boca</td>\n",
              "    </tr>\n",
              "  </tbody>\n",
              "</table>\n",
              "</div>"
            ],
            "text/plain": [
              "  FECHA_NAC  SEXO  ... COMUNA                                      SOSPECHA_DIAG\n",
              "0      1985     2  ...  11101                        Celulitis y absceso de boca\n",
              "1      1946     1  ...  11101                              Periodontitis cronica\n",
              "2      1937     2  ...  11101  Otras afecciones especificadas de los dientes ...\n",
              "3      1955     2  ...  11101  Trastornos de disco lumbar y otros, con radicu...\n",
              "4      1997     2  ...  11101                        Celulitis y absceso de boca\n",
              "\n",
              "[5 rows x 16 columns]"
            ]
          },
          "metadata": {
            "tags": []
          },
          "execution_count": 18
        }
      ]
    },
    {
      "cell_type": "code",
      "metadata": {
        "id": "peT6_srf--Bx"
      },
      "source": [
        "# Programa\n",
        "#\n",
        "#\n",
        "#"
      ],
      "execution_count": null,
      "outputs": []
    },
    {
      "cell_type": "markdown",
      "metadata": {
        "id": "jn8tsA79f8_a"
      },
      "source": [
        "## Actividad 5: SVD\n",
        "\n",
        "Desde la matriz de tf-idf calculada anteriormente sobre newsgroups realice una descomposición mediante SVD.\n",
        "\n",
        "1.   Verifique que las matrices U y V calculadas con SVD son ortonormales\n",
        "2.   Verifique hasta que vector los temas identificados en SVD hacen “sentido” para los 4 temas seleccionados.\n",
        "3.   ¿Cuántos temas potencialmente se pueden inferir con SVD?\n",
        "\n"
      ]
    },
    {
      "cell_type": "code",
      "metadata": {
        "id": "m-RqPJbm_8sj"
      },
      "source": [
        "## HINT: Estas lineas de código pueden serle útiles para resolver la actividad\n",
        "# def show_topics(a):\n",
        "#   num_top_words=8\n",
        "#   top_words = lambda t: [vocab[i] for i in np.argsort(t)[:-num_top_words-1:-1]]\n",
        "#   topic_words = ([top_words(t) for t in a])\n",
        "#   return [' '.join(t) for t in topic_words]\n",
        "#SVD\n",
        "# U, s, Vh = linalg.svd(vectors, full_matrices=False)\n",
        "# show_topics(Vh)"
      ],
      "execution_count": 18,
      "outputs": []
    },
    {
      "cell_type": "code",
      "metadata": {
        "id": "LS4RrSP6hxpp"
      },
      "source": [
        ""
      ],
      "execution_count": null,
      "outputs": []
    }
  ]
}