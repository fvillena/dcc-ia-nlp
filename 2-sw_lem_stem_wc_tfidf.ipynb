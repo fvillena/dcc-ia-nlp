{
  "nbformat": 4,
  "nbformat_minor": 0,
  "metadata": {
    "colab": {
      "name": "2-sw-lem-stem-wc-tfidf.ipynb",
      "provenance": [],
      "authorship_tag": "ABX9TyPpwg1S3t1yLbSqzyS/ZNR/",
      "include_colab_link": true
    },
    "kernelspec": {
      "name": "python3",
      "display_name": "Python 3"
    }
  },
  "cells": [
    {
      "cell_type": "markdown",
      "metadata": {
        "id": "view-in-github",
        "colab_type": "text"
      },
      "source": [
        "<a href=\"https://colab.research.google.com/github/fvillena/dcc-ia-nlp/blob/master/2-sw_lem_stem_wc_tfidf.ipynb\" target=\"_parent\"><img src=\"https://colab.research.google.com/assets/colab-badge.svg\" alt=\"Open In Colab\"/></a>"
      ]
    },
    {
      "cell_type": "markdown",
      "metadata": {
        "id": "d2Ps5aDf61bl"
      },
      "source": [
        "# Stopwords, lematización, stemming, wordclouds y TF-IDF"
      ]
    },
    {
      "cell_type": "markdown",
      "metadata": {
        "id": "FtSiV0FP7FtQ"
      },
      "source": [
        "Preparamos el ambiente de desarrollo"
      ]
    },
    {
      "cell_type": "code",
      "metadata": {
        "id": "x1cpLRndxe8Y"
      },
      "source": [
        "import spacy\n",
        "import nltk\n",
        "import sklearn\n",
        "import wordcloud\n",
        "import matplotlib.pyplot as plt\n",
        "import pandas as pd"
      ],
      "execution_count": 1,
      "outputs": []
    },
    {
      "cell_type": "code",
      "metadata": {
        "id": "aVj7m1JM-qCU",
        "outputId": "8892f9a3-5520-4f13-9435-7b12b795fb56",
        "colab": {
          "base_uri": "https://localhost:8080/"
        }
      },
      "source": [
        "!wget https://raw.githubusercontent.com/fvillena/dcc-ia-nlp/master/data/aysen.csv"
      ],
      "execution_count": 2,
      "outputs": [
        {
          "output_type": "stream",
          "text": [
            "--2020-10-31 00:14:15--  https://raw.githubusercontent.com/fvillena/dcc-ia-nlp/master/data/aysen.csv\n",
            "Resolving raw.githubusercontent.com (raw.githubusercontent.com)... 151.101.0.133, 151.101.64.133, 151.101.128.133, ...\n",
            "Connecting to raw.githubusercontent.com (raw.githubusercontent.com)|151.101.0.133|:443... connected.\n",
            "HTTP request sent, awaiting response... 200 OK\n",
            "Length: 29482924 (28M) [text/plain]\n",
            "Saving to: ‘aysen.csv.1’\n",
            "\n",
            "aysen.csv.1         100%[===================>]  28.12M  41.5MB/s    in 0.7s    \n",
            "\n",
            "2020-10-31 00:14:16 (41.5 MB/s) - ‘aysen.csv.1’ saved [29482924/29482924]\n",
            "\n"
          ],
          "name": "stdout"
        }
      ]
    },
    {
      "cell_type": "code",
      "metadata": {
        "id": "ia0H4DlbzCj5",
        "outputId": "f84d9e04-a7a4-4036-ff68-d8c4e65267b1",
        "colab": {
          "base_uri": "https://localhost:8080/"
        }
      },
      "source": [
        "nltk.download('stopwords')\n",
        "nltk.download('wordnet') "
      ],
      "execution_count": 3,
      "outputs": [
        {
          "output_type": "stream",
          "text": [
            "[nltk_data] Downloading package stopwords to /root/nltk_data...\n",
            "[nltk_data]   Unzipping corpora/stopwords.zip.\n",
            "[nltk_data] Downloading package wordnet to /root/nltk_data...\n",
            "[nltk_data]   Unzipping corpora/wordnet.zip.\n"
          ],
          "name": "stdout"
        },
        {
          "output_type": "execute_result",
          "data": {
            "text/plain": [
              "True"
            ]
          },
          "metadata": {
            "tags": []
          },
          "execution_count": 3
        }
      ]
    },
    {
      "cell_type": "code",
      "metadata": {
        "id": "M3gs4OvKyjvN",
        "outputId": "3dbd03b8-37cf-49e2-ad33-84989f06bf4d",
        "colab": {
          "base_uri": "https://localhost:8080/"
        }
      },
      "source": [
        "!python -m spacy download es_core_news_sm"
      ],
      "execution_count": 4,
      "outputs": [
        {
          "output_type": "stream",
          "text": [
            "Collecting es_core_news_sm==2.2.5\n",
            "\u001b[?25l  Downloading https://github.com/explosion/spacy-models/releases/download/es_core_news_sm-2.2.5/es_core_news_sm-2.2.5.tar.gz (16.2MB)\n",
            "\u001b[K     |████████████████████████████████| 16.2MB 3.8MB/s \n",
            "\u001b[?25hRequirement already satisfied: spacy>=2.2.2 in /usr/local/lib/python3.6/dist-packages (from es_core_news_sm==2.2.5) (2.2.4)\n",
            "Requirement already satisfied: murmurhash<1.1.0,>=0.28.0 in /usr/local/lib/python3.6/dist-packages (from spacy>=2.2.2->es_core_news_sm==2.2.5) (1.0.2)\n",
            "Requirement already satisfied: preshed<3.1.0,>=3.0.2 in /usr/local/lib/python3.6/dist-packages (from spacy>=2.2.2->es_core_news_sm==2.2.5) (3.0.2)\n",
            "Requirement already satisfied: requests<3.0.0,>=2.13.0 in /usr/local/lib/python3.6/dist-packages (from spacy>=2.2.2->es_core_news_sm==2.2.5) (2.23.0)\n",
            "Requirement already satisfied: tqdm<5.0.0,>=4.38.0 in /usr/local/lib/python3.6/dist-packages (from spacy>=2.2.2->es_core_news_sm==2.2.5) (4.41.1)\n",
            "Requirement already satisfied: setuptools in /usr/local/lib/python3.6/dist-packages (from spacy>=2.2.2->es_core_news_sm==2.2.5) (50.3.2)\n",
            "Requirement already satisfied: numpy>=1.15.0 in /usr/local/lib/python3.6/dist-packages (from spacy>=2.2.2->es_core_news_sm==2.2.5) (1.18.5)\n",
            "Requirement already satisfied: srsly<1.1.0,>=1.0.2 in /usr/local/lib/python3.6/dist-packages (from spacy>=2.2.2->es_core_news_sm==2.2.5) (1.0.2)\n",
            "Requirement already satisfied: blis<0.5.0,>=0.4.0 in /usr/local/lib/python3.6/dist-packages (from spacy>=2.2.2->es_core_news_sm==2.2.5) (0.4.1)\n",
            "Requirement already satisfied: wasabi<1.1.0,>=0.4.0 in /usr/local/lib/python3.6/dist-packages (from spacy>=2.2.2->es_core_news_sm==2.2.5) (0.8.0)\n",
            "Requirement already satisfied: cymem<2.1.0,>=2.0.2 in /usr/local/lib/python3.6/dist-packages (from spacy>=2.2.2->es_core_news_sm==2.2.5) (2.0.3)\n",
            "Requirement already satisfied: thinc==7.4.0 in /usr/local/lib/python3.6/dist-packages (from spacy>=2.2.2->es_core_news_sm==2.2.5) (7.4.0)\n",
            "Requirement already satisfied: catalogue<1.1.0,>=0.0.7 in /usr/local/lib/python3.6/dist-packages (from spacy>=2.2.2->es_core_news_sm==2.2.5) (1.0.0)\n",
            "Requirement already satisfied: plac<1.2.0,>=0.9.6 in /usr/local/lib/python3.6/dist-packages (from spacy>=2.2.2->es_core_news_sm==2.2.5) (1.1.3)\n",
            "Requirement already satisfied: urllib3!=1.25.0,!=1.25.1,<1.26,>=1.21.1 in /usr/local/lib/python3.6/dist-packages (from requests<3.0.0,>=2.13.0->spacy>=2.2.2->es_core_news_sm==2.2.5) (1.24.3)\n",
            "Requirement already satisfied: certifi>=2017.4.17 in /usr/local/lib/python3.6/dist-packages (from requests<3.0.0,>=2.13.0->spacy>=2.2.2->es_core_news_sm==2.2.5) (2020.6.20)\n",
            "Requirement already satisfied: idna<3,>=2.5 in /usr/local/lib/python3.6/dist-packages (from requests<3.0.0,>=2.13.0->spacy>=2.2.2->es_core_news_sm==2.2.5) (2.10)\n",
            "Requirement already satisfied: chardet<4,>=3.0.2 in /usr/local/lib/python3.6/dist-packages (from requests<3.0.0,>=2.13.0->spacy>=2.2.2->es_core_news_sm==2.2.5) (3.0.4)\n",
            "Requirement already satisfied: importlib-metadata>=0.20; python_version < \"3.8\" in /usr/local/lib/python3.6/dist-packages (from catalogue<1.1.0,>=0.0.7->spacy>=2.2.2->es_core_news_sm==2.2.5) (2.0.0)\n",
            "Requirement already satisfied: zipp>=0.5 in /usr/local/lib/python3.6/dist-packages (from importlib-metadata>=0.20; python_version < \"3.8\"->catalogue<1.1.0,>=0.0.7->spacy>=2.2.2->es_core_news_sm==2.2.5) (3.3.1)\n",
            "Building wheels for collected packages: es-core-news-sm\n",
            "  Building wheel for es-core-news-sm (setup.py) ... \u001b[?25l\u001b[?25hdone\n",
            "  Created wheel for es-core-news-sm: filename=es_core_news_sm-2.2.5-cp36-none-any.whl size=16172934 sha256=61e3f2d3bd1c361554601095206c084e1d386d157aebdcc4d9ff506ae3750272\n",
            "  Stored in directory: /tmp/pip-ephem-wheel-cache-srrdf5kx/wheels/05/4f/66/9d0c806f86de08e8645d67996798c49e1512f9c3a250d74242\n",
            "Successfully built es-core-news-sm\n",
            "Installing collected packages: es-core-news-sm\n",
            "Successfully installed es-core-news-sm-2.2.5\n",
            "\u001b[38;5;2m✔ Download and installation successful\u001b[0m\n",
            "You can now load the model via spacy.load('es_core_news_sm')\n"
          ],
          "name": "stdout"
        }
      ]
    },
    {
      "cell_type": "code",
      "metadata": {
        "id": "DEgsyhw5zPSw"
      },
      "source": [
        "import es_core_news_sm\n",
        "nlp_es = es_core_news_sm.load()"
      ],
      "execution_count": 5,
      "outputs": []
    },
    {
      "cell_type": "markdown",
      "metadata": {
        "id": "dSwBrmUC7JlY"
      },
      "source": [
        "## Actividad 1: Stopwords\n",
        "\n",
        "Compare las listas de stopwords asociadas a las 2 bibliotecas utiilizadas y enuncie las diferencias que pueda encontrar entre ellas."
      ]
    },
    {
      "cell_type": "code",
      "metadata": {
        "id": "8no_PqUaxwHK"
      },
      "source": [
        "# Así cargamos las listas de stopwords\n",
        "nltk_stopwords = nltk.corpus.stopwords.words('spanish')\n",
        "spacy_stopwords = spacy.lang.es.stop_words.STOP_WORDS"
      ],
      "execution_count": 6,
      "outputs": []
    },
    {
      "cell_type": "code",
      "metadata": {
        "id": "Zzt5j6yO8WTy"
      },
      "source": [
        "# Programa\n",
        "#\n",
        "#\n",
        "#"
      ],
      "execution_count": 7,
      "outputs": []
    },
    {
      "cell_type": "markdown",
      "metadata": {
        "id": "Zy5U4oej8gRY"
      },
      "source": [
        "## Actividad 2: Stemming y lematización\n",
        "\n",
        "Dada una lista de conjuntos de palabras (raw_words) lematice y realice stemming sobre cada palabra y compare los resultados asociados a cada conjunto de palabras."
      ]
    },
    {
      "cell_type": "code",
      "metadata": {
        "id": "fwksZcviyXOA"
      },
      "source": [
        "raw_words = [\n",
        "             (\"fly\",\"flies\",\"flying\"),\n",
        "             (\"organize\",\"organizes\",\"organizing\"),\n",
        "             (\"universe\",\"university\")\n",
        "]"
      ],
      "execution_count": 8,
      "outputs": []
    },
    {
      "cell_type": "code",
      "metadata": {
        "id": "bwOOHTp8z9F7"
      },
      "source": [
        "# Así instanciamos el stemmer y lematizador\n",
        "\n",
        "stemmer = nltk.stem.SnowballStemmer(\"english\")\n",
        "lemmatizer = nltk.stem.WordNetLemmatizer()"
      ],
      "execution_count": 9,
      "outputs": []
    },
    {
      "cell_type": "code",
      "metadata": {
        "id": "FXtJc9Pe9gH_",
        "outputId": "5aa8c31a-286b-4b4e-9c30-794978e3e348",
        "colab": {
          "base_uri": "https://localhost:8080/",
          "height": 35
        }
      },
      "source": [
        "stemmer.stem(\"flies\")"
      ],
      "execution_count": 10,
      "outputs": [
        {
          "output_type": "execute_result",
          "data": {
            "application/vnd.google.colaboratory.intrinsic+json": {
              "type": "string"
            },
            "text/plain": [
              "'fli'"
            ]
          },
          "metadata": {
            "tags": []
          },
          "execution_count": 10
        }
      ]
    },
    {
      "cell_type": "code",
      "metadata": {
        "id": "x4pXMjBl9jOM",
        "outputId": "9db0dfcb-96af-49ab-dd0e-a7bb8badce42",
        "colab": {
          "base_uri": "https://localhost:8080/",
          "height": 35
        }
      },
      "source": [
        "lemmatizer.lemmatize(\"flies\")"
      ],
      "execution_count": 11,
      "outputs": [
        {
          "output_type": "execute_result",
          "data": {
            "application/vnd.google.colaboratory.intrinsic+json": {
              "type": "string"
            },
            "text/plain": [
              "'fly'"
            ]
          },
          "metadata": {
            "tags": []
          },
          "execution_count": 11
        }
      ]
    },
    {
      "cell_type": "code",
      "metadata": {
        "id": "LFyhrUhC9p32"
      },
      "source": [
        "# Programa\n",
        "#\n",
        "#\n",
        "#"
      ],
      "execution_count": 12,
      "outputs": []
    },
    {
      "cell_type": "markdown",
      "metadata": {
        "id": "kv_R4_O0-CjQ"
      },
      "source": [
        "# Actividad 3: TF-IDF\n",
        "\n",
        "Utilizando el corpus newsgroups.data crea una matrix de términos y documentos utilizando tf-idf.\n",
        "\n",
        "Utiliza la implementación que tiene sklearn de este método. Acá está la documentación.\n",
        "\n",
        "https://scikit-learn.org/stable/modules/generated/sklearn.feature_extraction.text.TfidfVectorizer.html\n",
        "\n",
        "Después de generar la matrix, explora los valores de idf de las palabras, ¿Qué conclusión puedes esbozar al observar las palabras con mayor y menor idf?"
      ]
    },
    {
      "cell_type": "code",
      "metadata": {
        "id": "XDXn4edz941X"
      },
      "source": [
        "categories = ['alt.atheism', 'talk.religion.misc', 'comp.graphics', 'sci.space']\n",
        "remove = ('headers', 'footers', 'quotes')\n",
        "newsgroups = sklearn.datasets.fetch_20newsgroups(categories=categories, remove=remove)"
      ],
      "execution_count": 13,
      "outputs": []
    },
    {
      "cell_type": "code",
      "metadata": {
        "id": "gyeQbypb7xVE",
        "outputId": "d50998db-4852-4175-a9de-8411e36635ba",
        "colab": {
          "base_uri": "https://localhost:8080/"
        }
      },
      "source": [
        "print(newsgroups.data[0])"
      ],
      "execution_count": 14,
      "outputs": [
        {
          "output_type": "stream",
          "text": [
            "Hi,\n",
            "\n",
            "I've noticed that if you only save a model (with all your mapping planes\n",
            "positioned carefully) to a .3DS file that when you reload it after restarting\n",
            "3DS, they are given a default position and orientation.  But if you save\n",
            "to a .PRJ file their positions/orientation are preserved.  Does anyone\n",
            "know why this information is not stored in the .3DS file?  Nothing is\n",
            "explicitly said in the manual about saving texture rules in the .PRJ file. \n",
            "I'd like to be able to read the texture rule information, does anyone have \n",
            "the format for the .PRJ file?\n",
            "\n",
            "Is the .CEL file format available from somewhere?\n",
            "\n",
            "Rych\n"
          ],
          "name": "stdout"
        }
      ]
    },
    {
      "cell_type": "code",
      "metadata": {
        "id": "DvbaY4aL76cB"
      },
      "source": [
        "tfidf_vectorizer = sklearn.feature_extraction.text.TfidfVectorizer(stop_words=\"english\")\n",
        "# TODO: Transformar el corpus en una matriz de terminos y documentos utilizando tfidf"
      ],
      "execution_count": 15,
      "outputs": []
    },
    {
      "cell_type": "markdown",
      "metadata": {
        "id": "lG9WfBMw9hSQ"
      },
      "source": [
        "## Ejemplo: Wordcloud\n",
        "\n",
        "Una manera sencilla y útil de visualizar un cuerpo de texto es utilizar una nube de palabras. Esta visualización representa las palabras contenidas en un texto y codifica su tamaño en función de una métrica de peso de las palabras (frecuencia bruta o tf-idf), de esta manera palabras \"más importantes\" se visualizan más grandes."
      ]
    },
    {
      "cell_type": "code",
      "metadata": {
        "id": "PJTNUBQI9aJU",
        "outputId": "7de0216a-edd0-49c1-d9b2-42690e649c86",
        "colab": {
          "base_uri": "https://localhost:8080/",
          "height": 303
        }
      },
      "source": [
        "description = \"Un texto de prueba para mi primer wordcloud en el todo el mundo, espero que logre repetir algunas palabras\"\n",
        "wordcloud = wordcloud.WordCloud(width=1600, height=800).generate(description)\n",
        "plt.figure(figsize=(10,5))\n",
        "plt.imshow(wordcloud)\n",
        "plt.axis(\"off\")\n",
        "plt.show()"
      ],
      "execution_count": 16,
      "outputs": [
        {
          "output_type": "display_data",
          "data": {
            "image/png": "[encoded data removed]",
            "text/plain": [
              "<Figure size 720x360 with 1 Axes>"
            ]
          },
          "metadata": {
            "tags": [],
            "needs_background": "light"
          }
        }
      ]
    },
    {
      "cell_type": "markdown",
      "metadata": {
        "id": "wT3otjGZ-iRt"
      },
      "source": [
        "## Actividad 4: Analizando la lista de espera chilena\n",
        "\n",
        "El conjunto de datos aysen contiene todas las interconsultas que se realizan desde los consultorios hacia los hospitales de la región de aysén, este conjunto de datos contiene sospechas diagnósticas en texto libre. \n",
        "\n",
        "Desde el conjunto de datos aysen realice las siguientes tareas:\n",
        "\n",
        "1.   Construya un wordcloud en donde se visualice la columna SOSPECHA_DIAG de la región.\n",
        "2.   Proponga algún tipo de filtrado para mejorar la información a comunicar a través de la nube de palabras\n",
        "3.   Pondere el tamaño de las palabras según otra métrica (hint: ¿tf o idf?)\n",
        "\n"
      ]
    },
    {
      "cell_type": "code",
      "metadata": {
        "id": "3ajs8z7b-AkE",
        "outputId": "80ea9564-a192-47d9-8042-6f31ad275421",
        "colab": {
          "base_uri": "https://localhost:8080/"
        }
      },
      "source": [
        "aysen = pd.read_csv(\"aysen.csv\", sep=';')"
      ],
      "execution_count": 17,
      "outputs": [
        {
          "output_type": "stream",
          "text": [
            "/usr/local/lib/python3.6/dist-packages/IPython/core/interactiveshell.py:2718: DtypeWarning: Columns (0) have mixed types.Specify dtype option on import or set low_memory=False.\n",
            "  interactivity=interactivity, compiler=compiler, result=result)\n"
          ],
          "name": "stderr"
        }
      ]
    },
    {
      "cell_type": "code",
      "metadata": {
        "id": "M3-JrxENAB2k",
        "outputId": "3d71130e-5a7e-475a-9cf1-cd64811d6f79",
        "colab": {
          "base_uri": "https://localhost:8080/",
          "height": 428
        }
      },
      "source": [
        "aysen.head()"
      ],
      "execution_count": 18,
      "outputs": [
        {
          "output_type": "execute_result",
          "data": {
            "text/html": [
              "<div>\n",
              "<style scoped>\n",
              "    .dataframe tbody tr th:only-of-type {\n",
              "        vertical-align: middle;\n",
              "    }\n",
              "\n",
              "    .dataframe tbody tr th {\n",
              "        vertical-align: top;\n",
              "    }\n",
              "\n",
              "    .dataframe thead th {\n",
              "        text-align: right;\n",
              "    }\n",
              "</style>\n",
              "<table border=\"1\" class=\"dataframe\">\n",
              "  <thead>\n",
              "    <tr style=\"text-align: right;\">\n",
              "      <th></th>\n",
              "      <th>FECHA_NAC</th>\n",
              "      <th>SEXO</th>\n",
              "      <th>PRESTA_MIN</th>\n",
              "      <th>PLANO</th>\n",
              "      <th>EXTREMIDAD</th>\n",
              "      <th>PRESTA_EST</th>\n",
              "      <th>F_ENTRADA</th>\n",
              "      <th>ESTAB_ORIG</th>\n",
              "      <th>ESTAB_DEST</th>\n",
              "      <th>F_SALIDA</th>\n",
              "      <th>C_SALIDA</th>\n",
              "      <th>E_OTOR_AT</th>\n",
              "      <th>PRESTA_MIN_SALIDA</th>\n",
              "      <th>REGION</th>\n",
              "      <th>COMUNA</th>\n",
              "      <th>SOSPECHA_DIAG</th>\n",
              "    </tr>\n",
              "  </thead>\n",
              "  <tbody>\n",
              "    <tr>\n",
              "      <th>0</th>\n",
              "      <td>1985</td>\n",
              "      <td>2</td>\n",
              "      <td>09-001-0</td>\n",
              "      <td>NaN</td>\n",
              "      <td>NaN</td>\n",
              "      <td>ENDODONCIA</td>\n",
              "      <td>31-12-17</td>\n",
              "      <td>25-301</td>\n",
              "      <td>25-100</td>\n",
              "      <td>NaN</td>\n",
              "      <td>NaN</td>\n",
              "      <td>NaN</td>\n",
              "      <td>NaN</td>\n",
              "      <td>11</td>\n",
              "      <td>11101</td>\n",
              "      <td>Celulitis y absceso de boca</td>\n",
              "    </tr>\n",
              "    <tr>\n",
              "      <th>1</th>\n",
              "      <td>1946</td>\n",
              "      <td>1</td>\n",
              "      <td>09-004-0</td>\n",
              "      <td>NaN</td>\n",
              "      <td>NaN</td>\n",
              "      <td>PERIODONCIA</td>\n",
              "      <td>31-12-17</td>\n",
              "      <td>25-301</td>\n",
              "      <td>25-100</td>\n",
              "      <td>NaN</td>\n",
              "      <td>NaN</td>\n",
              "      <td>NaN</td>\n",
              "      <td>NaN</td>\n",
              "      <td>11</td>\n",
              "      <td>11101</td>\n",
              "      <td>Periodontitis cronica</td>\n",
              "    </tr>\n",
              "    <tr>\n",
              "      <th>2</th>\n",
              "      <td>1937</td>\n",
              "      <td>2</td>\n",
              "      <td>09-006-0</td>\n",
              "      <td>NaN</td>\n",
              "      <td>NaN</td>\n",
              "      <td>REHABILITACION: PROTESIS REMOVIBLE</td>\n",
              "      <td>31-12-17</td>\n",
              "      <td>25-301</td>\n",
              "      <td>25-100</td>\n",
              "      <td>2018-01-03 00:00:00</td>\n",
              "      <td>1.0</td>\n",
              "      <td>25-100</td>\n",
              "      <td>09-006-0</td>\n",
              "      <td>11</td>\n",
              "      <td>11101</td>\n",
              "      <td>Otras afecciones especificadas de los dientes ...</td>\n",
              "    </tr>\n",
              "    <tr>\n",
              "      <th>3</th>\n",
              "      <td>1955</td>\n",
              "      <td>2</td>\n",
              "      <td>07-208-0</td>\n",
              "      <td>NaN</td>\n",
              "      <td>NaN</td>\n",
              "      <td>NEUROCIRUGIA</td>\n",
              "      <td>30-12-17</td>\n",
              "      <td>25-300</td>\n",
              "      <td>25-100</td>\n",
              "      <td>NaN</td>\n",
              "      <td>NaN</td>\n",
              "      <td>NaN</td>\n",
              "      <td>NaN</td>\n",
              "      <td>11</td>\n",
              "      <td>11101</td>\n",
              "      <td>Trastornos de disco lumbar y otros, con radicu...</td>\n",
              "    </tr>\n",
              "    <tr>\n",
              "      <th>4</th>\n",
              "      <td>1997</td>\n",
              "      <td>2</td>\n",
              "      <td>09-001-0</td>\n",
              "      <td>NaN</td>\n",
              "      <td>NaN</td>\n",
              "      <td>ENDODONCIA</td>\n",
              "      <td>30-12-17</td>\n",
              "      <td>25-301</td>\n",
              "      <td>25-100</td>\n",
              "      <td>NaN</td>\n",
              "      <td>NaN</td>\n",
              "      <td>NaN</td>\n",
              "      <td>NaN</td>\n",
              "      <td>11</td>\n",
              "      <td>11101</td>\n",
              "      <td>Celulitis y absceso de boca</td>\n",
              "    </tr>\n",
              "  </tbody>\n",
              "</table>\n",
              "</div>"
            ],
            "text/plain": [
              "  FECHA_NAC  SEXO  ... COMUNA                                      SOSPECHA_DIAG\n",
              "0      1985     2  ...  11101                        Celulitis y absceso de boca\n",
              "1      1946     1  ...  11101                              Periodontitis cronica\n",
              "2      1937     2  ...  11101  Otras afecciones especificadas de los dientes ...\n",
              "3      1955     2  ...  11101  Trastornos de disco lumbar y otros, con radicu...\n",
              "4      1997     2  ...  11101                        Celulitis y absceso de boca\n",
              "\n",
              "[5 rows x 16 columns]"
            ]
          },
          "metadata": {
            "tags": []
          },
          "execution_count": 18
        }
      ]
    },
    {
      "cell_type": "code",
      "metadata": {
        "id": "peT6_srf--Bx"
      },
      "source": [
        "# Programa\n",
        "#\n",
        "#\n",
        "#"
      ],
      "execution_count": 19,
      "outputs": []
    },
    {
      "cell_type": "code",
      "metadata": {
        "id": "m-RqPJbm_8sj"
      },
      "source": [
        ""
      ],
      "execution_count": 19,
      "outputs": []
    }
  ]
}