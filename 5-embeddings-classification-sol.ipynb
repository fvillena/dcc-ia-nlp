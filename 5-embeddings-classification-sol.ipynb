{
  "nbformat": 4,
  "nbformat_minor": 0,
  "metadata": {
    "colab": {
      "name": "5-embeddings-classification-sol.ipynb",
      "provenance": [],
      "authorship_tag": "ABX9TyNp8Ow4KDSRVmP0e7JsO/ds",
      "include_colab_link": true
    },
    "kernelspec": {
      "name": "python3",
      "display_name": "Python 3"
    }
  },
  "cells": [
    {
      "cell_type": "markdown",
      "metadata": {
        "id": "view-in-github",
        "colab_type": "text"
      },
      "source": [
        "<a href=\"https://colab.research.google.com/github/fvillena/dcc-ia-nlp/blob/master/5-embeddings-classification-sol.ipynb\" target=\"_parent\"><img src=\"https://colab.research.google.com/assets/colab-badge.svg\" alt=\"Open In Colab\"/></a>"
      ]
    },
    {
      "cell_type": "markdown",
      "metadata": {
        "id": "pXbTvZny7WAp"
      },
      "source": [
        "# Embeddings y clasificación"
      ]
    },
    {
      "cell_type": "code",
      "metadata": {
        "id": "ES50nm3X1GCP",
        "outputId": "1a991bc6-0e1d-4e34-90b6-2ea9e2d1bfba",
        "colab": {
          "base_uri": "https://localhost:8080/"
        }
      },
      "source": [
        "!wget https://raw.githubusercontent.com/fvillena/workshopEmbeddingsAndClassifiers/master/corpus.txt\n",
        "!wget https://raw.githubusercontent.com/fvillena/workshopEmbeddingsAndClassifiers/master/data.csv"
      ],
      "execution_count": 1,
      "outputs": [
        {
          "output_type": "stream",
          "text": [
            "--2020-11-10 22:38:41--  https://raw.githubusercontent.com/fvillena/workshopEmbeddingsAndClassifiers/master/corpus.txt\n",
            "Resolving raw.githubusercontent.com (raw.githubusercontent.com)... 151.101.0.133, 151.101.64.133, 151.101.128.133, ...\n",
            "Connecting to raw.githubusercontent.com (raw.githubusercontent.com)|151.101.0.133|:443... connected.\n",
            "HTTP request sent, awaiting response... 200 OK\n",
            "Length: 7394290 (7.1M) [text/plain]\n",
            "Saving to: ‘corpus.txt’\n",
            "\n",
            "corpus.txt          100%[===================>]   7.05M  15.3MB/s    in 0.5s    \n",
            "\n",
            "2020-11-10 22:38:42 (15.3 MB/s) - ‘corpus.txt’ saved [7394290/7394290]\n",
            "\n",
            "--2020-11-10 22:38:42--  https://raw.githubusercontent.com/fvillena/workshopEmbeddingsAndClassifiers/master/data.csv\n",
            "Resolving raw.githubusercontent.com (raw.githubusercontent.com)... 151.101.0.133, 151.101.64.133, 151.101.128.133, ...\n",
            "Connecting to raw.githubusercontent.com (raw.githubusercontent.com)|151.101.0.133|:443... connected.\n",
            "HTTP request sent, awaiting response... 200 OK\n",
            "Length: 2125438 (2.0M) [text/plain]\n",
            "Saving to: ‘data.csv’\n",
            "\n",
            "data.csv            100%[===================>]   2.03M  9.67MB/s    in 0.2s    \n",
            "\n",
            "2020-11-10 22:38:42 (9.67 MB/s) - ‘data.csv’ saved [2125438/2125438]\n",
            "\n"
          ],
          "name": "stdout"
        }
      ]
    },
    {
      "cell_type": "code",
      "metadata": {
        "id": "YbAl0fBixMWP"
      },
      "source": [
        "import nltk\n",
        "import gensim\n",
        "import re\n",
        "import pandas as pd\n",
        "import sklearn\n",
        "import numpy as np"
      ],
      "execution_count": 2,
      "outputs": []
    },
    {
      "cell_type": "markdown",
      "metadata": {
        "id": "lmsItPYb7cD3"
      },
      "source": [
        "Cargamos nuestro corpus que contiene muchos diagnósticos en texto libre"
      ]
    },
    {
      "cell_type": "code",
      "metadata": {
        "id": "nWbPyqTW1DoZ"
      },
      "source": [
        "corpus = []\n",
        "with open(\"corpus.txt\", encoding=\"utf-8\") as f:\n",
        "  for line in f:\n",
        "    corpus.append(line.rstrip())"
      ],
      "execution_count": 3,
      "outputs": []
    },
    {
      "cell_type": "markdown",
      "metadata": {
        "id": "Qd7WWcql7iCa"
      },
      "source": [
        "Cargamos nuestro conjunto de datos que contiene diagnósticos, junto a las especialidades a los que fueron referidos."
      ]
    },
    {
      "cell_type": "code",
      "metadata": {
        "id": "e26UiOrb2VwN"
      },
      "source": [
        "data = pd.read_csv(\"data.csv\")\n",
        "data = data.sample(len(data),random_state=11)"
      ],
      "execution_count": 4,
      "outputs": []
    },
    {
      "cell_type": "code",
      "metadata": {
        "id": "Lp-NxJIn60Mf",
        "outputId": "592a5985-1b7b-45a3-8a0d-be89224cbd08",
        "colab": {
          "base_uri": "https://localhost:8080/",
          "height": 419
        }
      },
      "source": [
        "data"
      ],
      "execution_count": 5,
      "outputs": [
        {
          "output_type": "execute_result",
          "data": {
            "text/html": [
              "<div>\n",
              "<style scoped>\n",
              "    .dataframe tbody tr th:only-of-type {\n",
              "        vertical-align: middle;\n",
              "    }\n",
              "\n",
              "    .dataframe tbody tr th {\n",
              "        vertical-align: top;\n",
              "    }\n",
              "\n",
              "    .dataframe thead th {\n",
              "        text-align: right;\n",
              "    }\n",
              "</style>\n",
              "<table border=\"1\" class=\"dataframe\">\n",
              "  <thead>\n",
              "    <tr style=\"text-align: right;\">\n",
              "      <th></th>\n",
              "      <th>diagnostic</th>\n",
              "      <th>specialty</th>\n",
              "    </tr>\n",
              "  </thead>\n",
              "  <tbody>\n",
              "    <tr>\n",
              "      <th>13599</th>\n",
              "      <td>Consulta, no especificada</td>\n",
              "      <td>TRAUMATOLOGIA</td>\n",
              "    </tr>\n",
              "    <tr>\n",
              "      <th>14183</th>\n",
              "      <td>Coxartrosis (artrosis de la cadera) , (artrosis)</td>\n",
              "      <td>TRAUMATOLOGIA</td>\n",
              "    </tr>\n",
              "    <tr>\n",
              "      <th>6169</th>\n",
              "      <td>Consulta no Especificada</td>\n",
              "      <td>TRAUMATOLOGIA</td>\n",
              "    </tr>\n",
              "    <tr>\n",
              "      <th>40788</th>\n",
              "      <td>Retinopatia de la prematuridad</td>\n",
              "      <td>OFTALMOLOGIA</td>\n",
              "    </tr>\n",
              "    <tr>\n",
              "      <th>18139</th>\n",
              "      <td>Consulta no Especificada</td>\n",
              "      <td>TRAUMATOLOGIA</td>\n",
              "    </tr>\n",
              "    <tr>\n",
              "      <th>...</th>\n",
              "      <td>...</td>\n",
              "      <td>...</td>\n",
              "    </tr>\n",
              "    <tr>\n",
              "      <th>32081</th>\n",
              "      <td>Gingivoestomatitis y faringoamigdalitis herpética</td>\n",
              "      <td>OFTALMOLOGIA</td>\n",
              "    </tr>\n",
              "    <tr>\n",
              "      <th>7259</th>\n",
              "      <td>Luxacion de la rodilla</td>\n",
              "      <td>TRAUMATOLOGIA</td>\n",
              "    </tr>\n",
              "    <tr>\n",
              "      <th>21584</th>\n",
              "      <td>Catarata senil, no especificada</td>\n",
              "      <td>OFTALMOLOGIA</td>\n",
              "    </tr>\n",
              "    <tr>\n",
              "      <th>36543</th>\n",
              "      <td>Diabetes mellitus, no especificada</td>\n",
              "      <td>OFTALMOLOGIA</td>\n",
              "    </tr>\n",
              "    <tr>\n",
              "      <th>10137</th>\n",
              "      <td>Trastorno de los discos intervertebrales, no e...</td>\n",
              "      <td>TRAUMATOLOGIA</td>\n",
              "    </tr>\n",
              "  </tbody>\n",
              "</table>\n",
              "<p>42964 rows × 2 columns</p>\n",
              "</div>"
            ],
            "text/plain": [
              "                                              diagnostic      specialty\n",
              "13599                          Consulta, no especificada  TRAUMATOLOGIA\n",
              "14183   Coxartrosis (artrosis de la cadera) , (artrosis)  TRAUMATOLOGIA\n",
              "6169                            Consulta no Especificada  TRAUMATOLOGIA\n",
              "40788                     Retinopatia de la prematuridad   OFTALMOLOGIA\n",
              "18139                           Consulta no Especificada  TRAUMATOLOGIA\n",
              "...                                                  ...            ...\n",
              "32081  Gingivoestomatitis y faringoamigdalitis herpética   OFTALMOLOGIA\n",
              "7259                              Luxacion de la rodilla  TRAUMATOLOGIA\n",
              "21584                    Catarata senil, no especificada   OFTALMOLOGIA\n",
              "36543                 Diabetes mellitus, no especificada   OFTALMOLOGIA\n",
              "10137  Trastorno de los discos intervertebrales, no e...  TRAUMATOLOGIA\n",
              "\n",
              "[42964 rows x 2 columns]"
            ]
          },
          "metadata": {
            "tags": []
          },
          "execution_count": 5
        }
      ]
    },
    {
      "cell_type": "code",
      "metadata": {
        "id": "9d6rAQn11e1n"
      },
      "source": [
        "def normalizer(text): #normalizes a given string to lowercase and changes all vowels to their base form\n",
        "    text = text.lower() #string lowering\n",
        "    text = re.sub(r'[^A-Za-zñáéíóú]', ' ', text) #replaces every punctuation with a space\n",
        "    text = re.sub('á', 'a', text) #replaces special vowels to their base forms\n",
        "    text = re.sub('é', 'e', text)\n",
        "    text = re.sub('í', 'i', text)\n",
        "    text = re.sub('ó', 'o', text)\n",
        "    text = re.sub('ú', 'u', text)\n",
        "    return text"
      ],
      "execution_count": 6,
      "outputs": []
    },
    {
      "cell_type": "code",
      "metadata": {
        "id": "FQ-iCU451mwB"
      },
      "source": [
        "def preprocessor(text):\n",
        "  text = normalizer(text)\n",
        "  tokens = nltk.tokenize.casual_tokenize(text)\n",
        "  return tokens"
      ],
      "execution_count": 7,
      "outputs": []
    },
    {
      "cell_type": "code",
      "metadata": {
        "id": "K-7oBaZt76Zc"
      },
      "source": [
        "def vectorizer(text, model): #returns a vector representation from a list of words and a given model\n",
        "    vectors = []\n",
        "    for i in text:\n",
        "        try:\n",
        "            vectors.append(model.wv[i])\n",
        "        except:\n",
        "            pass\n",
        "    return(np.nan_to_num(np.mean(vectors,axis=0)))"
      ],
      "execution_count": 8,
      "outputs": []
    },
    {
      "cell_type": "markdown",
      "metadata": {
        "id": "UlehFoo_5Rt9"
      },
      "source": [
        "## Actividad 1: Cálculo de los embeddings\n",
        "\n",
        "Calcule un word embedding utilizando word2vec sobre `corpus`. Recuerde que debe preprocesar el texto antes de calcular los embeddings."
      ]
    },
    {
      "cell_type": "code",
      "metadata": {
        "id": "o4HneQ8m65lB"
      },
      "source": [
        "corpus_preprocessed = list(map(preprocessor,corpus))\n",
        "\n",
        "model = gensim.models.word2vec.Word2Vec(sentences = corpus_preprocessed)"
      ],
      "execution_count": 9,
      "outputs": []
    },
    {
      "cell_type": "markdown",
      "metadata": {
        "id": "DBzLdp8w5wlF"
      },
      "source": [
        "## Actividad 2: Clasificación\n",
        "\n",
        "Construya para cada documento almacenado en `data.diagnostic` un vector de características utilizando los embeddings calculados anteriormente. Debe decidir cómo va a combinar los embeddings de cada una de las palabras del documento en un sólo vector que defina cada documento.\n",
        "\n",
        "Cuando ya tenga calculada su matriz de características entrene un modelo que predica la especialidad almacenada en `data.specialty` dutilizando algún algoritmo conocido por usted y calcule la exactitud del modelo."
      ]
    },
    {
      "cell_type": "code",
      "metadata": {
        "id": "5Du684Pc69H_",
        "outputId": "275e3bca-ba1c-4f27-cf66-0a07eabb2e11",
        "colab": {
          "base_uri": "https://localhost:8080/"
        }
      },
      "source": [
        "features = np.zeros(shape=(len(data),model.wv.vectors.shape[1]))\n",
        "for i,diagnostic in enumerate(data.diagnostic):\n",
        "  features[i,:] = vectorizer(preprocessor(diagnostic),model)\n",
        "  \n",
        "import sklearn.linear_model\n",
        "import sklearn.model_selection\n",
        "\n",
        "cv_results = sklearn.model_selection.cross_validate(sklearn.linear_model.LogisticRegression(max_iter=10000),features[:10000],data.specialty[:10000])\n",
        "cv_results[\"test_score\"].mean()"
      ],
      "execution_count": 10,
      "outputs": [
        {
          "output_type": "stream",
          "text": [
            "/usr/local/lib/python3.6/dist-packages/numpy/core/fromnumeric.py:3335: RuntimeWarning: Mean of empty slice.\n",
            "  out=out, **kwargs)\n",
            "/usr/local/lib/python3.6/dist-packages/numpy/core/_methods.py:161: RuntimeWarning: invalid value encountered in double_scalars\n",
            "  ret = ret.dtype.type(ret / rcount)\n"
          ],
          "name": "stderr"
        },
        {
          "output_type": "execute_result",
          "data": {
            "text/plain": [
              "0.8427000000000001"
            ]
          },
          "metadata": {
            "tags": []
          },
          "execution_count": 10
        }
      ]
    },
    {
      "cell_type": "code",
      "metadata": {
        "id": "8ufBJzz5Rq9i",
        "outputId": "6223cd0b-a650-444f-d3cf-343073c43dd0",
        "colab": {
          "base_uri": "https://localhost:8080/"
        }
      },
      "source": [
        "clf = sklearn.linear_model.LogisticRegression(max_iter=10000)\n",
        "clf.fit(features[:10000],data.specialty[:10000])"
      ],
      "execution_count": 11,
      "outputs": [
        {
          "output_type": "execute_result",
          "data": {
            "text/plain": [
              "LogisticRegression(C=1.0, class_weight=None, dual=False, fit_intercept=True,\n",
              "                   intercept_scaling=1, l1_ratio=None, max_iter=10000,\n",
              "                   multi_class='auto', n_jobs=None, penalty='l2',\n",
              "                   random_state=None, solver='lbfgs', tol=0.0001, verbose=0,\n",
              "                   warm_start=False)"
            ]
          },
          "metadata": {
            "tags": []
          },
          "execution_count": 11
        }
      ]
    },
    {
      "cell_type": "markdown",
      "metadata": {
        "id": "eXO0XShV6Tt6"
      },
      "source": [
        "## Actividad 3: Predictor de especialidad\n",
        "\n",
        "Construya una función que dado un diagnóstico, retorne la especialidad más adecuada para referir utilizando su modelo entrenado anteriormente."
      ]
    },
    {
      "cell_type": "code",
      "metadata": {
        "id": "tz-R3Smm7C6O"
      },
      "source": [
        "def predict_specialty(diagnostic):\n",
        "  tokens = preprocessor(diagnostic)\n",
        "  vector = vectorizer(tokens,model).reshape(1, -1)\n",
        "  return clf.predict(vector)"
      ],
      "execution_count": 12,
      "outputs": []
    },
    {
      "cell_type": "code",
      "metadata": {
        "id": "ZA_d9p825uyw",
        "outputId": "5a91fffd-aa7d-46f1-e384-f597782b0e04",
        "colab": {
          "base_uri": "https://localhost:8080/"
        }
      },
      "source": [
        "predict_specialty(\"fractura de cadera\")"
      ],
      "execution_count": 13,
      "outputs": [
        {
          "output_type": "execute_result",
          "data": {
            "text/plain": [
              "array(['TRAUMATOLOGIA'], dtype=object)"
            ]
          },
          "metadata": {
            "tags": []
          },
          "execution_count": 13
        }
      ]
    },
    {
      "cell_type": "markdown",
      "metadata": {
        "id": "_5IHGPXFDABI"
      },
      "source": [
        "## Actividad 4: ELMo embeddings\n",
        "\n",
        "En las siguientes líneas, descargamos un modelo de ELMo entrenado en español y transformamos nuestros documentos a embeddings utilizando el modelo anteriormente cargado.\n",
        "\n",
        "\n",
        "\n",
        "1.   ¿Cuántas dimensiones tiene el embedding de cada palabra?\n",
        "2.   Busque 2 diagnósticos distintos que tengan una palabra en común, ¿el vector asociado a la palabra en común, es el mismo en cada diagnóstico?\n",
        "3.   Calcule un vector único asociado a cada diagnóstico y entrene un modelo de clasificación que resuelva la misma tarea anterior y compare los resultados de ELMo y Word2Vec\n",
        "\n",
        "\n"
      ]
    },
    {
      "cell_type": "code",
      "metadata": {
        "id": "vtdJkC2r94HZ",
        "outputId": "a7e06a27-4045-4388-9b14-700b6da2e38f",
        "colab": {
          "base_uri": "https://localhost:8080/"
        }
      },
      "source": [
        "!pip install elmoformanylangs"
      ],
      "execution_count": 14,
      "outputs": [
        {
          "output_type": "stream",
          "text": [
            "Collecting elmoformanylangs\n",
            "\u001b[?25l  Downloading https://files.pythonhosted.org/packages/ee/84/4d8dcfaaece62c420254c1d860d02d3f79f7ed15206a73171ac2bbc8e57e/elmoformanylangs-0.0.4.post2-py3-none-any.whl (42kB)\n",
            "\r\u001b[K     |███████▋                        | 10kB 15.1MB/s eta 0:00:01\r\u001b[K     |███████████████▎                | 20kB 1.7MB/s eta 0:00:01\r\u001b[K     |███████████████████████         | 30kB 2.3MB/s eta 0:00:01\r\u001b[K     |██████████████████████████████▋ | 40kB 2.5MB/s eta 0:00:01\r\u001b[K     |████████████████████████████████| 51kB 1.6MB/s \n",
            "\u001b[?25hRequirement already satisfied: numpy in /usr/local/lib/python3.6/dist-packages (from elmoformanylangs) (1.18.5)\n",
            "Requirement already satisfied: torch in /usr/local/lib/python3.6/dist-packages (from elmoformanylangs) (1.7.0+cu101)\n",
            "Requirement already satisfied: h5py in /usr/local/lib/python3.6/dist-packages (from elmoformanylangs) (2.10.0)\n",
            "Collecting overrides\n",
            "  Downloading https://files.pythonhosted.org/packages/ff/b1/10f69c00947518e6676bbd43e739733048de64b8dd998e9c2d5a71f44c5d/overrides-3.1.0.tar.gz\n",
            "Requirement already satisfied: typing-extensions in /usr/local/lib/python3.6/dist-packages (from torch->elmoformanylangs) (3.7.4.3)\n",
            "Requirement already satisfied: dataclasses in /usr/local/lib/python3.6/dist-packages (from torch->elmoformanylangs) (0.7)\n",
            "Requirement already satisfied: future in /usr/local/lib/python3.6/dist-packages (from torch->elmoformanylangs) (0.16.0)\n",
            "Requirement already satisfied: six in /usr/local/lib/python3.6/dist-packages (from h5py->elmoformanylangs) (1.15.0)\n",
            "Building wheels for collected packages: overrides\n",
            "  Building wheel for overrides (setup.py) ... \u001b[?25l\u001b[?25hdone\n",
            "  Created wheel for overrides: filename=overrides-3.1.0-cp36-none-any.whl size=10174 sha256=2458a71df69848d740bc72d03894e2f4005b13515d96fb605e346f48cfa3b5b1\n",
            "  Stored in directory: /root/.cache/pip/wheels/5c/24/13/6ef8600e6f147c95e595f1289a86a3cc82ed65df57582c65a9\n",
            "Successfully built overrides\n",
            "Installing collected packages: overrides, elmoformanylangs\n",
            "Successfully installed elmoformanylangs-0.0.4.post2 overrides-3.1.0\n"
          ],
          "name": "stdout"
        }
      ]
    },
    {
      "cell_type": "code",
      "metadata": {
        "id": "MFdd1_wv9UAO",
        "outputId": "8099503a-56cb-4cc7-8ff1-1f2390924eef",
        "colab": {
          "base_uri": "https://localhost:8080/"
        }
      },
      "source": [
        "!wget http://vectors.nlpl.eu/repository/11/145.zip\n",
        "!unzip 145.zip"
      ],
      "execution_count": 15,
      "outputs": [
        {
          "output_type": "stream",
          "text": [
            "--2020-11-10 22:39:10--  http://vectors.nlpl.eu/repository/11/145.zip\n",
            "Resolving vectors.nlpl.eu (vectors.nlpl.eu)... 129.240.189.225\n",
            "Connecting to vectors.nlpl.eu (vectors.nlpl.eu)|129.240.189.225|:80... connected.\n",
            "HTTP request sent, awaiting response... 200 OK\n",
            "Length: 419687058 (400M) [application/zip]\n",
            "Saving to: ‘145.zip’\n",
            "\n",
            "145.zip             100%[===================>] 400.24M  23.1MB/s    in 24s     \n",
            "\n",
            "2020-11-10 22:39:34 (16.9 MB/s) - ‘145.zip’ saved [419687058/419687058]\n",
            "\n",
            "Archive:  145.zip\n",
            "  inflating: char.dic                \n",
            "  inflating: config.json             \n",
            "  inflating: encoder.pkl             \n",
            "  inflating: meta.json               \n",
            "  inflating: README                  \n",
            "  inflating: token_embedder.pkl      \n",
            "  inflating: word.dic                \n"
          ],
          "name": "stdout"
        }
      ]
    },
    {
      "cell_type": "code",
      "metadata": {
        "id": "EB-DTQw07p45"
      },
      "source": [
        "import elmoformanylangs"
      ],
      "execution_count": 16,
      "outputs": []
    },
    {
      "cell_type": "code",
      "metadata": {
        "id": "GjtBwQR0-XDs",
        "outputId": "3056f444-a311-45fb-b253-af2f024ea984",
        "colab": {
          "base_uri": "https://localhost:8080/"
        }
      },
      "source": [
        "e = elmoformanylangs.Embedder('')"
      ],
      "execution_count": 17,
      "outputs": [
        {
          "output_type": "stream",
          "text": [
            "2020-11-10 22:39:44,949 WARNING: Could not find config.  Trying cnn_50_100_512_4096_sample.json\n",
            "2020-11-10 22:39:44,951 WARNING: Could not find config.  Trying /usr/local/lib/python3.6/dist-packages/elmoformanylangs/configs/cnn_50_100_512_4096_sample.json\n",
            "2020-11-10 22:39:45,237 INFO: char embedding size: 2637\n",
            "2020-11-10 22:39:47,006 INFO: word embedding size: 185214\n",
            "2020-11-10 22:39:53,669 INFO: Model(\n",
            "  (token_embedder): ConvTokenEmbedder(\n",
            "    (word_emb_layer): EmbeddingLayer(\n",
            "      (embedding): Embedding(185214, 100, padding_idx=3)\n",
            "    )\n",
            "    (char_emb_layer): EmbeddingLayer(\n",
            "      (embedding): Embedding(2637, 50, padding_idx=2634)\n",
            "    )\n",
            "    (convolutions): ModuleList(\n",
            "      (0): Conv1d(50, 32, kernel_size=(1,), stride=(1,))\n",
            "      (1): Conv1d(50, 32, kernel_size=(2,), stride=(1,))\n",
            "      (2): Conv1d(50, 64, kernel_size=(3,), stride=(1,))\n",
            "      (3): Conv1d(50, 128, kernel_size=(4,), stride=(1,))\n",
            "      (4): Conv1d(50, 256, kernel_size=(5,), stride=(1,))\n",
            "      (5): Conv1d(50, 512, kernel_size=(6,), stride=(1,))\n",
            "      (6): Conv1d(50, 1024, kernel_size=(7,), stride=(1,))\n",
            "    )\n",
            "    (highways): Highway(\n",
            "      (_layers): ModuleList(\n",
            "        (0): Linear(in_features=2048, out_features=4096, bias=True)\n",
            "        (1): Linear(in_features=2048, out_features=4096, bias=True)\n",
            "      )\n",
            "    )\n",
            "    (projection): Linear(in_features=2148, out_features=512, bias=True)\n",
            "  )\n",
            "  (encoder): ElmobiLm(\n",
            "    (forward_layer_0): LstmCellWithProjection(\n",
            "      (input_linearity): Linear(in_features=512, out_features=16384, bias=False)\n",
            "      (state_linearity): Linear(in_features=512, out_features=16384, bias=True)\n",
            "      (state_projection): Linear(in_features=4096, out_features=512, bias=False)\n",
            "    )\n",
            "    (backward_layer_0): LstmCellWithProjection(\n",
            "      (input_linearity): Linear(in_features=512, out_features=16384, bias=False)\n",
            "      (state_linearity): Linear(in_features=512, out_features=16384, bias=True)\n",
            "      (state_projection): Linear(in_features=4096, out_features=512, bias=False)\n",
            "    )\n",
            "    (forward_layer_1): LstmCellWithProjection(\n",
            "      (input_linearity): Linear(in_features=512, out_features=16384, bias=False)\n",
            "      (state_linearity): Linear(in_features=512, out_features=16384, bias=True)\n",
            "      (state_projection): Linear(in_features=4096, out_features=512, bias=False)\n",
            "    )\n",
            "    (backward_layer_1): LstmCellWithProjection(\n",
            "      (input_linearity): Linear(in_features=512, out_features=16384, bias=False)\n",
            "      (state_linearity): Linear(in_features=512, out_features=16384, bias=True)\n",
            "      (state_projection): Linear(in_features=4096, out_features=512, bias=False)\n",
            "    )\n",
            "  )\n",
            ")\n"
          ],
          "name": "stderr"
        }
      ]
    },
    {
      "cell_type": "code",
      "metadata": {
        "id": "KvZeBbvT-dJ3"
      },
      "source": [
        "sentences = list(map(preprocessor,data.diagnostic))"
      ],
      "execution_count": 18,
      "outputs": []
    },
    {
      "cell_type": "code",
      "metadata": {
        "id": "VO01udeX_EQF",
        "outputId": "b328872c-453b-42f3-a912-59b586952960",
        "colab": {
          "base_uri": "https://localhost:8080/"
        }
      },
      "source": [
        "features_raw = e.sents2elmo(sentences[:10000])"
      ],
      "execution_count": 19,
      "outputs": [
        {
          "output_type": "stream",
          "text": [
            "2020-11-10 22:40:00,625 INFO: 157 batches, avg len: 6.8\n",
            "2020-11-10 22:41:03,171 INFO: Finished 1000 sentences.\n",
            "2020-11-10 22:42:04,859 INFO: Finished 2000 sentences.\n",
            "2020-11-10 22:43:02,324 INFO: Finished 3000 sentences.\n",
            "2020-11-10 22:44:05,181 INFO: Finished 4000 sentences.\n",
            "2020-11-10 22:45:05,905 INFO: Finished 5000 sentences.\n",
            "2020-11-10 22:46:18,890 INFO: Finished 6000 sentences.\n",
            "2020-11-10 22:47:24,900 INFO: Finished 7000 sentences.\n",
            "2020-11-10 22:48:24,405 INFO: Finished 8000 sentences.\n",
            "2020-11-10 22:49:19,949 INFO: Finished 9000 sentences.\n",
            "2020-11-10 22:50:23,406 INFO: Finished 10000 sentences.\n"
          ],
          "name": "stderr"
        }
      ]
    },
    {
      "cell_type": "code",
      "metadata": {
        "id": "-UeNEq_kMB4f",
        "outputId": "d1842803-33d0-4c1a-d699-9ee8587c34ad",
        "colab": {
          "base_uri": "https://localhost:8080/"
        }
      },
      "source": [
        "sentences[7]"
      ],
      "execution_count": 20,
      "outputs": [
        {
          "output_type": "execute_result",
          "data": {
            "text/plain": [
              "['trastornos', 'de', 'disco', 'lumbar', 'y', 'otros', 'con', 'radiculopatia']"
            ]
          },
          "metadata": {
            "tags": []
          },
          "execution_count": 20
        }
      ]
    },
    {
      "cell_type": "code",
      "metadata": {
        "id": "H6pWtnx4MIci",
        "outputId": "eb72995e-bfa4-4fb3-bb95-0f31b0086365",
        "colab": {
          "base_uri": "https://localhost:8080/"
        }
      },
      "source": [
        "sentences[13]"
      ],
      "execution_count": 21,
      "outputs": [
        {
          "output_type": "execute_result",
          "data": {
            "text/plain": [
              "['otros', 'trastornos', 'de', 'los', 'meniscos']"
            ]
          },
          "metadata": {
            "tags": []
          },
          "execution_count": 21
        }
      ]
    },
    {
      "cell_type": "code",
      "metadata": {
        "id": "_g7JlNqPMKRZ",
        "outputId": "2f2ca4bf-2e21-4b60-b82a-800b31c8e610",
        "colab": {
          "base_uri": "https://localhost:8080/"
        }
      },
      "source": [
        "features_raw[7][0]"
      ],
      "execution_count": 22,
      "outputs": [
        {
          "output_type": "execute_result",
          "data": {
            "text/plain": [
              "array([ 0.63260055, -2.6295576 , -1.4965271 , ..., -1.6663014 ,\n",
              "       -0.3976533 , -1.0974367 ], dtype=float32)"
            ]
          },
          "metadata": {
            "tags": []
          },
          "execution_count": 22
        }
      ]
    },
    {
      "cell_type": "code",
      "metadata": {
        "id": "oKBqKKMOMMST",
        "outputId": "0e4fafba-24db-4c2f-ed54-1f27c53a5b07",
        "colab": {
          "base_uri": "https://localhost:8080/"
        }
      },
      "source": [
        "features_raw[13][1]"
      ],
      "execution_count": 23,
      "outputs": [
        {
          "output_type": "execute_result",
          "data": {
            "text/plain": [
              "array([ 0.95266294, -2.3787699 , -1.0691546 , ..., -1.9494299 ,\n",
              "       -0.4950823 , -1.503986  ], dtype=float32)"
            ]
          },
          "metadata": {
            "tags": []
          },
          "execution_count": 23
        }
      ]
    },
    {
      "cell_type": "code",
      "metadata": {
        "id": "FqaHkkokAfTJ",
        "outputId": "9076e963-e25f-4143-85cf-62f8e2ab0736",
        "colab": {
          "base_uri": "https://localhost:8080/"
        }
      },
      "source": [
        "features = []\n",
        "for doc in features_raw:\n",
        "  features.append(doc.mean(0))\n",
        "features = np.vstack(features)\n",
        "cv_results = sklearn.model_selection.cross_validate(sklearn.linear_model.LogisticRegression(max_iter=10000),features,data.specialty[:10000])\n",
        "cv_results[\"test_score\"].mean()"
      ],
      "execution_count": 24,
      "outputs": [
        {
          "output_type": "execute_result",
          "data": {
            "text/plain": [
              "0.8714999999999999"
            ]
          },
          "metadata": {
            "tags": []
          },
          "execution_count": 24
        }
      ]
    },
    {
      "cell_type": "code",
      "metadata": {
        "id": "miGv42VvQPdD"
      },
      "source": [
        ""
      ],
      "execution_count": 24,
      "outputs": []
    }
  ]
}