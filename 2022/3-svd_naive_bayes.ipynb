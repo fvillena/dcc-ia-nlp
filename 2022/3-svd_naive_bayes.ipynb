{
  "nbformat": 4,
  "nbformat_minor": 0,
  "metadata": {
    "colab": {
      "name": "3-svd-naive-bayes.ipynb",
      "provenance": [],
      "authorship_tag": "ABX9TyPMXSh1Fr6FmoAry0yqOxpV",
      "include_colab_link": true
    },
    "kernelspec": {
      "name": "python3",
      "display_name": "Python 3"
    }
  },
  "cells": [
    {
      "cell_type": "markdown",
      "metadata": {
        "id": "view-in-github",
        "colab_type": "text"
      },
      "source": [
        "<a href=\"https://colab.research.google.com/github/fvillena/dcc-ia-nlp/blob/master/3-svd_naive_bayes.ipynb\" target=\"_parent\"><img src=\"https://colab.research.google.com/assets/colab-badge.svg\" alt=\"Open In Colab\"/></a>"
      ]
    },
    {
      "cell_type": "markdown",
      "metadata": {
        "id": "YPLHoW2f3FXb"
      },
      "source": [
        "## SVD y Naïve Bayes"
      ]
    },
    {
      "cell_type": "markdown",
      "metadata": {
        "id": "AEGhIFxg3JPf"
      },
      "source": [
        "Preparamos el ambiente"
      ]
    },
    {
      "cell_type": "code",
      "metadata": {
        "id": "SIIlVDiMU5ir",
        "colab": {
          "base_uri": "https://localhost:8080/"
        },
        "outputId": "56137411-092e-4145-eb7c-5b1bc6951dad"
      },
      "source": [
        "!wget https://files.fast.ai/data/examples/imdb_sample.tgz\n",
        "!tar -xvf imdb_sample.tgz"
      ],
      "execution_count": 1,
      "outputs": [
        {
          "output_type": "stream",
          "name": "stdout",
          "text": [
            "--2021-11-18 19:41:08--  https://files.fast.ai/data/examples/imdb_sample.tgz\n",
            "Resolving files.fast.ai (files.fast.ai)... 172.67.69.159, 104.26.3.19, 104.26.2.19, ...\n",
            "Connecting to files.fast.ai (files.fast.ai)|172.67.69.159|:443... connected.\n",
            "HTTP request sent, awaiting response... 200 OK\n",
            "Length: 571827 (558K) [application/x-gtar-compressed]\n",
            "Saving to: ‘imdb_sample.tgz’\n",
            "\n",
            "\rimdb_sample.tgz       0%[                    ]       0  --.-KB/s               \rimdb_sample.tgz     100%[===================>] 558.42K  --.-KB/s    in 0.03s   \n",
            "\n",
            "2021-11-18 19:41:08 (19.9 MB/s) - ‘imdb_sample.tgz’ saved [571827/571827]\n",
            "\n",
            "imdb_sample/\n",
            "imdb_sample/texts.csv\n"
          ]
        }
      ]
    },
    {
      "cell_type": "code",
      "metadata": {
        "id": "migNakfPVFL5"
      },
      "source": [
        "import pandas as pd\n",
        "import sklearn.datasets\n",
        "import sklearn.feature_extraction\n",
        "import sklearn.decomposition\n",
        "import numpy as np"
      ],
      "execution_count": 2,
      "outputs": []
    },
    {
      "cell_type": "code",
      "metadata": {
        "id": "zptCLItUt0ey"
      },
      "source": [
        "remove = ('headers', 'footers', 'quotes')\n",
        "categories = ['alt.atheism', 'talk.religion.misc', 'comp.graphics', 'sci.space']\n",
        "newsgroups = sklearn.datasets.fetch_20newsgroups(remove=remove,categories=categories)\n",
        "tfidf_vectorizer = sklearn.feature_extraction.text.TfidfVectorizer(stop_words=\"english\",min_df=0.005)\n",
        "x = tfidf_vectorizer.fit_transform(newsgroups.data)"
      ],
      "execution_count": 3,
      "outputs": []
    },
    {
      "cell_type": "markdown",
      "metadata": {
        "id": "Csrun08vihnX"
      },
      "source": [
        "## Actividad 1: SVD\n",
        "Desde la matriz de tf-idf calculada anteriormente sobre newsgroups realice una descomposición mediante SVD.\n",
        "\n",
        "1.   Verifique que las matrices U y V calculadas con SVD son ortonormales\n",
        "2.   Verifique hasta que vector los temas identificados en SVD hacen “sentido” para los 4 temas seleccionados.\n",
        "3.   ¿Cuántos temas potencialmente se pueden inferir con SVD?"
      ]
    },
    {
      "cell_type": "code",
      "metadata": {
        "id": "BdnuFYzRihSt"
      },
      "source": [
        "## HINT: Estas lineas de código pueden serle útiles para resolver la actividad\n",
        "# def show_topics(a):\n",
        "#   num_top_words=8\n",
        "#   top_words = lambda t: [vocab[i] for i in np.argsort(t)[:-num_top_words-1:-1]]\n",
        "#   topic_words = ([top_words(t) for t in a])\n",
        "#   return [' '.join(t) for t in topic_words]\n",
        "#SVD\n",
        "# U, s, Vh = linalg.svd(vectors, full_matrices=False)\n",
        "# show_topics(Vh)"
      ],
      "execution_count": 4,
      "outputs": []
    },
    {
      "cell_type": "markdown",
      "metadata": {
        "id": "X-8nh26x3M5u"
      },
      "source": [
        "Para este paso práctico utilizaremos el conjunto de datos de imbd en donde tenemos una serie de documentos etiquetados con la polaridad (negativo o positivo) asociada."
      ]
    },
    {
      "cell_type": "code",
      "metadata": {
        "id": "46O65JHiVLID"
      },
      "source": [
        "imdb = pd.read_csv(\"imdb_sample/texts.csv\")"
      ],
      "execution_count": 5,
      "outputs": []
    },
    {
      "cell_type": "code",
      "metadata": {
        "id": "fz5vLm4BVTIC",
        "colab": {
          "base_uri": "https://localhost:8080/",
          "height": 419
        },
        "outputId": "48921f78-37d8-433f-db43-5b60e58c68e4"
      },
      "source": [
        "imdb"
      ],
      "execution_count": 6,
      "outputs": [
        {
          "output_type": "execute_result",
          "data": {
            "text/html": [
              "<div>\n",
              "<style scoped>\n",
              "    .dataframe tbody tr th:only-of-type {\n",
              "        vertical-align: middle;\n",
              "    }\n",
              "\n",
              "    .dataframe tbody tr th {\n",
              "        vertical-align: top;\n",
              "    }\n",
              "\n",
              "    .dataframe thead th {\n",
              "        text-align: right;\n",
              "    }\n",
              "</style>\n",
              "<table border=\"1\" class=\"dataframe\">\n",
              "  <thead>\n",
              "    <tr style=\"text-align: right;\">\n",
              "      <th></th>\n",
              "      <th>label</th>\n",
              "      <th>text</th>\n",
              "      <th>is_valid</th>\n",
              "    </tr>\n",
              "  </thead>\n",
              "  <tbody>\n",
              "    <tr>\n",
              "      <th>0</th>\n",
              "      <td>negative</td>\n",
              "      <td>Un-bleeping-believable! Meg Ryan doesn't even ...</td>\n",
              "      <td>False</td>\n",
              "    </tr>\n",
              "    <tr>\n",
              "      <th>1</th>\n",
              "      <td>positive</td>\n",
              "      <td>This is a extremely well-made film. The acting...</td>\n",
              "      <td>False</td>\n",
              "    </tr>\n",
              "    <tr>\n",
              "      <th>2</th>\n",
              "      <td>negative</td>\n",
              "      <td>Every once in a long while a movie will come a...</td>\n",
              "      <td>False</td>\n",
              "    </tr>\n",
              "    <tr>\n",
              "      <th>3</th>\n",
              "      <td>positive</td>\n",
              "      <td>Name just says it all. I watched this movie wi...</td>\n",
              "      <td>False</td>\n",
              "    </tr>\n",
              "    <tr>\n",
              "      <th>4</th>\n",
              "      <td>negative</td>\n",
              "      <td>This movie succeeds at being one of the most u...</td>\n",
              "      <td>False</td>\n",
              "    </tr>\n",
              "    <tr>\n",
              "      <th>...</th>\n",
              "      <td>...</td>\n",
              "      <td>...</td>\n",
              "      <td>...</td>\n",
              "    </tr>\n",
              "    <tr>\n",
              "      <th>995</th>\n",
              "      <td>negative</td>\n",
              "      <td>There are many different versions of this one ...</td>\n",
              "      <td>True</td>\n",
              "    </tr>\n",
              "    <tr>\n",
              "      <th>996</th>\n",
              "      <td>positive</td>\n",
              "      <td>Once upon a time Hollywood produced live-actio...</td>\n",
              "      <td>True</td>\n",
              "    </tr>\n",
              "    <tr>\n",
              "      <th>997</th>\n",
              "      <td>negative</td>\n",
              "      <td>Wenders was great with Million $ Hotel.I don't...</td>\n",
              "      <td>True</td>\n",
              "    </tr>\n",
              "    <tr>\n",
              "      <th>998</th>\n",
              "      <td>negative</td>\n",
              "      <td>Although a film with Bruce Willis is always wo...</td>\n",
              "      <td>True</td>\n",
              "    </tr>\n",
              "    <tr>\n",
              "      <th>999</th>\n",
              "      <td>positive</td>\n",
              "      <td>A compelling, honest, daring, and unforgettabl...</td>\n",
              "      <td>True</td>\n",
              "    </tr>\n",
              "  </tbody>\n",
              "</table>\n",
              "<p>1000 rows × 3 columns</p>\n",
              "</div>"
            ],
            "text/plain": [
              "        label                                               text  is_valid\n",
              "0    negative  Un-bleeping-believable! Meg Ryan doesn't even ...     False\n",
              "1    positive  This is a extremely well-made film. The acting...     False\n",
              "2    negative  Every once in a long while a movie will come a...     False\n",
              "3    positive  Name just says it all. I watched this movie wi...     False\n",
              "4    negative  This movie succeeds at being one of the most u...     False\n",
              "..        ...                                                ...       ...\n",
              "995  negative  There are many different versions of this one ...      True\n",
              "996  positive  Once upon a time Hollywood produced live-actio...      True\n",
              "997  negative  Wenders was great with Million $ Hotel.I don't...      True\n",
              "998  negative  Although a film with Bruce Willis is always wo...      True\n",
              "999  positive  A compelling, honest, daring, and unforgettabl...      True\n",
              "\n",
              "[1000 rows x 3 columns]"
            ]
          },
          "metadata": {},
          "execution_count": 6
        }
      ]
    },
    {
      "cell_type": "markdown",
      "metadata": {
        "id": "zFMhQl654otz"
      },
      "source": [
        "Para construir nuestra matriz de terminos y documentos utilizademos la clase CountVectorizer de sklearn."
      ]
    },
    {
      "cell_type": "code",
      "metadata": {
        "id": "mkDlj_BPVTxm"
      },
      "source": [
        "count_vectorizer = sklearn.feature_extraction.text.CountVectorizer(stop_words=\"english\")\n",
        "term_doc_matrix_train = count_vectorizer.fit_transform(imdb[imdb.is_valid == False].text)"
      ],
      "execution_count": 7,
      "outputs": []
    },
    {
      "cell_type": "markdown",
      "metadata": {
        "id": "ozkADeQ342sX"
      },
      "source": [
        "Nuestra matriz de términos y documentos tiene la forma (documentos,términos)"
      ]
    },
    {
      "cell_type": "code",
      "metadata": {
        "id": "J2m6WMydah5-",
        "colab": {
          "base_uri": "https://localhost:8080/"
        },
        "outputId": "740991bb-dd2d-44c6-bff4-503efa26d4be"
      },
      "source": [
        "term_doc_matrix_train"
      ],
      "execution_count": 8,
      "outputs": [
        {
          "output_type": "execute_result",
          "data": {
            "text/plain": [
              "<800x16163 sparse matrix of type '<class 'numpy.int64'>'\n",
              "\twith 74815 stored elements in Compressed Sparse Row format>"
            ]
          },
          "metadata": {},
          "execution_count": 8
        }
      ]
    },
    {
      "cell_type": "markdown",
      "metadata": {
        "id": "U6cIEgnx5D2Y"
      },
      "source": [
        "Calculamos la cantidad de apariciones de cada una de las palabras en cada una de las clases, junto con la cantidad de apariciones de cada clase."
      ]
    },
    {
      "cell_type": "code",
      "metadata": {
        "id": "3HNlpcwnYq0q"
      },
      "source": [
        "c_w_negative = np.asarray(term_doc_matrix_train.todense()[imdb[imdb.is_valid == False].label == \"negative\",:].sum(0)).reshape(-1) # apariciones de cada una de las palabras en la clase negativa\n",
        "c_w_positive = np.asarray(term_doc_matrix_train.todense()[imdb[imdb.is_valid == False].label == \"positive\",:].sum(0)).reshape(-1)\n",
        "c_negative = (imdb[imdb.is_valid == False].label == \"negative\").sum() # apariciones de la clase negativa\n",
        "c_positive = (imdb[imdb.is_valid == False].label == \"positive\").sum()"
      ],
      "execution_count": 9,
      "outputs": []
    },
    {
      "cell_type": "markdown",
      "metadata": {
        "id": "FKtEe64I5tzq"
      },
      "source": [
        "## Actividad 2: Palabras más comunes por clase\n",
        "\n",
        "Dados los arreglos que contienen la cantidad de apariciones de cada palabra en cada clase, imprima las 3 palabras más comunes para cada clase."
      ]
    },
    {
      "cell_type": "code",
      "metadata": {
        "id": "HouPctDr5Xt1"
      },
      "source": [
        "# HINT: El método sklearn.feature_extraction.text.CountVectorizer.get_feature_names() contiene el vocabulario de la matriz de términos y documentos.\n",
        "# Programa\n",
        "#\n",
        "#\n",
        "#"
      ],
      "execution_count": 10,
      "outputs": []
    },
    {
      "cell_type": "markdown",
      "metadata": {
        "id": "W_sInCqV6aNL"
      },
      "source": [
        "## Actividad 3: Ratio positivo - negativo\n",
        "\n",
        "Calcule el ratio positivo negativo en esta base de datos, y muestre cuales son las 3 palabras más probables en cada clase."
      ]
    },
    {
      "cell_type": "code",
      "metadata": {
        "id": "Qu10qRxZxiyH"
      },
      "source": [
        "p_w_negative = (c_w_negative + 1) / c_negative # Probabilidad asociada a cada palabra en la clase negativa\n",
        "p_w_positive = (c_w_positive + 1) / c_positive "
      ],
      "execution_count": 11,
      "outputs": []
    },
    {
      "cell_type": "code",
      "metadata": {
        "id": "6CfdxWdbfED9"
      },
      "source": [
        "# Programa\n",
        "#\n",
        "#\n",
        "#"
      ],
      "execution_count": 12,
      "outputs": []
    },
    {
      "cell_type": "markdown",
      "metadata": {
        "id": "H34eASrZ61Vz"
      },
      "source": [
        "## Actividad 4: Clasificador\n",
        "\n",
        "Ahora calcule el log ratio de cada documento. Si asumimos que > 0 es opinión positiva, ¿cuál es el accuracy de la clasificación?"
      ]
    },
    {
      "cell_type": "code",
      "metadata": {
        "id": "0nLjuXOc68Tn"
      },
      "source": [
        "# Programa\n",
        "#\n",
        "#\n",
        "#"
      ],
      "execution_count": 13,
      "outputs": []
    },
    {
      "cell_type": "markdown",
      "metadata": {
        "id": "zmCv7Qu5vhPb"
      },
      "source": [
        "## Actividad 5: Bigramas\n",
        "\n",
        "Genere un nuevo clasificador, esta vez agregando bigramas al vocabulario de la matriz de términos y documentos."
      ]
    },
    {
      "cell_type": "code",
      "metadata": {
        "id": "52BUv28Ovq00"
      },
      "source": [
        "# Programa\n",
        "#\n",
        "#\n",
        "#"
      ],
      "execution_count": 14,
      "outputs": []
    }
  ]
}