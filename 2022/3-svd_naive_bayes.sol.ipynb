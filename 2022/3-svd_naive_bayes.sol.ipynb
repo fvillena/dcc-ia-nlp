{
  "nbformat": 4,
  "nbformat_minor": 0,
  "metadata": {
    "colab": {
      "name": "3-svd_naive_bayes.sol.ipynb",
      "provenance": [],
      "authorship_tag": "ABX9TyO+oe/+pp4x+XojQjiJMk2q",
      "include_colab_link": true
    },
    "kernelspec": {
      "name": "python3",
      "display_name": "Python 3"
    }
  },
  "cells": [
    {
      "cell_type": "markdown",
      "metadata": {
        "id": "view-in-github",
        "colab_type": "text"
      },
      "source": [
        "<a href=\"https://colab.research.google.com/github/fvillena/dcc-ia-nlp/blob/master/3-svd_naive_bayes.sol.ipynb\" target=\"_parent\"><img src=\"https://colab.research.google.com/assets/colab-badge.svg\" alt=\"Open In Colab\"/></a>"
      ]
    },
    {
      "cell_type": "markdown",
      "metadata": {
        "id": "YPLHoW2f3FXb"
      },
      "source": [
        "## SVD y Naïve Bayes"
      ]
    },
    {
      "cell_type": "markdown",
      "metadata": {
        "id": "AEGhIFxg3JPf"
      },
      "source": [
        "Preparamos el ambiente"
      ]
    },
    {
      "cell_type": "code",
      "metadata": {
        "id": "SIIlVDiMU5ir",
        "colab": {
          "base_uri": "https://localhost:8080/"
        },
        "outputId": "fad5b721-0d05-492a-e202-5c415f0ca648"
      },
      "source": [
        "!wget https://files.fast.ai/data/examples/imdb_sample.tgz\n",
        "!tar -xvf imdb_sample.tgz"
      ],
      "execution_count": 1,
      "outputs": [
        {
          "output_type": "stream",
          "name": "stdout",
          "text": [
            "--2021-11-22 00:08:12--  https://files.fast.ai/data/examples/imdb_sample.tgz\n",
            "Resolving files.fast.ai (files.fast.ai)... 104.26.2.19, 172.67.69.159, 104.26.3.19, ...\n",
            "Connecting to files.fast.ai (files.fast.ai)|104.26.2.19|:443... connected.\n",
            "HTTP request sent, awaiting response... 200 OK\n",
            "Length: 571827 (558K) [application/x-gtar-compressed]\n",
            "Saving to: ‘imdb_sample.tgz.1’\n",
            "\n",
            "imdb_sample.tgz.1   100%[===================>] 558.42K  --.-KB/s    in 0.1s    \n",
            "\n",
            "2021-11-22 00:08:12 (3.81 MB/s) - ‘imdb_sample.tgz.1’ saved [571827/571827]\n",
            "\n",
            "imdb_sample/\n",
            "imdb_sample/texts.csv\n"
          ]
        }
      ]
    },
    {
      "cell_type": "code",
      "metadata": {
        "id": "migNakfPVFL5"
      },
      "source": [
        "import pandas as pd\n",
        "import sklearn.datasets\n",
        "import sklearn.feature_extraction\n",
        "import sklearn.decomposition\n",
        "import numpy as np"
      ],
      "execution_count": 2,
      "outputs": []
    },
    {
      "cell_type": "code",
      "metadata": {
        "id": "zptCLItUt0ey"
      },
      "source": [
        "remove = ('headers', 'footers', 'quotes')\n",
        "categories = ['alt.atheism', 'talk.religion.misc', 'comp.graphics', 'sci.space']\n",
        "newsgroups = sklearn.datasets.fetch_20newsgroups(remove=remove,categories=categories)\n",
        "tfidf_vectorizer = sklearn.feature_extraction.text.TfidfVectorizer(stop_words=\"english\",min_df=0.005)\n",
        "x = tfidf_vectorizer.fit_transform(newsgroups.data)"
      ],
      "execution_count": 3,
      "outputs": []
    },
    {
      "cell_type": "markdown",
      "metadata": {
        "id": "Csrun08vihnX"
      },
      "source": [
        "## Actividad 1: SVD\n",
        "Desde la matriz de tf-idf calculada anteriormente sobre newsgroups realice una descomposición mediante SVD.\n",
        "\n",
        "1.   Verifique que las matrices U y V calculadas con SVD son ortonormales\n",
        "2.   Verifique hasta que vector los temas identificados en SVD hacen “sentido” para los 4 temas seleccionados.\n",
        "3.   ¿Cuántos temas potencialmente se pueden inferir con SVD?"
      ]
    },
    {
      "cell_type": "code",
      "metadata": {
        "id": "BdnuFYzRihSt",
        "colab": {
          "base_uri": "https://localhost:8080/"
        },
        "outputId": "ccc7f20b-6f7a-4ebc-afed-2c4567fc2551"
      },
      "source": [
        "## HINT: Estas lineas de código pueden serle útiles para resolver la actividad\n",
        "import numpy as np\n",
        "vocab = tfidf_vectorizer.get_feature_names()\n",
        "def show_topics(a):\n",
        "  num_top_words=8\n",
        "  top_words_values = lambda t: [f\"{vocab[i]}({str(round(v,3))})\" for i,v in zip(np.argsort(t)[:-num_top_words-1:-1],np.sort(t)[:-num_top_words-1:-1])]\n",
        "  topic_words_values = ([top_words_values(t) for t in a])\n",
        "  return [' '.join(t) for t in topic_words_values]"
      ],
      "execution_count": 4,
      "outputs": [
        {
          "output_type": "stream",
          "name": "stderr",
          "text": [
            "/usr/local/lib/python3.7/dist-packages/sklearn/utils/deprecation.py:87: FutureWarning: Function get_feature_names is deprecated; get_feature_names is deprecated in 1.0 and will be removed in 1.2. Please use get_feature_names_out instead.\n",
            "  warnings.warn(msg, category=FutureWarning)\n"
          ]
        }
      ]
    },
    {
      "cell_type": "code",
      "metadata": {
        "id": "kHVpR_D89dIv"
      },
      "source": [
        "#SVD\n",
        "U, s, Vh = np.linalg.svd(x.toarray(), full_matrices=False)"
      ],
      "execution_count": 5,
      "outputs": []
    },
    {
      "cell_type": "code",
      "metadata": {
        "colab": {
          "base_uri": "https://localhost:8080/"
        },
        "id": "wDgxzKDi9i8P",
        "outputId": "229e349c-1905-4a2c-f193-d6233b404a35"
      },
      "source": [
        "product_u = U.dot(U.T)\n",
        "np.fill_diagonal(product_u,0)\n",
        "np.allclose(product_u, 0, atol=1e-08, equal_nan=False)"
      ],
      "execution_count": 6,
      "outputs": [
        {
          "output_type": "execute_result",
          "data": {
            "text/plain": [
              "True"
            ]
          },
          "metadata": {},
          "execution_count": 6
        }
      ]
    },
    {
      "cell_type": "code",
      "metadata": {
        "colab": {
          "base_uri": "https://localhost:8080/"
        },
        "id": "2G_hJoA59j_r",
        "outputId": "047e628f-e224-48ed-af7a-bfcf78e5c2ca"
      },
      "source": [
        "product_v = Vh.dot(Vh.T)\n",
        "np.fill_diagonal(product_v,0)\n",
        "np.allclose(product_v, 0, atol=1e-08, equal_nan=False)"
      ],
      "execution_count": 7,
      "outputs": [
        {
          "output_type": "execute_result",
          "data": {
            "text/plain": [
              "True"
            ]
          },
          "metadata": {},
          "execution_count": 7
        }
      ]
    },
    {
      "cell_type": "code",
      "metadata": {
        "colab": {
          "base_uri": "https://localhost:8080/"
        },
        "id": "RKfRziJi9nxU",
        "outputId": "1c56c013-55db-47cb-9925-f07c5c7b0219"
      },
      "source": [
        "np.allclose(np.sum(np.abs(U)**2,axis=-1)**(1./2), 1, atol=1e-08, equal_nan=False)"
      ],
      "execution_count": 8,
      "outputs": [
        {
          "output_type": "execute_result",
          "data": {
            "text/plain": [
              "True"
            ]
          },
          "metadata": {},
          "execution_count": 8
        }
      ]
    },
    {
      "cell_type": "code",
      "metadata": {
        "colab": {
          "base_uri": "https://localhost:8080/"
        },
        "id": "DeGfJEpY9qis",
        "outputId": "3b10995f-9251-4818-feec-8a70206a0879"
      },
      "source": [
        "np.allclose(np.sum(np.abs(Vh)**2,axis=-1)**(1./2), 1, atol=1e-08, equal_nan=False)"
      ],
      "execution_count": 9,
      "outputs": [
        {
          "output_type": "execute_result",
          "data": {
            "text/plain": [
              "True"
            ]
          },
          "metadata": {},
          "execution_count": 9
        }
      ]
    },
    {
      "cell_type": "code",
      "metadata": {
        "colab": {
          "base_uri": "https://localhost:8080/"
        },
        "id": "ohurfsSV9s2K",
        "outputId": "54cccf6e-1b64-48c2-e56b-c79dd0cd70e3"
      },
      "source": [
        "# palabras y valores asociados a los tópicos\n",
        "show_topics(Vh)[:10]"
      ],
      "execution_count": 10,
      "outputs": [
        {
          "output_type": "execute_result",
          "data": {
            "text/plain": [
              "['contributed(-0.002) extensive(-0.002) union(-0.002) 85(-0.002) aeronautics(-0.002) overall(-0.002) concluded(-0.002) 43(-0.002)',\n",
              " 'god(0.357) jesus(0.168) people(0.135) bible(0.124) believe(0.099) christian(0.096) say(0.093) religion(0.08)',\n",
              " 'thanks(0.246) graphics(0.172) files(0.151) god(0.13) file(0.128) image(0.114) does(0.113) windows(0.112)',\n",
              " 'god(0.582) space(0.234) jesus(0.207) bible(0.119) edu(0.117) nasa(0.087) satan(0.085) christ(0.074)',\n",
              " 'jesus(0.063) does(0.059) bible(0.048) objective(0.045) christian(0.043) morality(0.037) think(0.035) moral(0.032)',\n",
              " 'image(0.237) graphics(0.176) file(0.139) data(0.12) use(0.104) images(0.091) software(0.087) computer(0.083)',\n",
              " 'jesus(0.186) just(0.145) koresh(0.117) thanks(0.1) graphics(0.092) don(0.082) like(0.076) bible(0.076)',\n",
              " 'files(0.308) file(0.207) format(0.163) cview(0.133) program(0.117) image(0.117) know(0.107) tiff(0.104)',\n",
              " 'mode(0.143) card(0.125) lunar(0.113) moon(0.109) software(0.109) orbit(0.102) need(0.093) time(0.093)',\n",
              " 'jesus(0.233) kent(0.172) cheers(0.166) christian(0.134) religion(0.13) people(0.109) islam(0.107) law(0.106)']"
            ]
          },
          "metadata": {},
          "execution_count": 10
        }
      ]
    },
    {
      "cell_type": "code",
      "metadata": {
        "colab": {
          "base_uri": "https://localhost:8080/"
        },
        "id": "XIG3eGT39wYg",
        "outputId": "8ad5a014-2060-4a02-9dbb-43ce1a5c18a6"
      },
      "source": [
        "print(newsgroups.data[30])"
      ],
      "execution_count": 11,
      "outputs": [
        {
          "output_type": "stream",
          "name": "stdout",
          "text": [
            "\n",
            "  Actually, my atheism is based on ignorance.  Ignorance of the\n",
            "  existence of any god.  Don't fall into the \"atheists don't believe\n",
            "  because of their pride\" mistake.\n",
            "\n",
            "\n",
            "/\\/\\/\\/\\/\\/\\/\\/\\/\\/\\/\\/\\/\\/\\/\\/\\/\\/\\/\\/\\/\\/\\/\\/\\/\\/\\/\\/\\/\\/\\/\\/\\/\\/\\ \n",
            "\n",
            "Bob Beauchaine bobbe@vice.ICO.TEK.COM \n",
            "\n",
            "They said that Queens could stay, they blew the Bronx away,\n",
            "and sank Manhattan out at sea.\n"
          ]
        }
      ]
    },
    {
      "cell_type": "code",
      "metadata": {
        "colab": {
          "base_uri": "https://localhost:8080/"
        },
        "id": "GA-eEQ1_9y9q",
        "outputId": "7bf2b83d-ab4c-4f56-f893-37137674e018"
      },
      "source": [
        "U[30,:]"
      ],
      "execution_count": 12,
      "outputs": [
        {
          "output_type": "execute_result",
          "data": {
            "text/plain": [
              "array([-2.19457759e-02,  3.34805569e-02,  7.31009657e-03, ...,\n",
              "       -5.34386730e-19,  0.00000000e+00,  1.25386537e-16])"
            ]
          },
          "metadata": {},
          "execution_count": 12
        }
      ]
    },
    {
      "cell_type": "code",
      "metadata": {
        "colab": {
          "base_uri": "https://localhost:8080/"
        },
        "id": "CWaqsE8Q91Pc",
        "outputId": "a7e53fc1-b966-4758-a5d6-4a69b15ab499"
      },
      "source": [
        "np.argsort(U[30,:])"
      ],
      "execution_count": 13,
      "outputs": [
        {
          "output_type": "execute_result",
          "data": {
            "text/plain": [
              "array([   4, 1919, 1920, ..., 1915, 1951, 1929])"
            ]
          },
          "metadata": {},
          "execution_count": 13
        }
      ]
    },
    {
      "cell_type": "code",
      "metadata": {
        "colab": {
          "base_uri": "https://localhost:8080/",
          "height": 35
        },
        "id": "OUhQCV-j94bX",
        "outputId": "03abc246-ae35-4e35-a71e-90c9c37797af"
      },
      "source": [
        "show_topics(Vh)[4]"
      ],
      "execution_count": 14,
      "outputs": [
        {
          "output_type": "execute_result",
          "data": {
            "application/vnd.google.colaboratory.intrinsic+json": {
              "type": "string"
            },
            "text/plain": [
              "'jesus(0.063) does(0.059) bible(0.048) objective(0.045) christian(0.043) morality(0.037) think(0.035) moral(0.032)'"
            ]
          },
          "metadata": {},
          "execution_count": 14
        }
      ]
    },
    {
      "cell_type": "markdown",
      "metadata": {
        "id": "X-8nh26x3M5u"
      },
      "source": [
        "Para este paso práctico utilizaremos el conjunto de datos de imbd en donde tenemos una serie de documentos etiquetados con la polaridad (negativo o positivo) asociada."
      ]
    },
    {
      "cell_type": "code",
      "metadata": {
        "id": "46O65JHiVLID"
      },
      "source": [
        "imdb = pd.read_csv(\"imdb_sample/texts.csv\")"
      ],
      "execution_count": 15,
      "outputs": []
    },
    {
      "cell_type": "code",
      "metadata": {
        "id": "fz5vLm4BVTIC",
        "colab": {
          "base_uri": "https://localhost:8080/",
          "height": 419
        },
        "outputId": "14a7fdb7-5f6c-457d-c8f0-c6185475cba6"
      },
      "source": [
        "imdb"
      ],
      "execution_count": 16,
      "outputs": [
        {
          "output_type": "execute_result",
          "data": {
            "text/html": [
              "<div>\n",
              "<style scoped>\n",
              "    .dataframe tbody tr th:only-of-type {\n",
              "        vertical-align: middle;\n",
              "    }\n",
              "\n",
              "    .dataframe tbody tr th {\n",
              "        vertical-align: top;\n",
              "    }\n",
              "\n",
              "    .dataframe thead th {\n",
              "        text-align: right;\n",
              "    }\n",
              "</style>\n",
              "<table border=\"1\" class=\"dataframe\">\n",
              "  <thead>\n",
              "    <tr style=\"text-align: right;\">\n",
              "      <th></th>\n",
              "      <th>label</th>\n",
              "      <th>text</th>\n",
              "      <th>is_valid</th>\n",
              "    </tr>\n",
              "  </thead>\n",
              "  <tbody>\n",
              "    <tr>\n",
              "      <th>0</th>\n",
              "      <td>negative</td>\n",
              "      <td>Un-bleeping-believable! Meg Ryan doesn't even ...</td>\n",
              "      <td>False</td>\n",
              "    </tr>\n",
              "    <tr>\n",
              "      <th>1</th>\n",
              "      <td>positive</td>\n",
              "      <td>This is a extremely well-made film. The acting...</td>\n",
              "      <td>False</td>\n",
              "    </tr>\n",
              "    <tr>\n",
              "      <th>2</th>\n",
              "      <td>negative</td>\n",
              "      <td>Every once in a long while a movie will come a...</td>\n",
              "      <td>False</td>\n",
              "    </tr>\n",
              "    <tr>\n",
              "      <th>3</th>\n",
              "      <td>positive</td>\n",
              "      <td>Name just says it all. I watched this movie wi...</td>\n",
              "      <td>False</td>\n",
              "    </tr>\n",
              "    <tr>\n",
              "      <th>4</th>\n",
              "      <td>negative</td>\n",
              "      <td>This movie succeeds at being one of the most u...</td>\n",
              "      <td>False</td>\n",
              "    </tr>\n",
              "    <tr>\n",
              "      <th>...</th>\n",
              "      <td>...</td>\n",
              "      <td>...</td>\n",
              "      <td>...</td>\n",
              "    </tr>\n",
              "    <tr>\n",
              "      <th>995</th>\n",
              "      <td>negative</td>\n",
              "      <td>There are many different versions of this one ...</td>\n",
              "      <td>True</td>\n",
              "    </tr>\n",
              "    <tr>\n",
              "      <th>996</th>\n",
              "      <td>positive</td>\n",
              "      <td>Once upon a time Hollywood produced live-actio...</td>\n",
              "      <td>True</td>\n",
              "    </tr>\n",
              "    <tr>\n",
              "      <th>997</th>\n",
              "      <td>negative</td>\n",
              "      <td>Wenders was great with Million $ Hotel.I don't...</td>\n",
              "      <td>True</td>\n",
              "    </tr>\n",
              "    <tr>\n",
              "      <th>998</th>\n",
              "      <td>negative</td>\n",
              "      <td>Although a film with Bruce Willis is always wo...</td>\n",
              "      <td>True</td>\n",
              "    </tr>\n",
              "    <tr>\n",
              "      <th>999</th>\n",
              "      <td>positive</td>\n",
              "      <td>A compelling, honest, daring, and unforgettabl...</td>\n",
              "      <td>True</td>\n",
              "    </tr>\n",
              "  </tbody>\n",
              "</table>\n",
              "<p>1000 rows × 3 columns</p>\n",
              "</div>"
            ],
            "text/plain": [
              "        label                                               text  is_valid\n",
              "0    negative  Un-bleeping-believable! Meg Ryan doesn't even ...     False\n",
              "1    positive  This is a extremely well-made film. The acting...     False\n",
              "2    negative  Every once in a long while a movie will come a...     False\n",
              "3    positive  Name just says it all. I watched this movie wi...     False\n",
              "4    negative  This movie succeeds at being one of the most u...     False\n",
              "..        ...                                                ...       ...\n",
              "995  negative  There are many different versions of this one ...      True\n",
              "996  positive  Once upon a time Hollywood produced live-actio...      True\n",
              "997  negative  Wenders was great with Million $ Hotel.I don't...      True\n",
              "998  negative  Although a film with Bruce Willis is always wo...      True\n",
              "999  positive  A compelling, honest, daring, and unforgettabl...      True\n",
              "\n",
              "[1000 rows x 3 columns]"
            ]
          },
          "metadata": {},
          "execution_count": 16
        }
      ]
    },
    {
      "cell_type": "markdown",
      "metadata": {
        "id": "zFMhQl654otz"
      },
      "source": [
        "Para construir nuestra matriz de terminos y documentos utilizademos la clase CountVectorizer de sklearn."
      ]
    },
    {
      "cell_type": "code",
      "metadata": {
        "id": "mkDlj_BPVTxm"
      },
      "source": [
        "count_vectorizer = sklearn.feature_extraction.text.CountVectorizer(stop_words=\"english\")\n",
        "term_doc_matrix_train = count_vectorizer.fit_transform(imdb[imdb.is_valid == False].text)"
      ],
      "execution_count": 17,
      "outputs": []
    },
    {
      "cell_type": "markdown",
      "metadata": {
        "id": "ozkADeQ342sX"
      },
      "source": [
        "Nuestra matriz de términos y documentos tiene la forma (documentos,términos)"
      ]
    },
    {
      "cell_type": "code",
      "metadata": {
        "id": "J2m6WMydah5-",
        "colab": {
          "base_uri": "https://localhost:8080/"
        },
        "outputId": "30d98813-a977-4056-e812-a8ce5b7a6898"
      },
      "source": [
        "term_doc_matrix_train"
      ],
      "execution_count": 18,
      "outputs": [
        {
          "output_type": "execute_result",
          "data": {
            "text/plain": [
              "<800x16163 sparse matrix of type '<class 'numpy.int64'>'\n",
              "\twith 74815 stored elements in Compressed Sparse Row format>"
            ]
          },
          "metadata": {},
          "execution_count": 18
        }
      ]
    },
    {
      "cell_type": "markdown",
      "metadata": {
        "id": "U6cIEgnx5D2Y"
      },
      "source": [
        "Calculamos la cantidad de apariciones de cada una de las palabras en cada una de las clases, junto con la cantidad de apariciones de cada clase."
      ]
    },
    {
      "cell_type": "code",
      "metadata": {
        "id": "3HNlpcwnYq0q"
      },
      "source": [
        "c_w_negative = np.asarray(term_doc_matrix_train.todense()[imdb[imdb.is_valid == False].label == \"negative\",:].sum(0)).reshape(-1) # apariciones de cada una de las palabras en la clase negativa\n",
        "c_w_positive = np.asarray(term_doc_matrix_train.todense()[imdb[imdb.is_valid == False].label == \"positive\",:].sum(0)).reshape(-1)\n",
        "c_negative = (imdb[imdb.is_valid == False].label == \"negative\").sum() # apariciones de la clase negativa\n",
        "c_positive = (imdb[imdb.is_valid == False].label == \"positive\").sum()"
      ],
      "execution_count": 19,
      "outputs": []
    },
    {
      "cell_type": "markdown",
      "metadata": {
        "id": "FKtEe64I5tzq"
      },
      "source": [
        "## Actividad 2: Palabras más comunes por clase\n",
        "\n",
        "Dados los arreglos que contienen la cantidad de apariciones de cada palabra en cada clase, imprima las 3 palabras más comunes para cada clase."
      ]
    },
    {
      "cell_type": "code",
      "metadata": {
        "id": "HouPctDr5Xt1",
        "colab": {
          "base_uri": "https://localhost:8080/"
        },
        "outputId": "f551c2df-d842-447f-f518-17707f7b9a91"
      },
      "source": [
        "vocab = count_vectorizer.get_feature_names()\n",
        "print(np.array(vocab)[np.argsort(c_w_negative)][-3:])\n",
        "print(np.array(vocab)[np.argsort(c_w_positive)][-3:])"
      ],
      "execution_count": 20,
      "outputs": [
        {
          "output_type": "stream",
          "name": "stdout",
          "text": [
            "['film' 'movie' 'br']\n",
            "['movie' 'film' 'br']\n"
          ]
        },
        {
          "output_type": "stream",
          "name": "stderr",
          "text": [
            "/usr/local/lib/python3.7/dist-packages/sklearn/utils/deprecation.py:87: FutureWarning: Function get_feature_names is deprecated; get_feature_names is deprecated in 1.0 and will be removed in 1.2. Please use get_feature_names_out instead.\n",
            "  warnings.warn(msg, category=FutureWarning)\n"
          ]
        }
      ]
    },
    {
      "cell_type": "markdown",
      "metadata": {
        "id": "W_sInCqV6aNL"
      },
      "source": [
        "## Actividad 3: Ratio positivo - negativo\n",
        "\n",
        "Calcule el ratio positivo negativo en esta base de datos, y muestre cuales son las 3 palabras más probables en cada clase."
      ]
    },
    {
      "cell_type": "code",
      "metadata": {
        "id": "Qu10qRxZxiyH"
      },
      "source": [
        "p_w_negative = (c_w_negative + 1) / c_negative # Probabilidad asociada a cada palabra en la clase negativa\n",
        "p_w_positive = (c_w_positive + 1) / c_positive "
      ],
      "execution_count": 21,
      "outputs": []
    },
    {
      "cell_type": "code",
      "metadata": {
        "id": "6CfdxWdbfED9",
        "colab": {
          "base_uri": "https://localhost:8080/"
        },
        "outputId": "e9ab1683-012c-4c90-dc9d-cc4f6493db8b"
      },
      "source": [
        "# Programa\n",
        "r = np.log(p_w_positive / p_w_negative)\n",
        "print(np.array(vocab)[np.argsort(r)][:20])\n",
        "print(np.array(vocab)[np.argsort(r)][-20:])"
      ],
      "execution_count": 22,
      "outputs": [
        {
          "output_type": "stream",
          "name": "stdout",
          "text": [
            "['porn' 'vargas' 'crap' 'naschy' 'dog' 'crater' 'worst' 'disappointment'\n",
            " 'fuqua' 'soderbergh' 'scorsese' 'johnson' 'jackman' 'poorly' 'junior'\n",
            " 'rangers' 'lake' 'bey' 'bet' 'dinosaur']\n",
            "['steals' 'arnold' 'damon' '3d' 'hanzo' 'alfred' 'cheech' 'howard' 'sport'\n",
            " 'paxton' 'gilliam' 'jabba' 'davies' 'han' 'felix' 'jimmy' 'noir'\n",
            " 'astaire' 'fanfan' 'biko']\n"
          ]
        }
      ]
    },
    {
      "cell_type": "markdown",
      "metadata": {
        "id": "H34eASrZ61Vz"
      },
      "source": [
        "## Actividad 4: Clasificador\n",
        "\n",
        "Ahora calcule el log ratio de cada documento. Si asumimos que > 0 es opinión positiva, ¿cuál es el accuracy de la clasificación?"
      ]
    },
    {
      "cell_type": "code",
      "metadata": {
        "id": "0nLjuXOc68Tn",
        "colab": {
          "base_uri": "https://localhost:8080/"
        },
        "outputId": "0a890606-1a29-4061-cf5a-28ce779994e1"
      },
      "source": [
        "# Programa\n",
        "# term_doc_matrix_train.shape\n",
        "term_doc_matrix_test = count_vectorizer.transform(imdb[imdb.is_valid == True].text)\n",
        "test_pred = term_doc_matrix_test.dot(r) > 0\n",
        "test_label = np.where(imdb[imdb.is_valid == True].label == \"positive\", True, False)\n",
        "confusion_matrix = pd.crosstab(test_label,test_pred)\n",
        "print(np.array(confusion_matrix).diagonal().sum() / np.array(confusion_matrix).sum())"
      ],
      "execution_count": 23,
      "outputs": [
        {
          "output_type": "stream",
          "name": "stdout",
          "text": [
            "0.765\n"
          ]
        }
      ]
    },
    {
      "cell_type": "markdown",
      "metadata": {
        "id": "zmCv7Qu5vhPb"
      },
      "source": [
        "## Actividad 5: Bigramas\n",
        "\n",
        "Genere un nuevo clasificador, esta vez agregando bigramas al vocabulario de la matriz de términos y documentos."
      ]
    },
    {
      "cell_type": "code",
      "metadata": {
        "id": "52BUv28Ovq00",
        "colab": {
          "base_uri": "https://localhost:8080/"
        },
        "outputId": "a859eaaf-8bd9-490a-8a51-a8ecee5e70a2"
      },
      "source": [
        "# Programa\n",
        "count_vectorizer_bigrams = sklearn.feature_extraction.text.CountVectorizer(stop_words=\"english\",ngram_range=(1,2))\n",
        "term_doc_matrix_train_bigrams = count_vectorizer_bigrams.fit_transform(imdb[imdb.is_valid == False].text)\n",
        "c_w_negative_bigrams = np.asarray(term_doc_matrix_train_bigrams.todense()[imdb[imdb.is_valid == False].label == \"negative\",:].sum(0)).reshape(-1) # apariciones de cada una de las palabras en la clase negativa\n",
        "c_w_positive_bigrams = np.asarray(term_doc_matrix_train_bigrams.todense()[imdb[imdb.is_valid == False].label == \"positive\",:].sum(0)).reshape(-1)\n",
        "p_w_negative_bigrams = (c_w_negative_bigrams + 1) / c_negative # Probabilidad asociada a cada palabra en la clase negativa\n",
        "p_w_positive_bigrams = (c_w_positive_bigrams + 1) / c_positive \n",
        "r_bigrams = np.log(p_w_positive_bigrams / p_w_negative_bigrams)\n",
        "term_doc_matrix_test_bigrams = count_vectorizer_bigrams.transform(imdb[imdb.is_valid == True].text)\n",
        "test_pred_bigrams = term_doc_matrix_test_bigrams.dot(r_bigrams) > 0\n",
        "confusion_matrix_bigrams = pd.crosstab(test_label,test_pred_bigrams)\n",
        "print(np.array(confusion_matrix_bigrams).diagonal().sum() / np.array(confusion_matrix_bigrams).sum())"
      ],
      "execution_count": 24,
      "outputs": [
        {
          "output_type": "stream",
          "name": "stdout",
          "text": [
            "0.77\n"
          ]
        }
      ]
    },
    {
      "cell_type": "code",
      "metadata": {
        "id": "G4EzBIzp-G0f"
      },
      "source": [
        ""
      ],
      "execution_count": 24,
      "outputs": []
    }
  ]
}