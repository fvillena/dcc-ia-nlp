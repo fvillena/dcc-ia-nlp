{
  "nbformat": 4,
  "nbformat_minor": 0,
  "metadata": {
    "colab": {
      "provenance": [],
      "collapsed_sections": [],
      "include_colab_link": true
    },
    "kernelspec": {
      "name": "python3",
      "display_name": "Python 3"
    }
  },
  "cells": [
    {
      "cell_type": "markdown",
      "metadata": {
        "id": "view-in-github",
        "colab_type": "text"
      },
      "source": [
        "<a href=\"https://colab.research.google.com/github/fvillena/dcc-ia-nlp/blob/master/2-normalization_and_vector_semantics.ipynb\" target=\"_parent\"><img src=\"https://colab.research.google.com/assets/colab-badge.svg\" alt=\"Open In Colab\"/></a>"
      ]
    },
    {
      "cell_type": "markdown",
      "metadata": {
        "id": "d2Ps5aDf61bl"
      },
      "source": [
        "# Stopwords, lematización, stemming, wordclouds y TF-IDF"
      ]
    },
    {
      "cell_type": "markdown",
      "metadata": {
        "id": "FtSiV0FP7FtQ"
      },
      "source": [
        "Preparamos el ambiente de desarrollo"
      ]
    },
    {
      "cell_type": "code",
      "metadata": {
        "id": "x1cpLRndxe8Y"
      },
      "source": [
        "import spacy\n",
        "import nltk\n",
        "import sklearn\n",
        "import wordcloud\n",
        "import matplotlib.pyplot as plt\n",
        "import pandas as pd"
      ],
      "execution_count": 1,
      "outputs": []
    },
    {
      "cell_type": "code",
      "source": [
        "nltk.download('omw-1.4')"
      ],
      "metadata": {
        "colab": {
          "base_uri": "https://localhost:8080/"
        },
        "id": "BIAc6tmhPPUW",
        "outputId": "24776e1f-2b17-43ea-8654-ad1c2e6e581b"
      },
      "execution_count": 2,
      "outputs": [
        {
          "output_type": "stream",
          "name": "stderr",
          "text": [
            "[nltk_data] Downloading package omw-1.4 to /root/nltk_data...\n",
            "[nltk_data]   Package omw-1.4 is already up-to-date!\n"
          ]
        },
        {
          "output_type": "execute_result",
          "data": {
            "text/plain": [
              "True"
            ]
          },
          "metadata": {},
          "execution_count": 2
        }
      ]
    },
    {
      "cell_type": "code",
      "metadata": {
        "id": "aVj7m1JM-qCU",
        "colab": {
          "base_uri": "https://localhost:8080/"
        },
        "outputId": "447b35bc-1bcf-47e6-dec5-5ddf2afcf797"
      },
      "source": [
        "!wget https://raw.githubusercontent.com/fvillena/dcc-ia-nlp/master/data/aysen.csv"
      ],
      "execution_count": 3,
      "outputs": [
        {
          "output_type": "stream",
          "name": "stdout",
          "text": [
            "--2022-11-14 17:44:12--  https://raw.githubusercontent.com/fvillena/dcc-ia-nlp/master/data/aysen.csv\n",
            "Resolving raw.githubusercontent.com (raw.githubusercontent.com)... 185.199.109.133, 185.199.108.133, 185.199.111.133, ...\n",
            "Connecting to raw.githubusercontent.com (raw.githubusercontent.com)|185.199.109.133|:443... connected.\n",
            "HTTP request sent, awaiting response... 200 OK\n",
            "Length: 29482924 (28M) [text/plain]\n",
            "Saving to: ‘aysen.csv.1’\n",
            "\n",
            "\raysen.csv.1           0%[                    ]       0  --.-KB/s               \raysen.csv.1         100%[===================>]  28.12M   187MB/s    in 0.2s    \n",
            "\n",
            "2022-11-14 17:44:12 (187 MB/s) - ‘aysen.csv.1’ saved [29482924/29482924]\n",
            "\n"
          ]
        }
      ]
    },
    {
      "cell_type": "code",
      "metadata": {
        "id": "ia0H4DlbzCj5",
        "colab": {
          "base_uri": "https://localhost:8080/"
        },
        "outputId": "2a547eb3-0281-4de4-ad6d-28dba77d0cd7"
      },
      "source": [
        "nltk.download('stopwords')\n",
        "nltk.download('wordnet') "
      ],
      "execution_count": 4,
      "outputs": [
        {
          "output_type": "stream",
          "name": "stderr",
          "text": [
            "[nltk_data] Downloading package stopwords to /root/nltk_data...\n",
            "[nltk_data]   Package stopwords is already up-to-date!\n",
            "[nltk_data] Downloading package wordnet to /root/nltk_data...\n",
            "[nltk_data]   Package wordnet is already up-to-date!\n"
          ]
        },
        {
          "output_type": "execute_result",
          "data": {
            "text/plain": [
              "True"
            ]
          },
          "metadata": {},
          "execution_count": 4
        }
      ]
    },
    {
      "cell_type": "code",
      "metadata": {
        "id": "M3gs4OvKyjvN",
        "colab": {
          "base_uri": "https://localhost:8080/"
        },
        "outputId": "378b7c50-77c5-46c2-aefc-33ddb2b6f819"
      },
      "source": [
        "!python -m spacy download es_core_news_sm"
      ],
      "execution_count": 5,
      "outputs": [
        {
          "output_type": "stream",
          "name": "stdout",
          "text": [
            "2022-11-14 17:44:20.319902: E tensorflow/stream_executor/cuda/cuda_driver.cc:271] failed call to cuInit: CUDA_ERROR_NO_DEVICE: no CUDA-capable device is detected\n",
            "Looking in indexes: https://pypi.org/simple, https://us-python.pkg.dev/colab-wheels/public/simple/\n",
            "Collecting es-core-news-sm==3.4.0\n",
            "  Downloading https://github.com/explosion/spacy-models/releases/download/es_core_news_sm-3.4.0/es_core_news_sm-3.4.0-py3-none-any.whl (12.9 MB)\n",
            "\u001b[K     |████████████████████████████████| 12.9 MB 13.1 MB/s \n",
            "\u001b[?25hRequirement already satisfied: spacy<3.5.0,>=3.4.0 in /usr/local/lib/python3.7/dist-packages (from es-core-news-sm==3.4.0) (3.4.2)\n",
            "Requirement already satisfied: pathy>=0.3.5 in /usr/local/lib/python3.7/dist-packages (from spacy<3.5.0,>=3.4.0->es-core-news-sm==3.4.0) (0.6.2)\n",
            "Requirement already satisfied: preshed<3.1.0,>=3.0.2 in /usr/local/lib/python3.7/dist-packages (from spacy<3.5.0,>=3.4.0->es-core-news-sm==3.4.0) (3.0.8)\n",
            "Requirement already satisfied: pydantic!=1.8,!=1.8.1,<1.11.0,>=1.7.4 in /usr/local/lib/python3.7/dist-packages (from spacy<3.5.0,>=3.4.0->es-core-news-sm==3.4.0) (1.10.2)\n",
            "Requirement already satisfied: setuptools in /usr/local/lib/python3.7/dist-packages (from spacy<3.5.0,>=3.4.0->es-core-news-sm==3.4.0) (57.4.0)\n",
            "Requirement already satisfied: spacy-loggers<2.0.0,>=1.0.0 in /usr/local/lib/python3.7/dist-packages (from spacy<3.5.0,>=3.4.0->es-core-news-sm==3.4.0) (1.0.3)\n",
            "Requirement already satisfied: wasabi<1.1.0,>=0.9.1 in /usr/local/lib/python3.7/dist-packages (from spacy<3.5.0,>=3.4.0->es-core-news-sm==3.4.0) (0.10.1)\n",
            "Requirement already satisfied: typing-extensions<4.2.0,>=3.7.4 in /usr/local/lib/python3.7/dist-packages (from spacy<3.5.0,>=3.4.0->es-core-news-sm==3.4.0) (4.1.1)\n",
            "Requirement already satisfied: thinc<8.2.0,>=8.1.0 in /usr/local/lib/python3.7/dist-packages (from spacy<3.5.0,>=3.4.0->es-core-news-sm==3.4.0) (8.1.5)\n",
            "Requirement already satisfied: tqdm<5.0.0,>=4.38.0 in /usr/local/lib/python3.7/dist-packages (from spacy<3.5.0,>=3.4.0->es-core-news-sm==3.4.0) (4.64.1)\n",
            "Requirement already satisfied: numpy>=1.15.0 in /usr/local/lib/python3.7/dist-packages (from spacy<3.5.0,>=3.4.0->es-core-news-sm==3.4.0) (1.21.6)\n",
            "Requirement already satisfied: srsly<3.0.0,>=2.4.3 in /usr/local/lib/python3.7/dist-packages (from spacy<3.5.0,>=3.4.0->es-core-news-sm==3.4.0) (2.4.5)\n",
            "Requirement already satisfied: jinja2 in /usr/local/lib/python3.7/dist-packages (from spacy<3.5.0,>=3.4.0->es-core-news-sm==3.4.0) (2.11.3)\n",
            "Requirement already satisfied: murmurhash<1.1.0,>=0.28.0 in /usr/local/lib/python3.7/dist-packages (from spacy<3.5.0,>=3.4.0->es-core-news-sm==3.4.0) (1.0.9)\n",
            "Requirement already satisfied: packaging>=20.0 in /usr/local/lib/python3.7/dist-packages (from spacy<3.5.0,>=3.4.0->es-core-news-sm==3.4.0) (21.3)\n",
            "Requirement already satisfied: requests<3.0.0,>=2.13.0 in /usr/local/lib/python3.7/dist-packages (from spacy<3.5.0,>=3.4.0->es-core-news-sm==3.4.0) (2.23.0)\n",
            "Requirement already satisfied: typer<0.5.0,>=0.3.0 in /usr/local/lib/python3.7/dist-packages (from spacy<3.5.0,>=3.4.0->es-core-news-sm==3.4.0) (0.4.2)\n",
            "Requirement already satisfied: langcodes<4.0.0,>=3.2.0 in /usr/local/lib/python3.7/dist-packages (from spacy<3.5.0,>=3.4.0->es-core-news-sm==3.4.0) (3.3.0)\n",
            "Requirement already satisfied: spacy-legacy<3.1.0,>=3.0.10 in /usr/local/lib/python3.7/dist-packages (from spacy<3.5.0,>=3.4.0->es-core-news-sm==3.4.0) (3.0.10)\n",
            "Requirement already satisfied: cymem<2.1.0,>=2.0.2 in /usr/local/lib/python3.7/dist-packages (from spacy<3.5.0,>=3.4.0->es-core-news-sm==3.4.0) (2.0.7)\n",
            "Requirement already satisfied: catalogue<2.1.0,>=2.0.6 in /usr/local/lib/python3.7/dist-packages (from spacy<3.5.0,>=3.4.0->es-core-news-sm==3.4.0) (2.0.8)\n",
            "Requirement already satisfied: zipp>=0.5 in /usr/local/lib/python3.7/dist-packages (from catalogue<2.1.0,>=2.0.6->spacy<3.5.0,>=3.4.0->es-core-news-sm==3.4.0) (3.10.0)\n",
            "Requirement already satisfied: pyparsing!=3.0.5,>=2.0.2 in /usr/local/lib/python3.7/dist-packages (from packaging>=20.0->spacy<3.5.0,>=3.4.0->es-core-news-sm==3.4.0) (3.0.9)\n",
            "Requirement already satisfied: smart-open<6.0.0,>=5.2.1 in /usr/local/lib/python3.7/dist-packages (from pathy>=0.3.5->spacy<3.5.0,>=3.4.0->es-core-news-sm==3.4.0) (5.2.1)\n",
            "Requirement already satisfied: idna<3,>=2.5 in /usr/local/lib/python3.7/dist-packages (from requests<3.0.0,>=2.13.0->spacy<3.5.0,>=3.4.0->es-core-news-sm==3.4.0) (2.10)\n",
            "Requirement already satisfied: urllib3!=1.25.0,!=1.25.1,<1.26,>=1.21.1 in /usr/local/lib/python3.7/dist-packages (from requests<3.0.0,>=2.13.0->spacy<3.5.0,>=3.4.0->es-core-news-sm==3.4.0) (1.24.3)\n",
            "Requirement already satisfied: chardet<4,>=3.0.2 in /usr/local/lib/python3.7/dist-packages (from requests<3.0.0,>=2.13.0->spacy<3.5.0,>=3.4.0->es-core-news-sm==3.4.0) (3.0.4)\n",
            "Requirement already satisfied: certifi>=2017.4.17 in /usr/local/lib/python3.7/dist-packages (from requests<3.0.0,>=2.13.0->spacy<3.5.0,>=3.4.0->es-core-news-sm==3.4.0) (2022.9.24)\n",
            "Requirement already satisfied: blis<0.8.0,>=0.7.8 in /usr/local/lib/python3.7/dist-packages (from thinc<8.2.0,>=8.1.0->spacy<3.5.0,>=3.4.0->es-core-news-sm==3.4.0) (0.7.9)\n",
            "Requirement already satisfied: confection<1.0.0,>=0.0.1 in /usr/local/lib/python3.7/dist-packages (from thinc<8.2.0,>=8.1.0->spacy<3.5.0,>=3.4.0->es-core-news-sm==3.4.0) (0.0.3)\n",
            "Requirement already satisfied: click<9.0.0,>=7.1.1 in /usr/local/lib/python3.7/dist-packages (from typer<0.5.0,>=0.3.0->spacy<3.5.0,>=3.4.0->es-core-news-sm==3.4.0) (7.1.2)\n",
            "Requirement already satisfied: MarkupSafe>=0.23 in /usr/local/lib/python3.7/dist-packages (from jinja2->spacy<3.5.0,>=3.4.0->es-core-news-sm==3.4.0) (2.0.1)\n",
            "\u001b[38;5;2m✔ Download and installation successful\u001b[0m\n",
            "You can now load the package via spacy.load('es_core_news_sm')\n"
          ]
        }
      ]
    },
    {
      "cell_type": "code",
      "metadata": {
        "id": "DEgsyhw5zPSw",
        "colab": {
          "base_uri": "https://localhost:8080/"
        },
        "outputId": "7084b80a-c181-414e-d4bb-7f3b3835502e"
      },
      "source": [
        "import es_core_news_sm\n",
        "nlp_es = es_core_news_sm.load()"
      ],
      "execution_count": 6,
      "outputs": [
        {
          "output_type": "stream",
          "name": "stderr",
          "text": [
            "/usr/local/lib/python3.7/dist-packages/spacy/language.py:1899: UserWarning: [W123] Argument disable with value [] is used instead of ['senter'] as specified in the config. Be aware that this might affect other components in your pipeline.\n",
            "  config_value=config[\"nlp\"][key],\n"
          ]
        }
      ]
    },
    {
      "cell_type": "markdown",
      "metadata": {
        "id": "lUrX7zTP541N"
      },
      "source": [
        "## Actividad 1: Tokenización\n",
        "\n",
        "Tomando en cuenta este texto de entrada:"
      ]
    },
    {
      "cell_type": "code",
      "metadata": {
        "id": "V2s7f94P6zPR"
      },
      "source": [
        "chilean_text = \"\"\"\n",
        "\n",
        "La gasolina en Chile ha superado los $1.000, alcanzando una alza de precio sostenida del 1,19% mensual. \n",
        "¡La gente está desesperada por llenar sus estanques!.\n",
        "\n",
        "\"\"\""
      ],
      "execution_count": 7,
      "outputs": []
    },
    {
      "cell_type": "markdown",
      "metadata": {
        "id": "Xrnnib8GAM2p"
      },
      "source": [
        "Y la siguiente función tokenizadora que utiliza expresiones regulares:"
      ]
    },
    {
      "cell_type": "code",
      "metadata": {
        "id": "F0e0icY16b9w"
      },
      "source": [
        "# Corrígeme\n",
        "pattern = r\"\"\"(?x)                   # set flag to allow verbose regexps\n",
        "              (?:[A-Z]\\.)+           # abbreviations, e.g. U.S.A.\n",
        "              |\\d+(?:\\.\\d+)?%?       # numbers, incl. currency and percentages\n",
        "              |\\w+(?:[-']\\w+)*       # words w/ optional internal hyphens/apostrophe\n",
        "              |(?:[+/\\-@&*])         # special characters with meanings\n",
        "            \"\"\"\n",
        "\n",
        "def tokenizer(text):\n",
        "  return nltk.regexp_tokenize(text, pattern)"
      ],
      "execution_count": 8,
      "outputs": []
    },
    {
      "cell_type": "markdown",
      "metadata": {
        "id": "74ysQoUsAN6E"
      },
      "source": [
        "Tokenice el texto utilizando la función, detecte los errores y corríjalos."
      ]
    },
    {
      "cell_type": "code",
      "metadata": {
        "id": "_FHuZgPt6jTf",
        "colab": {
          "base_uri": "https://localhost:8080/"
        },
        "outputId": "9a8e0b11-780a-48a4-c627-0f51f61c8b04"
      },
      "source": [
        "tokenizer(chilean_text)"
      ],
      "execution_count": 9,
      "outputs": [
        {
          "output_type": "execute_result",
          "data": {
            "text/plain": [
              "['La',\n",
              " 'gasolina',\n",
              " 'en',\n",
              " 'Chile',\n",
              " 'ha',\n",
              " 'superado',\n",
              " 'los',\n",
              " '1.000',\n",
              " 'alcanzando',\n",
              " 'una',\n",
              " 'alza',\n",
              " 'de',\n",
              " 'precio',\n",
              " 'sostenida',\n",
              " 'del',\n",
              " '1',\n",
              " '19%',\n",
              " 'mensual',\n",
              " 'La',\n",
              " 'gente',\n",
              " 'está',\n",
              " 'desesperada',\n",
              " 'por',\n",
              " 'llenar',\n",
              " 'sus',\n",
              " 'estanques']"
            ]
          },
          "metadata": {},
          "execution_count": 9
        }
      ]
    },
    {
      "cell_type": "markdown",
      "metadata": {
        "id": "dSwBrmUC7JlY"
      },
      "source": [
        "## Actividad 2: Stopwords\n",
        "\n",
        "Compare las listas de stopwords asociadas a las 2 bibliotecas utiilizadas y enuncie las diferencias que pueda encontrar entre ellas."
      ]
    },
    {
      "cell_type": "code",
      "metadata": {
        "id": "8no_PqUaxwHK"
      },
      "source": [
        "# Así cargamos las listas de stopwords\n",
        "nltk_stopwords = nltk.corpus.stopwords.words('spanish')\n",
        "spacy_stopwords = spacy.lang.es.stop_words.STOP_WORDS"
      ],
      "execution_count": 10,
      "outputs": []
    },
    {
      "cell_type": "code",
      "metadata": {
        "id": "Zzt5j6yO8WTy"
      },
      "source": [
        "# Programa\n",
        "#\n",
        "#\n",
        "#"
      ],
      "execution_count": 11,
      "outputs": []
    },
    {
      "cell_type": "markdown",
      "metadata": {
        "id": "Zy5U4oej8gRY"
      },
      "source": [
        "## Actividad 3: Stemming y lematización\n",
        "\n",
        "Dada una lista de conjuntos de palabras (raw_words) lematice y realice stemming sobre cada palabra y compare los resultados asociados a cada conjunto de palabras."
      ]
    },
    {
      "cell_type": "code",
      "metadata": {
        "id": "fwksZcviyXOA"
      },
      "source": [
        "raw_words = [\n",
        "             (\"fly\",\"flies\",\"flying\"),\n",
        "             (\"organize\",\"organizes\",\"organizing\"),\n",
        "             (\"universe\",\"university\")\n",
        "]"
      ],
      "execution_count": 12,
      "outputs": []
    },
    {
      "cell_type": "code",
      "metadata": {
        "id": "bwOOHTp8z9F7"
      },
      "source": [
        "# Así instanciamos el stemmer y lematizador\n",
        "\n",
        "stemmer = nltk.stem.SnowballStemmer(\"english\")\n",
        "lemmatizer = nltk.stem.WordNetLemmatizer()"
      ],
      "execution_count": 13,
      "outputs": []
    },
    {
      "cell_type": "code",
      "metadata": {
        "id": "FXtJc9Pe9gH_",
        "colab": {
          "base_uri": "https://localhost:8080/",
          "height": 35
        },
        "outputId": "79978479-b2fd-45f5-f960-1e9f047f1c14"
      },
      "source": [
        "stemmer.stem(\"flies\")"
      ],
      "execution_count": 14,
      "outputs": [
        {
          "output_type": "execute_result",
          "data": {
            "text/plain": [
              "'fli'"
            ],
            "application/vnd.google.colaboratory.intrinsic+json": {
              "type": "string"
            }
          },
          "metadata": {},
          "execution_count": 14
        }
      ]
    },
    {
      "cell_type": "code",
      "metadata": {
        "id": "x4pXMjBl9jOM",
        "colab": {
          "base_uri": "https://localhost:8080/",
          "height": 35
        },
        "outputId": "dcbe01d5-daa0-43a6-d788-ae6b95e33f61"
      },
      "source": [
        "lemmatizer.lemmatize(\"flies\")"
      ],
      "execution_count": 15,
      "outputs": [
        {
          "output_type": "execute_result",
          "data": {
            "text/plain": [
              "'fly'"
            ],
            "application/vnd.google.colaboratory.intrinsic+json": {
              "type": "string"
            }
          },
          "metadata": {},
          "execution_count": 15
        }
      ]
    },
    {
      "cell_type": "code",
      "metadata": {
        "id": "LFyhrUhC9p32"
      },
      "source": [
        "# Programa\n",
        "#\n",
        "#\n",
        "#"
      ],
      "execution_count": 16,
      "outputs": []
    },
    {
      "cell_type": "markdown",
      "metadata": {
        "id": "kv_R4_O0-CjQ"
      },
      "source": [
        "# Actividad 4: TF-IDF\n",
        "\n",
        "Utilizando el corpus newsgroups.data crea una matrix de términos y documentos utilizando tf-idf.\n",
        "\n",
        "Utiliza la implementación que tiene sklearn de este método. Acá está la documentación.\n",
        "\n",
        "https://scikit-learn.org/stable/modules/generated/sklearn.feature_extraction.text.TfidfVectorizer.html\n",
        "\n",
        "- Después de generar la matrix, explora los valores de idf de las palabras, ¿Qué conclusión puedes esbozar al observar las palabras con mayor y menor idf?\n",
        "\n",
        "- Establece un umbral máximo de frecuencia de documentos y verifica qué stop words se encuentran."
      ]
    },
    {
      "cell_type": "code",
      "metadata": {
        "id": "XDXn4edz941X"
      },
      "source": [
        "remove = ('headers', 'footers', 'quotes')\n",
        "categories = ['alt.atheism', 'talk.religion.misc', 'comp.graphics', 'sci.space']\n",
        "newsgroups = sklearn.datasets.fetch_20newsgroups(remove=remove,categories=categories)"
      ],
      "execution_count": 17,
      "outputs": []
    },
    {
      "cell_type": "code",
      "metadata": {
        "id": "gyeQbypb7xVE",
        "colab": {
          "base_uri": "https://localhost:8080/"
        },
        "outputId": "a5b975eb-6284-4974-ce85-2f797b434036"
      },
      "source": [
        "print(newsgroups.data[0])"
      ],
      "execution_count": 18,
      "outputs": [
        {
          "output_type": "stream",
          "name": "stdout",
          "text": [
            "Hi,\n",
            "\n",
            "I've noticed that if you only save a model (with all your mapping planes\n",
            "positioned carefully) to a .3DS file that when you reload it after restarting\n",
            "3DS, they are given a default position and orientation.  But if you save\n",
            "to a .PRJ file their positions/orientation are preserved.  Does anyone\n",
            "know why this information is not stored in the .3DS file?  Nothing is\n",
            "explicitly said in the manual about saving texture rules in the .PRJ file. \n",
            "I'd like to be able to read the texture rule information, does anyone have \n",
            "the format for the .PRJ file?\n",
            "\n",
            "Is the .CEL file format available from somewhere?\n",
            "\n",
            "Rych\n"
          ]
        }
      ]
    },
    {
      "cell_type": "code",
      "metadata": {
        "id": "DvbaY4aL76cB"
      },
      "source": [
        "tfidf_vectorizer = sklearn.feature_extraction.text.TfidfVectorizer(stop_words=\"english\")\n",
        "# TODO: Transformar el corpus en una matriz de terminos y documentos utilizando tfidf"
      ],
      "execution_count": 19,
      "outputs": []
    },
    {
      "cell_type": "markdown",
      "metadata": {
        "id": "lG9WfBMw9hSQ"
      },
      "source": [
        "## Ejemplo: Wordcloud\n",
        "\n",
        "Una manera sencilla y útil de visualizar un cuerpo de texto es utilizar una nube de palabras. Esta visualización representa las palabras contenidas en un texto y codifica su tamaño en función de una métrica de peso de las palabras (frecuencia bruta o tf-idf), de esta manera palabras \"más importantes\" se visualizan más grandes."
      ]
    },
    {
      "cell_type": "code",
      "metadata": {
        "id": "PJTNUBQI9aJU",
        "colab": {
          "base_uri": "https://localhost:8080/",
          "height": 303
        },
        "outputId": "a2a47446-afb9-4663-c08c-1c3884f7dc61"
      },
      "source": [
        "description = \"Un texto de prueba para mi primer wordcloud en el todo el mundo, espero que logre repetir algunas palabras\"\n",
        "wordcloud = wordcloud.WordCloud(width=1600, height=800).generate(description)\n",
        "plt.figure(figsize=(10,5))\n",
        "plt.imshow(wordcloud)\n",
        "plt.axis(\"off\")\n",
        "plt.show()"
      ],
      "execution_count": 20,
      "outputs": [
        {
          "output_type": "display_data",
          "data": {
            "text/plain": [
              "<Figure size 720x360 with 1 Axes>"
            ],
            "image/png": "[encoded data removed]"
          },
          "metadata": {
            "needs_background": "light"
          }
        }
      ]
    },
    {
      "cell_type": "markdown",
      "metadata": {
        "id": "wT3otjGZ-iRt"
      },
      "source": [
        "## Actividad 5: Analizando la lista de espera chilena\n",
        "\n",
        "El conjunto de datos aysen contiene todas las interconsultas que se realizan desde los consultorios hacia los hospitales de la región de aysén, este conjunto de datos contiene sospechas diagnósticas en texto libre. \n",
        "\n",
        "Desde el conjunto de datos aysen realice las siguientes tareas:\n",
        "\n",
        "1.   Construya un wordcloud en donde se visualice la columna SOSPECHA_DIAG de la región.\n",
        "2.   Construya un wordcloud con una máscara de forma utilizando la misma columna anterior (https://amueller.github.io/word_cloud/auto_examples/masked.html#sphx-glr-auto-examples-masked-py).\n",
        "3.   Proponga algún tipo de filtrado para mejorar la información a comunicar a través de la nube de palabras\n",
        "4.   Pondere el tamaño de las palabras según otra métrica (hint: ¿tf o idf?)\n",
        "\n"
      ]
    },
    {
      "cell_type": "code",
      "metadata": {
        "id": "3ajs8z7b-AkE",
        "colab": {
          "base_uri": "https://localhost:8080/"
        },
        "outputId": "d8e8a434-b423-4b29-a373-186ab38ad6a8"
      },
      "source": [
        "aysen = pd.read_csv(\"aysen.csv\", sep=';')"
      ],
      "execution_count": 21,
      "outputs": [
        {
          "output_type": "stream",
          "name": "stderr",
          "text": [
            "/usr/local/lib/python3.7/dist-packages/IPython/core/interactiveshell.py:3326: DtypeWarning: Columns (0) have mixed types.Specify dtype option on import or set low_memory=False.\n",
            "  exec(code_obj, self.user_global_ns, self.user_ns)\n"
          ]
        }
      ]
    },
    {
      "cell_type": "code",
      "metadata": {
        "id": "M3-JrxENAB2k",
        "colab": {
          "base_uri": "https://localhost:8080/",
          "height": 461
        },
        "outputId": "d320e378-d5ea-428e-8867-ec6d3a2beeed"
      },
      "source": [
        "aysen.head()"
      ],
      "execution_count": 22,
      "outputs": [
        {
          "output_type": "execute_result",
          "data": {
            "text/plain": [
              "  FECHA_NAC  SEXO PRESTA_MIN  PLANO  EXTREMIDAD  \\\n",
              "0      1985     2   09-001-0    NaN         NaN   \n",
              "1      1946     1   09-004-0    NaN         NaN   \n",
              "2      1937     2   09-006-0    NaN         NaN   \n",
              "3      1955     2   07-208-0    NaN         NaN   \n",
              "4      1997     2   09-001-0    NaN         NaN   \n",
              "\n",
              "                           PRESTA_EST F_ENTRADA ESTAB_ORIG ESTAB_DEST  \\\n",
              "0                          ENDODONCIA  31-12-17     25-301     25-100   \n",
              "1                         PERIODONCIA  31-12-17     25-301     25-100   \n",
              "2  REHABILITACION: PROTESIS REMOVIBLE  31-12-17     25-301     25-100   \n",
              "3                        NEUROCIRUGIA  30-12-17     25-300     25-100   \n",
              "4                          ENDODONCIA  30-12-17     25-301     25-100   \n",
              "\n",
              "              F_SALIDA  C_SALIDA E_OTOR_AT PRESTA_MIN_SALIDA  REGION  COMUNA  \\\n",
              "0                  NaN       NaN       NaN               NaN      11   11101   \n",
              "1                  NaN       NaN       NaN               NaN      11   11101   \n",
              "2  2018-01-03 00:00:00       1.0    25-100          09-006-0      11   11101   \n",
              "3                  NaN       NaN       NaN               NaN      11   11101   \n",
              "4                  NaN       NaN       NaN               NaN      11   11101   \n",
              "\n",
              "                                       SOSPECHA_DIAG  \n",
              "0                        Celulitis y absceso de boca  \n",
              "1                              Periodontitis cronica  \n",
              "2  Otras afecciones especificadas de los dientes ...  \n",
              "3  Trastornos de disco lumbar y otros, con radicu...  \n",
              "4                        Celulitis y absceso de boca  "
            ],
            "text/html": [
              "\n",
              "  <div id=\"df-a2017755-0d54-413f-957b-d60015a1c57b\">\n",
              "    <div class=\"colab-df-container\">\n",
              "      <div>\n",
              "<style scoped>\n",
              "    .dataframe tbody tr th:only-of-type {\n",
              "        vertical-align: middle;\n",
              "    }\n",
              "\n",
              "    .dataframe tbody tr th {\n",
              "        vertical-align: top;\n",
              "    }\n",
              "\n",
              "    .dataframe thead th {\n",
              "        text-align: right;\n",
              "    }\n",
              "</style>\n",
              "<table border=\"1\" class=\"dataframe\">\n",
              "  <thead>\n",
              "    <tr style=\"text-align: right;\">\n",
              "      <th></th>\n",
              "      <th>FECHA_NAC</th>\n",
              "      <th>SEXO</th>\n",
              "      <th>PRESTA_MIN</th>\n",
              "      <th>PLANO</th>\n",
              "      <th>EXTREMIDAD</th>\n",
              "      <th>PRESTA_EST</th>\n",
              "      <th>F_ENTRADA</th>\n",
              "      <th>ESTAB_ORIG</th>\n",
              "      <th>ESTAB_DEST</th>\n",
              "      <th>F_SALIDA</th>\n",
              "      <th>C_SALIDA</th>\n",
              "      <th>E_OTOR_AT</th>\n",
              "      <th>PRESTA_MIN_SALIDA</th>\n",
              "      <th>REGION</th>\n",
              "      <th>COMUNA</th>\n",
              "      <th>SOSPECHA_DIAG</th>\n",
              "    </tr>\n",
              "  </thead>\n",
              "  <tbody>\n",
              "    <tr>\n",
              "      <th>0</th>\n",
              "      <td>1985</td>\n",
              "      <td>2</td>\n",
              "      <td>09-001-0</td>\n",
              "      <td>NaN</td>\n",
              "      <td>NaN</td>\n",
              "      <td>ENDODONCIA</td>\n",
              "      <td>31-12-17</td>\n",
              "      <td>25-301</td>\n",
              "      <td>25-100</td>\n",
              "      <td>NaN</td>\n",
              "      <td>NaN</td>\n",
              "      <td>NaN</td>\n",
              "      <td>NaN</td>\n",
              "      <td>11</td>\n",
              "      <td>11101</td>\n",
              "      <td>Celulitis y absceso de boca</td>\n",
              "    </tr>\n",
              "    <tr>\n",
              "      <th>1</th>\n",
              "      <td>1946</td>\n",
              "      <td>1</td>\n",
              "      <td>09-004-0</td>\n",
              "      <td>NaN</td>\n",
              "      <td>NaN</td>\n",
              "      <td>PERIODONCIA</td>\n",
              "      <td>31-12-17</td>\n",
              "      <td>25-301</td>\n",
              "      <td>25-100</td>\n",
              "      <td>NaN</td>\n",
              "      <td>NaN</td>\n",
              "      <td>NaN</td>\n",
              "      <td>NaN</td>\n",
              "      <td>11</td>\n",
              "      <td>11101</td>\n",
              "      <td>Periodontitis cronica</td>\n",
              "    </tr>\n",
              "    <tr>\n",
              "      <th>2</th>\n",
              "      <td>1937</td>\n",
              "      <td>2</td>\n",
              "      <td>09-006-0</td>\n",
              "      <td>NaN</td>\n",
              "      <td>NaN</td>\n",
              "      <td>REHABILITACION: PROTESIS REMOVIBLE</td>\n",
              "      <td>31-12-17</td>\n",
              "      <td>25-301</td>\n",
              "      <td>25-100</td>\n",
              "      <td>2018-01-03 00:00:00</td>\n",
              "      <td>1.0</td>\n",
              "      <td>25-100</td>\n",
              "      <td>09-006-0</td>\n",
              "      <td>11</td>\n",
              "      <td>11101</td>\n",
              "      <td>Otras afecciones especificadas de los dientes ...</td>\n",
              "    </tr>\n",
              "    <tr>\n",
              "      <th>3</th>\n",
              "      <td>1955</td>\n",
              "      <td>2</td>\n",
              "      <td>07-208-0</td>\n",
              "      <td>NaN</td>\n",
              "      <td>NaN</td>\n",
              "      <td>NEUROCIRUGIA</td>\n",
              "      <td>30-12-17</td>\n",
              "      <td>25-300</td>\n",
              "      <td>25-100</td>\n",
              "      <td>NaN</td>\n",
              "      <td>NaN</td>\n",
              "      <td>NaN</td>\n",
              "      <td>NaN</td>\n",
              "      <td>11</td>\n",
              "      <td>11101</td>\n",
              "      <td>Trastornos de disco lumbar y otros, con radicu...</td>\n",
              "    </tr>\n",
              "    <tr>\n",
              "      <th>4</th>\n",
              "      <td>1997</td>\n",
              "      <td>2</td>\n",
              "      <td>09-001-0</td>\n",
              "      <td>NaN</td>\n",
              "      <td>NaN</td>\n",
              "      <td>ENDODONCIA</td>\n",
              "      <td>30-12-17</td>\n",
              "      <td>25-301</td>\n",
              "      <td>25-100</td>\n",
              "      <td>NaN</td>\n",
              "      <td>NaN</td>\n",
              "      <td>NaN</td>\n",
              "      <td>NaN</td>\n",
              "      <td>11</td>\n",
              "      <td>11101</td>\n",
              "      <td>Celulitis y absceso de boca</td>\n",
              "    </tr>\n",
              "  </tbody>\n",
              "</table>\n",
              "</div>\n",
              "      <button class=\"colab-df-convert\" onclick=\"convertToInteractive('df-a2017755-0d54-413f-957b-d60015a1c57b')\"\n",
              "              title=\"Convert this dataframe to an interactive table.\"\n",
              "              style=\"display:none;\">\n",
              "        \n",
              "  <svg xmlns=\"http://www.w3.org/2000/svg\" height=\"24px\"viewBox=\"0 0 24 24\"\n",
              "       width=\"24px\">\n",
              "    <path d=\"M0 0h24v24H0V0z\" fill=\"none\"/>\n",
              "    <path d=\"M18.56 5.44l.94 2.06.94-2.06 2.06-.94-2.06-.94-.94-2.06-.94 2.06-2.06.94zm-11 1L8.5 8.5l.94-2.06 2.06-.94-2.06-.94L8.5 2.5l-.94 2.06-2.06.94zm10 10l.94 2.06.94-2.06 2.06-.94-2.06-.94-.94-2.06-.94 2.06-2.06.94z\"/><path d=\"M17.41 7.96l-1.37-1.37c-.4-.4-.92-.59-1.43-.59-.52 0-1.04.2-1.43.59L10.3 9.45l-7.72 7.72c-.78.78-.78 2.05 0 2.83L4 21.41c.39.39.9.59 1.41.59.51 0 1.02-.2 1.41-.59l7.78-7.78 2.81-2.81c.8-.78.8-2.07 0-2.86zM5.41 20L4 18.59l7.72-7.72 1.47 1.35L5.41 20z\"/>\n",
              "  </svg>\n",
              "      </button>\n",
              "      \n",
              "  <style>\n",
              "    .colab-df-container {\n",
              "      display:flex;\n",
              "      flex-wrap:wrap;\n",
              "      gap: 12px;\n",
              "    }\n",
              "\n",
              "    .colab-df-convert {\n",
              "      background-color: #E8F0FE;\n",
              "      border: none;\n",
              "      border-radius: 50%;\n",
              "      cursor: pointer;\n",
              "      display: none;\n",
              "      fill: #1967D2;\n",
              "      height: 32px;\n",
              "      padding: 0 0 0 0;\n",
              "      width: 32px;\n",
              "    }\n",
              "\n",
              "    .colab-df-convert:hover {\n",
              "      background-color: #E2EBFA;\n",
              "      box-shadow: 0px 1px 2px rgba(60, 64, 67, 0.3), 0px 1px 3px 1px rgba(60, 64, 67, 0.15);\n",
              "      fill: #174EA6;\n",
              "    }\n",
              "\n",
              "    [theme=dark] .colab-df-convert {\n",
              "      background-color: #3B4455;\n",
              "      fill: #D2E3FC;\n",
              "    }\n",
              "\n",
              "    [theme=dark] .colab-df-convert:hover {\n",
              "      background-color: #434B5C;\n",
              "      box-shadow: 0px 1px 3px 1px rgba(0, 0, 0, 0.15);\n",
              "      filter: drop-shadow(0px 1px 2px rgba(0, 0, 0, 0.3));\n",
              "      fill: #FFFFFF;\n",
              "    }\n",
              "  </style>\n",
              "\n",
              "      <script>\n",
              "        const buttonEl =\n",
              "          document.querySelector('#df-a2017755-0d54-413f-957b-d60015a1c57b button.colab-df-convert');\n",
              "        buttonEl.style.display =\n",
              "          google.colab.kernel.accessAllowed ? 'block' : 'none';\n",
              "\n",
              "        async function convertToInteractive(key) {\n",
              "          const element = document.querySelector('#df-a2017755-0d54-413f-957b-d60015a1c57b');\n",
              "          const dataTable =\n",
              "            await google.colab.kernel.invokeFunction('convertToInteractive',\n",
              "                                                     [key], {});\n",
              "          if (!dataTable) return;\n",
              "\n",
              "          const docLinkHtml = 'Like what you see? Visit the ' +\n",
              "            '<a target=\"_blank\" href=https://colab.research.google.com/notebooks/data_table.ipynb>data table notebook</a>'\n",
              "            + ' to learn more about interactive tables.';\n",
              "          element.innerHTML = '';\n",
              "          dataTable['output_type'] = 'display_data';\n",
              "          await google.colab.output.renderOutput(dataTable, element);\n",
              "          const docLink = document.createElement('div');\n",
              "          docLink.innerHTML = docLinkHtml;\n",
              "          element.appendChild(docLink);\n",
              "        }\n",
              "      </script>\n",
              "    </div>\n",
              "  </div>\n",
              "  "
            ]
          },
          "metadata": {},
          "execution_count": 22
        }
      ]
    },
    {
      "cell_type": "code",
      "metadata": {
        "id": "peT6_srf--Bx"
      },
      "source": [
        "# Programa\n",
        "#\n",
        "#\n",
        "#"
      ],
      "execution_count": 23,
      "outputs": []
    },
    {
      "cell_type": "code",
      "source": [],
      "metadata": {
        "id": "r_Orng9jPYUI"
      },
      "execution_count": 23,
      "outputs": []
    }
  ]
}